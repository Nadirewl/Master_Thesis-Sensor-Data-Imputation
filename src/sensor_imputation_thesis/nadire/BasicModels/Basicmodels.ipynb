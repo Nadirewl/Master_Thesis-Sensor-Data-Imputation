{
 "cells": [
  {
   "cell_type": "code",
   "execution_count": 3,
   "id": "8eba9aad",
   "metadata": {},
   "outputs": [],
   "source": [
    "import sensor_imputation_thesis.shared.load_data as load\n",
    "from data_insight import setup_duckdb\n",
    "from duckdb import DuckDBPyConnection as DuckDB\n",
    "import pandas as pd\n",
    "from duckdb import DuckDBPyRelation as Relation\n",
    "from pathlib import Path\n",
    "import hashlib"
   ]
  },
  {
   "cell_type": "code",
   "execution_count": 1,
   "id": "e18d95cb",
   "metadata": {},
   "outputs": [],
   "source": [
    "import sys\n",
    "\n",
    "sys.path.append(\"/home/ec2-user/SageMaker/sensor-imputation-thesis\")\n"
   ]
  },
  {
   "cell_type": "code",
   "execution_count": 4,
   "id": "d3804db7",
   "metadata": {},
   "outputs": [
    {
     "name": "stdout",
     "output_type": "stream",
     "text": [
      ">>> con.sql(\"SHOW TABLES;\")\n",
      "┌────────────┐\n",
      "│    name    │\n",
      "│  varchar   │\n",
      "├────────────┤\n",
      "│ shipinfo   │\n",
      "│ timeseries │\n",
      "└────────────┘\n",
      "\n",
      "\n",
      ">>> con.sql(\"DESCRIBE shipinfo;\")\n",
      "┌──────────────────────────────────────────────┬───────────────────────────────────────────────────────────────────────────────┬─────────┬─────────┬─────────┬─────────┐\n",
      "│                 column_name                  │                                  column_type                                  │  null   │   key   │ default │  extra  │\n",
      "│                   varchar                    │                                    varchar                                    │ varchar │ varchar │ varchar │ varchar │\n",
      "├──────────────────────────────────────────────┼───────────────────────────────────────────────────────────────────────────────┼─────────┼─────────┼─────────┼─────────┤\n",
      "│ information_validity                         │ VARCHAR                                                                       │ YES     │ NULL    │ NULL    │ NULL    │\n",
      "│ imo_no                                       │ VARCHAR                                                                       │ YES     │ NULL    │ NULL    │ NULL    │\n",
      "│ ship_name                                    │ VARCHAR                                                                       │ YES     │ NULL    │ NULL    │ NULL    │\n",
      "│ dsO_Sea_trial_date                           │ VARCHAR                                                                       │ YES     │ NULL    │ NULL    │ NULL    │\n",
      "│ hull_no                                      │ VARCHAR                                                                       │ YES     │ NULL    │ NULL    │ NULL    │\n",
      "│ engine_no                                    │ VARCHAR                                                                       │ YES     │ NULL    │ NULL    │ NULL    │\n",
      "│ designSpecId                                 │ VARCHAR                                                                       │ YES     │ NULL    │ NULL    │ NULL    │\n",
      "│ cylinders                                    │ VARCHAR                                                                       │ YES     │ NULL    │ NULL    │ NULL    │\n",
      "│ engine_type                                  │ VARCHAR                                                                       │ YES     │ NULL    │ NULL    │ NULL    │\n",
      "│ licensee                                     │ VARCHAR                                                                       │ YES     │ NULL    │ NULL    │ NULL    │\n",
      "│    ·                                         │    ·                                                                          │  ·      │  ·      │  ·      │  ·      │\n",
      "│    ·                                         │    ·                                                                          │  ·      │  ·      │  ·      │  ·      │\n",
      "│    ·                                         │    ·                                                                          │  ·      │  ·      │  ·      │  ·      │\n",
      "│ min_Speed_for_PTO_Operation_rpm              │ VARCHAR                                                                       │ YES     │ NULL    │ NULL    │ NULL    │\n",
      "│ minimum_Light_Runnin_Margin_LRM              │ VARCHAR                                                                       │ YES     │ NULL    │ NULL    │ NULL    │\n",
      "│ recommendation_on_ECS_PMS_interface_option_C │ VARCHAR                                                                       │ YES     │ NULL    │ NULL    │ NULL    │\n",
      "│ maker_of_power_management_system             │ VARCHAR                                                                       │ YES     │ NULL    │ NULL    │ NULL    │\n",
      "│ application_of_ECS_PMS_interface_option_C    │ VARCHAR                                                                       │ YES     │ NULL    │ NULL    │ NULL    │\n",
      "│ shorT_CRANKSHAFT_FORE_END                    │ VARCHAR                                                                       │ YES     │ NULL    │ NULL    │ NULL    │\n",
      "│ ptO_TEST_WITH_DISCONNECTED_PROPELLER         │ VARCHAR                                                                       │ YES     │ NULL    │ NULL    │ NULL    │\n",
      "│ opportunitY_ID                               │ VARCHAR                                                                       │ YES     │ NULL    │ NULL    │ NULL    │\n",
      "│ active_NOx_Engine_Group                      │ VARCHAR                                                                       │ YES     │ NULL    │ NULL    │ NULL    │\n",
      "│ mmsi                                         │ STRUCT(seqno VARCHAR, callsign VARCHAR, mmsi VARCHAR, effective_date VARCHAR) │ YES     │ NULL    │ NULL    │ NULL    │\n",
      "├──────────────────────────────────────────────┴───────────────────────────────────────────────────────────────────────────────┴─────────┴─────────┴─────────┴─────────┤\n",
      "│ 286 rows (20 shown)                                                                                                                                        6 columns │\n",
      "└──────────────────────────────────────────────────────────────────────────────────────────────────────────────────────────────────────────────────────────────────────┘\n",
      "\n",
      "\n",
      ">>> con.sql(\"FROM shipinfo SELECT * LIMIT 1;\")\n",
      "┌──────────────────────┬──────────────────────────────────┬──────────────────────────────────┬────────────────────┬──────────────────────────────────┬──────────────────────────────────┬──────────────────────────────────┬───────────┬─────────────┬──────────┬──────────────────┬───────────┬───────────────────┬─────────────┬───────────────────────────────┬──────────────────┬───────────┬───────────────────────────────────────┬────────────────────────────┬────────────────────┬──────────────────────────────────┬─────────────────────────┬──────────────────────────┬────────────────────────────────┬────────────────────────────┬──────────────────────────────────┬──────────────────────────────┬───────────────────────────────┬─────────────────────────────┬──────────────────────────────────────┬─────────────────────────┬──────────────────────────────────────────┬────────────────────────┬──────────────────────────────────────────────┬────────────────────────────┬───────────────────────────┬─────────────────────────────────┬─────────────────────────────────────┬──────────────────────────────────┬─────────────────┬─────────────────────────────────────┬───────────────────────────────────────┬────────────┬────────────────┬──────────────────────────────┬──────────────────────────────┬───────────────────────────────────┬─────────────────────────────────────┬───────────────────────────────┬────────────────┬─────────────┬─────────────────────┬───────────────────────────────┬────────────────────────────┬─────────────┬────────────────────────────┬───────────────────────┬──────────────────────────────┬───────────────────────────────────────┬─────────────────────────────────────┬───────────────────────┬──────────────────────────────┬──────────────────────────────────────┬────────────────┬────────────────┬────────────────────────┬─────────────────────────────────┬───────────────────────────────────┬───────────────────────────────────────────┬───────────────────────────────────┬────────────────────────────────────┬─────────────────────────┬─────────────────────────────────────┬───────────────────────────────────────────┬───────────────────────┬───────────────────┬──────────────────────┬──────────────────────────────┬────────────────────────────────────────────────┬─────────────────────────┬────────────────┬──────────┬────────────────────┬────────────────────────┬────────────────┬───────────────────┬────────────┬─────────┬─────────────┬─────────────┬─────────┬────────────┬──────────┬──────────────┬─────────────┬────────────────┬───────────────────┬──────────────────────────────────┬───────────────┬────────────────┬───────────────┬──────────────────┬─────────┬────────────────────────────────┬──────────────────┬──────────┬─────────┬────────────────────┬─────────────────┬───────────────────┬────────────┬───────────────┬───────────────┬────────────┬──────────────────┬─────────────────┬─────────────────────┬────────────────────┬──────────────────────┬──────────────────┬────────────┬───────────────┬──────────────────┬───────────────┬─────────────┬────────────┬───────────────┬───────────────┬─────────────────┬──────────────────────────────────┬──────────────────────────────────┬──────────────┬───────────┬──────────────────────┬────────────┬───────────┬─────────┬─────────────┬────────────┬───────────────────────┬──────────────────────────────────┬──────────────────────────────────┬──────────────────────────────────┬──────────────────────────────────┬──────────────────────────────────┬──────────────────────────────────┬──────────────────────────────────┬──────────────────────────────────┬──────────────────────────────────┬──────────────────────────────────┬──────────────────────────────────┬────────────────┬──────────────┬─────────────┬───────────────────────┬──────────────┬────────────────────────────────┬──────────────────────────────────┬──────────────────┬────────────────────────────────────────┬───────────────┬─────────────────────┬─────────────────┬───────────────┬─────────────────┬───────────────────────────────────────────────┬──────────────────────────────────────────────┬─────────┬───────────────────────────────────┬────────────────────────┬──────────────────────┬───────────────────────────────────────────────────────────────┬───────────────────────────────────────────────────┬───────────────────────────────┬───────────────────────────────────┬──────────────────────────────────────────────────┬──────────────────────────────────────┬──────────────────────────────────────────────────┬──────────────────────────────────────────────────┬──────────────────────────────────┬─────────────────────────────────────────────────────┬─────────────────────────────────────────────┬───────────────────────────────────────────┬──────────────────────────┬──────────────────────┬─────────┬───────────────────────────────────────────────────┬────────────────────────────────────────────────┬─────────────────────────┬────────────────────────────────────────────────┬─────────────────────────────────┬───────────────────────────────────────────────────┬────────────────────────────────┬────────────────┬─────────────────────────────────────────┬────────────────────────────────────┬──────────────────────────────────────────────────┬────────────────────────────────────────────┬─────────────────────────────┬─────────────────────────────┬──────────────────────────────┬─────────────────────────────────────────────────┬───────────────────────────────┬─────────────────────────┬──────────────────────────────┬─────────────────────────────────────────────────────────┬─────────────┬──────────────────────────────┬───────────────────────┬──────────────────────────────────────┬─────────────┬────────────────┬──────────────────┬───────────┬─────────────────────┬──────────────────────────────┬────────────────────────────────┬──────────┬───────────────────────────────┬──────────────┬────────────────────────────────────────────────┬─────────────────────────────────────────────────────┬───────────────────────────────────┬────────────────────────┬────────────────────────────┬───────────────────────────────┬────────────────────┬─────────────────────────────────────┬───────────────────────────────────────────┬───────────────────────────────┬──────────────────────────────────┬───────────────┬───────────────┬────────────────────────────────────────────────┬───────────────────────────────────────────┬─────────────────────────────────────────────────────────┬─────────────────────────────────┬──────────────────────────────┬────────────────────┬───────────────────────────────────┬───────────────────┬────────────────────────────┬────────────────────────────────────────────┬───────────┬──────────────────┬──────────────────────────────────┬─────────────────────┬────────────────────────┬────────────────┬──────────────────────┬─────────────────────────┬──────────────────┬──────────────────────┬──────────────────────────────────┬─────────┬────────────────┬───────────────────┬───────────────────────────┬───────────────────────────┬───────────┬──────────────────────┬─────────┬────────────────┬──────────────────────┬───────────────────────────────────────────────────────────┬───────────────────┬──────────────────────┬───────────────────────────┬───────────────┬──────────────────────┬──────────────────────┬─────────────────────┬─────────────────────────┬─────────────────────────────────────────┬──────────────────────────────────────────┬──────────────────────────────────────────┬─────────────────────────────────┬─────────────────────────────────┬──────────────────────────────────────────────┬──────────────────────────────────┬───────────────────────────────────────────┬───────────────────────────┬──────────────────────────────────────┬────────────────┬─────────────────────────┬───────────────────────────────────────────────────────────────────────────────┐\n",
      "│ information_validity │              imo_no              │            ship_name             │ dsO_Sea_trial_date │             hull_no              │            engine_no             │           designSpecId           │ cylinders │ engine_type │ licensee │ dsO_Testbed_date │ yard_name │ engine_technology │ engine_fuel │ parent_member_to_engine_group │ gI_LGI_fuel_type │ fuel_type │ tools_for_exhaust_valve_spindle_guide │ turbocharger_tuning_method │ turbocharger_maker │ turbocharger_SFOC_opt_Load_range │ monitoring_bearing_wear │ tools_for_cylinder_liner │ noise_limit_sound_intensity_dB │ noise_limit_sound_power_dB │ tools_for_exhaust_valve_housings │ noise_limit_measuring_points │ noise_limit_sound_pressure_dB │ crankshaft_chain_wheel_type │ vibration_torsional_vibration_damper │ turbocharger_gas_outlet │ scavenge_air_waste_heat_1st_stage_cooler │ vibration_tuning_wheel │ manoeuvring_system_pressure_reduction_system │ fuel_pump_fuel_oil_leakage │ cylinder_lubrication_ALCU │ manoeuvring_control_system_type │ monitoring_engine_diagnostic_system │ exhaust_valve_high_pressure_pipe │ by_pass_systems │ manoeuvring_system_cylinder_cut_out │ monitoring_cylinder_liner_temperature │ stay_bolts │ monitoring_TVM │ cylinder_lubrication_control │ fuel_pump_high_pressure_pipe │ lubrication_oil_system_hydraulics │ lubrication_oil_system_turbocharger │ monitoring_safety_system_type │ power_take_off │ noise_limit │ bedplate_oil_outlet │ turbocharger_cleaning_turbine │ scavenge_air_cooling_water │ top_bracing │ scavenge_air_extinguishing │ exhaust_valve_spindle │ monitoring_oil_mist_detector │ emission_limit_classification_society │ fuel_pump_variable_injection_timing │ monitoring_PMI_system │ slow_turning_before_starting │ engine_design_classification_society │ monitoring_AVM │ indicator_gear │ turbocharger_number_of │ engine_design_reversible_engine │ cylinder_lubrication_pump_station │ electricity_on_board_site_voltage_1_phase │ moment_compensators_2nd_order_aft │ moment_compensators_2nd_order_fore │ turbocharger_efficiency │ electricity_on_board_site_frequency │ electricity_on_board_site_voltage_3_phase │ turbocharger_location │ turbocharger_type │ engine_configuration │ engine_design_propeller_type │ engine_design_dir_of_rotation_ahead_viewed_aft │ engine_design_placement │ load_condition │ notation │ define_engine_type │ lubricating_oil_system │ governor_maker │ engine_test_cycle │ crankthrow │ gearing │ engine_mark │  hull_type  │ smcR_kW │ order_type │ smcR_RPM │ owner_nation │ yard_nation │ owner_original │ loB_delivery_date │          motorMgr_email          │ dS_order_date │ dS_order_month │ dS_order_year │ dS_order_quarter │  tier   │       motor_manager_name       │ motor_manager_ID │ nmcR_RPM │ nmcR_KW │ owner_Original_CoD │ kW_per_cylinder │ engine_order_Date │ ship_speed │ ship_capacity │ capacity_unit │ dead_date  │ engine_number_of │ fairplay_status │        owner        │ ship_name_original │ fairplay_engine_type │    ship_flag     │ ship_type  │ ship_sub_type │ licensee_country │ engine_stroke │ engine_bore │ enginetype │ delivery_date │ engine_status │ engine_function │            productid             │        internal_engine_ID        │ productGroup │ dsO_owner │ service_spec_status  │   status   │ infoorder │   seq   │    engID    │     st     │  fairplay_sub_Status  │            owner_add             │            owner_tel             │           owner_email            │             manager              │           manager_add            │           manager_tel            │            mgr_email             │        technical_manager         │      technical_manager_add       │      technical_manager_tel       │          techMgr_email           │ sea_trial_date │ testbed_date │ sS_Licensee │ scrubber_Installation │ bedding_Date │ imoTech_Classification_Society │       imoTech_Engine_Group       │ imoTech_IsParent │ noise_limit_load_condition_during_test │ bedplate_type │ cylinder_frame_type │ fuel_valve_type │ framebox_Type │ chain_case_type │ fuel_injection_valve_actuation_for_ME_engines │ fuel_injection_equipment_water_fuel_emulsion │ tracing │ hydraulic_filter_for_ME_servo_oil │ hydraulic_power_supply │ cylinder_lubrication │ monitoring_1_fuel_pump_rack_transmitter_for_remote_indication │ tools_for_exhaust_valve_spindle_and_bottom_pieces │ gallery_bedplate_exhaust_side │ gallery_bedplate_manoeuvring_side │ tools_wear_ridge_grinding_machine_for_cyl_liners │ tools_optional_fall_arrest_equipment │ additional_main_lub_oil_filter_located_on_engine │ tools_insertable_digital_cylinder_wear_measuring │ tools_cylinder_cover_safety_ring │ tools_optional_fall_arrest_equipment_no_of_packages │ turbocharger_cut_out_system_with_swing_gate │ n2_pressure_setting_tool_for_accumulators │ cpP_propeller_type_maker │ start_up_pumps_maker │ case_no │ turbocharger_cut_out_system_with_the_blind_flange │ vibration_tuning_wheel_moment_of_inertia_kgm_2 │ vibration_turning_wheel │ vibration_turning_wheel_moment_of_inertia_kgm2 │ manoeuvring_dynamic_positioning │ manoeuvring_dynamic_positioning_engine_load_up_to │ engine_design_piston_ring_pack │ crank_throw_id │ emergency_by_pass_from_exhaust_receiver │ turbocharger_compressor_inlet_temp │ digital_measuring_tool_for_crankshaft_deflection │ mE_engine_control_system_installation_type │ monitoring_alarm_system_AMS │ fresh_cooling_water_inlet_K │ fresh_cooling_water_outlet_L │ gI_LGI_fuel_specified_lower_heating_value_kJ_kg │ economiser_Energy_Control_EEC │ hydraulic_System_Filter │ monitoring_PMI_System_Sensor │ moment_compensator_2nd_Order_external_electric_balancer │ vessel_Type │ tier_II_Fuel_Sulphur_Content │ egR_Matching_Strategy │ fuel_Sulphur_Content_forenginedesign │ scR_Concept │ ceaS_Report_ID │ egR_Blower_Maker │ wtS_Maker │ scR_System_Supplier │ turbocharger_EGR_string_type │ engine_layout_L1_NMCR_power_kW │ smcR_MEP │ turbocharger_EGR_string_no_of │ rotComp_Size │ horizontal_electric_balancer_located_on_engine │ horizontal_electric_balancer_located_on_engine_Size │ hull_design_propeller_nozzle_type │ d_propeller_diameter_m │ d_propeller_hub_diameter_m │ eaR_expanded_blade_area_ratio │ z_number_of_blades │ tools_honing_machine_for_cyl_liners │ vibration_torsional_vibration_damper_type │ tier_III_Fuel_Sulphur_Content │ tier_II_total_back_pressure_mbar │ amS_interface │ pmI_interface │ engine_running_in_SDF_Specified_Dual_Fuel_mode │ automated_cylinder_oil_mixing_system_ACOM │ piping_arr_for_optimised_cooling_system_for_EGR_engines │ single_Twin_engine_installation │ fuel_oil_low_pressure_system │ egR_unit_placement │ tier_III_total_back_pressure_mbar │ tier_III_prepared │ gas_pressure_specification │ reduction_station_for_Tier_III_Control_Air │ firing_id │ pilot_oil_amount │ production_Schedule_TestBed_Date │ plant_info_recieved │ turbocharger_Placement │ product_Status │ quality_Agreement_No │ techN_DATA_PERFORM_SPEC │ spaF_file_Design │ vessel_Delivery_Date │          ihS_ship_name           │   gsr   │ dS_Engine_Type │ gas_tuning_method │ pilot_oil_energy_fraction │         operator          │ loB_Owner │ fairplay_Stroke_Type │  acCo   │ synchrophasing │ ceonRegistrationDate │ combined_2_stage_cooler_for_scavenge_air_heat_utilization │ scrubber_Designer │ scrubber_Retrofitted │ scrubber_Retrofitted_Year │ scrubber_Type │ smcR_kW_per_cylinder │ nmcR_kW_per_cylinder │ engine_stroke_in_mm │ valid_LTSA_ContractDate │ maximum_mechanical_PTO_load_on_shaft_kW │ max_Speed_of_Maximum_Mechanical_Load_rpm │ min_Speed_of_Maximum_Mechanical_Load_rpm │ min_Speed_for_PTO_Operation_rpm │ minimum_Light_Runnin_Margin_LRM │ recommendation_on_ECS_PMS_interface_option_C │ maker_of_power_management_system │ application_of_ECS_PMS_interface_option_C │ shorT_CRANKSHAFT_FORE_END │ ptO_TEST_WITH_DISCONNECTED_PROPELLER │ opportunitY_ID │ active_NOx_Engine_Group │                                     mmsi                                      │\n",
      "│       varchar        │             varchar              │             varchar              │      varchar       │             varchar              │             varchar              │             varchar              │  varchar  │   varchar   │ varchar  │     varchar      │  varchar  │      varchar      │   varchar   │            varchar            │     varchar      │  varchar  │                varchar                │          varchar           │      varchar       │             varchar              │         varchar         │         varchar          │            varchar             │          varchar           │             varchar              │           varchar            │            varchar            │           varchar           │               varchar                │         varchar         │                 varchar                  │        varchar         │                   varchar                    │          varchar           │          varchar          │             varchar             │               varchar               │             varchar              │     varchar     │               varchar               │                varchar                │  varchar   │    varchar     │           varchar            │           varchar            │              varchar              │               varchar               │            varchar            │    varchar     │   varchar   │       varchar       │            varchar            │          varchar           │   varchar   │          varchar           │        varchar        │           varchar            │                varchar                │               varchar               │        varchar        │           varchar            │               varchar                │    varchar     │    varchar     │        varchar         │             varchar             │              varchar              │                  varchar                  │              varchar              │              varchar               │         varchar         │               varchar               │                  varchar                  │        varchar        │      varchar      │       varchar        │           varchar            │                    varchar                     │         varchar         │    varchar     │ varchar  │      varchar       │        varchar         │    varchar     │      varchar      │  varchar   │ varchar │   varchar   │   varchar   │ varchar │  varchar   │ varchar  │   varchar    │   varchar   │    varchar     │      varchar      │             varchar              │    varchar    │    varchar     │    varchar    │     varchar      │ varchar │            varchar             │     varchar      │ varchar  │ varchar │      varchar       │     varchar     │      varchar      │  varchar   │    varchar    │    varchar    │  varchar   │     varchar      │     varchar     │       varchar       │      varchar       │       varchar        │     varchar      │  varchar   │    varchar    │     varchar      │    varchar    │   varchar   │  varchar   │    varchar    │    varchar    │     varchar     │             varchar              │             varchar              │   varchar    │  varchar  │       varchar        │  varchar   │  varchar  │ varchar │   varchar   │  varchar   │        varchar        │             varchar              │             varchar              │             varchar              │             varchar              │             varchar              │             varchar              │             varchar              │             varchar              │             varchar              │             varchar              │             varchar              │    varchar     │   varchar    │   varchar   │        varchar        │   varchar    │            varchar             │             varchar              │     varchar      │                varchar                 │    varchar    │       varchar       │     varchar     │    varchar    │     varchar     │                    varchar                    │                   varchar                    │ varchar │              varchar              │        varchar         │       varchar        │                            varchar                            │                      varchar                      │            varchar            │              varchar              │                     varchar                      │               varchar                │                     varchar                      │                     varchar                      │             varchar              │                       varchar                       │                   varchar                   │                  varchar                  │         varchar          │       varchar        │ varchar │                      varchar                      │                    varchar                     │         varchar         │                    varchar                     │             varchar             │                      varchar                      │            varchar             │    varchar     │                 varchar                 │              varchar               │                     varchar                      │                  varchar                   │           varchar           │           varchar           │           varchar            │                     varchar                     │            varchar            │         varchar         │           varchar            │                         varchar                         │   varchar   │           varchar            │        varchar        │               varchar                │   varchar   │    varchar     │     varchar      │  varchar  │       varchar       │           varchar            │            varchar             │ varchar  │            varchar            │   varchar    │                    varchar                     │                       varchar                       │              varchar              │        varchar         │          varchar           │            varchar            │      varchar       │               varchar               │                  varchar                  │            varchar            │             varchar              │    varchar    │    varchar    │                    varchar                     │                  varchar                  │                         varchar                         │             varchar             │           varchar            │      varchar       │              varchar              │      varchar      │          varchar           │                  varchar                   │  varchar  │     varchar      │             varchar              │       varchar       │        varchar         │    varchar     │       varchar        │         varchar         │     varchar      │       varchar        │             varchar              │ varchar │    varchar     │      varchar      │          varchar          │          varchar          │  varchar  │       varchar        │ varchar │    varchar     │       varchar        │                          varchar                          │      varchar      │       varchar        │          varchar          │    varchar    │       varchar        │       varchar        │       varchar       │         varchar         │                 varchar                 │                 varchar                  │                 varchar                  │             varchar             │             varchar             │                   varchar                    │             varchar              │                  varchar                  │          varchar          │               varchar                │    varchar     │         varchar         │ struct(seqno varchar, callsign varchar, mmsi varchar, effective_date varchar) │\n",
      "├──────────────────────┼──────────────────────────────────┼──────────────────────────────────┼────────────────────┼──────────────────────────────────┼──────────────────────────────────┼──────────────────────────────────┼───────────┼─────────────┼──────────┼──────────────────┼───────────┼───────────────────┼─────────────┼───────────────────────────────┼──────────────────┼───────────┼───────────────────────────────────────┼────────────────────────────┼────────────────────┼──────────────────────────────────┼─────────────────────────┼──────────────────────────┼────────────────────────────────┼────────────────────────────┼──────────────────────────────────┼──────────────────────────────┼───────────────────────────────┼─────────────────────────────┼──────────────────────────────────────┼─────────────────────────┼──────────────────────────────────────────┼────────────────────────┼──────────────────────────────────────────────┼────────────────────────────┼───────────────────────────┼─────────────────────────────────┼─────────────────────────────────────┼──────────────────────────────────┼─────────────────┼─────────────────────────────────────┼───────────────────────────────────────┼────────────┼────────────────┼──────────────────────────────┼──────────────────────────────┼───────────────────────────────────┼─────────────────────────────────────┼───────────────────────────────┼────────────────┼─────────────┼─────────────────────┼───────────────────────────────┼────────────────────────────┼─────────────┼────────────────────────────┼───────────────────────┼──────────────────────────────┼───────────────────────────────────────┼─────────────────────────────────────┼───────────────────────┼──────────────────────────────┼──────────────────────────────────────┼────────────────┼────────────────┼────────────────────────┼─────────────────────────────────┼───────────────────────────────────┼───────────────────────────────────────────┼───────────────────────────────────┼────────────────────────────────────┼─────────────────────────┼─────────────────────────────────────┼───────────────────────────────────────────┼───────────────────────┼───────────────────┼──────────────────────┼──────────────────────────────┼────────────────────────────────────────────────┼─────────────────────────┼────────────────┼──────────┼────────────────────┼────────────────────────┼────────────────┼───────────────────┼────────────┼─────────┼─────────────┼─────────────┼─────────┼────────────┼──────────┼──────────────┼─────────────┼────────────────┼───────────────────┼──────────────────────────────────┼───────────────┼────────────────┼───────────────┼──────────────────┼─────────┼────────────────────────────────┼──────────────────┼──────────┼─────────┼────────────────────┼─────────────────┼───────────────────┼────────────┼───────────────┼───────────────┼────────────┼──────────────────┼─────────────────┼─────────────────────┼────────────────────┼──────────────────────┼──────────────────┼────────────┼───────────────┼──────────────────┼───────────────┼─────────────┼────────────┼───────────────┼───────────────┼─────────────────┼──────────────────────────────────┼──────────────────────────────────┼──────────────┼───────────┼──────────────────────┼────────────┼───────────┼─────────┼─────────────┼────────────┼───────────────────────┼──────────────────────────────────┼──────────────────────────────────┼──────────────────────────────────┼──────────────────────────────────┼──────────────────────────────────┼──────────────────────────────────┼──────────────────────────────────┼──────────────────────────────────┼──────────────────────────────────┼──────────────────────────────────┼──────────────────────────────────┼────────────────┼──────────────┼─────────────┼───────────────────────┼──────────────┼────────────────────────────────┼──────────────────────────────────┼──────────────────┼────────────────────────────────────────┼───────────────┼─────────────────────┼─────────────────┼───────────────┼─────────────────┼───────────────────────────────────────────────┼──────────────────────────────────────────────┼─────────┼───────────────────────────────────┼────────────────────────┼──────────────────────┼───────────────────────────────────────────────────────────────┼───────────────────────────────────────────────────┼───────────────────────────────┼───────────────────────────────────┼──────────────────────────────────────────────────┼──────────────────────────────────────┼──────────────────────────────────────────────────┼──────────────────────────────────────────────────┼──────────────────────────────────┼─────────────────────────────────────────────────────┼─────────────────────────────────────────────┼───────────────────────────────────────────┼──────────────────────────┼──────────────────────┼─────────┼───────────────────────────────────────────────────┼────────────────────────────────────────────────┼─────────────────────────┼────────────────────────────────────────────────┼─────────────────────────────────┼───────────────────────────────────────────────────┼────────────────────────────────┼────────────────┼─────────────────────────────────────────┼────────────────────────────────────┼──────────────────────────────────────────────────┼────────────────────────────────────────────┼─────────────────────────────┼─────────────────────────────┼──────────────────────────────┼─────────────────────────────────────────────────┼───────────────────────────────┼─────────────────────────┼──────────────────────────────┼─────────────────────────────────────────────────────────┼─────────────┼──────────────────────────────┼───────────────────────┼──────────────────────────────────────┼─────────────┼────────────────┼──────────────────┼───────────┼─────────────────────┼──────────────────────────────┼────────────────────────────────┼──────────┼───────────────────────────────┼──────────────┼────────────────────────────────────────────────┼─────────────────────────────────────────────────────┼───────────────────────────────────┼────────────────────────┼────────────────────────────┼───────────────────────────────┼────────────────────┼─────────────────────────────────────┼───────────────────────────────────────────┼───────────────────────────────┼──────────────────────────────────┼───────────────┼───────────────┼────────────────────────────────────────────────┼───────────────────────────────────────────┼─────────────────────────────────────────────────────────┼─────────────────────────────────┼──────────────────────────────┼────────────────────┼───────────────────────────────────┼───────────────────┼────────────────────────────┼────────────────────────────────────────────┼───────────┼──────────────────┼──────────────────────────────────┼─────────────────────┼────────────────────────┼────────────────┼──────────────────────┼─────────────────────────┼──────────────────┼──────────────────────┼──────────────────────────────────┼─────────┼────────────────┼───────────────────┼───────────────────────────┼───────────────────────────┼───────────┼──────────────────────┼─────────┼────────────────┼──────────────────────┼───────────────────────────────────────────────────────────┼───────────────────┼──────────────────────┼───────────────────────────┼───────────────┼──────────────────────┼──────────────────────┼─────────────────────┼─────────────────────────┼─────────────────────────────────────────┼──────────────────────────────────────────┼──────────────────────────────────────────┼─────────────────────────────────┼─────────────────────────────────┼──────────────────────────────────────────────┼──────────────────────────────────┼───────────────────────────────────────────┼───────────────────────────┼──────────────────────────────────────┼────────────────┼─────────────────────────┼───────────────────────────────────────────────────────────────────────────────┤\n",
      "│ High                 │ 647f3b22f283a6cb193678a96ff41120 │ 300f821c06fdbbe0d028437061304a17 │ 1900-01-01         │ 7f4647109a0e4ffc54b7d6353fa6df2d │ 5f3ffdbb1c8cabd3fb023e8b5b8ba7b1 │ bb649be0f73654eaba40a4676eef2cac │ 6         │ S70ME-C     │ HHI      │ 1900-01-01       │ HHI-SBD   │ N/A               │             │                               │                  │ DI        │                                       │                            │                    │                                  │                         │                          │                                │                            │                                  │                              │                               │                             │                                      │                         │                                          │                        │                                              │                            │                           │                                 │                                     │                                  │                 │                                     │                                       │            │                │                              │                              │                                   │                                     │                               │                │             │                     │                               │                            │             │                            │                       │                              │                                       │                                     │                       │                              │                                      │                │                │ 2                      │                                 │                                   │                                           │                                   │                                    │                         │                                     │                                           │                       │                   │                      │                              │ Counter clockwise                              │                         │ 100%           │ EO       │ Parent (Group)     │                        │                │ E3                │ Low weight │ Without │             │ Double Hull │         │            │          │ Japan        │ Korea       │                │ 2007-03-30        │ 761009b8aa261f89618e926165f6c0db │ 2006-01-06    │ 2006-01        │ 2006          │ 2006Q1           │         │ NYK LNG Shipmanagement Limited │ 0005027515       │ 91       │ 18660   │                    │ 6220            │ 2006-04-10        │ 19.5       │ 211910        │ CBM           │ 1900-01-01 │ 2                │ In Service      │ J5 Nakliat No 2 Ltd │                    │ 6S70ME-C             │ Marshall Islands │ Gas Tanker │ LNG Tanker    │ Korea            │ S             │ 70          │ ME-C       │ 1900-01-01    │ In Service    │ Main            │ 8e05ee11c36e47eec479245ad96e71dc │ 62f35a374515e17f1cb5ab266041e16e │ 2 Stroke     │           │ Released, Production │ In service │ 1         │ 19333   │ BW0019333-6 │ In service │ In Service/Commission │ f60503d77de5b54bae3ca4b1a560dedf │ 58c36301883265595334dcfc0b6e3795 │ 0339ec17a5059915f10fca248b85d24c │ 9caa2ff3b13c64e5ca9967ab7764ea1d │ 90f0d0751368229beb6e6ea2e2e558ed │ 58c36301883265595334dcfc0b6e3795 │ 0339ec17a5059915f10fca248b85d24c │ 9caa2ff3b13c64e5ca9967ab7764ea1d │ 90f0d0751368229beb6e6ea2e2e558ed │ 58c36301883265595334dcfc0b6e3795 │ 0339ec17a5059915f10fca248b85d24c │ 2008-04-10     │ 1900-01-01   │ HYUNDA      │                       │ 1900-01-01   │ DNV                            │ HYUNDAI-MAN B&W 6S70ME-C-2007-01 │ No               │                                        │               │                     │                 │               │                 │                                               │                                              │         │                                   │                        │                      │                                                               │                                                   │                               │                                   │                                                  │                                      │                                                  │                                                  │                                  │                                                     │                                             │                                           │                          │                      │         │                                                   │                                                │                         │                                                │                                 │                                                   │                                │                │                                         │                                    │                                                  │                                            │                             │                             │                              │                                                 │                               │                         │                              │                                                         │             │                              │                       │ N/A                                  │             │                │                  │           │                     │                              │                                │          │                               │              │                                                │                                                     │                                   │                        │                            │                               │                    │                                     │                                           │                               │                                  │               │               │                                                │                                           │                                                         │                                 │                              │                    │                                   │                   │                            │                                            │           │                  │ 1900-01-01                       │ 2009-08-13          │ On exhaust side        │ In Service     │                      │                         │                  │ 2008-04-10           │ 300f821c06fdbbe0d028437061304a17 │         │ 6S70ME-C       │                   │                           │ Qatargas Operating Co Ltd │ NYK Line  │ 2                    │         │                │ 2022-02-11           │                                                           │                   │                      │                           │               │                      │ 3110                 │                     │ No                      │                                         │                                          │                                          │                                 │                                 │                                              │                                  │                                           │                           │                                      │                │ Yes                     │ {'seqno': 00, 'callsign': V7NU3, 'mmsi': 538003018, 'effective_date': 200804} │\n",
      "└──────────────────────┴──────────────────────────────────┴──────────────────────────────────┴────────────────────┴──────────────────────────────────┴──────────────────────────────────┴──────────────────────────────────┴───────────┴─────────────┴──────────┴──────────────────┴───────────┴───────────────────┴─────────────┴───────────────────────────────┴──────────────────┴───────────┴───────────────────────────────────────┴────────────────────────────┴────────────────────┴──────────────────────────────────┴─────────────────────────┴──────────────────────────┴────────────────────────────────┴────────────────────────────┴──────────────────────────────────┴──────────────────────────────┴───────────────────────────────┴─────────────────────────────┴──────────────────────────────────────┴─────────────────────────┴──────────────────────────────────────────┴────────────────────────┴──────────────────────────────────────────────┴────────────────────────────┴───────────────────────────┴─────────────────────────────────┴─────────────────────────────────────┴──────────────────────────────────┴─────────────────┴─────────────────────────────────────┴───────────────────────────────────────┴────────────┴────────────────┴──────────────────────────────┴──────────────────────────────┴───────────────────────────────────┴─────────────────────────────────────┴───────────────────────────────┴────────────────┴─────────────┴─────────────────────┴───────────────────────────────┴────────────────────────────┴─────────────┴────────────────────────────┴───────────────────────┴──────────────────────────────┴───────────────────────────────────────┴─────────────────────────────────────┴───────────────────────┴──────────────────────────────┴──────────────────────────────────────┴────────────────┴────────────────┴────────────────────────┴─────────────────────────────────┴───────────────────────────────────┴───────────────────────────────────────────┴───────────────────────────────────┴────────────────────────────────────┴─────────────────────────┴─────────────────────────────────────┴───────────────────────────────────────────┴───────────────────────┴───────────────────┴──────────────────────┴──────────────────────────────┴────────────────────────────────────────────────┴─────────────────────────┴────────────────┴──────────┴────────────────────┴────────────────────────┴────────────────┴───────────────────┴────────────┴─────────┴─────────────┴─────────────┴─────────┴────────────┴──────────┴──────────────┴─────────────┴────────────────┴───────────────────┴──────────────────────────────────┴───────────────┴────────────────┴───────────────┴──────────────────┴─────────┴────────────────────────────────┴──────────────────┴──────────┴─────────┴────────────────────┴─────────────────┴───────────────────┴────────────┴───────────────┴───────────────┴────────────┴──────────────────┴─────────────────┴─────────────────────┴────────────────────┴──────────────────────┴──────────────────┴────────────┴───────────────┴──────────────────┴───────────────┴─────────────┴────────────┴───────────────┴───────────────┴─────────────────┴──────────────────────────────────┴──────────────────────────────────┴──────────────┴───────────┴──────────────────────┴────────────┴───────────┴─────────┴─────────────┴────────────┴───────────────────────┴──────────────────────────────────┴──────────────────────────────────┴──────────────────────────────────┴──────────────────────────────────┴──────────────────────────────────┴──────────────────────────────────┴──────────────────────────────────┴──────────────────────────────────┴──────────────────────────────────┴──────────────────────────────────┴──────────────────────────────────┴────────────────┴──────────────┴─────────────┴───────────────────────┴──────────────┴────────────────────────────────┴──────────────────────────────────┴──────────────────┴────────────────────────────────────────┴───────────────┴─────────────────────┴─────────────────┴───────────────┴─────────────────┴───────────────────────────────────────────────┴──────────────────────────────────────────────┴─────────┴───────────────────────────────────┴────────────────────────┴──────────────────────┴───────────────────────────────────────────────────────────────┴───────────────────────────────────────────────────┴───────────────────────────────┴───────────────────────────────────┴──────────────────────────────────────────────────┴──────────────────────────────────────┴──────────────────────────────────────────────────┴──────────────────────────────────────────────────┴──────────────────────────────────┴─────────────────────────────────────────────────────┴─────────────────────────────────────────────┴───────────────────────────────────────────┴──────────────────────────┴──────────────────────┴─────────┴───────────────────────────────────────────────────┴────────────────────────────────────────────────┴─────────────────────────┴────────────────────────────────────────────────┴─────────────────────────────────┴───────────────────────────────────────────────────┴────────────────────────────────┴────────────────┴─────────────────────────────────────────┴────────────────────────────────────┴──────────────────────────────────────────────────┴────────────────────────────────────────────┴─────────────────────────────┴─────────────────────────────┴──────────────────────────────┴─────────────────────────────────────────────────┴───────────────────────────────┴─────────────────────────┴──────────────────────────────┴─────────────────────────────────────────────────────────┴─────────────┴──────────────────────────────┴───────────────────────┴──────────────────────────────────────┴─────────────┴────────────────┴──────────────────┴───────────┴─────────────────────┴──────────────────────────────┴────────────────────────────────┴──────────┴───────────────────────────────┴──────────────┴────────────────────────────────────────────────┴─────────────────────────────────────────────────────┴───────────────────────────────────┴────────────────────────┴────────────────────────────┴───────────────────────────────┴────────────────────┴─────────────────────────────────────┴───────────────────────────────────────────┴───────────────────────────────┴──────────────────────────────────┴───────────────┴───────────────┴────────────────────────────────────────────────┴───────────────────────────────────────────┴─────────────────────────────────────────────────────────┴─────────────────────────────────┴──────────────────────────────┴────────────────────┴───────────────────────────────────┴───────────────────┴────────────────────────────┴────────────────────────────────────────────┴───────────┴──────────────────┴──────────────────────────────────┴─────────────────────┴────────────────────────┴────────────────┴──────────────────────┴─────────────────────────┴──────────────────┴──────────────────────┴──────────────────────────────────┴─────────┴────────────────┴───────────────────┴───────────────────────────┴───────────────────────────┴───────────┴──────────────────────┴─────────┴────────────────┴──────────────────────┴───────────────────────────────────────────────────────────┴───────────────────┴──────────────────────┴───────────────────────────┴───────────────┴──────────────────────┴──────────────────────┴─────────────────────┴─────────────────────────┴─────────────────────────────────────────┴──────────────────────────────────────────┴──────────────────────────────────────────┴─────────────────────────────────┴─────────────────────────────────┴──────────────────────────────────────────────┴──────────────────────────────────┴───────────────────────────────────────────┴───────────────────────────┴──────────────────────────────────────┴────────────────┴─────────────────────────┴───────────────────────────────────────────────────────────────────────────────┘\n",
      "\n",
      "\n",
      "┌──────────────┬────────┬──────────────┬────────────────┬────────────────┬─────────────┬───────────┬───────────┬───────────┬───────────┬───────────┬───────────┬───────────┬───────────────┬───────────────┬───────────────┬───────────────┬───────────────┬───────────────┬───────────────┬────────────────┬────────────────┬────────────────┬────────────────┬────────────────┬────────────────┬────────────────┬─────────────────┬──────────────────┬──────────────────────┬─────────────────┬─────────────────┬────────────┬──────────────────────┬─────────────┬──────────────────────┬─────────────────┬────────────────────┬───────────────────┬──────────────────────┬──────────────────────┬─────────────────┬───────────────┬──────────────────────┬──────────────────────┬──────────────────────┬──────────────────────┬─────────────────────┬──────────────────────┬──────────────────────┬──────────────────────┬──────────────────────┬──────────────────────┬──────────────────────┬──────────────────────┬──────────────────────┬─────────┬────────────┬──────────────────────┬──────────────────────┬────────────┬─────────────┬──────────────────────┬──────────────────────┬──────────────────────┬──────────────────────┬──────────────────────┬──────────────────────┬──────────────────────┬──────────────────────┬──────────────────────┬──────────────────────┬────────────────────┬──────────────────────┬──────────────────────┬──────────────────────┬──────────────────────┬──────────────────────┬──────────────────────┬──────────────────────┬──────────────────────┬──────────────────────┬──────────────────────┬──────────────────────┬──────────────────────┬──────────────────────┬──────────────────────┬──────────────────────┬──────────────────────┬──────────────────────┬──────────────────────┬──────────────────────┬──────────────────────┬──────────────────────┬──────────────────────┬──────────────────────┬────────────────────┬────────────────────┬────────────────────┬────────────────────┬────────────────────┬─────────────────────┬─────────────────────┬──────────────────────┬──────────────────────┬──────────────────────┬──────────────────────┬──────────────────────┬──────────────────────┬──────────────────────┬───────────────────┬───────────────────┬───────────────────┬───────────────────┬───────────────────┬───────────────────┬───────────────────┬──────────────────┬─────────────────┬──────────────────────┬──────────────────────┬──────────────────────┬──────────────────────┬──────────────────────┬──────────────────────┬──────────────────────┬──────────────────────┬──────────────────────┬──────────────────────┬──────────────────────┬──────────────────────┬──────────────────────┬──────────────────────┬──────────────────────┬──────────────────────┬──────────────────────┬──────────────────────┬──────────────────────┬──────────────────────┬──────────────────────┬──────────────────────┬──────────────────────┬──────────────────────┬──────────────────────┬──────────────────────┬──────────────────────┬──────────────────────┬──────────────────────┬──────────────────────┬──────────────────────┬──────────────────────┬──────────────────────┬──────────────────────┬──────────────────────┬─────────────────┬─────────────────┬─────────────────┬─────────────────┬─────────────────┬─────────────────┬──────────────────────┬──────────────────────┬──────────────────────┬──────────────────────┬──────────────────────┬──────────────────────┬──────────────────┬──────────────────┬──────────────────┬──────────────────┬──────────────────┬──────────────────┬──────────────────────┬──────────────────────┬──────────────────────┬──────────────────────┬──────────────────────┬──────────────────────┬──────────────────┬──────────────────┬──────────────────┬──────────────────┬──────────────────┬──────────────────┬──────────────────────┬──────────────────────┬──────────────────────┬──────────────────────┬──────────────────────┬──────────────────────┬──────────────────────┬──────────────────────┬──────────────────────┬──────────────────────┬──────────────────────┬──────────────────────┬──────────────────────┬──────────────────────┬──────────────────────┬──────────────────────┬──────────────────────┬──────────────────────┬──────────────────────┬──────────────────────┬────────────────┬────────────────┬────────────────┬────────────────┬────────────────┬────────────────┬──────────────────────┬──────────────────────┬──────────────────────┬──────────────────────┬──────────────────────┬──────────────────────┬──────────────────────┬──────────────────────┬──────────────────────┬──────────────────────┬──────────────────────┬──────────────────────┬──────────────────────┬──────────────────────┬──────────────────────┬──────────────────────┬──────────────────────┬──────────────────────┬──────────────────────┬──────────────────────┬──────────────────────┬──────────────────────┬──────────────────────┬──────────────────────┬───┬──────────────────────┬──────────────────────┬──────────────────────┬──────────────────────┬──────────────────────┬──────────────────────┬──────────────────────┬──────────────────────┬──────────────────────┬──────────────────────┬──────────────────────┬──────────────────────┬──────────────────────┬──────────────────────┬──────────────────────┬──────────────────────┬──────────────────────┬──────────────────────┬──────────────────────┬────────────────────┬────────────────────┬────────────────────┬────────────────────┬─────────────────────┬─────────────────────┬─────────────────────┬─────────────────────┬─────────────────────┬──────────────────────┬───────────────────┬───────────────────┬───────────────────┬───────────────────┬────────────────────┬─────────────────────┬──────────────────┬───────────────────┬────────────────────┬──────────┬─────────────────┬─────────────────────┬────────────────────┬──────────────────────┬──────────────┬──────────────────────┬──────────────────────┬──────────────────────┬──────────────────────┬──────────────────────┬──────────────────────┬──────────────────────┬──────────────────────┬──────────────────────┬──────────────────────┬──────────────────────┬──────────────────────┬─────────────────────┬────────────────┬──────────────┬──────────────────────┬──────────────────────┬──────────────────────┬──────────────────────┬──────────────────────┬──────────────────────┬──────────────────────┬─────────────────┬──────────────────┬──────────────────────┬──────────────────────┬──────────────────┬───────────────────┬──────────────────────┬──────────────────────┬──────────────────┬───────────────────┬──────────────────────┬──────────────────────┬──────────────────────┬──────────────────────┬──────────────────────┬──────────────────────┬────────────────┬─────────────────┬──────────────────┬───────────────────┬────────────────────┬──────────┬─────────────────┬─────────────────────┬────────────────────┬──────────────────────┬─────────────────────┬──────────────────────┬──────────────────────┬────────────────┬──────────────────────┬─────────────────────┬────────────────────┬─────────────────┬─────────────────┬──────────────────┬──────────────┬─────────────────────┬──────────────────────┬──────────────────────┬──────────────────────┬────────────────┬────────────┬────────────────┬─────────────────┬──────────────────────┬──────────────────────┬──────────────────────┬──────────────────────┬────────────────────┬──────────────────────┬──────────────────────┬──────────────────────┬──────────────────────┬──────────────┬──────────────────────┬────────────────────┬─────────────────────┬────────────────┬──────────────────────┬──────────────────────┬──────────────────────┬──────────────────────┬──────────────────────┬──────────────────────┬──────────────────────┬──────────────────────┬──────────────────────┬──────────────────────┬──────────────────────┬──────────────────────┬──────────────────────┬──────────────────────┬──────────────────────┬──────────────────────┬──────────────────────┬────────────────┬────────────────┬─────────────────────┬─────────────────────┬──────────────────────┬──────────────────────┬──────────────────────┬──────────────────────┬──────────────────────┬──────────────────────┬──────────────────────┬──────────────────────┬──────────────────────┬──────────────────────┬──────────────────────┬──────────────────────┬──────────────────────┬──────────────────────┬──────────────────────┬─────────────────────┬────────────────────┬──────────────────────┬──────────────────────┬──────────────────────┬──────────────────────┬──────────────────────┬──────────────────────┬──────────────────────┬──────────────────────┬──────────────────────┬──────────────────────┬──────────────────────┬──────────────────────┬──────────────────────┬──────────────────────┬──────────────────────┬──────────────────────┬──────────────────────┬──────────────────────┬──────────────────────┬──────────────────────┬──────────────────────┬──────────────────────┬──────────────────────┬──────────────────────┬──────────────────────┬──────────────────────┬──────────────────────┬──────────────────────┬──────────────────────┬──────────────────────┬──────────────────────┬──────────────────────┬──────────────────────┬──────────────────────┬──────────────────────┬──────────────────────┬──────────────────────┬──────────────────────┬──────────────────────┬──────────────────────┬──────────────────────┬──────────────────────┬──────────────────────┬──────────────────┬───────────────────┬────────────────────┬─────────────────┬──────────────────────┬─────────────────┬─────────────────────┬──────────────────────┬───────────────────┬────────────────────┬───────────────────┬────────────────────┬──────────────────────┬──────────────────────┬──────────────────────┬────────────────────┬──────────────────────┬───────────────┬──────────────────────┬──────────────────────┬──────────────────────┬──────────────────────┬──────────────────────┬──────────────────────┬─────────────────────┬────────────────┬──────────────────────┬─────────┐\n",
      "│     time     │ fr_eng │ pr_air_start │ pr_air_control │ te_fuel_eng_in │ pr_air_scav │ se_mip__0 │ se_mip__1 │ se_mip__2 │ se_mip__3 │ se_mip__4 │ se_mip__5 │ se_mip_mv │ pr_cyl_max__0 │ pr_cyl_max__1 │ pr_cyl_max__2 │ pr_cyl_max__3 │ pr_cyl_max__4 │ pr_cyl_max__5 │ pr_cyl_max_mv │ pr_cyl_comp__0 │ pr_cyl_comp__1 │ pr_cyl_comp__2 │ pr_cyl_comp__3 │ pr_cyl_comp__4 │ pr_cyl_comp__5 │ pr_cyl_comp_mv │ pr_pmax_ordered │ pr_pcomp_ordered │ re_pcomppscav_orde…  │ pr_air_scav_ecs │ fr_eng_setpoint │ fr_eng_ecs │ re_eng_load_estima…  │ re_eng_load │ in_engine_running_…  │ bo_gov_mode_rpm │ bo_gov_mode_torque │ bo_gov_mode_index │ bo_gov_fuel_idx_li…  │ bo_aux_blower_runn…  │ re_fuel_sulpher │ vf_lub_eng_in │ re_lub_melub_feedr…  │ mr_lub_melub_nomin…  │ re_lub_melub_feedr…  │ bo_melub_state_pre…  │ bo_melub_lcd_active │ bo_melub_lowload_a…  │ mr_luboil_cyl_in_f…  │ mr_luboil_cyl_in_f…  │ mr_luboil_cyl_in_f…  │ mr_luboil_cyl_in_f…  │ mr_luboil_cyl_in_f…  │ mr_luboil_cyl_in_f…  │ te_fuel_eng_manual…  │ cv_fuel │ de_fuel15c │ re_applied_fuel_qu…  │ re_total_fuel_qual…  │ pr_hydr_in │ pr_hydr_out │ pr_hydr_pump_setpo…  │ re_hps_swash_posit…  │ re_hps_swash_posit…  │ re_hps_swash_posit…  │ pr_pmax_offset_chi…  │ pr_pmax_offset_chi…  │ pr_pmax_offset_chi…  │ pr_pmax_offset_chi…  │ pr_pmax_offset_chi…  │ pr_pmax_offset_chi…  │ pr_pmax_offset_all │ re_pcomp_pscav_off…  │ re_pcomp_pscav_off…  │ re_pcomp_pscav_off…  │ re_pcomp_pscav_off…  │ re_pcomp_pscav_off…  │ re_pcomp_pscav_off…  │ re_pcomp_pscav_off…  │ an_exh_valve_open_…  │ an_exh_valve_open_…  │ an_exh_valve_open_…  │ an_exh_valve_open_…  │ an_exh_valve_open_…  │ an_exh_valve_open_…  │ an_exh_valve_open_…  │ in_acu1_noise_pulses │ in_acu2_noise_pulses │ in_acu3_noise_pulses │ in_ccu_noise_pulse…  │ in_ccu_noise_pulse…  │ in_ccu_noise_pulse…  │ in_ccu_noise_pulse…  │ in_ccu_noise_pulse…  │ in_ccu_noise_pulse…  │ er_acu1_insulation │ er_acu2_insulation │ er_acu3_insulation │ er_ecua_insulation │ er_ecub_insulation │ er_eicua_insulation │ er_eicub_insulation │ er_ccu_insulation__0 │ er_ccu_insulation__1 │ er_ccu_insulation__2 │ er_ccu_insulation__3 │ er_ccu_insulation__4 │ er_ccu_insulation__5 │ re_gov_idx_fuel_prim │ re_pcomp_pscav__0 │ re_pcomp_pscav__1 │ re_pcomp_pscav__2 │ re_pcomp_pscav__3 │ re_pcomp_pscav__4 │ re_pcomp_pscav__5 │ re_pcomp_pscav_mv │ re_melub_bn_high │ re_melub_bn_low │ te_cyl_liner_wall_…  │ te_cyl_liner_wall_…  │ te_cyl_liner_wall_…  │ te_cyl_liner_wall_…  │ te_cyl_liner_wall_…  │ te_cyl_liner_wall_…  │ te_cyl_liner_wall_…  │ te_cyl_liner_wall_…  │ te_cyl_liner_wall_…  │ te_cyl_liner_wall_…  │ te_cyl_liner_wall_…  │ te_cyl_liner_wall_…  │ re_dlf_current_lim…  │ bo_dlf_high_torque…  │ ti_dlf_high_torque…  │ bo_dlf_high_torque…  │ re_dlf_limiter_value │ re_pcomp_pscav_adj…  │ re_pcomp_pscav_adj…  │ re_pcomp_pscav_adj…  │ re_pcomp_pscav_adj…  │ re_pcomp_pscav_adj…  │ re_pcomp_pscav_adj…  │ pr_prise_adjustmen…  │ pr_prise_adjustmen…  │ pr_prise_adjustmen…  │ pr_prise_adjustmen…  │ pr_prise_adjustmen…  │ pr_prise_adjustmen…  │ pr_pmax_ordered_ac…  │ pr_pmax_ordered_ac…  │ pr_pmax_ordered_ac…  │ pr_pmax_ordered_ac…  │ pr_pmax_ordered_ac…  │ pr_pmax_ordered_ac…  │ pr_pmax_acco__0 │ pr_pmax_acco__1 │ pr_pmax_acco__2 │ pr_pmax_acco__3 │ pr_pmax_acco__4 │ pr_pmax_acco__5 │ pr_pcomp_ordered_a…  │ pr_pcomp_ordered_a…  │ pr_pcomp_ordered_a…  │ pr_pcomp_ordered_a…  │ pr_pcomp_ordered_a…  │ pr_pcomp_ordered_a…  │ pr_pcomp_acco__0 │ pr_pcomp_acco__1 │ pr_pcomp_acco__2 │ pr_pcomp_acco__3 │ pr_pcomp_acco__4 │ pr_pcomp_acco__5 │ pr_prise_ordered_a…  │ pr_prise_ordered_a…  │ pr_prise_ordered_a…  │ pr_prise_ordered_a…  │ pr_prise_ordered_a…  │ pr_prise_ordered_a…  │ pr_prise_acco__0 │ pr_prise_acco__1 │ pr_prise_acco__2 │ pr_prise_acco__3 │ pr_prise_acco__4 │ pr_prise_acco__5 │ re_mip_sf_adjustme…  │ re_mip_sf_adjustme…  │ re_mip_sf_adjustme…  │ re_mip_sf_adjustme…  │ re_mip_sf_adjustme…  │ re_mip_sf_adjustme…  │ re_mip_fo_adjustme…  │ re_mip_fo_adjustme…  │ re_mip_fo_adjustme…  │ re_mip_fo_adjustme…  │ re_mip_fo_adjustme…  │ re_mip_fo_adjustme…  │ re_mip_avg_sf_adju…  │ re_mip_avg_fo_adju…  │ se_mip_ordered_acc…  │ se_mip_ordered_acc…  │ se_mip_ordered_acc…  │ se_mip_ordered_acc…  │ se_mip_ordered_acc…  │ se_mip_ordered_acc…  │ se_mip_acco__0 │ se_mip_acco__1 │ se_mip_acco__2 │ se_mip_acco__3 │ se_mip_acco__4 │ se_mip_acco__5 │ ec_fuel_plunger_st…  │ ec_fuel_plunger_st…  │ ec_fuel_plunger_st…  │ ec_fuel_plunger_st…  │ ec_fuel_plunger_st…  │ ec_fuel_plunger_st…  │ re_load_low_offset…  │ re_load_low_offset…  │ re_load_low_offset…  │ re_load_low_offset…  │ re_load_low_offset…  │ re_load_low_offset…  │ re_load_high_offse…  │ re_load_high_offse…  │ re_load_high_offse…  │ re_load_high_offse…  │ re_load_high_offse…  │ re_load_high_offse…  │ ti_msec_adjust_acc…  │ ti_msec_adjust_acc…  │ ti_msec_adjust_acc…  │ ti_msec_adjust_acc…  │ ti_msec_adjust_acc…  │ ti_msec_adjust_acc…  │ … │ an_exhv_close_requ…  │ an_exhv_close_requ…  │ an_exhv_close_requ…  │ an_exhv_close_requ…  │ ti_fuel_inj_close__6 │ ti_fuel_inj_close__7 │ ti_fuel_inj_close__8 │ ti_fuel_inj_close__9 │ ti_fuel_inj_close_…  │ in_fuel_inj_profil…  │ in_fuel_inj_profil…  │ in_fuel_inj_profil…  │ in_fuel_inj_profil…  │ in_fuel_inj_profil…  │ an_fuel_prim_injec…  │ an_fuel_prim_injec…  │ an_fuel_prim_injec…  │ an_fuel_prim_injec…  │ an_fuel_prim_injec…  │ pd_pmax_dev_avg__6 │ pd_pmax_dev_avg__7 │ pd_pmax_dev_avg__8 │ pd_pmax_dev_avg__9 │ pd_pmax_dev_avg__10 │ pd_pcomp_dev_avg__6 │ pd_pcomp_dev_avg__7 │ pd_pcomp_dev_avg__8 │ pd_pcomp_dev_avg__9 │ pd_pcomp_dev_avg__10 │ pd_mip_dev_avg__6 │ pd_mip_dev_avg__7 │ pd_mip_dev_avg__8 │ pd_mip_dev_avg__9 │ pd_mip_dev_avg__10 │ bo_cw_circ_pump_run │ te_lub_tc_out__2 │ te_exh_turb_in__2 │ te_exh_turb_out__2 │ fr_tc__2 │ pr_lub_tc_in__2 │ te_air_comp_in_a__2 │ pr_exh_turb_out__2 │ pd_air_comp_filter…  │ fr_tc_iso__2 │ te_exh_turb_in_iso…  │ te_exh_turb_out_is…  │ te_cyl_liner_ams__12 │ te_cyl_liner_ams__13 │ te_cyl_liner_ams__14 │ te_cyl_liner_ams__15 │ te_cyl_liner_ams__16 │ te_cyl_liner_ams__17 │ pr_expansion_press…  │ pr_expansion_press…  │ re_sf_pcyl_dp_dt_l…  │ re_sf_pcyl_dp_dt_l…  │ te_air_comp_in_b__2 │ pr_air_comp__2 │ fr_tc_ecs__2 │ pr_piv_activation__7 │ re_pcomp_pscav_adj…  │ re_pcomp_pscav_adj…  │ pr_prise_adjustmen…  │ pr_prise_adjustmen…  │ pr_pmax_ordered_ac…  │ pr_pmax_ordered_ac…  │ pr_pmax_acco__9 │ pr_pmax_acco__10 │ pr_pcomp_ordered_a…  │ pr_pcomp_ordered_a…  │ pr_pcomp_acco__9 │ pr_pcomp_acco__10 │ pr_prise_ordered_a…  │ pr_prise_ordered_a…  │ pr_prise_acco__9 │ pr_prise_acco__10 │ re_mip_sf_adjustme…  │ re_mip_sf_adjustme…  │ re_mip_fo_adjustme…  │ re_mip_fo_adjustme…  │ se_mip_ordered_acc…  │ se_mip_ordered_acc…  │ se_mip_acco__9 │ se_mip_acco__10 │ te_lub_tc_out__3 │ te_exh_turb_in__3 │ te_exh_turb_out__3 │ fr_tc__3 │ pr_lub_tc_in__3 │ te_air_comp_in_a__3 │ pr_exh_turb_out__3 │ pd_air_comp_filter…  │ te_air_comp_in_b__3 │ te_coil_pist_out__11 │ te_lub_mbear_out__14 │ pr_cw_ic_in__3 │ te_cw_cyl_out_ht__11 │ te_air_scav_cyl__11 │ te_exh_cyl_out__11 │ te_cw_ic_out__3 │ te_air_ic_in__3 │ te_air_ic_out__3 │ pd_air_ic__3 │ te_cw_cover_out__11 │ te_lub_chbear_out_…  │ te_lub_chbear_out_…  │ te_lub_cpbear_out_…  │ te_cw_ic_in__3 │ se_mip__11 │ pr_cyl_max__11 │ pr_cyl_comp__11 │ mr_luboil_cyl_in_f…  │ pr_pmax_offset_chi…  │ re_pcomp_pscav_off…  │ an_exh_valve_open_…  │ re_pcomp_pscav__11 │ te_cyl_liner_wall_…  │ te_cyl_liner_wall_…  │ ec_fuel_plunger_st…  │ te_exh_turb_out_is…  │ fr_tc_iso__3 │ te_exh_turb_in_iso…  │ pd_cyl_max_dev__11 │ pd_cyl_comp_dev__11 │ se_mip_dev__11 │ re_load_low_offset…  │ re_load_high_offse…  │ pr_expansion_press…  │ pr_expansion_press…  │ re_sf_pcyl_dp_dt_l…  │ re_sf_pcyl_dp_dt_l…  │ ti_msec_adjust_acc…  │ ti_msec_adjust_acc…  │ ti_msec_adjust_acc…  │ pr_piv_activation__8 │ pr_piv_activation__9 │ pr_piv_activation_…  │ bo_pco_cyl_out_no_…  │ bo_oil_leak_cylind…  │ re_total_sf_qualit…  │ ti_fuel_eng_ordere…  │ ti_fuel_eng_ordere…  │ re_fuel_idx__0 │ re_fuel_idx__1 │ re_eng_load_fuel__0 │ re_eng_load_fuel__1 │ re_fuel_online_cor…  │ re_fuel_online_cor…  │ ti_fuel_prim_inj_g…  │ ti_fuel_prim_inj_g…  │ ti_fuel_prim_inj_g…  │ ti_fuel_prim_inj_g…  │ ti_fuel_prim_inj_g…  │ ti_fuel_prim_inj_g…  │ ti_fuel_prim_inj_g…  │ ti_fuel_prim_inj_g…  │ bo_double_pipe_ven…  │ bo_double_pipe_ven…  │ bo_sf_ss_pressure_…  │ bo_sf_ss_pressure_ok │ bo_sf_ss_ready_loc…  │ bo_sf_ss_start_stop │ in_sf_safety_state │ an_fuel_sec_inject…  │ an_fuel_sec_inject…  │ an_fuel_sec_inject…  │ an_fuel_sec_inject…  │ an_fuel_sec_inject…  │ an_fuel_sec_inject…  │ an_fuel_sec_inject…  │ an_fuel_sec_inject…  │ ti_fuel_sec_inj_go…  │ ti_fuel_sec_inj_go…  │ ti_fuel_sec_inj_go…  │ ti_fuel_sec_inj_go…  │ ti_fuel_sec_inj_go…  │ ti_fuel_sec_inj_go…  │ ti_fuel_sec_inj_go…  │ ti_fuel_sec_inj_go…  │ re_pilot_profile_o…  │ re_pilot_profile_o…  │ re_pilot_profile_o…  │ re_pilot_profile_o…  │ re_pilot_profile_o…  │ re_pilot_profile_o…  │ re_pilot_profile_o…  │ re_pilot_profile_o…  │ bo_pco_cyl_out_no_…  │ bo_oil_leak_cylind…  │ te_cyl_liner_ams__18 │ te_cyl_liner_ams__19 │ te_cyl_liner_ams__20 │ te_cyl_liner_ams__21 │ vo_melub_bn_low_to…  │ ti_fuel_prim_inj_g…  │ ti_fuel_prim_inj_g…  │ ti_fuel_prim_inj_g…  │ an_fuel_sec_inject…  │ an_fuel_sec_inject…  │ an_fuel_sec_inject…  │ ti_fuel_sec_inj_go…  │ ti_fuel_sec_inj_go…  │ ti_fuel_sec_inj_go…  │ ti_hour_egr_gas_fl…  │ ti_hour_egr_gas_fl…  │ in_egr_aux_blower_…  │ bo_egr_stop_fail │ bo_egr_shutd_fail │ re_scav_02_estimat │ sf_egr_gas_flow │ sf_egr_gas_flow_setp │ re_scav_02_setp │ bo_wts_run_cmd_1730 │ bo_wts_run_cmd_rec…  │ bo_pwcp_setp_1706 │ bo_pwcp_feedb_1708 │ bo_twsp_setp_1724 │ bo_twsp_feedb_1726 │ re_pilot_profile_o…  │ re_pilot_profile_o…  │ re_pilot_profile_o…  │ sc_pw_cunduct_1621 │ sc_pw_cunduct_fwsv…  │ an_phase_diff │ pr_cw_ic_whr_in_co…  │ te_cw_ic_whr_in_co…  │ te_cw_ic_whr_out_c…  │ bo_sf_so_system_re…  │ bo_sf_so_system_fa…  │ bo_sou_tank_vent_run │ re_sf_cso_hc_sensor │ in_sf_so_state │ te_lub_mbear_out___1 │   pid   │\n",
      "│ timestamp_ns │ double │    double    │     double     │     double     │   double    │  double   │  double   │  double   │  double   │  double   │  double   │  double   │    double     │    double     │    double     │    double     │    double     │    double     │    double     │     double     │     double     │     double     │     double     │     double     │     double     │     double     │     double      │      double      │        double        │     double      │     double      │   double   │        double        │   double    │        double        │     double      │       double       │      double       │       boolean        │        double        │     double      │    double     │        double        │        double        │        double        │       boolean        │       boolean       │       boolean        │        double        │        double        │        double        │        double        │        double        │        double        │        double        │ double  │   double   │        double        │        double        │   double   │   double    │        double        │        double        │        double        │        double        │        double        │        double        │        double        │        double        │        double        │        double        │       double       │        double        │        double        │        double        │        double        │        double        │        double        │        double        │        double        │        double        │        double        │        double        │        double        │        double        │        double        │        double        │        double        │        double        │        double        │        double        │        double        │        double        │        double        │        double        │       double       │       double       │       double       │       double       │       double       │       double        │       double        │        double        │        double        │        double        │        double        │        double        │        double        │        double        │      double       │      double       │      double       │      double       │      double       │      double       │      double       │      double      │     double      │        double        │        double        │        double        │        double        │        double        │        double        │        double        │        double        │        double        │        double        │        double        │        double        │        double        │       boolean        │        double        │       boolean        │        double        │        double        │        double        │        double        │        double        │        double        │        double        │        double        │        double        │        double        │        double        │        double        │        double        │        double        │        double        │        double        │        double        │        double        │        double        │     double      │     double      │     double      │     double      │     double      │     double      │        double        │        double        │        double        │        double        │        double        │        double        │      double      │      double      │      double      │      double      │      double      │      double      │        double        │        double        │        double        │        double        │        double        │        double        │      double      │      double      │      double      │      double      │      double      │      double      │        double        │        double        │        double        │        double        │        double        │        double        │        double        │        double        │        double        │        double        │        double        │        double        │        double        │        double        │        double        │        double        │        double        │        double        │        double        │        double        │     double     │     double     │     double     │     double     │     double     │     double     │        double        │        double        │        double        │        double        │        double        │        double        │        double        │        double        │        double        │        double        │        double        │        double        │        double        │        double        │        double        │        double        │        double        │        double        │        double        │        double        │        double        │        double        │        double        │        double        │   │        double        │        double        │        double        │        double        │        double        │        double        │        double        │        double        │        double        │        double        │        double        │        double        │        double        │        double        │        double        │        double        │        double        │        double        │        double        │       double       │       double       │       double       │       double       │       double        │       double        │       double        │       double        │       double        │        double        │      double       │      double       │      double       │      double       │       double       │       boolean       │      double      │      double       │       double       │  double  │     double      │       double        │       double       │        double        │    double    │        double        │        double        │        double        │        double        │        double        │        double        │        double        │        double        │        double        │        double        │        double        │        double        │       double        │     double     │    double    │        double        │        double        │        double        │        double        │        double        │        double        │        double        │     double      │      double      │        double        │        double        │      double      │      double       │        double        │        double        │      double      │      double       │        double        │        double        │        double        │        double        │        double        │        double        │     double     │     double      │      double      │      double       │       double       │  double  │     double      │       double        │       double       │        double        │       double        │        double        │        double        │     double     │        double        │       double        │       double       │     double      │     double      │      double      │    double    │       double        │        double        │        double        │        double        │     double     │   double   │     double     │     double      │        double        │        double        │        double        │        double        │       double       │        double        │        double        │        double        │        double        │    double    │        double        │       double       │       double        │     double     │        double        │        double        │        double        │        double        │        double        │        double        │        double        │        double        │        double        │        double        │        double        │        double        │       boolean        │       boolean        │        double        │        double        │        double        │     double     │     double     │       double        │       double        │        double        │        double        │        double        │        double        │        double        │        double        │        double        │        double        │        double        │        double        │       boolean        │       boolean        │       boolean        │       boolean        │       boolean        │       boolean       │       double       │        double        │        double        │        double        │        double        │        double        │        double        │        double        │        double        │        double        │        double        │        double        │        double        │        double        │        double        │        double        │        double        │        double        │        double        │        double        │        double        │        double        │        double        │        double        │        double        │       boolean        │       boolean        │        double        │        double        │        double        │        double        │        double        │        double        │        double        │        double        │        double        │        double        │        double        │        double        │        double        │        double        │        double        │        double        │        double        │     boolean      │      boolean      │       double       │     double      │        double        │     double      │       boolean       │       boolean        │      boolean      │      boolean       │      boolean      │      boolean       │        double        │        double        │        double        │       double       │        double        │    double     │        double        │        double        │        double        │       boolean        │       boolean        │       boolean        │       double        │     double     │        double        │ varchar │\n",
      "├──────────────┴────────┴──────────────┴────────────────┴────────────────┴─────────────┴───────────┴───────────┴───────────┴───────────┴───────────┴───────────┴───────────┴───────────────┴───────────────┴───────────────┴───────────────┴───────────────┴───────────────┴───────────────┴────────────────┴────────────────┴────────────────┴────────────────┴────────────────┴────────────────┴────────────────┴─────────────────┴──────────────────┴──────────────────────┴─────────────────┴─────────────────┴────────────┴──────────────────────┴─────────────┴──────────────────────┴─────────────────┴────────────────────┴───────────────────┴──────────────────────┴──────────────────────┴─────────────────┴───────────────┴──────────────────────┴──────────────────────┴──────────────────────┴──────────────────────┴─────────────────────┴──────────────────────┴──────────────────────┴──────────────────────┴──────────────────────┴──────────────────────┴──────────────────────┴──────────────────────┴──────────────────────┴─────────┴────────────┴──────────────────────┴──────────────────────┴────────────┴─────────────┴──────────────────────┴──────────────────────┴──────────────────────┴──────────────────────┴──────────────────────┴──────────────────────┴──────────────────────┴──────────────────────┴──────────────────────┴──────────────────────┴────────────────────┴──────────────────────┴──────────────────────┴──────────────────────┴──────────────────────┴──────────────────────┴──────────────────────┴──────────────────────┴──────────────────────┴──────────────────────┴──────────────────────┴──────────────────────┴──────────────────────┴──────────────────────┴──────────────────────┴──────────────────────┴──────────────────────┴──────────────────────┴──────────────────────┴──────────────────────┴──────────────────────┴──────────────────────┴──────────────────────┴──────────────────────┴────────────────────┴────────────────────┴────────────────────┴────────────────────┴────────────────────┴─────────────────────┴─────────────────────┴──────────────────────┴──────────────────────┴──────────────────────┴──────────────────────┴──────────────────────┴──────────────────────┴──────────────────────┴───────────────────┴───────────────────┴───────────────────┴───────────────────┴───────────────────┴───────────────────┴───────────────────┴──────────────────┴─────────────────┴──────────────────────┴──────────────────────┴──────────────────────┴──────────────────────┴──────────────────────┴──────────────────────┴──────────────────────┴──────────────────────┴──────────────────────┴──────────────────────┴──────────────────────┴──────────────────────┴──────────────────────┴──────────────────────┴──────────────────────┴──────────────────────┴──────────────────────┴──────────────────────┴──────────────────────┴──────────────────────┴──────────────────────┴──────────────────────┴──────────────────────┴──────────────────────┴──────────────────────┴──────────────────────┴──────────────────────┴──────────────────────┴──────────────────────┴──────────────────────┴──────────────────────┴──────────────────────┴──────────────────────┴──────────────────────┴──────────────────────┴─────────────────┴─────────────────┴─────────────────┴─────────────────┴─────────────────┴─────────────────┴──────────────────────┴──────────────────────┴──────────────────────┴──────────────────────┴──────────────────────┴──────────────────────┴──────────────────┴──────────────────┴──────────────────┴──────────────────┴──────────────────┴──────────────────┴──────────────────────┴──────────────────────┴──────────────────────┴──────────────────────┴──────────────────────┴──────────────────────┴──────────────────┴──────────────────┴──────────────────┴──────────────────┴──────────────────┴──────────────────┴──────────────────────┴──────────────────────┴──────────────────────┴──────────────────────┴──────────────────────┴──────────────────────┴──────────────────────┴──────────────────────┴──────────────────────┴──────────────────────┴──────────────────────┴──────────────────────┴──────────────────────┴──────────────────────┴──────────────────────┴──────────────────────┴──────────────────────┴──────────────────────┴──────────────────────┴──────────────────────┴────────────────┴────────────────┴────────────────┴────────────────┴────────────────┴────────────────┴──────────────────────┴──────────────────────┴──────────────────────┴──────────────────────┴──────────────────────┴──────────────────────┴──────────────────────┴──────────────────────┴──────────────────────┴──────────────────────┴──────────────────────┴──────────────────────┴──────────────────────┴──────────────────────┴──────────────────────┴──────────────────────┴──────────────────────┴──────────────────────┴──────────────────────┴──────────────────────┴──────────────────────┴──────────────────────┴──────────────────────┴──────────────────────┴───┴──────────────────────┴──────────────────────┴──────────────────────┴──────────────────────┴──────────────────────┴──────────────────────┴──────────────────────┴──────────────────────┴──────────────────────┴──────────────────────┴──────────────────────┴──────────────────────┴──────────────────────┴──────────────────────┴──────────────────────┴──────────────────────┴──────────────────────┴──────────────────────┴──────────────────────┴────────────────────┴────────────────────┴────────────────────┴────────────────────┴─────────────────────┴─────────────────────┴─────────────────────┴─────────────────────┴─────────────────────┴──────────────────────┴───────────────────┴───────────────────┴───────────────────┴───────────────────┴────────────────────┴─────────────────────┴──────────────────┴───────────────────┴────────────────────┴──────────┴─────────────────┴─────────────────────┴────────────────────┴──────────────────────┴──────────────┴──────────────────────┴──────────────────────┴──────────────────────┴──────────────────────┴──────────────────────┴──────────────────────┴──────────────────────┴──────────────────────┴──────────────────────┴──────────────────────┴──────────────────────┴──────────────────────┴─────────────────────┴────────────────┴──────────────┴──────────────────────┴──────────────────────┴──────────────────────┴──────────────────────┴──────────────────────┴──────────────────────┴──────────────────────┴─────────────────┴──────────────────┴──────────────────────┴──────────────────────┴──────────────────┴───────────────────┴──────────────────────┴──────────────────────┴──────────────────┴───────────────────┴──────────────────────┴──────────────────────┴──────────────────────┴──────────────────────┴──────────────────────┴──────────────────────┴────────────────┴─────────────────┴──────────────────┴───────────────────┴────────────────────┴──────────┴─────────────────┴─────────────────────┴────────────────────┴──────────────────────┴─────────────────────┴──────────────────────┴──────────────────────┴────────────────┴──────────────────────┴─────────────────────┴────────────────────┴─────────────────┴─────────────────┴──────────────────┴──────────────┴─────────────────────┴──────────────────────┴──────────────────────┴──────────────────────┴────────────────┴────────────┴────────────────┴─────────────────┴──────────────────────┴──────────────────────┴──────────────────────┴──────────────────────┴────────────────────┴──────────────────────┴──────────────────────┴──────────────────────┴──────────────────────┴──────────────┴──────────────────────┴────────────────────┴─────────────────────┴────────────────┴──────────────────────┴──────────────────────┴──────────────────────┴──────────────────────┴──────────────────────┴──────────────────────┴──────────────────────┴──────────────────────┴──────────────────────┴──────────────────────┴──────────────────────┴──────────────────────┴──────────────────────┴──────────────────────┴──────────────────────┴──────────────────────┴──────────────────────┴────────────────┴────────────────┴─────────────────────┴─────────────────────┴──────────────────────┴──────────────────────┴──────────────────────┴──────────────────────┴──────────────────────┴──────────────────────┴──────────────────────┴──────────────────────┴──────────────────────┴──────────────────────┴──────────────────────┴──────────────────────┴──────────────────────┴──────────────────────┴──────────────────────┴─────────────────────┴────────────────────┴──────────────────────┴──────────────────────┴──────────────────────┴──────────────────────┴──────────────────────┴──────────────────────┴──────────────────────┴──────────────────────┴──────────────────────┴──────────────────────┴──────────────────────┴──────────────────────┴──────────────────────┴──────────────────────┴──────────────────────┴──────────────────────┴──────────────────────┴──────────────────────┴──────────────────────┴──────────────────────┴──────────────────────┴──────────────────────┴──────────────────────┴──────────────────────┴──────────────────────┴──────────────────────┴──────────────────────┴──────────────────────┴──────────────────────┴──────────────────────┴──────────────────────┴──────────────────────┴──────────────────────┴──────────────────────┴──────────────────────┴──────────────────────┴──────────────────────┴──────────────────────┴──────────────────────┴──────────────────────┴──────────────────────┴──────────────────────┴──────────────────────┴──────────────────┴───────────────────┴────────────────────┴─────────────────┴──────────────────────┴─────────────────┴─────────────────────┴──────────────────────┴───────────────────┴────────────────────┴───────────────────┴────────────────────┴──────────────────────┴──────────────────────┴──────────────────────┴────────────────────┴──────────────────────┴───────────────┴──────────────────────┴──────────────────────┴──────────────────────┴──────────────────────┴──────────────────────┴──────────────────────┴─────────────────────┴────────────────┴──────────────────────┴─────────┤\n",
      "│                                                                                                                                                                                                                                                                                                                                                                                                                                                                                                                                                                                                                                                                                                                                                                                                                                                                                                                                                                                                                                                                                                                                                                                                                                                                                                                                                                                                                                                                                                                                                                                                                                                                                                                                                                                                                                                                                                                                                                                                                                                                                                                                                                                                                                                                                                                                                                                                                                                                                                                                                                                                                                                                                                                                                                                                                                                                                                                                                                                                                                                                                                                                                                                                                                                                                                                                                                                                                                                                                                                                                                                                                                                                                                                                                                                                                                                                                                                                                                                                                                                                                                                                                                                                                                                                                                                                                                                                                                                                                                                                                                                                                                                                                                                                                                                                                                                                                                                                                                                                                                                                                                                                                                                               0 rows                                                                                                                                                                                                                                                                                                                                                                                                                                                                                                                                                                                                                                                                                                                                                                                                                                                                                                                                                                                                                                                                                                                                                                                                                                                                                                                                                                                                                                                                                                                                                                                                                                                                                                                                                                                                                                                                                                                                                                                                                                                                                                                                                                                                                                                                                                                                                                                                                                                                                                                                                                                                                                                                                                                                                                                                                                                                                                                                                                                                                                                                                                                                                                                                                                                                                                                                                                                                                                                                                                                                                                                                                                                                                                                                                                                                                                                                                                                                                                                                                                                                                                                                                                                                                                                                                                                                                                                                                                                                                                                                                                                                                                                                                                                                                                                                                                                                                                                                                                                                                                                                                                                                                                                                │\n",
      "└─────────────────────────────────────────────────────────────────────────────────────────────────────────────────────────────────────────────────────────────────────────────────────────────────────────────────────────────────────────────────────────────────────────────────────────────────────────────────────────────────────────────────────────────────────────────────────────────────────────────────────────────────────────────────────────────────────────────────────────────────────────────────────────────────────────────────────────────────────────────────────────────────────────────────────────────────────────────────────────────────────────────────────────────────────────────────────────────────────────────────────────────────────────────────────────────────────────────────────────────────────────────────────────────────────────────────────────────────────────────────────────────────────────────────────────────────────────────────────────────────────────────────────────────────────────────────────────────────────────────────────────────────────────────────────────────────────────────────────────────────────────────────────────────────────────────────────────────────────────────────────────────────────────────────────────────────────────────────────────────────────────────────────────────────────────────────────────────────────────────────────────────────────────────────────────────────────────────────────────────────────────────────────────────────────────────────────────────────────────────────────────────────────────────────────────────────────────────────────────────────────────────────────────────────────────────────────────────────────────────────────────────────────────────────────────────────────────────────────────────────────────────────────────────────────────────────────────────────────────────────────────────────────────────────────────────────────────────────────────────────────────────────────────────────────────────────────────────────────────────────────────────────────────────────────────────────────────────────────────────────────────────────────────────────────────────────────────────────────────────────────────────────────────────────────────────────────────────────────────────────────────────────────────────────────────────────────────────────────────────────────────────────────────────────────────────────────────────────────────────────────────────────────────────────────────────────────────────────────────────────────────────────────────────────────────────────────────────────────────────────────────────────────────────────────────────────────────────────────────────────────────────────────────────────────────────────────────────────────────────────────────────────────────────────────────────────────────────────────────────────────────────────────────────────────────────────────────────────────────────────────────────────────────────────────────────────────────────────────────────────────────────────────────────────────────────────────────────────────────────────────────────────────────────────────────────────────────────────────────────────────────────────────────────────────────────────────────────────────────────────────────────────────────────────────────────────────────────────────────────────────────────────────────────────────────────────────────────────────────────────────────────────────────────────────────────────────────────────────────────────────────────────────────────────────────────────────────────────────────────────────────────────────────────────────────────────────────────────────────────────────────────────────────────────────────────────────────────────────────────────────────────────────────────────────────────────────────────────────────────────────────────────────────────────────────────────────────────────────────────────────────────────────────────────────────────────────────────────────────────────────────────────────────────────────────────────────────────────────────────────────────────────────────────────────────────────────────────────────────────────────────────────────────────────────────────────────────────────────────────────────────────────────────────────────────────────────────────────────────────────────────────────────────────────────────────────────────────────────────────────────────────────────────────────────────────────────────────────────────────────────────────────────────────────────────────────────────────────────────────────────────────────────────────────────────────────────────────────────────────────────────────────────────────────────────────────────────────────────────────────────────────────────────────────────────────────────────────────────────────────────────────────────────────────────────────────────────────────────────────────────────────────────────────────────────────────────────────────────────────────────────────────────────────────────────────────────────────────────────────────────────────────────────────────────────────────────────────────────────────────────────────────────────────────────────────────────────────────────────────────────────────────────────────────────────────────────────────────────────────────────────────────────────────────────────────────────────────────────────────────────────────────────────────────────────────────────────────────────────────────────────────────────────────────────────────────────────────────────────────────────────────────────────────────────────────────────────────────────────────────────────────────────────────────────────────────────────────────────────────────────────────────────────────────────────────────────────────────────────────────────────────────────────────────────────────────────────────────────────────────────────────────────────────────────────────────────────────────────────────────────────────────────────────────────────────────────────────────────────────────────────────────────────────────────────────────────────────────────────────────────────────────────────────────────────────────────────────────────────────────────────────────────────────────────────────────────────────────────────────────────────────────────────────────────────────────────────────────────────────────────────────────────────────────────────────────────────────────────────────────────────────────────────────────────────────────────────────────────────────────────────────────────────────────────────────────────────────────────────────────────────────────────────────────────────────────────────────────────────────────────────────────────────────────────────────────────────────────────────────────────────────────────────────────────────────────────────────────────────────────────────────────────────────────────────────────────────────────────────────────────────────────────────────────────────────────────────────────────────────────────────────────────────────────────────────────────────────────────────────────────────────────────────────────────────────────────────────────────────────────────────────────────────────────────────────────────────────────────────────────────────────────────────────────────────────────────────────────────────────────────────────────────────────────────────────────────────────────────────────────────────────────────────────────────────────────────────────────────────────────────────────────────────────────────────────────────────────────────────────────────────────────────────────────────────────────────────────────────────────────────────────────────────────────────────────────────────────────────────────────────────────────────────────────────────────────────────────────────────────────────────────────────────────────────────────────────────────────────────────────────────────────────────────────────────────────────────────────────────────────────────────────────────────────────────────────────────────────────────────────────────────────────────────────────────────────────────────────────────────────────────────────────────────────────────────────────────────────────────────────────────────────────────────────────────────────────────────────────────────────────────────────────────────────────────────────────────────────────────────────────────────────────────────────────────────────────────────────────────────────────────────────────────────────────────────────────────────────────────────────────────────────────────────────────────────────────────────────────────────────────────────────────────────────────────────────────────────────────────────────────────────────────────────────────────────────────────────────────────────────────────────────────────────────────────────────────────────────────────────────────────────────────────────────────────────────────────────────────────────────────────────────────────────────────────────────────────────────────────────────────────────────────────────────────────────────────────────────────────────────────────────────────────────────────────────────────────────────────────────────────────────────────────────────────────────────────────────────────────────────────────────────────────────────────────────────────────────────────────────────────────────────────────────────────────────────────────────────────────────────────────────────────────────────────────────────────────────────────────────────────────────────────────────────────────────────────────────────────────────────────────────────────────────────────────────────────────────────────────────────────────────────────────────────────────────────────────────────────────────────────────────────────────────────────────────────────────────────────────────────────────────────────────────────────────────────────────────────────────────────────────────────────────────────────────────────────────────────────────────────────────────────────────────────────────────────────────────────────────────────────────────────────────────────────────────────────────────────────┘\n",
      "\n"
     ]
    }
   ],
   "source": [
    "con = setup_duckdb()\n",
    "f = con.sql(\"\"\"\n",
    "       SELECT *\n",
    "       FROM timeseries\n",
    "       WHERE\n",
    "       time BETWEEN '2023-10-01' AND '2024-10-01'\n",
    "       AND pid = '4408337-3'\n",
    "       LIMIT 10\n",
    "          \"\"\")\n",
    "print(f)"
   ]
  },
  {
   "cell_type": "code",
   "execution_count": null,
   "id": "d4076b6d",
   "metadata": {},
   "outputs": [],
   "source": [
    "e = con.sql(\"\"\"\n",
    "          SELECT distinct pid\n",
    "          FROM timeseries\n",
    "          LIMIT 50\n",
    "          \"\"\")\n",
    "print(e)"
   ]
  },
  {
   "cell_type": "markdown",
   "id": "4a512a8e",
   "metadata": {},
   "source": [
    "get tags from timeseries "
   ]
  },
  {
   "cell_type": "code",
   "execution_count": null,
   "id": "48d2be6a",
   "metadata": {},
   "outputs": [],
   "source": [
    "query = \"PRAGMA table_info('timeseries')\"\n",
    "\n",
    "# Execute the query\n",
    "result = con.execute(query).fetchall()\n",
    "\n",
    "# Extract and print column names\n",
    "tags = [row[1] for row in result]\n",
    "print(\"Available tags in the timeseries table:\")\n",
    "for tag in tags:\n",
    "    print(tag)\n"
   ]
  },
  {
   "cell_type": "code",
   "execution_count": null,
   "id": "7e5e7746",
   "metadata": {},
   "outputs": [],
   "source": [
    "pd.set_option(\"display.max_columns\", None)\n",
    "\n",
    "\n",
    "def load_engine_data(\n",
    "    con: DuckDB, product_id: str, start: pd.Timestamp, stop: pd.Timestamp, tags: list[str]\n",
    ") -> Relation:\n",
    "    return con.sql(f\"\"\"\n",
    "    SELECT {\",\".join(tags)}\n",
    "    FROM timeseries\n",
    "    WHERE\n",
    "        time BETWEEN '{start}' AND '{stop}'\n",
    "        AND pid = '{product_id}'\n",
    "    \"\"\")\n",
    "\n",
    "\n",
    "def get_tags_hash(tags):\n",
    "    return hashlib.md5(\",\".join(tags).encode()).hexdigest()\n",
    "\n",
    "\n",
    "start, stop = pd.Timestamp(\"2023-10-01\"), pd.Timestamp(\"2024-10-01\")\n",
    "\n",
    "tags = [\n",
    "    \"time\",\n",
    "    \"fr_eng\",\n",
    "    \"pr_air_start\",\n",
    "    \"pr_air_control\",\n",
    "    \"te_fuel_eng_in\",\n",
    "    \"pr_air_scav\",\n",
    "    \"re_exh_incr\",\n",
    "    \"pr_pmax_ordered\",\n",
    "    \"fr_eng_setpoint\",\n",
    "    \"re_eng_load_estimate_ecs\",\n",
    "    \"in_engine_running_mode\",\n",
    "    \"re_fuel_sulpher\",\n",
    "    \"bo_melub_state_prelube\",\n",
    "    \"cv_fuel\",\n",
    "    \"re_total_fuel_quality_offset\",\n",
    "    \"pr_hydr_out\",\n",
    "    \"te_lub_oil_in_hps\",\n",
    "    \"vi_fuel_eng_in\",\n",
    "    \"ti_fuel_prim_inj_gov__8\",\n",
    "]\n",
    "product_id = \"89ccb7a888d53f8792f0580801cede9a\"\n",
    "\n",
    "cache = Path(f\"/tmp/data_{get_tags_hash(tags)}.parquet\")\n",
    "if cache.exists():\n",
    "    df = pd.read_parquet(cache)\n",
    "else:\n",
    "    con = setup_duckdb()\n",
    "    df = load_engine_data(con, product_id, start, stop, tags).df()\n",
    "    df.to_parquet(cache)\n",
    "\n",
    "print(df.head(10))"
   ]
  },
  {
   "cell_type": "code",
   "execution_count": 4,
   "id": "6aefb319",
   "metadata": {},
   "outputs": [],
   "source": [
    "path = \"/home/ec2-user/SageMaker/sensor-imputation-thesis/sensor-imputation-thesis/src/sensor_imputation_thesis/nadire/dataframe\"\n",
    "df.to_csv(path, index=False)\n"
   ]
  },
  {
   "cell_type": "code",
   "execution_count": null,
   "id": "6162873b",
   "metadata": {},
   "outputs": [],
   "source": [
    "# Df saved, no need to load everytime, just read it. change data to df\n",
    "df = pd.read_csv(\n",
    "    \"/home/ec2-user/SageMaker/sensor-imputation-thesis/sensor-imputation-thesis/src/sensor_imputation_thesis/nadire/dataframe\"\n",
    ")"
   ]
  },
  {
   "cell_type": "code",
   "execution_count": null,
   "id": "1e50471c",
   "metadata": {},
   "outputs": [],
   "source": [
    "# drop columns with nan values\n",
    "df1 = df.dropna(axis=1, how=\"all\")\n",
    "print(df1)"
   ]
  },
  {
   "cell_type": "code",
   "execution_count": null,
   "id": "07b7c10f",
   "metadata": {},
   "outputs": [],
   "source": [
    "# encode categorical column \"bo_melub_state_prelube\" into numerical\n",
    "from sklearn.preprocessing import LabelEncoder\n",
    "\n",
    "# Create a LabelEncoder object\n",
    "label_encoder = LabelEncoder()\n",
    "# Fit and transform the categorical column\n",
    "df1[\"bo_melub_state_prelube_encoded\"] = label_encoder.fit_transform(df1[\"bo_melub_state_prelube\"])\n",
    "# drop the original column\n",
    "df1.drop(\"bo_melub_state_prelube\", axis=1, inplace=True)\n",
    "# print\n",
    "print(df1)\n"
   ]
  },
  {
   "cell_type": "code",
   "execution_count": null,
   "id": "0b88799f",
   "metadata": {},
   "outputs": [],
   "source": [
    "df1.columns"
   ]
  },
  {
   "cell_type": "markdown",
   "id": "818bd76c",
   "metadata": {},
   "source": [
    "CREATE A HEATMAP"
   ]
  },
  {
   "cell_type": "code",
   "execution_count": null,
   "id": "cc7be304",
   "metadata": {},
   "outputs": [],
   "source": [
    "import seaborn as sns\n",
    "import matplotlib.pyplot as plt\n",
    "\n",
    "# Filter the DataFrame to include only numerical columns\n",
    "df2 = df1[:10000]\n",
    "numeric_df = df2.select_dtypes(include=\"number\")\n",
    "\n",
    "# create correlation matrix\n",
    "corr_matrix = numeric_df.corr()\n",
    "# Create a heatmap with the correlation matrix\n",
    "sns.heatmap(corr_matrix, annot=True, cmap=\"YlGnBu\")\n",
    "\n",
    "# Show the plot\n",
    "plt.show()\n"
   ]
  },
  {
   "cell_type": "markdown",
   "id": "af52c069",
   "metadata": {},
   "source": [
    "## ML Set up"
   ]
  },
  {
   "cell_type": "code",
   "execution_count": 23,
   "id": "c030e0cb",
   "metadata": {},
   "outputs": [],
   "source": [
    "mlflow.set_tracking_uri(\"http://localhost:5000\")"
   ]
  },
  {
   "cell_type": "markdown",
   "id": "ce1cefb1",
   "metadata": {},
   "source": [
    "Linear Attempt"
   ]
  },
  {
   "cell_type": "code",
   "execution_count": 6,
   "id": "4fccd970",
   "metadata": {},
   "outputs": [],
   "source": [
    "from sklearn.pipeline import Pipeline\n",
    "import numpy as np\n",
    "from sklearn.preprocessing import StandardScaler\n",
    "from sklearn.metrics import mean_absolute_error, mean_squared_error, r2_score\n",
    "from sklearn.model_selection import train_test_split, TimeSeriesSplit\n",
    "from sklearn.linear_model import LinearRegression\n",
    "from sklearn.compose import ColumnTransformer\n",
    "from sklearn.impute import KNNImputer\n",
    "from sklearn.compose import make_column_selector as selector\n",
    "import mlflow\n",
    "import mlflow.sklearn\n",
    "from sklearn import datasets\n",
    "from sklearn.ensemble import RandomForestClassifier\n",
    "from sklearn.metrics import accuracy_score\n",
    "from sklearn.model_selection import GridSearchCV\n",
    "from sklearn.ensemble import RandomForestRegressor\n"
   ]
  },
  {
   "cell_type": "markdown",
   "id": "7ea73e1d",
   "metadata": {},
   "source": [
    "Simple Multi-variable Attempts to Impute pr_hydr_out based on heatmap"
   ]
  },
  {
   "cell_type": "code",
   "execution_count": null,
   "id": "3509ef50",
   "metadata": {},
   "outputs": [],
   "source": [
    "df2 = df1[:10000]\n",
    "df2.columns"
   ]
  },
  {
   "cell_type": "code",
   "execution_count": 17,
   "id": "6280ce60",
   "metadata": {},
   "outputs": [],
   "source": [
    "# Assign X and y with smaller df2(10000 rows)\n",
    "X = df2[[\"fr_eng\", \"pr_air_control\", \"te_fuel_eng_in\", \"pr_air_scav\", \"fr_eng_setpoint\", \"re_fuel_sulpher\"]]\n",
    "y = df2[\"pr_hydr_out\"]\n",
    "\n",
    "# Split train and test size with chronological order 8:2\n",
    "train_size = int(len(df2) * 0.8)\n",
    "X_train, X_test = X.iloc[:train_size], X.iloc[train_size:]\n",
    "y_train, y_test = y[:train_size], y[train_size:]"
   ]
  },
  {
   "cell_type": "code",
   "execution_count": 27,
   "id": "3ba82b2a",
   "metadata": {},
   "outputs": [],
   "source": [
    "Preprocessor = ColumnTransformer(\n",
    "    transformers=[\n",
    "        (\n",
    "            \"num\",\n",
    "            Pipeline([(\"imputer\", KNNImputer(n_neighbors=2, weights=\"uniform\")), (\"scaler\", StandardScaler())]),\n",
    "            selector(dtype_include=\"number\"),\n",
    "        )\n",
    "    ],\n",
    "    remainder=\"drop\",\n",
    ")\n",
    "\n",
    "Pipeline1 = Pipeline([(\"preprocessor\", Preprocessor), (\"Linear Regression\", LinearRegression())])"
   ]
  },
  {
   "cell_type": "code",
   "execution_count": null,
   "id": "b9d4ab9c",
   "metadata": {},
   "outputs": [],
   "source": [
    "Pipeline1.fit(X_train, y_train)"
   ]
  },
  {
   "cell_type": "code",
   "execution_count": null,
   "id": "fd787792",
   "metadata": {},
   "outputs": [],
   "source": [
    "y_pred = Pipeline1.predict(X_test)\n",
    "mse = mean_squared_error(y_test, y_pred)\n",
    "mae = mean_absolute_error(y_test, y_pred)\n",
    "r2 = r2_score(y_test, y_pred)\n",
    "print(\"mse:\", mse)\n",
    "print(\"mae:\", mae)\n",
    "print(\"r2:\", r2)\n"
   ]
  },
  {
   "cell_type": "markdown",
   "id": "0f604778",
   "metadata": {},
   "source": [
    "# Linear with the re_eng_load_estimate_ecs as y \n"
   ]
  },
  {
   "cell_type": "code",
   "execution_count": 16,
   "id": "668e4c54",
   "metadata": {},
   "outputs": [],
   "source": [
    "# Assign X and y with smaller df2(10000 rows)\n",
    "X = df2[[\"fr_eng\", \"pr_air_control\", \"te_fuel_eng_in\", \"pr_air_scav\", \"fr_eng_setpoint\", \"pr_hydr_out\"]]\n",
    "y = df2[\"re_eng_load_estimate_ecs\"]\n",
    "\n",
    "# Split train and test size with chronological order 8:2\n",
    "train_size = int(len(df2) * 0.8)\n",
    "X_train, X_test = X.iloc[:train_size], X.iloc[train_size:]\n",
    "y_train, y_test = y[:train_size], y[train_size:]"
   ]
  },
  {
   "cell_type": "code",
   "execution_count": null,
   "id": "7197e4c8",
   "metadata": {},
   "outputs": [],
   "source": [
    "Preprocessor = ColumnTransformer(\n",
    "    transformers=[\n",
    "        (\n",
    "            \"num\",\n",
    "            Pipeline([(\"imputer\", KNNImputer(n_neighbors=2, weights=\"uniform\")), (\"scaler\", StandardScaler())]),\n",
    "            selector(dtype_include=\"number\"),\n",
    "        )\n",
    "    ],\n",
    "    remainder=\"drop\",\n",
    ")\n",
    "\n",
    "Pipeline1 = Pipeline([(\"preprocessor\", Preprocessor), (\"Linear Regression\", LinearRegression())])\n",
    "\n",
    "Pipeline1.fit(X_train, y_train)"
   ]
  },
  {
   "cell_type": "code",
   "execution_count": null,
   "id": "6af336da",
   "metadata": {},
   "outputs": [],
   "source": [
    "y_pred=Pipeline1.predict(X_test)\n",
    "mse=mean_squared_error(y_test,y_pred)\n",
    "mae=mean_absolute_error(y_test,y_pred)\n",
    "r2=r2_score(y_test,y_pred)\n",
    "print(\"mse:\",mse)\n",
    "print(\"mae:\",mae)\n",
    "print(\"r2:\",r2)\n",
    "input_example=X_test.iloc[:1]\n",
    "with mlflow.start_run(run_name=\"model_with_re_eng_load_estimate_ecs_as_y\")\n",
    "    mlflow.log_metric(\"mae\", mae)\n",
    "    mlflow.log_metric(\"r2\",r2)\n",
    "    mlflow.sklearn.log_model(Pipeline1, artifact_path=\"model_with_re_eng_load_estimate_ecs_as_y\", input_example=input_example)"
   ]
  },
  {
   "cell_type": "markdown",
   "id": "70afda33",
   "metadata": {},
   "source": [
    "## Random Forest with KNN Imputer Deleted "
   ]
  },
  {
   "cell_type": "code",
   "execution_count": null,
   "id": "3f4789e8",
   "metadata": {},
   "outputs": [],
   "source": [
    "# Assign X and y with smaller df2(10000 rows) and changed X variables for RandomForest\n",
    "X = df2[[\"fr_eng\", \"pr_air_control\", \"te_fuel_eng_in\", \"pr_air_scav\", \"fr_eng_setpoint\", \"pr_hydr_out\"]]\n",
    "y = df2[\"re_eng_load_estimate_ecs\"]\n",
    "\n",
    "# Split train and test size with chronological order 8:2\n",
    "train_size = int(len(df2) * 0.8)\n",
    "X_train, X_test = X.iloc[:train_size], X.iloc[train_size:]\n",
    "y_train, y_test = y[:train_size], y[train_size:]\n",
    "\n",
    "Pipeline1 = Pipeline([(\"Scaler\", StandardScaler()), (\"RandomForest\", RandomForestRegressor())])\n",
    "\n",
    "Pipeline1.fit(X_train, y_train)"
   ]
  },
  {
   "cell_type": "code",
   "execution_count": null,
   "id": "bad2687e",
   "metadata": {},
   "outputs": [],
   "source": [
    "y_pred = Pipeline1.predict(X_test)\n",
    "\n",
    "mse = mean_squared_error(y_test, y_pred)\n",
    "mae = mean_absolute_error(y_test, y_pred)\n",
    "r2 = r2_score(y_test, y_pred)\n",
    "print(\"mse:\", mse)\n",
    "print(\"mae:\", mae)\n",
    "print(\"r2:\", r2)"
   ]
  },
  {
   "cell_type": "code",
   "execution_count": 38,
   "id": "945cb107",
   "metadata": {},
   "outputs": [],
   "source": [
    "input_example = X_test.iloc[:1]"
   ]
  },
  {
   "cell_type": "code",
   "execution_count": null,
   "id": "cfbb3804",
   "metadata": {},
   "outputs": [],
   "source": [
    "with mlflow.start_run():\n",
    "    mlflow.log_param(\"mse\", mse)\n",
    "    mlflow.log_metric(\"mae\", mae)\n",
    "    mlflow.log_metric(\"r2\", r2)\n",
    "    mlflow.sklearn.log_model(Pipeline1, artifact_path=\"randomforest_re_engsy\", input_example=input_example)"
   ]
  },
  {
   "cell_type": "markdown",
   "id": "db2e980c",
   "metadata": {},
   "source": [
    "## Grid Search for Ranfom Forest, y as re_eng_load_estimate_ecs"
   ]
  },
  {
   "cell_type": "code",
   "execution_count": null,
   "id": "6138a62c",
   "metadata": {},
   "outputs": [],
   "source": [
    "# Update pipeline\n",
    "Preprocessor = ColumnTransformer(\n",
    "    transformers=[\n",
    "        (\n",
    "            \"num\",\n",
    "            Pipeline([(\"imputer\", KNNImputer(n_neighbors=2, weights=\"uniform\")), (\"scaler\", StandardScaler())]),\n",
    "            selector(dtype_include=\"number\"),\n",
    "        )\n",
    "    ],\n",
    "    remainder=\"drop\",\n",
    ")\n",
    "\n",
    "Pipeline2 = Pipeline([(\"preprocessor\", Preprocessor), (\"Random Forest\", RandomForestRegressor())])\n",
    "# Hyperparameter tuning\n",
    "param_grid = {\"Random Forest__n_estimators\": [50, 100, 200], \"Random Forest__max_depth\": [None, 10, 20, 30]}\n",
    "grid_search = GridSearchCV(Pipeline2, param_grid, cv=5, scoring=\"neg_mean_squared_error\")\n",
    "grid_search.fit(X_train, y_train)\n",
    "\n",
    "print(\"Best parameters found: \", grid_search.best_params_)\n",
    "print(\"Best score: \", -grid_search.best_score_)"
   ]
  },
  {
   "cell_type": "code",
   "execution_count": null,
   "id": "bd217a1c",
   "metadata": {},
   "outputs": [],
   "source": [
    "# Fit randomforestregressor model with optimal parameter\n",
    "Pipeline2 = Pipeline(\n",
    "    [(\"preprocessor\", Preprocessor), (\"Random Forest\", RandomForestRegressor(n_estimators=50, random_state=42))]\n",
    ")\n",
    "Pipeline2.fit(X_train, y_train)\n",
    "# Make predictions\n",
    "y_pred = Pipeline2.predict(X_test)\n",
    "\n",
    "# Calculate metrics\n",
    "mse = mean_squared_error(y_test, y_pred)\n",
    "mae = mean_absolute_error(y_test, y_pred)\n",
    "r2 = r2_score(y_test, y_pred)\n",
    "\n",
    "# log in mlflow\n",
    "with mlflow.start_run(run_name=\"randommodel_with_re_eng_as_y\"):\n",
    "    mlflow.log_param(\"mse\", mse)\n",
    "    mlflow.log_metric(\"mae\", mae)\n",
    "    mlflow.log_metric(\"r2\", r2)\n",
    "    mlflow.sklearn.log_model(Pipeline2, artifact_path=\"randommodel_with_re_eng_as_y\", input_example=input_example)\n",
    "\n",
    "print(\"mse:\", mse)\n",
    "print(\"mae:\", mae)\n",
    "print(\"r2:\", r2)\n"
   ]
  },
  {
   "cell_type": "markdown",
   "id": "89e8b764",
   "metadata": {},
   "source": [
    "### Gradient Boosting Model for re_eng_load_ecs as y "
   ]
  },
  {
   "cell_type": "code",
   "execution_count": 53,
   "id": "8cb693da",
   "metadata": {},
   "outputs": [],
   "source": [
    "model = GradientBoostingRegressor(n_estimators=100, learning_rate=0.1, max_depth=3, random_state=42)\n",
    "# Fit the model on the available data\n",
    "model.fit(X_train, y_train)\n",
    "# Predict the missing values\n",
    "y_pred = model.predict(X_test)"
   ]
  },
  {
   "cell_type": "code",
   "execution_count": null,
   "id": "23d47b9f",
   "metadata": {},
   "outputs": [],
   "source": [
    "mse = mean_squared_error(y_test, y_pred)\n",
    "mae = mean_absolute_error(y_test, y_pred)\n",
    "r2 = r2_score(y_test, y_pred)\n",
    "\n",
    "print(\"mse:\", mse)\n",
    "print(\"mae:\", mae)\n",
    "print(\"r2:\", r2)\n"
   ]
  },
  {
   "cell_type": "markdown",
   "id": "623c9c9f",
   "metadata": {},
   "source": [
    "Grid Search for Gradient Boosting "
   ]
  },
  {
   "cell_type": "code",
   "execution_count": null,
   "id": "4e81e98d",
   "metadata": {},
   "outputs": [],
   "source": [
    "model = GradientBoostingRegressor(random_state=42)\n",
    "\n",
    "# Define the parameter grid for hyperparameter tuning\n",
    "param_grid = {\n",
    "    \"n_estimators\": [50, 100, 200],\n",
    "    \"learning_rate\": [0.01, 0.1, 0.2],\n",
    "    \"max_depth\": [3, 4, 5],\n",
    "    \"min_samples_split\": [2, 5, 10],\n",
    "    \"min_samples_leaf\": [1, 2, 4],\n",
    "}\n",
    "\n",
    "# Perform grid search\n",
    "grid_search = GridSearchCV(estimator=model, param_grid=param_grid, cv=5, scoring=\"neg_mean_squared_error\", n_jobs=-1)\n",
    "grid_search.fit(X_train, y_train)\n",
    "\n",
    "# Get the best parameters and the best score\n",
    "best_params = grid_search.best_params_\n",
    "best_score = -grid_search.best_score_\n",
    "\n",
    "print(\"Best parameters found: \", best_params)\n",
    "print(\"Best score: \", best_score)"
   ]
  },
  {
   "cell_type": "code",
   "execution_count": null,
   "id": "d3bc0fd6",
   "metadata": {},
   "outputs": [],
   "source": [
    "model = GradientBoostingRegressor(\n",
    "    n_estimators=50, learning_rate=0.2, max_depth=4, min_samples_leaf=1, min_samples_split=10, random_state=42\n",
    ")\n",
    "# Fit the model on the available data\n",
    "model.fit(X_train, y_train)\n",
    "# Make predictions\n",
    "y_pred = model.predict(X_test)\n",
    "\n",
    "# Calculate metrics\n",
    "mse = mean_squared_error(y_test, y_pred)\n",
    "mae = mean_absolute_error(y_test, y_pred)\n",
    "r2 = r2_score(y_test, y_pred)\n",
    "\n",
    "print(\"mse:\", mse)\n",
    "print(\"mae:\", mae)\n",
    "print(\"r2:\", r2)\n"
   ]
  },
  {
   "cell_type": "markdown",
   "id": "d8b91916",
   "metadata": {},
   "source": [
    "Feature Importance Engineering from Gradient Boosting based on previous model "
   ]
  },
  {
   "cell_type": "code",
   "execution_count": null,
   "id": "2ed8e265",
   "metadata": {},
   "outputs": [],
   "source": [
    "import matplotlib.pyplot as plt\n",
    "\n",
    "# Get feature importances\n",
    "importances = model.feature_importances_\n",
    "# Create a DataFrame for better visualization\n",
    "importances_df = pd.DataFrame({\"Feature\": X.columns, \"Importance\": importances})\n",
    "# Sort the DataFrame by importance\n",
    "importances_df = importances_df.sort_values(by=\"Importance\", ascending=False)\n",
    "# Plot feature importances\n",
    "plt.figure(figsize=(10, 6))\n",
    "plt.barh(importances_df[\"Feature\"], importances_df[\"Importance\"])\n",
    "plt.xlabel(\"Importance\")\n",
    "plt.title(\"Feature Importances\")\n",
    "plt.gca().invert_yaxis()\n",
    "plt.show()\n"
   ]
  },
  {
   "cell_type": "markdown",
   "id": "efc4f1c1",
   "metadata": {},
   "source": [
    "Optimize GradientBoostingModel with important Xs"
   ]
  },
  {
   "cell_type": "code",
   "execution_count": 69,
   "id": "54e95e44",
   "metadata": {},
   "outputs": [],
   "source": [
    "# Create Interactions with two speed related columns\n",
    "df2.loc[:, \"fr_eng*fr_eng_setpoint\"] = df2[\"fr_eng\"] * df2[\"fr_eng_setpoint\"]\n",
    "# Reassign Xs\n",
    "X = df2[[\"fr_eng\", \"pr_air_scav\", \"fr_eng_setpoint\", \"pr_hydr_out\", \"fr_eng*fr_eng_setpoint\"]]\n",
    "y = df2[\"re_eng_load_estimate_ecs\"]\n",
    "\n",
    "# Split train and test size with chronological order 8:2\n",
    "train_size = int(len(df2) * 0.8)\n",
    "X_train, X_test = X.iloc[:train_size], X.iloc[train_size:]\n",
    "y_train, y_test = y[:train_size], y[train_size:]"
   ]
  },
  {
   "cell_type": "code",
   "execution_count": null,
   "id": "1cae7056",
   "metadata": {},
   "outputs": [],
   "source": [
    "model = GradientBoostingRegressor(\n",
    "    n_estimators=50, learning_rate=0.2, max_depth=4, min_samples_leaf=1, min_samples_split=10, random_state=42\n",
    ")\n",
    "# Fit the model on the available data\n",
    "model.fit(X_train, y_train)\n",
    "# Make predictions\n",
    "y_pred = model.predict(X_test)\n",
    "\n",
    "# Calculate metrics\n",
    "mse = mean_squared_error(y_test, y_pred)\n",
    "mae = mean_absolute_error(y_test, y_pred)\n",
    "r2 = r2_score(y_test, y_pred)\n",
    "\n",
    "print(\"mse:\", mse)\n",
    "print(\"mae:\", mae)\n",
    "print(\"r2:\", r2)\n"
   ]
  },
  {
   "cell_type": "code",
   "execution_count": null,
   "id": "41072bf5",
   "metadata": {},
   "outputs": [],
   "source": [
    "model = GradientBoostingRegressor(random_state=42)\n",
    "\n",
    "# Define the parameter grid for hyperparameter tuning\n",
    "param_grid = {\n",
    "    \"n_estimators\": [50, 100, 200],\n",
    "    \"learning_rate\": [0.01, 0.1, 0.2],\n",
    "    \"max_depth\": [3, 4, 5],\n",
    "    \"min_samples_split\": [2, 5, 10],\n",
    "    \"min_samples_leaf\": [1, 2, 4],\n",
    "}\n",
    "\n",
    "# Perform grid search\n",
    "grid_search = GridSearchCV(estimator=model, param_grid=param_grid, cv=5, scoring=\"neg_mean_squared_error\", n_jobs=-1)\n",
    "grid_search.fit(X_train, y_train)\n",
    "\n",
    "# Get the best parameters and the best score\n",
    "best_params = grid_search.best_params_\n",
    "best_score = -grid_search.best_score_\n",
    "\n",
    "print(\"Best parameters found: \", best_params)\n",
    "print(\"Best score: \", best_score)"
   ]
  },
  {
   "cell_type": "code",
   "execution_count": null,
   "id": "1455bf32",
   "metadata": {},
   "outputs": [],
   "source": [
    "model = GradientBoostingRegressor(\n",
    "    n_estimators=100, learning_rate=0.2, max_depth=4, min_samples_leaf=2, min_samples_split=5, random_state=42\n",
    ")\n",
    "# Fit the model on the available data\n",
    "model.fit(X_train, y_train)\n",
    "# Make predictions\n",
    "y_pred = model.predict(X_test)\n",
    "\n",
    "# Calculate metrics\n",
    "mse = mean_squared_error(y_test, y_pred)\n",
    "mae = mean_absolute_error(y_test, y_pred)\n",
    "r2 = r2_score(y_test, y_pred)\n",
    "\n",
    "print(\"mse:\", mse)\n",
    "print(\"mae:\", mae)\n",
    "print(\"r2:\", r2)"
   ]
  },
  {
   "cell_type": "code",
   "execution_count": null,
   "id": "d565cdfd",
   "metadata": {},
   "outputs": [],
   "source": [
    "# Check if deleting interactions help improve performance\n",
    "X = df2[[\"fr_eng\", \"pr_air_scav\", \"fr_eng_setpoint\", \"pr_hydr_out\"]]\n",
    "y = df2[\"re_eng_load_estimate_ecs\"]\n",
    "\n",
    "# Split train and test size with chronological order 8:2\n",
    "train_size = int(len(df2) * 0.8)\n",
    "X_train, X_test = X.iloc[:train_size], X.iloc[train_size:]\n",
    "y_train, y_test = y[:train_size], y[train_size:]\n",
    "\n",
    "model = GradientBoostingRegressor(\n",
    "    n_estimators=100, learning_rate=0.2, max_depth=4, min_samples_leaf=2, min_samples_split=5, random_state=42\n",
    ")\n",
    "# Fit the model on the available data\n",
    "model.fit(X_train, y_train)\n",
    "# Make predictions\n",
    "y_pred = model.predict(X_test)\n",
    "\n",
    "# Calculate metrics\n",
    "mse = mean_squared_error(y_test, y_pred)\n",
    "mae = mean_absolute_error(y_test, y_pred)\n",
    "r2 = r2_score(y_test, y_pred)\n",
    "\n",
    "print(\"mse:\", mse)\n",
    "print(\"mae:\", mae)\n",
    "print(\"r2:\", r2)"
   ]
  },
  {
   "cell_type": "code",
   "execution_count": null,
   "id": "83db0fdd",
   "metadata": {},
   "outputs": [],
   "source": [
    "import sensor_imputation_thesis.shared.mlflow as _mlflow\n",
    "\n",
    "input_example = X_test.iloc[:1]\n",
    "with mlflow.start_run():\n",
    "    mlflow.log_param(\"mse\", mse)\n",
    "    mlflow.log_metric(\"mae\", mae)\n",
    "    mlflow.log_metric(\"r2\", r2)\n",
    "    mlflow.sklearn.log_model(Pipeline1, artifact_path=\"model_with_pr_hydro_out_as_y\", input_example=input_example)"
   ]
  },
  {
   "cell_type": "markdown",
   "id": "af096e9f",
   "metadata": {},
   "source": [
    "RandomForest Model Attempt for pr_hydro_out since the previous linear performance is poor"
   ]
  },
  {
   "cell_type": "code",
   "execution_count": null,
   "id": "23c7dc5b",
   "metadata": {},
   "outputs": [],
   "source": [
    "# Updated pipeline\n",
    "preprocessor = ColumnTransformer(\n",
    "    transformers=[\n",
    "        (\n",
    "            \"num\",\n",
    "            Pipeline(steps=[(\"imputer\", KNNImputer(n_neighbors=2, weights=\"uniform\")), (\"scaler\", StandardScaler())]),\n",
    "            slice(0, X.shape[1]),\n",
    "        )\n",
    "    ]\n",
    ")\n",
    "# Hyperparameter tuning\n",
    "param_grid = {\"Random Forest__n_estimators\": [50, 100, 200], \"Random Forest__max_depth\": [None, 10, 20, 30]}\n",
    "grid_search = GridSearchCV(Pipeline2, param_grid, cv=5, scoring=\"neg_mean_squared_error\")\n",
    "grid_search.fit(X_train, y_train)\n",
    "\n",
    "print(\"Best parameters found: \", grid_search.best_params_)\n",
    "print(\"Best score: \", -grid_search.best_score_)\n"
   ]
  },
  {
   "cell_type": "code",
   "execution_count": null,
   "id": "05f3eaf0",
   "metadata": {},
   "outputs": [],
   "source": [
    "# Fit randomforestregressor model with optimal parameter\n",
    "model = RandomForestRegressor(n_estimators=50, random_state=42)\n",
    "model.fit(X_train, y_train)\n",
    "\n",
    "# Make predictions\n",
    "y_pred = model.predict(X_test)\n",
    "\n",
    "# Calculate metrics\n",
    "mse = mean_squared_error(y_test, y_pred)\n",
    "mae = mean_absolute_error(y_test, y_pred)\n",
    "r2 = r2_score(y_test, y_pred)\n",
    "\n",
    "# log in mlflow\n",
    "with mlflow.start_run():\n",
    "    mlflow.log_param(\"mse\", mse)\n",
    "    mlflow.log_metric(\"mae\", mae)\n",
    "    mlflow.log_metric(\"r2\", r2)\n",
    "    mlflow.sklearn.log_model(model, artifact_path=\"randommodel_with_pr_hydro_out_as_y\", input_example=input_example)\n",
    "\n",
    "print(\"mse:\", mse)\n",
    "print(\"mae:\", mae)\n",
    "print(\"r2:\", r2)\n"
   ]
  },
  {
   "cell_type": "markdown",
   "id": "29f7db08",
   "metadata": {},
   "source": [
    "Gradient Boosting Regressor with the same y (pr_hydro_out)"
   ]
  },
  {
   "cell_type": "code",
   "execution_count": 27,
   "id": "be40804f",
   "metadata": {},
   "outputs": [],
   "source": [
    "from sklearn.ensemble import GradientBoostingRegressor\n",
    "\n",
    "# Define the model\n",
    "model = GradientBoostingRegressor(n_estimators=100, learning_rate=0.1, max_depth=3, random_state=42)\n",
    "# Fit the model on the available data\n",
    "model.fit(X_train, y_train)\n",
    "# Predict the missing values\n",
    "y_pred = model.predict(X_test)\n"
   ]
  },
  {
   "cell_type": "code",
   "execution_count": null,
   "id": "4b1cfc3a",
   "metadata": {},
   "outputs": [],
   "source": [
    "# calculate metrics and log them in mlflow\n",
    "input_example = X_test.iloc[:1]\n",
    "mse = mean_squared_error(y_test, y_pred)\n",
    "mae = mean_absolute_error(y_test, y_pred)\n",
    "r2 = r2_score(y_test, y_pred)\n",
    "print(\"mse:\", mse)\n",
    "print(\"mae:\", mae)\n",
    "print(\"r2:\", r2)\n",
    "\n",
    "with mlflow.start_run():\n",
    "    mlflow.log_param(\"mse\", mse)\n",
    "    mlflow.log_metric(\"mae\", mae)\n",
    "    mlflow.log_metric(\"r2\", r2)\n",
    "    mlflow.sklearn.log_model(model, artifact_path=\"gdboostmodel_with_pr_hydro_out_as_y\", input_example=input_example)"
   ]
  },
  {
   "cell_type": "code",
   "execution_count": null,
   "id": "789b1199",
   "metadata": {},
   "outputs": [],
   "source": [
    "# delete some columns for x since the model performance is very poor\n",
    "X = df2[[\"pr_air_control\", \"te_fuel_eng_in\", \"pr_air_scav\", \"fr_eng_setpoint\"]]\n",
    "y = df2[\"pr_hydr_out\"]\n",
    "\n",
    "# Split train and test size with chronological order 8:2\n",
    "train_size = int(len(df2) * 0.8)\n",
    "X_train, X_test = X.iloc[:train_size], X.iloc[train_size:]\n",
    "y_train, y_test = y[:train_size], y[train_size:]"
   ]
  },
  {
   "cell_type": "code",
   "execution_count": 26,
   "id": "4210d22c",
   "metadata": {},
   "outputs": [],
   "source": [
    "# model\n",
    "model = GradientBoostingRegressor(n_estimators=100, learning_rate=0.1, max_depth=3, random_state=42)\n",
    "# Fit the model on the available data\n",
    "model.fit(X_train, y_train)\n",
    "# Predict the missing values\n",
    "y_pred = model.predict(X_test)"
   ]
  },
  {
   "cell_type": "code",
   "execution_count": null,
   "id": "3f574cee",
   "metadata": {},
   "outputs": [],
   "source": [
    "# calculate metrics and log them in mlflow\n",
    "input_example = X_test.iloc[:1]\n",
    "mse = mean_squared_error(y_test, y_pred)\n",
    "mae = mean_absolute_error(y_test, y_pred)\n",
    "r2 = r2_score(y_test, y_pred)\n",
    "print(\"mse:\", mse)\n",
    "print(\"mae:\", mae)\n",
    "print(\"r2:\", r2)\n",
    "\n",
    "with mlflow.start_run():\n",
    "    mlflow.log_param(\"mse\", mse)\n",
    "    mlflow.log_metric(\"mae\", mae)\n",
    "    mlflow.log_metric(\"r2\", r2)\n",
    "    mlflow.sklearn.log_model(model, artifact_path=\"gdboostmodel\", input_example=input_example)"
   ]
  },
  {
   "cell_type": "markdown",
   "id": "18bba25f",
   "metadata": {},
   "source": [
    "Create plot to investigate the data distribution"
   ]
  },
  {
   "cell_type": "code",
   "execution_count": null,
   "id": "4d29acaa",
   "metadata": {},
   "outputs": [],
   "source": [
    "import matplotlib.pyplot as plt\n",
    "\n",
    "data = pd.read_csv(\n",
    "    \"/home/ec2-user/SageMaker/sensor-imputation-thesis/sensor-imputation-thesis/src/sensor_imputation_thesis/nadire/dataframe\",\n",
    "    low_memory=False,\n",
    ")\n",
    "# Ensure the date column is parsed correctly\n",
    "data[\"time\"] = pd.to_datetime(data[\"time\"])\n",
    "data.set_index(\"time\", inplace=True)\n",
    "# get the column counts\n",
    "num_columns = len(data.columns)\n",
    "# Calculate the number of rows and columns for the subplot grid\n",
    "num_rows = (num_columns + 2) // 3\n",
    "# Create subplots\n",
    "fig, axes = plt.subplots(num_rows, 3, figsize=(25, num_rows * 4))\n",
    "# Flatten the axes array for easy iteration\n",
    "axes = axes.flatten()\n",
    "# Loop through the columns and create individual plots\n",
    "for i, column in enumerate(data.columns):\n",
    "    axes[i].plot(data[column], label=f\"{column}\")\n",
    "    axes[i].set_title(f\"Time Series Data ({column})\")\n",
    "    axes[i].set_xlabel(\"Date\")\n",
    "    axes[i].set_ylabel(f\"{column}\")\n",
    "    axes[i].legend()\n",
    "# Remove any empty subplots\n",
    "for j in range(i + 1, len(axes)):\n",
    "    fig.delaxes(axes[j])\n"
   ]
  },
  {
   "cell_type": "markdown",
   "id": "37c63eb7",
   "metadata": {},
   "source": [
    "X as \"fr_eng\",\"pr_hydr_in\" and y as \"pr_air_control\""
   ]
  },
  {
   "cell_type": "code",
   "execution_count": null,
   "id": "d1a079f5",
   "metadata": {},
   "outputs": [],
   "source": [
    "Preprocessor = ColumnTransformer(\n",
    "    transformers=[\n",
    "        (\n",
    "            \"num\",\n",
    "            Pipeline([(\"imputer\", KNNImputer(n_neighbors=2, weights=\"uniform\")), (\"scaler\", StandardScaler())]),\n",
    "            [\"fr_eng\", \"pr_hydr_in\"],\n",
    "        )\n",
    "    ],\n",
    "    remainder=\"drop\",\n",
    ")\n",
    "Pipeline1 = Pipeline([(\"preprocessor\", Preprocessor), (\"Linear Regression\", LinearRegression())])"
   ]
  },
  {
   "cell_type": "code",
   "execution_count": null,
   "id": "e0e57e09",
   "metadata": {},
   "outputs": [],
   "source": [
    "print(Pipeline)"
   ]
  },
  {
   "cell_type": "code",
   "execution_count": 75,
   "id": "12c63c99",
   "metadata": {},
   "outputs": [],
   "source": [
    "df_sampled = df[:3000]\n",
    "df_sampled = df_sampled.dropna(subset=[\"pr_air_control\"])\n",
    "X = df_sampled[[\"fr_eng\", \"pr_hydr_in\"]]\n",
    "y = df_sampled[\"pr_air_control\"]\n",
    "\n",
    "train_size = int(len(df_sampled) * 0.8)\n",
    "X_train, X_test = X.iloc[:train_size], X.iloc[train_size:]\n",
    "y_train, y_test = y[:train_size], y[train_size:]"
   ]
  },
  {
   "cell_type": "code",
   "execution_count": null,
   "id": "23138a79",
   "metadata": {},
   "outputs": [],
   "source": [
    "Pipeline1.fit(X_train, y_train)"
   ]
  },
  {
   "cell_type": "code",
   "execution_count": null,
   "id": "6bc89142",
   "metadata": {},
   "outputs": [],
   "source": [
    "y_pred = Pipeline1.predict(X_test)\n",
    "mse = mean_squared_error(y_test, y_pred)\n",
    "mae = mean_absolute_error(y_test, y_pred)\n",
    "r2 = r2_score(y_test, y_pred)\n",
    "print(\"mse:\", mse)\n",
    "print(\"mae:\", mae)\n",
    "print(\"r2:\", r2)\n"
   ]
  },
  {
   "cell_type": "markdown",
   "id": "9f757b81",
   "metadata": {},
   "source": [
    "X as \"pr_hydr_out\",\"pr_hydr_in\",\"de_fuel15c\" and y as \"re_total_fuel_quality_offset\""
   ]
  },
  {
   "cell_type": "code",
   "execution_count": 63,
   "id": "4b74ce73",
   "metadata": {},
   "outputs": [],
   "source": [
    "X = df_sampled[[\"pr_hydr_out\", \"pr_hydr_in\", \"de_fuel15c\"]]\n",
    "y = df_sampled[\"re_total_fuel_quality_offset\"]\n",
    "\n",
    "train_size = int(len(df_sampled) * 0.8)\n",
    "X_train, X_test = X.iloc[:train_size], X.iloc[train_size:]\n",
    "y_train, y_test = y[:train_size], y[train_size:]"
   ]
  },
  {
   "cell_type": "code",
   "execution_count": null,
   "id": "9c2941fd",
   "metadata": {},
   "outputs": [],
   "source": [
    "df_sampled.columns"
   ]
  },
  {
   "cell_type": "code",
   "execution_count": 66,
   "id": "3be4eb20",
   "metadata": {},
   "outputs": [],
   "source": [
    "Preprocessor = ColumnTransformer(\n",
    "    transformers=[\n",
    "        (\n",
    "            \"num\",\n",
    "            Pipeline([(\"imputer\", KNNImputer(n_neighbors=2, weights=\"uniform\")), (\"scaler\", StandardScaler())]),\n",
    "            [\"pr_hydr_out\", \"pr_hydr_in\", \"de_fuel15c\"],\n",
    "        )\n",
    "    ],\n",
    "    remainder=\"drop\",\n",
    ")\n",
    "Pipeline = Pipeline([(\"preprocessor\", Preprocessor), (\"Linear Regression\", LinearRegression())])\n"
   ]
  },
  {
   "cell_type": "code",
   "execution_count": null,
   "id": "63e082a2",
   "metadata": {},
   "outputs": [],
   "source": [
    "Pipeline.fit(X_train, y_train)"
   ]
  },
  {
   "cell_type": "code",
   "execution_count": null,
   "id": "d9279867",
   "metadata": {},
   "outputs": [],
   "source": [
    "y_pred = Pipeline.predict(X_test)\n",
    "mse = mean_squared_error(y_test, y_pred)\n",
    "mae = mean_absolute_error(y_test, y_pred)\n",
    "r2 = r2_score(y_test, y_pred)\n",
    "accuracy = accuracy(y_test, y_pred)\n",
    "print(\"mse:\", mse)\n",
    "print(\"mae\", mae)\n",
    "print(\"r2\", r2)"
   ]
  },
  {
   "cell_type": "code",
   "execution_count": null,
   "id": "7de06d79",
   "metadata": {},
   "outputs": [],
   "source": [
    "df_sampled[\"re_total_fuel_quality_offset\"].describe()"
   ]
  }
 ],
 "metadata": {
  "kernelspec": {
   "display_name": "sensor-imputation-thesis",
   "language": "python",
   "name": "python3"
  },
  "language_info": {
   "codemirror_mode": {
    "name": "ipython",
    "version": 3
   },
   "file_extension": ".py",
   "mimetype": "text/x-python",
   "name": "python",
   "nbconvert_exporter": "python",
   "pygments_lexer": "ipython3",
   "version": "3.12.10"
  }
 },
 "nbformat": 4,
 "nbformat_minor": 5
}
