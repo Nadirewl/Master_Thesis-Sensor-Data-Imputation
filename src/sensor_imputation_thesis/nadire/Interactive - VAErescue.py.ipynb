{
 "cells": [
  {
   "cell_type": "markdown",
   "metadata": {},
   "source": [
    "Connected to .venv (Python 3.10.16)"
   ]
  },
  {
   "cell_type": "code",
   "execution_count": null,
   "id": "2e6ffa2e-9c26-4cc4-a605-f42795edca9a",
   "metadata": {},
   "outputs": [
    {
     "name": "stderr",
     "output_type": "stream",
     "text": [
      "/home/ec2-user/SageMaker/sensor-imputation-thesis/.venv/lib/python3.10/site-packages/tqdm/auto.py:21: TqdmWarning: IProgress not found. Please update jupyter and ipywidgets. See https://ipywidgets.readthedocs.io/en/stable/user_install.html\n",
      "  from .autonotebook import tqdm as notebook_tqdm\n"
     ]
    },
    {
     "name": "stdout",
     "output_type": "stream",
     "text": [
      ">>> con.sql(\"SHOW TABLES;\")\n",
      "┌────────────┐\n",
      "│    name    │\n",
      "│  varchar   │\n",
      "├────────────┤\n",
      "│ shipinfo   │\n",
      "│ site_infos │\n",
      "│ timeseries │\n",
      "└────────────┘\n",
      "\n",
      "\n",
      ">>> con.sql(\"DESCRIBE shipinfo;\")\n",
      "┌──────────────────────┬───────────────────────────────────────────────────────┬─────────┬─────────┬─────────┬─────────┐\n",
      "│     column_name      │                      column_type                      │  null   │   key   │ default │  extra  │\n",
      "│       varchar        │                        varchar                        │ varchar │ varchar │ varchar │ varchar │\n",
      "├──────────────────────┼───────────────────────────────────────────────────────┼─────────┼─────────┼─────────┼─────────┤\n",
      "│ information_validity │ VARCHAR                                               │ YES     │ NULL    │ NULL    │ NULL    │\n",
      "│ imo_no               │ VARCHAR                                               │ YES     │ NULL    │ NULL    │ NULL    │\n",
      "│ ship_name            │ VARCHAR                                               │ YES     │ NULL    │ NULL    │ NULL    │\n",
      "│ dsO_Sea_trial_date   │ VARCHAR                                               │ YES     │ NULL    │ NULL    │ NULL    │\n",
      "│ hull_no              │ VARCHAR                                               │ YES     │ NULL    │ NULL    │ NULL    │\n",
      "│ engine_no            │ VARCHAR                                               │ YES     │ NULL    │ NULL    │ NULL    │\n",
      "│ designSpecId         │ VARCHAR                                               │ YES     │ NULL    │ NULL    │ NULL    │\n",
      "│ cylinders            │ VARCHAR                                               │ YES     │ NULL    │ NULL    │ NULL    │\n",
      "│ engine_type          │ VARCHAR                                               │ YES     │ NULL    │ NULL    │ NULL    │\n",
      "│ licensee             │ VARCHAR                                               │ YES     │ NULL    │ NULL    │ NULL    │\n",
      "│    ·                 │    ·                                                  │  ·      │  ·      │  ·      │  ·      │\n",
      "│    ·                 │    ·                                                  │  ·      │  ·      │  ·      │  ·      │\n",
      "│    ·                 │    ·                                                  │  ·      │  ·      │  ·      │  ·      │\n",
      "│ min_Speed_for_PTO_…  │ VARCHAR                                               │ YES     │ NULL    │ NULL    │ NULL    │\n",
      "│ minimum_Light_Runn…  │ VARCHAR                                               │ YES     │ NULL    │ NULL    │ NULL    │\n",
      "│ recommendation_on_…  │ VARCHAR                                               │ YES     │ NULL    │ NULL    │ NULL    │\n",
      "│ maker_of_power_man…  │ VARCHAR                                               │ YES     │ NULL    │ NULL    │ NULL    │\n",
      "│ application_of_ECS…  │ VARCHAR                                               │ YES     │ NULL    │ NULL    │ NULL    │\n",
      "│ shorT_CRANKSHAFT_F…  │ VARCHAR                                               │ YES     │ NULL    │ NULL    │ NULL    │\n",
      "│ ptO_TEST_WITH_DISC…  │ VARCHAR                                               │ YES     │ NULL    │ NULL    │ NULL    │\n",
      "│ opportunitY_ID       │ VARCHAR                                               │ YES     │ NULL    │ NULL    │ NULL    │\n",
      "│ active_NOx_Engine_…  │ VARCHAR                                               │ YES     │ NULL    │ NULL    │ NULL    │\n",
      "│ mmsi                 │ STRUCT(seqno VARCHAR, callsign VARCHAR, mmsi VARCHA…  │ YES     │ NULL    │ NULL    │ NULL    │\n",
      "├──────────────────────┴───────────────────────────────────────────────────────┴─────────┴─────────┴─────────┴─────────┤\n",
      "│ 286 rows (20 shown)                                                                                        6 columns │\n",
      "└──────────────────────────────────────────────────────────────────────────────────────────────────────────────────────┘\n",
      "\n",
      "\n",
      ">>> con.sql(\"FROM shipinfo SELECT * LIMIT 1;\")\n",
      "┌──────────────────────┬──────────────────────┬──────────────────────┬───┬──────────────────────┬──────────────────────┐\n",
      "│ information_validity │        imo_no        │      ship_name       │ … │ active_NOx_Engine_…  │         mmsi         │\n",
      "│       varchar        │       varchar        │       varchar        │   │       varchar        │ struct(seqno varch…  │\n",
      "├──────────────────────┼──────────────────────┼──────────────────────┼───┼──────────────────────┼──────────────────────┤\n",
      "│ High                 │ 647f3b22f283a6cb19…  │ 300f821c06fdbbe0d0…  │ … │ Yes                  │ {'seqno': 00, 'cal…  │\n",
      "├──────────────────────┴──────────────────────┴──────────────────────┴───┴──────────────────────┴──────────────────────┤\n",
      "│ 1 rows                                                                                         286 columns (5 shown) │\n",
      "└──────────────────────────────────────────────────────────────────────────────────────────────────────────────────────┘\n",
      "\n",
      "\n",
      "                 time  fr_eng  te_exh_cyl_out__0  pd_air_ic__0  \\\n",
      "0 2023-10-01 00:00:00     0.0             400.15         -70.0   \n",
      "1 2023-10-01 00:01:00     0.0             399.15         -70.0   \n",
      "2 2023-10-01 00:02:00     0.0             399.15         -70.0   \n",
      "3 2023-10-01 00:03:00     0.0             399.15         -80.0   \n",
      "4 2023-10-01 00:04:00     0.0             399.15         -80.0   \n",
      "5 2023-10-01 00:05:00     0.0             399.15         -70.0   \n",
      "6 2023-10-01 00:06:00     0.0             399.15         -70.0   \n",
      "7 2023-10-01 00:07:00     0.0             399.15         -70.0   \n",
      "8 2023-10-01 00:08:00     0.0             399.15         -80.0   \n",
      "9 2023-10-01 00:09:00     0.0             399.15         -80.0   \n",
      "\n",
      "   pr_exh_turb_out__0  te_air_ic_out__0  te_seawater  te_air_comp_in_a__0  \\\n",
      "0                 NaN            308.95       291.25                  NaN   \n",
      "1                 NaN            308.85       291.25                  NaN   \n",
      "2                 NaN            308.85       291.25                  NaN   \n",
      "3                 NaN            308.85       291.25                  NaN   \n",
      "4                 NaN            308.85       291.25                  NaN   \n",
      "5                 NaN            308.85       291.25                  NaN   \n",
      "6                 NaN            308.75       291.25                  NaN   \n",
      "7                 NaN            308.75       291.25                  NaN   \n",
      "8                 NaN            308.75       291.25                  NaN   \n",
      "9                 NaN            308.75       291.25                  NaN   \n",
      "\n",
      "   te_air_comp_in_b__0  fr_tc__0       pr_baro  pd_air_ic__0_1  pr_exh_rec  \\\n",
      "0                  NaN       NaN  2.838493e+06           -70.0         0.0   \n",
      "1                  NaN       NaN  2.841377e+06           -70.0         0.0   \n",
      "2                  NaN       NaN  2.838867e+06           -70.0         0.0   \n",
      "3                  NaN       NaN  2.836357e+06           -80.0         0.0   \n",
      "4                  NaN       NaN  2.837350e+06           -80.0         0.0   \n",
      "5                  NaN       NaN  2.837599e+06           -70.0         0.0   \n",
      "6                  NaN       NaN  2.835387e+06           -70.0         0.0   \n",
      "7                  NaN       NaN  2.836256e+06           -70.0         0.0   \n",
      "8                  NaN       NaN  2.837375e+06           -80.0         0.0   \n",
      "9                  NaN       NaN  2.839513e+06           -80.0         0.0   \n",
      "\n",
      "   te_exh_turb_in__0  te_exh_turb_out__0  bo_aux_blower_running  re_eng_load  \\\n",
      "0                NaN                 NaN                    0.0          NaN   \n",
      "1                NaN                 NaN                    0.0          NaN   \n",
      "2                NaN                 NaN                    0.0          NaN   \n",
      "3                NaN                 NaN                    0.0          NaN   \n",
      "4                NaN                 NaN                    0.0          NaN   \n",
      "5                NaN                 NaN                    0.0          NaN   \n",
      "6                NaN                 NaN                    0.0          NaN   \n",
      "7                NaN                 NaN                    0.0          NaN   \n",
      "8                NaN                 NaN                    0.0          NaN   \n",
      "9                NaN                 NaN                    0.0          NaN   \n",
      "\n",
      "   pr_air_scav_ecs  pr_air_scav  te_air_scav_rec  te_air_ic_out__0_1  \\\n",
      "0        24.414062    24.414062           317.75              308.95   \n",
      "1        30.517578    30.517578           317.85              308.85   \n",
      "2        25.939941    25.939941           317.75              308.85   \n",
      "3        32.043457    32.043457           317.75              308.85   \n",
      "4        19.836426    19.836426           317.75              308.85   \n",
      "5        21.362305    21.362305           317.75              308.85   \n",
      "6        18.310547    18.310547           317.75              308.75   \n",
      "7        30.517578    30.517578           317.75              308.75   \n",
      "8        19.836426    19.836426           317.75              308.75   \n",
      "9        15.258789    15.258789           317.75              308.75   \n",
      "\n",
      "   pr_cyl_comp__0  pr_cyl_max__0  se_mip__0  te_exh_cyl_out__0_1  \\\n",
      "0             NaN            NaN        NaN               400.15   \n",
      "1             NaN            NaN        NaN               399.15   \n",
      "2             NaN            NaN        NaN               399.15   \n",
      "3             NaN            NaN        NaN               399.15   \n",
      "4             NaN            NaN        NaN               399.15   \n",
      "5             NaN            NaN        NaN               399.15   \n",
      "6             NaN            NaN        NaN               399.15   \n",
      "7             NaN            NaN        NaN               399.15   \n",
      "8             NaN            NaN        NaN               399.15   \n",
      "9             NaN            NaN        NaN               399.15   \n",
      "\n",
      "   fr_eng_setpoint  te_air_scav_rec_iso  pr_cyl_max_mv_iso  \\\n",
      "0              0.0                  NaN                NaN   \n",
      "1              0.0                  NaN                NaN   \n",
      "2              0.0                  NaN                NaN   \n",
      "3              0.0                  NaN                NaN   \n",
      "4              0.0                  NaN                NaN   \n",
      "5              0.0                  NaN                NaN   \n",
      "6              0.0                  NaN                NaN   \n",
      "7              0.0                  NaN                NaN   \n",
      "8              0.0                  NaN                NaN   \n",
      "9              0.0                  NaN                NaN   \n",
      "\n",
      "   pr_cyl_comp_mv_iso  fr_eng_ecs  pr_air_scav_iso  \n",
      "0                 NaN         0.0              NaN  \n",
      "1                 NaN         0.0              NaN  \n",
      "2                 NaN         0.0              NaN  \n",
      "3                 NaN         0.0              NaN  \n",
      "4                 NaN         0.0              NaN  \n",
      "5                 NaN         0.0              NaN  \n",
      "6                 NaN         0.0              NaN  \n",
      "7                 NaN         0.0              NaN  \n",
      "8                 NaN         0.0              NaN  \n",
      "9                 NaN         0.0              NaN  \n",
      ">>> con.sql(\"SHOW TABLES;\")\n",
      "┌────────────┐\n",
      "│    name    │\n",
      "│  varchar   │\n",
      "├────────────┤\n",
      "│ shipinfo   │\n",
      "│ site_infos │\n",
      "│ timeseries │\n",
      "└────────────┘\n",
      "\n",
      "\n",
      ">>> con.sql(\"DESCRIBE shipinfo;\")\n",
      "┌──────────────────────┬───────────────────────────────────────────────────────┬─────────┬─────────┬─────────┬─────────┐\n",
      "│     column_name      │                      column_type                      │  null   │   key   │ default │  extra  │\n",
      "│       varchar        │                        varchar                        │ varchar │ varchar │ varchar │ varchar │\n",
      "├──────────────────────┼───────────────────────────────────────────────────────┼─────────┼─────────┼─────────┼─────────┤\n",
      "│ information_validity │ VARCHAR                                               │ YES     │ NULL    │ NULL    │ NULL    │\n",
      "│ imo_no               │ VARCHAR                                               │ YES     │ NULL    │ NULL    │ NULL    │\n",
      "│ ship_name            │ VARCHAR                                               │ YES     │ NULL    │ NULL    │ NULL    │\n",
      "│ dsO_Sea_trial_date   │ VARCHAR                                               │ YES     │ NULL    │ NULL    │ NULL    │\n",
      "│ hull_no              │ VARCHAR                                               │ YES     │ NULL    │ NULL    │ NULL    │\n",
      "│ engine_no            │ VARCHAR                                               │ YES     │ NULL    │ NULL    │ NULL    │\n",
      "│ designSpecId         │ VARCHAR                                               │ YES     │ NULL    │ NULL    │ NULL    │\n",
      "│ cylinders            │ VARCHAR                                               │ YES     │ NULL    │ NULL    │ NULL    │\n",
      "│ engine_type          │ VARCHAR                                               │ YES     │ NULL    │ NULL    │ NULL    │\n",
      "│ licensee             │ VARCHAR                                               │ YES     │ NULL    │ NULL    │ NULL    │\n",
      "│    ·                 │    ·                                                  │  ·      │  ·      │  ·      │  ·      │\n",
      "│    ·                 │    ·                                                  │  ·      │  ·      │  ·      │  ·      │\n",
      "│    ·                 │    ·                                                  │  ·      │  ·      │  ·      │  ·      │\n",
      "│ min_Speed_for_PTO_…  │ VARCHAR                                               │ YES     │ NULL    │ NULL    │ NULL    │\n",
      "│ minimum_Light_Runn…  │ VARCHAR                                               │ YES     │ NULL    │ NULL    │ NULL    │\n",
      "│ recommendation_on_…  │ VARCHAR                                               │ YES     │ NULL    │ NULL    │ NULL    │\n",
      "│ maker_of_power_man…  │ VARCHAR                                               │ YES     │ NULL    │ NULL    │ NULL    │\n",
      "│ application_of_ECS…  │ VARCHAR                                               │ YES     │ NULL    │ NULL    │ NULL    │\n",
      "│ shorT_CRANKSHAFT_F…  │ VARCHAR                                               │ YES     │ NULL    │ NULL    │ NULL    │\n",
      "│ ptO_TEST_WITH_DISC…  │ VARCHAR                                               │ YES     │ NULL    │ NULL    │ NULL    │\n",
      "│ opportunitY_ID       │ VARCHAR                                               │ YES     │ NULL    │ NULL    │ NULL    │\n",
      "│ active_NOx_Engine_…  │ VARCHAR                                               │ YES     │ NULL    │ NULL    │ NULL    │\n",
      "│ mmsi                 │ STRUCT(seqno VARCHAR, callsign VARCHAR, mmsi VARCHA…  │ YES     │ NULL    │ NULL    │ NULL    │\n",
      "├──────────────────────┴───────────────────────────────────────────────────────┴─────────┴─────────┴─────────┴─────────┤\n",
      "│ 286 rows (20 shown)                                                                                        6 columns │\n",
      "└──────────────────────────────────────────────────────────────────────────────────────────────────────────────────────┘\n",
      "\n",
      "\n",
      ">>> con.sql(\"FROM shipinfo SELECT * LIMIT 1;\")\n",
      "┌──────────────────────┬──────────────────────┬──────────────────────┬───┬──────────────────────┬──────────────────────┐\n",
      "│ information_validity │        imo_no        │      ship_name       │ … │ active_NOx_Engine_…  │         mmsi         │\n",
      "│       varchar        │       varchar        │       varchar        │   │       varchar        │ struct(seqno varch…  │\n",
      "├──────────────────────┼──────────────────────┼──────────────────────┼───┼──────────────────────┼──────────────────────┤\n",
      "│ High                 │ 647f3b22f283a6cb19…  │ 300f821c06fdbbe0d0…  │ … │ Yes                  │ {'seqno': 00, 'cal…  │\n",
      "├──────────────────────┴──────────────────────┴──────────────────────┴───┴──────────────────────┴──────────────────────┤\n",
      "│ 1 rows                                                                                         286 columns (5 shown) │\n",
      "└──────────────────────────────────────────────────────────────────────────────────────────────────────────────────────┘\n",
      "\n",
      "\n",
      "Column time has 0 NaN values\n",
      "Column fr_eng has 0 NaN values\n",
      "Column te_exh_cyl_out__0 has 46436 NaN values\n",
      "Column pd_air_ic__0 has 46436 NaN values\n",
      "Column pr_exh_turb_out__0 has 300971 NaN values\n",
      "Column te_air_ic_out__0 has 46436 NaN values\n",
      "Column te_seawater has 46436 NaN values\n",
      "Column te_air_comp_in_a__0 has 300971 NaN values\n",
      "Column te_air_comp_in_b__0 has 300971 NaN values\n",
      "Column fr_tc__0 has 300971 NaN values\n",
      "Column pr_baro has 1 NaN values\n",
      "Column pd_air_ic__0_1 has 46436 NaN values\n",
      "Column pr_exh_rec has 46436 NaN values\n",
      "Column te_exh_turb_in__0 has 300971 NaN values\n",
      "Column te_exh_turb_out__0 has 300971 NaN values\n",
      "Column bo_aux_blower_running has 1 NaN values\n",
      "Column re_eng_load has 251 NaN values\n",
      "Column pr_air_scav_ecs has 1 NaN values\n",
      "Column pr_air_scav has 1 NaN values\n",
      "Column te_air_scav_rec has 46436 NaN values\n",
      "Column te_air_ic_out__0_1 has 46436 NaN values\n",
      "Column pr_cyl_comp__0 has 251 NaN values\n",
      "Column pr_cyl_max__0 has 251 NaN values\n",
      "Column se_mip__0 has 250 NaN values\n",
      "Column te_exh_cyl_out__0_1 has 46436 NaN values\n",
      "Column fr_eng_setpoint has 1 NaN values\n",
      "Column te_air_scav_rec_iso has 114445 NaN values\n",
      "Column pr_cyl_max_mv_iso has 116211 NaN values\n",
      "Column pr_cyl_comp_mv_iso has 121289 NaN values\n",
      "Column fr_eng_ecs has 1 NaN values\n",
      "Column pr_air_scav_iso has 119578 NaN values\n",
      "Column engine_type_G95ME-C10.5-GI-LPSCR has 0 NaN values\n",
      "shape of original df:\n",
      "Datasize: 439186\n",
      "Colnumber: 32\n",
      "shape of filtered df:\n",
      "Datasize: 176450\n",
      "Colnumber: 26\n",
      "          fr_eng  te_exh_cyl_out__0  pd_air_ic__0  te_air_ic_out__0  \\\n",
      "155674  0.914165             551.15         370.0            302.95   \n",
      "155675  0.914865             550.15         370.0            302.95   \n",
      "155676  0.916016             550.15         330.0            302.95   \n",
      "155677  0.914566             550.15         320.0            302.95   \n",
      "155678  0.913920             550.15         350.0            302.95   \n",
      "...          ...                ...           ...               ...   \n",
      "439181  1.026240             555.15         210.0            310.65   \n",
      "439182  1.035701             555.15          70.0            310.75   \n",
      "439183  1.028137             555.15         180.0            310.75   \n",
      "439184  1.027765             555.15         230.0            310.75   \n",
      "439185  1.021612             555.15         280.0            310.75   \n",
      "\n",
      "        te_seawater       pr_baro  pd_air_ic__0_1  pr_exh_rec  \\\n",
      "155674       294.05  3.178145e+06           370.0     59000.0   \n",
      "155675       294.05  3.183289e+06           370.0     57000.0   \n",
      "155676       294.05  3.180803e+06           330.0     56000.0   \n",
      "155677       294.15  3.182941e+06           320.0     58000.0   \n",
      "155678       294.15  3.182941e+06           350.0     60000.0   \n",
      "...             ...           ...             ...         ...   \n",
      "439181       291.55  2.576810e+06           210.0    127000.0   \n",
      "439182       291.45  2.589659e+06            70.0    124000.0   \n",
      "439183       291.45  2.583247e+06           180.0    123000.0   \n",
      "439184       291.45  2.582651e+06           230.0    119000.0   \n",
      "439185       291.45  2.591920e+06           280.0    118000.0   \n",
      "\n",
      "        bo_aux_blower_running  re_eng_load  pr_air_scav_ecs    pr_air_scav  \\\n",
      "155674                    0.0         0.33     67402.648926   67402.648926   \n",
      "155675                    0.0         0.33     66069.030762   66069.030762   \n",
      "155676                    0.0         0.33     64521.789551   64521.789551   \n",
      "155677                    0.0         0.33     66302.490234   66302.490234   \n",
      "155678                    0.0         0.34     67651.367188   67651.367188   \n",
      "...                       ...          ...              ...            ...   \n",
      "439181                    0.0         0.55    141625.976562  141625.976562   \n",
      "439182                    0.0         0.54    140539.550781  140539.550781   \n",
      "439183                    0.0         0.54    136929.321289  136929.321289   \n",
      "439184                    0.0         0.53    133502.197266  133502.197266   \n",
      "439185                    0.0         0.52    132366.943359  132366.943359   \n",
      "\n",
      "        te_air_scav_rec  te_air_ic_out__0_1  pr_cyl_comp__0  pr_cyl_max__0  \\\n",
      "155674           310.45              302.95    8.298032e+06   1.224769e+07   \n",
      "155675           310.45              302.95    8.129535e+06   1.210600e+07   \n",
      "155676           310.35              302.95    8.093028e+06   1.212506e+07   \n",
      "155677           310.45              302.95    8.160707e+06   1.212672e+07   \n",
      "155678           310.45              302.95    8.245092e+06   1.232116e+07   \n",
      "...                 ...                 ...             ...            ...   \n",
      "439181           318.25              310.65    1.462128e+07   1.856252e+07   \n",
      "439182           318.25              310.75    1.446443e+07   1.843547e+07   \n",
      "439183           318.25              310.75    1.439970e+07   1.834930e+07   \n",
      "439184           318.25              310.75    1.423135e+07   1.819353e+07   \n",
      "439185           318.25              310.75    1.419189e+07   1.820430e+07   \n",
      "\n",
      "           se_mip__0  te_exh_cyl_out__0_1  fr_eng_setpoint  \\\n",
      "155674  8.884035e+05               551.15         0.914972   \n",
      "155675  8.832464e+05               550.15         0.914972   \n",
      "155676  8.747619e+05               550.15         0.914972   \n",
      "155677  8.879406e+05               550.15         0.914972   \n",
      "155678  9.040318e+05               550.15         0.914972   \n",
      "...              ...                  ...              ...   \n",
      "439181  1.262804e+06               555.15         1.019965   \n",
      "439182  1.236266e+06               555.15         1.019965   \n",
      "439183  1.227601e+06               555.15         1.019965   \n",
      "439184  1.213029e+06               555.15         1.019965   \n",
      "439185  1.219686e+06               555.15         1.019965   \n",
      "\n",
      "        te_air_scav_rec_iso  pr_cyl_max_mv_iso  pr_cyl_comp_mv_iso  \\\n",
      "155674           299.728408      -6.603020e+07       -7.155594e+07   \n",
      "155675           299.728408      -6.565175e+07       -7.075990e+07   \n",
      "155676           299.728408      -6.539791e+07       -7.027582e+07   \n",
      "155677           299.728408      -6.580781e+07       -7.076238e+07   \n",
      "155678           299.829286      -6.622560e+07       -7.131539e+07   \n",
      "...                     ...                ...                 ...   \n",
      "439181           303.059782      -6.792722e+07       -8.174774e+07   \n",
      "439182           302.872662      -6.809147e+07       -8.168589e+07   \n",
      "439183           302.872662      -6.770504e+07       -8.117882e+07   \n",
      "439184           302.687664      -6.721556e+07       -8.040727e+07   \n",
      "439185           302.504936      -6.738855e+07       -8.050945e+07   \n",
      "\n",
      "        fr_eng_ecs  pr_air_scav_iso  engine_type_G95ME-C10.5-GI-LPSCR  \n",
      "155674    0.914165    -2.192475e+07                               1.0  \n",
      "155675    0.914865    -2.198966e+07                               1.0  \n",
      "155676    0.916016    -2.194526e+07                               1.0  \n",
      "155677    0.914566    -2.198616e+07                               1.0  \n",
      "155678    0.913920    -2.199390e+07                               1.0  \n",
      "...            ...              ...                               ...  \n",
      "439181    1.026240    -1.474372e+07                               1.0  \n",
      "439182    1.035701    -1.488898e+07                               1.0  \n",
      "439183    1.028137    -1.479966e+07                               1.0  \n",
      "439184    1.027765    -1.477784e+07                               1.0  \n",
      "439185    1.021612    -1.488213e+07                               1.0  \n",
      "\n",
      "[176450 rows x 25 columns]\n",
      "scaled_data [[ 0.71903323  0.59863946  0.42168675 ...  0.71903323 -0.13097382\n",
      "  -1.        ]\n",
      " [ 0.71990419  0.59183673  0.42168675 ...  0.71990419 -0.13497727\n",
      "  -1.        ]\n",
      " [ 0.72133765  0.59183673  0.3253012  ...  0.72133765 -0.13223911\n",
      "  -1.        ]\n",
      " ...\n",
      " [ 0.90798351  0.74829932  0.39759036 ...  0.90798351  0.2963395\n",
      "  -1.        ]\n",
      " [ 0.91036656  0.75510204  0.25301205 ...  0.91036656  0.29711637\n",
      "  -1.        ]\n",
      " [ 0.89747451  0.75510204  0.30120482 ...  0.89747451  0.2937173\n",
      "  -1.        ]]\n",
      "unscaled_data           fr_eng  te_exh_cyl_out__0  pd_air_ic__0  te_air_ic_out__0  \\\n",
      "155674  0.914165             551.15         370.0            302.95   \n",
      "155675  0.914865             550.15         370.0            302.95   \n",
      "155676  0.916016             550.15         330.0            302.95   \n",
      "155677  0.914566             550.15         320.0            302.95   \n",
      "155678  0.913920             550.15         350.0            302.95   \n",
      "...          ...                ...           ...               ...   \n",
      "439181  1.026240             555.15         210.0            310.65   \n",
      "439182  1.035701             555.15          70.0            310.75   \n",
      "439183  1.028137             555.15         180.0            310.75   \n",
      "439184  1.027765             555.15         230.0            310.75   \n",
      "439185  1.021612             555.15         280.0            310.75   \n",
      "\n",
      "        te_seawater       pr_baro  pd_air_ic__0_1  pr_exh_rec  \\\n",
      "155674       294.05  3.178145e+06           370.0     59000.0   \n",
      "155675       294.05  3.183289e+06           370.0     57000.0   \n",
      "155676       294.05  3.180803e+06           330.0     56000.0   \n",
      "155677       294.15  3.182941e+06           320.0     58000.0   \n",
      "155678       294.15  3.182941e+06           350.0     60000.0   \n",
      "...             ...           ...             ...         ...   \n",
      "439181       291.55  2.576810e+06           210.0    127000.0   \n",
      "439182       291.45  2.589659e+06            70.0    124000.0   \n",
      "439183       291.45  2.583247e+06           180.0    123000.0   \n",
      "439184       291.45  2.582651e+06           230.0    119000.0   \n",
      "439185       291.45  2.591920e+06           280.0    118000.0   \n",
      "\n",
      "        bo_aux_blower_running  re_eng_load  pr_air_scav_ecs    pr_air_scav  \\\n",
      "155674                    0.0         0.33     67402.648926   67402.648926   \n",
      "155675                    0.0         0.33     66069.030762   66069.030762   \n",
      "155676                    0.0         0.33     64521.789551   64521.789551   \n",
      "155677                    0.0         0.33     66302.490234   66302.490234   \n",
      "155678                    0.0         0.34     67651.367188   67651.367188   \n",
      "...                       ...          ...              ...            ...   \n",
      "439181                    0.0         0.55    141625.976562  141625.976562   \n",
      "439182                    0.0         0.54    140539.550781  140539.550781   \n",
      "439183                    0.0         0.54    136929.321289  136929.321289   \n",
      "439184                    0.0         0.53    133502.197266  133502.197266   \n",
      "439185                    0.0         0.52    132366.943359  132366.943359   \n",
      "\n",
      "        te_air_scav_rec  te_air_ic_out__0_1  pr_cyl_comp__0  pr_cyl_max__0  \\\n",
      "155674           310.45              302.95    8.298032e+06   1.224769e+07   \n",
      "155675           310.45              302.95    8.129535e+06   1.210600e+07   \n",
      "155676           310.35              302.95    8.093028e+06   1.212506e+07   \n",
      "155677           310.45              302.95    8.160707e+06   1.212672e+07   \n",
      "155678           310.45              302.95    8.245092e+06   1.232116e+07   \n",
      "...                 ...                 ...             ...            ...   \n",
      "439181           318.25              310.65    1.462128e+07   1.856252e+07   \n",
      "439182           318.25              310.75    1.446443e+07   1.843547e+07   \n",
      "439183           318.25              310.75    1.439970e+07   1.834930e+07   \n",
      "439184           318.25              310.75    1.423135e+07   1.819353e+07   \n",
      "439185           318.25              310.75    1.419189e+07   1.820430e+07   \n",
      "\n",
      "           se_mip__0  te_exh_cyl_out__0_1  fr_eng_setpoint  \\\n",
      "155674  8.884035e+05               551.15         0.914972   \n",
      "155675  8.832464e+05               550.15         0.914972   \n",
      "155676  8.747619e+05               550.15         0.914972   \n",
      "155677  8.879406e+05               550.15         0.914972   \n",
      "155678  9.040318e+05               550.15         0.914972   \n",
      "...              ...                  ...              ...   \n",
      "439181  1.262804e+06               555.15         1.019965   \n",
      "439182  1.236266e+06               555.15         1.019965   \n",
      "439183  1.227601e+06               555.15         1.019965   \n",
      "439184  1.213029e+06               555.15         1.019965   \n",
      "439185  1.219686e+06               555.15         1.019965   \n",
      "\n",
      "        te_air_scav_rec_iso  pr_cyl_max_mv_iso  pr_cyl_comp_mv_iso  \\\n",
      "155674           299.728408      -6.603020e+07       -7.155594e+07   \n",
      "155675           299.728408      -6.565175e+07       -7.075990e+07   \n",
      "155676           299.728408      -6.539791e+07       -7.027582e+07   \n",
      "155677           299.728408      -6.580781e+07       -7.076238e+07   \n",
      "155678           299.829286      -6.622560e+07       -7.131539e+07   \n",
      "...                     ...                ...                 ...   \n",
      "439181           303.059782      -6.792722e+07       -8.174774e+07   \n",
      "439182           302.872662      -6.809147e+07       -8.168589e+07   \n",
      "439183           302.872662      -6.770504e+07       -8.117882e+07   \n",
      "439184           302.687664      -6.721556e+07       -8.040727e+07   \n",
      "439185           302.504936      -6.738855e+07       -8.050945e+07   \n",
      "\n",
      "        fr_eng_ecs  pr_air_scav_iso  engine_type_G95ME-C10.5-GI-LPSCR  \n",
      "155674    0.914165    -2.192475e+07                               1.0  \n",
      "155675    0.914865    -2.198966e+07                               1.0  \n",
      "155676    0.916016    -2.194526e+07                               1.0  \n",
      "155677    0.914566    -2.198616e+07                               1.0  \n",
      "155678    0.913920    -2.199390e+07                               1.0  \n",
      "...            ...              ...                               ...  \n",
      "439181    1.026240    -1.474372e+07                               1.0  \n",
      "439182    1.035701    -1.488898e+07                               1.0  \n",
      "439183    1.028137    -1.479966e+07                               1.0  \n",
      "439184    1.027765    -1.477784e+07                               1.0  \n",
      "439185    1.021612    -1.488213e+07                               1.0  \n",
      "\n",
      "[176450 rows x 25 columns]\n"
     ]
    },
    {
     "ename": "MlflowException",
     "evalue": "API request to http://localhost:5000/api/2.0/mlflow/experiments/get-by-name failed with exception HTTPConnectionPool(host='localhost', port=5000): Max retries exceeded with url: /api/2.0/mlflow/experiments/get-by-name?experiment_name=VAE_adjustedtestwizcorrect_optuna (Caused by NewConnectionError('<urllib3.connection.HTTPConnection object at 0x7f40c0a02f20>: Failed to establish a new connection: [Errno 111] Connection refused'))",
     "output_type": "error",
     "traceback": [
      "\u001b[0;31m---------------------------------------------------------------------------\u001b[0m",
      "\u001b[0;31mConnectionRefusedError\u001b[0m                    Traceback (most recent call last)",
      "File \u001b[0;32m~/SageMaker/sensor-imputation-thesis/.venv/lib/python3.10/site-packages/urllib3/connection.py:199\u001b[0m, in \u001b[0;36mHTTPConnection._new_conn\u001b[0;34m(self)\u001b[0m\n\u001b[1;32m    198\u001b[0m \u001b[39mtry\u001b[39;00m:\n\u001b[0;32m--> 199\u001b[0m     sock \u001b[39m=\u001b[39m connection\u001b[39m.\u001b[39;49mcreate_connection(\n\u001b[1;32m    200\u001b[0m         (\u001b[39mself\u001b[39;49m\u001b[39m.\u001b[39;49m_dns_host, \u001b[39mself\u001b[39;49m\u001b[39m.\u001b[39;49mport),\n\u001b[1;32m    201\u001b[0m         \u001b[39mself\u001b[39;49m\u001b[39m.\u001b[39;49mtimeout,\n\u001b[1;32m    202\u001b[0m         source_address\u001b[39m=\u001b[39;49m\u001b[39mself\u001b[39;49m\u001b[39m.\u001b[39;49msource_address,\n\u001b[1;32m    203\u001b[0m         socket_options\u001b[39m=\u001b[39;49m\u001b[39mself\u001b[39;49m\u001b[39m.\u001b[39;49msocket_options,\n\u001b[1;32m    204\u001b[0m     )\n\u001b[1;32m    205\u001b[0m \u001b[39mexcept\u001b[39;00m socket\u001b[39m.\u001b[39mgaierror \u001b[39mas\u001b[39;00m e:\n",
      "File \u001b[0;32m~/SageMaker/sensor-imputation-thesis/.venv/lib/python3.10/site-packages/urllib3/util/connection.py:85\u001b[0m, in \u001b[0;36mcreate_connection\u001b[0;34m(address, timeout, source_address, socket_options)\u001b[0m\n\u001b[1;32m     84\u001b[0m \u001b[39mtry\u001b[39;00m:\n\u001b[0;32m---> 85\u001b[0m     \u001b[39mraise\u001b[39;00m err\n\u001b[1;32m     86\u001b[0m \u001b[39mfinally\u001b[39;00m:\n\u001b[1;32m     87\u001b[0m     \u001b[39m# Break explicitly a reference cycle\u001b[39;00m\n",
      "File \u001b[0;32m~/SageMaker/sensor-imputation-thesis/.venv/lib/python3.10/site-packages/urllib3/util/connection.py:73\u001b[0m, in \u001b[0;36mcreate_connection\u001b[0;34m(address, timeout, source_address, socket_options)\u001b[0m\n\u001b[1;32m     72\u001b[0m     sock\u001b[39m.\u001b[39mbind(source_address)\n\u001b[0;32m---> 73\u001b[0m sock\u001b[39m.\u001b[39;49mconnect(sa)\n\u001b[1;32m     74\u001b[0m \u001b[39m# Break explicitly a reference cycle\u001b[39;00m\n",
      "\u001b[0;31mConnectionRefusedError\u001b[0m: [Errno 111] Connection refused",
      "\nThe above exception was the direct cause of the following exception:\n",
      "\u001b[0;31mNewConnectionError\u001b[0m                        Traceback (most recent call last)",
      "File \u001b[0;32m~/SageMaker/sensor-imputation-thesis/.venv/lib/python3.10/site-packages/urllib3/connectionpool.py:789\u001b[0m, in \u001b[0;36mHTTPConnectionPool.urlopen\u001b[0;34m(self, method, url, body, headers, retries, redirect, assert_same_host, timeout, pool_timeout, release_conn, chunked, body_pos, preload_content, decode_content, **response_kw)\u001b[0m\n\u001b[1;32m    788\u001b[0m \u001b[39m# Make the request on the HTTPConnection object\u001b[39;00m\n\u001b[0;32m--> 789\u001b[0m response \u001b[39m=\u001b[39m \u001b[39mself\u001b[39;49m\u001b[39m.\u001b[39;49m_make_request(\n\u001b[1;32m    790\u001b[0m     conn,\n\u001b[1;32m    791\u001b[0m     method,\n\u001b[1;32m    792\u001b[0m     url,\n\u001b[1;32m    793\u001b[0m     timeout\u001b[39m=\u001b[39;49mtimeout_obj,\n\u001b[1;32m    794\u001b[0m     body\u001b[39m=\u001b[39;49mbody,\n\u001b[1;32m    795\u001b[0m     headers\u001b[39m=\u001b[39;49mheaders,\n\u001b[1;32m    796\u001b[0m     chunked\u001b[39m=\u001b[39;49mchunked,\n\u001b[1;32m    797\u001b[0m     retries\u001b[39m=\u001b[39;49mretries,\n\u001b[1;32m    798\u001b[0m     response_conn\u001b[39m=\u001b[39;49mresponse_conn,\n\u001b[1;32m    799\u001b[0m     preload_content\u001b[39m=\u001b[39;49mpreload_content,\n\u001b[1;32m    800\u001b[0m     decode_content\u001b[39m=\u001b[39;49mdecode_content,\n\u001b[1;32m    801\u001b[0m     \u001b[39m*\u001b[39;49m\u001b[39m*\u001b[39;49mresponse_kw,\n\u001b[1;32m    802\u001b[0m )\n\u001b[1;32m    804\u001b[0m \u001b[39m# Everything went great!\u001b[39;00m\n",
      "File \u001b[0;32m~/SageMaker/sensor-imputation-thesis/.venv/lib/python3.10/site-packages/urllib3/connectionpool.py:495\u001b[0m, in \u001b[0;36mHTTPConnectionPool._make_request\u001b[0;34m(self, conn, method, url, body, headers, retries, timeout, chunked, response_conn, preload_content, decode_content, enforce_content_length)\u001b[0m\n\u001b[1;32m    494\u001b[0m \u001b[39mtry\u001b[39;00m:\n\u001b[0;32m--> 495\u001b[0m     conn\u001b[39m.\u001b[39;49mrequest(\n\u001b[1;32m    496\u001b[0m         method,\n\u001b[1;32m    497\u001b[0m         url,\n\u001b[1;32m    498\u001b[0m         body\u001b[39m=\u001b[39;49mbody,\n\u001b[1;32m    499\u001b[0m         headers\u001b[39m=\u001b[39;49mheaders,\n\u001b[1;32m    500\u001b[0m         chunked\u001b[39m=\u001b[39;49mchunked,\n\u001b[1;32m    501\u001b[0m         preload_content\u001b[39m=\u001b[39;49mpreload_content,\n\u001b[1;32m    502\u001b[0m         decode_content\u001b[39m=\u001b[39;49mdecode_content,\n\u001b[1;32m    503\u001b[0m         enforce_content_length\u001b[39m=\u001b[39;49menforce_content_length,\n\u001b[1;32m    504\u001b[0m     )\n\u001b[1;32m    506\u001b[0m \u001b[39m# We are swallowing BrokenPipeError (errno.EPIPE) since the server is\u001b[39;00m\n\u001b[1;32m    507\u001b[0m \u001b[39m# legitimately able to close the connection after sending a valid response.\u001b[39;00m\n\u001b[1;32m    508\u001b[0m \u001b[39m# With this behaviour, the received response is still readable.\u001b[39;00m\n",
      "File \u001b[0;32m~/SageMaker/sensor-imputation-thesis/.venv/lib/python3.10/site-packages/urllib3/connection.py:441\u001b[0m, in \u001b[0;36mHTTPConnection.request\u001b[0;34m(self, method, url, body, headers, chunked, preload_content, decode_content, enforce_content_length)\u001b[0m\n\u001b[1;32m    440\u001b[0m     \u001b[39mself\u001b[39m\u001b[39m.\u001b[39mputheader(header, value)\n\u001b[0;32m--> 441\u001b[0m \u001b[39mself\u001b[39;49m\u001b[39m.\u001b[39;49mendheaders()\n\u001b[1;32m    443\u001b[0m \u001b[39m# If we're given a body we start sending that in chunks.\u001b[39;00m\n",
      "File \u001b[0;32m~/SageMaker/gdmake/cpython-3.10.16-linux-x86_64-gnu/lib/python3.10/http/client.py:1278\u001b[0m, in \u001b[0;36mHTTPConnection.endheaders\u001b[0;34m(self, message_body, encode_chunked)\u001b[0m\n\u001b[1;32m   1277\u001b[0m     \u001b[39mraise\u001b[39;00m CannotSendHeader()\n\u001b[0;32m-> 1278\u001b[0m \u001b[39mself\u001b[39;49m\u001b[39m.\u001b[39;49m_send_output(message_body, encode_chunked\u001b[39m=\u001b[39;49mencode_chunked)\n",
      "File \u001b[0;32m~/SageMaker/gdmake/cpython-3.10.16-linux-x86_64-gnu/lib/python3.10/http/client.py:1038\u001b[0m, in \u001b[0;36mHTTPConnection._send_output\u001b[0;34m(self, message_body, encode_chunked)\u001b[0m\n\u001b[1;32m   1037\u001b[0m \u001b[39mdel\u001b[39;00m \u001b[39mself\u001b[39m\u001b[39m.\u001b[39m_buffer[:]\n\u001b[0;32m-> 1038\u001b[0m \u001b[39mself\u001b[39;49m\u001b[39m.\u001b[39;49msend(msg)\n\u001b[1;32m   1040\u001b[0m \u001b[39mif\u001b[39;00m message_body \u001b[39mis\u001b[39;00m \u001b[39mnot\u001b[39;00m \u001b[39mNone\u001b[39;00m:\n\u001b[1;32m   1041\u001b[0m \n\u001b[1;32m   1042\u001b[0m     \u001b[39m# create a consistent interface to message_body\u001b[39;00m\n",
      "File \u001b[0;32m~/SageMaker/gdmake/cpython-3.10.16-linux-x86_64-gnu/lib/python3.10/http/client.py:976\u001b[0m, in \u001b[0;36mHTTPConnection.send\u001b[0;34m(self, data)\u001b[0m\n\u001b[1;32m    975\u001b[0m \u001b[39mif\u001b[39;00m \u001b[39mself\u001b[39m\u001b[39m.\u001b[39mauto_open:\n\u001b[0;32m--> 976\u001b[0m     \u001b[39mself\u001b[39;49m\u001b[39m.\u001b[39;49mconnect()\n\u001b[1;32m    977\u001b[0m \u001b[39melse\u001b[39;00m:\n",
      "File \u001b[0;32m~/SageMaker/sensor-imputation-thesis/.venv/lib/python3.10/site-packages/urllib3/connection.py:279\u001b[0m, in \u001b[0;36mHTTPConnection.connect\u001b[0;34m(self)\u001b[0m\n\u001b[1;32m    278\u001b[0m \u001b[39mdef\u001b[39;00m\u001b[39m \u001b[39m\u001b[39mconnect\u001b[39m(\u001b[39mself\u001b[39m) \u001b[39m-\u001b[39m\u001b[39m>\u001b[39m \u001b[39mNone\u001b[39;00m:\n\u001b[0;32m--> 279\u001b[0m     \u001b[39mself\u001b[39m\u001b[39m.\u001b[39msock \u001b[39m=\u001b[39m \u001b[39mself\u001b[39;49m\u001b[39m.\u001b[39;49m_new_conn()\n\u001b[1;32m    280\u001b[0m     \u001b[39mif\u001b[39;00m \u001b[39mself\u001b[39m\u001b[39m.\u001b[39m_tunnel_host:\n\u001b[1;32m    281\u001b[0m         \u001b[39m# If we're tunneling it means we're connected to our proxy.\u001b[39;00m\n",
      "File \u001b[0;32m~/SageMaker/sensor-imputation-thesis/.venv/lib/python3.10/site-packages/urllib3/connection.py:214\u001b[0m, in \u001b[0;36mHTTPConnection._new_conn\u001b[0;34m(self)\u001b[0m\n\u001b[1;32m    213\u001b[0m \u001b[39mexcept\u001b[39;00m \u001b[39mOSError\u001b[39;00m \u001b[39mas\u001b[39;00m e:\n\u001b[0;32m--> 214\u001b[0m     \u001b[39mraise\u001b[39;00m NewConnectionError(\n\u001b[1;32m    215\u001b[0m         \u001b[39mself\u001b[39m, \u001b[39mf\u001b[39m\u001b[39m\"\u001b[39m\u001b[39mFailed to establish a new connection: \u001b[39m\u001b[39m{\u001b[39;00me\u001b[39m}\u001b[39;00m\u001b[39m\"\u001b[39m\n\u001b[1;32m    216\u001b[0m     ) \u001b[39mfrom\u001b[39;00m\u001b[39m \u001b[39m\u001b[39me\u001b[39;00m\n\u001b[1;32m    218\u001b[0m \u001b[39m# Audit hooks are only available in Python 3.8+\u001b[39;00m\n",
      "\u001b[0;31mNewConnectionError\u001b[0m: <urllib3.connection.HTTPConnection object at 0x7f40c0a02f20>: Failed to establish a new connection: [Errno 111] Connection refused",
      "\nThe above exception was the direct cause of the following exception:\n",
      "\u001b[0;31mMaxRetryError\u001b[0m                             Traceback (most recent call last)",
      "File \u001b[0;32m~/SageMaker/sensor-imputation-thesis/.venv/lib/python3.10/site-packages/requests/adapters.py:667\u001b[0m, in \u001b[0;36mHTTPAdapter.send\u001b[0;34m(self, request, stream, timeout, verify, cert, proxies)\u001b[0m\n\u001b[1;32m    666\u001b[0m \u001b[39mtry\u001b[39;00m:\n\u001b[0;32m--> 667\u001b[0m     resp \u001b[39m=\u001b[39m conn\u001b[39m.\u001b[39;49murlopen(\n\u001b[1;32m    668\u001b[0m         method\u001b[39m=\u001b[39;49mrequest\u001b[39m.\u001b[39;49mmethod,\n\u001b[1;32m    669\u001b[0m         url\u001b[39m=\u001b[39;49murl,\n\u001b[1;32m    670\u001b[0m         body\u001b[39m=\u001b[39;49mrequest\u001b[39m.\u001b[39;49mbody,\n\u001b[1;32m    671\u001b[0m         headers\u001b[39m=\u001b[39;49mrequest\u001b[39m.\u001b[39;49mheaders,\n\u001b[1;32m    672\u001b[0m         redirect\u001b[39m=\u001b[39;49m\u001b[39mFalse\u001b[39;49;00m,\n\u001b[1;32m    673\u001b[0m         assert_same_host\u001b[39m=\u001b[39;49m\u001b[39mFalse\u001b[39;49;00m,\n\u001b[1;32m    674\u001b[0m         preload_content\u001b[39m=\u001b[39;49m\u001b[39mFalse\u001b[39;49;00m,\n\u001b[1;32m    675\u001b[0m         decode_content\u001b[39m=\u001b[39;49m\u001b[39mFalse\u001b[39;49;00m,\n\u001b[1;32m    676\u001b[0m         retries\u001b[39m=\u001b[39;49m\u001b[39mself\u001b[39;49m\u001b[39m.\u001b[39;49mmax_retries,\n\u001b[1;32m    677\u001b[0m         timeout\u001b[39m=\u001b[39;49mtimeout,\n\u001b[1;32m    678\u001b[0m         chunked\u001b[39m=\u001b[39;49mchunked,\n\u001b[1;32m    679\u001b[0m     )\n\u001b[1;32m    681\u001b[0m \u001b[39mexcept\u001b[39;00m (ProtocolError, \u001b[39mOSError\u001b[39;00m) \u001b[39mas\u001b[39;00m err:\n",
      "File \u001b[0;32m~/SageMaker/sensor-imputation-thesis/.venv/lib/python3.10/site-packages/urllib3/connectionpool.py:873\u001b[0m, in \u001b[0;36mHTTPConnectionPool.urlopen\u001b[0;34m(self, method, url, body, headers, retries, redirect, assert_same_host, timeout, pool_timeout, release_conn, chunked, body_pos, preload_content, decode_content, **response_kw)\u001b[0m\n\u001b[1;32m    870\u001b[0m     log\u001b[39m.\u001b[39mwarning(\n\u001b[1;32m    871\u001b[0m         \u001b[39m\"\u001b[39m\u001b[39mRetrying (\u001b[39m\u001b[39m%r\u001b[39;00m\u001b[39m) after connection broken by \u001b[39m\u001b[39m'\u001b[39m\u001b[39m%r\u001b[39;00m\u001b[39m'\u001b[39m\u001b[39m: \u001b[39m\u001b[39m%s\u001b[39;00m\u001b[39m\"\u001b[39m, retries, err, url\n\u001b[1;32m    872\u001b[0m     )\n\u001b[0;32m--> 873\u001b[0m     \u001b[39mreturn\u001b[39;00m \u001b[39mself\u001b[39;49m\u001b[39m.\u001b[39;49murlopen(\n\u001b[1;32m    874\u001b[0m         method,\n\u001b[1;32m    875\u001b[0m         url,\n\u001b[1;32m    876\u001b[0m         body,\n\u001b[1;32m    877\u001b[0m         headers,\n\u001b[1;32m    878\u001b[0m         retries,\n\u001b[1;32m    879\u001b[0m         redirect,\n\u001b[1;32m    880\u001b[0m         assert_same_host,\n\u001b[1;32m    881\u001b[0m         timeout\u001b[39m=\u001b[39;49mtimeout,\n\u001b[1;32m    882\u001b[0m         pool_timeout\u001b[39m=\u001b[39;49mpool_timeout,\n\u001b[1;32m    883\u001b[0m         release_conn\u001b[39m=\u001b[39;49mrelease_conn,\n\u001b[1;32m    884\u001b[0m         chunked\u001b[39m=\u001b[39;49mchunked,\n\u001b[1;32m    885\u001b[0m         body_pos\u001b[39m=\u001b[39;49mbody_pos,\n\u001b[1;32m    886\u001b[0m         preload_content\u001b[39m=\u001b[39;49mpreload_content,\n\u001b[1;32m    887\u001b[0m         decode_content\u001b[39m=\u001b[39;49mdecode_content,\n\u001b[1;32m    888\u001b[0m         \u001b[39m*\u001b[39;49m\u001b[39m*\u001b[39;49mresponse_kw,\n\u001b[1;32m    889\u001b[0m     )\n\u001b[1;32m    891\u001b[0m \u001b[39m# Handle redirect?\u001b[39;00m\n",
      "File \u001b[0;32m~/SageMaker/sensor-imputation-thesis/.venv/lib/python3.10/site-packages/urllib3/connectionpool.py:873\u001b[0m, in \u001b[0;36mHTTPConnectionPool.urlopen\u001b[0;34m(self, method, url, body, headers, retries, redirect, assert_same_host, timeout, pool_timeout, release_conn, chunked, body_pos, preload_content, decode_content, **response_kw)\u001b[0m\n\u001b[1;32m    870\u001b[0m     log\u001b[39m.\u001b[39mwarning(\n\u001b[1;32m    871\u001b[0m         \u001b[39m\"\u001b[39m\u001b[39mRetrying (\u001b[39m\u001b[39m%r\u001b[39;00m\u001b[39m) after connection broken by \u001b[39m\u001b[39m'\u001b[39m\u001b[39m%r\u001b[39;00m\u001b[39m'\u001b[39m\u001b[39m: \u001b[39m\u001b[39m%s\u001b[39;00m\u001b[39m\"\u001b[39m, retries, err, url\n\u001b[1;32m    872\u001b[0m     )\n\u001b[0;32m--> 873\u001b[0m     \u001b[39mreturn\u001b[39;00m \u001b[39mself\u001b[39;49m\u001b[39m.\u001b[39;49murlopen(\n\u001b[1;32m    874\u001b[0m         method,\n\u001b[1;32m    875\u001b[0m         url,\n\u001b[1;32m    876\u001b[0m         body,\n\u001b[1;32m    877\u001b[0m         headers,\n\u001b[1;32m    878\u001b[0m         retries,\n\u001b[1;32m    879\u001b[0m         redirect,\n\u001b[1;32m    880\u001b[0m         assert_same_host,\n\u001b[1;32m    881\u001b[0m         timeout\u001b[39m=\u001b[39;49mtimeout,\n\u001b[1;32m    882\u001b[0m         pool_timeout\u001b[39m=\u001b[39;49mpool_timeout,\n\u001b[1;32m    883\u001b[0m         release_conn\u001b[39m=\u001b[39;49mrelease_conn,\n\u001b[1;32m    884\u001b[0m         chunked\u001b[39m=\u001b[39;49mchunked,\n\u001b[1;32m    885\u001b[0m         body_pos\u001b[39m=\u001b[39;49mbody_pos,\n\u001b[1;32m    886\u001b[0m         preload_content\u001b[39m=\u001b[39;49mpreload_content,\n\u001b[1;32m    887\u001b[0m         decode_content\u001b[39m=\u001b[39;49mdecode_content,\n\u001b[1;32m    888\u001b[0m         \u001b[39m*\u001b[39;49m\u001b[39m*\u001b[39;49mresponse_kw,\n\u001b[1;32m    889\u001b[0m     )\n\u001b[1;32m    891\u001b[0m \u001b[39m# Handle redirect?\u001b[39;00m\n",
      "    \u001b[0;31m[... skipping similar frames: HTTPConnectionPool.urlopen at line 873 (2 times)]\u001b[0m\n",
      "File \u001b[0;32m~/SageMaker/sensor-imputation-thesis/.venv/lib/python3.10/site-packages/urllib3/connectionpool.py:873\u001b[0m, in \u001b[0;36mHTTPConnectionPool.urlopen\u001b[0;34m(self, method, url, body, headers, retries, redirect, assert_same_host, timeout, pool_timeout, release_conn, chunked, body_pos, preload_content, decode_content, **response_kw)\u001b[0m\n\u001b[1;32m    870\u001b[0m     log\u001b[39m.\u001b[39mwarning(\n\u001b[1;32m    871\u001b[0m         \u001b[39m\"\u001b[39m\u001b[39mRetrying (\u001b[39m\u001b[39m%r\u001b[39;00m\u001b[39m) after connection broken by \u001b[39m\u001b[39m'\u001b[39m\u001b[39m%r\u001b[39;00m\u001b[39m'\u001b[39m\u001b[39m: \u001b[39m\u001b[39m%s\u001b[39;00m\u001b[39m\"\u001b[39m, retries, err, url\n\u001b[1;32m    872\u001b[0m     )\n\u001b[0;32m--> 873\u001b[0m     \u001b[39mreturn\u001b[39;00m \u001b[39mself\u001b[39;49m\u001b[39m.\u001b[39;49murlopen(\n\u001b[1;32m    874\u001b[0m         method,\n\u001b[1;32m    875\u001b[0m         url,\n\u001b[1;32m    876\u001b[0m         body,\n\u001b[1;32m    877\u001b[0m         headers,\n\u001b[1;32m    878\u001b[0m         retries,\n\u001b[1;32m    879\u001b[0m         redirect,\n\u001b[1;32m    880\u001b[0m         assert_same_host,\n\u001b[1;32m    881\u001b[0m         timeout\u001b[39m=\u001b[39;49mtimeout,\n\u001b[1;32m    882\u001b[0m         pool_timeout\u001b[39m=\u001b[39;49mpool_timeout,\n\u001b[1;32m    883\u001b[0m         release_conn\u001b[39m=\u001b[39;49mrelease_conn,\n\u001b[1;32m    884\u001b[0m         chunked\u001b[39m=\u001b[39;49mchunked,\n\u001b[1;32m    885\u001b[0m         body_pos\u001b[39m=\u001b[39;49mbody_pos,\n\u001b[1;32m    886\u001b[0m         preload_content\u001b[39m=\u001b[39;49mpreload_content,\n\u001b[1;32m    887\u001b[0m         decode_content\u001b[39m=\u001b[39;49mdecode_content,\n\u001b[1;32m    888\u001b[0m         \u001b[39m*\u001b[39;49m\u001b[39m*\u001b[39;49mresponse_kw,\n\u001b[1;32m    889\u001b[0m     )\n\u001b[1;32m    891\u001b[0m \u001b[39m# Handle redirect?\u001b[39;00m\n",
      "File \u001b[0;32m~/SageMaker/sensor-imputation-thesis/.venv/lib/python3.10/site-packages/urllib3/connectionpool.py:843\u001b[0m, in \u001b[0;36mHTTPConnectionPool.urlopen\u001b[0;34m(self, method, url, body, headers, retries, redirect, assert_same_host, timeout, pool_timeout, release_conn, chunked, body_pos, preload_content, decode_content, **response_kw)\u001b[0m\n\u001b[1;32m    841\u001b[0m     new_e \u001b[39m=\u001b[39m ProtocolError(\u001b[39m\"\u001b[39m\u001b[39mConnection aborted.\u001b[39m\u001b[39m\"\u001b[39m, new_e)\n\u001b[0;32m--> 843\u001b[0m retries \u001b[39m=\u001b[39m retries\u001b[39m.\u001b[39;49mincrement(\n\u001b[1;32m    844\u001b[0m     method, url, error\u001b[39m=\u001b[39;49mnew_e, _pool\u001b[39m=\u001b[39;49m\u001b[39mself\u001b[39;49m, _stacktrace\u001b[39m=\u001b[39;49msys\u001b[39m.\u001b[39;49mexc_info()[\u001b[39m2\u001b[39;49m]\n\u001b[1;32m    845\u001b[0m )\n\u001b[1;32m    846\u001b[0m retries\u001b[39m.\u001b[39msleep()\n",
      "File \u001b[0;32m~/SageMaker/sensor-imputation-thesis/.venv/lib/python3.10/site-packages/urllib3/util/retry.py:519\u001b[0m, in \u001b[0;36mRetry.increment\u001b[0;34m(self, method, url, response, error, _pool, _stacktrace)\u001b[0m\n\u001b[1;32m    518\u001b[0m     reason \u001b[39m=\u001b[39m error \u001b[39mor\u001b[39;00m ResponseError(cause)\n\u001b[0;32m--> 519\u001b[0m     \u001b[39mraise\u001b[39;00m MaxRetryError(_pool, url, reason) \u001b[39mfrom\u001b[39;00m\u001b[39m \u001b[39m\u001b[39mreason\u001b[39;00m  \u001b[39m# type: ignore[arg-type]\u001b[39;00m\n\u001b[1;32m    521\u001b[0m log\u001b[39m.\u001b[39mdebug(\u001b[39m\"\u001b[39m\u001b[39mIncremented Retry for (url=\u001b[39m\u001b[39m'\u001b[39m\u001b[39m%s\u001b[39;00m\u001b[39m'\u001b[39m\u001b[39m): \u001b[39m\u001b[39m%r\u001b[39;00m\u001b[39m\"\u001b[39m, url, new_retry)\n",
      "\u001b[0;31mMaxRetryError\u001b[0m: HTTPConnectionPool(host='localhost', port=5000): Max retries exceeded with url: /api/2.0/mlflow/experiments/get-by-name?experiment_name=VAE_adjustedtestwizcorrect_optuna (Caused by NewConnectionError('<urllib3.connection.HTTPConnection object at 0x7f40c0a02f20>: Failed to establish a new connection: [Errno 111] Connection refused'))",
      "\nDuring handling of the above exception, another exception occurred:\n",
      "\u001b[0;31mConnectionError\u001b[0m                           Traceback (most recent call last)",
      "File \u001b[0;32m~/SageMaker/sensor-imputation-thesis/.venv/lib/python3.10/site-packages/mlflow/utils/rest_utils.py:189\u001b[0m, in \u001b[0;36mhttp_request\u001b[0;34m(host_creds, endpoint, method, max_retries, backoff_factor, backoff_jitter, extra_headers, retry_codes, timeout, raise_on_status, respect_retry_after_header, **kwargs)\u001b[0m\n\u001b[1;32m    188\u001b[0m \u001b[39mtry\u001b[39;00m:\n\u001b[0;32m--> 189\u001b[0m     \u001b[39mreturn\u001b[39;00m _get_http_response_with_retries(\n\u001b[1;32m    190\u001b[0m         method,\n\u001b[1;32m    191\u001b[0m         url,\n\u001b[1;32m    192\u001b[0m         max_retries,\n\u001b[1;32m    193\u001b[0m         backoff_factor,\n\u001b[1;32m    194\u001b[0m         backoff_jitter,\n\u001b[1;32m    195\u001b[0m         retry_codes,\n\u001b[1;32m    196\u001b[0m         raise_on_status,\n\u001b[1;32m    197\u001b[0m         headers\u001b[39m=\u001b[39;49mheaders,\n\u001b[1;32m    198\u001b[0m         verify\u001b[39m=\u001b[39;49mhost_creds\u001b[39m.\u001b[39;49mverify,\n\u001b[1;32m    199\u001b[0m         timeout\u001b[39m=\u001b[39;49mtimeout,\n\u001b[1;32m    200\u001b[0m         respect_retry_after_header\u001b[39m=\u001b[39;49mrespect_retry_after_header,\n\u001b[1;32m    201\u001b[0m         \u001b[39m*\u001b[39;49m\u001b[39m*\u001b[39;49mkwargs,\n\u001b[1;32m    202\u001b[0m     )\n\u001b[1;32m    203\u001b[0m \u001b[39mexcept\u001b[39;00m requests\u001b[39m.\u001b[39mexceptions\u001b[39m.\u001b[39mTimeout \u001b[39mas\u001b[39;00m to:\n",
      "File \u001b[0;32m~/SageMaker/sensor-imputation-thesis/.venv/lib/python3.10/site-packages/mlflow/utils/request_utils.py:237\u001b[0m, in \u001b[0;36m_get_http_response_with_retries\u001b[0;34m(method, url, max_retries, backoff_factor, backoff_jitter, retry_codes, raise_on_status, allow_redirects, respect_retry_after_header, **kwargs)\u001b[0m\n\u001b[1;32m    235\u001b[0m allow_redirects \u001b[39m=\u001b[39m env_value \u001b[39mif\u001b[39;00m allow_redirects \u001b[39mis\u001b[39;00m \u001b[39mNone\u001b[39;00m \u001b[39melse\u001b[39;00m allow_redirects\n\u001b[0;32m--> 237\u001b[0m \u001b[39mreturn\u001b[39;00m session\u001b[39m.\u001b[39;49mrequest(method, url, allow_redirects\u001b[39m=\u001b[39;49mallow_redirects, \u001b[39m*\u001b[39;49m\u001b[39m*\u001b[39;49mkwargs)\n",
      "File \u001b[0;32m~/SageMaker/sensor-imputation-thesis/.venv/lib/python3.10/site-packages/requests/sessions.py:589\u001b[0m, in \u001b[0;36mSession.request\u001b[0;34m(self, method, url, params, data, headers, cookies, files, auth, timeout, allow_redirects, proxies, hooks, stream, verify, cert, json)\u001b[0m\n\u001b[1;32m    588\u001b[0m send_kwargs\u001b[39m.\u001b[39mupdate(settings)\n\u001b[0;32m--> 589\u001b[0m resp \u001b[39m=\u001b[39m \u001b[39mself\u001b[39;49m\u001b[39m.\u001b[39;49msend(prep, \u001b[39m*\u001b[39;49m\u001b[39m*\u001b[39;49msend_kwargs)\n\u001b[1;32m    591\u001b[0m \u001b[39mreturn\u001b[39;00m resp\n",
      "File \u001b[0;32m~/SageMaker/sensor-imputation-thesis/.venv/lib/python3.10/site-packages/requests/sessions.py:703\u001b[0m, in \u001b[0;36mSession.send\u001b[0;34m(self, request, **kwargs)\u001b[0m\n\u001b[1;32m    702\u001b[0m \u001b[39m# Send the request\u001b[39;00m\n\u001b[0;32m--> 703\u001b[0m r \u001b[39m=\u001b[39m adapter\u001b[39m.\u001b[39;49msend(request, \u001b[39m*\u001b[39;49m\u001b[39m*\u001b[39;49mkwargs)\n\u001b[1;32m    705\u001b[0m \u001b[39m# Total elapsed time of the request (approximately)\u001b[39;00m\n",
      "File \u001b[0;32m~/SageMaker/sensor-imputation-thesis/.venv/lib/python3.10/site-packages/requests/adapters.py:700\u001b[0m, in \u001b[0;36mHTTPAdapter.send\u001b[0;34m(self, request, stream, timeout, verify, cert, proxies)\u001b[0m\n\u001b[1;32m    698\u001b[0m         \u001b[39mraise\u001b[39;00m SSLError(e, request\u001b[39m=\u001b[39mrequest)\n\u001b[0;32m--> 700\u001b[0m     \u001b[39mraise\u001b[39;00m \u001b[39mConnectionError\u001b[39;00m(e, request\u001b[39m=\u001b[39mrequest)\n\u001b[1;32m    702\u001b[0m \u001b[39mexcept\u001b[39;00m ClosedPoolError \u001b[39mas\u001b[39;00m e:\n",
      "\u001b[0;31mConnectionError\u001b[0m: HTTPConnectionPool(host='localhost', port=5000): Max retries exceeded with url: /api/2.0/mlflow/experiments/get-by-name?experiment_name=VAE_adjustedtestwizcorrect_optuna (Caused by NewConnectionError('<urllib3.connection.HTTPConnection object at 0x7f40c0a02f20>: Failed to establish a new connection: [Errno 111] Connection refused'))",
      "\nDuring handling of the above exception, another exception occurred:\n",
      "\u001b[0;31mMlflowException\u001b[0m                           Traceback (most recent call last)",
      "File \u001b[1;32m/home/ec2-user/SageMaker/sensor-imputation-thesis/src/sensor_imputation_thesis/nadire/VAErescue.py:603\u001b[0m\n\u001b[1;32m    584\u001b[0m             \u001b[39m##Registration may not needed yet.. \u001b[39;00m\n\u001b[1;32m    585\u001b[0m              \u001b[39m#log the model with scaling params\u001b[39;00m\n\u001b[1;32m    586\u001b[0m             \u001b[39m#input_dim = scaled_train.shape[1]\u001b[39;00m\n\u001b[0;32m   (...)\u001b[0m\n\u001b[1;32m    598\u001b[0m                  \u001b[39m#   }\u001b[39;00m\n\u001b[1;32m    599\u001b[0m                 \u001b[39m#)\u001b[39;00m\n\u001b[1;32m    602\u001b[0m \u001b[39mif\u001b[39;00m \u001b[39m__name__\u001b[39m \u001b[39m==\u001b[39m \u001b[39m'\u001b[39m\u001b[39m__main__\u001b[39m\u001b[39m'\u001b[39m:\n\u001b[0;32m--> 603\u001b[0m     main()\n\u001b[1;32m    611\u001b[0m     \u001b[39m# CSOM: This should be done ONCE after training, and not inside the training loop.\u001b[39;00m\n",
      "File \u001b[1;32m/home/ec2-user/SageMaker/sensor-imputation-thesis/src/sensor_imputation_thesis/nadire/VAErescue.py:421\u001b[0m\n\u001b[1;32m    417\u001b[0m test_dataset\u001b[39m=\u001b[39mTensorDataset(scaled_test_tensor)\n\u001b[1;32m    420\u001b[0m  \u001b[39m# Initialize Mlflow\u001b[39;00m\n\u001b[0;32m--> 421\u001b[0m mlflow\u001b[39m.\u001b[39;49mset_experiment(\u001b[39m\"\u001b[39;49m\u001b[39mVAE_adjustedtestwizcorrect_optuna\u001b[39;49m\u001b[39m\"\u001b[39;49m)\n\u001b[1;32m    424\u001b[0m \u001b[39mdef\u001b[39;00m\u001b[39m \u001b[39m\u001b[39mplot_loss_trends\u001b[39m(run_id):\n\u001b[1;32m    425\u001b[0m     client \u001b[39m=\u001b[39m mlflow\u001b[39m.\u001b[39mtracking\u001b[39m.\u001b[39mMlflowClient()\n",
      "File \u001b[0;32m~/SageMaker/sensor-imputation-thesis/.venv/lib/python3.10/site-packages/mlflow/tracking/fluent.py:157\u001b[0m, in \u001b[0;36mset_experiment\u001b[0;34m(experiment_name, experiment_id)\u001b[0m\n\u001b[1;32m    155\u001b[0m \u001b[39mwith\u001b[39;00m _experiment_lock:\n\u001b[1;32m    156\u001b[0m     \u001b[39mif\u001b[39;00m experiment_id \u001b[39mis\u001b[39;00m \u001b[39mNone\u001b[39;00m:\n\u001b[0;32m--> 157\u001b[0m         experiment \u001b[39m=\u001b[39m client\u001b[39m.\u001b[39;49mget_experiment_by_name(experiment_name)\n\u001b[1;32m    158\u001b[0m         \u001b[39mif\u001b[39;00m \u001b[39mnot\u001b[39;00m experiment:\n\u001b[1;32m    159\u001b[0m             \u001b[39mtry\u001b[39;00m:\n",
      "File \u001b[0;32m~/SageMaker/sensor-imputation-thesis/.venv/lib/python3.10/site-packages/mlflow/tracking/client.py:1257\u001b[0m, in \u001b[0;36mMlflowClient.get_experiment_by_name\u001b[0;34m(self, name)\u001b[0m\n\u001b[1;32m   1225\u001b[0m \u001b[39mdef\u001b[39;00m\u001b[39m \u001b[39m\u001b[39mget_experiment_by_name\u001b[39m(\u001b[39mself\u001b[39m, name: \u001b[39mstr\u001b[39m) \u001b[39m-\u001b[39m\u001b[39m>\u001b[39m Optional[Experiment]:\n\u001b[1;32m   1226\u001b[0m \u001b[39m    \u001b[39m\u001b[39m\"\"\"Retrieve an experiment by experiment name from the backend store\u001b[39;00m\n\u001b[1;32m   1227\u001b[0m \n\u001b[1;32m   1228\u001b[0m \u001b[39m    Args:\u001b[39;00m\n\u001b[0;32m   (...)\u001b[0m\n\u001b[1;32m   1255\u001b[0m \u001b[39m        Lifecycle_stage: active\u001b[39;00m\n\u001b[1;32m   1256\u001b[0m \u001b[39m    \"\"\"\u001b[39;00m\n\u001b[0;32m-> 1257\u001b[0m     \u001b[39mreturn\u001b[39;00m \u001b[39mself\u001b[39;49m\u001b[39m.\u001b[39;49m_tracking_client\u001b[39m.\u001b[39;49mget_experiment_by_name(name)\n",
      "File \u001b[0;32m~/SageMaker/sensor-imputation-thesis/.venv/lib/python3.10/site-packages/mlflow/tracking/_tracking_service/client.py:502\u001b[0m, in \u001b[0;36mTrackingServiceClient.get_experiment_by_name\u001b[0;34m(self, name)\u001b[0m\n\u001b[1;32m    494\u001b[0m \u001b[39mdef\u001b[39;00m\u001b[39m \u001b[39m\u001b[39mget_experiment_by_name\u001b[39m(\u001b[39mself\u001b[39m, name):\n\u001b[1;32m    495\u001b[0m \u001b[39m    \u001b[39m\u001b[39m\"\"\"\u001b[39;00m\n\u001b[1;32m    496\u001b[0m \u001b[39m    Args:\u001b[39;00m\n\u001b[1;32m    497\u001b[0m \u001b[39m        name: The experiment name.\u001b[39;00m\n\u001b[0;32m   (...)\u001b[0m\n\u001b[1;32m    500\u001b[0m \u001b[39m        :py:class:`mlflow.entities.Experiment`\u001b[39;00m\n\u001b[1;32m    501\u001b[0m \u001b[39m    \"\"\"\u001b[39;00m\n\u001b[0;32m--> 502\u001b[0m     \u001b[39mreturn\u001b[39;00m \u001b[39mself\u001b[39;49m\u001b[39m.\u001b[39;49mstore\u001b[39m.\u001b[39;49mget_experiment_by_name(name)\n",
      "File \u001b[0;32m~/SageMaker/sensor-imputation-thesis/.venv/lib/python3.10/site-packages/mlflow/store/tracking/rest_store.py:522\u001b[0m, in \u001b[0;36mRestStore.get_experiment_by_name\u001b[0;34m(self, experiment_name)\u001b[0m\n\u001b[1;32m    520\u001b[0m \u001b[39mtry\u001b[39;00m:\n\u001b[1;32m    521\u001b[0m     req_body \u001b[39m=\u001b[39m message_to_json(GetExperimentByName(experiment_name\u001b[39m=\u001b[39mexperiment_name))\n\u001b[0;32m--> 522\u001b[0m     response_proto \u001b[39m=\u001b[39m \u001b[39mself\u001b[39;49m\u001b[39m.\u001b[39;49m_call_endpoint(GetExperimentByName, req_body)\n\u001b[1;32m    523\u001b[0m     \u001b[39mreturn\u001b[39;00m Experiment\u001b[39m.\u001b[39mfrom_proto(response_proto\u001b[39m.\u001b[39mexperiment)\n\u001b[1;32m    524\u001b[0m \u001b[39mexcept\u001b[39;00m MlflowException \u001b[39mas\u001b[39;00m e:\n",
      "File \u001b[0;32m~/SageMaker/sensor-imputation-thesis/.venv/lib/python3.10/site-packages/mlflow/store/tracking/rest_store.py:82\u001b[0m, in \u001b[0;36mRestStore._call_endpoint\u001b[0;34m(self, api, json_body, endpoint)\u001b[0m\n\u001b[1;32m     80\u001b[0m     endpoint, method \u001b[39m=\u001b[39m _METHOD_TO_INFO[api]\n\u001b[1;32m     81\u001b[0m response_proto \u001b[39m=\u001b[39m api\u001b[39m.\u001b[39mResponse()\n\u001b[0;32m---> 82\u001b[0m \u001b[39mreturn\u001b[39;00m call_endpoint(\u001b[39mself\u001b[39;49m\u001b[39m.\u001b[39;49mget_host_creds(), endpoint, method, json_body, response_proto)\n",
      "File \u001b[0;32m~/SageMaker/sensor-imputation-thesis/.venv/lib/python3.10/site-packages/mlflow/utils/rest_utils.py:365\u001b[0m, in \u001b[0;36mcall_endpoint\u001b[0;34m(host_creds, endpoint, method, json_body, response_proto, extra_headers)\u001b[0m\n\u001b[1;32m    363\u001b[0m \u001b[39mif\u001b[39;00m method \u001b[39m==\u001b[39m \u001b[39m\"\u001b[39m\u001b[39mGET\u001b[39m\u001b[39m\"\u001b[39m:\n\u001b[1;32m    364\u001b[0m     call_kwargs[\u001b[39m\"\u001b[39m\u001b[39mparams\u001b[39m\u001b[39m\"\u001b[39m] \u001b[39m=\u001b[39m json_body\n\u001b[0;32m--> 365\u001b[0m     response \u001b[39m=\u001b[39m http_request(\u001b[39m*\u001b[39;49m\u001b[39m*\u001b[39;49mcall_kwargs)\n\u001b[1;32m    366\u001b[0m \u001b[39melse\u001b[39;00m:\n\u001b[1;32m    367\u001b[0m     call_kwargs[\u001b[39m\"\u001b[39m\u001b[39mjson\u001b[39m\u001b[39m\"\u001b[39m] \u001b[39m=\u001b[39m json_body\n",
      "File \u001b[0;32m~/SageMaker/sensor-imputation-thesis/.venv/lib/python3.10/site-packages/mlflow/utils/rest_utils.py:212\u001b[0m, in \u001b[0;36mhttp_request\u001b[0;34m(host_creds, endpoint, method, max_retries, backoff_factor, backoff_jitter, extra_headers, retry_codes, timeout, raise_on_status, respect_retry_after_header, **kwargs)\u001b[0m\n\u001b[1;32m    210\u001b[0m     \u001b[39mraise\u001b[39;00m InvalidUrlException(\u001b[39mf\u001b[39m\u001b[39m\"\u001b[39m\u001b[39mInvalid url: \u001b[39m\u001b[39m{\u001b[39;00murl\u001b[39m}\u001b[39;00m\u001b[39m\"\u001b[39m) \u001b[39mfrom\u001b[39;00m\u001b[39m \u001b[39m\u001b[39miu\u001b[39;00m\n\u001b[1;32m    211\u001b[0m \u001b[39mexcept\u001b[39;00m \u001b[39mException\u001b[39;00m \u001b[39mas\u001b[39;00m e:\n\u001b[0;32m--> 212\u001b[0m     \u001b[39mraise\u001b[39;00m MlflowException(\u001b[39mf\u001b[39m\u001b[39m\"\u001b[39m\u001b[39mAPI request to \u001b[39m\u001b[39m{\u001b[39;00murl\u001b[39m}\u001b[39;00m\u001b[39m failed with exception \u001b[39m\u001b[39m{\u001b[39;00me\u001b[39m}\u001b[39;00m\u001b[39m\"\u001b[39m)\n",
      "\u001b[0;31mMlflowException\u001b[0m: API request to http://localhost:5000/api/2.0/mlflow/experiments/get-by-name failed with exception HTTPConnectionPool(host='localhost', port=5000): Max retries exceeded with url: /api/2.0/mlflow/experiments/get-by-name?experiment_name=VAE_adjustedtestwizcorrect_optuna (Caused by NewConnectionError('<urllib3.connection.HTTPConnection object at 0x7f40c0a02f20>: Failed to establish a new connection: [Errno 111] Connection refused'))"
     ]
    }
   ],
   "source": [
    "import argparse\n",
    "import hashlib\n",
    "from pathlib import Path\n",
    "\n",
    "import matplotlib.pyplot as plt\n",
    "import mlflow\n",
    "import mlflow.pytorch\n",
    "import shap\n",
    "import numpy as np\n",
    "import pandas as pd\n",
    "import seaborn as sns\n",
    "import torch\n",
    "import torch.utils.data\n",
    "import data_insight\n",
    "from data_insight import setup_duckdb\n",
    "from duckdb import DuckDBPyConnection as DuckDB\n",
    "from duckdb import DuckDBPyRelation as Relation\n",
    "from pathlib import Path\n",
    "import hashlib\n",
    "from duckdb import DuckDBPyConnection as DuckDB\n",
    "from sklearn.model_selection import TimeSeriesSplit\n",
    "from sklearn.preprocessing import MinMaxScaler, OneHotEncoder\n",
    "from sklearn.metrics import mean_squared_error, mean_absolute_error\n",
    "import optuna \n",
    "from optuna.visualization import plot_optimization_history\n",
    "\n",
    "\n",
    "from torch import nn, optim\n",
    "from torch.nn import functional as F\n",
    "from torch.utils.data import TensorDataset,DataLoader, Dataset\n",
    "from tqdm.auto import tqdm\n",
    "\n",
    "import sensor_imputation_thesis.shared.load_data as load\n",
    "\n",
    "\n",
    "def setup_seed(seed):\n",
    "    torch.manual_seed(seed)\n",
    "    torch.cuda.manual_seed_all(seed)\n",
    "    np.random.seed(seed)\n",
    "    random.seed(seed)\n",
    "    torch.backends.cudnn.deterministic = True\n",
    "    torch.backends.cudnn.benchmark = False\n",
    "\n",
    "\n",
    "# set tracking_uri:\n",
    "mlflow.set_tracking_uri(\"http://localhost:5000\")\n",
    "# So I don't know if above commands are sufficient server setup, but it did work for me. And I might need your help if they aren't\n",
    "# mlflow relevant info:\n",
    "# I overall faced problem that says \"HTTPConnectionPool(host='0.0.0.0', port=5000): Max retries exceeded with url\". And the solutions were:\n",
    "# 1. Try running this line in terminal to see if mlflow logs exist\n",
    "# if logs exist, port can be directed\n",
    "# \" mlflow server --backend-store-uri sqlite:///mlflow.db --default-artifact-root ./mlruns \"\n",
    "# 2. Another possible solution for mlflow errors is to rename the experiment name and the run-name involved below\n",
    "\n",
    "# Load data\n",
    "\n",
    "pd.set_option(\"display.max_columns\", None)\n",
    "\n",
    "\n",
    "def load_engine_data(\n",
    "    con: DuckDB, product_id: str, start: pd.Timestamp, stop: pd.Timestamp, tags: list[str]\n",
    ") -> Relation:\n",
    "    return con.sql(f\"\"\"\n",
    "    SELECT {','.join(tags)}\n",
    "    FROM timeseries\n",
    "    WHERE\n",
    "        time BETWEEN '{start}' AND '{stop}'\n",
    "        AND pid = '{product_id}'\n",
    "    \"\"\")\n",
    "\n",
    "def get_tags_hash(tags):\n",
    "    return hashlib.md5(\",\".join(tags).encode()).hexdigest()\n",
    "\n",
    "\n",
    "# edit timestamp as needed\n",
    "start, stop = pd.Timestamp(\"2023-10-01\"), pd.Timestamp(\"2024-10-01\")\n",
    "\n",
    "# these are the tags that include 9 missing cols, feel free to edit\n",
    "tags = [\n",
    "    \"time\",\n",
    "    \"fr_eng\",\n",
    "    \"te_exh_cyl_out__0\",\n",
    "    \"pd_air_ic__0\",\n",
    "    \"pr_exh_turb_out__0\",\n",
    "    \"te_air_ic_out__0\",\n",
    "    \"te_seawater\",\n",
    "    \"te_air_comp_in_a__0\",\n",
    "    \"te_air_comp_in_b__0\",\n",
    "    \"fr_tc__0\",\n",
    "    \"pr_baro\",\n",
    "    #most common \"bad\"/ \"out of bound\" sensors\n",
    "    \"pd_air_ic__0\",  #overlapped with below\n",
    "    \"pr_exh_rec\",\n",
    "    \"te_exh_turb_in__0\",\n",
    "    \"te_exh_turb_out__0\",\n",
    "    #Feature Importance Result\n",
    "    #for te_exh_cyl_out__0\n",
    "    \"bo_aux_blower_running\",\n",
    "    \"re_eng_load\",\n",
    "    \"pr_air_scav_ecs\", #overlap\n",
    "    #pd_air_ic__0\n",
    "    \"pr_air_scav\",\n",
    "    #for te_air_ic_out__0\n",
    "    #for te_seawater\n",
    "    \"te_air_scav_rec\",\n",
    "    \"te_air_ic_out__0\",\n",
    "    \"pr_cyl_comp__0\",\n",
    "    \"pr_cyl_max__0\",\n",
    "    \"se_mip__0\",\n",
    "    \"te_exh_cyl_out__0\",\n",
    "    \"fr_eng_setpoint\",\n",
    "    \"te_air_scav_rec_iso\",\n",
    "    #for pr_baro\n",
    "    \"pr_cyl_max_mv_iso\",\n",
    "    \"pr_cyl_comp_mv_iso\",\n",
    "    \"fr_eng_ecs\",\n",
    "    \"pr_air_scav_iso\",\n",
    "\n",
    "\n",
    "]\n",
    "\n",
    "# edit point as needed\n",
    "product_id = \"89ccb7a888d53f8792f0580801cede9a\"\n",
    "\n",
    "#product_id \n",
    "#add more product id with same engine type (fine the most popular ones)\n",
    "\n",
    "\n",
    "# Construct the cache file path using the Path class\n",
    "DATA = Path.home() / \"SageMaker/data_cache\"\n",
    "DATA.mkdir(exist_ok=True)\n",
    "cache = DATA / f\"data_{get_tags_hash(tags)}_{product_id}_{start:%Y-%m-%d}_{stop:%Y-%m-%d}.parquet\"\n",
    "\n",
    "# Ensure the directory exists\n",
    "cache.parent.mkdir(parents=True, exist_ok=True)\n",
    "\n",
    "if cache.exists():\n",
    "    df = pd.read_parquet(cache)\n",
    "else:\n",
    "    con = setup_duckdb()\n",
    "    df = load_engine_data(con, product_id, start, stop, tags).df()\n",
    "    df.to_parquet(cache)\n",
    "\n",
    "print(df.head(10))\n",
    "\n",
    "\n",
    "## Adding engine types and assign onehot encoder, and merge df  \n",
    "con = data_insight.setup_duckdb()\n",
    "con.sql(\"SET enable_progress_bar=true\")\n",
    "engine_type = con.sql(f\"SELECT engine_type FROM shipinfo WHERE productId == '{product_id}'\").df().engine_type.item()\n",
    "df['engine_type']=engine_type\n",
    "\n",
    "#Apply onehotencoder \n",
    "encoder = OneHotEncoder(sparse_output=False)\n",
    "encoded_engine_type = encoder.fit_transform(df[['engine_type']])\n",
    "# Create a DataFrame with the encoded columns\n",
    "encoded_df = pd.DataFrame(encoded_engine_type, columns=encoder.get_feature_names_out(['engine_type']))\n",
    "# Concatenate the original DataFrame with the encoded DataFrame\n",
    "df = pd.concat([df, encoded_df], axis=1)\n",
    "#drop? not sure yet. \n",
    "df.drop('engine_type', axis=1,inplace=True)\n",
    "\n",
    "\n",
    "\n",
    "# Preprocessing steps not needed for this col\n",
    "# filter df with engine running (changed into 10/60 revolutions)\n",
    "df1 = df[df[\"fr_eng\"] > (10/60)]\n",
    "\n",
    "# Check nan values in each column\n",
    "for col in df1.columns:\n",
    "    print(f\"Column {col} has {df1[col].isna().sum()} NaN values\")\n",
    "\n",
    "\n",
    "## Newly Suggested Approach to drop nan columns (drop cols with all nan values, and then drop rows that have any nan value )\n",
    "df1=df.dropna(axis=1,how='all')\n",
    "# drop any null vals in rows \n",
    "df1=df1.dropna(axis=0,how='any')\n",
    "\n",
    "#check the length of the df1 and the length of df to check how many cols rows are dropped \n",
    "print(\"shape of original df:\")\n",
    "print(\"Datasize:\",len(df))\n",
    "print(\"Colnumber:\",len(df.columns))\n",
    "\n",
    "print(\"shape of filtered df:\")\n",
    "print(\"Datasize:\",len(df1))\n",
    "print(\"Colnumber:\",len(df1.columns))\n",
    "\n",
    "# Select numeric columns\n",
    "numeric_df = df1.select_dtypes(include=\"number\")\n",
    "print(numeric_df)\n",
    "\n",
    "data=numeric_df  #data here is before scaling \n",
    "\n",
    "\n",
    "#define inverse scale\n",
    "def inverse_scale(scaled_data, data_min, scale):\n",
    "    return scaled_data*scale + data_min\n",
    "\n",
    "\n",
    "# VAE Model\n",
    "class VAE(nn.Module):\n",
    "    def __init__(self, input_dim):\n",
    "        super(VAE, self).__init__()\n",
    "        self.fc1 = nn.Linear(input_dim, 400)\n",
    "        self.fc21 = nn.Linear(400, 20)\n",
    "        self.fc22 = nn.Linear(400, 20)\n",
    "        self.fc3 = nn.Linear(20, 400)\n",
    "        self.fc4 = nn.Linear(400, input_dim)\n",
    "\n",
    "    def encode(self, x):\n",
    "        h1 = F.relu(self.fc1(x))\n",
    "        return self.fc21(h1), self.fc22(h1)\n",
    "\n",
    "    def reparameterize(self, mu, logvar):\n",
    "        std = torch.exp(0.5 * logvar)\n",
    "        eps = torch.randn_like(std)\n",
    "        return mu + eps * std\n",
    "\n",
    "    def decode(self, z):\n",
    "        h3 = F.relu(self.fc3(z))\n",
    "        return torch.tanh(self.fc4(h3))\n",
    "\n",
    "    def forward(self, x):\n",
    "        mu, logvar = self.encode(x)\n",
    "        z = self.reparameterize(mu, logvar)\n",
    "        return self.decode(z), mu, logvar\n",
    "\n",
    "\n",
    "##XGBoost \n",
    "\n",
    "\n",
    "# Reconstruction + KL divergence losses summed over target column and batch\n",
    "def loss_function(recon_x, x, mu, logvar, targetcol_idx, lambda_val):\n",
    "    # Specify the target column\n",
    "    recon_x_col = recon_x[:, targetcol_idx]\n",
    "    x_col = x[:, targetcol_idx]\n",
    "\n",
    "    # MSE & KLD for target column\n",
    "    MSE_col = F.mse_loss(recon_x_col, x_col, reduction=\"sum\")\n",
    "    KLD_col = -0.5 * torch.sum(1 + logvar - mu.pow(2) - logvar.exp())\n",
    "\n",
    "    # MSE & KLD for entire dataset\n",
    "    MSE_all = F.mse_loss(recon_x, x, reduction=\"sum\")\n",
    "    KLD_all = -0.5 * torch.sum(1 + logvar - mu.pow(2) - logvar.exp())\n",
    "\n",
    "    # Combine losses using lambda\n",
    "    loss = lambda_val * (MSE_col + KLD_col) + (1 - lambda_val) * (MSE_all + KLD_all)\n",
    "    return loss\n",
    "\n",
    "\n",
    "###add mse(&mae) comparison within training loop for target column\n",
    "#test if this works \n",
    "\n",
    "\n",
    "def train(epoch, model, train_loader, data_min, scale, lambda_val, targetcol_idx, optimizer, device, args):\n",
    "    model.train()\n",
    "    train_loss = 0\n",
    "    mae_loss_target_train = 0\n",
    "    average_train_loss = 0  # Initialize average_train_loss\n",
    "    pbar = tqdm(total=len(train_loader), desc=\"Training\")\n",
    "    for batch_idx, (data,) in enumerate(train_loader): #trian loader is after scaling\n",
    "        data_unmasked = data.to(device).float() #this data is before scaling\n",
    "        # Mask the target column\n",
    "        data_masked = data_unmasked.clone() #before scaling\n",
    "        data_masked[:, targetcol_idx] = -2\n",
    "        optimizer.zero_grad()\n",
    "        recon_batch, mu, logvar = model(data_masked)  # Masked target col\n",
    "        if torch.isnan(recon_batch).any():\n",
    "            print(\"NaN or in recon_batch!\")\n",
    "            break\n",
    "        loss = loss_function(recon_batch, data_unmasked, mu, logvar, targetcol_idx, lambda_val)\n",
    "        if torch.isnan(loss) or torch.isinf(loss):\n",
    "            raise ValueError(f\"NaN or Inf detected in loss at batch {batch_idx}. Check scaling or model outputs!\")\n",
    "            break\n",
    "        loss.backward()\n",
    "        torch.nn.utils.clip_grad_norm_(model.parameters(), max_norm=1.0)\n",
    "        train_loss += loss.item()\n",
    "        optimizer.step()\n",
    "        if batch_idx % args.log_interval == 0:\n",
    "            pbar.set_description(\n",
    "                \"Train Epoch: {} [{}/{} ({:.0f}%)]\\tLoss: {:.6f}\".format(\n",
    "                    epoch,\n",
    "                    batch_idx * len(data),\n",
    "                    len(train_loader.dataset),\n",
    "                    100.0 * batch_idx / len(train_loader),\n",
    "                    loss.item() / len(data),\n",
    "                )\n",
    "            )\n",
    "\n",
    "        pbar.update(1)\n",
    "        #revised \n",
    "        data_unscaled=inverse_scale(data_unmasked,data_min.to(device),scale.to(device))\n",
    "        target_column=data_unscaled[:,targetcol_idx]\n",
    "        recon_unscaled=inverse_scale(recon_batch,data_min.to(device),scale.to(device))\n",
    "        recon_column=recon_unscaled[:,targetcol_idx]\n",
    "\n",
    "                                                                                                \n",
    "        #mae metric calculation\n",
    "        mae_loss_target_train+=torch.mean(torch.abs(target_column-recon_column)).item()\n",
    "        #mae_loss_target_train += mean_absolute_error(target_column, recon_column)  # Ground truth\n",
    "\n",
    "    average_train_loss = train_loss / len(train_loader.dataset)  # Update after loop\n",
    "    print(\"====> Epoch: {} Average train loss: {:.4f}\".format(epoch, average_train_loss))\n",
    "    print(\"===> Epoch: {} Average mae test loss for targetcol :{:.4f}\".format(epoch,mae_loss_target_train/len(train_loader)))\n",
    "    return average_train_loss, mae_loss_target_train / len(train_loader)\n",
    "\n",
    "\n",
    "#Added mse in the test\n",
    "#In the test loop, masked column should be the input. \n",
    "#Redefine data for the test loop(should I inlcude this in the test loop or leave it here?)\n",
    "#dataset changed into validation set for testing loop\n",
    "    \n",
    "def test(epoch, model, val_loader, scale, data_min, targetcol_idx, device):\n",
    "    model.eval()\n",
    "    test_loss = 0\n",
    "    mae_loss_target_test = 0\n",
    "    with torch.no_grad():\n",
    "        for batch_idx, (data,) in enumerate(val_loader):\n",
    "            data_unmasked = data.to(device).float()  #data used here is before scaling \n",
    "            # Mask the target column\n",
    "            data_masked = data_unmasked.clone()\n",
    "            data_masked[:, targetcol_idx] = -2\n",
    "            recon_batch, mu, logvar = model(data_masked)  # Masked target col\n",
    "            # Define new lambda val for testing\n",
    "            lambda_val = 1.0\n",
    "            test_loss += loss_function(recon_batch, data_unmasked, mu, logvar, targetcol_idx, lambda_val).item()\n",
    "            # Scale back target column and reconstructed column\n",
    "            data_unscaled=inverse_scale(data_unmasked,data_min.to(device),scale.to(device))\n",
    "            target_column=data_unscaled[:,targetcol_idx]\n",
    "            recon_unscaled=inverse_scale(recon_batch,data_min.to(device),scale.to(device))\n",
    "            recon_column=recon_unscaled[:,targetcol_idx]\n",
    "                                                           \n",
    "            #mae metric calculation\n",
    "            mae_loss_target_test+=torch.mean(torch.abs(target_column-recon_column)).item()\n",
    "           # mae_loss_target_test += mean_absolute_error(target_column, recon_column)\n",
    "        \n",
    "        print(\"===> Epoch: {} Average mae test loss for targetcol: {:.4f}\".format(epoch, mae_loss_target_test / len(val_loader)))\n",
    "        print(\"====> Test set loss: {:.4f}\".format(test_loss))\n",
    "        average_test_loss = test_loss / len(val_loader.dataset)\n",
    "        print(\"====> Epoch: {} Average test loss: {:.4f}\".format(epoch, average_test_loss))\n",
    "    \n",
    "    return average_test_loss, mae_loss_target_test / len(val_loader)\n",
    "\n",
    "\n",
    "\n",
    "\n",
    "def main():\n",
    "    # Configuration parameters\n",
    "    class Config:\n",
    "        batch_size = 64\n",
    "        epochs = 150\n",
    "        no_cuda = False\n",
    "        no_mps = False\n",
    "        seed = 1\n",
    "        log_interval = 10\n",
    "        lr = 1e-4\n",
    "\n",
    "    dl_kwargs = dict(\n",
    "        batch_size=Config.batch_size,\n",
    "        shuffle=True,\n",
    "        # num_workers=4, # This may or may not be faster, depending on system\n",
    "        pin_memory=torch.cuda.is_available(),\n",
    "    )\n",
    "\n",
    "    args = Config()\n",
    "    args.cuda = not args.no_cuda and torch.cuda.is_available()\n",
    "    use_mps = not args.no_mps and torch.backends.mps.is_available()\n",
    "\n",
    "    torch.manual_seed(args.seed)\n",
    "\n",
    "    if args.cuda:\n",
    "        device = torch.device(\"cuda\")\n",
    "    elif use_mps:\n",
    "        device = torch.device(\"mps\")\n",
    "    else:\n",
    "        device = torch.device(\"cpu\")\n",
    "    \n",
    "   # Specify the target column, here should be changed while training other target columns\n",
    "    # (edit point as needed)\n",
    "    targetcolumn = \"te_air_scav_rec\"\n",
    "    targetcol_idx = data.columns.get_loc(targetcolumn)\n",
    "\n",
    "    #split dataset\n",
    "    train_size = int(0.6 * len(data))\n",
    "    val_size=int(0.2 * len(data))\n",
    "\n",
    "    train_df = data.iloc[:train_size]\n",
    "    val_df = data.iloc[train_size:train_size + val_size]\n",
    "    test_df= data.iloc[train_size + val_size:]\n",
    "\n",
    "    # Standardize the numeric data\n",
    "    scaler = MinMaxScaler(feature_range=(-1, 1))\n",
    "    #only apply scaler to the train set \n",
    "    scaled_train=scaler.fit_transform(train_df.values)\n",
    "    print(\"scaled_data\", scaled_train)\n",
    "    print(\"unscaled_data\",data)\n",
    "\n",
    "    # Transform val and test using the same scaler\n",
    "    scaled_val=scaler.transform(val_df.values)\n",
    "    scaled_test=scaler.transform(test_df.values)\n",
    "\n",
    "        \n",
    "    data_min=torch.tensor(scaler.data_min_,dtype=torch.float32)\n",
    "    data_max=torch.tensor(scaler.data_max_,dtype=torch.float32)\n",
    "    scale=data_max-data_min\n",
    "    scale[scale==0]=1e-8\n",
    "\n",
    "\n",
    "    #Convert DataFrame to Tensor\n",
    "    scaled_train_tensor=torch.tensor(scaled_train,dtype=torch.float32)\n",
    "    scaled_val_tensor=torch.tensor(scaled_val,dtype=torch.float32)\n",
    "    scaled_test_tensor=torch.tensor(scaled_test,dtype=torch.float32)\n",
    "\n",
    "    #create datasets on CPU\n",
    "    train_dataset=TensorDataset(scaled_train_tensor)\n",
    "    val_dataset=TensorDataset(scaled_val_tensor)\n",
    "    test_dataset=TensorDataset(scaled_test_tensor)\n",
    "\n",
    "\n",
    "     # Initialize Mlflow\n",
    "    mlflow.set_experiment(\"VAE_adjustedtestwizcorrect_optuna\")\n",
    "\n",
    "\n",
    "    def plot_loss_trends(run_id):\n",
    "        client = mlflow.tracking.MlflowClient()\n",
    "        \n",
    "        # Retrieve metric history\n",
    "        history_train = client.get_metric_history(run_id, \"average_train_loss\")\n",
    "        history_test = client.get_metric_history(run_id, \"average_test_loss\")\n",
    "\n",
    "        if not history_train or not history_test:\n",
    "            print(\"No metric history found for the given run_id.\")\n",
    "            return\n",
    "\n",
    "        # Sort by step to ensure correct order\n",
    "        history_train.sort(key=lambda x: x.step)\n",
    "        history_test.sort(key=lambda x: x.step)\n",
    "\n",
    "        epochs = [point.step for point in history_train]\n",
    "        train_losses = [point.value for point in history_train]\n",
    "        test_losses = [point.value for point in history_test]\n",
    "\n",
    "        # Plotting\n",
    "        plt.figure(figsize=(10, 5))\n",
    "        plt.plot(epochs, train_losses, label=\"Train Loss\")\n",
    "        plt.plot(epochs, test_losses, label=\"Test Loss\")\n",
    "        plt.xlabel(\"Epoch\")\n",
    "        plt.ylabel(\"Loss\")\n",
    "        plt.title(\"Loss Trend from Best Trial\")\n",
    "        plt.legend()\n",
    "        plt.grid(True)\n",
    "        plt.tight_layout()\n",
    "        plt.show()\n",
    "\n",
    "\n",
    "\n",
    "    #Adding Optuna\n",
    "    def objective(trial,device, data_min, scale):\n",
    "        with mlflow.start_run(nested=True) as run:\n",
    "            input_dim = scaled_train.shape[1]\n",
    "            batch_size =trial.suggest_int(\"batch_size\", 32, 128, step=32)\n",
    "            lr = trial.suggest_float(\"learning_rate\", 1e-6, 1e-1, log=True)\n",
    "            lambda_val = trial.suggest_float(\"lambda\", 0.5, 1.0)\n",
    "            \n",
    "            train_loader = DataLoader(train_dataset, batch_size=batch_size, shuffle=True)\n",
    "            val_loader = DataLoader(val_dataset, batch_size=batch_size, shuffle=False)\n",
    "        \n",
    "            \n",
    "            mlflow.log_params({\n",
    "                    \"batch_size\":batch_size,\n",
    "                    \"learning_rate\":lr,\n",
    "                    \"lambda\":lambda_val\n",
    "                })\n",
    "\n",
    "            model = VAE(input_dim=input_dim).to(device)\n",
    "\n",
    "            optimizer = optim.Adam(model.parameters(), lr=lr)\n",
    "\n",
    "\n",
    "            for epoch in range(args.epochs):\n",
    "                \n",
    "                average_train_loss, mae_loss_target_train = train(\n",
    "                    epoch,\n",
    "                    model,\n",
    "                    train_loader,\n",
    "                    lambda_val=lambda_val,\n",
    "                    targetcol_idx=targetcol_idx,\n",
    "                    optimizer=optimizer,\n",
    "                    device=device,\n",
    "                    data_min=data_min, \n",
    "                    scale=scale, #this is used for inverse scaling\n",
    "                    args=args\n",
    "                )\n",
    "\n",
    "                average_test_loss, mae_loss_target_test=test(\n",
    "                    epoch,\n",
    "                    model,\n",
    "                    val_loader,\n",
    "                    targetcol_idx=targetcol_idx,\n",
    "                    device=device,\n",
    "                    data_min=data_min,\n",
    "                    scale=scale #same, used for inverse scaling \n",
    "                \n",
    "                )\n",
    "                \n",
    "\n",
    "                \n",
    "                mlflow.log_metrics(\n",
    "                    {\n",
    "                        \"epoch\": epoch,\n",
    "                        \"average_train_loss\": average_train_loss,\n",
    "                        \"average_test_loss\": average_test_loss,\n",
    "                        \"mae_loss_target_train\": mae_loss_target_train,\n",
    "                        \"mae_loss_target_test\": mae_loss_target_test,\n",
    "                    },\n",
    "                    step=epoch,\n",
    ")\n",
    "\n",
    "\n",
    "            trial.set_user_attr(\"model_state_dict\", model.state_dict())\n",
    "            trial.set_user_attr(\"mlflow_run_id\", run.info.run_id)\n",
    "            \n",
    "            return average_test_loss # Ensure only one value is returned\n",
    "\n",
    "   \n",
    "    # Define run name(edit)\n",
    "    vae_run_name = \"optuna_vae_adjusted_for_te_air_scav_rec\"\n",
    "    \n",
    "    with mlflow.start_run(run_name=vae_run_name) as parent_run:\n",
    "        study = optuna.create_study(direction=\"minimize\")\n",
    "        study.optimize(lambda trial:objective (trial,device,data_min,scale),n_trials=100, timeout=3600)\n",
    "        #plot_optimization_history(study)  #visualization \n",
    "        best_trial = study.best_trial\n",
    "        best_run_id = best_trial.user_attrs[\"mlflow_run_id\"] #log run id to see the loss trend later\n",
    "        best_batch_size=best_trial.params[\"batch_size\"]\n",
    "\n",
    "      \n",
    "        mlflow.log_params(best_trial.params)\n",
    "        mlflow.log_param(\"best_run_id\", best_run_id)\n",
    "        mlflow.log_metric(\"Best Validation Loss:\", best_trial.value)\n",
    "        print(\"Best Trial:\")\n",
    "        print(f\"Validation loss: {best_trial.value}\")\n",
    "        print(\"Params:\")\n",
    "\n",
    "        # Check the loss trend of the best trial using corresponding run_id \n",
    "        best_trial_run_id = best_run_id\n",
    "        plot_loss_trends(best_trial_run_id)\n",
    "\n",
    "\n",
    "        for key, value in best_trial.params.items():\n",
    "            print(f\"{key}: {value}\")\n",
    "       \n",
    "    #Test on the test set with best parameters\n",
    "    with mlflow.start_run(run_name=\"Final_test_val_for_te_air_scav_rec\", nested=True):\n",
    "            # Model Reloading\n",
    "            best_model=VAE(input_dim=scaled_train.shape[1]).to(device)\n",
    "            best_model.load_state_dict(study.best_trial.user_attrs[\"model_state_dict\"])\n",
    "              \n",
    "            \n",
    "            #Evaluate on the test data \n",
    "            test_loader=DataLoader(test_dataset, batch_size=best_batch_size, shuffle=False)\n",
    "            epoch=50\n",
    "            average_test_loss, mae_loss_target_test=test(\n",
    "                        val_loader=test_loader,\n",
    "                        epoch=epoch,\n",
    "                        model=best_model,\n",
    "                        targetcol_idx=targetcol_idx,\n",
    "                        device=device,\n",
    "                        data_min=data_min,\n",
    "                        scale=scale\n",
    "                        )\n",
    "                \n",
    "                \n",
    "            mlflow.log_metrics(\n",
    "                    {\n",
    "                    \"epoch\": epoch,\n",
    "                    \"Final_test_loss\": average_test_loss,\n",
    "                    \"Final_loss_target_test\": mae_loss_target_test,\n",
    "                    },\n",
    "                 step=epoch,\n",
    ")\n",
    "            print(f\"Final Test Loss:{average_test_loss:.4f}, MAE:{mae_loss_target_test:.4f}\")\n",
    "            \n",
    "            ##Registration may not needed yet.. \n",
    "             #log the model with scaling params\n",
    "            #input_dim = scaled_train.shape[1]\n",
    "            #input_example = torch.randn(1, input_dim).float().cpu().numpy()  # Convert to NumPy\n",
    "            #mlflow.pytorch.log_model(\n",
    "              #  pytorch_model=best_model,\n",
    "               # artifact_path=\"model\",\n",
    "               # registered_model_name=\"VAE for te_air_scav_rec\",\n",
    "               # input_example=input_example,\n",
    "               # extra_pip_requirements=[\"torch\",\"optuna\",\"mlflow\"],\n",
    "                                                             \n",
    "               # metadata={\n",
    "                  #  \"train_min\": data_min.cpu().numpy().tolist(),\n",
    "                  #  \"scale\": scale.cpu().numpy().tolist()\n",
    "                 #   }\n",
    "                #)\n",
    "            \n",
    "\n",
    "if __name__ == '__main__':\n",
    "    main()\n",
    "\n",
    "\n",
    "\n",
    "\n",
    "\n",
    "\n",
    "\n",
    "    # CSOM: This should be done ONCE after training, and not inside the training loop."
   ]
  },
  {
   "cell_type": "code",
   "execution_count": null,
   "id": "981bbf68-8e06-4962-8fda-18add3d560a8",
   "metadata": {},
   "outputs": [
    {
     "name": "stdout",
     "output_type": "stream",
     "text": [
      "                 time  fr_eng  te_exh_cyl_out__0  pd_air_ic__0  \\\n",
      "0 2023-10-01 00:00:00     0.0             400.15         -70.0   \n",
      "1 2023-10-01 00:01:00     0.0             399.15         -70.0   \n",
      "2 2023-10-01 00:02:00     0.0             399.15         -70.0   \n",
      "3 2023-10-01 00:03:00     0.0             399.15         -80.0   \n",
      "4 2023-10-01 00:04:00     0.0             399.15         -80.0   \n",
      "5 2023-10-01 00:05:00     0.0             399.15         -70.0   \n",
      "6 2023-10-01 00:06:00     0.0             399.15         -70.0   \n",
      "7 2023-10-01 00:07:00     0.0             399.15         -70.0   \n",
      "8 2023-10-01 00:08:00     0.0             399.15         -80.0   \n",
      "9 2023-10-01 00:09:00     0.0             399.15         -80.0   \n",
      "\n",
      "   pr_exh_turb_out__0  te_air_ic_out__0  te_seawater  te_air_comp_in_a__0  \\\n",
      "0                 NaN            308.95       291.25                  NaN   \n",
      "1                 NaN            308.85       291.25                  NaN   \n",
      "2                 NaN            308.85       291.25                  NaN   \n",
      "3                 NaN            308.85       291.25                  NaN   \n",
      "4                 NaN            308.85       291.25                  NaN   \n",
      "5                 NaN            308.85       291.25                  NaN   \n",
      "6                 NaN            308.75       291.25                  NaN   \n",
      "7                 NaN            308.75       291.25                  NaN   \n",
      "8                 NaN            308.75       291.25                  NaN   \n",
      "9                 NaN            308.75       291.25                  NaN   \n",
      "\n",
      "   te_air_comp_in_b__0  fr_tc__0       pr_baro  pd_air_ic__0_1  pr_exh_rec  \\\n",
      "0                  NaN       NaN  2.838493e+06           -70.0         0.0   \n",
      "1                  NaN       NaN  2.841377e+06           -70.0         0.0   \n",
      "2                  NaN       NaN  2.838867e+06           -70.0         0.0   \n",
      "3                  NaN       NaN  2.836357e+06           -80.0         0.0   \n",
      "4                  NaN       NaN  2.837350e+06           -80.0         0.0   \n",
      "5                  NaN       NaN  2.837599e+06           -70.0         0.0   \n",
      "6                  NaN       NaN  2.835387e+06           -70.0         0.0   \n",
      "7                  NaN       NaN  2.836256e+06           -70.0         0.0   \n",
      "8                  NaN       NaN  2.837375e+06           -80.0         0.0   \n",
      "9                  NaN       NaN  2.839513e+06           -80.0         0.0   \n",
      "\n",
      "   te_exh_turb_in__0  te_exh_turb_out__0  bo_aux_blower_running  re_eng_load  \\\n",
      "0                NaN                 NaN                    0.0          NaN   \n",
      "1                NaN                 NaN                    0.0          NaN   \n",
      "2                NaN                 NaN                    0.0          NaN   \n",
      "3                NaN                 NaN                    0.0          NaN   \n",
      "4                NaN                 NaN                    0.0          NaN   \n",
      "5                NaN                 NaN                    0.0          NaN   \n",
      "6                NaN                 NaN                    0.0          NaN   \n",
      "7                NaN                 NaN                    0.0          NaN   \n",
      "8                NaN                 NaN                    0.0          NaN   \n",
      "9                NaN                 NaN                    0.0          NaN   \n",
      "\n",
      "   pr_air_scav_ecs  pr_air_scav  te_air_scav_rec  te_air_ic_out__0_1  \\\n",
      "0        24.414062    24.414062           317.75              308.95   \n",
      "1        30.517578    30.517578           317.85              308.85   \n",
      "2        25.939941    25.939941           317.75              308.85   \n",
      "3        32.043457    32.043457           317.75              308.85   \n",
      "4        19.836426    19.836426           317.75              308.85   \n",
      "5        21.362305    21.362305           317.75              308.85   \n",
      "6        18.310547    18.310547           317.75              308.75   \n",
      "7        30.517578    30.517578           317.75              308.75   \n",
      "8        19.836426    19.836426           317.75              308.75   \n",
      "9        15.258789    15.258789           317.75              308.75   \n",
      "\n",
      "   pr_cyl_comp__0  pr_cyl_max__0  se_mip__0  te_exh_cyl_out__0_1  \\\n",
      "0             NaN            NaN        NaN               400.15   \n",
      "1             NaN            NaN        NaN               399.15   \n",
      "2             NaN            NaN        NaN               399.15   \n",
      "3             NaN            NaN        NaN               399.15   \n",
      "4             NaN            NaN        NaN               399.15   \n",
      "5             NaN            NaN        NaN               399.15   \n",
      "6             NaN            NaN        NaN               399.15   \n",
      "7             NaN            NaN        NaN               399.15   \n",
      "8             NaN            NaN        NaN               399.15   \n",
      "9             NaN            NaN        NaN               399.15   \n",
      "\n",
      "   fr_eng_setpoint  te_air_scav_rec_iso  pr_cyl_max_mv_iso  \\\n",
      "0              0.0                  NaN                NaN   \n",
      "1              0.0                  NaN                NaN   \n",
      "2              0.0                  NaN                NaN   \n",
      "3              0.0                  NaN                NaN   \n",
      "4              0.0                  NaN                NaN   \n",
      "5              0.0                  NaN                NaN   \n",
      "6              0.0                  NaN                NaN   \n",
      "7              0.0                  NaN                NaN   \n",
      "8              0.0                  NaN                NaN   \n",
      "9              0.0                  NaN                NaN   \n",
      "\n",
      "   pr_cyl_comp_mv_iso  fr_eng_ecs  pr_air_scav_iso  \n",
      "0                 NaN         0.0              NaN  \n",
      "1                 NaN         0.0              NaN  \n",
      "2                 NaN         0.0              NaN  \n",
      "3                 NaN         0.0              NaN  \n",
      "4                 NaN         0.0              NaN  \n",
      "5                 NaN         0.0              NaN  \n",
      "6                 NaN         0.0              NaN  \n",
      "7                 NaN         0.0              NaN  \n",
      "8                 NaN         0.0              NaN  \n",
      "9                 NaN         0.0              NaN  \n",
      ">>> con.sql(\"SHOW TABLES;\")\n",
      "┌────────────┐\n",
      "│    name    │\n",
      "│  varchar   │\n",
      "├────────────┤\n",
      "│ shipinfo   │\n",
      "│ site_infos │\n",
      "│ timeseries │\n",
      "└────────────┘\n",
      "\n",
      "\n",
      ">>> con.sql(\"DESCRIBE shipinfo;\")\n",
      "┌──────────────────────┬───────────────────────────────────────────────────────┬─────────┬─────────┬─────────┬─────────┐\n",
      "│     column_name      │                      column_type                      │  null   │   key   │ default │  extra  │\n",
      "│       varchar        │                        varchar                        │ varchar │ varchar │ varchar │ varchar │\n",
      "├──────────────────────┼───────────────────────────────────────────────────────┼─────────┼─────────┼─────────┼─────────┤\n",
      "│ information_validity │ VARCHAR                                               │ YES     │ NULL    │ NULL    │ NULL    │\n",
      "│ imo_no               │ VARCHAR                                               │ YES     │ NULL    │ NULL    │ NULL    │\n",
      "│ ship_name            │ VARCHAR                                               │ YES     │ NULL    │ NULL    │ NULL    │\n",
      "│ dsO_Sea_trial_date   │ VARCHAR                                               │ YES     │ NULL    │ NULL    │ NULL    │\n",
      "│ hull_no              │ VARCHAR                                               │ YES     │ NULL    │ NULL    │ NULL    │\n",
      "│ engine_no            │ VARCHAR                                               │ YES     │ NULL    │ NULL    │ NULL    │\n",
      "│ designSpecId         │ VARCHAR                                               │ YES     │ NULL    │ NULL    │ NULL    │\n",
      "│ cylinders            │ VARCHAR                                               │ YES     │ NULL    │ NULL    │ NULL    │\n",
      "│ engine_type          │ VARCHAR                                               │ YES     │ NULL    │ NULL    │ NULL    │\n",
      "│ licensee             │ VARCHAR                                               │ YES     │ NULL    │ NULL    │ NULL    │\n",
      "│    ·                 │    ·                                                  │  ·      │  ·      │  ·      │  ·      │\n",
      "│    ·                 │    ·                                                  │  ·      │  ·      │  ·      │  ·      │\n",
      "│    ·                 │    ·                                                  │  ·      │  ·      │  ·      │  ·      │\n",
      "│ min_Speed_for_PTO_…  │ VARCHAR                                               │ YES     │ NULL    │ NULL    │ NULL    │\n",
      "│ minimum_Light_Runn…  │ VARCHAR                                               │ YES     │ NULL    │ NULL    │ NULL    │\n",
      "│ recommendation_on_…  │ VARCHAR                                               │ YES     │ NULL    │ NULL    │ NULL    │\n",
      "│ maker_of_power_man…  │ VARCHAR                                               │ YES     │ NULL    │ NULL    │ NULL    │\n",
      "│ application_of_ECS…  │ VARCHAR                                               │ YES     │ NULL    │ NULL    │ NULL    │\n",
      "│ shorT_CRANKSHAFT_F…  │ VARCHAR                                               │ YES     │ NULL    │ NULL    │ NULL    │\n",
      "│ ptO_TEST_WITH_DISC…  │ VARCHAR                                               │ YES     │ NULL    │ NULL    │ NULL    │\n",
      "│ opportunitY_ID       │ VARCHAR                                               │ YES     │ NULL    │ NULL    │ NULL    │\n",
      "│ active_NOx_Engine_…  │ VARCHAR                                               │ YES     │ NULL    │ NULL    │ NULL    │\n",
      "│ mmsi                 │ STRUCT(seqno VARCHAR, callsign VARCHAR, mmsi VARCHA…  │ YES     │ NULL    │ NULL    │ NULL    │\n",
      "├──────────────────────┴───────────────────────────────────────────────────────┴─────────┴─────────┴─────────┴─────────┤\n",
      "│ 286 rows (20 shown)                                                                                        6 columns │\n",
      "└──────────────────────────────────────────────────────────────────────────────────────────────────────────────────────┘\n",
      "\n",
      "\n",
      ">>> con.sql(\"FROM shipinfo SELECT * LIMIT 1;\")\n",
      "┌──────────────────────┬──────────────────────┬──────────────────────┬───┬──────────────────────┬──────────────────────┐\n",
      "│ information_validity │        imo_no        │      ship_name       │ … │ active_NOx_Engine_…  │         mmsi         │\n",
      "│       varchar        │       varchar        │       varchar        │   │       varchar        │ struct(seqno varch…  │\n",
      "├──────────────────────┼──────────────────────┼──────────────────────┼───┼──────────────────────┼──────────────────────┤\n",
      "│ High                 │ 647f3b22f283a6cb19…  │ 300f821c06fdbbe0d0…  │ … │ Yes                  │ {'seqno': 00, 'cal…  │\n",
      "├──────────────────────┴──────────────────────┴──────────────────────┴───┴──────────────────────┴──────────────────────┤\n",
      "│ 1 rows                                                                                         286 columns (5 shown) │\n",
      "└──────────────────────────────────────────────────────────────────────────────────────────────────────────────────────┘\n",
      "\n",
      "\n",
      "Column time has 0 NaN values\n",
      "Column fr_eng has 0 NaN values\n",
      "Column te_exh_cyl_out__0 has 46436 NaN values\n",
      "Column pd_air_ic__0 has 46436 NaN values\n",
      "Column pr_exh_turb_out__0 has 300971 NaN values\n",
      "Column te_air_ic_out__0 has 46436 NaN values\n",
      "Column te_seawater has 46436 NaN values\n",
      "Column te_air_comp_in_a__0 has 300971 NaN values\n",
      "Column te_air_comp_in_b__0 has 300971 NaN values\n",
      "Column fr_tc__0 has 300971 NaN values\n",
      "Column pr_baro has 1 NaN values\n",
      "Column pd_air_ic__0_1 has 46436 NaN values\n",
      "Column pr_exh_rec has 46436 NaN values\n",
      "Column te_exh_turb_in__0 has 300971 NaN values\n",
      "Column te_exh_turb_out__0 has 300971 NaN values\n",
      "Column bo_aux_blower_running has 1 NaN values\n",
      "Column re_eng_load has 251 NaN values\n",
      "Column pr_air_scav_ecs has 1 NaN values\n",
      "Column pr_air_scav has 1 NaN values\n",
      "Column te_air_scav_rec has 46436 NaN values\n",
      "Column te_air_ic_out__0_1 has 46436 NaN values\n",
      "Column pr_cyl_comp__0 has 251 NaN values\n",
      "Column pr_cyl_max__0 has 251 NaN values\n",
      "Column se_mip__0 has 250 NaN values\n",
      "Column te_exh_cyl_out__0_1 has 46436 NaN values\n",
      "Column fr_eng_setpoint has 1 NaN values\n",
      "Column te_air_scav_rec_iso has 114445 NaN values\n",
      "Column pr_cyl_max_mv_iso has 116211 NaN values\n",
      "Column pr_cyl_comp_mv_iso has 121289 NaN values\n",
      "Column fr_eng_ecs has 1 NaN values\n",
      "Column pr_air_scav_iso has 119578 NaN values\n",
      "Column engine_type_G95ME-C10.5-GI-LPSCR has 0 NaN values\n",
      "shape of original df:\n",
      "Datasize: 439186\n",
      "Colnumber: 32\n",
      "shape of filtered df:\n",
      "Datasize: 176450\n",
      "Colnumber: 26\n",
      "          fr_eng  te_exh_cyl_out__0  pd_air_ic__0  te_air_ic_out__0  \\\n",
      "155674  0.914165             551.15         370.0            302.95   \n",
      "155675  0.914865             550.15         370.0            302.95   \n",
      "155676  0.916016             550.15         330.0            302.95   \n",
      "155677  0.914566             550.15         320.0            302.95   \n",
      "155678  0.913920             550.15         350.0            302.95   \n",
      "...          ...                ...           ...               ...   \n",
      "439181  1.026240             555.15         210.0            310.65   \n",
      "439182  1.035701             555.15          70.0            310.75   \n",
      "439183  1.028137             555.15         180.0            310.75   \n",
      "439184  1.027765             555.15         230.0            310.75   \n",
      "439185  1.021612             555.15         280.0            310.75   \n",
      "\n",
      "        te_seawater       pr_baro  pd_air_ic__0_1  pr_exh_rec  \\\n",
      "155674       294.05  3.178145e+06           370.0     59000.0   \n",
      "155675       294.05  3.183289e+06           370.0     57000.0   \n",
      "155676       294.05  3.180803e+06           330.0     56000.0   \n",
      "155677       294.15  3.182941e+06           320.0     58000.0   \n",
      "155678       294.15  3.182941e+06           350.0     60000.0   \n",
      "...             ...           ...             ...         ...   \n",
      "439181       291.55  2.576810e+06           210.0    127000.0   \n",
      "439182       291.45  2.589659e+06            70.0    124000.0   \n",
      "439183       291.45  2.583247e+06           180.0    123000.0   \n",
      "439184       291.45  2.582651e+06           230.0    119000.0   \n",
      "439185       291.45  2.591920e+06           280.0    118000.0   \n",
      "\n",
      "        bo_aux_blower_running  re_eng_load  pr_air_scav_ecs    pr_air_scav  \\\n",
      "155674                    0.0         0.33     67402.648926   67402.648926   \n",
      "155675                    0.0         0.33     66069.030762   66069.030762   \n",
      "155676                    0.0         0.33     64521.789551   64521.789551   \n",
      "155677                    0.0         0.33     66302.490234   66302.490234   \n",
      "155678                    0.0         0.34     67651.367188   67651.367188   \n",
      "...                       ...          ...              ...            ...   \n",
      "439181                    0.0         0.55    141625.976562  141625.976562   \n",
      "439182                    0.0         0.54    140539.550781  140539.550781   \n",
      "439183                    0.0         0.54    136929.321289  136929.321289   \n",
      "439184                    0.0         0.53    133502.197266  133502.197266   \n",
      "439185                    0.0         0.52    132366.943359  132366.943359   \n",
      "\n",
      "        te_air_scav_rec  te_air_ic_out__0_1  pr_cyl_comp__0  pr_cyl_max__0  \\\n",
      "155674           310.45              302.95    8.298032e+06   1.224769e+07   \n",
      "155675           310.45              302.95    8.129535e+06   1.210600e+07   \n",
      "155676           310.35              302.95    8.093028e+06   1.212506e+07   \n",
      "155677           310.45              302.95    8.160707e+06   1.212672e+07   \n",
      "155678           310.45              302.95    8.245092e+06   1.232116e+07   \n",
      "...                 ...                 ...             ...            ...   \n",
      "439181           318.25              310.65    1.462128e+07   1.856252e+07   \n",
      "439182           318.25              310.75    1.446443e+07   1.843547e+07   \n",
      "439183           318.25              310.75    1.439970e+07   1.834930e+07   \n",
      "439184           318.25              310.75    1.423135e+07   1.819353e+07   \n",
      "439185           318.25              310.75    1.419189e+07   1.820430e+07   \n",
      "\n",
      "           se_mip__0  te_exh_cyl_out__0_1  fr_eng_setpoint  \\\n",
      "155674  8.884035e+05               551.15         0.914972   \n",
      "155675  8.832464e+05               550.15         0.914972   \n",
      "155676  8.747619e+05               550.15         0.914972   \n",
      "155677  8.879406e+05               550.15         0.914972   \n",
      "155678  9.040318e+05               550.15         0.914972   \n",
      "...              ...                  ...              ...   \n",
      "439181  1.262804e+06               555.15         1.019965   \n",
      "439182  1.236266e+06               555.15         1.019965   \n",
      "439183  1.227601e+06               555.15         1.019965   \n",
      "439184  1.213029e+06               555.15         1.019965   \n",
      "439185  1.219686e+06               555.15         1.019965   \n",
      "\n",
      "        te_air_scav_rec_iso  pr_cyl_max_mv_iso  pr_cyl_comp_mv_iso  \\\n",
      "155674           299.728408      -6.603020e+07       -7.155594e+07   \n",
      "155675           299.728408      -6.565175e+07       -7.075990e+07   \n",
      "155676           299.728408      -6.539791e+07       -7.027582e+07   \n",
      "155677           299.728408      -6.580781e+07       -7.076238e+07   \n",
      "155678           299.829286      -6.622560e+07       -7.131539e+07   \n",
      "...                     ...                ...                 ...   \n",
      "439181           303.059782      -6.792722e+07       -8.174774e+07   \n",
      "439182           302.872662      -6.809147e+07       -8.168589e+07   \n",
      "439183           302.872662      -6.770504e+07       -8.117882e+07   \n",
      "439184           302.687664      -6.721556e+07       -8.040727e+07   \n",
      "439185           302.504936      -6.738855e+07       -8.050945e+07   \n",
      "\n",
      "        fr_eng_ecs  pr_air_scav_iso  engine_type_G95ME-C10.5-GI-LPSCR  \n",
      "155674    0.914165    -2.192475e+07                               1.0  \n",
      "155675    0.914865    -2.198966e+07                               1.0  \n",
      "155676    0.916016    -2.194526e+07                               1.0  \n",
      "155677    0.914566    -2.198616e+07                               1.0  \n",
      "155678    0.913920    -2.199390e+07                               1.0  \n",
      "...            ...              ...                               ...  \n",
      "439181    1.026240    -1.474372e+07                               1.0  \n",
      "439182    1.035701    -1.488898e+07                               1.0  \n",
      "439183    1.028137    -1.479966e+07                               1.0  \n",
      "439184    1.027765    -1.477784e+07                               1.0  \n",
      "439185    1.021612    -1.488213e+07                               1.0  \n",
      "\n",
      "[176450 rows x 25 columns]\n",
      "scaled_data [[ 0.71903323  0.59863946  0.42168675 ...  0.71903323 -0.13097382\n",
      "  -1.        ]\n",
      " [ 0.71990419  0.59183673  0.42168675 ...  0.71990419 -0.13497727\n",
      "  -1.        ]\n",
      " [ 0.72133765  0.59183673  0.3253012  ...  0.72133765 -0.13223911\n",
      "  -1.        ]\n",
      " ...\n",
      " [ 0.90798351  0.74829932  0.39759036 ...  0.90798351  0.2963395\n",
      "  -1.        ]\n",
      " [ 0.91036656  0.75510204  0.25301205 ...  0.91036656  0.29711637\n",
      "  -1.        ]\n",
      " [ 0.89747451  0.75510204  0.30120482 ...  0.89747451  0.2937173\n",
      "  -1.        ]]\n",
      "unscaled_data           fr_eng  te_exh_cyl_out__0  pd_air_ic__0  te_air_ic_out__0  \\\n",
      "155674  0.914165             551.15         370.0            302.95   \n",
      "155675  0.914865             550.15         370.0            302.95   \n",
      "155676  0.916016             550.15         330.0            302.95   \n",
      "155677  0.914566             550.15         320.0            302.95   \n",
      "155678  0.913920             550.15         350.0            302.95   \n",
      "...          ...                ...           ...               ...   \n",
      "439181  1.026240             555.15         210.0            310.65   \n",
      "439182  1.035701             555.15          70.0            310.75   \n",
      "439183  1.028137             555.15         180.0            310.75   \n",
      "439184  1.027765             555.15         230.0            310.75   \n",
      "439185  1.021612             555.15         280.0            310.75   \n",
      "\n",
      "        te_seawater       pr_baro  pd_air_ic__0_1  pr_exh_rec  \\\n",
      "155674       294.05  3.178145e+06           370.0     59000.0   \n",
      "155675       294.05  3.183289e+06           370.0     57000.0   \n",
      "155676       294.05  3.180803e+06           330.0     56000.0   \n",
      "155677       294.15  3.182941e+06           320.0     58000.0   \n",
      "155678       294.15  3.182941e+06           350.0     60000.0   \n",
      "...             ...           ...             ...         ...   \n",
      "439181       291.55  2.576810e+06           210.0    127000.0   \n",
      "439182       291.45  2.589659e+06            70.0    124000.0   \n",
      "439183       291.45  2.583247e+06           180.0    123000.0   \n",
      "439184       291.45  2.582651e+06           230.0    119000.0   \n",
      "439185       291.45  2.591920e+06           280.0    118000.0   \n",
      "\n",
      "        bo_aux_blower_running  re_eng_load  pr_air_scav_ecs    pr_air_scav  \\\n",
      "155674                    0.0         0.33     67402.648926   67402.648926   \n",
      "155675                    0.0         0.33     66069.030762   66069.030762   \n",
      "155676                    0.0         0.33     64521.789551   64521.789551   \n",
      "155677                    0.0         0.33     66302.490234   66302.490234   \n",
      "155678                    0.0         0.34     67651.367188   67651.367188   \n",
      "...                       ...          ...              ...            ...   \n",
      "439181                    0.0         0.55    141625.976562  141625.976562   \n",
      "439182                    0.0         0.54    140539.550781  140539.550781   \n",
      "439183                    0.0         0.54    136929.321289  136929.321289   \n",
      "439184                    0.0         0.53    133502.197266  133502.197266   \n",
      "439185                    0.0         0.52    132366.943359  132366.943359   \n",
      "\n",
      "        te_air_scav_rec  te_air_ic_out__0_1  pr_cyl_comp__0  pr_cyl_max__0  \\\n",
      "155674           310.45              302.95    8.298032e+06   1.224769e+07   \n",
      "155675           310.45              302.95    8.129535e+06   1.210600e+07   \n",
      "155676           310.35              302.95    8.093028e+06   1.212506e+07   \n",
      "155677           310.45              302.95    8.160707e+06   1.212672e+07   \n",
      "155678           310.45              302.95    8.245092e+06   1.232116e+07   \n",
      "...                 ...                 ...             ...            ...   \n",
      "439181           318.25              310.65    1.462128e+07   1.856252e+07   \n",
      "439182           318.25              310.75    1.446443e+07   1.843547e+07   \n",
      "439183           318.25              310.75    1.439970e+07   1.834930e+07   \n",
      "439184           318.25              310.75    1.423135e+07   1.819353e+07   \n",
      "439185           318.25              310.75    1.419189e+07   1.820430e+07   \n",
      "\n",
      "           se_mip__0  te_exh_cyl_out__0_1  fr_eng_setpoint  \\\n",
      "155674  8.884035e+05               551.15         0.914972   \n",
      "155675  8.832464e+05               550.15         0.914972   \n",
      "155676  8.747619e+05               550.15         0.914972   \n",
      "155677  8.879406e+05               550.15         0.914972   \n",
      "155678  9.040318e+05               550.15         0.914972   \n",
      "...              ...                  ...              ...   \n",
      "439181  1.262804e+06               555.15         1.019965   \n",
      "439182  1.236266e+06               555.15         1.019965   \n",
      "439183  1.227601e+06               555.15         1.019965   \n",
      "439184  1.213029e+06               555.15         1.019965   \n",
      "439185  1.219686e+06               555.15         1.019965   \n",
      "\n",
      "        te_air_scav_rec_iso  pr_cyl_max_mv_iso  pr_cyl_comp_mv_iso  \\\n",
      "155674           299.728408      -6.603020e+07       -7.155594e+07   \n",
      "155675           299.728408      -6.565175e+07       -7.075990e+07   \n",
      "155676           299.728408      -6.539791e+07       -7.027582e+07   \n",
      "155677           299.728408      -6.580781e+07       -7.076238e+07   \n",
      "155678           299.829286      -6.622560e+07       -7.131539e+07   \n",
      "...                     ...                ...                 ...   \n",
      "439181           303.059782      -6.792722e+07       -8.174774e+07   \n",
      "439182           302.872662      -6.809147e+07       -8.168589e+07   \n",
      "439183           302.872662      -6.770504e+07       -8.117882e+07   \n",
      "439184           302.687664      -6.721556e+07       -8.040727e+07   \n",
      "439185           302.504936      -6.738855e+07       -8.050945e+07   \n",
      "\n",
      "        fr_eng_ecs  pr_air_scav_iso  engine_type_G95ME-C10.5-GI-LPSCR  \n",
      "155674    0.914165    -2.192475e+07                               1.0  \n",
      "155675    0.914865    -2.198966e+07                               1.0  \n",
      "155676    0.916016    -2.194526e+07                               1.0  \n",
      "155677    0.914566    -2.198616e+07                               1.0  \n",
      "155678    0.913920    -2.199390e+07                               1.0  \n",
      "...            ...              ...                               ...  \n",
      "439181    1.026240    -1.474372e+07                               1.0  \n",
      "439182    1.035701    -1.488898e+07                               1.0  \n",
      "439183    1.028137    -1.479966e+07                               1.0  \n",
      "439184    1.027765    -1.477784e+07                               1.0  \n",
      "439185    1.021612    -1.488213e+07                               1.0  \n",
      "\n",
      "[176450 rows x 25 columns]\n"
     ]
    },
    {
     "name": "stderr",
     "output_type": "stream",
     "text": [
      "2025/05/15 11:26:56 INFO mlflow.tracking.fluent: Experiment with name 'VAE_adjustedtestwizcorrect_optuna' does not exist. Creating a new experiment.\n",
      "[I 2025-05-15 11:26:56,815] A new study created in memory with name: no-name-e1c13a80-55ab-4001-852d-a1eaf52147b5\n",
      "Train Epoch: 0 [104960/105870 (99%)]\tLoss: 0.309351: 100%|██████████| 828/828 [00:17<00:00, 46.79it/s] \n"
     ]
    },
    {
     "name": "stdout",
     "output_type": "stream",
     "text": [
      "====> Epoch: 0 Average train loss: 0.3423\n",
      "===> Epoch: 0 Average mae test loss for targetcol :3.2983\n",
      "===> Epoch: 0 Average mae test loss for targetcol: 3.2935\n",
      "====> Test set loss: 959.5579\n",
      "====> Epoch: 0 Average test loss: 0.0272\n"
     ]
    },
    {
     "name": "stderr",
     "output_type": "stream",
     "text": [
      "Train Epoch: 1 [104960/105870 (99%)]\tLoss: 0.308465: 100%|██████████| 828/828 [00:03<00:00, 254.43it/s]\n"
     ]
    },
    {
     "name": "stdout",
     "output_type": "stream",
     "text": [
      "====> Epoch: 1 Average train loss: 0.3336\n",
      "===> Epoch: 1 Average mae test loss for targetcol :3.2131\n",
      "===> Epoch: 1 Average mae test loss for targetcol: 3.0600\n",
      "====> Test set loss: 929.6882\n",
      "====> Epoch: 1 Average test loss: 0.0263\n"
     ]
    },
    {
     "name": "stderr",
     "output_type": "stream",
     "text": [
      "Train Epoch: 2 [104960/105870 (99%)]\tLoss: 0.323427: 100%|██████████| 828/828 [00:03<00:00, 249.38it/s]\n"
     ]
    },
    {
     "name": "stdout",
     "output_type": "stream",
     "text": [
      "====> Epoch: 2 Average train loss: 0.3317\n",
      "===> Epoch: 2 Average mae test loss for targetcol :3.1909\n",
      "===> Epoch: 2 Average mae test loss for targetcol: 3.1138\n",
      "====> Test set loss: 911.9753\n",
      "====> Epoch: 2 Average test loss: 0.0258\n"
     ]
    },
    {
     "name": "stderr",
     "output_type": "stream",
     "text": [
      "Train Epoch: 3 [104960/105870 (99%)]\tLoss: 0.351573: 100%|██████████| 828/828 [00:03<00:00, 253.62it/s]\n"
     ]
    },
    {
     "name": "stdout",
     "output_type": "stream",
     "text": [
      "====> Epoch: 3 Average train loss: 0.3306\n",
      "===> Epoch: 3 Average mae test loss for targetcol :3.1772\n",
      "===> Epoch: 3 Average mae test loss for targetcol: 2.9861\n",
      "====> Test set loss: 903.6847\n",
      "====> Epoch: 3 Average test loss: 0.0256\n"
     ]
    },
    {
     "name": "stderr",
     "output_type": "stream",
     "text": [
      "Train Epoch: 4 [104960/105870 (99%)]\tLoss: 0.353070: 100%|██████████| 828/828 [00:03<00:00, 253.81it/s]\n"
     ]
    },
    {
     "name": "stdout",
     "output_type": "stream",
     "text": [
      "====> Epoch: 4 Average train loss: 0.3299\n",
      "===> Epoch: 4 Average mae test loss for targetcol :3.1740\n",
      "===> Epoch: 4 Average mae test loss for targetcol: 3.0338\n",
      "====> Test set loss: 892.6413\n",
      "====> Epoch: 4 Average test loss: 0.0253\n"
     ]
    },
    {
     "name": "stderr",
     "output_type": "stream",
     "text": [
      "Train Epoch: 5 [104960/105870 (99%)]\tLoss: 0.343433: 100%|██████████| 828/828 [00:03<00:00, 253.70it/s]\n"
     ]
    },
    {
     "name": "stdout",
     "output_type": "stream",
     "text": [
      "====> Epoch: 5 Average train loss: 0.3295\n",
      "===> Epoch: 5 Average mae test loss for targetcol :3.1708\n",
      "===> Epoch: 5 Average mae test loss for targetcol: 2.9895\n",
      "====> Test set loss: 891.7349\n",
      "====> Epoch: 5 Average test loss: 0.0253\n"
     ]
    },
    {
     "name": "stderr",
     "output_type": "stream",
     "text": [
      "Train Epoch: 6 [104960/105870 (99%)]\tLoss: 0.263472: 100%|██████████| 828/828 [00:03<00:00, 252.45it/s]\n"
     ]
    },
    {
     "name": "stdout",
     "output_type": "stream",
     "text": [
      "====> Epoch: 6 Average train loss: 0.3295\n",
      "===> Epoch: 6 Average mae test loss for targetcol :3.1673\n",
      "===> Epoch: 6 Average mae test loss for targetcol: 3.0034\n",
      "====> Test set loss: 890.9425\n",
      "====> Epoch: 6 Average test loss: 0.0252\n"
     ]
    },
    {
     "name": "stderr",
     "output_type": "stream",
     "text": [
      "Train Epoch: 7 [104960/105870 (99%)]\tLoss: 0.312489: 100%|██████████| 828/828 [00:03<00:00, 252.43it/s]\n"
     ]
    },
    {
     "name": "stdout",
     "output_type": "stream",
     "text": [
      "====> Epoch: 7 Average train loss: 0.3293\n",
      "===> Epoch: 7 Average mae test loss for targetcol :3.1670\n",
      "===> Epoch: 7 Average mae test loss for targetcol: 3.0970\n",
      "====> Test set loss: 885.5160\n",
      "====> Epoch: 7 Average test loss: 0.0251\n"
     ]
    },
    {
     "name": "stderr",
     "output_type": "stream",
     "text": [
      "Train Epoch: 8 [104960/105870 (99%)]\tLoss: 0.415055: 100%|██████████| 828/828 [00:03<00:00, 252.56it/s]\n"
     ]
    },
    {
     "name": "stdout",
     "output_type": "stream",
     "text": [
      "====> Epoch: 8 Average train loss: 0.3292\n",
      "===> Epoch: 8 Average mae test loss for targetcol :3.1660\n",
      "===> Epoch: 8 Average mae test loss for targetcol: 2.9614\n",
      "====> Test set loss: 896.6700\n",
      "====> Epoch: 8 Average test loss: 0.0254\n"
     ]
    },
    {
     "name": "stderr",
     "output_type": "stream",
     "text": [
      "Train Epoch: 9 [104960/105870 (99%)]\tLoss: 0.399641: 100%|██████████| 828/828 [00:03<00:00, 255.53it/s]\n"
     ]
    },
    {
     "name": "stdout",
     "output_type": "stream",
     "text": [
      "====> Epoch: 9 Average train loss: 0.3292\n",
      "===> Epoch: 9 Average mae test loss for targetcol :3.1661\n",
      "===> Epoch: 9 Average mae test loss for targetcol: 3.0418\n",
      "====> Test set loss: 886.7733\n",
      "====> Epoch: 9 Average test loss: 0.0251\n"
     ]
    },
    {
     "name": "stderr",
     "output_type": "stream",
     "text": [
      "Train Epoch: 10 [104960/105870 (99%)]\tLoss: 0.314120: 100%|██████████| 828/828 [00:03<00:00, 254.02it/s]\n"
     ]
    },
    {
     "name": "stdout",
     "output_type": "stream",
     "text": [
      "====> Epoch: 10 Average train loss: 0.3292\n",
      "===> Epoch: 10 Average mae test loss for targetcol :3.1639\n",
      "===> Epoch: 10 Average mae test loss for targetcol: 3.0852\n",
      "====> Test set loss: 884.4355\n",
      "====> Epoch: 10 Average test loss: 0.0251\n"
     ]
    },
    {
     "name": "stderr",
     "output_type": "stream",
     "text": [
      "Train Epoch: 11 [104960/105870 (99%)]\tLoss: 0.338566: 100%|██████████| 828/828 [00:03<00:00, 254.27it/s]\n"
     ]
    },
    {
     "name": "stdout",
     "output_type": "stream",
     "text": [
      "====> Epoch: 11 Average train loss: 0.3291\n",
      "===> Epoch: 11 Average mae test loss for targetcol :3.1658\n",
      "===> Epoch: 11 Average mae test loss for targetcol: 3.0874\n",
      "====> Test set loss: 884.9423\n",
      "====> Epoch: 11 Average test loss: 0.0251\n"
     ]
    },
    {
     "name": "stderr",
     "output_type": "stream",
     "text": [
      "Train Epoch: 12 [104960/105870 (99%)]\tLoss: 0.307613: 100%|██████████| 828/828 [00:03<00:00, 256.30it/s]\n"
     ]
    },
    {
     "name": "stdout",
     "output_type": "stream",
     "text": [
      "====> Epoch: 12 Average train loss: 0.3291\n",
      "===> Epoch: 12 Average mae test loss for targetcol :3.1646\n",
      "===> Epoch: 12 Average mae test loss for targetcol: 3.1509\n",
      "====> Test set loss: 884.6625\n",
      "====> Epoch: 12 Average test loss: 0.0251\n"
     ]
    },
    {
     "name": "stderr",
     "output_type": "stream",
     "text": [
      "Train Epoch: 13 [104960/105870 (99%)]\tLoss: 0.341555: 100%|██████████| 828/828 [00:03<00:00, 259.83it/s]\n"
     ]
    },
    {
     "name": "stdout",
     "output_type": "stream",
     "text": [
      "====> Epoch: 13 Average train loss: 0.3290\n",
      "===> Epoch: 13 Average mae test loss for targetcol :3.1628\n",
      "===> Epoch: 13 Average mae test loss for targetcol: 3.0172\n",
      "====> Test set loss: 886.8125\n",
      "====> Epoch: 13 Average test loss: 0.0251\n"
     ]
    },
    {
     "name": "stderr",
     "output_type": "stream",
     "text": [
      "Train Epoch: 14 [104960/105870 (99%)]\tLoss: 0.298305: 100%|██████████| 828/828 [00:03<00:00, 261.17it/s]\n"
     ]
    },
    {
     "name": "stdout",
     "output_type": "stream",
     "text": [
      "====> Epoch: 14 Average train loss: 0.3290\n",
      "===> Epoch: 14 Average mae test loss for targetcol :3.1642\n",
      "===> Epoch: 14 Average mae test loss for targetcol: 3.0447\n",
      "====> Test set loss: 887.7102\n",
      "====> Epoch: 14 Average test loss: 0.0252\n"
     ]
    },
    {
     "name": "stderr",
     "output_type": "stream",
     "text": [
      "Train Epoch: 15 [104960/105870 (99%)]\tLoss: 0.353912: 100%|██████████| 828/828 [00:03<00:00, 260.44it/s]\n"
     ]
    },
    {
     "name": "stdout",
     "output_type": "stream",
     "text": [
      "====> Epoch: 15 Average train loss: 0.3290\n",
      "===> Epoch: 15 Average mae test loss for targetcol :3.1631\n",
      "===> Epoch: 15 Average mae test loss for targetcol: 3.0274\n",
      "====> Test set loss: 885.8591\n",
      "====> Epoch: 15 Average test loss: 0.0251\n"
     ]
    },
    {
     "name": "stderr",
     "output_type": "stream",
     "text": [
      "Train Epoch: 16 [104960/105870 (99%)]\tLoss: 0.283559: 100%|██████████| 828/828 [00:03<00:00, 261.40it/s]\n"
     ]
    },
    {
     "name": "stdout",
     "output_type": "stream",
     "text": [
      "====> Epoch: 16 Average train loss: 0.3290\n",
      "===> Epoch: 16 Average mae test loss for targetcol :3.1646\n",
      "===> Epoch: 16 Average mae test loss for targetcol: 3.0795\n",
      "====> Test set loss: 883.9458\n",
      "====> Epoch: 16 Average test loss: 0.0250\n"
     ]
    },
    {
     "name": "stderr",
     "output_type": "stream",
     "text": [
      "Train Epoch: 17 [104960/105870 (99%)]\tLoss: 0.348734: 100%|██████████| 828/828 [00:03<00:00, 262.10it/s]\n"
     ]
    },
    {
     "name": "stdout",
     "output_type": "stream",
     "text": [
      "====> Epoch: 17 Average train loss: 0.3290\n",
      "===> Epoch: 17 Average mae test loss for targetcol :3.1642\n",
      "===> Epoch: 17 Average mae test loss for targetcol: 3.0093\n",
      "====> Test set loss: 887.2978\n",
      "====> Epoch: 17 Average test loss: 0.0251\n"
     ]
    },
    {
     "name": "stderr",
     "output_type": "stream",
     "text": [
      "Train Epoch: 18 [104960/105870 (99%)]\tLoss: 0.302140: 100%|██████████| 828/828 [00:03<00:00, 248.69it/s]\n"
     ]
    },
    {
     "name": "stdout",
     "output_type": "stream",
     "text": [
      "====> Epoch: 18 Average train loss: 0.3290\n",
      "===> Epoch: 18 Average mae test loss for targetcol :3.1623\n",
      "===> Epoch: 18 Average mae test loss for targetcol: 3.0111\n",
      "====> Test set loss: 886.8593\n",
      "====> Epoch: 18 Average test loss: 0.0251\n"
     ]
    },
    {
     "name": "stderr",
     "output_type": "stream",
     "text": [
      "Train Epoch: 19 [104960/105870 (99%)]\tLoss: 0.281235: 100%|██████████| 828/828 [00:03<00:00, 240.46it/s]\n"
     ]
    },
    {
     "name": "stdout",
     "output_type": "stream",
     "text": [
      "====> Epoch: 19 Average train loss: 0.3289\n",
      "===> Epoch: 19 Average mae test loss for targetcol :3.1618\n",
      "===> Epoch: 19 Average mae test loss for targetcol: 3.0093\n",
      "====> Test set loss: 887.7155\n",
      "====> Epoch: 19 Average test loss: 0.0252\n"
     ]
    },
    {
     "name": "stderr",
     "output_type": "stream",
     "text": [
      "Train Epoch: 20 [104960/105870 (99%)]\tLoss: 0.307979: 100%|██████████| 828/828 [00:03<00:00, 233.97it/s]\n"
     ]
    },
    {
     "name": "stdout",
     "output_type": "stream",
     "text": [
      "====> Epoch: 20 Average train loss: 0.3289\n",
      "===> Epoch: 20 Average mae test loss for targetcol :3.1630\n",
      "===> Epoch: 20 Average mae test loss for targetcol: 3.0380\n",
      "====> Test set loss: 885.8614\n",
      "====> Epoch: 20 Average test loss: 0.0251\n"
     ]
    },
    {
     "name": "stderr",
     "output_type": "stream",
     "text": [
      "Train Epoch: 21 [104960/105870 (99%)]\tLoss: 0.372279: 100%|██████████| 828/828 [00:03<00:00, 256.80it/s]\n"
     ]
    },
    {
     "name": "stdout",
     "output_type": "stream",
     "text": [
      "====> Epoch: 21 Average train loss: 0.3289\n",
      "===> Epoch: 21 Average mae test loss for targetcol :3.1626\n",
      "===> Epoch: 21 Average mae test loss for targetcol: 3.0310\n",
      "====> Test set loss: 886.0373\n",
      "====> Epoch: 21 Average test loss: 0.0251\n"
     ]
    },
    {
     "name": "stderr",
     "output_type": "stream",
     "text": [
      "Train Epoch: 22 [104960/105870 (99%)]\tLoss: 0.319063: 100%|██████████| 828/828 [00:03<00:00, 258.95it/s]\n"
     ]
    },
    {
     "name": "stdout",
     "output_type": "stream",
     "text": [
      "====> Epoch: 22 Average train loss: 0.3290\n",
      "===> Epoch: 22 Average mae test loss for targetcol :3.1612\n",
      "===> Epoch: 22 Average mae test loss for targetcol: 3.0033\n",
      "====> Test set loss: 887.7013\n",
      "====> Epoch: 22 Average test loss: 0.0252\n"
     ]
    },
    {
     "name": "stderr",
     "output_type": "stream",
     "text": [
      "Train Epoch: 23 [104960/105870 (99%)]\tLoss: 0.268634: 100%|██████████| 828/828 [00:03<00:00, 261.55it/s]\n"
     ]
    },
    {
     "name": "stdout",
     "output_type": "stream",
     "text": [
      "====> Epoch: 23 Average train loss: 0.3289\n",
      "===> Epoch: 23 Average mae test loss for targetcol :3.1622\n",
      "===> Epoch: 23 Average mae test loss for targetcol: 3.0578\n",
      "====> Test set loss: 884.1155\n",
      "====> Epoch: 23 Average test loss: 0.0251\n"
     ]
    },
    {
     "name": "stderr",
     "output_type": "stream",
     "text": [
      "Train Epoch: 24 [104960/105870 (99%)]\tLoss: 0.321154: 100%|██████████| 828/828 [00:03<00:00, 261.70it/s]\n"
     ]
    },
    {
     "name": "stdout",
     "output_type": "stream",
     "text": [
      "====> Epoch: 24 Average train loss: 0.3289\n",
      "===> Epoch: 24 Average mae test loss for targetcol :3.1607\n",
      "===> Epoch: 24 Average mae test loss for targetcol: 3.0764\n",
      "====> Test set loss: 883.0232\n",
      "====> Epoch: 24 Average test loss: 0.0250\n"
     ]
    },
    {
     "name": "stderr",
     "output_type": "stream",
     "text": [
      "Train Epoch: 25 [104960/105870 (99%)]\tLoss: 0.342730: 100%|██████████| 828/828 [00:03<00:00, 260.77it/s]\n"
     ]
    },
    {
     "name": "stdout",
     "output_type": "stream",
     "text": [
      "====> Epoch: 25 Average train loss: 0.3289\n",
      "===> Epoch: 25 Average mae test loss for targetcol :3.1616\n",
      "===> Epoch: 25 Average mae test loss for targetcol: 3.0638\n",
      "====> Test set loss: 884.2818\n",
      "====> Epoch: 25 Average test loss: 0.0251\n"
     ]
    },
    {
     "name": "stderr",
     "output_type": "stream",
     "text": [
      "Train Epoch: 26 [104960/105870 (99%)]\tLoss: 0.324090: 100%|██████████| 828/828 [00:03<00:00, 262.24it/s]\n"
     ]
    },
    {
     "name": "stdout",
     "output_type": "stream",
     "text": [
      "====> Epoch: 26 Average train loss: 0.3289\n",
      "===> Epoch: 26 Average mae test loss for targetcol :3.1629\n",
      "===> Epoch: 26 Average mae test loss for targetcol: 3.0489\n",
      "====> Test set loss: 884.2214\n",
      "====> Epoch: 26 Average test loss: 0.0251\n"
     ]
    },
    {
     "name": "stderr",
     "output_type": "stream",
     "text": [
      "Train Epoch: 27 [104960/105870 (99%)]\tLoss: 0.314859: 100%|██████████| 828/828 [00:03<00:00, 259.79it/s]\n"
     ]
    },
    {
     "name": "stdout",
     "output_type": "stream",
     "text": [
      "====> Epoch: 27 Average train loss: 0.3289\n",
      "===> Epoch: 27 Average mae test loss for targetcol :3.1621\n",
      "===> Epoch: 27 Average mae test loss for targetcol: 3.0493\n",
      "====> Test set loss: 884.4604\n",
      "====> Epoch: 27 Average test loss: 0.0251\n"
     ]
    },
    {
     "name": "stderr",
     "output_type": "stream",
     "text": [
      "Train Epoch: 28 [104960/105870 (99%)]\tLoss: 0.356493: 100%|██████████| 828/828 [00:03<00:00, 262.63it/s]\n"
     ]
    },
    {
     "name": "stdout",
     "output_type": "stream",
     "text": [
      "====> Epoch: 28 Average train loss: 0.3289\n",
      "===> Epoch: 28 Average mae test loss for targetcol :3.1603\n",
      "===> Epoch: 28 Average mae test loss for targetcol: 3.0075\n",
      "====> Test set loss: 887.0311\n",
      "====> Epoch: 28 Average test loss: 0.0251\n"
     ]
    },
    {
     "name": "stderr",
     "output_type": "stream",
     "text": [
      "Train Epoch: 29 [104960/105870 (99%)]\tLoss: 0.280638: 100%|██████████| 828/828 [00:03<00:00, 263.46it/s]\n"
     ]
    },
    {
     "name": "stdout",
     "output_type": "stream",
     "text": [
      "====> Epoch: 29 Average train loss: 0.3289\n",
      "===> Epoch: 29 Average mae test loss for targetcol :3.1623\n",
      "===> Epoch: 29 Average mae test loss for targetcol: 3.0553\n",
      "====> Test set loss: 884.8725\n",
      "====> Epoch: 29 Average test loss: 0.0251\n"
     ]
    },
    {
     "name": "stderr",
     "output_type": "stream",
     "text": [
      "Train Epoch: 30 [104960/105870 (99%)]\tLoss: 0.352207: 100%|██████████| 828/828 [00:03<00:00, 261.98it/s]\n"
     ]
    },
    {
     "name": "stdout",
     "output_type": "stream",
     "text": [
      "====> Epoch: 30 Average train loss: 0.3289\n",
      "===> Epoch: 30 Average mae test loss for targetcol :3.1607\n",
      "===> Epoch: 30 Average mae test loss for targetcol: 3.0025\n",
      "====> Test set loss: 887.6361\n",
      "====> Epoch: 30 Average test loss: 0.0252\n"
     ]
    },
    {
     "name": "stderr",
     "output_type": "stream",
     "text": [
      "Train Epoch: 31 [104960/105870 (99%)]\tLoss: 0.388439: 100%|██████████| 828/828 [00:03<00:00, 261.61it/s]\n"
     ]
    },
    {
     "name": "stdout",
     "output_type": "stream",
     "text": [
      "====> Epoch: 31 Average train loss: 0.3289\n",
      "===> Epoch: 31 Average mae test loss for targetcol :3.1621\n",
      "===> Epoch: 31 Average mae test loss for targetcol: 3.0042\n",
      "====> Test set loss: 887.4696\n",
      "====> Epoch: 31 Average test loss: 0.0251\n"
     ]
    },
    {
     "name": "stderr",
     "output_type": "stream",
     "text": [
      "Train Epoch: 32 [104960/105870 (99%)]\tLoss: 0.304368: 100%|██████████| 828/828 [00:03<00:00, 262.86it/s]\n"
     ]
    },
    {
     "name": "stdout",
     "output_type": "stream",
     "text": [
      "====> Epoch: 32 Average train loss: 0.3289\n",
      "===> Epoch: 32 Average mae test loss for targetcol :3.1622\n",
      "===> Epoch: 32 Average mae test loss for targetcol: 3.0519\n",
      "====> Test set loss: 884.5359\n",
      "====> Epoch: 32 Average test loss: 0.0251\n"
     ]
    },
    {
     "name": "stderr",
     "output_type": "stream",
     "text": [
      "Train Epoch: 33 [104960/105870 (99%)]\tLoss: 0.310418: 100%|██████████| 828/828 [00:03<00:00, 261.82it/s]\n"
     ]
    },
    {
     "name": "stdout",
     "output_type": "stream",
     "text": [
      "====> Epoch: 33 Average train loss: 0.3288\n",
      "===> Epoch: 33 Average mae test loss for targetcol :3.1615\n",
      "===> Epoch: 33 Average mae test loss for targetcol: 3.0445\n",
      "====> Test set loss: 884.1880\n",
      "====> Epoch: 33 Average test loss: 0.0251\n"
     ]
    },
    {
     "name": "stderr",
     "output_type": "stream",
     "text": [
      "Train Epoch: 34 [104960/105870 (99%)]\tLoss: 0.294932: 100%|██████████| 828/828 [00:03<00:00, 262.65it/s]\n"
     ]
    },
    {
     "name": "stdout",
     "output_type": "stream",
     "text": [
      "====> Epoch: 34 Average train loss: 0.3289\n",
      "===> Epoch: 34 Average mae test loss for targetcol :3.1610\n",
      "===> Epoch: 34 Average mae test loss for targetcol: 3.0518\n",
      "====> Test set loss: 884.2905\n",
      "====> Epoch: 34 Average test loss: 0.0251\n"
     ]
    },
    {
     "name": "stderr",
     "output_type": "stream",
     "text": [
      "Train Epoch: 35 [104960/105870 (99%)]\tLoss: 0.370020: 100%|██████████| 828/828 [00:03<00:00, 261.85it/s]\n"
     ]
    },
    {
     "name": "stdout",
     "output_type": "stream",
     "text": [
      "====> Epoch: 35 Average train loss: 0.3288\n",
      "===> Epoch: 35 Average mae test loss for targetcol :3.1610\n",
      "===> Epoch: 35 Average mae test loss for targetcol: 2.9898\n",
      "====> Test set loss: 888.7681\n",
      "====> Epoch: 35 Average test loss: 0.0252\n"
     ]
    },
    {
     "name": "stderr",
     "output_type": "stream",
     "text": [
      "Train Epoch: 36 [104960/105870 (99%)]\tLoss: 0.319320: 100%|██████████| 828/828 [00:03<00:00, 261.77it/s]\n"
     ]
    },
    {
     "name": "stdout",
     "output_type": "stream",
     "text": [
      "====> Epoch: 36 Average train loss: 0.3288\n",
      "===> Epoch: 36 Average mae test loss for targetcol :3.1603\n",
      "===> Epoch: 36 Average mae test loss for targetcol: 3.0186\n",
      "====> Test set loss: 885.6417\n",
      "====> Epoch: 36 Average test loss: 0.0251\n"
     ]
    },
    {
     "name": "stderr",
     "output_type": "stream",
     "text": [
      "Train Epoch: 37 [104960/105870 (99%)]\tLoss: 0.329780: 100%|██████████| 828/828 [00:03<00:00, 263.65it/s]\n"
     ]
    },
    {
     "name": "stdout",
     "output_type": "stream",
     "text": [
      "====> Epoch: 37 Average train loss: 0.3288\n",
      "===> Epoch: 37 Average mae test loss for targetcol :3.1605\n",
      "===> Epoch: 37 Average mae test loss for targetcol: 3.0117\n",
      "====> Test set loss: 887.7240\n",
      "====> Epoch: 37 Average test loss: 0.0252\n"
     ]
    },
    {
     "name": "stderr",
     "output_type": "stream",
     "text": [
      "Train Epoch: 38 [104960/105870 (99%)]\tLoss: 0.333202: 100%|██████████| 828/828 [00:03<00:00, 262.43it/s]\n"
     ]
    },
    {
     "name": "stdout",
     "output_type": "stream",
     "text": [
      "====> Epoch: 38 Average train loss: 0.3289\n",
      "===> Epoch: 38 Average mae test loss for targetcol :3.1616\n",
      "===> Epoch: 38 Average mae test loss for targetcol: 3.0163\n",
      "====> Test set loss: 885.7834\n",
      "====> Epoch: 38 Average test loss: 0.0251\n"
     ]
    },
    {
     "name": "stderr",
     "output_type": "stream",
     "text": [
      "Train Epoch: 39 [104960/105870 (99%)]\tLoss: 0.407805: 100%|██████████| 828/828 [00:03<00:00, 260.54it/s]\n"
     ]
    },
    {
     "name": "stdout",
     "output_type": "stream",
     "text": [
      "====> Epoch: 39 Average train loss: 0.3288\n",
      "===> Epoch: 39 Average mae test loss for targetcol :3.1607\n",
      "===> Epoch: 39 Average mae test loss for targetcol: 3.0112\n",
      "====> Test set loss: 886.3197\n",
      "====> Epoch: 39 Average test loss: 0.0251\n"
     ]
    },
    {
     "name": "stderr",
     "output_type": "stream",
     "text": [
      "Train Epoch: 40 [104960/105870 (99%)]\tLoss: 0.340194: 100%|██████████| 828/828 [00:03<00:00, 262.79it/s]\n"
     ]
    },
    {
     "name": "stdout",
     "output_type": "stream",
     "text": [
      "====> Epoch: 40 Average train loss: 0.3288\n",
      "===> Epoch: 40 Average mae test loss for targetcol :3.1624\n",
      "===> Epoch: 40 Average mae test loss for targetcol: 3.0142\n",
      "====> Test set loss: 886.8842\n",
      "====> Epoch: 40 Average test loss: 0.0251\n"
     ]
    },
    {
     "name": "stderr",
     "output_type": "stream",
     "text": [
      "Train Epoch: 41 [104960/105870 (99%)]\tLoss: 0.304412: 100%|██████████| 828/828 [00:03<00:00, 261.53it/s]\n"
     ]
    },
    {
     "name": "stdout",
     "output_type": "stream",
     "text": [
      "====> Epoch: 41 Average train loss: 0.3288\n",
      "===> Epoch: 41 Average mae test loss for targetcol :3.1617\n",
      "===> Epoch: 41 Average mae test loss for targetcol: 3.0236\n",
      "====> Test set loss: 885.6270\n",
      "====> Epoch: 41 Average test loss: 0.0251\n"
     ]
    },
    {
     "name": "stderr",
     "output_type": "stream",
     "text": [
      "Train Epoch: 42 [104960/105870 (99%)]\tLoss: 0.292540: 100%|██████████| 828/828 [00:03<00:00, 261.30it/s]\n"
     ]
    },
    {
     "name": "stdout",
     "output_type": "stream",
     "text": [
      "====> Epoch: 42 Average train loss: 0.3288\n",
      "===> Epoch: 42 Average mae test loss for targetcol :3.1608\n",
      "===> Epoch: 42 Average mae test loss for targetcol: 3.0186\n",
      "====> Test set loss: 885.5649\n",
      "====> Epoch: 42 Average test loss: 0.0251\n"
     ]
    },
    {
     "name": "stderr",
     "output_type": "stream",
     "text": [
      "Train Epoch: 43 [104960/105870 (99%)]\tLoss: 0.328744: 100%|██████████| 828/828 [00:03<00:00, 262.97it/s]\n"
     ]
    },
    {
     "name": "stdout",
     "output_type": "stream",
     "text": [
      "====> Epoch: 43 Average train loss: 0.3288\n",
      "===> Epoch: 43 Average mae test loss for targetcol :3.1611\n",
      "===> Epoch: 43 Average mae test loss for targetcol: 3.0029\n",
      "====> Test set loss: 886.9124\n",
      "====> Epoch: 43 Average test loss: 0.0251\n"
     ]
    },
    {
     "name": "stderr",
     "output_type": "stream",
     "text": [
      "Train Epoch: 44 [104960/105870 (99%)]\tLoss: 0.298076: 100%|██████████| 828/828 [00:03<00:00, 248.96it/s]\n"
     ]
    },
    {
     "name": "stdout",
     "output_type": "stream",
     "text": [
      "====> Epoch: 44 Average train loss: 0.3288\n",
      "===> Epoch: 44 Average mae test loss for targetcol :3.1597\n",
      "===> Epoch: 44 Average mae test loss for targetcol: 3.0205\n",
      "====> Test set loss: 885.0176\n",
      "====> Epoch: 44 Average test loss: 0.0251\n"
     ]
    },
    {
     "name": "stderr",
     "output_type": "stream",
     "text": [
      "Train Epoch: 45 [104960/105870 (99%)]\tLoss: 0.287358: 100%|██████████| 828/828 [00:03<00:00, 261.95it/s]\n"
     ]
    },
    {
     "name": "stdout",
     "output_type": "stream",
     "text": [
      "====> Epoch: 45 Average train loss: 0.3288\n",
      "===> Epoch: 45 Average mae test loss for targetcol :3.1607\n",
      "===> Epoch: 45 Average mae test loss for targetcol: 3.0318\n",
      "====> Test set loss: 885.2043\n",
      "====> Epoch: 45 Average test loss: 0.0251\n"
     ]
    },
    {
     "name": "stderr",
     "output_type": "stream",
     "text": [
      "Train Epoch: 46 [104960/105870 (99%)]\tLoss: 0.340543: 100%|██████████| 828/828 [00:03<00:00, 260.94it/s]\n"
     ]
    },
    {
     "name": "stdout",
     "output_type": "stream",
     "text": [
      "====> Epoch: 46 Average train loss: 0.3288\n",
      "===> Epoch: 46 Average mae test loss for targetcol :3.1617\n",
      "===> Epoch: 46 Average mae test loss for targetcol: 3.0527\n",
      "====> Test set loss: 884.3483\n",
      "====> Epoch: 46 Average test loss: 0.0251\n"
     ]
    },
    {
     "name": "stderr",
     "output_type": "stream",
     "text": [
      "Train Epoch: 47 [104960/105870 (99%)]\tLoss: 0.241438: 100%|██████████| 828/828 [00:03<00:00, 260.86it/s]\n"
     ]
    },
    {
     "name": "stdout",
     "output_type": "stream",
     "text": [
      "====> Epoch: 47 Average train loss: 0.3288\n",
      "===> Epoch: 47 Average mae test loss for targetcol :3.1606\n",
      "===> Epoch: 47 Average mae test loss for targetcol: 3.0067\n",
      "====> Test set loss: 886.4895\n",
      "====> Epoch: 47 Average test loss: 0.0251\n"
     ]
    },
    {
     "name": "stderr",
     "output_type": "stream",
     "text": [
      "Train Epoch: 48 [104960/105870 (99%)]\tLoss: 0.298088: 100%|██████████| 828/828 [00:03<00:00, 263.00it/s]\n"
     ]
    },
    {
     "name": "stdout",
     "output_type": "stream",
     "text": [
      "====> Epoch: 48 Average train loss: 0.3288\n",
      "===> Epoch: 48 Average mae test loss for targetcol :3.1603\n",
      "===> Epoch: 48 Average mae test loss for targetcol: 3.0137\n",
      "====> Test set loss: 886.0815\n",
      "====> Epoch: 48 Average test loss: 0.0251\n"
     ]
    },
    {
     "name": "stderr",
     "output_type": "stream",
     "text": [
      "Train Epoch: 49 [104960/105870 (99%)]\tLoss: 0.368514: 100%|██████████| 828/828 [00:03<00:00, 262.32it/s]\n"
     ]
    },
    {
     "name": "stdout",
     "output_type": "stream",
     "text": [
      "====> Epoch: 49 Average train loss: 0.3288\n",
      "===> Epoch: 49 Average mae test loss for targetcol :3.1610\n",
      "===> Epoch: 49 Average mae test loss for targetcol: 3.0584\n",
      "====> Test set loss: 883.3953\n",
      "====> Epoch: 49 Average test loss: 0.0250\n"
     ]
    },
    {
     "name": "stderr",
     "output_type": "stream",
     "text": [
      "Train Epoch: 50 [104960/105870 (99%)]\tLoss: 0.328218: 100%|██████████| 828/828 [00:03<00:00, 262.64it/s]\n"
     ]
    },
    {
     "name": "stdout",
     "output_type": "stream",
     "text": [
      "====> Epoch: 50 Average train loss: 0.3288\n",
      "===> Epoch: 50 Average mae test loss for targetcol :3.1626\n",
      "===> Epoch: 50 Average mae test loss for targetcol: 3.0603\n",
      "====> Test set loss: 883.5926\n",
      "====> Epoch: 50 Average test loss: 0.0250\n"
     ]
    },
    {
     "name": "stderr",
     "output_type": "stream",
     "text": [
      "Train Epoch: 51 [104960/105870 (99%)]\tLoss: 0.327643: 100%|██████████| 828/828 [00:03<00:00, 262.25it/s]\n"
     ]
    },
    {
     "name": "stdout",
     "output_type": "stream",
     "text": [
      "====> Epoch: 51 Average train loss: 0.3288\n",
      "===> Epoch: 51 Average mae test loss for targetcol :3.1609\n",
      "===> Epoch: 51 Average mae test loss for targetcol: 3.0017\n",
      "====> Test set loss: 886.6070\n",
      "====> Epoch: 51 Average test loss: 0.0251\n"
     ]
    },
    {
     "name": "stderr",
     "output_type": "stream",
     "text": [
      "Train Epoch: 52 [104960/105870 (99%)]\tLoss: 0.304376: 100%|██████████| 828/828 [00:03<00:00, 260.26it/s]\n"
     ]
    },
    {
     "name": "stdout",
     "output_type": "stream",
     "text": [
      "====> Epoch: 52 Average train loss: 0.3288\n",
      "===> Epoch: 52 Average mae test loss for targetcol :3.1605\n",
      "===> Epoch: 52 Average mae test loss for targetcol: 3.0365\n",
      "====> Test set loss: 884.3945\n",
      "====> Epoch: 52 Average test loss: 0.0251\n"
     ]
    },
    {
     "name": "stderr",
     "output_type": "stream",
     "text": [
      "Train Epoch: 53 [104960/105870 (99%)]\tLoss: 0.328273: 100%|██████████| 828/828 [00:03<00:00, 261.83it/s]\n"
     ]
    },
    {
     "name": "stdout",
     "output_type": "stream",
     "text": [
      "====> Epoch: 53 Average train loss: 0.3288\n",
      "===> Epoch: 53 Average mae test loss for targetcol :3.1616\n",
      "===> Epoch: 53 Average mae test loss for targetcol: 3.0276\n",
      "====> Test set loss: 884.8220\n",
      "====> Epoch: 53 Average test loss: 0.0251\n"
     ]
    },
    {
     "name": "stderr",
     "output_type": "stream",
     "text": [
      "Train Epoch: 54 [104960/105870 (99%)]\tLoss: 0.322210: 100%|██████████| 828/828 [00:03<00:00, 258.21it/s]\n"
     ]
    },
    {
     "name": "stdout",
     "output_type": "stream",
     "text": [
      "====> Epoch: 54 Average train loss: 0.3288\n",
      "===> Epoch: 54 Average mae test loss for targetcol :3.1612\n",
      "===> Epoch: 54 Average mae test loss for targetcol: 3.0162\n",
      "====> Test set loss: 885.7761\n",
      "====> Epoch: 54 Average test loss: 0.0251\n"
     ]
    },
    {
     "name": "stderr",
     "output_type": "stream",
     "text": [
      "Train Epoch: 55 [104960/105870 (99%)]\tLoss: 0.285634: 100%|██████████| 828/828 [00:03<00:00, 259.83it/s]\n"
     ]
    },
    {
     "name": "stdout",
     "output_type": "stream",
     "text": [
      "====> Epoch: 55 Average train loss: 0.3288\n",
      "===> Epoch: 55 Average mae test loss for targetcol :3.1608\n",
      "===> Epoch: 55 Average mae test loss for targetcol: 3.0362\n",
      "====> Test set loss: 885.2952\n",
      "====> Epoch: 55 Average test loss: 0.0251\n"
     ]
    },
    {
     "name": "stderr",
     "output_type": "stream",
     "text": [
      "Train Epoch: 56 [104960/105870 (99%)]\tLoss: 0.340286: 100%|██████████| 828/828 [00:03<00:00, 258.66it/s]\n"
     ]
    },
    {
     "name": "stdout",
     "output_type": "stream",
     "text": [
      "====> Epoch: 56 Average train loss: 0.3288\n",
      "===> Epoch: 56 Average mae test loss for targetcol :3.1607\n",
      "===> Epoch: 56 Average mae test loss for targetcol: 3.0146\n",
      "====> Test set loss: 885.9708\n",
      "====> Epoch: 56 Average test loss: 0.0251\n"
     ]
    },
    {
     "name": "stderr",
     "output_type": "stream",
     "text": [
      "Train Epoch: 57 [104960/105870 (99%)]\tLoss: 0.293340: 100%|██████████| 828/828 [00:03<00:00, 254.30it/s]\n"
     ]
    },
    {
     "name": "stdout",
     "output_type": "stream",
     "text": [
      "====> Epoch: 57 Average train loss: 0.3288\n",
      "===> Epoch: 57 Average mae test loss for targetcol :3.1609\n",
      "===> Epoch: 57 Average mae test loss for targetcol: 3.0272\n",
      "====> Test set loss: 885.2062\n",
      "====> Epoch: 57 Average test loss: 0.0251\n"
     ]
    },
    {
     "name": "stderr",
     "output_type": "stream",
     "text": [
      "Train Epoch: 58 [104960/105870 (99%)]\tLoss: 0.356834: 100%|██████████| 828/828 [00:03<00:00, 253.32it/s]\n"
     ]
    },
    {
     "name": "stdout",
     "output_type": "stream",
     "text": [
      "====> Epoch: 58 Average train loss: 0.3288\n",
      "===> Epoch: 58 Average mae test loss for targetcol :3.1597\n",
      "===> Epoch: 58 Average mae test loss for targetcol: 3.0252\n",
      "====> Test set loss: 885.0426\n",
      "====> Epoch: 58 Average test loss: 0.0251\n"
     ]
    },
    {
     "name": "stderr",
     "output_type": "stream",
     "text": [
      "Train Epoch: 59 [104960/105870 (99%)]\tLoss: 0.354299: 100%|██████████| 828/828 [00:03<00:00, 251.56it/s]\n"
     ]
    },
    {
     "name": "stdout",
     "output_type": "stream",
     "text": [
      "====> Epoch: 59 Average train loss: 0.3288\n",
      "===> Epoch: 59 Average mae test loss for targetcol :3.1607\n",
      "===> Epoch: 59 Average mae test loss for targetcol: 3.0335\n",
      "====> Test set loss: 884.8290\n",
      "====> Epoch: 59 Average test loss: 0.0251\n"
     ]
    },
    {
     "name": "stderr",
     "output_type": "stream",
     "text": [
      "Train Epoch: 60 [104960/105870 (99%)]\tLoss: 0.324529: 100%|██████████| 828/828 [00:03<00:00, 250.66it/s]\n"
     ]
    },
    {
     "name": "stdout",
     "output_type": "stream",
     "text": [
      "====> Epoch: 60 Average train loss: 0.3288\n",
      "===> Epoch: 60 Average mae test loss for targetcol :3.1614\n",
      "===> Epoch: 60 Average mae test loss for targetcol: 3.0375\n",
      "====> Test set loss: 884.2947\n",
      "====> Epoch: 60 Average test loss: 0.0251\n"
     ]
    },
    {
     "name": "stderr",
     "output_type": "stream",
     "text": [
      "Train Epoch: 61 [104960/105870 (99%)]\tLoss: 0.329034: 100%|██████████| 828/828 [00:03<00:00, 250.37it/s]\n"
     ]
    },
    {
     "name": "stdout",
     "output_type": "stream",
     "text": [
      "====> Epoch: 61 Average train loss: 0.3288\n",
      "===> Epoch: 61 Average mae test loss for targetcol :3.1611\n",
      "===> Epoch: 61 Average mae test loss for targetcol: 3.0126\n",
      "====> Test set loss: 886.1048\n",
      "====> Epoch: 61 Average test loss: 0.0251\n"
     ]
    },
    {
     "name": "stderr",
     "output_type": "stream",
     "text": [
      "Train Epoch: 62 [104960/105870 (99%)]\tLoss: 0.342981: 100%|██████████| 828/828 [00:03<00:00, 241.58it/s]\n"
     ]
    },
    {
     "name": "stdout",
     "output_type": "stream",
     "text": [
      "====> Epoch: 62 Average train loss: 0.3288\n",
      "===> Epoch: 62 Average mae test loss for targetcol :3.1604\n",
      "===> Epoch: 62 Average mae test loss for targetcol: 3.0279\n",
      "====> Test set loss: 885.5952\n",
      "====> Epoch: 62 Average test loss: 0.0251\n"
     ]
    },
    {
     "name": "stderr",
     "output_type": "stream",
     "text": [
      "Train Epoch: 63 [104960/105870 (99%)]\tLoss: 0.352778: 100%|██████████| 828/828 [00:03<00:00, 247.53it/s]\n"
     ]
    },
    {
     "name": "stdout",
     "output_type": "stream",
     "text": [
      "====> Epoch: 63 Average train loss: 0.3288\n",
      "===> Epoch: 63 Average mae test loss for targetcol :3.1614\n",
      "===> Epoch: 63 Average mae test loss for targetcol: 3.0811\n",
      "====> Test set loss: 883.1749\n",
      "====> Epoch: 63 Average test loss: 0.0250\n"
     ]
    },
    {
     "name": "stderr",
     "output_type": "stream",
     "text": [
      "Train Epoch: 64 [104960/105870 (99%)]\tLoss: 0.297871: 100%|██████████| 828/828 [00:03<00:00, 249.30it/s]\n"
     ]
    },
    {
     "name": "stdout",
     "output_type": "stream",
     "text": [
      "====> Epoch: 64 Average train loss: 0.3288\n",
      "===> Epoch: 64 Average mae test loss for targetcol :3.1617\n",
      "===> Epoch: 64 Average mae test loss for targetcol: 3.0341\n",
      "====> Test set loss: 885.2081\n",
      "====> Epoch: 64 Average test loss: 0.0251\n"
     ]
    },
    {
     "name": "stderr",
     "output_type": "stream",
     "text": [
      "Train Epoch: 65 [104960/105870 (99%)]\tLoss: 0.356443: 100%|██████████| 828/828 [00:03<00:00, 248.82it/s]\n"
     ]
    },
    {
     "name": "stdout",
     "output_type": "stream",
     "text": [
      "====> Epoch: 65 Average train loss: 0.3288\n",
      "===> Epoch: 65 Average mae test loss for targetcol :3.1612\n",
      "===> Epoch: 65 Average mae test loss for targetcol: 3.0615\n",
      "====> Test set loss: 883.5047\n",
      "====> Epoch: 65 Average test loss: 0.0250\n"
     ]
    },
    {
     "name": "stderr",
     "output_type": "stream",
     "text": [
      "Train Epoch: 66 [104960/105870 (99%)]\tLoss: 0.261597: 100%|██████████| 828/828 [00:03<00:00, 247.07it/s]\n"
     ]
    },
    {
     "name": "stdout",
     "output_type": "stream",
     "text": [
      "====> Epoch: 66 Average train loss: 0.3288\n",
      "===> Epoch: 66 Average mae test loss for targetcol :3.1619\n",
      "===> Epoch: 66 Average mae test loss for targetcol: 3.0622\n",
      "====> Test set loss: 883.2123\n",
      "====> Epoch: 66 Average test loss: 0.0250\n"
     ]
    },
    {
     "name": "stderr",
     "output_type": "stream",
     "text": [
      "Train Epoch: 67 [104960/105870 (99%)]\tLoss: 0.305029: 100%|██████████| 828/828 [00:03<00:00, 244.26it/s]\n"
     ]
    },
    {
     "name": "stdout",
     "output_type": "stream",
     "text": [
      "====> Epoch: 67 Average train loss: 0.3288\n",
      "===> Epoch: 67 Average mae test loss for targetcol :3.1612\n",
      "===> Epoch: 67 Average mae test loss for targetcol: 3.0738\n",
      "====> Test set loss: 883.0213\n",
      "====> Epoch: 67 Average test loss: 0.0250\n"
     ]
    },
    {
     "name": "stderr",
     "output_type": "stream",
     "text": [
      "Train Epoch: 68 [104960/105870 (99%)]\tLoss: 0.292294: 100%|██████████| 828/828 [00:03<00:00, 215.23it/s]\n"
     ]
    },
    {
     "name": "stdout",
     "output_type": "stream",
     "text": [
      "====> Epoch: 68 Average train loss: 0.3288\n",
      "===> Epoch: 68 Average mae test loss for targetcol :3.1606\n",
      "===> Epoch: 68 Average mae test loss for targetcol: 3.0338\n",
      "====> Test set loss: 884.6756\n",
      "====> Epoch: 68 Average test loss: 0.0251\n"
     ]
    },
    {
     "name": "stderr",
     "output_type": "stream",
     "text": [
      "Train Epoch: 69 [104960/105870 (99%)]\tLoss: 0.289184: 100%|██████████| 828/828 [00:03<00:00, 242.59it/s]\n"
     ]
    },
    {
     "name": "stdout",
     "output_type": "stream",
     "text": [
      "====> Epoch: 69 Average train loss: 0.3288\n",
      "===> Epoch: 69 Average mae test loss for targetcol :3.1620\n",
      "===> Epoch: 69 Average mae test loss for targetcol: 3.0131\n",
      "====> Test set loss: 888.2772\n",
      "====> Epoch: 69 Average test loss: 0.0252\n"
     ]
    },
    {
     "name": "stderr",
     "output_type": "stream",
     "text": [
      "Train Epoch: 70 [104960/105870 (99%)]\tLoss: 0.362530: 100%|██████████| 828/828 [00:03<00:00, 238.10it/s]\n"
     ]
    },
    {
     "name": "stdout",
     "output_type": "stream",
     "text": [
      "====> Epoch: 70 Average train loss: 0.3288\n",
      "===> Epoch: 70 Average mae test loss for targetcol :3.1609\n",
      "===> Epoch: 70 Average mae test loss for targetcol: 3.0069\n",
      "====> Test set loss: 886.4895\n",
      "====> Epoch: 70 Average test loss: 0.0251\n"
     ]
    },
    {
     "name": "stderr",
     "output_type": "stream",
     "text": [
      "Train Epoch: 71 [104960/105870 (99%)]\tLoss: 0.325390: 100%|██████████| 828/828 [00:03<00:00, 223.27it/s]\n"
     ]
    },
    {
     "name": "stdout",
     "output_type": "stream",
     "text": [
      "====> Epoch: 71 Average train loss: 0.3288\n",
      "===> Epoch: 71 Average mae test loss for targetcol :3.1600\n",
      "===> Epoch: 71 Average mae test loss for targetcol: 3.0428\n",
      "====> Test set loss: 884.1493\n",
      "====> Epoch: 71 Average test loss: 0.0251\n"
     ]
    },
    {
     "name": "stderr",
     "output_type": "stream",
     "text": [
      "Train Epoch: 72 [104960/105870 (99%)]\tLoss: 0.286137: 100%|██████████| 828/828 [00:03<00:00, 231.75it/s]\n"
     ]
    },
    {
     "name": "stdout",
     "output_type": "stream",
     "text": [
      "====> Epoch: 72 Average train loss: 0.3288\n",
      "===> Epoch: 72 Average mae test loss for targetcol :3.1607\n",
      "===> Epoch: 72 Average mae test loss for targetcol: 3.0375\n",
      "====> Test set loss: 884.5103\n",
      "====> Epoch: 72 Average test loss: 0.0251\n"
     ]
    },
    {
     "name": "stderr",
     "output_type": "stream",
     "text": [
      "Train Epoch: 73 [104960/105870 (99%)]\tLoss: 0.360981: 100%|██████████| 828/828 [00:03<00:00, 233.02it/s]\n"
     ]
    },
    {
     "name": "stdout",
     "output_type": "stream",
     "text": [
      "====> Epoch: 73 Average train loss: 0.3288\n",
      "===> Epoch: 73 Average mae test loss for targetcol :3.1620\n",
      "===> Epoch: 73 Average mae test loss for targetcol: 3.0254\n",
      "====> Test set loss: 885.0606\n",
      "====> Epoch: 73 Average test loss: 0.0251\n"
     ]
    },
    {
     "name": "stderr",
     "output_type": "stream",
     "text": [
      "Train Epoch: 74 [104960/105870 (99%)]\tLoss: 0.375581: 100%|██████████| 828/828 [00:03<00:00, 234.36it/s]\n"
     ]
    },
    {
     "name": "stdout",
     "output_type": "stream",
     "text": [
      "====> Epoch: 74 Average train loss: 0.3288\n",
      "===> Epoch: 74 Average mae test loss for targetcol :3.1611\n",
      "===> Epoch: 74 Average mae test loss for targetcol: 3.0654\n",
      "====> Test set loss: 883.3788\n",
      "====> Epoch: 74 Average test loss: 0.0250\n"
     ]
    },
    {
     "name": "stderr",
     "output_type": "stream",
     "text": [
      "Train Epoch: 75 [104960/105870 (99%)]\tLoss: 0.339565: 100%|██████████| 828/828 [00:03<00:00, 243.29it/s]\n"
     ]
    },
    {
     "name": "stdout",
     "output_type": "stream",
     "text": [
      "====> Epoch: 75 Average train loss: 0.3288\n",
      "===> Epoch: 75 Average mae test loss for targetcol :3.1609\n",
      "===> Epoch: 75 Average mae test loss for targetcol: 3.0127\n",
      "====> Test set loss: 885.9249\n",
      "====> Epoch: 75 Average test loss: 0.0251\n"
     ]
    },
    {
     "name": "stderr",
     "output_type": "stream",
     "text": [
      "Train Epoch: 76 [104960/105870 (99%)]\tLoss: 0.374995: 100%|██████████| 828/828 [00:03<00:00, 247.13it/s]\n"
     ]
    },
    {
     "name": "stdout",
     "output_type": "stream",
     "text": [
      "====> Epoch: 76 Average train loss: 0.3288\n",
      "===> Epoch: 76 Average mae test loss for targetcol :3.1606\n",
      "===> Epoch: 76 Average mae test loss for targetcol: 2.9904\n",
      "====> Test set loss: 888.8127\n",
      "====> Epoch: 76 Average test loss: 0.0252\n"
     ]
    },
    {
     "name": "stderr",
     "output_type": "stream",
     "text": [
      "Train Epoch: 77 [104960/105870 (99%)]\tLoss: 0.291084: 100%|██████████| 828/828 [00:03<00:00, 249.27it/s]\n"
     ]
    },
    {
     "name": "stdout",
     "output_type": "stream",
     "text": [
      "====> Epoch: 77 Average train loss: 0.3288\n",
      "===> Epoch: 77 Average mae test loss for targetcol :3.1613\n",
      "===> Epoch: 77 Average mae test loss for targetcol: 3.0635\n",
      "====> Test set loss: 883.5805\n",
      "====> Epoch: 77 Average test loss: 0.0250\n"
     ]
    },
    {
     "name": "stderr",
     "output_type": "stream",
     "text": [
      "Train Epoch: 78 [104960/105870 (99%)]\tLoss: 0.393453: 100%|██████████| 828/828 [00:03<00:00, 251.60it/s]\n"
     ]
    },
    {
     "name": "stdout",
     "output_type": "stream",
     "text": [
      "====> Epoch: 78 Average train loss: 0.3288\n",
      "===> Epoch: 78 Average mae test loss for targetcol :3.1615\n",
      "===> Epoch: 78 Average mae test loss for targetcol: 3.0104\n",
      "====> Test set loss: 886.3702\n",
      "====> Epoch: 78 Average test loss: 0.0251\n"
     ]
    },
    {
     "name": "stderr",
     "output_type": "stream",
     "text": [
      "Train Epoch: 79 [104960/105870 (99%)]\tLoss: 0.433145: 100%|██████████| 828/828 [00:03<00:00, 252.36it/s]\n"
     ]
    },
    {
     "name": "stdout",
     "output_type": "stream",
     "text": [
      "====> Epoch: 79 Average train loss: 0.3288\n",
      "===> Epoch: 79 Average mae test loss for targetcol :3.1606\n",
      "===> Epoch: 79 Average mae test loss for targetcol: 3.0360\n",
      "====> Test set loss: 884.6532\n",
      "====> Epoch: 79 Average test loss: 0.0251\n"
     ]
    },
    {
     "name": "stderr",
     "output_type": "stream",
     "text": [
      "Train Epoch: 80 [104960/105870 (99%)]\tLoss: 0.319370: 100%|██████████| 828/828 [00:03<00:00, 252.32it/s]\n"
     ]
    },
    {
     "name": "stdout",
     "output_type": "stream",
     "text": [
      "====> Epoch: 80 Average train loss: 0.3288\n",
      "===> Epoch: 80 Average mae test loss for targetcol :3.1603\n",
      "===> Epoch: 80 Average mae test loss for targetcol: 2.9677\n",
      "====> Test set loss: 890.8095\n",
      "====> Epoch: 80 Average test loss: 0.0252\n"
     ]
    },
    {
     "name": "stderr",
     "output_type": "stream",
     "text": [
      "Train Epoch: 81 [104960/105870 (99%)]\tLoss: 0.309826: 100%|██████████| 828/828 [00:03<00:00, 252.26it/s]\n"
     ]
    },
    {
     "name": "stdout",
     "output_type": "stream",
     "text": [
      "====> Epoch: 81 Average train loss: 0.3288\n",
      "===> Epoch: 81 Average mae test loss for targetcol :3.1619\n",
      "===> Epoch: 81 Average mae test loss for targetcol: 3.0240\n",
      "====> Test set loss: 885.1483\n",
      "====> Epoch: 81 Average test loss: 0.0251\n"
     ]
    },
    {
     "name": "stderr",
     "output_type": "stream",
     "text": [
      "Train Epoch: 82 [104960/105870 (99%)]\tLoss: 0.319008: 100%|██████████| 828/828 [00:03<00:00, 251.73it/s]\n"
     ]
    },
    {
     "name": "stdout",
     "output_type": "stream",
     "text": [
      "====> Epoch: 82 Average train loss: 0.3288\n",
      "===> Epoch: 82 Average mae test loss for targetcol :3.1606\n",
      "===> Epoch: 82 Average mae test loss for targetcol: 3.0216\n",
      "====> Test set loss: 885.2693\n",
      "====> Epoch: 82 Average test loss: 0.0251\n"
     ]
    },
    {
     "name": "stderr",
     "output_type": "stream",
     "text": [
      "Train Epoch: 83 [104960/105870 (99%)]\tLoss: 0.374645: 100%|██████████| 828/828 [00:03<00:00, 249.67it/s]\n"
     ]
    },
    {
     "name": "stdout",
     "output_type": "stream",
     "text": [
      "====> Epoch: 83 Average train loss: 0.3288\n",
      "===> Epoch: 83 Average mae test loss for targetcol :3.1607\n",
      "===> Epoch: 83 Average mae test loss for targetcol: 2.9973\n",
      "====> Test set loss: 887.0545\n",
      "====> Epoch: 83 Average test loss: 0.0251\n"
     ]
    },
    {
     "name": "stderr",
     "output_type": "stream",
     "text": [
      "Train Epoch: 84 [104960/105870 (99%)]\tLoss: 0.288452: 100%|██████████| 828/828 [00:03<00:00, 252.60it/s]\n"
     ]
    },
    {
     "name": "stdout",
     "output_type": "stream",
     "text": [
      "====> Epoch: 84 Average train loss: 0.3288\n",
      "===> Epoch: 84 Average mae test loss for targetcol :3.1600\n",
      "===> Epoch: 84 Average mae test loss for targetcol: 2.9769\n",
      "====> Test set loss: 889.8775\n",
      "====> Epoch: 84 Average test loss: 0.0252\n"
     ]
    },
    {
     "name": "stderr",
     "output_type": "stream",
     "text": [
      "Train Epoch: 85 [104960/105870 (99%)]\tLoss: 0.271025: 100%|██████████| 828/828 [00:03<00:00, 237.13it/s]\n"
     ]
    },
    {
     "name": "stdout",
     "output_type": "stream",
     "text": [
      "====> Epoch: 85 Average train loss: 0.3288\n",
      "===> Epoch: 85 Average mae test loss for targetcol :3.1608\n",
      "===> Epoch: 85 Average mae test loss for targetcol: 3.0069\n",
      "====> Test set loss: 886.5821\n",
      "====> Epoch: 85 Average test loss: 0.0251\n"
     ]
    },
    {
     "name": "stderr",
     "output_type": "stream",
     "text": [
      "Train Epoch: 86 [104960/105870 (99%)]\tLoss: 0.291439: 100%|██████████| 828/828 [00:03<00:00, 249.66it/s]\n"
     ]
    },
    {
     "name": "stdout",
     "output_type": "stream",
     "text": [
      "====> Epoch: 86 Average train loss: 0.3288\n",
      "===> Epoch: 86 Average mae test loss for targetcol :3.1609\n",
      "===> Epoch: 86 Average mae test loss for targetcol: 3.0067\n",
      "====> Test set loss: 886.2645\n",
      "====> Epoch: 86 Average test loss: 0.0251\n"
     ]
    },
    {
     "name": "stderr",
     "output_type": "stream",
     "text": [
      "Train Epoch: 87 [104960/105870 (99%)]\tLoss: 0.283890: 100%|██████████| 828/828 [00:03<00:00, 245.80it/s]\n"
     ]
    },
    {
     "name": "stdout",
     "output_type": "stream",
     "text": [
      "====> Epoch: 87 Average train loss: 0.3288\n",
      "===> Epoch: 87 Average mae test loss for targetcol :3.1600\n",
      "===> Epoch: 87 Average mae test loss for targetcol: 2.9945\n",
      "====> Test set loss: 887.4397\n",
      "====> Epoch: 87 Average test loss: 0.0251\n"
     ]
    },
    {
     "name": "stderr",
     "output_type": "stream",
     "text": [
      "Train Epoch: 88 [104960/105870 (99%)]\tLoss: 0.358259: 100%|██████████| 828/828 [00:03<00:00, 245.15it/s]\n"
     ]
    },
    {
     "name": "stdout",
     "output_type": "stream",
     "text": [
      "====> Epoch: 88 Average train loss: 0.3288\n",
      "===> Epoch: 88 Average mae test loss for targetcol :3.1600\n",
      "===> Epoch: 88 Average mae test loss for targetcol: 3.0545\n",
      "====> Test set loss: 883.6688\n",
      "====> Epoch: 88 Average test loss: 0.0250\n"
     ]
    },
    {
     "name": "stderr",
     "output_type": "stream",
     "text": [
      "Train Epoch: 89 [104960/105870 (99%)]\tLoss: 0.351110: 100%|██████████| 828/828 [00:03<00:00, 249.22it/s]\n"
     ]
    },
    {
     "name": "stdout",
     "output_type": "stream",
     "text": [
      "====> Epoch: 89 Average train loss: 0.3288\n",
      "===> Epoch: 89 Average mae test loss for targetcol :3.1622\n",
      "===> Epoch: 89 Average mae test loss for targetcol: 3.0094\n",
      "====> Test set loss: 886.3818\n",
      "====> Epoch: 89 Average test loss: 0.0251\n"
     ]
    },
    {
     "name": "stderr",
     "output_type": "stream",
     "text": [
      "Train Epoch: 90 [104960/105870 (99%)]\tLoss: 0.307846: 100%|██████████| 828/828 [00:03<00:00, 248.67it/s]\n"
     ]
    },
    {
     "name": "stdout",
     "output_type": "stream",
     "text": [
      "====> Epoch: 90 Average train loss: 0.3288\n",
      "===> Epoch: 90 Average mae test loss for targetcol :3.1609\n",
      "===> Epoch: 90 Average mae test loss for targetcol: 3.0031\n",
      "====> Test set loss: 886.5822\n",
      "====> Epoch: 90 Average test loss: 0.0251\n"
     ]
    },
    {
     "name": "stderr",
     "output_type": "stream",
     "text": [
      "Train Epoch: 91 [104960/105870 (99%)]\tLoss: 0.372578: 100%|██████████| 828/828 [00:03<00:00, 246.42it/s]\n"
     ]
    },
    {
     "name": "stdout",
     "output_type": "stream",
     "text": [
      "====> Epoch: 91 Average train loss: 0.3288\n",
      "===> Epoch: 91 Average mae test loss for targetcol :3.1608\n",
      "===> Epoch: 91 Average mae test loss for targetcol: 3.0636\n",
      "====> Test set loss: 883.3537\n",
      "====> Epoch: 91 Average test loss: 0.0250\n"
     ]
    },
    {
     "name": "stderr",
     "output_type": "stream",
     "text": [
      "Train Epoch: 92 [104960/105870 (99%)]\tLoss: 0.365618: 100%|██████████| 828/828 [00:03<00:00, 241.74it/s]\n"
     ]
    },
    {
     "name": "stdout",
     "output_type": "stream",
     "text": [
      "====> Epoch: 92 Average train loss: 0.3288\n",
      "===> Epoch: 92 Average mae test loss for targetcol :3.1598\n",
      "===> Epoch: 92 Average mae test loss for targetcol: 3.0233\n",
      "====> Test set loss: 885.2049\n",
      "====> Epoch: 92 Average test loss: 0.0251\n"
     ]
    },
    {
     "name": "stderr",
     "output_type": "stream",
     "text": [
      "Train Epoch: 93 [104960/105870 (99%)]\tLoss: 0.306785: 100%|██████████| 828/828 [00:03<00:00, 247.25it/s]\n"
     ]
    },
    {
     "name": "stdout",
     "output_type": "stream",
     "text": [
      "====> Epoch: 93 Average train loss: 0.3288\n",
      "===> Epoch: 93 Average mae test loss for targetcol :3.1606\n",
      "===> Epoch: 93 Average mae test loss for targetcol: 3.0738\n",
      "====> Test set loss: 882.9013\n",
      "====> Epoch: 93 Average test loss: 0.0250\n"
     ]
    },
    {
     "name": "stderr",
     "output_type": "stream",
     "text": [
      "Train Epoch: 94 [104960/105870 (99%)]\tLoss: 0.287897: 100%|██████████| 828/828 [00:03<00:00, 249.24it/s]\n"
     ]
    },
    {
     "name": "stdout",
     "output_type": "stream",
     "text": [
      "====> Epoch: 94 Average train loss: 0.3288\n",
      "===> Epoch: 94 Average mae test loss for targetcol :3.1608\n",
      "===> Epoch: 94 Average mae test loss for targetcol: 3.0346\n",
      "====> Test set loss: 884.3561\n",
      "====> Epoch: 94 Average test loss: 0.0251\n"
     ]
    },
    {
     "name": "stderr",
     "output_type": "stream",
     "text": [
      "Train Epoch: 95 [104960/105870 (99%)]\tLoss: 0.340603: 100%|██████████| 828/828 [00:03<00:00, 251.29it/s]\n"
     ]
    },
    {
     "name": "stdout",
     "output_type": "stream",
     "text": [
      "====> Epoch: 95 Average train loss: 0.3288\n",
      "===> Epoch: 95 Average mae test loss for targetcol :3.1612\n",
      "===> Epoch: 95 Average mae test loss for targetcol: 3.0406\n",
      "====> Test set loss: 884.0753\n",
      "====> Epoch: 95 Average test loss: 0.0251\n"
     ]
    },
    {
     "name": "stderr",
     "output_type": "stream",
     "text": [
      "Train Epoch: 96 [104960/105870 (99%)]\tLoss: 0.276253: 100%|██████████| 828/828 [00:03<00:00, 244.10it/s]\n"
     ]
    },
    {
     "name": "stdout",
     "output_type": "stream",
     "text": [
      "====> Epoch: 96 Average train loss: 0.3288\n",
      "===> Epoch: 96 Average mae test loss for targetcol :3.1609\n",
      "===> Epoch: 96 Average mae test loss for targetcol: 3.0078\n",
      "====> Test set loss: 886.3525\n",
      "====> Epoch: 96 Average test loss: 0.0251\n"
     ]
    },
    {
     "name": "stderr",
     "output_type": "stream",
     "text": [
      "Train Epoch: 97 [104960/105870 (99%)]\tLoss: 0.293711: 100%|██████████| 828/828 [00:03<00:00, 246.22it/s]\n"
     ]
    },
    {
     "name": "stdout",
     "output_type": "stream",
     "text": [
      "====> Epoch: 97 Average train loss: 0.3288\n",
      "===> Epoch: 97 Average mae test loss for targetcol :3.1615\n",
      "===> Epoch: 97 Average mae test loss for targetcol: 3.0478\n",
      "====> Test set loss: 883.9341\n",
      "====> Epoch: 97 Average test loss: 0.0250\n"
     ]
    },
    {
     "name": "stderr",
     "output_type": "stream",
     "text": [
      "Train Epoch: 98 [104960/105870 (99%)]\tLoss: 0.331094: 100%|██████████| 828/828 [00:03<00:00, 245.18it/s]\n"
     ]
    },
    {
     "name": "stdout",
     "output_type": "stream",
     "text": [
      "====> Epoch: 98 Average train loss: 0.3288\n",
      "===> Epoch: 98 Average mae test loss for targetcol :3.1620\n",
      "===> Epoch: 98 Average mae test loss for targetcol: 3.0365\n",
      "====> Test set loss: 884.6313\n",
      "====> Epoch: 98 Average test loss: 0.0251\n"
     ]
    },
    {
     "name": "stderr",
     "output_type": "stream",
     "text": [
      "Train Epoch: 99 [104960/105870 (99%)]\tLoss: 0.343749: 100%|██████████| 828/828 [00:03<00:00, 244.05it/s]\n"
     ]
    },
    {
     "name": "stdout",
     "output_type": "stream",
     "text": [
      "====> Epoch: 99 Average train loss: 0.3288\n",
      "===> Epoch: 99 Average mae test loss for targetcol :3.1621\n",
      "===> Epoch: 99 Average mae test loss for targetcol: 3.0047\n",
      "====> Test set loss: 886.9837\n",
      "====> Epoch: 99 Average test loss: 0.0251\n"
     ]
    },
    {
     "name": "stderr",
     "output_type": "stream",
     "text": [
      "Train Epoch: 100 [104960/105870 (99%)]\tLoss: 0.294374: 100%|██████████| 828/828 [00:03<00:00, 242.95it/s]\n"
     ]
    },
    {
     "name": "stdout",
     "output_type": "stream",
     "text": [
      "====> Epoch: 100 Average train loss: 0.3287\n",
      "===> Epoch: 100 Average mae test loss for targetcol :3.1614\n",
      "===> Epoch: 100 Average mae test loss for targetcol: 3.0691\n",
      "====> Test set loss: 883.4936\n",
      "====> Epoch: 100 Average test loss: 0.0250\n"
     ]
    },
    {
     "name": "stderr",
     "output_type": "stream",
     "text": [
      "Train Epoch: 101 [104960/105870 (99%)]\tLoss: 0.331981: 100%|██████████| 828/828 [00:03<00:00, 245.48it/s]\n"
     ]
    },
    {
     "name": "stdout",
     "output_type": "stream",
     "text": [
      "====> Epoch: 101 Average train loss: 0.3288\n",
      "===> Epoch: 101 Average mae test loss for targetcol :3.1611\n",
      "===> Epoch: 101 Average mae test loss for targetcol: 3.0431\n",
      "====> Test set loss: 883.9341\n",
      "====> Epoch: 101 Average test loss: 0.0250\n"
     ]
    },
    {
     "name": "stderr",
     "output_type": "stream",
     "text": [
      "Train Epoch: 102 [104960/105870 (99%)]\tLoss: 0.282341: 100%|██████████| 828/828 [00:03<00:00, 245.80it/s]\n"
     ]
    },
    {
     "name": "stdout",
     "output_type": "stream",
     "text": [
      "====> Epoch: 102 Average train loss: 0.3288\n",
      "===> Epoch: 102 Average mae test loss for targetcol :3.1595\n",
      "===> Epoch: 102 Average mae test loss for targetcol: 3.0234\n",
      "====> Test set loss: 885.7406\n",
      "====> Epoch: 102 Average test loss: 0.0251\n"
     ]
    },
    {
     "name": "stderr",
     "output_type": "stream",
     "text": [
      "Train Epoch: 103 [104960/105870 (99%)]\tLoss: 0.320255: 100%|██████████| 828/828 [00:03<00:00, 246.92it/s]\n"
     ]
    },
    {
     "name": "stdout",
     "output_type": "stream",
     "text": [
      "====> Epoch: 103 Average train loss: 0.3288\n",
      "===> Epoch: 103 Average mae test loss for targetcol :3.1622\n",
      "===> Epoch: 103 Average mae test loss for targetcol: 3.0194\n",
      "====> Test set loss: 885.5957\n",
      "====> Epoch: 103 Average test loss: 0.0251\n"
     ]
    },
    {
     "name": "stderr",
     "output_type": "stream",
     "text": [
      "Train Epoch: 104 [104960/105870 (99%)]\tLoss: 0.316757: 100%|██████████| 828/828 [00:03<00:00, 249.25it/s]\n"
     ]
    },
    {
     "name": "stdout",
     "output_type": "stream",
     "text": [
      "====> Epoch: 104 Average train loss: 0.3288\n",
      "===> Epoch: 104 Average mae test loss for targetcol :3.1615\n",
      "===> Epoch: 104 Average mae test loss for targetcol: 3.0308\n",
      "====> Test set loss: 884.6644\n",
      "====> Epoch: 104 Average test loss: 0.0251\n"
     ]
    },
    {
     "name": "stderr",
     "output_type": "stream",
     "text": [
      "Train Epoch: 105 [104960/105870 (99%)]\tLoss: 0.397599: 100%|██████████| 828/828 [00:03<00:00, 242.30it/s]\n"
     ]
    },
    {
     "name": "stdout",
     "output_type": "stream",
     "text": [
      "====> Epoch: 105 Average train loss: 0.3288\n",
      "===> Epoch: 105 Average mae test loss for targetcol :3.1598\n",
      "===> Epoch: 105 Average mae test loss for targetcol: 3.0329\n",
      "====> Test set loss: 884.7699\n",
      "====> Epoch: 105 Average test loss: 0.0251\n"
     ]
    },
    {
     "name": "stderr",
     "output_type": "stream",
     "text": [
      "Train Epoch: 106 [104960/105870 (99%)]\tLoss: 0.299688: 100%|██████████| 828/828 [00:03<00:00, 249.38it/s]\n"
     ]
    },
    {
     "name": "stdout",
     "output_type": "stream",
     "text": [
      "====> Epoch: 106 Average train loss: 0.3288\n",
      "===> Epoch: 106 Average mae test loss for targetcol :3.1605\n",
      "===> Epoch: 106 Average mae test loss for targetcol: 3.0200\n",
      "====> Test set loss: 885.5627\n",
      "====> Epoch: 106 Average test loss: 0.0251\n"
     ]
    },
    {
     "name": "stderr",
     "output_type": "stream",
     "text": [
      "Train Epoch: 107 [104960/105870 (99%)]\tLoss: 0.291632: 100%|██████████| 828/828 [00:03<00:00, 249.37it/s]\n"
     ]
    },
    {
     "name": "stdout",
     "output_type": "stream",
     "text": [
      "====> Epoch: 107 Average train loss: 0.3288\n",
      "===> Epoch: 107 Average mae test loss for targetcol :3.1593\n",
      "===> Epoch: 107 Average mae test loss for targetcol: 3.0440\n",
      "====> Test set loss: 884.5634\n",
      "====> Epoch: 107 Average test loss: 0.0251\n"
     ]
    },
    {
     "name": "stderr",
     "output_type": "stream",
     "text": [
      "Train Epoch: 108 [104960/105870 (99%)]\tLoss: 0.343989: 100%|██████████| 828/828 [00:03<00:00, 252.02it/s]\n"
     ]
    },
    {
     "name": "stdout",
     "output_type": "stream",
     "text": [
      "====> Epoch: 108 Average train loss: 0.3288\n",
      "===> Epoch: 108 Average mae test loss for targetcol :3.1601\n",
      "===> Epoch: 108 Average mae test loss for targetcol: 3.0446\n",
      "====> Test set loss: 883.9273\n",
      "====> Epoch: 108 Average test loss: 0.0250\n"
     ]
    },
    {
     "name": "stderr",
     "output_type": "stream",
     "text": [
      "Train Epoch: 109 [104960/105870 (99%)]\tLoss: 0.337116: 100%|██████████| 828/828 [00:03<00:00, 250.54it/s]\n"
     ]
    },
    {
     "name": "stdout",
     "output_type": "stream",
     "text": [
      "====> Epoch: 109 Average train loss: 0.3288\n",
      "===> Epoch: 109 Average mae test loss for targetcol :3.1601\n",
      "===> Epoch: 109 Average mae test loss for targetcol: 3.0587\n",
      "====> Test set loss: 883.8969\n",
      "====> Epoch: 109 Average test loss: 0.0250\n"
     ]
    },
    {
     "name": "stderr",
     "output_type": "stream",
     "text": [
      "Train Epoch: 110 [104960/105870 (99%)]\tLoss: 0.310217: 100%|██████████| 828/828 [00:03<00:00, 249.40it/s]\n"
     ]
    },
    {
     "name": "stdout",
     "output_type": "stream",
     "text": [
      "====> Epoch: 110 Average train loss: 0.3288\n",
      "===> Epoch: 110 Average mae test loss for targetcol :3.1617\n",
      "===> Epoch: 110 Average mae test loss for targetcol: 3.0335\n",
      "====> Test set loss: 884.6573\n",
      "====> Epoch: 110 Average test loss: 0.0251\n"
     ]
    },
    {
     "name": "stderr",
     "output_type": "stream",
     "text": [
      "Train Epoch: 111 [104960/105870 (99%)]\tLoss: 0.326734: 100%|██████████| 828/828 [00:03<00:00, 252.10it/s]\n"
     ]
    },
    {
     "name": "stdout",
     "output_type": "stream",
     "text": [
      "====> Epoch: 111 Average train loss: 0.3288\n",
      "===> Epoch: 111 Average mae test loss for targetcol :3.1606\n",
      "===> Epoch: 111 Average mae test loss for targetcol: 2.9861\n",
      "====> Test set loss: 888.2121\n",
      "====> Epoch: 111 Average test loss: 0.0252\n"
     ]
    },
    {
     "name": "stderr",
     "output_type": "stream",
     "text": [
      "Train Epoch: 112 [104960/105870 (99%)]\tLoss: 0.324423: 100%|██████████| 828/828 [00:03<00:00, 251.25it/s]\n"
     ]
    },
    {
     "name": "stdout",
     "output_type": "stream",
     "text": [
      "====> Epoch: 112 Average train loss: 0.3288\n",
      "===> Epoch: 112 Average mae test loss for targetcol :3.1624\n",
      "===> Epoch: 112 Average mae test loss for targetcol: 3.0050\n",
      "====> Test set loss: 886.4200\n",
      "====> Epoch: 112 Average test loss: 0.0251\n"
     ]
    },
    {
     "name": "stderr",
     "output_type": "stream",
     "text": [
      "Train Epoch: 113 [104960/105870 (99%)]\tLoss: 0.310400: 100%|██████████| 828/828 [00:03<00:00, 248.06it/s]\n"
     ]
    },
    {
     "name": "stdout",
     "output_type": "stream",
     "text": [
      "====> Epoch: 113 Average train loss: 0.3288\n",
      "===> Epoch: 113 Average mae test loss for targetcol :3.1616\n",
      "===> Epoch: 113 Average mae test loss for targetcol: 3.0173\n",
      "====> Test set loss: 885.5739\n",
      "====> Epoch: 113 Average test loss: 0.0251\n"
     ]
    },
    {
     "name": "stderr",
     "output_type": "stream",
     "text": [
      "Train Epoch: 114 [104960/105870 (99%)]\tLoss: 0.332073: 100%|██████████| 828/828 [00:03<00:00, 253.77it/s]\n"
     ]
    },
    {
     "name": "stdout",
     "output_type": "stream",
     "text": [
      "====> Epoch: 114 Average train loss: 0.3288\n",
      "===> Epoch: 114 Average mae test loss for targetcol :3.1619\n",
      "===> Epoch: 114 Average mae test loss for targetcol: 3.0526\n",
      "====> Test set loss: 883.8149\n",
      "====> Epoch: 114 Average test loss: 0.0250\n"
     ]
    },
    {
     "name": "stderr",
     "output_type": "stream",
     "text": [
      "Train Epoch: 115 [104960/105870 (99%)]\tLoss: 0.309130: 100%|██████████| 828/828 [00:03<00:00, 229.00it/s]\n"
     ]
    },
    {
     "name": "stdout",
     "output_type": "stream",
     "text": [
      "====> Epoch: 115 Average train loss: 0.3288\n",
      "===> Epoch: 115 Average mae test loss for targetcol :3.1597\n",
      "===> Epoch: 115 Average mae test loss for targetcol: 3.0543\n",
      "====> Test set loss: 883.5963\n",
      "====> Epoch: 115 Average test loss: 0.0250\n"
     ]
    },
    {
     "name": "stderr",
     "output_type": "stream",
     "text": [
      "Train Epoch: 116 [104960/105870 (99%)]\tLoss: 0.342199: 100%|██████████| 828/828 [00:03<00:00, 258.28it/s]\n"
     ]
    },
    {
     "name": "stdout",
     "output_type": "stream",
     "text": [
      "====> Epoch: 116 Average train loss: 0.3288\n",
      "===> Epoch: 116 Average mae test loss for targetcol :3.1615\n",
      "===> Epoch: 116 Average mae test loss for targetcol: 2.9905\n",
      "====> Test set loss: 887.6574\n",
      "====> Epoch: 116 Average test loss: 0.0252\n"
     ]
    },
    {
     "name": "stderr",
     "output_type": "stream",
     "text": [
      "Train Epoch: 117 [104960/105870 (99%)]\tLoss: 0.330815: 100%|██████████| 828/828 [00:03<00:00, 258.27it/s]\n"
     ]
    },
    {
     "name": "stdout",
     "output_type": "stream",
     "text": [
      "====> Epoch: 117 Average train loss: 0.3288\n",
      "===> Epoch: 117 Average mae test loss for targetcol :3.1618\n",
      "===> Epoch: 117 Average mae test loss for targetcol: 3.0517\n",
      "====> Test set loss: 883.5562\n",
      "====> Epoch: 117 Average test loss: 0.0250\n"
     ]
    },
    {
     "name": "stderr",
     "output_type": "stream",
     "text": [
      "Train Epoch: 118 [104960/105870 (99%)]\tLoss: 0.402669: 100%|██████████| 828/828 [00:03<00:00, 255.45it/s]\n"
     ]
    },
    {
     "name": "stdout",
     "output_type": "stream",
     "text": [
      "====> Epoch: 118 Average train loss: 0.3288\n",
      "===> Epoch: 118 Average mae test loss for targetcol :3.1611\n",
      "===> Epoch: 118 Average mae test loss for targetcol: 3.0236\n",
      "====> Test set loss: 885.2509\n",
      "====> Epoch: 118 Average test loss: 0.0251\n"
     ]
    },
    {
     "name": "stderr",
     "output_type": "stream",
     "text": [
      "Train Epoch: 119 [104960/105870 (99%)]\tLoss: 0.400742: 100%|██████████| 828/828 [00:03<00:00, 257.36it/s]\n"
     ]
    },
    {
     "name": "stdout",
     "output_type": "stream",
     "text": [
      "====> Epoch: 119 Average train loss: 0.3288\n",
      "===> Epoch: 119 Average mae test loss for targetcol :3.1601\n",
      "===> Epoch: 119 Average mae test loss for targetcol: 3.0263\n",
      "====> Test set loss: 885.0524\n",
      "====> Epoch: 119 Average test loss: 0.0251\n"
     ]
    },
    {
     "name": "stderr",
     "output_type": "stream",
     "text": [
      "Train Epoch: 120 [104960/105870 (99%)]\tLoss: 0.291046: 100%|██████████| 828/828 [00:03<00:00, 253.57it/s]\n"
     ]
    },
    {
     "name": "stdout",
     "output_type": "stream",
     "text": [
      "====> Epoch: 120 Average train loss: 0.3288\n",
      "===> Epoch: 120 Average mae test loss for targetcol :3.1605\n",
      "===> Epoch: 120 Average mae test loss for targetcol: 3.0243\n",
      "====> Test set loss: 885.4543\n",
      "====> Epoch: 120 Average test loss: 0.0251\n"
     ]
    },
    {
     "name": "stderr",
     "output_type": "stream",
     "text": [
      "Train Epoch: 121 [104960/105870 (99%)]\tLoss: 0.338805: 100%|██████████| 828/828 [00:03<00:00, 254.76it/s]\n"
     ]
    },
    {
     "name": "stdout",
     "output_type": "stream",
     "text": [
      "====> Epoch: 121 Average train loss: 0.3288\n",
      "===> Epoch: 121 Average mae test loss for targetcol :3.1617\n",
      "===> Epoch: 121 Average mae test loss for targetcol: 3.0306\n",
      "====> Test set loss: 884.7908\n",
      "====> Epoch: 121 Average test loss: 0.0251\n"
     ]
    },
    {
     "name": "stderr",
     "output_type": "stream",
     "text": [
      "Train Epoch: 122 [104960/105870 (99%)]\tLoss: 0.319035: 100%|██████████| 828/828 [00:03<00:00, 255.99it/s]\n"
     ]
    },
    {
     "name": "stdout",
     "output_type": "stream",
     "text": [
      "====> Epoch: 122 Average train loss: 0.3288\n",
      "===> Epoch: 122 Average mae test loss for targetcol :3.1610\n",
      "===> Epoch: 122 Average mae test loss for targetcol: 3.0411\n",
      "====> Test set loss: 884.3800\n",
      "====> Epoch: 122 Average test loss: 0.0251\n"
     ]
    },
    {
     "name": "stderr",
     "output_type": "stream",
     "text": [
      "Train Epoch: 123 [104960/105870 (99%)]\tLoss: 0.353375: 100%|██████████| 828/828 [00:03<00:00, 258.79it/s]\n"
     ]
    },
    {
     "name": "stdout",
     "output_type": "stream",
     "text": [
      "====> Epoch: 123 Average train loss: 0.3288\n",
      "===> Epoch: 123 Average mae test loss for targetcol :3.1606\n",
      "===> Epoch: 123 Average mae test loss for targetcol: 2.9920\n",
      "====> Test set loss: 887.5336\n",
      "====> Epoch: 123 Average test loss: 0.0251\n"
     ]
    },
    {
     "name": "stderr",
     "output_type": "stream",
     "text": [
      "Train Epoch: 124 [104960/105870 (99%)]\tLoss: 0.308966: 100%|██████████| 828/828 [00:03<00:00, 253.32it/s]\n"
     ]
    },
    {
     "name": "stdout",
     "output_type": "stream",
     "text": [
      "====> Epoch: 124 Average train loss: 0.3288\n",
      "===> Epoch: 124 Average mae test loss for targetcol :3.1619\n",
      "===> Epoch: 124 Average mae test loss for targetcol: 3.0050\n",
      "====> Test set loss: 886.5313\n",
      "====> Epoch: 124 Average test loss: 0.0251\n"
     ]
    },
    {
     "name": "stderr",
     "output_type": "stream",
     "text": [
      "Train Epoch: 125 [104960/105870 (99%)]\tLoss: 0.264970: 100%|██████████| 828/828 [00:03<00:00, 256.31it/s]\n"
     ]
    },
    {
     "name": "stdout",
     "output_type": "stream",
     "text": [
      "====> Epoch: 125 Average train loss: 0.3288\n",
      "===> Epoch: 125 Average mae test loss for targetcol :3.1600\n",
      "===> Epoch: 125 Average mae test loss for targetcol: 3.0245\n",
      "====> Test set loss: 885.1918\n",
      "====> Epoch: 125 Average test loss: 0.0251\n"
     ]
    },
    {
     "name": "stderr",
     "output_type": "stream",
     "text": [
      "Train Epoch: 126 [104960/105870 (99%)]\tLoss: 0.289565: 100%|██████████| 828/828 [00:03<00:00, 254.43it/s]\n"
     ]
    },
    {
     "name": "stdout",
     "output_type": "stream",
     "text": [
      "====> Epoch: 126 Average train loss: 0.3288\n",
      "===> Epoch: 126 Average mae test loss for targetcol :3.1610\n",
      "===> Epoch: 126 Average mae test loss for targetcol: 3.0481\n",
      "====> Test set loss: 883.6264\n",
      "====> Epoch: 126 Average test loss: 0.0250\n"
     ]
    },
    {
     "name": "stderr",
     "output_type": "stream",
     "text": [
      "Train Epoch: 127 [104960/105870 (99%)]\tLoss: 0.340206: 100%|██████████| 828/828 [00:03<00:00, 251.11it/s]\n"
     ]
    },
    {
     "name": "stdout",
     "output_type": "stream",
     "text": [
      "====> Epoch: 127 Average train loss: 0.3288\n",
      "===> Epoch: 127 Average mae test loss for targetcol :3.1600\n",
      "===> Epoch: 127 Average mae test loss for targetcol: 2.9964\n",
      "====> Test set loss: 887.2284\n",
      "====> Epoch: 127 Average test loss: 0.0251\n"
     ]
    },
    {
     "name": "stderr",
     "output_type": "stream",
     "text": [
      "Train Epoch: 128 [104960/105870 (99%)]\tLoss: 0.330374: 100%|██████████| 828/828 [00:03<00:00, 253.76it/s]\n"
     ]
    },
    {
     "name": "stdout",
     "output_type": "stream",
     "text": [
      "====> Epoch: 128 Average train loss: 0.3288\n",
      "===> Epoch: 128 Average mae test loss for targetcol :3.1605\n",
      "===> Epoch: 128 Average mae test loss for targetcol: 2.9958\n",
      "====> Test set loss: 887.2888\n",
      "====> Epoch: 128 Average test loss: 0.0251\n"
     ]
    },
    {
     "name": "stderr",
     "output_type": "stream",
     "text": [
      "Train Epoch: 129 [104960/105870 (99%)]\tLoss: 0.280695: 100%|██████████| 828/828 [00:03<00:00, 249.31it/s]\n"
     ]
    },
    {
     "name": "stdout",
     "output_type": "stream",
     "text": [
      "====> Epoch: 129 Average train loss: 0.3288\n",
      "===> Epoch: 129 Average mae test loss for targetcol :3.1615\n",
      "===> Epoch: 129 Average mae test loss for targetcol: 3.0061\n",
      "====> Test set loss: 886.3644\n",
      "====> Epoch: 129 Average test loss: 0.0251\n"
     ]
    },
    {
     "name": "stderr",
     "output_type": "stream",
     "text": [
      "Train Epoch: 130 [104960/105870 (99%)]\tLoss: 0.269491: 100%|██████████| 828/828 [00:03<00:00, 252.63it/s]\n"
     ]
    },
    {
     "name": "stdout",
     "output_type": "stream",
     "text": [
      "====> Epoch: 130 Average train loss: 0.3288\n",
      "===> Epoch: 130 Average mae test loss for targetcol :3.1620\n",
      "===> Epoch: 130 Average mae test loss for targetcol: 3.0284\n",
      "====> Test set loss: 884.8777\n",
      "====> Epoch: 130 Average test loss: 0.0251\n"
     ]
    },
    {
     "name": "stderr",
     "output_type": "stream",
     "text": [
      "Train Epoch: 131 [104960/105870 (99%)]\tLoss: 0.317596: 100%|██████████| 828/828 [00:03<00:00, 250.16it/s]\n"
     ]
    },
    {
     "name": "stdout",
     "output_type": "stream",
     "text": [
      "====> Epoch: 131 Average train loss: 0.3288\n",
      "===> Epoch: 131 Average mae test loss for targetcol :3.1600\n",
      "===> Epoch: 131 Average mae test loss for targetcol: 2.9781\n",
      "====> Test set loss: 889.2620\n",
      "====> Epoch: 131 Average test loss: 0.0252\n"
     ]
    },
    {
     "name": "stderr",
     "output_type": "stream",
     "text": [
      "Train Epoch: 132 [104960/105870 (99%)]\tLoss: 0.342094: 100%|██████████| 828/828 [00:03<00:00, 252.16it/s]\n"
     ]
    },
    {
     "name": "stdout",
     "output_type": "stream",
     "text": [
      "====> Epoch: 132 Average train loss: 0.3288\n",
      "===> Epoch: 132 Average mae test loss for targetcol :3.1607\n",
      "===> Epoch: 132 Average mae test loss for targetcol: 3.0051\n",
      "====> Test set loss: 886.4333\n",
      "====> Epoch: 132 Average test loss: 0.0251\n"
     ]
    },
    {
     "name": "stderr",
     "output_type": "stream",
     "text": [
      "Train Epoch: 133 [104960/105870 (99%)]\tLoss: 0.404251: 100%|██████████| 828/828 [00:03<00:00, 248.92it/s]\n"
     ]
    },
    {
     "name": "stdout",
     "output_type": "stream",
     "text": [
      "====> Epoch: 133 Average train loss: 0.3288\n",
      "===> Epoch: 133 Average mae test loss for targetcol :3.1609\n",
      "===> Epoch: 133 Average mae test loss for targetcol: 2.9831\n",
      "====> Test set loss: 888.5456\n",
      "====> Epoch: 133 Average test loss: 0.0252\n"
     ]
    },
    {
     "name": "stderr",
     "output_type": "stream",
     "text": [
      "Train Epoch: 134 [104960/105870 (99%)]\tLoss: 0.302716: 100%|██████████| 828/828 [00:03<00:00, 250.95it/s]\n"
     ]
    },
    {
     "name": "stdout",
     "output_type": "stream",
     "text": [
      "====> Epoch: 134 Average train loss: 0.3288\n",
      "===> Epoch: 134 Average mae test loss for targetcol :3.1606\n",
      "===> Epoch: 134 Average mae test loss for targetcol: 2.9747\n",
      "====> Test set loss: 889.8134\n",
      "====> Epoch: 134 Average test loss: 0.0252\n"
     ]
    },
    {
     "name": "stderr",
     "output_type": "stream",
     "text": [
      "Train Epoch: 135 [104960/105870 (99%)]\tLoss: 0.320374: 100%|██████████| 828/828 [00:03<00:00, 249.69it/s]\n"
     ]
    },
    {
     "name": "stdout",
     "output_type": "stream",
     "text": [
      "====> Epoch: 135 Average train loss: 0.3288\n",
      "===> Epoch: 135 Average mae test loss for targetcol :3.1639\n",
      "===> Epoch: 135 Average mae test loss for targetcol: 3.0032\n",
      "====> Test set loss: 886.6581\n",
      "====> Epoch: 135 Average test loss: 0.0251\n"
     ]
    },
    {
     "name": "stderr",
     "output_type": "stream",
     "text": [
      "Train Epoch: 136 [104960/105870 (99%)]\tLoss: 0.309334: 100%|██████████| 828/828 [00:03<00:00, 250.93it/s]\n"
     ]
    },
    {
     "name": "stdout",
     "output_type": "stream",
     "text": [
      "====> Epoch: 136 Average train loss: 0.3288\n",
      "===> Epoch: 136 Average mae test loss for targetcol :3.1609\n",
      "===> Epoch: 136 Average mae test loss for targetcol: 2.9993\n",
      "====> Test set loss: 886.9333\n",
      "====> Epoch: 136 Average test loss: 0.0251\n"
     ]
    },
    {
     "name": "stderr",
     "output_type": "stream",
     "text": [
      "Train Epoch: 137 [104960/105870 (99%)]\tLoss: 0.345152: 100%|██████████| 828/828 [00:03<00:00, 250.97it/s]\n"
     ]
    },
    {
     "name": "stdout",
     "output_type": "stream",
     "text": [
      "====> Epoch: 137 Average train loss: 0.3288\n",
      "===> Epoch: 137 Average mae test loss for targetcol :3.1602\n",
      "===> Epoch: 137 Average mae test loss for targetcol: 3.0251\n",
      "====> Test set loss: 884.9751\n",
      "====> Epoch: 137 Average test loss: 0.0251\n"
     ]
    },
    {
     "name": "stderr",
     "output_type": "stream",
     "text": [
      "Train Epoch: 138 [104960/105870 (99%)]\tLoss: 0.357680: 100%|██████████| 828/828 [00:03<00:00, 247.49it/s]\n"
     ]
    },
    {
     "name": "stdout",
     "output_type": "stream",
     "text": [
      "====> Epoch: 138 Average train loss: 0.3287\n",
      "===> Epoch: 138 Average mae test loss for targetcol :3.1603\n",
      "===> Epoch: 138 Average mae test loss for targetcol: 2.9983\n",
      "====> Test set loss: 886.9276\n",
      "====> Epoch: 138 Average test loss: 0.0251\n"
     ]
    },
    {
     "name": "stderr",
     "output_type": "stream",
     "text": [
      "Train Epoch: 139 [104960/105870 (99%)]\tLoss: 0.289801: 100%|██████████| 828/828 [00:03<00:00, 249.79it/s]\n"
     ]
    },
    {
     "name": "stdout",
     "output_type": "stream",
     "text": [
      "====> Epoch: 139 Average train loss: 0.3288\n",
      "===> Epoch: 139 Average mae test loss for targetcol :3.1620\n",
      "===> Epoch: 139 Average mae test loss for targetcol: 3.0478\n",
      "====> Test set loss: 883.8573\n",
      "====> Epoch: 139 Average test loss: 0.0250\n"
     ]
    },
    {
     "name": "stderr",
     "output_type": "stream",
     "text": [
      "Train Epoch: 140 [104960/105870 (99%)]\tLoss: 0.327752: 100%|██████████| 828/828 [00:03<00:00, 246.92it/s]\n"
     ]
    },
    {
     "name": "stdout",
     "output_type": "stream",
     "text": [
      "====> Epoch: 140 Average train loss: 0.3288\n",
      "===> Epoch: 140 Average mae test loss for targetcol :3.1600\n",
      "===> Epoch: 140 Average mae test loss for targetcol: 2.9854\n",
      "====> Test set loss: 888.8265\n",
      "====> Epoch: 140 Average test loss: 0.0252\n"
     ]
    },
    {
     "name": "stderr",
     "output_type": "stream",
     "text": [
      "Train Epoch: 141 [104960/105870 (99%)]\tLoss: 0.297422: 100%|██████████| 828/828 [00:03<00:00, 253.13it/s]\n"
     ]
    },
    {
     "name": "stdout",
     "output_type": "stream",
     "text": [
      "====> Epoch: 141 Average train loss: 0.3288\n",
      "===> Epoch: 141 Average mae test loss for targetcol :3.1597\n",
      "===> Epoch: 141 Average mae test loss for targetcol: 3.0248\n",
      "====> Test set loss: 885.0757\n",
      "====> Epoch: 141 Average test loss: 0.0251\n"
     ]
    },
    {
     "name": "stderr",
     "output_type": "stream",
     "text": [
      "Train Epoch: 142 [104960/105870 (99%)]\tLoss: 0.326286: 100%|██████████| 828/828 [00:03<00:00, 253.31it/s]\n"
     ]
    },
    {
     "name": "stdout",
     "output_type": "stream",
     "text": [
      "====> Epoch: 142 Average train loss: 0.3288\n",
      "===> Epoch: 142 Average mae test loss for targetcol :3.1601\n",
      "===> Epoch: 142 Average mae test loss for targetcol: 3.0061\n",
      "====> Test set loss: 886.4276\n",
      "====> Epoch: 142 Average test loss: 0.0251\n"
     ]
    },
    {
     "name": "stderr",
     "output_type": "stream",
     "text": [
      "Train Epoch: 143 [104960/105870 (99%)]\tLoss: 0.336817: 100%|██████████| 828/828 [00:03<00:00, 251.87it/s]\n"
     ]
    },
    {
     "name": "stdout",
     "output_type": "stream",
     "text": [
      "====> Epoch: 143 Average train loss: 0.3288\n",
      "===> Epoch: 143 Average mae test loss for targetcol :3.1610\n",
      "===> Epoch: 143 Average mae test loss for targetcol: 2.9822\n",
      "====> Test set loss: 888.5312\n",
      "====> Epoch: 143 Average test loss: 0.0252\n"
     ]
    },
    {
     "name": "stderr",
     "output_type": "stream",
     "text": [
      "Train Epoch: 144 [104960/105870 (99%)]\tLoss: 0.394962: 100%|██████████| 828/828 [00:03<00:00, 247.42it/s]\n"
     ]
    },
    {
     "name": "stdout",
     "output_type": "stream",
     "text": [
      "====> Epoch: 144 Average train loss: 0.3288\n",
      "===> Epoch: 144 Average mae test loss for targetcol :3.1606\n",
      "===> Epoch: 144 Average mae test loss for targetcol: 3.0258\n",
      "====> Test set loss: 884.9842\n",
      "====> Epoch: 144 Average test loss: 0.0251\n"
     ]
    },
    {
     "name": "stderr",
     "output_type": "stream",
     "text": [
      "Train Epoch: 145 [104960/105870 (99%)]\tLoss: 0.355438: 100%|██████████| 828/828 [00:03<00:00, 242.68it/s]\n"
     ]
    },
    {
     "name": "stdout",
     "output_type": "stream",
     "text": [
      "====> Epoch: 145 Average train loss: 0.3288\n",
      "===> Epoch: 145 Average mae test loss for targetcol :3.1601\n",
      "===> Epoch: 145 Average mae test loss for targetcol: 3.0232\n",
      "====> Test set loss: 885.1855\n",
      "====> Epoch: 145 Average test loss: 0.0251\n"
     ]
    },
    {
     "name": "stderr",
     "output_type": "stream",
     "text": [
      "Train Epoch: 146 [104960/105870 (99%)]\tLoss: 0.292785: 100%|██████████| 828/828 [00:03<00:00, 241.87it/s]\n"
     ]
    },
    {
     "name": "stdout",
     "output_type": "stream",
     "text": [
      "====> Epoch: 146 Average train loss: 0.3288\n",
      "===> Epoch: 146 Average mae test loss for targetcol :3.1608\n",
      "===> Epoch: 146 Average mae test loss for targetcol: 2.9729\n",
      "====> Test set loss: 889.8079\n",
      "====> Epoch: 146 Average test loss: 0.0252\n"
     ]
    },
    {
     "name": "stderr",
     "output_type": "stream",
     "text": [
      "Train Epoch: 147 [104960/105870 (99%)]\tLoss: 0.382152: 100%|██████████| 828/828 [00:03<00:00, 248.09it/s]\n"
     ]
    },
    {
     "name": "stdout",
     "output_type": "stream",
     "text": [
      "====> Epoch: 147 Average train loss: 0.3288\n",
      "===> Epoch: 147 Average mae test loss for targetcol :3.1599\n",
      "===> Epoch: 147 Average mae test loss for targetcol: 3.0151\n",
      "====> Test set loss: 885.7858\n",
      "====> Epoch: 147 Average test loss: 0.0251\n"
     ]
    },
    {
     "name": "stderr",
     "output_type": "stream",
     "text": [
      "Train Epoch: 148 [104960/105870 (99%)]\tLoss: 0.267569: 100%|██████████| 828/828 [00:03<00:00, 246.50it/s]\n"
     ]
    },
    {
     "name": "stdout",
     "output_type": "stream",
     "text": [
      "====> Epoch: 148 Average train loss: 0.3288\n",
      "===> Epoch: 148 Average mae test loss for targetcol :3.1601\n",
      "===> Epoch: 148 Average mae test loss for targetcol: 3.0505\n",
      "====> Test set loss: 884.0857\n",
      "====> Epoch: 148 Average test loss: 0.0251\n"
     ]
    },
    {
     "name": "stderr",
     "output_type": "stream",
     "text": [
      "Train Epoch: 149 [104960/105870 (99%)]\tLoss: 0.339049: 100%|██████████| 828/828 [00:03<00:00, 243.71it/s]\n"
     ]
    },
    {
     "name": "stdout",
     "output_type": "stream",
     "text": [
      "====> Epoch: 149 Average train loss: 0.3288\n",
      "===> Epoch: 149 Average mae test loss for targetcol :3.1599\n"
     ]
    },
    {
     "name": "stderr",
     "output_type": "stream",
     "text": [
      "[I 2025-05-15 11:36:49,502] Trial 0 finished with value: 0.025029263757530798 and parameters: {'batch_size': 128, 'learning_rate': 0.0011331350266094303, 'lambda': 0.9248289079673979}. Best is trial 0 with value: 0.025029263757530798.\n"
     ]
    },
    {
     "name": "stdout",
     "output_type": "stream",
     "text": [
      "===> Epoch: 149 Average mae test loss for targetcol: 3.0676\n",
      "====> Test set loss: 883.2827\n",
      "====> Epoch: 149 Average test loss: 0.0250\n",
      "🏃 View run able-lark-418 at: http://localhost:5000/#/experiments/4/runs/5ad5cbb32f9f4b3b9e0f6394c4d6a301\n",
      "🧪 View experiment at: http://localhost:5000/#/experiments/4\n"
     ]
    },
    {
     "name": "stderr",
     "output_type": "stream",
     "text": [
      "Train Epoch: 0 [104960/105870 (99%)]\tLoss: 1.022497: 100%|██████████| 828/828 [00:03<00:00, 243.03it/s]\n"
     ]
    },
    {
     "name": "stdout",
     "output_type": "stream",
     "text": [
      "====> Epoch: 0 Average train loss: 1.2396\n",
      "===> Epoch: 0 Average mae test loss for targetcol :3.2723\n",
      "===> Epoch: 0 Average mae test loss for targetcol: 2.9990\n",
      "====> Test set loss: 8916.3346\n",
      "====> Epoch: 0 Average test loss: 0.2527\n"
     ]
    },
    {
     "name": "stderr",
     "output_type": "stream",
     "text": [
      "Train Epoch: 1 [104960/105870 (99%)]\tLoss: 1.202552: 100%|██████████| 828/828 [00:03<00:00, 249.16it/s]\n"
     ]
    },
    {
     "name": "stdout",
     "output_type": "stream",
     "text": [
      "====> Epoch: 1 Average train loss: 1.1638\n",
      "===> Epoch: 1 Average mae test loss for targetcol :3.1312\n",
      "===> Epoch: 1 Average mae test loss for targetcol: 2.9994\n",
      "====> Test set loss: 9868.6915\n",
      "====> Epoch: 1 Average test loss: 0.2796\n"
     ]
    },
    {
     "name": "stderr",
     "output_type": "stream",
     "text": [
      "Train Epoch: 2 [104960/105870 (99%)]\tLoss: 1.061217: 100%|██████████| 828/828 [00:03<00:00, 249.55it/s]\n"
     ]
    },
    {
     "name": "stdout",
     "output_type": "stream",
     "text": [
      "====> Epoch: 2 Average train loss: 1.1643\n",
      "===> Epoch: 2 Average mae test loss for targetcol :3.1152\n",
      "===> Epoch: 2 Average mae test loss for targetcol: 2.9255\n",
      "====> Test set loss: 8668.4981\n",
      "====> Epoch: 2 Average test loss: 0.2456\n"
     ]
    },
    {
     "name": "stderr",
     "output_type": "stream",
     "text": [
      "Train Epoch: 3 [104960/105870 (99%)]\tLoss: 1.234229: 100%|██████████| 828/828 [00:03<00:00, 249.05it/s]\n"
     ]
    },
    {
     "name": "stdout",
     "output_type": "stream",
     "text": [
      "====> Epoch: 3 Average train loss: 1.1584\n",
      "===> Epoch: 3 Average mae test loss for targetcol :3.1077\n",
      "===> Epoch: 3 Average mae test loss for targetcol: 3.1144\n",
      "====> Test set loss: 9915.3276\n",
      "====> Epoch: 3 Average test loss: 0.2810\n"
     ]
    },
    {
     "name": "stderr",
     "output_type": "stream",
     "text": [
      "Train Epoch: 4 [104960/105870 (99%)]\tLoss: 1.088360: 100%|██████████| 828/828 [00:03<00:00, 247.55it/s]\n"
     ]
    },
    {
     "name": "stdout",
     "output_type": "stream",
     "text": [
      "====> Epoch: 4 Average train loss: 1.1587\n",
      "===> Epoch: 4 Average mae test loss for targetcol :3.1092\n",
      "===> Epoch: 4 Average mae test loss for targetcol: 2.8935\n",
      "====> Test set loss: 9276.4692\n",
      "====> Epoch: 4 Average test loss: 0.2629\n"
     ]
    },
    {
     "name": "stderr",
     "output_type": "stream",
     "text": [
      "Train Epoch: 5 [104960/105870 (99%)]\tLoss: 1.038167: 100%|██████████| 828/828 [00:03<00:00, 241.04it/s]\n"
     ]
    },
    {
     "name": "stdout",
     "output_type": "stream",
     "text": [
      "====> Epoch: 5 Average train loss: 1.1568\n",
      "===> Epoch: 5 Average mae test loss for targetcol :3.1087\n",
      "===> Epoch: 5 Average mae test loss for targetcol: 3.0368\n",
      "====> Test set loss: 8749.5517\n",
      "====> Epoch: 5 Average test loss: 0.2479\n"
     ]
    },
    {
     "name": "stderr",
     "output_type": "stream",
     "text": [
      "Train Epoch: 6 [104960/105870 (99%)]\tLoss: 1.252604: 100%|██████████| 828/828 [00:03<00:00, 246.96it/s]\n"
     ]
    },
    {
     "name": "stdout",
     "output_type": "stream",
     "text": [
      "====> Epoch: 6 Average train loss: 1.1534\n",
      "===> Epoch: 6 Average mae test loss for targetcol :3.1007\n",
      "===> Epoch: 6 Average mae test loss for targetcol: 3.0006\n",
      "====> Test set loss: 8193.5432\n",
      "====> Epoch: 6 Average test loss: 0.2322\n"
     ]
    },
    {
     "name": "stderr",
     "output_type": "stream",
     "text": [
      "Train Epoch: 7 [104960/105870 (99%)]\tLoss: 1.112623: 100%|██████████| 828/828 [00:03<00:00, 250.92it/s]\n"
     ]
    },
    {
     "name": "stdout",
     "output_type": "stream",
     "text": [
      "====> Epoch: 7 Average train loss: 1.1535\n",
      "===> Epoch: 7 Average mae test loss for targetcol :3.0961\n",
      "===> Epoch: 7 Average mae test loss for targetcol: 3.0174\n",
      "====> Test set loss: 8141.3796\n",
      "====> Epoch: 7 Average test loss: 0.2307\n"
     ]
    },
    {
     "name": "stderr",
     "output_type": "stream",
     "text": [
      "Train Epoch: 8 [104960/105870 (99%)]\tLoss: 1.195235: 100%|██████████| 828/828 [00:03<00:00, 253.23it/s]\n"
     ]
    },
    {
     "name": "stdout",
     "output_type": "stream",
     "text": [
      "====> Epoch: 8 Average train loss: 1.1551\n",
      "===> Epoch: 8 Average mae test loss for targetcol :3.0998\n",
      "===> Epoch: 8 Average mae test loss for targetcol: 2.9492\n",
      "====> Test set loss: 8908.7729\n",
      "====> Epoch: 8 Average test loss: 0.2524\n"
     ]
    },
    {
     "name": "stderr",
     "output_type": "stream",
     "text": [
      "Train Epoch: 9 [104960/105870 (99%)]\tLoss: 1.362507: 100%|██████████| 828/828 [00:03<00:00, 250.86it/s]\n"
     ]
    },
    {
     "name": "stdout",
     "output_type": "stream",
     "text": [
      "====> Epoch: 9 Average train loss: 1.1530\n",
      "===> Epoch: 9 Average mae test loss for targetcol :3.0966\n",
      "===> Epoch: 9 Average mae test loss for targetcol: 3.0513\n",
      "====> Test set loss: 9627.0010\n",
      "====> Epoch: 9 Average test loss: 0.2728\n"
     ]
    },
    {
     "name": "stderr",
     "output_type": "stream",
     "text": [
      "Train Epoch: 10 [104960/105870 (99%)]\tLoss: 1.125161: 100%|██████████| 828/828 [00:03<00:00, 250.73it/s]\n"
     ]
    },
    {
     "name": "stdout",
     "output_type": "stream",
     "text": [
      "====> Epoch: 10 Average train loss: 1.1520\n",
      "===> Epoch: 10 Average mae test loss for targetcol :3.0968\n",
      "===> Epoch: 10 Average mae test loss for targetcol: 2.9101\n",
      "====> Test set loss: 9295.3469\n",
      "====> Epoch: 10 Average test loss: 0.2634\n"
     ]
    },
    {
     "name": "stderr",
     "output_type": "stream",
     "text": [
      "Train Epoch: 11 [104960/105870 (99%)]\tLoss: 1.160578: 100%|██████████| 828/828 [00:03<00:00, 252.20it/s]\n"
     ]
    },
    {
     "name": "stdout",
     "output_type": "stream",
     "text": [
      "====> Epoch: 11 Average train loss: 1.1539\n",
      "===> Epoch: 11 Average mae test loss for targetcol :3.0981\n",
      "===> Epoch: 11 Average mae test loss for targetcol: 2.9248\n",
      "====> Test set loss: 9161.6946\n",
      "====> Epoch: 11 Average test loss: 0.2596\n"
     ]
    },
    {
     "name": "stderr",
     "output_type": "stream",
     "text": [
      "Train Epoch: 12 [104960/105870 (99%)]\tLoss: 1.040174: 100%|██████████| 828/828 [00:03<00:00, 244.29it/s]\n"
     ]
    },
    {
     "name": "stdout",
     "output_type": "stream",
     "text": [
      "====> Epoch: 12 Average train loss: 1.1546\n",
      "===> Epoch: 12 Average mae test loss for targetcol :3.0988\n",
      "===> Epoch: 12 Average mae test loss for targetcol: 2.8773\n",
      "====> Test set loss: 8899.2145\n",
      "====> Epoch: 12 Average test loss: 0.2522\n"
     ]
    },
    {
     "name": "stderr",
     "output_type": "stream",
     "text": [
      "Train Epoch: 13 [104960/105870 (99%)]\tLoss: 1.219912: 100%|██████████| 828/828 [00:03<00:00, 225.59it/s]\n"
     ]
    },
    {
     "name": "stdout",
     "output_type": "stream",
     "text": [
      "====> Epoch: 13 Average train loss: 1.1496\n",
      "===> Epoch: 13 Average mae test loss for targetcol :3.1012\n",
      "===> Epoch: 13 Average mae test loss for targetcol: 3.0123\n",
      "====> Test set loss: 8298.2506\n",
      "====> Epoch: 13 Average test loss: 0.2351\n"
     ]
    },
    {
     "name": "stderr",
     "output_type": "stream",
     "text": [
      "Train Epoch: 14 [104960/105870 (99%)]\tLoss: 1.141150: 100%|██████████| 828/828 [00:03<00:00, 250.61it/s]\n"
     ]
    },
    {
     "name": "stdout",
     "output_type": "stream",
     "text": [
      "====> Epoch: 14 Average train loss: 1.1534\n",
      "===> Epoch: 14 Average mae test loss for targetcol :3.0798\n",
      "===> Epoch: 14 Average mae test loss for targetcol: 2.9255\n",
      "====> Test set loss: 8777.6169\n",
      "====> Epoch: 14 Average test loss: 0.2487\n"
     ]
    },
    {
     "name": "stderr",
     "output_type": "stream",
     "text": [
      "Train Epoch: 15 [104960/105870 (99%)]\tLoss: 1.042251: 100%|██████████| 828/828 [00:03<00:00, 248.35it/s]\n"
     ]
    },
    {
     "name": "stdout",
     "output_type": "stream",
     "text": [
      "====> Epoch: 15 Average train loss: 1.1504\n",
      "===> Epoch: 15 Average mae test loss for targetcol :3.0838\n",
      "===> Epoch: 15 Average mae test loss for targetcol: 3.0361\n",
      "====> Test set loss: 8392.6933\n",
      "====> Epoch: 15 Average test loss: 0.2378\n"
     ]
    },
    {
     "name": "stderr",
     "output_type": "stream",
     "text": [
      "Train Epoch: 16 [104960/105870 (99%)]\tLoss: 1.257937: 100%|██████████| 828/828 [00:03<00:00, 251.19it/s]\n"
     ]
    },
    {
     "name": "stdout",
     "output_type": "stream",
     "text": [
      "====> Epoch: 16 Average train loss: 1.1539\n",
      "===> Epoch: 16 Average mae test loss for targetcol :3.0922\n",
      "===> Epoch: 16 Average mae test loss for targetcol: 3.1725\n",
      "====> Test set loss: 8927.0250\n",
      "====> Epoch: 16 Average test loss: 0.2530\n"
     ]
    },
    {
     "name": "stderr",
     "output_type": "stream",
     "text": [
      "Train Epoch: 17 [104960/105870 (99%)]\tLoss: 1.039225: 100%|██████████| 828/828 [00:03<00:00, 253.33it/s]\n"
     ]
    },
    {
     "name": "stdout",
     "output_type": "stream",
     "text": [
      "====> Epoch: 17 Average train loss: 1.1453\n",
      "===> Epoch: 17 Average mae test loss for targetcol :3.0913\n",
      "===> Epoch: 17 Average mae test loss for targetcol: 2.9668\n",
      "====> Test set loss: 8156.0397\n",
      "====> Epoch: 17 Average test loss: 0.2311\n"
     ]
    },
    {
     "name": "stderr",
     "output_type": "stream",
     "text": [
      "Train Epoch: 18 [104960/105870 (99%)]\tLoss: 1.359291: 100%|██████████| 828/828 [00:03<00:00, 251.55it/s]\n"
     ]
    },
    {
     "name": "stdout",
     "output_type": "stream",
     "text": [
      "====> Epoch: 18 Average train loss: 1.1528\n",
      "===> Epoch: 18 Average mae test loss for targetcol :3.0826\n",
      "===> Epoch: 18 Average mae test loss for targetcol: 2.9897\n",
      "====> Test set loss: 8909.3634\n",
      "====> Epoch: 18 Average test loss: 0.2525\n"
     ]
    },
    {
     "name": "stderr",
     "output_type": "stream",
     "text": [
      "Train Epoch: 19 [104960/105870 (99%)]\tLoss: 1.282819: 100%|██████████| 828/828 [00:03<00:00, 253.45it/s]\n"
     ]
    },
    {
     "name": "stdout",
     "output_type": "stream",
     "text": [
      "====> Epoch: 19 Average train loss: 1.1515\n",
      "===> Epoch: 19 Average mae test loss for targetcol :3.0845\n",
      "===> Epoch: 19 Average mae test loss for targetcol: 2.9175\n",
      "====> Test set loss: 8888.7491\n",
      "====> Epoch: 19 Average test loss: 0.2519\n"
     ]
    },
    {
     "name": "stderr",
     "output_type": "stream",
     "text": [
      "Train Epoch: 20 [104960/105870 (99%)]\tLoss: 1.078842: 100%|██████████| 828/828 [00:03<00:00, 245.44it/s]\n"
     ]
    },
    {
     "name": "stdout",
     "output_type": "stream",
     "text": [
      "====> Epoch: 20 Average train loss: 1.1519\n",
      "===> Epoch: 20 Average mae test loss for targetcol :3.0845\n",
      "===> Epoch: 20 Average mae test loss for targetcol: 2.8819\n",
      "====> Test set loss: 9044.6754\n",
      "====> Epoch: 20 Average test loss: 0.2563\n"
     ]
    },
    {
     "name": "stderr",
     "output_type": "stream",
     "text": [
      "Train Epoch: 21 [104960/105870 (99%)]\tLoss: 1.163725: 100%|██████████| 828/828 [00:03<00:00, 246.80it/s]\n"
     ]
    },
    {
     "name": "stdout",
     "output_type": "stream",
     "text": [
      "====> Epoch: 21 Average train loss: 1.1516\n",
      "===> Epoch: 21 Average mae test loss for targetcol :3.0856\n",
      "===> Epoch: 21 Average mae test loss for targetcol: 2.8902\n",
      "====> Test set loss: 8925.8664\n",
      "====> Epoch: 21 Average test loss: 0.2529\n"
     ]
    },
    {
     "name": "stderr",
     "output_type": "stream",
     "text": [
      "Train Epoch: 22 [104960/105870 (99%)]\tLoss: 1.021174: 100%|██████████| 828/828 [00:03<00:00, 250.05it/s]\n"
     ]
    },
    {
     "name": "stdout",
     "output_type": "stream",
     "text": [
      "====> Epoch: 22 Average train loss: 1.1504\n",
      "===> Epoch: 22 Average mae test loss for targetcol :3.0825\n",
      "===> Epoch: 22 Average mae test loss for targetcol: 2.9765\n",
      "====> Test set loss: 8515.3934\n",
      "====> Epoch: 22 Average test loss: 0.2413\n"
     ]
    },
    {
     "name": "stderr",
     "output_type": "stream",
     "text": [
      "Train Epoch: 23 [104960/105870 (99%)]\tLoss: 1.220660: 100%|██████████| 828/828 [00:03<00:00, 252.61it/s]\n"
     ]
    },
    {
     "name": "stdout",
     "output_type": "stream",
     "text": [
      "====> Epoch: 23 Average train loss: 1.1534\n",
      "===> Epoch: 23 Average mae test loss for targetcol :3.0856\n",
      "===> Epoch: 23 Average mae test loss for targetcol: 3.1446\n",
      "====> Test set loss: 7744.2449\n",
      "====> Epoch: 23 Average test loss: 0.2194\n"
     ]
    },
    {
     "name": "stderr",
     "output_type": "stream",
     "text": [
      "Train Epoch: 24 [104960/105870 (99%)]\tLoss: 0.926409: 100%|██████████| 828/828 [00:03<00:00, 257.69it/s]\n"
     ]
    },
    {
     "name": "stdout",
     "output_type": "stream",
     "text": [
      "====> Epoch: 24 Average train loss: 1.1524\n",
      "===> Epoch: 24 Average mae test loss for targetcol :3.0880\n",
      "===> Epoch: 24 Average mae test loss for targetcol: 3.0596\n",
      "====> Test set loss: 7895.5679\n",
      "====> Epoch: 24 Average test loss: 0.2237\n"
     ]
    },
    {
     "name": "stderr",
     "output_type": "stream",
     "text": [
      "Train Epoch: 25 [104960/105870 (99%)]\tLoss: 1.278429: 100%|██████████| 828/828 [00:03<00:00, 261.66it/s]\n"
     ]
    },
    {
     "name": "stdout",
     "output_type": "stream",
     "text": [
      "====> Epoch: 25 Average train loss: 1.1528\n",
      "===> Epoch: 25 Average mae test loss for targetcol :3.0838\n",
      "===> Epoch: 25 Average mae test loss for targetcol: 2.9219\n",
      "====> Test set loss: 8358.4946\n",
      "====> Epoch: 25 Average test loss: 0.2369\n"
     ]
    },
    {
     "name": "stderr",
     "output_type": "stream",
     "text": [
      "Train Epoch: 26 [104960/105870 (99%)]\tLoss: 1.206659: 100%|██████████| 828/828 [00:03<00:00, 259.51it/s]\n"
     ]
    },
    {
     "name": "stdout",
     "output_type": "stream",
     "text": [
      "====> Epoch: 26 Average train loss: 1.1531\n",
      "===> Epoch: 26 Average mae test loss for targetcol :3.0796\n",
      "===> Epoch: 26 Average mae test loss for targetcol: 2.8952\n",
      "====> Test set loss: 8587.6509\n",
      "====> Epoch: 26 Average test loss: 0.2433\n"
     ]
    },
    {
     "name": "stderr",
     "output_type": "stream",
     "text": [
      "Train Epoch: 27 [104960/105870 (99%)]\tLoss: 1.194299: 100%|██████████| 828/828 [00:03<00:00, 261.14it/s]\n"
     ]
    },
    {
     "name": "stdout",
     "output_type": "stream",
     "text": [
      "====> Epoch: 27 Average train loss: 1.1507\n",
      "===> Epoch: 27 Average mae test loss for targetcol :3.0814\n",
      "===> Epoch: 27 Average mae test loss for targetcol: 3.0342\n",
      "====> Test set loss: 10189.8612\n",
      "====> Epoch: 27 Average test loss: 0.2887\n"
     ]
    },
    {
     "name": "stderr",
     "output_type": "stream",
     "text": [
      "Train Epoch: 28 [104960/105870 (99%)]\tLoss: 1.091398: 100%|██████████| 828/828 [00:03<00:00, 255.29it/s]\n"
     ]
    },
    {
     "name": "stdout",
     "output_type": "stream",
     "text": [
      "====> Epoch: 28 Average train loss: 1.1520\n",
      "===> Epoch: 28 Average mae test loss for targetcol :3.0874\n",
      "===> Epoch: 28 Average mae test loss for targetcol: 2.9079\n",
      "====> Test set loss: 8789.4575\n",
      "====> Epoch: 28 Average test loss: 0.2491\n"
     ]
    },
    {
     "name": "stderr",
     "output_type": "stream",
     "text": [
      "Train Epoch: 29 [104960/105870 (99%)]\tLoss: 1.049895: 100%|██████████| 828/828 [00:03<00:00, 258.34it/s]\n"
     ]
    },
    {
     "name": "stdout",
     "output_type": "stream",
     "text": [
      "====> Epoch: 29 Average train loss: 1.1545\n",
      "===> Epoch: 29 Average mae test loss for targetcol :3.0776\n",
      "===> Epoch: 29 Average mae test loss for targetcol: 2.9070\n",
      "====> Test set loss: 8516.8033\n",
      "====> Epoch: 29 Average test loss: 0.2413\n"
     ]
    },
    {
     "name": "stderr",
     "output_type": "stream",
     "text": [
      "Train Epoch: 30 [104960/105870 (99%)]\tLoss: 1.310821: 100%|██████████| 828/828 [00:03<00:00, 250.64it/s]\n"
     ]
    },
    {
     "name": "stdout",
     "output_type": "stream",
     "text": [
      "====> Epoch: 30 Average train loss: 1.1520\n",
      "===> Epoch: 30 Average mae test loss for targetcol :3.0889\n",
      "===> Epoch: 30 Average mae test loss for targetcol: 2.9888\n",
      "====> Test set loss: 8115.8873\n",
      "====> Epoch: 30 Average test loss: 0.2300\n"
     ]
    },
    {
     "name": "stderr",
     "output_type": "stream",
     "text": [
      "Train Epoch: 31 [104960/105870 (99%)]\tLoss: 1.168351: 100%|██████████| 828/828 [00:03<00:00, 259.02it/s]\n"
     ]
    },
    {
     "name": "stdout",
     "output_type": "stream",
     "text": [
      "====> Epoch: 31 Average train loss: 1.1505\n",
      "===> Epoch: 31 Average mae test loss for targetcol :3.0902\n",
      "===> Epoch: 31 Average mae test loss for targetcol: 3.0717\n",
      "====> Test set loss: 8742.5560\n",
      "====> Epoch: 31 Average test loss: 0.2477\n"
     ]
    },
    {
     "name": "stderr",
     "output_type": "stream",
     "text": [
      "Train Epoch: 32 [104960/105870 (99%)]\tLoss: 1.054382: 100%|██████████| 828/828 [00:03<00:00, 260.57it/s]\n"
     ]
    },
    {
     "name": "stdout",
     "output_type": "stream",
     "text": [
      "====> Epoch: 32 Average train loss: 1.1505\n",
      "===> Epoch: 32 Average mae test loss for targetcol :3.0849\n",
      "===> Epoch: 32 Average mae test loss for targetcol: 2.9583\n",
      "====> Test set loss: 8184.3245\n",
      "====> Epoch: 32 Average test loss: 0.2319\n"
     ]
    },
    {
     "name": "stderr",
     "output_type": "stream",
     "text": [
      "Train Epoch: 33 [104960/105870 (99%)]\tLoss: 1.075082: 100%|██████████| 828/828 [00:03<00:00, 260.07it/s]\n"
     ]
    },
    {
     "name": "stdout",
     "output_type": "stream",
     "text": [
      "====> Epoch: 33 Average train loss: 1.1502\n",
      "===> Epoch: 33 Average mae test loss for targetcol :3.0768\n",
      "===> Epoch: 33 Average mae test loss for targetcol: 3.0109\n",
      "====> Test set loss: 8796.4058\n",
      "====> Epoch: 33 Average test loss: 0.2493\n"
     ]
    },
    {
     "name": "stderr",
     "output_type": "stream",
     "text": [
      "Train Epoch: 34 [104960/105870 (99%)]\tLoss: 1.245513: 100%|██████████| 828/828 [00:03<00:00, 261.61it/s]\n"
     ]
    },
    {
     "name": "stdout",
     "output_type": "stream",
     "text": [
      "====> Epoch: 34 Average train loss: 1.1510\n",
      "===> Epoch: 34 Average mae test loss for targetcol :3.0854\n",
      "===> Epoch: 34 Average mae test loss for targetcol: 3.0004\n",
      "====> Test set loss: 8729.6526\n",
      "====> Epoch: 34 Average test loss: 0.2474\n"
     ]
    },
    {
     "name": "stderr",
     "output_type": "stream",
     "text": [
      "Train Epoch: 35 [104960/105870 (99%)]\tLoss: 1.197865: 100%|██████████| 828/828 [00:03<00:00, 259.93it/s]\n"
     ]
    },
    {
     "name": "stdout",
     "output_type": "stream",
     "text": [
      "====> Epoch: 35 Average train loss: 1.1521\n",
      "===> Epoch: 35 Average mae test loss for targetcol :3.0876\n",
      "===> Epoch: 35 Average mae test loss for targetcol: 2.9280\n",
      "====> Test set loss: 8292.0610\n",
      "====> Epoch: 35 Average test loss: 0.2350\n"
     ]
    },
    {
     "name": "stderr",
     "output_type": "stream",
     "text": [
      "Train Epoch: 36 [104960/105870 (99%)]\tLoss: 1.105209: 100%|██████████| 828/828 [00:03<00:00, 254.66it/s]\n"
     ]
    },
    {
     "name": "stdout",
     "output_type": "stream",
     "text": [
      "====> Epoch: 36 Average train loss: 1.1510\n",
      "===> Epoch: 36 Average mae test loss for targetcol :3.0842\n",
      "===> Epoch: 36 Average mae test loss for targetcol: 3.0517\n",
      "====> Test set loss: 8230.2307\n",
      "====> Epoch: 36 Average test loss: 0.2332\n"
     ]
    },
    {
     "name": "stderr",
     "output_type": "stream",
     "text": [
      "Train Epoch: 37 [104960/105870 (99%)]\tLoss: 1.209392: 100%|██████████| 828/828 [00:03<00:00, 254.02it/s]\n"
     ]
    },
    {
     "name": "stdout",
     "output_type": "stream",
     "text": [
      "====> Epoch: 37 Average train loss: 1.1481\n",
      "===> Epoch: 37 Average mae test loss for targetcol :3.0861\n",
      "===> Epoch: 37 Average mae test loss for targetcol: 2.8776\n",
      "====> Test set loss: 9040.5909\n",
      "====> Epoch: 37 Average test loss: 0.2562\n"
     ]
    },
    {
     "name": "stderr",
     "output_type": "stream",
     "text": [
      "Train Epoch: 38 [104960/105870 (99%)]\tLoss: 1.099342: 100%|██████████| 828/828 [00:03<00:00, 252.12it/s]\n"
     ]
    },
    {
     "name": "stdout",
     "output_type": "stream",
     "text": [
      "====> Epoch: 38 Average train loss: 1.1497\n",
      "===> Epoch: 38 Average mae test loss for targetcol :3.0845\n",
      "===> Epoch: 38 Average mae test loss for targetcol: 2.9703\n",
      "====> Test set loss: 7743.7234\n",
      "====> Epoch: 38 Average test loss: 0.2194\n"
     ]
    },
    {
     "name": "stderr",
     "output_type": "stream",
     "text": [
      "Train Epoch: 39 [104960/105870 (99%)]\tLoss: 1.287467: 100%|██████████| 828/828 [00:03<00:00, 254.79it/s]\n"
     ]
    },
    {
     "name": "stdout",
     "output_type": "stream",
     "text": [
      "====> Epoch: 39 Average train loss: 1.1522\n",
      "===> Epoch: 39 Average mae test loss for targetcol :3.0860\n",
      "===> Epoch: 39 Average mae test loss for targetcol: 2.9352\n",
      "====> Test set loss: 9548.1141\n",
      "====> Epoch: 39 Average test loss: 0.2706\n"
     ]
    },
    {
     "name": "stderr",
     "output_type": "stream",
     "text": [
      "Train Epoch: 40 [104960/105870 (99%)]\tLoss: 1.106753: 100%|██████████| 828/828 [00:03<00:00, 252.93it/s]\n"
     ]
    },
    {
     "name": "stdout",
     "output_type": "stream",
     "text": [
      "====> Epoch: 40 Average train loss: 1.1511\n",
      "===> Epoch: 40 Average mae test loss for targetcol :3.0832\n",
      "===> Epoch: 40 Average mae test loss for targetcol: 3.0612\n",
      "====> Test set loss: 8737.1590\n",
      "====> Epoch: 40 Average test loss: 0.2476\n"
     ]
    },
    {
     "name": "stderr",
     "output_type": "stream",
     "text": [
      "Train Epoch: 41 [104960/105870 (99%)]\tLoss: 1.264301: 100%|██████████| 828/828 [00:03<00:00, 256.00it/s]\n"
     ]
    },
    {
     "name": "stdout",
     "output_type": "stream",
     "text": [
      "====> Epoch: 41 Average train loss: 1.1533\n",
      "===> Epoch: 41 Average mae test loss for targetcol :3.0828\n",
      "===> Epoch: 41 Average mae test loss for targetcol: 2.8901\n",
      "====> Test set loss: 9577.7205\n",
      "====> Epoch: 41 Average test loss: 0.2714\n"
     ]
    },
    {
     "name": "stderr",
     "output_type": "stream",
     "text": [
      "Train Epoch: 42 [104960/105870 (99%)]\tLoss: 1.092912: 100%|██████████| 828/828 [00:03<00:00, 252.66it/s]\n"
     ]
    },
    {
     "name": "stdout",
     "output_type": "stream",
     "text": [
      "====> Epoch: 42 Average train loss: 1.1537\n",
      "===> Epoch: 42 Average mae test loss for targetcol :3.0822\n",
      "===> Epoch: 42 Average mae test loss for targetcol: 2.9749\n",
      "====> Test set loss: 9426.0198\n",
      "====> Epoch: 42 Average test loss: 0.2671\n"
     ]
    },
    {
     "name": "stderr",
     "output_type": "stream",
     "text": [
      "Train Epoch: 43 [104960/105870 (99%)]\tLoss: 1.172492: 100%|██████████| 828/828 [00:03<00:00, 256.07it/s]\n"
     ]
    },
    {
     "name": "stdout",
     "output_type": "stream",
     "text": [
      "====> Epoch: 43 Average train loss: 1.1471\n",
      "===> Epoch: 43 Average mae test loss for targetcol :3.0847\n",
      "===> Epoch: 43 Average mae test loss for targetcol: 3.1792\n",
      "====> Test set loss: 9356.5758\n",
      "====> Epoch: 43 Average test loss: 0.2651\n"
     ]
    },
    {
     "name": "stderr",
     "output_type": "stream",
     "text": [
      "Train Epoch: 44 [104960/105870 (99%)]\tLoss: 1.296919: 100%|██████████| 828/828 [00:03<00:00, 255.93it/s]\n"
     ]
    },
    {
     "name": "stdout",
     "output_type": "stream",
     "text": [
      "====> Epoch: 44 Average train loss: 1.1509\n",
      "===> Epoch: 44 Average mae test loss for targetcol :3.0814\n",
      "===> Epoch: 44 Average mae test loss for targetcol: 2.9248\n",
      "====> Test set loss: 9644.4002\n",
      "====> Epoch: 44 Average test loss: 0.2733\n"
     ]
    },
    {
     "name": "stderr",
     "output_type": "stream",
     "text": [
      "Train Epoch: 45 [104960/105870 (99%)]\tLoss: 1.041879: 100%|██████████| 828/828 [00:03<00:00, 257.68it/s]\n"
     ]
    },
    {
     "name": "stdout",
     "output_type": "stream",
     "text": [
      "====> Epoch: 45 Average train loss: 1.1531\n",
      "===> Epoch: 45 Average mae test loss for targetcol :3.0814\n",
      "===> Epoch: 45 Average mae test loss for targetcol: 2.9119\n",
      "====> Test set loss: 9253.1353\n",
      "====> Epoch: 45 Average test loss: 0.2622\n"
     ]
    },
    {
     "name": "stderr",
     "output_type": "stream",
     "text": [
      "Train Epoch: 46 [104960/105870 (99%)]\tLoss: 1.123789: 100%|██████████| 828/828 [00:03<00:00, 253.63it/s]\n"
     ]
    },
    {
     "name": "stdout",
     "output_type": "stream",
     "text": [
      "====> Epoch: 46 Average train loss: 1.1490\n",
      "===> Epoch: 46 Average mae test loss for targetcol :3.0810\n",
      "===> Epoch: 46 Average mae test loss for targetcol: 3.0350\n",
      "====> Test set loss: 8692.1121\n",
      "====> Epoch: 46 Average test loss: 0.2463\n"
     ]
    },
    {
     "name": "stderr",
     "output_type": "stream",
     "text": [
      "Train Epoch: 47 [104960/105870 (99%)]\tLoss: 1.112373: 100%|██████████| 828/828 [00:03<00:00, 259.30it/s]\n"
     ]
    },
    {
     "name": "stdout",
     "output_type": "stream",
     "text": [
      "====> Epoch: 47 Average train loss: 1.1488\n",
      "===> Epoch: 47 Average mae test loss for targetcol :3.0805\n",
      "===> Epoch: 47 Average mae test loss for targetcol: 3.0380\n",
      "====> Test set loss: 8932.1044\n",
      "====> Epoch: 47 Average test loss: 0.2531\n"
     ]
    },
    {
     "name": "stderr",
     "output_type": "stream",
     "text": [
      "Train Epoch: 48 [104960/105870 (99%)]\tLoss: 1.263049: 100%|██████████| 828/828 [00:03<00:00, 254.50it/s]\n"
     ]
    },
    {
     "name": "stdout",
     "output_type": "stream",
     "text": [
      "====> Epoch: 48 Average train loss: 1.1495\n",
      "===> Epoch: 48 Average mae test loss for targetcol :3.0774\n",
      "===> Epoch: 48 Average mae test loss for targetcol: 2.9271\n",
      "====> Test set loss: 9118.7621\n",
      "====> Epoch: 48 Average test loss: 0.2584\n"
     ]
    },
    {
     "name": "stderr",
     "output_type": "stream",
     "text": [
      "Train Epoch: 49 [104960/105870 (99%)]\tLoss: 1.308858: 100%|██████████| 828/828 [00:03<00:00, 255.15it/s]\n"
     ]
    },
    {
     "name": "stdout",
     "output_type": "stream",
     "text": [
      "====> Epoch: 49 Average train loss: 1.1518\n",
      "===> Epoch: 49 Average mae test loss for targetcol :3.0781\n",
      "===> Epoch: 49 Average mae test loss for targetcol: 2.9219\n",
      "====> Test set loss: 9343.5650\n",
      "====> Epoch: 49 Average test loss: 0.2648\n"
     ]
    },
    {
     "name": "stderr",
     "output_type": "stream",
     "text": [
      "Train Epoch: 50 [104960/105870 (99%)]\tLoss: 1.029837: 100%|██████████| 828/828 [00:03<00:00, 256.48it/s]\n"
     ]
    },
    {
     "name": "stdout",
     "output_type": "stream",
     "text": [
      "====> Epoch: 50 Average train loss: 1.1512\n",
      "===> Epoch: 50 Average mae test loss for targetcol :3.0846\n",
      "===> Epoch: 50 Average mae test loss for targetcol: 3.0065\n",
      "====> Test set loss: 8512.4449\n",
      "====> Epoch: 50 Average test loss: 0.2412\n"
     ]
    },
    {
     "name": "stderr",
     "output_type": "stream",
     "text": [
      "Train Epoch: 51 [104960/105870 (99%)]\tLoss: 1.156250: 100%|██████████| 828/828 [00:03<00:00, 254.92it/s]\n"
     ]
    },
    {
     "name": "stdout",
     "output_type": "stream",
     "text": [
      "====> Epoch: 51 Average train loss: 1.1486\n",
      "===> Epoch: 51 Average mae test loss for targetcol :3.0778\n",
      "===> Epoch: 51 Average mae test loss for targetcol: 2.9328\n",
      "====> Test set loss: 8204.0761\n",
      "====> Epoch: 51 Average test loss: 0.2325\n"
     ]
    },
    {
     "name": "stderr",
     "output_type": "stream",
     "text": [
      "Train Epoch: 52 [104960/105870 (99%)]\tLoss: 1.202498: 100%|██████████| 828/828 [00:03<00:00, 256.83it/s]\n"
     ]
    },
    {
     "name": "stdout",
     "output_type": "stream",
     "text": [
      "====> Epoch: 52 Average train loss: 1.1525\n",
      "===> Epoch: 52 Average mae test loss for targetcol :3.0842\n",
      "===> Epoch: 52 Average mae test loss for targetcol: 2.9502\n",
      "====> Test set loss: 8002.9440\n",
      "====> Epoch: 52 Average test loss: 0.2268\n"
     ]
    },
    {
     "name": "stderr",
     "output_type": "stream",
     "text": [
      "Train Epoch: 53 [104960/105870 (99%)]\tLoss: 1.155233: 100%|██████████| 828/828 [00:03<00:00, 255.61it/s]\n"
     ]
    },
    {
     "name": "stdout",
     "output_type": "stream",
     "text": [
      "====> Epoch: 53 Average train loss: 1.1519\n",
      "===> Epoch: 53 Average mae test loss for targetcol :3.0768\n",
      "===> Epoch: 53 Average mae test loss for targetcol: 2.9179\n",
      "====> Test set loss: 8462.4889\n",
      "====> Epoch: 53 Average test loss: 0.2398\n"
     ]
    },
    {
     "name": "stderr",
     "output_type": "stream",
     "text": [
      "Train Epoch: 54 [104960/105870 (99%)]\tLoss: 1.072117: 100%|██████████| 828/828 [00:03<00:00, 253.66it/s]\n"
     ]
    },
    {
     "name": "stdout",
     "output_type": "stream",
     "text": [
      "====> Epoch: 54 Average train loss: 1.1528\n",
      "===> Epoch: 54 Average mae test loss for targetcol :3.0810\n",
      "===> Epoch: 54 Average mae test loss for targetcol: 2.9241\n",
      "====> Test set loss: 8790.0032\n",
      "====> Epoch: 54 Average test loss: 0.2491\n"
     ]
    },
    {
     "name": "stderr",
     "output_type": "stream",
     "text": [
      "Train Epoch: 55 [104960/105870 (99%)]\tLoss: 1.101185: 100%|██████████| 828/828 [00:03<00:00, 255.33it/s]\n"
     ]
    },
    {
     "name": "stdout",
     "output_type": "stream",
     "text": [
      "====> Epoch: 55 Average train loss: 1.1488\n",
      "===> Epoch: 55 Average mae test loss for targetcol :3.0808\n",
      "===> Epoch: 55 Average mae test loss for targetcol: 3.0276\n",
      "====> Test set loss: 8632.2204\n",
      "====> Epoch: 55 Average test loss: 0.2446\n"
     ]
    },
    {
     "name": "stderr",
     "output_type": "stream",
     "text": [
      "Train Epoch: 56 [104960/105870 (99%)]\tLoss: 1.201589: 100%|██████████| 828/828 [00:03<00:00, 257.67it/s]\n"
     ]
    },
    {
     "name": "stdout",
     "output_type": "stream",
     "text": [
      "====> Epoch: 56 Average train loss: 1.1525\n",
      "===> Epoch: 56 Average mae test loss for targetcol :3.0883\n",
      "===> Epoch: 56 Average mae test loss for targetcol: 3.0938\n",
      "====> Test set loss: 8438.8112\n",
      "====> Epoch: 56 Average test loss: 0.2391\n"
     ]
    },
    {
     "name": "stderr",
     "output_type": "stream",
     "text": [
      "Train Epoch: 57 [104960/105870 (99%)]\tLoss: 1.172687: 100%|██████████| 828/828 [00:03<00:00, 255.76it/s]\n"
     ]
    },
    {
     "name": "stdout",
     "output_type": "stream",
     "text": [
      "====> Epoch: 57 Average train loss: 1.1476\n",
      "===> Epoch: 57 Average mae test loss for targetcol :3.0814\n",
      "===> Epoch: 57 Average mae test loss for targetcol: 2.9585\n",
      "====> Test set loss: 9329.2343\n",
      "====> Epoch: 57 Average test loss: 0.2644\n"
     ]
    },
    {
     "name": "stderr",
     "output_type": "stream",
     "text": [
      "Train Epoch: 58 [104960/105870 (99%)]\tLoss: 1.150250: 100%|██████████| 828/828 [00:03<00:00, 256.08it/s]\n"
     ]
    },
    {
     "name": "stdout",
     "output_type": "stream",
     "text": [
      "====> Epoch: 58 Average train loss: 1.1487\n",
      "===> Epoch: 58 Average mae test loss for targetcol :3.0820\n",
      "===> Epoch: 58 Average mae test loss for targetcol: 2.9039\n",
      "====> Test set loss: 8828.7097\n",
      "====> Epoch: 58 Average test loss: 0.2502\n"
     ]
    },
    {
     "name": "stderr",
     "output_type": "stream",
     "text": [
      "Train Epoch: 59 [104960/105870 (99%)]\tLoss: 1.235621: 100%|██████████| 828/828 [00:03<00:00, 256.63it/s]\n"
     ]
    },
    {
     "name": "stdout",
     "output_type": "stream",
     "text": [
      "====> Epoch: 59 Average train loss: 1.1502\n",
      "===> Epoch: 59 Average mae test loss for targetcol :3.0833\n",
      "===> Epoch: 59 Average mae test loss for targetcol: 3.0508\n",
      "====> Test set loss: 8783.2668\n",
      "====> Epoch: 59 Average test loss: 0.2489\n"
     ]
    },
    {
     "name": "stderr",
     "output_type": "stream",
     "text": [
      "Train Epoch: 60 [104960/105870 (99%)]\tLoss: 1.113966: 100%|██████████| 828/828 [00:03<00:00, 256.34it/s]\n"
     ]
    },
    {
     "name": "stdout",
     "output_type": "stream",
     "text": [
      "====> Epoch: 60 Average train loss: 1.1486\n",
      "===> Epoch: 60 Average mae test loss for targetcol :3.0752\n",
      "===> Epoch: 60 Average mae test loss for targetcol: 2.9943\n",
      "====> Test set loss: 7727.3137\n",
      "====> Epoch: 60 Average test loss: 0.2190\n"
     ]
    },
    {
     "name": "stderr",
     "output_type": "stream",
     "text": [
      "Train Epoch: 61 [104960/105870 (99%)]\tLoss: 1.347234: 100%|██████████| 828/828 [00:03<00:00, 240.45it/s]\n"
     ]
    },
    {
     "name": "stdout",
     "output_type": "stream",
     "text": [
      "====> Epoch: 61 Average train loss: 1.1469\n",
      "===> Epoch: 61 Average mae test loss for targetcol :3.0878\n",
      "===> Epoch: 61 Average mae test loss for targetcol: 2.9404\n",
      "====> Test set loss: 9066.0104\n",
      "====> Epoch: 61 Average test loss: 0.2569\n"
     ]
    },
    {
     "name": "stderr",
     "output_type": "stream",
     "text": [
      "Train Epoch: 62 [104960/105870 (99%)]\tLoss: 1.178355: 100%|██████████| 828/828 [00:03<00:00, 237.13it/s]\n"
     ]
    },
    {
     "name": "stdout",
     "output_type": "stream",
     "text": [
      "====> Epoch: 62 Average train loss: 1.1526\n",
      "===> Epoch: 62 Average mae test loss for targetcol :3.0811\n",
      "===> Epoch: 62 Average mae test loss for targetcol: 2.8791\n",
      "====> Test set loss: 9036.2844\n",
      "====> Epoch: 62 Average test loss: 0.2561\n"
     ]
    },
    {
     "name": "stderr",
     "output_type": "stream",
     "text": [
      "Train Epoch: 63 [104960/105870 (99%)]\tLoss: 1.138939: 100%|██████████| 828/828 [00:03<00:00, 256.40it/s]\n"
     ]
    },
    {
     "name": "stdout",
     "output_type": "stream",
     "text": [
      "====> Epoch: 63 Average train loss: 1.1518\n",
      "===> Epoch: 63 Average mae test loss for targetcol :3.0813\n",
      "===> Epoch: 63 Average mae test loss for targetcol: 3.0921\n",
      "====> Test set loss: 8227.3343\n",
      "====> Epoch: 63 Average test loss: 0.2331\n"
     ]
    },
    {
     "name": "stderr",
     "output_type": "stream",
     "text": [
      "Train Epoch: 64 [104960/105870 (99%)]\tLoss: 1.121375: 100%|██████████| 828/828 [00:03<00:00, 256.03it/s]\n"
     ]
    },
    {
     "name": "stdout",
     "output_type": "stream",
     "text": [
      "====> Epoch: 64 Average train loss: 1.1503\n",
      "===> Epoch: 64 Average mae test loss for targetcol :3.0875\n",
      "===> Epoch: 64 Average mae test loss for targetcol: 2.9945\n",
      "====> Test set loss: 8942.4763\n",
      "====> Epoch: 64 Average test loss: 0.2534\n"
     ]
    },
    {
     "name": "stderr",
     "output_type": "stream",
     "text": [
      "Train Epoch: 65 [104960/105870 (99%)]\tLoss: 1.221960: 100%|██████████| 828/828 [00:03<00:00, 249.60it/s]\n"
     ]
    },
    {
     "name": "stdout",
     "output_type": "stream",
     "text": [
      "====> Epoch: 65 Average train loss: 1.1534\n",
      "===> Epoch: 65 Average mae test loss for targetcol :3.0835\n",
      "===> Epoch: 65 Average mae test loss for targetcol: 2.8945\n",
      "====> Test set loss: 9652.7685\n",
      "====> Epoch: 65 Average test loss: 0.2735\n"
     ]
    },
    {
     "name": "stderr",
     "output_type": "stream",
     "text": [
      "Train Epoch: 66 [104960/105870 (99%)]\tLoss: 1.280332: 100%|██████████| 828/828 [00:03<00:00, 252.81it/s]\n"
     ]
    },
    {
     "name": "stdout",
     "output_type": "stream",
     "text": [
      "====> Epoch: 66 Average train loss: 1.1511\n",
      "===> Epoch: 66 Average mae test loss for targetcol :3.0813\n",
      "===> Epoch: 66 Average mae test loss for targetcol: 3.0005\n",
      "====> Test set loss: 8964.5729\n",
      "====> Epoch: 66 Average test loss: 0.2540\n"
     ]
    },
    {
     "name": "stderr",
     "output_type": "stream",
     "text": [
      "Train Epoch: 67 [104960/105870 (99%)]\tLoss: 1.161363: 100%|██████████| 828/828 [00:03<00:00, 247.70it/s]\n"
     ]
    },
    {
     "name": "stdout",
     "output_type": "stream",
     "text": [
      "====> Epoch: 67 Average train loss: 1.1498\n",
      "===> Epoch: 67 Average mae test loss for targetcol :3.0776\n",
      "===> Epoch: 67 Average mae test loss for targetcol: 2.9338\n",
      "====> Test set loss: 8796.1503\n",
      "====> Epoch: 67 Average test loss: 0.2493\n"
     ]
    },
    {
     "name": "stderr",
     "output_type": "stream",
     "text": [
      "Train Epoch: 68 [104960/105870 (99%)]\tLoss: 1.075787: 100%|██████████| 828/828 [00:03<00:00, 246.16it/s]\n"
     ]
    },
    {
     "name": "stdout",
     "output_type": "stream",
     "text": [
      "====> Epoch: 68 Average train loss: 1.1513\n",
      "===> Epoch: 68 Average mae test loss for targetcol :3.0821\n",
      "===> Epoch: 68 Average mae test loss for targetcol: 2.9496\n",
      "====> Test set loss: 9712.5227\n",
      "====> Epoch: 68 Average test loss: 0.2752\n"
     ]
    },
    {
     "name": "stderr",
     "output_type": "stream",
     "text": [
      "Train Epoch: 69 [104960/105870 (99%)]\tLoss: 1.066490: 100%|██████████| 828/828 [00:03<00:00, 240.85it/s]\n"
     ]
    },
    {
     "name": "stdout",
     "output_type": "stream",
     "text": [
      "====> Epoch: 69 Average train loss: 1.1538\n",
      "===> Epoch: 69 Average mae test loss for targetcol :3.0790\n",
      "===> Epoch: 69 Average mae test loss for targetcol: 2.9511\n",
      "====> Test set loss: 8554.8790\n",
      "====> Epoch: 69 Average test loss: 0.2424\n"
     ]
    },
    {
     "name": "stderr",
     "output_type": "stream",
     "text": [
      "Train Epoch: 70 [104960/105870 (99%)]\tLoss: 1.224440: 100%|██████████| 828/828 [00:03<00:00, 240.16it/s]\n"
     ]
    },
    {
     "name": "stdout",
     "output_type": "stream",
     "text": [
      "====> Epoch: 70 Average train loss: 1.1525\n",
      "===> Epoch: 70 Average mae test loss for targetcol :3.0837\n",
      "===> Epoch: 70 Average mae test loss for targetcol: 3.1146\n",
      "====> Test set loss: 9119.3751\n",
      "====> Epoch: 70 Average test loss: 0.2584\n"
     ]
    },
    {
     "name": "stderr",
     "output_type": "stream",
     "text": [
      "Train Epoch: 71 [104960/105870 (99%)]\tLoss: 1.256249: 100%|██████████| 828/828 [00:03<00:00, 239.33it/s]\n"
     ]
    },
    {
     "name": "stdout",
     "output_type": "stream",
     "text": [
      "====> Epoch: 71 Average train loss: 1.1540\n",
      "===> Epoch: 71 Average mae test loss for targetcol :3.0803\n",
      "===> Epoch: 71 Average mae test loss for targetcol: 2.8946\n",
      "====> Test set loss: 9774.4885\n",
      "====> Epoch: 71 Average test loss: 0.2770\n"
     ]
    },
    {
     "name": "stderr",
     "output_type": "stream",
     "text": [
      "Train Epoch: 72 [104960/105870 (99%)]\tLoss: 1.095301: 100%|██████████| 828/828 [00:03<00:00, 238.26it/s]\n"
     ]
    },
    {
     "name": "stdout",
     "output_type": "stream",
     "text": [
      "====> Epoch: 72 Average train loss: 1.1488\n",
      "===> Epoch: 72 Average mae test loss for targetcol :3.0809\n",
      "===> Epoch: 72 Average mae test loss for targetcol: 3.1328\n",
      "====> Test set loss: 8319.2632\n",
      "====> Epoch: 72 Average test loss: 0.2357\n"
     ]
    },
    {
     "name": "stderr",
     "output_type": "stream",
     "text": [
      "Train Epoch: 73 [104960/105870 (99%)]\tLoss: 1.068398: 100%|██████████| 828/828 [00:03<00:00, 240.06it/s]\n"
     ]
    },
    {
     "name": "stdout",
     "output_type": "stream",
     "text": [
      "====> Epoch: 73 Average train loss: 1.1491\n",
      "===> Epoch: 73 Average mae test loss for targetcol :3.0818\n",
      "===> Epoch: 73 Average mae test loss for targetcol: 2.8743\n",
      "====> Test set loss: 9199.5003\n",
      "====> Epoch: 73 Average test loss: 0.2607\n"
     ]
    },
    {
     "name": "stderr",
     "output_type": "stream",
     "text": [
      "Train Epoch: 74 [104960/105870 (99%)]\tLoss: 1.414794: 100%|██████████| 828/828 [00:03<00:00, 235.80it/s]\n"
     ]
    },
    {
     "name": "stdout",
     "output_type": "stream",
     "text": [
      "====> Epoch: 74 Average train loss: 1.1529\n",
      "===> Epoch: 74 Average mae test loss for targetcol :3.0828\n",
      "===> Epoch: 74 Average mae test loss for targetcol: 2.9819\n",
      "====> Test set loss: 8432.8368\n",
      "====> Epoch: 74 Average test loss: 0.2390\n"
     ]
    },
    {
     "name": "stderr",
     "output_type": "stream",
     "text": [
      "Train Epoch: 75 [104960/105870 (99%)]\tLoss: 1.188722: 100%|██████████| 828/828 [00:03<00:00, 235.45it/s]\n"
     ]
    },
    {
     "name": "stdout",
     "output_type": "stream",
     "text": [
      "====> Epoch: 75 Average train loss: 1.1489\n",
      "===> Epoch: 75 Average mae test loss for targetcol :3.0769\n",
      "===> Epoch: 75 Average mae test loss for targetcol: 2.9383\n",
      "====> Test set loss: 8771.8161\n",
      "====> Epoch: 75 Average test loss: 0.2486\n"
     ]
    },
    {
     "name": "stderr",
     "output_type": "stream",
     "text": [
      "Train Epoch: 76 [104960/105870 (99%)]\tLoss: 1.134459: 100%|██████████| 828/828 [00:03<00:00, 237.09it/s]\n"
     ]
    },
    {
     "name": "stdout",
     "output_type": "stream",
     "text": [
      "====> Epoch: 76 Average train loss: 1.1516\n",
      "===> Epoch: 76 Average mae test loss for targetcol :3.0816\n",
      "===> Epoch: 76 Average mae test loss for targetcol: 3.0483\n",
      "====> Test set loss: 8386.7855\n",
      "====> Epoch: 76 Average test loss: 0.2377\n"
     ]
    },
    {
     "name": "stderr",
     "output_type": "stream",
     "text": [
      "Train Epoch: 77 [104960/105870 (99%)]\tLoss: 1.060433: 100%|██████████| 828/828 [00:03<00:00, 240.34it/s]\n"
     ]
    },
    {
     "name": "stdout",
     "output_type": "stream",
     "text": [
      "====> Epoch: 77 Average train loss: 1.1487\n",
      "===> Epoch: 77 Average mae test loss for targetcol :3.0847\n",
      "===> Epoch: 77 Average mae test loss for targetcol: 2.9463\n",
      "====> Test set loss: 9333.6721\n",
      "====> Epoch: 77 Average test loss: 0.2645\n"
     ]
    },
    {
     "name": "stderr",
     "output_type": "stream",
     "text": [
      "Train Epoch: 78 [104960/105870 (99%)]\tLoss: 1.069237: 100%|██████████| 828/828 [00:03<00:00, 239.51it/s]\n"
     ]
    },
    {
     "name": "stdout",
     "output_type": "stream",
     "text": [
      "====> Epoch: 78 Average train loss: 1.1572\n",
      "===> Epoch: 78 Average mae test loss for targetcol :3.0910\n",
      "===> Epoch: 78 Average mae test loss for targetcol: 2.9847\n",
      "====> Test set loss: 9126.5558\n",
      "====> Epoch: 78 Average test loss: 0.2586\n"
     ]
    },
    {
     "name": "stderr",
     "output_type": "stream",
     "text": [
      "Train Epoch: 79 [104960/105870 (99%)]\tLoss: 0.844567: 100%|██████████| 828/828 [00:03<00:00, 235.68it/s]\n"
     ]
    },
    {
     "name": "stdout",
     "output_type": "stream",
     "text": [
      "====> Epoch: 79 Average train loss: 1.1496\n",
      "===> Epoch: 79 Average mae test loss for targetcol :3.0839\n",
      "===> Epoch: 79 Average mae test loss for targetcol: 2.8936\n",
      "====> Test set loss: 8519.8276\n",
      "====> Epoch: 79 Average test loss: 0.2414\n"
     ]
    },
    {
     "name": "stderr",
     "output_type": "stream",
     "text": [
      "Train Epoch: 80 [104960/105870 (99%)]\tLoss: 1.002177: 100%|██████████| 828/828 [00:04<00:00, 204.81it/s]\n"
     ]
    },
    {
     "name": "stdout",
     "output_type": "stream",
     "text": [
      "====> Epoch: 80 Average train loss: 1.1518\n",
      "===> Epoch: 80 Average mae test loss for targetcol :3.0798\n",
      "===> Epoch: 80 Average mae test loss for targetcol: 2.9879\n",
      "====> Test set loss: 7496.8944\n",
      "====> Epoch: 80 Average test loss: 0.2124\n"
     ]
    },
    {
     "name": "stderr",
     "output_type": "stream",
     "text": [
      "Train Epoch: 81 [104960/105870 (99%)]\tLoss: 1.256235: 100%|██████████| 828/828 [00:03<00:00, 231.13it/s]\n"
     ]
    },
    {
     "name": "stdout",
     "output_type": "stream",
     "text": [
      "====> Epoch: 81 Average train loss: 1.1495\n",
      "===> Epoch: 81 Average mae test loss for targetcol :3.0856\n",
      "===> Epoch: 81 Average mae test loss for targetcol: 2.9701\n",
      "====> Test set loss: 8195.4954\n",
      "====> Epoch: 81 Average test loss: 0.2322\n"
     ]
    },
    {
     "name": "stderr",
     "output_type": "stream",
     "text": [
      "Train Epoch: 82 [104960/105870 (99%)]\tLoss: 0.975761: 100%|██████████| 828/828 [00:03<00:00, 233.91it/s]\n"
     ]
    },
    {
     "name": "stdout",
     "output_type": "stream",
     "text": [
      "====> Epoch: 82 Average train loss: 1.1529\n",
      "===> Epoch: 82 Average mae test loss for targetcol :3.0843\n",
      "===> Epoch: 82 Average mae test loss for targetcol: 3.0158\n",
      "====> Test set loss: 8998.2626\n",
      "====> Epoch: 82 Average test loss: 0.2550\n"
     ]
    },
    {
     "name": "stderr",
     "output_type": "stream",
     "text": [
      "Train Epoch: 83 [104960/105870 (99%)]\tLoss: 1.036041: 100%|██████████| 828/828 [00:03<00:00, 240.59it/s]\n"
     ]
    },
    {
     "name": "stdout",
     "output_type": "stream",
     "text": [
      "====> Epoch: 83 Average train loss: 1.1485\n",
      "===> Epoch: 83 Average mae test loss for targetcol :3.0783\n",
      "===> Epoch: 83 Average mae test loss for targetcol: 2.9752\n",
      "====> Test set loss: 8481.7365\n",
      "====> Epoch: 83 Average test loss: 0.2403\n"
     ]
    },
    {
     "name": "stderr",
     "output_type": "stream",
     "text": [
      "Train Epoch: 84 [104960/105870 (99%)]\tLoss: 1.102355: 100%|██████████| 828/828 [00:03<00:00, 246.10it/s]\n"
     ]
    },
    {
     "name": "stdout",
     "output_type": "stream",
     "text": [
      "====> Epoch: 84 Average train loss: 1.1516\n",
      "===> Epoch: 84 Average mae test loss for targetcol :3.0860\n",
      "===> Epoch: 84 Average mae test loss for targetcol: 3.0266\n",
      "====> Test set loss: 8222.7828\n",
      "====> Epoch: 84 Average test loss: 0.2330\n"
     ]
    },
    {
     "name": "stderr",
     "output_type": "stream",
     "text": [
      "Train Epoch: 85 [104960/105870 (99%)]\tLoss: 1.128958: 100%|██████████| 828/828 [00:03<00:00, 244.46it/s]\n"
     ]
    },
    {
     "name": "stdout",
     "output_type": "stream",
     "text": [
      "====> Epoch: 85 Average train loss: 1.1503\n",
      "===> Epoch: 85 Average mae test loss for targetcol :3.0800\n",
      "===> Epoch: 85 Average mae test loss for targetcol: 3.1653\n",
      "====> Test set loss: 8701.4860\n",
      "====> Epoch: 85 Average test loss: 0.2466\n"
     ]
    },
    {
     "name": "stderr",
     "output_type": "stream",
     "text": [
      "Train Epoch: 86 [104960/105870 (99%)]\tLoss: 1.192272: 100%|██████████| 828/828 [00:03<00:00, 248.95it/s]\n"
     ]
    },
    {
     "name": "stdout",
     "output_type": "stream",
     "text": [
      "====> Epoch: 86 Average train loss: 1.1539\n",
      "===> Epoch: 86 Average mae test loss for targetcol :3.0906\n",
      "===> Epoch: 86 Average mae test loss for targetcol: 3.0136\n",
      "====> Test set loss: 8972.4790\n",
      "====> Epoch: 86 Average test loss: 0.2542\n"
     ]
    },
    {
     "name": "stderr",
     "output_type": "stream",
     "text": [
      "Train Epoch: 87 [104960/105870 (99%)]\tLoss: 1.020873: 100%|██████████| 828/828 [00:03<00:00, 250.98it/s]\n"
     ]
    },
    {
     "name": "stdout",
     "output_type": "stream",
     "text": [
      "====> Epoch: 87 Average train loss: 1.1544\n",
      "===> Epoch: 87 Average mae test loss for targetcol :3.0855\n",
      "===> Epoch: 87 Average mae test loss for targetcol: 2.9096\n",
      "====> Test set loss: 8660.3525\n",
      "====> Epoch: 87 Average test loss: 0.2454\n"
     ]
    },
    {
     "name": "stderr",
     "output_type": "stream",
     "text": [
      "Train Epoch: 88 [104960/105870 (99%)]\tLoss: 1.092120: 100%|██████████| 828/828 [00:03<00:00, 248.89it/s]\n"
     ]
    },
    {
     "name": "stdout",
     "output_type": "stream",
     "text": [
      "====> Epoch: 88 Average train loss: 1.1472\n",
      "===> Epoch: 88 Average mae test loss for targetcol :3.0879\n",
      "===> Epoch: 88 Average mae test loss for targetcol: 3.0433\n",
      "====> Test set loss: 8767.5896\n",
      "====> Epoch: 88 Average test loss: 0.2484\n"
     ]
    },
    {
     "name": "stderr",
     "output_type": "stream",
     "text": [
      "Train Epoch: 89 [104960/105870 (99%)]\tLoss: 0.943551: 100%|██████████| 828/828 [00:03<00:00, 250.35it/s]\n"
     ]
    },
    {
     "name": "stdout",
     "output_type": "stream",
     "text": [
      "====> Epoch: 89 Average train loss: 1.1508\n",
      "===> Epoch: 89 Average mae test loss for targetcol :3.0875\n",
      "===> Epoch: 89 Average mae test loss for targetcol: 3.0959\n",
      "====> Test set loss: 8742.4874\n",
      "====> Epoch: 89 Average test loss: 0.2477\n"
     ]
    },
    {
     "name": "stderr",
     "output_type": "stream",
     "text": [
      "Train Epoch: 90 [104960/105870 (99%)]\tLoss: 1.219943: 100%|██████████| 828/828 [00:03<00:00, 251.04it/s]\n"
     ]
    },
    {
     "name": "stdout",
     "output_type": "stream",
     "text": [
      "====> Epoch: 90 Average train loss: 1.1522\n",
      "===> Epoch: 90 Average mae test loss for targetcol :3.0867\n",
      "===> Epoch: 90 Average mae test loss for targetcol: 2.9317\n",
      "====> Test set loss: 8483.5761\n",
      "====> Epoch: 90 Average test loss: 0.2404\n"
     ]
    },
    {
     "name": "stderr",
     "output_type": "stream",
     "text": [
      "Train Epoch: 91 [104960/105870 (99%)]\tLoss: 1.133412: 100%|██████████| 828/828 [00:03<00:00, 249.60it/s]\n"
     ]
    },
    {
     "name": "stdout",
     "output_type": "stream",
     "text": [
      "====> Epoch: 91 Average train loss: 1.1503\n",
      "===> Epoch: 91 Average mae test loss for targetcol :3.0849\n",
      "===> Epoch: 91 Average mae test loss for targetcol: 2.9699\n",
      "====> Test set loss: 8934.2314\n",
      "====> Epoch: 91 Average test loss: 0.2532\n"
     ]
    },
    {
     "name": "stderr",
     "output_type": "stream",
     "text": [
      "Train Epoch: 92 [104960/105870 (99%)]\tLoss: 1.367839: 100%|██████████| 828/828 [00:03<00:00, 250.93it/s]\n"
     ]
    },
    {
     "name": "stdout",
     "output_type": "stream",
     "text": [
      "====> Epoch: 92 Average train loss: 1.1477\n",
      "===> Epoch: 92 Average mae test loss for targetcol :3.0759\n",
      "===> Epoch: 92 Average mae test loss for targetcol: 2.9335\n",
      "====> Test set loss: 9519.8095\n",
      "====> Epoch: 92 Average test loss: 0.2698\n"
     ]
    },
    {
     "name": "stderr",
     "output_type": "stream",
     "text": [
      "Train Epoch: 93 [104960/105870 (99%)]\tLoss: 1.271251: 100%|██████████| 828/828 [00:03<00:00, 250.23it/s]\n"
     ]
    },
    {
     "name": "stdout",
     "output_type": "stream",
     "text": [
      "====> Epoch: 93 Average train loss: 1.1523\n",
      "===> Epoch: 93 Average mae test loss for targetcol :3.0854\n",
      "===> Epoch: 93 Average mae test loss for targetcol: 2.9687\n",
      "====> Test set loss: 9175.8873\n",
      "====> Epoch: 93 Average test loss: 0.2600\n"
     ]
    },
    {
     "name": "stderr",
     "output_type": "stream",
     "text": [
      "Train Epoch: 94 [104960/105870 (99%)]\tLoss: 1.048393: 100%|██████████| 828/828 [00:03<00:00, 251.13it/s]\n"
     ]
    },
    {
     "name": "stdout",
     "output_type": "stream",
     "text": [
      "====> Epoch: 94 Average train loss: 1.1519\n",
      "===> Epoch: 94 Average mae test loss for targetcol :3.0825\n",
      "===> Epoch: 94 Average mae test loss for targetcol: 2.9597\n",
      "====> Test set loss: 8826.2841\n",
      "====> Epoch: 94 Average test loss: 0.2501\n"
     ]
    },
    {
     "name": "stderr",
     "output_type": "stream",
     "text": [
      "Train Epoch: 95 [104960/105870 (99%)]\tLoss: 1.078122: 100%|██████████| 828/828 [00:03<00:00, 248.00it/s]\n"
     ]
    },
    {
     "name": "stdout",
     "output_type": "stream",
     "text": [
      "====> Epoch: 95 Average train loss: 1.1520\n",
      "===> Epoch: 95 Average mae test loss for targetcol :3.0830\n",
      "===> Epoch: 95 Average mae test loss for targetcol: 3.0378\n",
      "====> Test set loss: 7780.2510\n",
      "====> Epoch: 95 Average test loss: 0.2205\n"
     ]
    },
    {
     "name": "stderr",
     "output_type": "stream",
     "text": [
      "Train Epoch: 96 [104960/105870 (99%)]\tLoss: 1.225958: 100%|██████████| 828/828 [00:03<00:00, 242.75it/s]\n"
     ]
    },
    {
     "name": "stdout",
     "output_type": "stream",
     "text": [
      "====> Epoch: 96 Average train loss: 1.1511\n",
      "===> Epoch: 96 Average mae test loss for targetcol :3.0902\n",
      "===> Epoch: 96 Average mae test loss for targetcol: 2.9648\n",
      "====> Test set loss: 9443.6376\n",
      "====> Epoch: 96 Average test loss: 0.2676\n"
     ]
    },
    {
     "name": "stderr",
     "output_type": "stream",
     "text": [
      "Train Epoch: 97 [104960/105870 (99%)]\tLoss: 1.100429: 100%|██████████| 828/828 [00:03<00:00, 251.42it/s]\n"
     ]
    },
    {
     "name": "stdout",
     "output_type": "stream",
     "text": [
      "====> Epoch: 97 Average train loss: 1.1481\n",
      "===> Epoch: 97 Average mae test loss for targetcol :3.0798\n",
      "===> Epoch: 97 Average mae test loss for targetcol: 3.0079\n",
      "====> Test set loss: 8122.3031\n",
      "====> Epoch: 97 Average test loss: 0.2302\n"
     ]
    },
    {
     "name": "stderr",
     "output_type": "stream",
     "text": [
      "Train Epoch: 98 [104960/105870 (99%)]\tLoss: 1.240412: 100%|██████████| 828/828 [00:03<00:00, 238.45it/s]\n"
     ]
    },
    {
     "name": "stdout",
     "output_type": "stream",
     "text": [
      "====> Epoch: 98 Average train loss: 1.1476\n",
      "===> Epoch: 98 Average mae test loss for targetcol :3.0819\n",
      "===> Epoch: 98 Average mae test loss for targetcol: 2.8881\n",
      "====> Test set loss: 8353.6724\n",
      "====> Epoch: 98 Average test loss: 0.2367\n"
     ]
    },
    {
     "name": "stderr",
     "output_type": "stream",
     "text": [
      "Train Epoch: 99 [104960/105870 (99%)]\tLoss: 1.215538: 100%|██████████| 828/828 [00:03<00:00, 250.00it/s]\n"
     ]
    },
    {
     "name": "stdout",
     "output_type": "stream",
     "text": [
      "====> Epoch: 99 Average train loss: 1.1525\n",
      "===> Epoch: 99 Average mae test loss for targetcol :3.0864\n",
      "===> Epoch: 99 Average mae test loss for targetcol: 2.9027\n",
      "====> Test set loss: 8632.9505\n",
      "====> Epoch: 99 Average test loss: 0.2446\n"
     ]
    },
    {
     "name": "stderr",
     "output_type": "stream",
     "text": [
      "Train Epoch: 100 [104960/105870 (99%)]\tLoss: 1.163595: 100%|██████████| 828/828 [00:03<00:00, 250.33it/s]\n"
     ]
    },
    {
     "name": "stdout",
     "output_type": "stream",
     "text": [
      "====> Epoch: 100 Average train loss: 1.1506\n",
      "===> Epoch: 100 Average mae test loss for targetcol :3.0847\n",
      "===> Epoch: 100 Average mae test loss for targetcol: 2.9218\n",
      "====> Test set loss: 10674.3004\n",
      "====> Epoch: 100 Average test loss: 0.3025\n"
     ]
    },
    {
     "name": "stderr",
     "output_type": "stream",
     "text": [
      "Train Epoch: 101 [104960/105870 (99%)]\tLoss: 1.216876: 100%|██████████| 828/828 [00:03<00:00, 246.90it/s]\n"
     ]
    },
    {
     "name": "stdout",
     "output_type": "stream",
     "text": [
      "====> Epoch: 101 Average train loss: 1.1526\n",
      "===> Epoch: 101 Average mae test loss for targetcol :3.0804\n",
      "===> Epoch: 101 Average mae test loss for targetcol: 2.9599\n",
      "====> Test set loss: 8357.4862\n",
      "====> Epoch: 101 Average test loss: 0.2368\n"
     ]
    },
    {
     "name": "stderr",
     "output_type": "stream",
     "text": [
      "Train Epoch: 102 [104960/105870 (99%)]\tLoss: 1.054275: 100%|██████████| 828/828 [00:03<00:00, 249.92it/s]\n"
     ]
    },
    {
     "name": "stdout",
     "output_type": "stream",
     "text": [
      "====> Epoch: 102 Average train loss: 1.1476\n",
      "===> Epoch: 102 Average mae test loss for targetcol :3.0834\n",
      "===> Epoch: 102 Average mae test loss for targetcol: 2.9131\n",
      "====> Test set loss: 7711.1106\n",
      "====> Epoch: 102 Average test loss: 0.2185\n"
     ]
    },
    {
     "name": "stderr",
     "output_type": "stream",
     "text": [
      "Train Epoch: 103 [104960/105870 (99%)]\tLoss: 1.276421: 100%|██████████| 828/828 [00:03<00:00, 248.38it/s]\n"
     ]
    },
    {
     "name": "stdout",
     "output_type": "stream",
     "text": [
      "====> Epoch: 103 Average train loss: 1.1507\n",
      "===> Epoch: 103 Average mae test loss for targetcol :3.0800\n",
      "===> Epoch: 103 Average mae test loss for targetcol: 2.9351\n",
      "====> Test set loss: 9453.0276\n",
      "====> Epoch: 103 Average test loss: 0.2679\n"
     ]
    },
    {
     "name": "stderr",
     "output_type": "stream",
     "text": [
      "Train Epoch: 104 [104960/105870 (99%)]\tLoss: 1.065188: 100%|██████████| 828/828 [00:03<00:00, 250.12it/s]\n"
     ]
    },
    {
     "name": "stdout",
     "output_type": "stream",
     "text": [
      "====> Epoch: 104 Average train loss: 1.1520\n",
      "===> Epoch: 104 Average mae test loss for targetcol :3.0780\n",
      "===> Epoch: 104 Average mae test loss for targetcol: 2.9504\n",
      "====> Test set loss: 8122.2435\n",
      "====> Epoch: 104 Average test loss: 0.2302\n"
     ]
    },
    {
     "name": "stderr",
     "output_type": "stream",
     "text": [
      "Train Epoch: 105 [104960/105870 (99%)]\tLoss: 1.232930: 100%|██████████| 828/828 [00:03<00:00, 249.97it/s]\n"
     ]
    },
    {
     "name": "stdout",
     "output_type": "stream",
     "text": [
      "====> Epoch: 105 Average train loss: 1.1505\n",
      "===> Epoch: 105 Average mae test loss for targetcol :3.0905\n",
      "===> Epoch: 105 Average mae test loss for targetcol: 2.9510\n",
      "====> Test set loss: 8331.6824\n",
      "====> Epoch: 105 Average test loss: 0.2361\n"
     ]
    },
    {
     "name": "stderr",
     "output_type": "stream",
     "text": [
      "Train Epoch: 106 [104960/105870 (99%)]\tLoss: 1.187421: 100%|██████████| 828/828 [00:03<00:00, 250.06it/s]\n"
     ]
    },
    {
     "name": "stdout",
     "output_type": "stream",
     "text": [
      "====> Epoch: 106 Average train loss: 1.1542\n",
      "===> Epoch: 106 Average mae test loss for targetcol :3.0835\n",
      "===> Epoch: 106 Average mae test loss for targetcol: 3.0001\n",
      "====> Test set loss: 9341.6813\n",
      "====> Epoch: 106 Average test loss: 0.2647\n"
     ]
    },
    {
     "name": "stderr",
     "output_type": "stream",
     "text": [
      "Train Epoch: 107 [104960/105870 (99%)]\tLoss: 1.032245: 100%|██████████| 828/828 [00:03<00:00, 249.68it/s]\n"
     ]
    },
    {
     "name": "stdout",
     "output_type": "stream",
     "text": [
      "====> Epoch: 107 Average train loss: 1.1539\n",
      "===> Epoch: 107 Average mae test loss for targetcol :3.0810\n",
      "===> Epoch: 107 Average mae test loss for targetcol: 2.8761\n",
      "====> Test set loss: 8577.5362\n",
      "====> Epoch: 107 Average test loss: 0.2431\n"
     ]
    },
    {
     "name": "stderr",
     "output_type": "stream",
     "text": [
      "Train Epoch: 108 [104960/105870 (99%)]\tLoss: 1.060523: 100%|██████████| 828/828 [00:03<00:00, 229.07it/s]\n"
     ]
    },
    {
     "name": "stdout",
     "output_type": "stream",
     "text": [
      "====> Epoch: 108 Average train loss: 1.1532\n",
      "===> Epoch: 108 Average mae test loss for targetcol :3.0866\n",
      "===> Epoch: 108 Average mae test loss for targetcol: 2.8876\n",
      "====> Test set loss: 9117.9184\n",
      "====> Epoch: 108 Average test loss: 0.2584\n"
     ]
    },
    {
     "name": "stderr",
     "output_type": "stream",
     "text": [
      "Train Epoch: 109 [104960/105870 (99%)]\tLoss: 1.164129: 100%|██████████| 828/828 [00:03<00:00, 239.54it/s]\n"
     ]
    },
    {
     "name": "stdout",
     "output_type": "stream",
     "text": [
      "====> Epoch: 109 Average train loss: 1.1503\n",
      "===> Epoch: 109 Average mae test loss for targetcol :3.0814\n",
      "===> Epoch: 109 Average mae test loss for targetcol: 2.9350\n",
      "====> Test set loss: 8626.7433\n",
      "====> Epoch: 109 Average test loss: 0.2445\n"
     ]
    },
    {
     "name": "stderr",
     "output_type": "stream",
     "text": [
      "Train Epoch: 110 [104960/105870 (99%)]\tLoss: 1.035915: 100%|██████████| 828/828 [00:03<00:00, 245.65it/s]\n"
     ]
    },
    {
     "name": "stdout",
     "output_type": "stream",
     "text": [
      "====> Epoch: 110 Average train loss: 1.1447\n",
      "===> Epoch: 110 Average mae test loss for targetcol :3.0862\n",
      "===> Epoch: 110 Average mae test loss for targetcol: 2.9066\n",
      "====> Test set loss: 8947.9239\n",
      "====> Epoch: 110 Average test loss: 0.2536\n"
     ]
    },
    {
     "name": "stderr",
     "output_type": "stream",
     "text": [
      "Train Epoch: 111 [104960/105870 (99%)]\tLoss: 0.988165: 100%|██████████| 828/828 [00:03<00:00, 224.28it/s]\n"
     ]
    },
    {
     "name": "stdout",
     "output_type": "stream",
     "text": [
      "====> Epoch: 111 Average train loss: 1.1500\n",
      "===> Epoch: 111 Average mae test loss for targetcol :3.0844\n",
      "===> Epoch: 111 Average mae test loss for targetcol: 3.0375\n",
      "====> Test set loss: 7724.2061\n",
      "====> Epoch: 111 Average test loss: 0.2189\n"
     ]
    },
    {
     "name": "stderr",
     "output_type": "stream",
     "text": [
      "Train Epoch: 112 [104960/105870 (99%)]\tLoss: 1.270028: 100%|██████████| 828/828 [00:03<00:00, 248.97it/s]\n"
     ]
    },
    {
     "name": "stdout",
     "output_type": "stream",
     "text": [
      "====> Epoch: 112 Average train loss: 1.1492\n",
      "===> Epoch: 112 Average mae test loss for targetcol :3.0809\n",
      "===> Epoch: 112 Average mae test loss for targetcol: 2.9092\n",
      "====> Test set loss: 9019.5196\n",
      "====> Epoch: 112 Average test loss: 0.2556\n"
     ]
    },
    {
     "name": "stderr",
     "output_type": "stream",
     "text": [
      "Train Epoch: 113 [104960/105870 (99%)]\tLoss: 1.255177: 100%|██████████| 828/828 [00:03<00:00, 249.24it/s]\n"
     ]
    },
    {
     "name": "stdout",
     "output_type": "stream",
     "text": [
      "====> Epoch: 113 Average train loss: 1.1521\n",
      "===> Epoch: 113 Average mae test loss for targetcol :3.0850\n",
      "===> Epoch: 113 Average mae test loss for targetcol: 2.9373\n",
      "====> Test set loss: 8981.7246\n",
      "====> Epoch: 113 Average test loss: 0.2545\n"
     ]
    },
    {
     "name": "stderr",
     "output_type": "stream",
     "text": [
      "Train Epoch: 114 [104960/105870 (99%)]\tLoss: 1.118178: 100%|██████████| 828/828 [00:03<00:00, 248.26it/s]\n"
     ]
    },
    {
     "name": "stdout",
     "output_type": "stream",
     "text": [
      "====> Epoch: 114 Average train loss: 1.1525\n",
      "===> Epoch: 114 Average mae test loss for targetcol :3.0841\n",
      "===> Epoch: 114 Average mae test loss for targetcol: 2.9551\n",
      "====> Test set loss: 7821.2868\n",
      "====> Epoch: 114 Average test loss: 0.2216\n"
     ]
    },
    {
     "name": "stderr",
     "output_type": "stream",
     "text": [
      "Train Epoch: 115 [104960/105870 (99%)]\tLoss: 1.161284: 100%|██████████| 828/828 [00:03<00:00, 249.53it/s]\n"
     ]
    },
    {
     "name": "stdout",
     "output_type": "stream",
     "text": [
      "====> Epoch: 115 Average train loss: 1.1535\n",
      "===> Epoch: 115 Average mae test loss for targetcol :3.0882\n",
      "===> Epoch: 115 Average mae test loss for targetcol: 2.9087\n",
      "====> Test set loss: 9115.8668\n",
      "====> Epoch: 115 Average test loss: 0.2583\n"
     ]
    },
    {
     "name": "stderr",
     "output_type": "stream",
     "text": [
      "Train Epoch: 116 [104960/105870 (99%)]\tLoss: 1.080245: 100%|██████████| 828/828 [00:03<00:00, 249.35it/s]\n"
     ]
    },
    {
     "name": "stdout",
     "output_type": "stream",
     "text": [
      "====> Epoch: 116 Average train loss: 1.1453\n",
      "===> Epoch: 116 Average mae test loss for targetcol :3.0886\n",
      "===> Epoch: 116 Average mae test loss for targetcol: 2.9219\n",
      "====> Test set loss: 8363.2784\n",
      "====> Epoch: 116 Average test loss: 0.2370\n"
     ]
    },
    {
     "name": "stderr",
     "output_type": "stream",
     "text": [
      "Train Epoch: 117 [104960/105870 (99%)]\tLoss: 1.148028: 100%|██████████| 828/828 [00:03<00:00, 245.21it/s]\n"
     ]
    },
    {
     "name": "stdout",
     "output_type": "stream",
     "text": [
      "====> Epoch: 117 Average train loss: 1.1512\n",
      "===> Epoch: 117 Average mae test loss for targetcol :3.0795\n",
      "===> Epoch: 117 Average mae test loss for targetcol: 2.9534\n",
      "====> Test set loss: 8918.5332\n",
      "====> Epoch: 117 Average test loss: 0.2527\n"
     ]
    },
    {
     "name": "stderr",
     "output_type": "stream",
     "text": [
      "Train Epoch: 118 [104960/105870 (99%)]\tLoss: 1.224723: 100%|██████████| 828/828 [00:03<00:00, 249.46it/s]\n"
     ]
    },
    {
     "name": "stdout",
     "output_type": "stream",
     "text": [
      "====> Epoch: 118 Average train loss: 1.1505\n",
      "===> Epoch: 118 Average mae test loss for targetcol :3.0851\n",
      "===> Epoch: 118 Average mae test loss for targetcol: 2.9594\n",
      "====> Test set loss: 8320.9310\n",
      "====> Epoch: 118 Average test loss: 0.2358\n"
     ]
    },
    {
     "name": "stderr",
     "output_type": "stream",
     "text": [
      "Train Epoch: 119 [104960/105870 (99%)]\tLoss: 1.150346: 100%|██████████| 828/828 [00:03<00:00, 250.60it/s]\n"
     ]
    },
    {
     "name": "stdout",
     "output_type": "stream",
     "text": [
      "====> Epoch: 119 Average train loss: 1.1549\n",
      "===> Epoch: 119 Average mae test loss for targetcol :3.0852\n",
      "===> Epoch: 119 Average mae test loss for targetcol: 2.9840\n",
      "====> Test set loss: 8960.5164\n",
      "====> Epoch: 119 Average test loss: 0.2539\n"
     ]
    },
    {
     "name": "stderr",
     "output_type": "stream",
     "text": [
      "Train Epoch: 120 [104960/105870 (99%)]\tLoss: 1.004765: 100%|██████████| 828/828 [00:03<00:00, 250.96it/s]\n"
     ]
    },
    {
     "name": "stdout",
     "output_type": "stream",
     "text": [
      "====> Epoch: 120 Average train loss: 1.1525\n",
      "===> Epoch: 120 Average mae test loss for targetcol :3.0851\n",
      "===> Epoch: 120 Average mae test loss for targetcol: 2.9817\n",
      "====> Test set loss: 8079.3479\n",
      "====> Epoch: 120 Average test loss: 0.2289\n"
     ]
    },
    {
     "name": "stderr",
     "output_type": "stream",
     "text": [
      "Train Epoch: 121 [104960/105870 (99%)]\tLoss: 1.070575: 100%|██████████| 828/828 [00:03<00:00, 250.51it/s]\n"
     ]
    },
    {
     "name": "stdout",
     "output_type": "stream",
     "text": [
      "====> Epoch: 121 Average train loss: 1.1517\n",
      "===> Epoch: 121 Average mae test loss for targetcol :3.0843\n",
      "===> Epoch: 121 Average mae test loss for targetcol: 2.9593\n",
      "====> Test set loss: 8517.2623\n",
      "====> Epoch: 121 Average test loss: 0.2414\n"
     ]
    },
    {
     "name": "stderr",
     "output_type": "stream",
     "text": [
      "Train Epoch: 122 [104960/105870 (99%)]\tLoss: 1.282500: 100%|██████████| 828/828 [00:03<00:00, 249.64it/s]\n"
     ]
    },
    {
     "name": "stdout",
     "output_type": "stream",
     "text": [
      "====> Epoch: 122 Average train loss: 1.1531\n",
      "===> Epoch: 122 Average mae test loss for targetcol :3.0867\n",
      "===> Epoch: 122 Average mae test loss for targetcol: 2.9747\n",
      "====> Test set loss: 8393.5671\n",
      "====> Epoch: 122 Average test loss: 0.2378\n"
     ]
    },
    {
     "name": "stderr",
     "output_type": "stream",
     "text": [
      "Train Epoch: 123 [104960/105870 (99%)]\tLoss: 1.213680: 100%|██████████| 828/828 [00:03<00:00, 251.30it/s]\n"
     ]
    },
    {
     "name": "stdout",
     "output_type": "stream",
     "text": [
      "====> Epoch: 123 Average train loss: 1.1491\n",
      "===> Epoch: 123 Average mae test loss for targetcol :3.0902\n",
      "===> Epoch: 123 Average mae test loss for targetcol: 2.8788\n",
      "====> Test set loss: 9966.9431\n",
      "====> Epoch: 123 Average test loss: 0.2824\n"
     ]
    },
    {
     "name": "stderr",
     "output_type": "stream",
     "text": [
      "Train Epoch: 124 [104960/105870 (99%)]\tLoss: 1.327255: 100%|██████████| 828/828 [00:03<00:00, 249.97it/s]\n"
     ]
    },
    {
     "name": "stdout",
     "output_type": "stream",
     "text": [
      "====> Epoch: 124 Average train loss: 1.1493\n",
      "===> Epoch: 124 Average mae test loss for targetcol :3.0821\n",
      "===> Epoch: 124 Average mae test loss for targetcol: 2.9396\n",
      "====> Test set loss: 8138.5955\n",
      "====> Epoch: 124 Average test loss: 0.2306\n"
     ]
    },
    {
     "name": "stderr",
     "output_type": "stream",
     "text": [
      "Train Epoch: 125 [104960/105870 (99%)]\tLoss: 1.262928: 100%|██████████| 828/828 [00:03<00:00, 250.11it/s]\n"
     ]
    },
    {
     "name": "stdout",
     "output_type": "stream",
     "text": [
      "====> Epoch: 125 Average train loss: 1.1512\n",
      "===> Epoch: 125 Average mae test loss for targetcol :3.0784\n",
      "===> Epoch: 125 Average mae test loss for targetcol: 2.9204\n",
      "====> Test set loss: 9405.1111\n",
      "====> Epoch: 125 Average test loss: 0.2665\n"
     ]
    },
    {
     "name": "stderr",
     "output_type": "stream",
     "text": [
      "Train Epoch: 126 [104960/105870 (99%)]\tLoss: 1.289568: 100%|██████████| 828/828 [00:03<00:00, 247.60it/s]\n"
     ]
    },
    {
     "name": "stdout",
     "output_type": "stream",
     "text": [
      "====> Epoch: 126 Average train loss: 1.1526\n",
      "===> Epoch: 126 Average mae test loss for targetcol :3.0771\n",
      "===> Epoch: 126 Average mae test loss for targetcol: 2.9570\n",
      "====> Test set loss: 8692.3371\n",
      "====> Epoch: 126 Average test loss: 0.2463\n"
     ]
    },
    {
     "name": "stderr",
     "output_type": "stream",
     "text": [
      "Train Epoch: 127 [104960/105870 (99%)]\tLoss: 1.186595: 100%|██████████| 828/828 [00:03<00:00, 249.02it/s]\n"
     ]
    },
    {
     "name": "stdout",
     "output_type": "stream",
     "text": [
      "====> Epoch: 127 Average train loss: 1.1522\n",
      "===> Epoch: 127 Average mae test loss for targetcol :3.0861\n",
      "===> Epoch: 127 Average mae test loss for targetcol: 2.8952\n",
      "====> Test set loss: 9015.4768\n",
      "====> Epoch: 127 Average test loss: 0.2555\n"
     ]
    },
    {
     "name": "stderr",
     "output_type": "stream",
     "text": [
      "Train Epoch: 128 [104960/105870 (99%)]\tLoss: 1.236982: 100%|██████████| 828/828 [00:03<00:00, 248.07it/s]\n"
     ]
    },
    {
     "name": "stdout",
     "output_type": "stream",
     "text": [
      "====> Epoch: 128 Average train loss: 1.1499\n",
      "===> Epoch: 128 Average mae test loss for targetcol :3.0869\n",
      "===> Epoch: 128 Average mae test loss for targetcol: 2.9588\n",
      "====> Test set loss: 8188.2838\n",
      "====> Epoch: 128 Average test loss: 0.2320\n"
     ]
    },
    {
     "name": "stderr",
     "output_type": "stream",
     "text": [
      "Train Epoch: 129 [104960/105870 (99%)]\tLoss: 1.263811: 100%|██████████| 828/828 [00:03<00:00, 250.16it/s]\n"
     ]
    },
    {
     "name": "stdout",
     "output_type": "stream",
     "text": [
      "====> Epoch: 129 Average train loss: 1.1598\n",
      "===> Epoch: 129 Average mae test loss for targetcol :3.0871\n",
      "===> Epoch: 129 Average mae test loss for targetcol: 3.0045\n",
      "====> Test set loss: 9048.0945\n",
      "====> Epoch: 129 Average test loss: 0.2564\n"
     ]
    },
    {
     "name": "stderr",
     "output_type": "stream",
     "text": [
      "Train Epoch: 130 [104960/105870 (99%)]\tLoss: 1.066256: 100%|██████████| 828/828 [00:03<00:00, 249.85it/s]\n"
     ]
    },
    {
     "name": "stdout",
     "output_type": "stream",
     "text": [
      "====> Epoch: 130 Average train loss: 1.1520\n",
      "===> Epoch: 130 Average mae test loss for targetcol :3.0898\n",
      "===> Epoch: 130 Average mae test loss for targetcol: 2.9822\n",
      "====> Test set loss: 8937.9232\n",
      "====> Epoch: 130 Average test loss: 0.2533\n"
     ]
    },
    {
     "name": "stderr",
     "output_type": "stream",
     "text": [
      "Train Epoch: 131 [104960/105870 (99%)]\tLoss: 1.213022: 100%|██████████| 828/828 [00:03<00:00, 248.61it/s]\n"
     ]
    },
    {
     "name": "stdout",
     "output_type": "stream",
     "text": [
      "====> Epoch: 131 Average train loss: 1.1500\n",
      "===> Epoch: 131 Average mae test loss for targetcol :3.0923\n",
      "===> Epoch: 131 Average mae test loss for targetcol: 2.9292\n",
      "====> Test set loss: 8414.9354\n",
      "====> Epoch: 131 Average test loss: 0.2385\n"
     ]
    },
    {
     "name": "stderr",
     "output_type": "stream",
     "text": [
      "Train Epoch: 132 [104960/105870 (99%)]\tLoss: 0.916555: 100%|██████████| 828/828 [00:03<00:00, 244.08it/s]\n"
     ]
    },
    {
     "name": "stdout",
     "output_type": "stream",
     "text": [
      "====> Epoch: 132 Average train loss: 1.1476\n",
      "===> Epoch: 132 Average mae test loss for targetcol :3.0851\n",
      "===> Epoch: 132 Average mae test loss for targetcol: 2.9269\n",
      "====> Test set loss: 9304.2705\n",
      "====> Epoch: 132 Average test loss: 0.2637\n"
     ]
    },
    {
     "name": "stderr",
     "output_type": "stream",
     "text": [
      "Train Epoch: 133 [104960/105870 (99%)]\tLoss: 1.196996: 100%|██████████| 828/828 [00:03<00:00, 246.77it/s]\n"
     ]
    },
    {
     "name": "stdout",
     "output_type": "stream",
     "text": [
      "====> Epoch: 133 Average train loss: 1.1485\n",
      "===> Epoch: 133 Average mae test loss for targetcol :3.0785\n",
      "===> Epoch: 133 Average mae test loss for targetcol: 2.8751\n",
      "====> Test set loss: 8747.6057\n",
      "====> Epoch: 133 Average test loss: 0.2479\n"
     ]
    },
    {
     "name": "stderr",
     "output_type": "stream",
     "text": [
      "Train Epoch: 134 [104960/105870 (99%)]\tLoss: 1.166638: 100%|██████████| 828/828 [00:03<00:00, 248.53it/s]\n"
     ]
    },
    {
     "name": "stdout",
     "output_type": "stream",
     "text": [
      "====> Epoch: 134 Average train loss: 1.1506\n",
      "===> Epoch: 134 Average mae test loss for targetcol :3.0810\n",
      "===> Epoch: 134 Average mae test loss for targetcol: 2.9169\n",
      "====> Test set loss: 8523.9693\n",
      "====> Epoch: 134 Average test loss: 0.2415\n"
     ]
    },
    {
     "name": "stderr",
     "output_type": "stream",
     "text": [
      "Train Epoch: 135 [104960/105870 (99%)]\tLoss: 1.106359: 100%|██████████| 828/828 [00:03<00:00, 250.53it/s]\n"
     ]
    },
    {
     "name": "stdout",
     "output_type": "stream",
     "text": [
      "====> Epoch: 135 Average train loss: 1.1505\n",
      "===> Epoch: 135 Average mae test loss for targetcol :3.0860\n",
      "===> Epoch: 135 Average mae test loss for targetcol: 2.9062\n",
      "====> Test set loss: 7769.2839\n",
      "====> Epoch: 135 Average test loss: 0.2202\n"
     ]
    },
    {
     "name": "stderr",
     "output_type": "stream",
     "text": [
      "Train Epoch: 136 [104960/105870 (99%)]\tLoss: 1.170941: 100%|██████████| 828/828 [00:03<00:00, 249.24it/s]\n"
     ]
    },
    {
     "name": "stdout",
     "output_type": "stream",
     "text": [
      "====> Epoch: 136 Average train loss: 1.1541\n",
      "===> Epoch: 136 Average mae test loss for targetcol :3.0853\n",
      "===> Epoch: 136 Average mae test loss for targetcol: 2.8665\n",
      "====> Test set loss: 8352.9566\n",
      "====> Epoch: 136 Average test loss: 0.2367\n"
     ]
    },
    {
     "name": "stderr",
     "output_type": "stream",
     "text": [
      "Train Epoch: 137 [104960/105870 (99%)]\tLoss: 1.121566: 100%|██████████| 828/828 [00:03<00:00, 243.64it/s]\n"
     ]
    },
    {
     "name": "stdout",
     "output_type": "stream",
     "text": [
      "====> Epoch: 137 Average train loss: 1.1538\n",
      "===> Epoch: 137 Average mae test loss for targetcol :3.0803\n",
      "===> Epoch: 137 Average mae test loss for targetcol: 2.8961\n",
      "====> Test set loss: 8680.0786\n",
      "====> Epoch: 137 Average test loss: 0.2460\n"
     ]
    },
    {
     "name": "stderr",
     "output_type": "stream",
     "text": [
      "Train Epoch: 138 [104960/105870 (99%)]\tLoss: 1.231302: 100%|██████████| 828/828 [00:03<00:00, 249.67it/s]\n"
     ]
    },
    {
     "name": "stdout",
     "output_type": "stream",
     "text": [
      "====> Epoch: 138 Average train loss: 1.1508\n",
      "===> Epoch: 138 Average mae test loss for targetcol :3.0856\n",
      "===> Epoch: 138 Average mae test loss for targetcol: 2.9596\n",
      "====> Test set loss: 7628.9855\n",
      "====> Epoch: 138 Average test loss: 0.2162\n"
     ]
    },
    {
     "name": "stderr",
     "output_type": "stream",
     "text": [
      "Train Epoch: 139 [104960/105870 (99%)]\tLoss: 1.059895: 100%|██████████| 828/828 [00:03<00:00, 247.48it/s]\n"
     ]
    },
    {
     "name": "stdout",
     "output_type": "stream",
     "text": [
      "====> Epoch: 139 Average train loss: 1.1482\n",
      "===> Epoch: 139 Average mae test loss for targetcol :3.0822\n",
      "===> Epoch: 139 Average mae test loss for targetcol: 2.9418\n",
      "====> Test set loss: 8672.0861\n",
      "====> Epoch: 139 Average test loss: 0.2457\n"
     ]
    },
    {
     "name": "stderr",
     "output_type": "stream",
     "text": [
      "Train Epoch: 140 [104960/105870 (99%)]\tLoss: 0.969746: 100%|██████████| 828/828 [00:03<00:00, 248.09it/s]\n"
     ]
    },
    {
     "name": "stdout",
     "output_type": "stream",
     "text": [
      "====> Epoch: 140 Average train loss: 1.1554\n",
      "===> Epoch: 140 Average mae test loss for targetcol :3.0860\n",
      "===> Epoch: 140 Average mae test loss for targetcol: 3.0900\n",
      "====> Test set loss: 8407.6116\n",
      "====> Epoch: 140 Average test loss: 0.2382\n"
     ]
    },
    {
     "name": "stderr",
     "output_type": "stream",
     "text": [
      "Train Epoch: 141 [104960/105870 (99%)]\tLoss: 1.035887: 100%|██████████| 828/828 [00:03<00:00, 244.32it/s]\n"
     ]
    },
    {
     "name": "stdout",
     "output_type": "stream",
     "text": [
      "====> Epoch: 141 Average train loss: 1.1530\n",
      "===> Epoch: 141 Average mae test loss for targetcol :3.0882\n",
      "===> Epoch: 141 Average mae test loss for targetcol: 2.9887\n",
      "====> Test set loss: 8052.4468\n",
      "====> Epoch: 141 Average test loss: 0.2282\n"
     ]
    },
    {
     "name": "stderr",
     "output_type": "stream",
     "text": [
      "Train Epoch: 142 [104960/105870 (99%)]\tLoss: 1.232837: 100%|██████████| 828/828 [00:03<00:00, 241.96it/s]\n"
     ]
    },
    {
     "name": "stdout",
     "output_type": "stream",
     "text": [
      "====> Epoch: 142 Average train loss: 1.1501\n",
      "===> Epoch: 142 Average mae test loss for targetcol :3.0764\n",
      "===> Epoch: 142 Average mae test loss for targetcol: 2.8555\n",
      "====> Test set loss: 9631.9534\n",
      "====> Epoch: 142 Average test loss: 0.2729\n"
     ]
    },
    {
     "name": "stderr",
     "output_type": "stream",
     "text": [
      "Train Epoch: 143 [104960/105870 (99%)]\tLoss: 1.031357: 100%|██████████| 828/828 [00:03<00:00, 229.28it/s]\n"
     ]
    },
    {
     "name": "stdout",
     "output_type": "stream",
     "text": [
      "====> Epoch: 143 Average train loss: 1.1495\n",
      "===> Epoch: 143 Average mae test loss for targetcol :3.0901\n",
      "===> Epoch: 143 Average mae test loss for targetcol: 2.8602\n",
      "====> Test set loss: 8858.7631\n",
      "====> Epoch: 143 Average test loss: 0.2510\n"
     ]
    },
    {
     "name": "stderr",
     "output_type": "stream",
     "text": [
      "Train Epoch: 144 [104960/105870 (99%)]\tLoss: 1.126713: 100%|██████████| 828/828 [00:03<00:00, 245.93it/s]\n"
     ]
    },
    {
     "name": "stdout",
     "output_type": "stream",
     "text": [
      "====> Epoch: 144 Average train loss: 1.1508\n",
      "===> Epoch: 144 Average mae test loss for targetcol :3.0820\n",
      "===> Epoch: 144 Average mae test loss for targetcol: 3.0720\n",
      "====> Test set loss: 8948.4783\n",
      "====> Epoch: 144 Average test loss: 0.2536\n"
     ]
    },
    {
     "name": "stderr",
     "output_type": "stream",
     "text": [
      "Train Epoch: 145 [104960/105870 (99%)]\tLoss: 1.045544: 100%|██████████| 828/828 [00:03<00:00, 242.17it/s]\n"
     ]
    },
    {
     "name": "stdout",
     "output_type": "stream",
     "text": [
      "====> Epoch: 145 Average train loss: 1.1501\n",
      "===> Epoch: 145 Average mae test loss for targetcol :3.0853\n",
      "===> Epoch: 145 Average mae test loss for targetcol: 3.0433\n",
      "====> Test set loss: 8762.5882\n",
      "====> Epoch: 145 Average test loss: 0.2483\n"
     ]
    },
    {
     "name": "stderr",
     "output_type": "stream",
     "text": [
      "Train Epoch: 146 [104960/105870 (99%)]\tLoss: 0.992790: 100%|██████████| 828/828 [00:03<00:00, 243.17it/s]\n"
     ]
    },
    {
     "name": "stdout",
     "output_type": "stream",
     "text": [
      "====> Epoch: 146 Average train loss: 1.1508\n",
      "===> Epoch: 146 Average mae test loss for targetcol :3.0851\n",
      "===> Epoch: 146 Average mae test loss for targetcol: 3.1070\n",
      "====> Test set loss: 8257.7413\n",
      "====> Epoch: 146 Average test loss: 0.2340\n"
     ]
    },
    {
     "name": "stderr",
     "output_type": "stream",
     "text": [
      "Train Epoch: 147 [104960/105870 (99%)]\tLoss: 1.302022: 100%|██████████| 828/828 [00:03<00:00, 239.32it/s]\n"
     ]
    },
    {
     "name": "stdout",
     "output_type": "stream",
     "text": [
      "====> Epoch: 147 Average train loss: 1.1510\n",
      "===> Epoch: 147 Average mae test loss for targetcol :3.0783\n",
      "===> Epoch: 147 Average mae test loss for targetcol: 3.0019\n",
      "====> Test set loss: 9336.8823\n",
      "====> Epoch: 147 Average test loss: 0.2646\n"
     ]
    },
    {
     "name": "stderr",
     "output_type": "stream",
     "text": [
      "Train Epoch: 148 [104960/105870 (99%)]\tLoss: 1.119601: 100%|██████████| 828/828 [00:03<00:00, 234.21it/s]\n"
     ]
    },
    {
     "name": "stdout",
     "output_type": "stream",
     "text": [
      "====> Epoch: 148 Average train loss: 1.1530\n",
      "===> Epoch: 148 Average mae test loss for targetcol :3.0872\n",
      "===> Epoch: 148 Average mae test loss for targetcol: 3.1174\n",
      "====> Test set loss: 9008.5392\n",
      "====> Epoch: 148 Average test loss: 0.2553\n"
     ]
    },
    {
     "name": "stderr",
     "output_type": "stream",
     "text": [
      "Train Epoch: 149 [104960/105870 (99%)]\tLoss: 1.008185: 100%|██████████| 828/828 [00:03<00:00, 243.03it/s]\n"
     ]
    },
    {
     "name": "stdout",
     "output_type": "stream",
     "text": [
      "====> Epoch: 149 Average train loss: 1.1516\n",
      "===> Epoch: 149 Average mae test loss for targetcol :3.0796\n"
     ]
    },
    {
     "name": "stderr",
     "output_type": "stream",
     "text": [
      "[I 2025-05-15 11:46:18,269] Trial 1 finished with value: 0.22309496156147163 and parameters: {'batch_size': 128, 'learning_rate': 0.00829928426871613, 'lambda': 0.6484062353926707}. Best is trial 0 with value: 0.025029263757530798.\n"
     ]
    },
    {
     "name": "stdout",
     "output_type": "stream",
     "text": [
      "===> Epoch: 149 Average mae test loss for targetcol: 2.8914\n",
      "====> Test set loss: 7873.0212\n",
      "====> Epoch: 149 Average test loss: 0.2231\n",
      "🏃 View run nervous-tern-135 at: http://localhost:5000/#/experiments/4/runs/0ac8c86bb4124d28b1887ffcc92cd146\n",
      "🧪 View experiment at: http://localhost:5000/#/experiments/4\n"
     ]
    },
    {
     "name": "stderr",
     "output_type": "stream",
     "text": [
      "Train Epoch: 0 [105600/105870 (100%)]\tLoss: 0.378664: 100%|██████████| 3309/3309 [00:12<00:00, 263.43it/s]\n"
     ]
    },
    {
     "name": "stdout",
     "output_type": "stream",
     "text": [
      "====> Epoch: 0 Average train loss: 0.5562\n",
      "===> Epoch: 0 Average mae test loss for targetcol :5.4353\n",
      "===> Epoch: 0 Average mae test loss for targetcol: 3.7825\n",
      "====> Test set loss: 1522.9617\n",
      "====> Epoch: 0 Average test loss: 0.0432\n"
     ]
    },
    {
     "name": "stderr",
     "output_type": "stream",
     "text": [
      "Train Epoch: 1 [105600/105870 (100%)]\tLoss: 0.338988: 100%|██████████| 3309/3309 [00:13<00:00, 246.99it/s]\n"
     ]
    },
    {
     "name": "stdout",
     "output_type": "stream",
     "text": [
      "====> Epoch: 1 Average train loss: 0.3255\n",
      "===> Epoch: 1 Average mae test loss for targetcol :3.6660\n",
      "===> Epoch: 1 Average mae test loss for targetcol: 3.5835\n",
      "====> Test set loss: 1279.5768\n",
      "====> Epoch: 1 Average test loss: 0.0363\n"
     ]
    },
    {
     "name": "stderr",
     "output_type": "stream",
     "text": [
      "Train Epoch: 2 [105600/105870 (100%)]\tLoss: 0.339604: 100%|██████████| 3309/3309 [00:12<00:00, 263.49it/s]\n"
     ]
    },
    {
     "name": "stdout",
     "output_type": "stream",
     "text": [
      "====> Epoch: 2 Average train loss: 0.3120\n",
      "===> Epoch: 2 Average mae test loss for targetcol :3.5818\n",
      "===> Epoch: 2 Average mae test loss for targetcol: 3.4983\n",
      "====> Test set loss: 1192.3697\n",
      "====> Epoch: 2 Average test loss: 0.0338\n"
     ]
    },
    {
     "name": "stderr",
     "output_type": "stream",
     "text": [
      "Train Epoch: 3 [105600/105870 (100%)]\tLoss: 0.440566: 100%|██████████| 3309/3309 [00:12<00:00, 266.45it/s]\n"
     ]
    },
    {
     "name": "stdout",
     "output_type": "stream",
     "text": [
      "====> Epoch: 3 Average train loss: 0.3076\n",
      "===> Epoch: 3 Average mae test loss for targetcol :3.5242\n",
      "===> Epoch: 3 Average mae test loss for targetcol: 3.4575\n",
      "====> Test set loss: 1140.0583\n",
      "====> Epoch: 3 Average test loss: 0.0323\n"
     ]
    },
    {
     "name": "stderr",
     "output_type": "stream",
     "text": [
      "Train Epoch: 4 [105600/105870 (100%)]\tLoss: 0.314601: 100%|██████████| 3309/3309 [00:12<00:00, 269.23it/s]\n"
     ]
    },
    {
     "name": "stdout",
     "output_type": "stream",
     "text": [
      "====> Epoch: 4 Average train loss: 0.3050\n",
      "===> Epoch: 4 Average mae test loss for targetcol :3.4771\n",
      "===> Epoch: 4 Average mae test loss for targetcol: 3.4172\n",
      "====> Test set loss: 1109.2806\n",
      "====> Epoch: 4 Average test loss: 0.0314\n"
     ]
    },
    {
     "name": "stderr",
     "output_type": "stream",
     "text": [
      "Train Epoch: 5 [105600/105870 (100%)]\tLoss: 0.334019: 100%|██████████| 3309/3309 [00:12<00:00, 271.85it/s]\n"
     ]
    },
    {
     "name": "stdout",
     "output_type": "stream",
     "text": [
      "====> Epoch: 5 Average train loss: 0.3032\n",
      "===> Epoch: 5 Average mae test loss for targetcol :3.4399\n",
      "===> Epoch: 5 Average mae test loss for targetcol: 3.3616\n",
      "====> Test set loss: 1068.3065\n",
      "====> Epoch: 5 Average test loss: 0.0303\n"
     ]
    },
    {
     "name": "stderr",
     "output_type": "stream",
     "text": [
      "Train Epoch: 6 [105600/105870 (100%)]\tLoss: 0.269448: 100%|██████████| 3309/3309 [00:12<00:00, 266.09it/s]\n"
     ]
    },
    {
     "name": "stdout",
     "output_type": "stream",
     "text": [
      "====> Epoch: 6 Average train loss: 0.3021\n",
      "===> Epoch: 6 Average mae test loss for targetcol :3.4056\n",
      "===> Epoch: 6 Average mae test loss for targetcol: 3.3372\n",
      "====> Test set loss: 1049.9177\n",
      "====> Epoch: 6 Average test loss: 0.0298\n"
     ]
    },
    {
     "name": "stderr",
     "output_type": "stream",
     "text": [
      "Train Epoch: 7 [105600/105870 (100%)]\tLoss: 0.308499: 100%|██████████| 3309/3309 [00:12<00:00, 274.42it/s]\n"
     ]
    },
    {
     "name": "stdout",
     "output_type": "stream",
     "text": [
      "====> Epoch: 7 Average train loss: 0.3012\n",
      "===> Epoch: 7 Average mae test loss for targetcol :3.3824\n",
      "===> Epoch: 7 Average mae test loss for targetcol: 3.3172\n",
      "====> Test set loss: 1033.9935\n",
      "====> Epoch: 7 Average test loss: 0.0293\n"
     ]
    },
    {
     "name": "stderr",
     "output_type": "stream",
     "text": [
      "Train Epoch: 8 [105600/105870 (100%)]\tLoss: 0.340359: 100%|██████████| 3309/3309 [00:12<00:00, 274.21it/s]\n"
     ]
    },
    {
     "name": "stdout",
     "output_type": "stream",
     "text": [
      "====> Epoch: 8 Average train loss: 0.3004\n",
      "===> Epoch: 8 Average mae test loss for targetcol :3.3558\n",
      "===> Epoch: 8 Average mae test loss for targetcol: 3.2765\n",
      "====> Test set loss: 1012.8044\n",
      "====> Epoch: 8 Average test loss: 0.0287\n"
     ]
    },
    {
     "name": "stderr",
     "output_type": "stream",
     "text": [
      "Train Epoch: 9 [105600/105870 (100%)]\tLoss: 0.282824: 100%|██████████| 3309/3309 [00:12<00:00, 273.88it/s]\n"
     ]
    },
    {
     "name": "stdout",
     "output_type": "stream",
     "text": [
      "====> Epoch: 9 Average train loss: 0.2998\n",
      "===> Epoch: 9 Average mae test loss for targetcol :3.3406\n",
      "===> Epoch: 9 Average mae test loss for targetcol: 3.2616\n",
      "====> Test set loss: 1005.4521\n",
      "====> Epoch: 9 Average test loss: 0.0285\n"
     ]
    },
    {
     "name": "stderr",
     "output_type": "stream",
     "text": [
      "Train Epoch: 10 [105600/105870 (100%)]\tLoss: 0.338180: 100%|██████████| 3309/3309 [00:12<00:00, 275.69it/s]\n"
     ]
    },
    {
     "name": "stdout",
     "output_type": "stream",
     "text": [
      "====> Epoch: 10 Average train loss: 0.2990\n",
      "===> Epoch: 10 Average mae test loss for targetcol :3.3291\n",
      "===> Epoch: 10 Average mae test loss for targetcol: 3.2394\n",
      "====> Test set loss: 993.0726\n",
      "====> Epoch: 10 Average test loss: 0.0281\n"
     ]
    },
    {
     "name": "stderr",
     "output_type": "stream",
     "text": [
      "Train Epoch: 11 [105600/105870 (100%)]\tLoss: 0.237505: 100%|██████████| 3309/3309 [00:11<00:00, 278.66it/s]\n"
     ]
    },
    {
     "name": "stdout",
     "output_type": "stream",
     "text": [
      "====> Epoch: 11 Average train loss: 0.2988\n",
      "===> Epoch: 11 Average mae test loss for targetcol :3.3126\n",
      "===> Epoch: 11 Average mae test loss for targetcol: 3.2323\n",
      "====> Test set loss: 990.2052\n",
      "====> Epoch: 11 Average test loss: 0.0281\n"
     ]
    },
    {
     "name": "stderr",
     "output_type": "stream",
     "text": [
      "Train Epoch: 12 [105600/105870 (100%)]\tLoss: 0.304843: 100%|██████████| 3309/3309 [00:12<00:00, 275.21it/s]\n"
     ]
    },
    {
     "name": "stdout",
     "output_type": "stream",
     "text": [
      "====> Epoch: 12 Average train loss: 0.2981\n",
      "===> Epoch: 12 Average mae test loss for targetcol :3.2991\n",
      "===> Epoch: 12 Average mae test loss for targetcol: 3.2039\n",
      "====> Test set loss: 979.9172\n",
      "====> Epoch: 12 Average test loss: 0.0278\n"
     ]
    },
    {
     "name": "stderr",
     "output_type": "stream",
     "text": [
      "Train Epoch: 13 [105600/105870 (100%)]\tLoss: 0.283834: 100%|██████████| 3309/3309 [00:11<00:00, 281.55it/s]\n"
     ]
    },
    {
     "name": "stdout",
     "output_type": "stream",
     "text": [
      "====> Epoch: 13 Average train loss: 0.2979\n",
      "===> Epoch: 13 Average mae test loss for targetcol :3.2877\n",
      "===> Epoch: 13 Average mae test loss for targetcol: 3.1788\n",
      "====> Test set loss: 974.7327\n",
      "====> Epoch: 13 Average test loss: 0.0276\n"
     ]
    },
    {
     "name": "stderr",
     "output_type": "stream",
     "text": [
      "Train Epoch: 14 [105600/105870 (100%)]\tLoss: 0.217331: 100%|██████████| 3309/3309 [00:12<00:00, 272.45it/s]\n"
     ]
    },
    {
     "name": "stdout",
     "output_type": "stream",
     "text": [
      "====> Epoch: 14 Average train loss: 0.2974\n",
      "===> Epoch: 14 Average mae test loss for targetcol :3.2725\n",
      "===> Epoch: 14 Average mae test loss for targetcol: 3.1838\n",
      "====> Test set loss: 970.0112\n",
      "====> Epoch: 14 Average test loss: 0.0275\n"
     ]
    },
    {
     "name": "stderr",
     "output_type": "stream",
     "text": [
      "Train Epoch: 15 [105600/105870 (100%)]\tLoss: 0.172236: 100%|██████████| 3309/3309 [00:11<00:00, 275.76it/s]\n"
     ]
    },
    {
     "name": "stdout",
     "output_type": "stream",
     "text": [
      "====> Epoch: 15 Average train loss: 0.2972\n",
      "===> Epoch: 15 Average mae test loss for targetcol :3.2746\n",
      "===> Epoch: 15 Average mae test loss for targetcol: 3.1757\n",
      "====> Test set loss: 960.4759\n",
      "====> Epoch: 15 Average test loss: 0.0272\n"
     ]
    },
    {
     "name": "stderr",
     "output_type": "stream",
     "text": [
      "Train Epoch: 16 [105600/105870 (100%)]\tLoss: 0.337658: 100%|██████████| 3309/3309 [00:11<00:00, 285.72it/s]\n"
     ]
    },
    {
     "name": "stdout",
     "output_type": "stream",
     "text": [
      "====> Epoch: 16 Average train loss: 0.2967\n",
      "===> Epoch: 16 Average mae test loss for targetcol :3.2634\n",
      "===> Epoch: 16 Average mae test loss for targetcol: 3.1721\n",
      "====> Test set loss: 956.7893\n",
      "====> Epoch: 16 Average test loss: 0.0271\n"
     ]
    },
    {
     "name": "stderr",
     "output_type": "stream",
     "text": [
      "Train Epoch: 17 [105600/105870 (100%)]\tLoss: 0.267124: 100%|██████████| 3309/3309 [00:11<00:00, 282.90it/s]\n"
     ]
    },
    {
     "name": "stdout",
     "output_type": "stream",
     "text": [
      "====> Epoch: 17 Average train loss: 0.2963\n",
      "===> Epoch: 17 Average mae test loss for targetcol :3.2574\n",
      "===> Epoch: 17 Average mae test loss for targetcol: 3.1648\n",
      "====> Test set loss: 952.0885\n",
      "====> Epoch: 17 Average test loss: 0.0270\n"
     ]
    },
    {
     "name": "stderr",
     "output_type": "stream",
     "text": [
      "Train Epoch: 18 [105600/105870 (100%)]\tLoss: 0.268009: 100%|██████████| 3309/3309 [00:11<00:00, 286.71it/s]\n"
     ]
    },
    {
     "name": "stdout",
     "output_type": "stream",
     "text": [
      "====> Epoch: 18 Average train loss: 0.2961\n",
      "===> Epoch: 18 Average mae test loss for targetcol :3.2482\n",
      "===> Epoch: 18 Average mae test loss for targetcol: 3.1509\n",
      "====> Test set loss: 949.0947\n",
      "====> Epoch: 18 Average test loss: 0.0269\n"
     ]
    },
    {
     "name": "stderr",
     "output_type": "stream",
     "text": [
      "Train Epoch: 19 [105600/105870 (100%)]\tLoss: 0.339835: 100%|██████████| 3309/3309 [00:11<00:00, 286.79it/s]\n"
     ]
    },
    {
     "name": "stdout",
     "output_type": "stream",
     "text": [
      "====> Epoch: 19 Average train loss: 0.2957\n",
      "===> Epoch: 19 Average mae test loss for targetcol :3.2470\n",
      "===> Epoch: 19 Average mae test loss for targetcol: 3.1421\n",
      "====> Test set loss: 948.5934\n",
      "====> Epoch: 19 Average test loss: 0.0269\n"
     ]
    },
    {
     "name": "stderr",
     "output_type": "stream",
     "text": [
      "Train Epoch: 20 [105600/105870 (100%)]\tLoss: 0.311206: 100%|██████████| 3309/3309 [00:11<00:00, 286.84it/s]\n"
     ]
    },
    {
     "name": "stdout",
     "output_type": "stream",
     "text": [
      "====> Epoch: 20 Average train loss: 0.2958\n",
      "===> Epoch: 20 Average mae test loss for targetcol :3.2420\n",
      "===> Epoch: 20 Average mae test loss for targetcol: 3.1225\n",
      "====> Test set loss: 946.5885\n",
      "====> Epoch: 20 Average test loss: 0.0268\n"
     ]
    },
    {
     "name": "stderr",
     "output_type": "stream",
     "text": [
      "Train Epoch: 21 [105600/105870 (100%)]\tLoss: 0.300636: 100%|██████████| 3309/3309 [00:11<00:00, 283.16it/s]\n"
     ]
    },
    {
     "name": "stdout",
     "output_type": "stream",
     "text": [
      "====> Epoch: 21 Average train loss: 0.2954\n",
      "===> Epoch: 21 Average mae test loss for targetcol :3.2430\n",
      "===> Epoch: 21 Average mae test loss for targetcol: 3.1316\n",
      "====> Test set loss: 943.4345\n",
      "====> Epoch: 21 Average test loss: 0.0267\n"
     ]
    },
    {
     "name": "stderr",
     "output_type": "stream",
     "text": [
      "Train Epoch: 22 [105600/105870 (100%)]\tLoss: 0.241662: 100%|██████████| 3309/3309 [00:11<00:00, 280.61it/s]\n"
     ]
    },
    {
     "name": "stdout",
     "output_type": "stream",
     "text": [
      "====> Epoch: 22 Average train loss: 0.2951\n",
      "===> Epoch: 22 Average mae test loss for targetcol :3.2381\n",
      "===> Epoch: 22 Average mae test loss for targetcol: 3.1402\n",
      "====> Test set loss: 945.3371\n",
      "====> Epoch: 22 Average test loss: 0.0268\n"
     ]
    },
    {
     "name": "stderr",
     "output_type": "stream",
     "text": [
      "Train Epoch: 23 [105600/105870 (100%)]\tLoss: 0.382718: 100%|██████████| 3309/3309 [00:11<00:00, 277.56it/s]\n"
     ]
    },
    {
     "name": "stdout",
     "output_type": "stream",
     "text": [
      "====> Epoch: 23 Average train loss: 0.2950\n",
      "===> Epoch: 23 Average mae test loss for targetcol :3.2371\n",
      "===> Epoch: 23 Average mae test loss for targetcol: 3.1143\n",
      "====> Test set loss: 946.7730\n",
      "====> Epoch: 23 Average test loss: 0.0268\n"
     ]
    },
    {
     "name": "stderr",
     "output_type": "stream",
     "text": [
      "Train Epoch: 24 [105600/105870 (100%)]\tLoss: 0.228680: 100%|██████████| 3309/3309 [00:12<00:00, 262.95it/s]\n"
     ]
    },
    {
     "name": "stdout",
     "output_type": "stream",
     "text": [
      "====> Epoch: 24 Average train loss: 0.2948\n",
      "===> Epoch: 24 Average mae test loss for targetcol :3.2358\n",
      "===> Epoch: 24 Average mae test loss for targetcol: 3.1389\n",
      "====> Test set loss: 943.0431\n",
      "====> Epoch: 24 Average test loss: 0.0267\n"
     ]
    },
    {
     "name": "stderr",
     "output_type": "stream",
     "text": [
      "Train Epoch: 25 [105600/105870 (100%)]\tLoss: 0.247807: 100%|██████████| 3309/3309 [00:12<00:00, 271.73it/s]\n"
     ]
    },
    {
     "name": "stdout",
     "output_type": "stream",
     "text": [
      "====> Epoch: 25 Average train loss: 0.2945\n",
      "===> Epoch: 25 Average mae test loss for targetcol :3.2278\n",
      "===> Epoch: 25 Average mae test loss for targetcol: 3.1222\n",
      "====> Test set loss: 937.6736\n",
      "====> Epoch: 25 Average test loss: 0.0266\n"
     ]
    },
    {
     "name": "stderr",
     "output_type": "stream",
     "text": [
      "Train Epoch: 26 [105600/105870 (100%)]\tLoss: 0.270897: 100%|██████████| 3309/3309 [00:12<00:00, 265.03it/s]\n"
     ]
    },
    {
     "name": "stdout",
     "output_type": "stream",
     "text": [
      "====> Epoch: 26 Average train loss: 0.2943\n",
      "===> Epoch: 26 Average mae test loss for targetcol :3.2283\n",
      "===> Epoch: 26 Average mae test loss for targetcol: 3.1294\n",
      "====> Test set loss: 934.3670\n",
      "====> Epoch: 26 Average test loss: 0.0265\n"
     ]
    },
    {
     "name": "stderr",
     "output_type": "stream",
     "text": [
      "Train Epoch: 27 [105600/105870 (100%)]\tLoss: 0.256710: 100%|██████████| 3309/3309 [00:12<00:00, 271.78it/s]\n"
     ]
    },
    {
     "name": "stdout",
     "output_type": "stream",
     "text": [
      "====> Epoch: 27 Average train loss: 0.2942\n",
      "===> Epoch: 27 Average mae test loss for targetcol :3.2231\n",
      "===> Epoch: 27 Average mae test loss for targetcol: 3.1165\n",
      "====> Test set loss: 934.9613\n",
      "====> Epoch: 27 Average test loss: 0.0265\n"
     ]
    },
    {
     "name": "stderr",
     "output_type": "stream",
     "text": [
      "Train Epoch: 28 [105600/105870 (100%)]\tLoss: 0.250462: 100%|██████████| 3309/3309 [00:12<00:00, 262.85it/s]\n"
     ]
    },
    {
     "name": "stdout",
     "output_type": "stream",
     "text": [
      "====> Epoch: 28 Average train loss: 0.2941\n",
      "===> Epoch: 28 Average mae test loss for targetcol :3.2215\n",
      "===> Epoch: 28 Average mae test loss for targetcol: 3.1031\n",
      "====> Test set loss: 936.8388\n",
      "====> Epoch: 28 Average test loss: 0.0265\n"
     ]
    },
    {
     "name": "stderr",
     "output_type": "stream",
     "text": [
      "Train Epoch: 29 [105600/105870 (100%)]\tLoss: 0.326738: 100%|██████████| 3309/3309 [00:12<00:00, 255.25it/s]\n"
     ]
    },
    {
     "name": "stdout",
     "output_type": "stream",
     "text": [
      "====> Epoch: 29 Average train loss: 0.2939\n",
      "===> Epoch: 29 Average mae test loss for targetcol :3.2193\n",
      "===> Epoch: 29 Average mae test loss for targetcol: 3.1223\n",
      "====> Test set loss: 933.0966\n",
      "====> Epoch: 29 Average test loss: 0.0264\n"
     ]
    },
    {
     "name": "stderr",
     "output_type": "stream",
     "text": [
      "Train Epoch: 30 [105600/105870 (100%)]\tLoss: 0.279724: 100%|██████████| 3309/3309 [00:12<00:00, 265.47it/s]\n"
     ]
    },
    {
     "name": "stdout",
     "output_type": "stream",
     "text": [
      "====> Epoch: 30 Average train loss: 0.2937\n",
      "===> Epoch: 30 Average mae test loss for targetcol :3.2226\n",
      "===> Epoch: 30 Average mae test loss for targetcol: 3.0927\n",
      "====> Test set loss: 931.6508\n",
      "====> Epoch: 30 Average test loss: 0.0264\n"
     ]
    },
    {
     "name": "stderr",
     "output_type": "stream",
     "text": [
      "Train Epoch: 31 [105600/105870 (100%)]\tLoss: 0.282543: 100%|██████████| 3309/3309 [00:11<00:00, 281.93it/s]\n"
     ]
    },
    {
     "name": "stdout",
     "output_type": "stream",
     "text": [
      "====> Epoch: 31 Average train loss: 0.2936\n",
      "===> Epoch: 31 Average mae test loss for targetcol :3.2162\n",
      "===> Epoch: 31 Average mae test loss for targetcol: 3.1129\n",
      "====> Test set loss: 930.9862\n",
      "====> Epoch: 31 Average test loss: 0.0264\n"
     ]
    },
    {
     "name": "stderr",
     "output_type": "stream",
     "text": [
      "Train Epoch: 32 [105600/105870 (100%)]\tLoss: 0.253949: 100%|██████████| 3309/3309 [00:11<00:00, 281.44it/s]\n"
     ]
    },
    {
     "name": "stdout",
     "output_type": "stream",
     "text": [
      "====> Epoch: 32 Average train loss: 0.2934\n",
      "===> Epoch: 32 Average mae test loss for targetcol :3.2166\n",
      "===> Epoch: 32 Average mae test loss for targetcol: 3.1084\n",
      "====> Test set loss: 928.4162\n",
      "====> Epoch: 32 Average test loss: 0.0263\n"
     ]
    },
    {
     "name": "stderr",
     "output_type": "stream",
     "text": [
      "Train Epoch: 33 [105600/105870 (100%)]\tLoss: 0.455124: 100%|██████████| 3309/3309 [00:11<00:00, 278.73it/s]\n"
     ]
    },
    {
     "name": "stdout",
     "output_type": "stream",
     "text": [
      "====> Epoch: 33 Average train loss: 0.2935\n",
      "===> Epoch: 33 Average mae test loss for targetcol :3.2186\n",
      "===> Epoch: 33 Average mae test loss for targetcol: 3.1196\n",
      "====> Test set loss: 927.9092\n",
      "====> Epoch: 33 Average test loss: 0.0263\n"
     ]
    },
    {
     "name": "stderr",
     "output_type": "stream",
     "text": [
      "Train Epoch: 34 [105600/105870 (100%)]\tLoss: 0.281716: 100%|██████████| 3309/3309 [00:12<00:00, 268.78it/s]\n"
     ]
    },
    {
     "name": "stdout",
     "output_type": "stream",
     "text": [
      "====> Epoch: 34 Average train loss: 0.2934\n",
      "===> Epoch: 34 Average mae test loss for targetcol :3.2181\n",
      "===> Epoch: 34 Average mae test loss for targetcol: 3.1195\n",
      "====> Test set loss: 929.2311\n",
      "====> Epoch: 34 Average test loss: 0.0263\n"
     ]
    },
    {
     "name": "stderr",
     "output_type": "stream",
     "text": [
      "Train Epoch: 35 [105600/105870 (100%)]\tLoss: 0.287664: 100%|██████████| 3309/3309 [00:11<00:00, 278.85it/s]\n"
     ]
    },
    {
     "name": "stdout",
     "output_type": "stream",
     "text": [
      "====> Epoch: 35 Average train loss: 0.2931\n",
      "===> Epoch: 35 Average mae test loss for targetcol :3.2131\n",
      "===> Epoch: 35 Average mae test loss for targetcol: 3.1097\n",
      "====> Test set loss: 928.7038\n",
      "====> Epoch: 35 Average test loss: 0.0263\n"
     ]
    },
    {
     "name": "stderr",
     "output_type": "stream",
     "text": [
      "Train Epoch: 36 [105600/105870 (100%)]\tLoss: 0.358001: 100%|██████████| 3309/3309 [00:11<00:00, 282.06it/s]\n"
     ]
    },
    {
     "name": "stdout",
     "output_type": "stream",
     "text": [
      "====> Epoch: 36 Average train loss: 0.2932\n",
      "===> Epoch: 36 Average mae test loss for targetcol :3.2135\n",
      "===> Epoch: 36 Average mae test loss for targetcol: 3.1003\n",
      "====> Test set loss: 924.5547\n",
      "====> Epoch: 36 Average test loss: 0.0262\n"
     ]
    },
    {
     "name": "stderr",
     "output_type": "stream",
     "text": [
      "Train Epoch: 37 [105600/105870 (100%)]\tLoss: 0.291153: 100%|██████████| 3309/3309 [00:11<00:00, 281.43it/s]\n"
     ]
    },
    {
     "name": "stdout",
     "output_type": "stream",
     "text": [
      "====> Epoch: 37 Average train loss: 0.2931\n",
      "===> Epoch: 37 Average mae test loss for targetcol :3.2166\n",
      "===> Epoch: 37 Average mae test loss for targetcol: 3.1100\n",
      "====> Test set loss: 931.2224\n",
      "====> Epoch: 37 Average test loss: 0.0264\n"
     ]
    },
    {
     "name": "stderr",
     "output_type": "stream",
     "text": [
      "Train Epoch: 38 [105600/105870 (100%)]\tLoss: 0.334519: 100%|██████████| 3309/3309 [00:11<00:00, 284.71it/s]\n"
     ]
    },
    {
     "name": "stdout",
     "output_type": "stream",
     "text": [
      "====> Epoch: 38 Average train loss: 0.2929\n",
      "===> Epoch: 38 Average mae test loss for targetcol :3.2124\n",
      "===> Epoch: 38 Average mae test loss for targetcol: 3.0966\n",
      "====> Test set loss: 926.3999\n",
      "====> Epoch: 38 Average test loss: 0.0263\n"
     ]
    },
    {
     "name": "stderr",
     "output_type": "stream",
     "text": [
      "Train Epoch: 39 [105600/105870 (100%)]\tLoss: 0.385111: 100%|██████████| 3309/3309 [00:11<00:00, 286.11it/s]\n"
     ]
    },
    {
     "name": "stdout",
     "output_type": "stream",
     "text": [
      "====> Epoch: 39 Average train loss: 0.2930\n",
      "===> Epoch: 39 Average mae test loss for targetcol :3.2131\n",
      "===> Epoch: 39 Average mae test loss for targetcol: 3.0937\n",
      "====> Test set loss: 922.8617\n",
      "====> Epoch: 39 Average test loss: 0.0262\n"
     ]
    },
    {
     "name": "stderr",
     "output_type": "stream",
     "text": [
      "Train Epoch: 40 [105600/105870 (100%)]\tLoss: 0.283196: 100%|██████████| 3309/3309 [00:11<00:00, 284.92it/s]\n"
     ]
    },
    {
     "name": "stdout",
     "output_type": "stream",
     "text": [
      "====> Epoch: 40 Average train loss: 0.2928\n",
      "===> Epoch: 40 Average mae test loss for targetcol :3.2106\n",
      "===> Epoch: 40 Average mae test loss for targetcol: 3.1097\n",
      "====> Test set loss: 923.6468\n",
      "====> Epoch: 40 Average test loss: 0.0262\n"
     ]
    },
    {
     "name": "stderr",
     "output_type": "stream",
     "text": [
      "Train Epoch: 41 [105600/105870 (100%)]\tLoss: 0.330982: 100%|██████████| 3309/3309 [00:12<00:00, 264.82it/s]\n"
     ]
    },
    {
     "name": "stdout",
     "output_type": "stream",
     "text": [
      "====> Epoch: 41 Average train loss: 0.2926\n",
      "===> Epoch: 41 Average mae test loss for targetcol :3.2090\n",
      "===> Epoch: 41 Average mae test loss for targetcol: 3.0840\n",
      "====> Test set loss: 924.0800\n",
      "====> Epoch: 41 Average test loss: 0.0262\n"
     ]
    },
    {
     "name": "stderr",
     "output_type": "stream",
     "text": [
      "Train Epoch: 42 [105600/105870 (100%)]\tLoss: 0.382293: 100%|██████████| 3309/3309 [00:11<00:00, 282.40it/s]\n"
     ]
    },
    {
     "name": "stdout",
     "output_type": "stream",
     "text": [
      "====> Epoch: 42 Average train loss: 0.2925\n",
      "===> Epoch: 42 Average mae test loss for targetcol :3.2110\n",
      "===> Epoch: 42 Average mae test loss for targetcol: 3.0951\n",
      "====> Test set loss: 922.2412\n",
      "====> Epoch: 42 Average test loss: 0.0261\n"
     ]
    },
    {
     "name": "stderr",
     "output_type": "stream",
     "text": [
      "Train Epoch: 43 [105600/105870 (100%)]\tLoss: 0.287717: 100%|██████████| 3309/3309 [00:11<00:00, 281.40it/s]\n"
     ]
    },
    {
     "name": "stdout",
     "output_type": "stream",
     "text": [
      "====> Epoch: 43 Average train loss: 0.2924\n",
      "===> Epoch: 43 Average mae test loss for targetcol :3.2080\n",
      "===> Epoch: 43 Average mae test loss for targetcol: 3.0884\n",
      "====> Test set loss: 924.9859\n",
      "====> Epoch: 43 Average test loss: 0.0262\n"
     ]
    },
    {
     "name": "stderr",
     "output_type": "stream",
     "text": [
      "Train Epoch: 44 [105600/105870 (100%)]\tLoss: 0.249684: 100%|██████████| 3309/3309 [00:11<00:00, 277.53it/s]\n"
     ]
    },
    {
     "name": "stdout",
     "output_type": "stream",
     "text": [
      "====> Epoch: 44 Average train loss: 0.2926\n",
      "===> Epoch: 44 Average mae test loss for targetcol :3.2102\n",
      "===> Epoch: 44 Average mae test loss for targetcol: 3.1024\n",
      "====> Test set loss: 920.5726\n",
      "====> Epoch: 44 Average test loss: 0.0261\n"
     ]
    },
    {
     "name": "stderr",
     "output_type": "stream",
     "text": [
      "Train Epoch: 45 [105600/105870 (100%)]\tLoss: 0.392919: 100%|██████████| 3309/3309 [00:12<00:00, 271.17it/s]\n"
     ]
    },
    {
     "name": "stdout",
     "output_type": "stream",
     "text": [
      "====> Epoch: 45 Average train loss: 0.2924\n",
      "===> Epoch: 45 Average mae test loss for targetcol :3.2079\n",
      "===> Epoch: 45 Average mae test loss for targetcol: 3.0906\n",
      "====> Test set loss: 920.1488\n",
      "====> Epoch: 45 Average test loss: 0.0261\n"
     ]
    },
    {
     "name": "stderr",
     "output_type": "stream",
     "text": [
      "Train Epoch: 46 [105600/105870 (100%)]\tLoss: 0.298987: 100%|██████████| 3309/3309 [00:12<00:00, 270.23it/s]\n"
     ]
    },
    {
     "name": "stdout",
     "output_type": "stream",
     "text": [
      "====> Epoch: 46 Average train loss: 0.2923\n",
      "===> Epoch: 46 Average mae test loss for targetcol :3.2049\n",
      "===> Epoch: 46 Average mae test loss for targetcol: 3.1060\n",
      "====> Test set loss: 920.0975\n",
      "====> Epoch: 46 Average test loss: 0.0261\n"
     ]
    },
    {
     "name": "stderr",
     "output_type": "stream",
     "text": [
      "Train Epoch: 47 [105600/105870 (100%)]\tLoss: 0.257983: 100%|██████████| 3309/3309 [00:12<00:00, 269.63it/s]\n"
     ]
    },
    {
     "name": "stdout",
     "output_type": "stream",
     "text": [
      "====> Epoch: 47 Average train loss: 0.2924\n",
      "===> Epoch: 47 Average mae test loss for targetcol :3.2051\n",
      "===> Epoch: 47 Average mae test loss for targetcol: 3.1196\n",
      "====> Test set loss: 918.4554\n",
      "====> Epoch: 47 Average test loss: 0.0260\n"
     ]
    },
    {
     "name": "stderr",
     "output_type": "stream",
     "text": [
      "Train Epoch: 48 [105600/105870 (100%)]\tLoss: 0.384226: 100%|██████████| 3309/3309 [00:12<00:00, 271.07it/s]\n"
     ]
    },
    {
     "name": "stdout",
     "output_type": "stream",
     "text": [
      "====> Epoch: 48 Average train loss: 0.2921\n",
      "===> Epoch: 48 Average mae test loss for targetcol :3.2080\n",
      "===> Epoch: 48 Average mae test loss for targetcol: 3.0880\n",
      "====> Test set loss: 921.6055\n",
      "====> Epoch: 48 Average test loss: 0.0261\n"
     ]
    },
    {
     "name": "stderr",
     "output_type": "stream",
     "text": [
      "Train Epoch: 49 [105600/105870 (100%)]\tLoss: 0.318608: 100%|██████████| 3309/3309 [00:11<00:00, 282.95it/s]\n"
     ]
    },
    {
     "name": "stdout",
     "output_type": "stream",
     "text": [
      "====> Epoch: 49 Average train loss: 0.2922\n",
      "===> Epoch: 49 Average mae test loss for targetcol :3.2082\n",
      "===> Epoch: 49 Average mae test loss for targetcol: 3.0848\n",
      "====> Test set loss: 917.0008\n",
      "====> Epoch: 49 Average test loss: 0.0260\n"
     ]
    },
    {
     "name": "stderr",
     "output_type": "stream",
     "text": [
      "Train Epoch: 50 [105600/105870 (100%)]\tLoss: 0.285805: 100%|██████████| 3309/3309 [00:11<00:00, 280.81it/s]\n"
     ]
    },
    {
     "name": "stdout",
     "output_type": "stream",
     "text": [
      "====> Epoch: 50 Average train loss: 0.2920\n",
      "===> Epoch: 50 Average mae test loss for targetcol :3.2084\n",
      "===> Epoch: 50 Average mae test loss for targetcol: 3.0985\n",
      "====> Test set loss: 922.1268\n",
      "====> Epoch: 50 Average test loss: 0.0261\n"
     ]
    },
    {
     "name": "stderr",
     "output_type": "stream",
     "text": [
      "Train Epoch: 51 [105600/105870 (100%)]\tLoss: 0.268019: 100%|██████████| 3309/3309 [00:11<00:00, 276.25it/s]\n"
     ]
    },
    {
     "name": "stdout",
     "output_type": "stream",
     "text": [
      "====> Epoch: 51 Average train loss: 0.2920\n",
      "===> Epoch: 51 Average mae test loss for targetcol :3.2019\n",
      "===> Epoch: 51 Average mae test loss for targetcol: 3.0910\n",
      "====> Test set loss: 920.3350\n",
      "====> Epoch: 51 Average test loss: 0.0261\n"
     ]
    },
    {
     "name": "stderr",
     "output_type": "stream",
     "text": [
      "Train Epoch: 52 [105600/105870 (100%)]\tLoss: 0.300414: 100%|██████████| 3309/3309 [00:11<00:00, 278.56it/s]\n"
     ]
    },
    {
     "name": "stdout",
     "output_type": "stream",
     "text": [
      "====> Epoch: 52 Average train loss: 0.2918\n",
      "===> Epoch: 52 Average mae test loss for targetcol :3.2069\n",
      "===> Epoch: 52 Average mae test loss for targetcol: 3.0967\n",
      "====> Test set loss: 917.9405\n",
      "====> Epoch: 52 Average test loss: 0.0260\n"
     ]
    },
    {
     "name": "stderr",
     "output_type": "stream",
     "text": [
      "Train Epoch: 53 [105600/105870 (100%)]\tLoss: 0.243221: 100%|██████████| 3309/3309 [00:11<00:00, 280.60it/s]\n"
     ]
    },
    {
     "name": "stdout",
     "output_type": "stream",
     "text": [
      "====> Epoch: 53 Average train loss: 0.2919\n",
      "===> Epoch: 53 Average mae test loss for targetcol :3.2062\n",
      "===> Epoch: 53 Average mae test loss for targetcol: 3.0825\n",
      "====> Test set loss: 916.5615\n",
      "====> Epoch: 53 Average test loss: 0.0260\n"
     ]
    },
    {
     "name": "stderr",
     "output_type": "stream",
     "text": [
      "Train Epoch: 54 [105600/105870 (100%)]\tLoss: 0.223592: 100%|██████████| 3309/3309 [00:12<00:00, 264.35it/s]\n"
     ]
    },
    {
     "name": "stdout",
     "output_type": "stream",
     "text": [
      "====> Epoch: 54 Average train loss: 0.2918\n",
      "===> Epoch: 54 Average mae test loss for targetcol :3.2033\n",
      "===> Epoch: 54 Average mae test loss for targetcol: 3.0754\n",
      "====> Test set loss: 917.0072\n",
      "====> Epoch: 54 Average test loss: 0.0260\n"
     ]
    },
    {
     "name": "stderr",
     "output_type": "stream",
     "text": [
      "Train Epoch: 55 [105600/105870 (100%)]\tLoss: 0.252147: 100%|██████████| 3309/3309 [00:12<00:00, 263.78it/s]\n"
     ]
    },
    {
     "name": "stdout",
     "output_type": "stream",
     "text": [
      "====> Epoch: 55 Average train loss: 0.2917\n",
      "===> Epoch: 55 Average mae test loss for targetcol :3.2040\n",
      "===> Epoch: 55 Average mae test loss for targetcol: 3.0848\n",
      "====> Test set loss: 920.1642\n",
      "====> Epoch: 55 Average test loss: 0.0261\n"
     ]
    },
    {
     "name": "stderr",
     "output_type": "stream",
     "text": [
      "Train Epoch: 56 [105600/105870 (100%)]\tLoss: 0.245771: 100%|██████████| 3309/3309 [00:12<00:00, 267.78it/s]\n"
     ]
    },
    {
     "name": "stdout",
     "output_type": "stream",
     "text": [
      "====> Epoch: 56 Average train loss: 0.2917\n",
      "===> Epoch: 56 Average mae test loss for targetcol :3.2040\n",
      "===> Epoch: 56 Average mae test loss for targetcol: 3.0797\n",
      "====> Test set loss: 918.2196\n",
      "====> Epoch: 56 Average test loss: 0.0260\n"
     ]
    },
    {
     "name": "stderr",
     "output_type": "stream",
     "text": [
      "Train Epoch: 57 [105600/105870 (100%)]\tLoss: 0.350863: 100%|██████████| 3309/3309 [00:12<00:00, 256.14it/s]\n"
     ]
    },
    {
     "name": "stdout",
     "output_type": "stream",
     "text": [
      "====> Epoch: 57 Average train loss: 0.2917\n",
      "===> Epoch: 57 Average mae test loss for targetcol :3.2014\n",
      "===> Epoch: 57 Average mae test loss for targetcol: 3.0858\n",
      "====> Test set loss: 917.7753\n",
      "====> Epoch: 57 Average test loss: 0.0260\n"
     ]
    },
    {
     "name": "stderr",
     "output_type": "stream",
     "text": [
      "Train Epoch: 58 [105600/105870 (100%)]\tLoss: 0.271706: 100%|██████████| 3309/3309 [00:12<00:00, 257.49it/s]\n"
     ]
    },
    {
     "name": "stdout",
     "output_type": "stream",
     "text": [
      "====> Epoch: 58 Average train loss: 0.2916\n",
      "===> Epoch: 58 Average mae test loss for targetcol :3.1994\n",
      "===> Epoch: 58 Average mae test loss for targetcol: 3.0968\n",
      "====> Test set loss: 915.8787\n",
      "====> Epoch: 58 Average test loss: 0.0260\n"
     ]
    },
    {
     "name": "stderr",
     "output_type": "stream",
     "text": [
      "Train Epoch: 59 [105600/105870 (100%)]\tLoss: 0.325761: 100%|██████████| 3309/3309 [00:12<00:00, 273.76it/s]\n"
     ]
    },
    {
     "name": "stdout",
     "output_type": "stream",
     "text": [
      "====> Epoch: 59 Average train loss: 0.2915\n",
      "===> Epoch: 59 Average mae test loss for targetcol :3.2011\n",
      "===> Epoch: 59 Average mae test loss for targetcol: 3.1015\n",
      "====> Test set loss: 918.3632\n",
      "====> Epoch: 59 Average test loss: 0.0260\n"
     ]
    },
    {
     "name": "stderr",
     "output_type": "stream",
     "text": [
      "Train Epoch: 60 [105600/105870 (100%)]\tLoss: 0.260740: 100%|██████████| 3309/3309 [00:12<00:00, 272.60it/s]\n"
     ]
    },
    {
     "name": "stdout",
     "output_type": "stream",
     "text": [
      "====> Epoch: 60 Average train loss: 0.2914\n",
      "===> Epoch: 60 Average mae test loss for targetcol :3.2015\n",
      "===> Epoch: 60 Average mae test loss for targetcol: 3.0932\n",
      "====> Test set loss: 912.8146\n",
      "====> Epoch: 60 Average test loss: 0.0259\n"
     ]
    },
    {
     "name": "stderr",
     "output_type": "stream",
     "text": [
      "Train Epoch: 61 [105600/105870 (100%)]\tLoss: 0.324240: 100%|██████████| 3309/3309 [00:11<00:00, 278.39it/s]\n"
     ]
    },
    {
     "name": "stdout",
     "output_type": "stream",
     "text": [
      "====> Epoch: 61 Average train loss: 0.2915\n",
      "===> Epoch: 61 Average mae test loss for targetcol :3.2007\n",
      "===> Epoch: 61 Average mae test loss for targetcol: 3.0742\n",
      "====> Test set loss: 918.0494\n",
      "====> Epoch: 61 Average test loss: 0.0260\n"
     ]
    },
    {
     "name": "stderr",
     "output_type": "stream",
     "text": [
      "Train Epoch: 62 [105600/105870 (100%)]\tLoss: 0.267151: 100%|██████████| 3309/3309 [00:11<00:00, 277.05it/s]\n"
     ]
    },
    {
     "name": "stdout",
     "output_type": "stream",
     "text": [
      "====> Epoch: 62 Average train loss: 0.2915\n",
      "===> Epoch: 62 Average mae test loss for targetcol :3.1999\n",
      "===> Epoch: 62 Average mae test loss for targetcol: 3.0882\n",
      "====> Test set loss: 916.9551\n",
      "====> Epoch: 62 Average test loss: 0.0260\n"
     ]
    },
    {
     "name": "stderr",
     "output_type": "stream",
     "text": [
      "Train Epoch: 63 [105600/105870 (100%)]\tLoss: 0.268677: 100%|██████████| 3309/3309 [00:12<00:00, 262.94it/s]\n"
     ]
    },
    {
     "name": "stdout",
     "output_type": "stream",
     "text": [
      "====> Epoch: 63 Average train loss: 0.2913\n",
      "===> Epoch: 63 Average mae test loss for targetcol :3.2014\n",
      "===> Epoch: 63 Average mae test loss for targetcol: 3.1049\n",
      "====> Test set loss: 916.8981\n",
      "====> Epoch: 63 Average test loss: 0.0260\n"
     ]
    },
    {
     "name": "stderr",
     "output_type": "stream",
     "text": [
      "Train Epoch: 64 [105600/105870 (100%)]\tLoss: 0.333726: 100%|██████████| 3309/3309 [00:12<00:00, 268.83it/s]\n"
     ]
    },
    {
     "name": "stdout",
     "output_type": "stream",
     "text": [
      "====> Epoch: 64 Average train loss: 0.2912\n",
      "===> Epoch: 64 Average mae test loss for targetcol :3.2003\n",
      "===> Epoch: 64 Average mae test loss for targetcol: 3.0892\n",
      "====> Test set loss: 914.9380\n",
      "====> Epoch: 64 Average test loss: 0.0259\n"
     ]
    },
    {
     "name": "stderr",
     "output_type": "stream",
     "text": [
      "Train Epoch: 65 [105600/105870 (100%)]\tLoss: 0.182049: 100%|██████████| 3309/3309 [00:12<00:00, 266.35it/s]\n"
     ]
    },
    {
     "name": "stdout",
     "output_type": "stream",
     "text": [
      "====> Epoch: 65 Average train loss: 0.2912\n",
      "===> Epoch: 65 Average mae test loss for targetcol :3.1988\n",
      "===> Epoch: 65 Average mae test loss for targetcol: 3.0799\n",
      "====> Test set loss: 915.9634\n",
      "====> Epoch: 65 Average test loss: 0.0260\n"
     ]
    },
    {
     "name": "stderr",
     "output_type": "stream",
     "text": [
      "Train Epoch: 66 [105600/105870 (100%)]\tLoss: 0.310079: 100%|██████████| 3309/3309 [00:12<00:00, 268.79it/s]\n"
     ]
    },
    {
     "name": "stdout",
     "output_type": "stream",
     "text": [
      "====> Epoch: 66 Average train loss: 0.2912\n",
      "===> Epoch: 66 Average mae test loss for targetcol :3.1997\n",
      "===> Epoch: 66 Average mae test loss for targetcol: 3.0682\n",
      "====> Test set loss: 915.7940\n",
      "====> Epoch: 66 Average test loss: 0.0260\n"
     ]
    },
    {
     "name": "stderr",
     "output_type": "stream",
     "text": [
      "Train Epoch: 67 [105600/105870 (100%)]\tLoss: 0.318137: 100%|██████████| 3309/3309 [00:12<00:00, 270.64it/s]\n"
     ]
    },
    {
     "name": "stdout",
     "output_type": "stream",
     "text": [
      "====> Epoch: 67 Average train loss: 0.2912\n",
      "===> Epoch: 67 Average mae test loss for targetcol :3.1997\n",
      "===> Epoch: 67 Average mae test loss for targetcol: 3.0970\n",
      "====> Test set loss: 913.9851\n",
      "====> Epoch: 67 Average test loss: 0.0259\n"
     ]
    },
    {
     "name": "stderr",
     "output_type": "stream",
     "text": [
      "Train Epoch: 68 [105600/105870 (100%)]\tLoss: 0.309432: 100%|██████████| 3309/3309 [00:12<00:00, 260.45it/s]\n"
     ]
    },
    {
     "name": "stdout",
     "output_type": "stream",
     "text": [
      "====> Epoch: 68 Average train loss: 0.2910\n",
      "===> Epoch: 68 Average mae test loss for targetcol :3.2004\n",
      "===> Epoch: 68 Average mae test loss for targetcol: 3.0910\n",
      "====> Test set loss: 916.1593\n",
      "====> Epoch: 68 Average test loss: 0.0260\n"
     ]
    },
    {
     "name": "stderr",
     "output_type": "stream",
     "text": [
      "Train Epoch: 69 [105600/105870 (100%)]\tLoss: 0.195439: 100%|██████████| 3309/3309 [00:11<00:00, 280.31it/s]\n"
     ]
    },
    {
     "name": "stdout",
     "output_type": "stream",
     "text": [
      "====> Epoch: 69 Average train loss: 0.2911\n",
      "===> Epoch: 69 Average mae test loss for targetcol :3.1972\n",
      "===> Epoch: 69 Average mae test loss for targetcol: 3.0870\n",
      "====> Test set loss: 915.5631\n",
      "====> Epoch: 69 Average test loss: 0.0259\n"
     ]
    },
    {
     "name": "stderr",
     "output_type": "stream",
     "text": [
      "Train Epoch: 70 [105600/105870 (100%)]\tLoss: 0.222543: 100%|██████████| 3309/3309 [00:13<00:00, 250.62it/s]\n"
     ]
    },
    {
     "name": "stdout",
     "output_type": "stream",
     "text": [
      "====> Epoch: 70 Average train loss: 0.2911\n",
      "===> Epoch: 70 Average mae test loss for targetcol :3.1996\n",
      "===> Epoch: 70 Average mae test loss for targetcol: 3.0764\n",
      "====> Test set loss: 911.6565\n",
      "====> Epoch: 70 Average test loss: 0.0258\n"
     ]
    },
    {
     "name": "stderr",
     "output_type": "stream",
     "text": [
      "Train Epoch: 71 [105600/105870 (100%)]\tLoss: 0.306724: 100%|██████████| 3309/3309 [00:12<00:00, 275.09it/s]\n"
     ]
    },
    {
     "name": "stdout",
     "output_type": "stream",
     "text": [
      "====> Epoch: 71 Average train loss: 0.2911\n",
      "===> Epoch: 71 Average mae test loss for targetcol :3.1969\n",
      "===> Epoch: 71 Average mae test loss for targetcol: 3.0906\n",
      "====> Test set loss: 913.4463\n",
      "====> Epoch: 71 Average test loss: 0.0259\n"
     ]
    },
    {
     "name": "stderr",
     "output_type": "stream",
     "text": [
      "Train Epoch: 72 [105600/105870 (100%)]\tLoss: 0.274913: 100%|██████████| 3309/3309 [00:11<00:00, 280.80it/s]\n"
     ]
    },
    {
     "name": "stdout",
     "output_type": "stream",
     "text": [
      "====> Epoch: 72 Average train loss: 0.2909\n",
      "===> Epoch: 72 Average mae test loss for targetcol :3.1963\n",
      "===> Epoch: 72 Average mae test loss for targetcol: 3.0858\n",
      "====> Test set loss: 914.5963\n",
      "====> Epoch: 72 Average test loss: 0.0259\n"
     ]
    },
    {
     "name": "stderr",
     "output_type": "stream",
     "text": [
      "Train Epoch: 73 [105600/105870 (100%)]\tLoss: 0.333821: 100%|██████████| 3309/3309 [00:12<00:00, 273.20it/s]\n"
     ]
    },
    {
     "name": "stdout",
     "output_type": "stream",
     "text": [
      "====> Epoch: 73 Average train loss: 0.2910\n",
      "===> Epoch: 73 Average mae test loss for targetcol :3.1965\n",
      "===> Epoch: 73 Average mae test loss for targetcol: 3.0930\n",
      "====> Test set loss: 910.8440\n",
      "====> Epoch: 73 Average test loss: 0.0258\n"
     ]
    },
    {
     "name": "stderr",
     "output_type": "stream",
     "text": [
      "Train Epoch: 74 [105600/105870 (100%)]\tLoss: 0.399731: 100%|██████████| 3309/3309 [00:11<00:00, 281.94it/s]\n"
     ]
    },
    {
     "name": "stdout",
     "output_type": "stream",
     "text": [
      "====> Epoch: 74 Average train loss: 0.2909\n",
      "===> Epoch: 74 Average mae test loss for targetcol :3.1960\n",
      "===> Epoch: 74 Average mae test loss for targetcol: 3.0820\n",
      "====> Test set loss: 913.6778\n",
      "====> Epoch: 74 Average test loss: 0.0259\n"
     ]
    },
    {
     "name": "stderr",
     "output_type": "stream",
     "text": [
      "Train Epoch: 75 [105600/105870 (100%)]\tLoss: 0.267550: 100%|██████████| 3309/3309 [00:11<00:00, 279.30it/s]\n"
     ]
    },
    {
     "name": "stdout",
     "output_type": "stream",
     "text": [
      "====> Epoch: 75 Average train loss: 0.2909\n",
      "===> Epoch: 75 Average mae test loss for targetcol :3.1980\n",
      "===> Epoch: 75 Average mae test loss for targetcol: 3.0773\n",
      "====> Test set loss: 910.4749\n",
      "====> Epoch: 75 Average test loss: 0.0258\n"
     ]
    },
    {
     "name": "stderr",
     "output_type": "stream",
     "text": [
      "Train Epoch: 76 [105600/105870 (100%)]\tLoss: 0.295746: 100%|██████████| 3309/3309 [00:11<00:00, 283.23it/s]\n"
     ]
    },
    {
     "name": "stdout",
     "output_type": "stream",
     "text": [
      "====> Epoch: 76 Average train loss: 0.2909\n",
      "===> Epoch: 76 Average mae test loss for targetcol :3.1970\n",
      "===> Epoch: 76 Average mae test loss for targetcol: 3.0819\n",
      "====> Test set loss: 910.5867\n",
      "====> Epoch: 76 Average test loss: 0.0258\n"
     ]
    },
    {
     "name": "stderr",
     "output_type": "stream",
     "text": [
      "Train Epoch: 77 [105600/105870 (100%)]\tLoss: 0.306831: 100%|██████████| 3309/3309 [00:12<00:00, 265.19it/s]\n"
     ]
    },
    {
     "name": "stdout",
     "output_type": "stream",
     "text": [
      "====> Epoch: 77 Average train loss: 0.2909\n",
      "===> Epoch: 77 Average mae test loss for targetcol :3.1998\n",
      "===> Epoch: 77 Average mae test loss for targetcol: 3.0595\n",
      "====> Test set loss: 916.1740\n",
      "====> Epoch: 77 Average test loss: 0.0260\n"
     ]
    },
    {
     "name": "stderr",
     "output_type": "stream",
     "text": [
      "Train Epoch: 78 [105600/105870 (100%)]\tLoss: 0.306754: 100%|██████████| 3309/3309 [00:11<00:00, 285.37it/s]\n"
     ]
    },
    {
     "name": "stdout",
     "output_type": "stream",
     "text": [
      "====> Epoch: 78 Average train loss: 0.2909\n",
      "===> Epoch: 78 Average mae test loss for targetcol :3.1952\n",
      "===> Epoch: 78 Average mae test loss for targetcol: 3.0923\n",
      "====> Test set loss: 909.9154\n",
      "====> Epoch: 78 Average test loss: 0.0258\n"
     ]
    },
    {
     "name": "stderr",
     "output_type": "stream",
     "text": [
      "Train Epoch: 79 [105600/105870 (100%)]\tLoss: 0.337046: 100%|██████████| 3309/3309 [00:11<00:00, 286.46it/s]\n"
     ]
    },
    {
     "name": "stdout",
     "output_type": "stream",
     "text": [
      "====> Epoch: 79 Average train loss: 0.2909\n",
      "===> Epoch: 79 Average mae test loss for targetcol :3.1969\n",
      "===> Epoch: 79 Average mae test loss for targetcol: 3.0723\n",
      "====> Test set loss: 914.1254\n",
      "====> Epoch: 79 Average test loss: 0.0259\n"
     ]
    },
    {
     "name": "stderr",
     "output_type": "stream",
     "text": [
      "Train Epoch: 80 [105600/105870 (100%)]\tLoss: 0.269214: 100%|██████████| 3309/3309 [00:11<00:00, 287.26it/s]\n"
     ]
    },
    {
     "name": "stdout",
     "output_type": "stream",
     "text": [
      "====> Epoch: 80 Average train loss: 0.2909\n",
      "===> Epoch: 80 Average mae test loss for targetcol :3.1986\n",
      "===> Epoch: 80 Average mae test loss for targetcol: 3.0823\n",
      "====> Test set loss: 910.9556\n",
      "====> Epoch: 80 Average test loss: 0.0258\n"
     ]
    },
    {
     "name": "stderr",
     "output_type": "stream",
     "text": [
      "Train Epoch: 81 [105600/105870 (100%)]\tLoss: 0.281563: 100%|██████████| 3309/3309 [00:12<00:00, 270.81it/s]\n"
     ]
    },
    {
     "name": "stdout",
     "output_type": "stream",
     "text": [
      "====> Epoch: 81 Average train loss: 0.2907\n",
      "===> Epoch: 81 Average mae test loss for targetcol :3.1958\n",
      "===> Epoch: 81 Average mae test loss for targetcol: 3.1006\n",
      "====> Test set loss: 914.0918\n",
      "====> Epoch: 81 Average test loss: 0.0259\n"
     ]
    },
    {
     "name": "stderr",
     "output_type": "stream",
     "text": [
      "Train Epoch: 82 [105600/105870 (100%)]\tLoss: 0.326376: 100%|██████████| 3309/3309 [00:12<00:00, 272.40it/s]\n"
     ]
    },
    {
     "name": "stdout",
     "output_type": "stream",
     "text": [
      "====> Epoch: 82 Average train loss: 0.2907\n",
      "===> Epoch: 82 Average mae test loss for targetcol :3.1936\n",
      "===> Epoch: 82 Average mae test loss for targetcol: 3.1038\n",
      "====> Test set loss: 912.2383\n",
      "====> Epoch: 82 Average test loss: 0.0258\n"
     ]
    },
    {
     "name": "stderr",
     "output_type": "stream",
     "text": [
      "Train Epoch: 83 [105600/105870 (100%)]\tLoss: 0.290595: 100%|██████████| 3309/3309 [00:11<00:00, 280.05it/s]\n"
     ]
    },
    {
     "name": "stdout",
     "output_type": "stream",
     "text": [
      "====> Epoch: 83 Average train loss: 0.2907\n",
      "===> Epoch: 83 Average mae test loss for targetcol :3.1954\n",
      "===> Epoch: 83 Average mae test loss for targetcol: 3.1048\n",
      "====> Test set loss: 911.7432\n",
      "====> Epoch: 83 Average test loss: 0.0258\n"
     ]
    },
    {
     "name": "stderr",
     "output_type": "stream",
     "text": [
      "Train Epoch: 84 [105600/105870 (100%)]\tLoss: 0.276718: 100%|██████████| 3309/3309 [00:12<00:00, 264.36it/s]\n"
     ]
    },
    {
     "name": "stdout",
     "output_type": "stream",
     "text": [
      "====> Epoch: 84 Average train loss: 0.2907\n",
      "===> Epoch: 84 Average mae test loss for targetcol :3.1962\n",
      "===> Epoch: 84 Average mae test loss for targetcol: 3.0849\n",
      "====> Test set loss: 914.0098\n",
      "====> Epoch: 84 Average test loss: 0.0259\n"
     ]
    },
    {
     "name": "stderr",
     "output_type": "stream",
     "text": [
      "Train Epoch: 85 [105600/105870 (100%)]\tLoss: 0.301337: 100%|██████████| 3309/3309 [00:12<00:00, 268.30it/s]\n"
     ]
    },
    {
     "name": "stdout",
     "output_type": "stream",
     "text": [
      "====> Epoch: 85 Average train loss: 0.2907\n",
      "===> Epoch: 85 Average mae test loss for targetcol :3.1951\n",
      "===> Epoch: 85 Average mae test loss for targetcol: 3.0866\n",
      "====> Test set loss: 911.8869\n",
      "====> Epoch: 85 Average test loss: 0.0258\n"
     ]
    },
    {
     "name": "stderr",
     "output_type": "stream",
     "text": [
      "Train Epoch: 86 [105600/105870 (100%)]\tLoss: 0.222823: 100%|██████████| 3309/3309 [00:12<00:00, 266.96it/s]\n"
     ]
    },
    {
     "name": "stdout",
     "output_type": "stream",
     "text": [
      "====> Epoch: 86 Average train loss: 0.2907\n",
      "===> Epoch: 86 Average mae test loss for targetcol :3.1979\n",
      "===> Epoch: 86 Average mae test loss for targetcol: 3.0943\n",
      "====> Test set loss: 908.3811\n",
      "====> Epoch: 86 Average test loss: 0.0257\n"
     ]
    },
    {
     "name": "stderr",
     "output_type": "stream",
     "text": [
      "Train Epoch: 87 [105600/105870 (100%)]\tLoss: 0.252641: 100%|██████████| 3309/3309 [00:11<00:00, 280.81it/s]\n"
     ]
    },
    {
     "name": "stdout",
     "output_type": "stream",
     "text": [
      "====> Epoch: 87 Average train loss: 0.2906\n",
      "===> Epoch: 87 Average mae test loss for targetcol :3.1953\n",
      "===> Epoch: 87 Average mae test loss for targetcol: 3.0822\n",
      "====> Test set loss: 911.3923\n",
      "====> Epoch: 87 Average test loss: 0.0258\n"
     ]
    },
    {
     "name": "stderr",
     "output_type": "stream",
     "text": [
      "Train Epoch: 88 [105600/105870 (100%)]\tLoss: 0.300331: 100%|██████████| 3309/3309 [00:12<00:00, 261.18it/s]\n"
     ]
    },
    {
     "name": "stdout",
     "output_type": "stream",
     "text": [
      "====> Epoch: 88 Average train loss: 0.2907\n",
      "===> Epoch: 88 Average mae test loss for targetcol :3.1976\n",
      "===> Epoch: 88 Average mae test loss for targetcol: 3.0642\n",
      "====> Test set loss: 912.9872\n",
      "====> Epoch: 88 Average test loss: 0.0259\n"
     ]
    },
    {
     "name": "stderr",
     "output_type": "stream",
     "text": [
      "Train Epoch: 89 [105600/105870 (100%)]\tLoss: 0.211161: 100%|██████████| 3309/3309 [00:12<00:00, 269.94it/s]\n"
     ]
    },
    {
     "name": "stdout",
     "output_type": "stream",
     "text": [
      "====> Epoch: 89 Average train loss: 0.2906\n",
      "===> Epoch: 89 Average mae test loss for targetcol :3.1917\n",
      "===> Epoch: 89 Average mae test loss for targetcol: 3.0834\n",
      "====> Test set loss: 911.8790\n",
      "====> Epoch: 89 Average test loss: 0.0258\n"
     ]
    },
    {
     "name": "stderr",
     "output_type": "stream",
     "text": [
      "Train Epoch: 90 [105600/105870 (100%)]\tLoss: 0.239483: 100%|██████████| 3309/3309 [00:11<00:00, 280.05it/s]\n"
     ]
    },
    {
     "name": "stdout",
     "output_type": "stream",
     "text": [
      "====> Epoch: 90 Average train loss: 0.2905\n",
      "===> Epoch: 90 Average mae test loss for targetcol :3.1924\n",
      "===> Epoch: 90 Average mae test loss for targetcol: 3.0907\n",
      "====> Test set loss: 910.7908\n",
      "====> Epoch: 90 Average test loss: 0.0258\n"
     ]
    },
    {
     "name": "stderr",
     "output_type": "stream",
     "text": [
      "Train Epoch: 91 [105600/105870 (100%)]\tLoss: 0.359704: 100%|██████████| 3309/3309 [00:11<00:00, 281.19it/s]\n"
     ]
    },
    {
     "name": "stdout",
     "output_type": "stream",
     "text": [
      "====> Epoch: 91 Average train loss: 0.2905\n",
      "===> Epoch: 91 Average mae test loss for targetcol :3.1948\n",
      "===> Epoch: 91 Average mae test loss for targetcol: 3.0800\n",
      "====> Test set loss: 909.2452\n",
      "====> Epoch: 91 Average test loss: 0.0258\n"
     ]
    },
    {
     "name": "stderr",
     "output_type": "stream",
     "text": [
      "Train Epoch: 92 [105600/105870 (100%)]\tLoss: 0.301351: 100%|██████████| 3309/3309 [00:16<00:00, 202.13it/s]\n"
     ]
    },
    {
     "name": "stdout",
     "output_type": "stream",
     "text": [
      "====> Epoch: 92 Average train loss: 0.2905\n",
      "===> Epoch: 92 Average mae test loss for targetcol :3.1971\n",
      "===> Epoch: 92 Average mae test loss for targetcol: 3.0816\n",
      "====> Test set loss: 911.9511\n",
      "====> Epoch: 92 Average test loss: 0.0258\n"
     ]
    },
    {
     "name": "stderr",
     "output_type": "stream",
     "text": [
      "Train Epoch: 93 [105600/105870 (100%)]\tLoss: 0.287856: 100%|██████████| 3309/3309 [00:15<00:00, 220.00it/s]\n"
     ]
    },
    {
     "name": "stdout",
     "output_type": "stream",
     "text": [
      "====> Epoch: 93 Average train loss: 0.2903\n",
      "===> Epoch: 93 Average mae test loss for targetcol :3.1909\n",
      "===> Epoch: 93 Average mae test loss for targetcol: 3.0983\n",
      "====> Test set loss: 910.1113\n",
      "====> Epoch: 93 Average test loss: 0.0258\n"
     ]
    },
    {
     "name": "stderr",
     "output_type": "stream",
     "text": [
      "Train Epoch: 94 [105600/105870 (100%)]\tLoss: 0.282864: 100%|██████████| 3309/3309 [00:12<00:00, 270.84it/s]\n"
     ]
    },
    {
     "name": "stdout",
     "output_type": "stream",
     "text": [
      "====> Epoch: 94 Average train loss: 0.2904\n",
      "===> Epoch: 94 Average mae test loss for targetcol :3.1942\n",
      "===> Epoch: 94 Average mae test loss for targetcol: 3.0776\n",
      "====> Test set loss: 910.9966\n",
      "====> Epoch: 94 Average test loss: 0.0258\n"
     ]
    },
    {
     "name": "stderr",
     "output_type": "stream",
     "text": [
      "Train Epoch: 95 [105600/105870 (100%)]\tLoss: 0.266343: 100%|██████████| 3309/3309 [00:12<00:00, 270.15it/s]\n"
     ]
    },
    {
     "name": "stdout",
     "output_type": "stream",
     "text": [
      "====> Epoch: 95 Average train loss: 0.2904\n",
      "===> Epoch: 95 Average mae test loss for targetcol :3.1963\n",
      "===> Epoch: 95 Average mae test loss for targetcol: 3.0784\n",
      "====> Test set loss: 910.9434\n",
      "====> Epoch: 95 Average test loss: 0.0258\n"
     ]
    },
    {
     "name": "stderr",
     "output_type": "stream",
     "text": [
      "Train Epoch: 96 [105600/105870 (100%)]\tLoss: 0.298580: 100%|██████████| 3309/3309 [00:13<00:00, 254.35it/s]\n"
     ]
    },
    {
     "name": "stdout",
     "output_type": "stream",
     "text": [
      "====> Epoch: 96 Average train loss: 0.2903\n",
      "===> Epoch: 96 Average mae test loss for targetcol :3.1913\n",
      "===> Epoch: 96 Average mae test loss for targetcol: 3.0776\n",
      "====> Test set loss: 907.7614\n",
      "====> Epoch: 96 Average test loss: 0.0257\n"
     ]
    },
    {
     "name": "stderr",
     "output_type": "stream",
     "text": [
      "Train Epoch: 97 [105600/105870 (100%)]\tLoss: 0.287019: 100%|██████████| 3309/3309 [00:11<00:00, 289.23it/s]\n"
     ]
    },
    {
     "name": "stdout",
     "output_type": "stream",
     "text": [
      "====> Epoch: 97 Average train loss: 0.2905\n",
      "===> Epoch: 97 Average mae test loss for targetcol :3.1956\n",
      "===> Epoch: 97 Average mae test loss for targetcol: 3.0664\n",
      "====> Test set loss: 912.1341\n",
      "====> Epoch: 97 Average test loss: 0.0258\n"
     ]
    },
    {
     "name": "stderr",
     "output_type": "stream",
     "text": [
      "Train Epoch: 98 [105600/105870 (100%)]\tLoss: 0.367810: 100%|██████████| 3309/3309 [00:11<00:00, 289.57it/s]\n"
     ]
    },
    {
     "name": "stdout",
     "output_type": "stream",
     "text": [
      "====> Epoch: 98 Average train loss: 0.2904\n",
      "===> Epoch: 98 Average mae test loss for targetcol :3.1910\n",
      "===> Epoch: 98 Average mae test loss for targetcol: 3.0652\n",
      "====> Test set loss: 909.8382\n",
      "====> Epoch: 98 Average test loss: 0.0258\n"
     ]
    },
    {
     "name": "stderr",
     "output_type": "stream",
     "text": [
      "Train Epoch: 99 [105600/105870 (100%)]\tLoss: 0.214399: 100%|██████████| 3309/3309 [00:11<00:00, 289.95it/s]\n"
     ]
    },
    {
     "name": "stdout",
     "output_type": "stream",
     "text": [
      "====> Epoch: 99 Average train loss: 0.2903\n",
      "===> Epoch: 99 Average mae test loss for targetcol :3.1927\n",
      "===> Epoch: 99 Average mae test loss for targetcol: 3.0837\n",
      "====> Test set loss: 908.1792\n",
      "====> Epoch: 99 Average test loss: 0.0257\n"
     ]
    },
    {
     "name": "stderr",
     "output_type": "stream",
     "text": [
      "Train Epoch: 100 [105600/105870 (100%)]\tLoss: 0.256245: 100%|██████████| 3309/3309 [00:11<00:00, 279.07it/s]\n"
     ]
    },
    {
     "name": "stdout",
     "output_type": "stream",
     "text": [
      "====> Epoch: 100 Average train loss: 0.2902\n",
      "===> Epoch: 100 Average mae test loss for targetcol :3.1911\n",
      "===> Epoch: 100 Average mae test loss for targetcol: 3.0722\n",
      "====> Test set loss: 910.6002\n",
      "====> Epoch: 100 Average test loss: 0.0258\n"
     ]
    },
    {
     "name": "stderr",
     "output_type": "stream",
     "text": [
      "Train Epoch: 101 [105600/105870 (100%)]\tLoss: 0.375049: 100%|██████████| 3309/3309 [00:11<00:00, 279.89it/s]\n"
     ]
    },
    {
     "name": "stdout",
     "output_type": "stream",
     "text": [
      "====> Epoch: 101 Average train loss: 0.2903\n",
      "===> Epoch: 101 Average mae test loss for targetcol :3.1944\n",
      "===> Epoch: 101 Average mae test loss for targetcol: 3.0590\n",
      "====> Test set loss: 910.1100\n",
      "====> Epoch: 101 Average test loss: 0.0258\n"
     ]
    },
    {
     "name": "stderr",
     "output_type": "stream",
     "text": [
      "Train Epoch: 102 [105600/105870 (100%)]\tLoss: 0.302064: 100%|██████████| 3309/3309 [00:11<00:00, 281.34it/s]\n"
     ]
    },
    {
     "name": "stdout",
     "output_type": "stream",
     "text": [
      "====> Epoch: 102 Average train loss: 0.2903\n",
      "===> Epoch: 102 Average mae test loss for targetcol :3.1913\n",
      "===> Epoch: 102 Average mae test loss for targetcol: 3.0762\n",
      "====> Test set loss: 908.0239\n",
      "====> Epoch: 102 Average test loss: 0.0257\n"
     ]
    },
    {
     "name": "stderr",
     "output_type": "stream",
     "text": [
      "Train Epoch: 103 [19520/105870 (18%)]\tLoss: 0.247162:  18%|█▊        | 610/3309 [00:02<00:09, 284.60it/s]"
     ]
    }
   ],
   "source": [
    "import argparse\n",
    "import hashlib\n",
    "from pathlib import Path\n",
    "\n",
    "import matplotlib.pyplot as plt\n",
    "import mlflow\n",
    "import mlflow.pytorch\n",
    "import shap\n",
    "import numpy as np\n",
    "import pandas as pd\n",
    "import seaborn as sns\n",
    "import torch\n",
    "import torch.utils.data\n",
    "import data_insight\n",
    "from data_insight import setup_duckdb\n",
    "from duckdb import DuckDBPyConnection as DuckDB\n",
    "from duckdb import DuckDBPyRelation as Relation\n",
    "from pathlib import Path\n",
    "import hashlib\n",
    "from duckdb import DuckDBPyConnection as DuckDB\n",
    "from sklearn.model_selection import TimeSeriesSplit\n",
    "from sklearn.preprocessing import MinMaxScaler, OneHotEncoder\n",
    "from sklearn.metrics import mean_squared_error, mean_absolute_error\n",
    "import optuna \n",
    "from optuna.visualization import plot_optimization_history\n",
    "\n",
    "\n",
    "from torch import nn, optim\n",
    "from torch.nn import functional as F\n",
    "from torch.utils.data import TensorDataset,DataLoader, Dataset\n",
    "from tqdm.auto import tqdm\n",
    "\n",
    "import sensor_imputation_thesis.shared.load_data as load\n",
    "\n",
    "\n",
    "def setup_seed(seed):\n",
    "    torch.manual_seed(seed)\n",
    "    torch.cuda.manual_seed_all(seed)\n",
    "    np.random.seed(seed)\n",
    "    random.seed(seed)\n",
    "    torch.backends.cudnn.deterministic = True\n",
    "    torch.backends.cudnn.benchmark = False\n",
    "\n",
    "\n",
    "# set tracking_uri:\n",
    "mlflow.set_tracking_uri(\"http://localhost:5000\")\n",
    "# So I don't know if above commands are sufficient server setup, but it did work for me. And I might need your help if they aren't\n",
    "# mlflow relevant info:\n",
    "# I overall faced problem that says \"HTTPConnectionPool(host='0.0.0.0', port=5000): Max retries exceeded with url\". And the solutions were:\n",
    "# 1. Try running this line in terminal to see if mlflow logs exist\n",
    "# if logs exist, port can be directed\n",
    "# \" mlflow server --backend-store-uri sqlite:///mlflow.db --default-artifact-root ./mlruns \"\n",
    "# 2. Another possible solution for mlflow errors is to rename the experiment name and the run-name involved below\n",
    "\n",
    "# Load data\n",
    "\n",
    "pd.set_option(\"display.max_columns\", None)\n",
    "\n",
    "\n",
    "def load_engine_data(\n",
    "    con: DuckDB, product_id: str, start: pd.Timestamp, stop: pd.Timestamp, tags: list[str]\n",
    ") -> Relation:\n",
    "    return con.sql(f\"\"\"\n",
    "    SELECT {','.join(tags)}\n",
    "    FROM timeseries\n",
    "    WHERE\n",
    "        time BETWEEN '{start}' AND '{stop}'\n",
    "        AND pid = '{product_id}'\n",
    "    \"\"\")\n",
    "\n",
    "def get_tags_hash(tags):\n",
    "    return hashlib.md5(\",\".join(tags).encode()).hexdigest()\n",
    "\n",
    "\n",
    "# edit timestamp as needed\n",
    "start, stop = pd.Timestamp(\"2023-10-01\"), pd.Timestamp(\"2024-10-01\")\n",
    "\n",
    "# these are the tags that include 9 missing cols, feel free to edit\n",
    "tags = [\n",
    "    \"time\",\n",
    "    \"fr_eng\",\n",
    "    \"te_exh_cyl_out__0\",\n",
    "    \"pd_air_ic__0\",\n",
    "    \"pr_exh_turb_out__0\",\n",
    "    \"te_air_ic_out__0\",\n",
    "    \"te_seawater\",\n",
    "    \"te_air_comp_in_a__0\",\n",
    "    \"te_air_comp_in_b__0\",\n",
    "    \"fr_tc__0\",\n",
    "    \"pr_baro\",\n",
    "    #most common \"bad\"/ \"out of bound\" sensors\n",
    "    \"pd_air_ic__0\",  #overlapped with below\n",
    "    \"pr_exh_rec\",\n",
    "    \"te_exh_turb_in__0\",\n",
    "    \"te_exh_turb_out__0\",\n",
    "    #Feature Importance Result\n",
    "    #for te_exh_cyl_out__0\n",
    "    \"bo_aux_blower_running\",\n",
    "    \"re_eng_load\",\n",
    "    \"pr_air_scav_ecs\", #overlap\n",
    "    #pd_air_ic__0\n",
    "    \"pr_air_scav\",\n",
    "    #for te_air_ic_out__0\n",
    "    #for te_seawater\n",
    "    \"te_air_scav_rec\",\n",
    "    \"te_air_ic_out__0\",\n",
    "    \"pr_cyl_comp__0\",\n",
    "    \"pr_cyl_max__0\",\n",
    "    \"se_mip__0\",\n",
    "    \"te_exh_cyl_out__0\",\n",
    "    \"fr_eng_setpoint\",\n",
    "    \"te_air_scav_rec_iso\",\n",
    "    #for pr_baro\n",
    "    \"pr_cyl_max_mv_iso\",\n",
    "    \"pr_cyl_comp_mv_iso\",\n",
    "    \"fr_eng_ecs\",\n",
    "    \"pr_air_scav_iso\",\n",
    "\n",
    "\n",
    "]\n",
    "\n",
    "# edit point as needed\n",
    "product_id = \"89ccb7a888d53f8792f0580801cede9a\"\n",
    "\n",
    "#product_id \n",
    "#add more product id with same engine type (fine the most popular ones)\n",
    "\n",
    "\n",
    "# Construct the cache file path using the Path class\n",
    "DATA = Path.home() / \"SageMaker/data_cache\"\n",
    "DATA.mkdir(exist_ok=True)\n",
    "cache = DATA / f\"data_{get_tags_hash(tags)}_{product_id}_{start:%Y-%m-%d}_{stop:%Y-%m-%d}.parquet\"\n",
    "\n",
    "# Ensure the directory exists\n",
    "cache.parent.mkdir(parents=True, exist_ok=True)\n",
    "\n",
    "if cache.exists():\n",
    "    df = pd.read_parquet(cache)\n",
    "else:\n",
    "    con = setup_duckdb()\n",
    "    df = load_engine_data(con, product_id, start, stop, tags).df()\n",
    "    df.to_parquet(cache)\n",
    "\n",
    "print(df.head(10))\n",
    "\n",
    "\n",
    "## Adding engine types and assign onehot encoder, and merge df  \n",
    "con = data_insight.setup_duckdb()\n",
    "con.sql(\"SET enable_progress_bar=true\")\n",
    "engine_type = con.sql(f\"SELECT engine_type FROM shipinfo WHERE productId == '{product_id}'\").df().engine_type.item()\n",
    "df['engine_type']=engine_type\n",
    "\n",
    "#Apply onehotencoder \n",
    "encoder = OneHotEncoder(sparse_output=False)\n",
    "encoded_engine_type = encoder.fit_transform(df[['engine_type']])\n",
    "# Create a DataFrame with the encoded columns\n",
    "encoded_df = pd.DataFrame(encoded_engine_type, columns=encoder.get_feature_names_out(['engine_type']))\n",
    "# Concatenate the original DataFrame with the encoded DataFrame\n",
    "df = pd.concat([df, encoded_df], axis=1)\n",
    "#drop? not sure yet. \n",
    "df.drop('engine_type', axis=1,inplace=True)\n",
    "\n",
    "\n",
    "\n",
    "# Preprocessing steps not needed for this col\n",
    "# filter df with engine running (changed into 10/60 revolutions)\n",
    "df1 = df[df[\"fr_eng\"] > (10/60)]\n",
    "\n",
    "# Check nan values in each column\n",
    "for col in df1.columns:\n",
    "    print(f\"Column {col} has {df1[col].isna().sum()} NaN values\")\n",
    "\n",
    "\n",
    "## Newly Suggested Approach to drop nan columns (drop cols with all nan values, and then drop rows that have any nan value )\n",
    "df1=df.dropna(axis=1,how='all')\n",
    "# drop any null vals in rows \n",
    "df1=df1.dropna(axis=0,how='any')\n",
    "\n",
    "#check the length of the df1 and the length of df to check how many cols rows are dropped \n",
    "print(\"shape of original df:\")\n",
    "print(\"Datasize:\",len(df))\n",
    "print(\"Colnumber:\",len(df.columns))\n",
    "\n",
    "print(\"shape of filtered df:\")\n",
    "print(\"Datasize:\",len(df1))\n",
    "print(\"Colnumber:\",len(df1.columns))\n",
    "\n",
    "# Select numeric columns\n",
    "numeric_df = df1.select_dtypes(include=\"number\")\n",
    "print(numeric_df)\n",
    "\n",
    "data=numeric_df  #data here is before scaling \n",
    "\n",
    "\n",
    "#define inverse scale\n",
    "def inverse_scale(scaled_data, data_min, scale):\n",
    "    return scaled_data*scale + data_min\n",
    "\n",
    "\n",
    "# VAE Model\n",
    "class VAE(nn.Module):\n",
    "    def __init__(self, input_dim):\n",
    "        super(VAE, self).__init__()\n",
    "        self.fc1 = nn.Linear(input_dim, 400)\n",
    "        self.fc21 = nn.Linear(400, 20)\n",
    "        self.fc22 = nn.Linear(400, 20)\n",
    "        self.fc3 = nn.Linear(20, 400)\n",
    "        self.fc4 = nn.Linear(400, input_dim)\n",
    "\n",
    "    def encode(self, x):\n",
    "        h1 = F.relu(self.fc1(x))\n",
    "        return self.fc21(h1), self.fc22(h1)\n",
    "\n",
    "    def reparameterize(self, mu, logvar):\n",
    "        std = torch.exp(0.5 * logvar)\n",
    "        eps = torch.randn_like(std)\n",
    "        return mu + eps * std\n",
    "\n",
    "    def decode(self, z):\n",
    "        h3 = F.relu(self.fc3(z))\n",
    "        return torch.tanh(self.fc4(h3))\n",
    "\n",
    "    def forward(self, x):\n",
    "        mu, logvar = self.encode(x)\n",
    "        z = self.reparameterize(mu, logvar)\n",
    "        return self.decode(z), mu, logvar\n",
    "\n",
    "\n",
    "##XGBoost \n",
    "\n",
    "\n",
    "# Reconstruction + KL divergence losses summed over target column and batch\n",
    "def loss_function(recon_x, x, mu, logvar, targetcol_idx, lambda_val):\n",
    "    # Specify the target column\n",
    "    recon_x_col = recon_x[:, targetcol_idx]\n",
    "    x_col = x[:, targetcol_idx]\n",
    "\n",
    "    # MSE & KLD for target column\n",
    "    MSE_col = F.mse_loss(recon_x_col, x_col, reduction=\"sum\")\n",
    "    KLD_col = -0.5 * torch.sum(1 + logvar - mu.pow(2) - logvar.exp())\n",
    "\n",
    "    # MSE & KLD for entire dataset\n",
    "    MSE_all = F.mse_loss(recon_x, x, reduction=\"sum\")\n",
    "    KLD_all = -0.5 * torch.sum(1 + logvar - mu.pow(2) - logvar.exp())\n",
    "\n",
    "    # Combine losses using lambda\n",
    "    loss = lambda_val * (MSE_col + KLD_col) + (1 - lambda_val) * (MSE_all + KLD_all)\n",
    "    return loss\n",
    "\n",
    "\n",
    "###add mse(&mae) comparison within training loop for target column\n",
    "#test if this works \n",
    "\n",
    "\n",
    "def train(epoch, model, train_loader, data_min, scale, lambda_val, targetcol_idx, optimizer, device, args):\n",
    "    model.train()\n",
    "    train_loss = 0\n",
    "    mae_loss_target_train = 0\n",
    "    average_train_loss = 0  # Initialize average_train_loss\n",
    "    pbar = tqdm(total=len(train_loader), desc=\"Training\")\n",
    "    for batch_idx, (data,) in enumerate(train_loader): #trian loader is after scaling\n",
    "        data_unmasked = data.to(device).float() #this data is before scaling\n",
    "        # Mask the target column\n",
    "        data_masked = data_unmasked.clone() #before scaling\n",
    "        data_masked[:, targetcol_idx] = -2\n",
    "        optimizer.zero_grad()\n",
    "        recon_batch, mu, logvar = model(data_masked)  # Masked target col\n",
    "        if torch.isnan(recon_batch).any():\n",
    "            print(\"NaN or in recon_batch!\")\n",
    "            break\n",
    "        loss = loss_function(recon_batch, data_unmasked, mu, logvar, targetcol_idx, lambda_val)\n",
    "        if torch.isnan(loss) or torch.isinf(loss):\n",
    "            raise ValueError(f\"NaN or Inf detected in loss at batch {batch_idx}. Check scaling or model outputs!\")\n",
    "            break\n",
    "        loss.backward()\n",
    "        torch.nn.utils.clip_grad_norm_(model.parameters(), max_norm=1.0)\n",
    "        train_loss += loss.item()\n",
    "        optimizer.step()\n",
    "        if batch_idx % args.log_interval == 0:\n",
    "            pbar.set_description(\n",
    "                \"Train Epoch: {} [{}/{} ({:.0f}%)]\\tLoss: {:.6f}\".format(\n",
    "                    epoch,\n",
    "                    batch_idx * len(data),\n",
    "                    len(train_loader.dataset),\n",
    "                    100.0 * batch_idx / len(train_loader),\n",
    "                    loss.item() / len(data),\n",
    "                )\n",
    "            )\n",
    "\n",
    "        pbar.update(1)\n",
    "        #revised \n",
    "        data_unscaled=inverse_scale(data_unmasked,data_min.to(device),scale.to(device))\n",
    "        target_column=data_unscaled[:,targetcol_idx]\n",
    "        recon_unscaled=inverse_scale(recon_batch,data_min.to(device),scale.to(device))\n",
    "        recon_column=recon_unscaled[:,targetcol_idx]\n",
    "\n",
    "                                                                                                \n",
    "        #mae metric calculation\n",
    "        mae_loss_target_train+=torch.mean(torch.abs(target_column-recon_column)).item()\n",
    "        #mae_loss_target_train += mean_absolute_error(target_column, recon_column)  # Ground truth\n",
    "\n",
    "    average_train_loss = train_loss / len(train_loader.dataset)  # Update after loop\n",
    "    print(\"====> Epoch: {} Average train loss: {:.4f}\".format(epoch, average_train_loss))\n",
    "    print(\"===> Epoch: {} Average mae test loss for targetcol :{:.4f}\".format(epoch,mae_loss_target_train/len(train_loader)))\n",
    "    return average_train_loss, mae_loss_target_train / len(train_loader)\n",
    "\n",
    "\n",
    "#Added mse in the test\n",
    "#In the test loop, masked column should be the input. \n",
    "#Redefine data for the test loop(should I inlcude this in the test loop or leave it here?)\n",
    "#dataset changed into validation set for testing loop\n",
    "    \n",
    "def test(epoch, model, val_loader, scale, data_min, targetcol_idx, device):\n",
    "    model.eval()\n",
    "    test_loss = 0\n",
    "    mae_loss_target_test = 0\n",
    "    with torch.no_grad():\n",
    "        for batch_idx, (data,) in enumerate(val_loader):\n",
    "            data_unmasked = data.to(device).float()  #data used here is before scaling \n",
    "            # Mask the target column\n",
    "            data_masked = data_unmasked.clone()\n",
    "            data_masked[:, targetcol_idx] = -2\n",
    "            recon_batch, mu, logvar = model(data_masked)  # Masked target col\n",
    "            # Define new lambda val for testing\n",
    "            lambda_val = 1.0\n",
    "            test_loss += loss_function(recon_batch, data_unmasked, mu, logvar, targetcol_idx, lambda_val).item()\n",
    "            # Scale back target column and reconstructed column\n",
    "            data_unscaled=inverse_scale(data_unmasked,data_min.to(device),scale.to(device))\n",
    "            target_column=data_unscaled[:,targetcol_idx]\n",
    "            recon_unscaled=inverse_scale(recon_batch,data_min.to(device),scale.to(device))\n",
    "            recon_column=recon_unscaled[:,targetcol_idx]\n",
    "                                                           \n",
    "            #mae metric calculation\n",
    "            mae_loss_target_test+=torch.mean(torch.abs(target_column-recon_column)).item()\n",
    "           # mae_loss_target_test += mean_absolute_error(target_column, recon_column)\n",
    "        \n",
    "        print(\"===> Epoch: {} Average mae test loss for targetcol: {:.4f}\".format(epoch, mae_loss_target_test / len(val_loader)))\n",
    "        print(\"====> Test set loss: {:.4f}\".format(test_loss))\n",
    "        average_test_loss = test_loss / len(val_loader.dataset)\n",
    "        print(\"====> Epoch: {} Average test loss: {:.4f}\".format(epoch, average_test_loss))\n",
    "    \n",
    "    return average_test_loss, mae_loss_target_test / len(val_loader)\n",
    "\n",
    "\n",
    "\n",
    "\n",
    "def main():\n",
    "    # Configuration parameters\n",
    "    class Config:\n",
    "        batch_size = 64\n",
    "        epochs = 150\n",
    "        no_cuda = False\n",
    "        no_mps = False\n",
    "        seed = 1\n",
    "        log_interval = 10\n",
    "        lr = 1e-4\n",
    "\n",
    "    dl_kwargs = dict(\n",
    "        batch_size=Config.batch_size,\n",
    "        shuffle=True,\n",
    "        # num_workers=4, # This may or may not be faster, depending on system\n",
    "        pin_memory=torch.cuda.is_available(),\n",
    "    )\n",
    "\n",
    "    args = Config()\n",
    "    args.cuda = not args.no_cuda and torch.cuda.is_available()\n",
    "    use_mps = not args.no_mps and torch.backends.mps.is_available()\n",
    "\n",
    "    torch.manual_seed(args.seed)\n",
    "\n",
    "    if args.cuda:\n",
    "        device = torch.device(\"cuda\")\n",
    "    elif use_mps:\n",
    "        device = torch.device(\"mps\")\n",
    "    else:\n",
    "        device = torch.device(\"cpu\")\n",
    "    \n",
    "   # Specify the target column, here should be changed while training other target columns\n",
    "    # (edit point as needed)\n",
    "    targetcolumn = \"te_air_scav_rec\"\n",
    "    targetcol_idx = data.columns.get_loc(targetcolumn)\n",
    "\n",
    "    #split dataset\n",
    "    train_size = int(0.6 * len(data))\n",
    "    val_size=int(0.2 * len(data))\n",
    "\n",
    "    train_df = data.iloc[:train_size]\n",
    "    val_df = data.iloc[train_size:train_size + val_size]\n",
    "    test_df= data.iloc[train_size + val_size:]\n",
    "\n",
    "    # Standardize the numeric data\n",
    "    scaler = MinMaxScaler(feature_range=(-1, 1))\n",
    "    #only apply scaler to the train set \n",
    "    scaled_train=scaler.fit_transform(train_df.values)\n",
    "    print(\"scaled_data\", scaled_train)\n",
    "    print(\"unscaled_data\",data)\n",
    "\n",
    "    # Transform val and test using the same scaler\n",
    "    scaled_val=scaler.transform(val_df.values)\n",
    "    scaled_test=scaler.transform(test_df.values)\n",
    "\n",
    "        \n",
    "    data_min=torch.tensor(scaler.data_min_,dtype=torch.float32)\n",
    "    data_max=torch.tensor(scaler.data_max_,dtype=torch.float32)\n",
    "    scale=data_max-data_min\n",
    "    scale[scale==0]=1e-8\n",
    "\n",
    "\n",
    "    #Convert DataFrame to Tensor\n",
    "    scaled_train_tensor=torch.tensor(scaled_train,dtype=torch.float32)\n",
    "    scaled_val_tensor=torch.tensor(scaled_val,dtype=torch.float32)\n",
    "    scaled_test_tensor=torch.tensor(scaled_test,dtype=torch.float32)\n",
    "\n",
    "    #create datasets on CPU\n",
    "    train_dataset=TensorDataset(scaled_train_tensor)\n",
    "    val_dataset=TensorDataset(scaled_val_tensor)\n",
    "    test_dataset=TensorDataset(scaled_test_tensor)\n",
    "\n",
    "\n",
    "     # Initialize Mlflow\n",
    "    mlflow.set_experiment(\"VAE_adjustedtestwizcorrect_optuna\")\n",
    "\n",
    "\n",
    "    def plot_loss_trends(run_id):\n",
    "        client = mlflow.tracking.MlflowClient()\n",
    "        \n",
    "        # Retrieve metric history\n",
    "        history_train = client.get_metric_history(run_id, \"average_train_loss\")\n",
    "        history_test = client.get_metric_history(run_id, \"average_test_loss\")\n",
    "\n",
    "        if not history_train or not history_test:\n",
    "            print(\"No metric history found for the given run_id.\")\n",
    "            return\n",
    "\n",
    "        # Sort by step to ensure correct order\n",
    "        history_train.sort(key=lambda x: x.step)\n",
    "        history_test.sort(key=lambda x: x.step)\n",
    "\n",
    "        epochs = [point.step for point in history_train]\n",
    "        train_losses = [point.value for point in history_train]\n",
    "        test_losses = [point.value for point in history_test]\n",
    "\n",
    "        # Plotting\n",
    "        plt.figure(figsize=(10, 5))\n",
    "        plt.plot(epochs, train_losses, label=\"Train Loss\")\n",
    "        plt.plot(epochs, test_losses, label=\"Test Loss\")\n",
    "        plt.xlabel(\"Epoch\")\n",
    "        plt.ylabel(\"Loss\")\n",
    "        plt.title(\"Loss Trend from Best Trial\")\n",
    "        plt.legend()\n",
    "        plt.grid(True)\n",
    "        plt.tight_layout()\n",
    "        plt.show()\n",
    "\n",
    "\n",
    "\n",
    "    #Adding Optuna\n",
    "    def objective(trial,device, data_min, scale):\n",
    "        with mlflow.start_run(nested=True) as run:\n",
    "            input_dim = scaled_train.shape[1]\n",
    "            batch_size =trial.suggest_int(\"batch_size\", 32, 128, step=32)\n",
    "            lr = trial.suggest_float(\"learning_rate\", 1e-6, 1e-1, log=True)\n",
    "            lambda_val = trial.suggest_float(\"lambda\", 0.5, 1.0)\n",
    "            \n",
    "            train_loader = DataLoader(train_dataset, batch_size=batch_size, shuffle=True)\n",
    "            val_loader = DataLoader(val_dataset, batch_size=batch_size, shuffle=False)\n",
    "        \n",
    "            \n",
    "            mlflow.log_params({\n",
    "                    \"batch_size\":batch_size,\n",
    "                    \"learning_rate\":lr,\n",
    "                    \"lambda\":lambda_val\n",
    "                })\n",
    "\n",
    "            model = VAE(input_dim=input_dim).to(device)\n",
    "\n",
    "            optimizer = optim.Adam(model.parameters(), lr=lr)\n",
    "\n",
    "\n",
    "            for epoch in range(args.epochs):\n",
    "                \n",
    "                average_train_loss, mae_loss_target_train = train(\n",
    "                    epoch,\n",
    "                    model,\n",
    "                    train_loader,\n",
    "                    lambda_val=lambda_val,\n",
    "                    targetcol_idx=targetcol_idx,\n",
    "                    optimizer=optimizer,\n",
    "                    device=device,\n",
    "                    data_min=data_min, \n",
    "                    scale=scale, #this is used for inverse scaling\n",
    "                    args=args\n",
    "                )\n",
    "\n",
    "                average_test_loss, mae_loss_target_test=test(\n",
    "                    epoch,\n",
    "                    model,\n",
    "                    val_loader,\n",
    "                    targetcol_idx=targetcol_idx,\n",
    "                    device=device,\n",
    "                    data_min=data_min,\n",
    "                    scale=scale #same, used for inverse scaling \n",
    "                \n",
    "                )\n",
    "                \n",
    "\n",
    "                \n",
    "                mlflow.log_metrics(\n",
    "                    {\n",
    "                        \"epoch\": epoch,\n",
    "                        \"average_train_loss\": average_train_loss,\n",
    "                        \"average_test_loss\": average_test_loss,\n",
    "                        \"mae_loss_target_train\": mae_loss_target_train,\n",
    "                        \"mae_loss_target_test\": mae_loss_target_test,\n",
    "                    },\n",
    "                    step=epoch,\n",
    ")\n",
    "\n",
    "\n",
    "            trial.set_user_attr(\"model_state_dict\", model.state_dict())\n",
    "            trial.set_user_attr(\"mlflow_run_id\", run.info.run_id)\n",
    "            \n",
    "            return average_test_loss # Ensure only one value is returned\n",
    "\n",
    "   \n",
    "    # Define run name(edit)\n",
    "    vae_run_name = \"optuna_vae_adjusted_for_te_air_scav_rec\"\n",
    "    \n",
    "    with mlflow.start_run(run_name=vae_run_name) as parent_run:\n",
    "        study = optuna.create_study(direction=\"minimize\")\n",
    "        study.optimize(lambda trial:objective (trial,device,data_min,scale),n_trials=100, timeout=3600)\n",
    "        #plot_optimization_history(study)  #visualization \n",
    "        best_trial = study.best_trial\n",
    "        best_run_id = best_trial.user_attrs[\"mlflow_run_id\"] #log run id to see the loss trend later\n",
    "        best_batch_size=best_trial.params[\"batch_size\"]\n",
    "\n",
    "      \n",
    "        mlflow.log_params(best_trial.params)\n",
    "        mlflow.log_param(\"best_run_id\", best_run_id)\n",
    "        mlflow.log_metric(\"Best Validation Loss:\", best_trial.value)\n",
    "        print(\"Best Trial:\")\n",
    "        print(f\"Validation loss: {best_trial.value}\")\n",
    "        print(\"Params:\")\n",
    "\n",
    "        # Check the loss trend of the best trial using corresponding run_id \n",
    "        best_trial_run_id = best_run_id\n",
    "        plot_loss_trends(best_trial_run_id)\n",
    "\n",
    "\n",
    "        for key, value in best_trial.params.items():\n",
    "            print(f\"{key}: {value}\")\n",
    "       \n",
    "    #Test on the test set with best parameters\n",
    "    with mlflow.start_run(run_name=\"Final_test_val_for_te_air_scav_rec\", nested=True):\n",
    "            # Model Reloading\n",
    "            best_model=VAE(input_dim=scaled_train.shape[1]).to(device)\n",
    "            best_model.load_state_dict(study.best_trial.user_attrs[\"model_state_dict\"])\n",
    "              \n",
    "            \n",
    "            #Evaluate on the test data \n",
    "            test_loader=DataLoader(test_dataset, batch_size=best_batch_size, shuffle=False)\n",
    "            epoch=50\n",
    "            average_test_loss, mae_loss_target_test=test(\n",
    "                        val_loader=test_loader,\n",
    "                        epoch=epoch,\n",
    "                        model=best_model,\n",
    "                        targetcol_idx=targetcol_idx,\n",
    "                        device=device,\n",
    "                        data_min=data_min,\n",
    "                        scale=scale\n",
    "                        )\n",
    "                \n",
    "                \n",
    "            mlflow.log_metrics(\n",
    "                    {\n",
    "                    \"epoch\": epoch,\n",
    "                    \"Final_test_loss\": average_test_loss,\n",
    "                    \"Final_loss_target_test\": mae_loss_target_test,\n",
    "                    },\n",
    "                 step=epoch,\n",
    ")\n",
    "            print(f\"Final Test Loss:{average_test_loss:.4f}, MAE:{mae_loss_target_test:.4f}\")\n",
    "            \n",
    "            ##Registration may not needed yet.. \n",
    "             #log the model with scaling params\n",
    "            #input_dim = scaled_train.shape[1]\n",
    "            #input_example = torch.randn(1, input_dim).float().cpu().numpy()  # Convert to NumPy\n",
    "            #mlflow.pytorch.log_model(\n",
    "              #  pytorch_model=best_model,\n",
    "               # artifact_path=\"model\",\n",
    "               # registered_model_name=\"VAE for te_air_scav_rec\",\n",
    "               # input_example=input_example,\n",
    "               # extra_pip_requirements=[\"torch\",\"optuna\",\"mlflow\"],\n",
    "                                                             \n",
    "               # metadata={\n",
    "                  #  \"train_min\": data_min.cpu().numpy().tolist(),\n",
    "                  #  \"scale\": scale.cpu().numpy().tolist()\n",
    "                 #   }\n",
    "                #)\n",
    "            \n",
    "\n",
    "if __name__ == '__main__':\n",
    "    main()\n",
    "\n",
    "\n",
    "\n",
    "\n",
    "\n",
    "\n",
    "\n",
    "    # CSOM: This should be done ONCE after training, and not inside the training loop."
   ]
  },
  {
   "cell_type": "markdown",
   "metadata": {},
   "source": [
    "Restarted .venv (Python 3.10.16)"
   ]
  },
  {
   "cell_type": "code",
   "execution_count": null,
   "id": "b78a067f-f77d-4ad2-9089-9bfa2e84961f",
   "metadata": {},
   "outputs": [
    {
     "name": "stderr",
     "output_type": "stream",
     "text": [
      "/home/ec2-user/SageMaker/sensor-imputation-thesis/.venv/lib/python3.10/site-packages/tqdm/auto.py:21: TqdmWarning: IProgress not found. Please update jupyter and ipywidgets. See https://ipywidgets.readthedocs.io/en/stable/user_install.html\n",
      "  from .autonotebook import tqdm as notebook_tqdm\n"
     ]
    },
    {
     "name": "stdout",
     "output_type": "stream",
     "text": [
      "                 time  fr_eng  te_exh_cyl_out__0  pd_air_ic__0  \\\n",
      "0 2023-10-01 00:00:00     0.0             400.15         -70.0   \n",
      "1 2023-10-01 00:01:00     0.0             399.15         -70.0   \n",
      "2 2023-10-01 00:02:00     0.0             399.15         -70.0   \n",
      "3 2023-10-01 00:03:00     0.0             399.15         -80.0   \n",
      "4 2023-10-01 00:04:00     0.0             399.15         -80.0   \n",
      "5 2023-10-01 00:05:00     0.0             399.15         -70.0   \n",
      "6 2023-10-01 00:06:00     0.0             399.15         -70.0   \n",
      "7 2023-10-01 00:07:00     0.0             399.15         -70.0   \n",
      "8 2023-10-01 00:08:00     0.0             399.15         -80.0   \n",
      "9 2023-10-01 00:09:00     0.0             399.15         -80.0   \n",
      "\n",
      "   pr_exh_turb_out__0  te_air_ic_out__0  te_seawater  te_air_comp_in_a__0  \\\n",
      "0                 NaN            308.95       291.25                  NaN   \n",
      "1                 NaN            308.85       291.25                  NaN   \n",
      "2                 NaN            308.85       291.25                  NaN   \n",
      "3                 NaN            308.85       291.25                  NaN   \n",
      "4                 NaN            308.85       291.25                  NaN   \n",
      "5                 NaN            308.85       291.25                  NaN   \n",
      "6                 NaN            308.75       291.25                  NaN   \n",
      "7                 NaN            308.75       291.25                  NaN   \n",
      "8                 NaN            308.75       291.25                  NaN   \n",
      "9                 NaN            308.75       291.25                  NaN   \n",
      "\n",
      "   te_air_comp_in_b__0  fr_tc__0       pr_baro  pd_air_ic__0_1  pr_exh_rec  \\\n",
      "0                  NaN       NaN  2.838493e+06           -70.0         0.0   \n",
      "1                  NaN       NaN  2.841377e+06           -70.0         0.0   \n",
      "2                  NaN       NaN  2.838867e+06           -70.0         0.0   \n",
      "3                  NaN       NaN  2.836357e+06           -80.0         0.0   \n",
      "4                  NaN       NaN  2.837350e+06           -80.0         0.0   \n",
      "5                  NaN       NaN  2.837599e+06           -70.0         0.0   \n",
      "6                  NaN       NaN  2.835387e+06           -70.0         0.0   \n",
      "7                  NaN       NaN  2.836256e+06           -70.0         0.0   \n",
      "8                  NaN       NaN  2.837375e+06           -80.0         0.0   \n",
      "9                  NaN       NaN  2.839513e+06           -80.0         0.0   \n",
      "\n",
      "   te_exh_turb_in__0  te_exh_turb_out__0  bo_aux_blower_running  re_eng_load  \\\n",
      "0                NaN                 NaN                    0.0          NaN   \n",
      "1                NaN                 NaN                    0.0          NaN   \n",
      "2                NaN                 NaN                    0.0          NaN   \n",
      "3                NaN                 NaN                    0.0          NaN   \n",
      "4                NaN                 NaN                    0.0          NaN   \n",
      "5                NaN                 NaN                    0.0          NaN   \n",
      "6                NaN                 NaN                    0.0          NaN   \n",
      "7                NaN                 NaN                    0.0          NaN   \n",
      "8                NaN                 NaN                    0.0          NaN   \n",
      "9                NaN                 NaN                    0.0          NaN   \n",
      "\n",
      "   pr_air_scav_ecs  pr_air_scav  te_air_scav_rec  te_air_ic_out__0_1  \\\n",
      "0        24.414062    24.414062           317.75              308.95   \n",
      "1        30.517578    30.517578           317.85              308.85   \n",
      "2        25.939941    25.939941           317.75              308.85   \n",
      "3        32.043457    32.043457           317.75              308.85   \n",
      "4        19.836426    19.836426           317.75              308.85   \n",
      "5        21.362305    21.362305           317.75              308.85   \n",
      "6        18.310547    18.310547           317.75              308.75   \n",
      "7        30.517578    30.517578           317.75              308.75   \n",
      "8        19.836426    19.836426           317.75              308.75   \n",
      "9        15.258789    15.258789           317.75              308.75   \n",
      "\n",
      "   pr_cyl_comp__0  pr_cyl_max__0  se_mip__0  te_exh_cyl_out__0_1  \\\n",
      "0             NaN            NaN        NaN               400.15   \n",
      "1             NaN            NaN        NaN               399.15   \n",
      "2             NaN            NaN        NaN               399.15   \n",
      "3             NaN            NaN        NaN               399.15   \n",
      "4             NaN            NaN        NaN               399.15   \n",
      "5             NaN            NaN        NaN               399.15   \n",
      "6             NaN            NaN        NaN               399.15   \n",
      "7             NaN            NaN        NaN               399.15   \n",
      "8             NaN            NaN        NaN               399.15   \n",
      "9             NaN            NaN        NaN               399.15   \n",
      "\n",
      "   fr_eng_setpoint  te_air_scav_rec_iso  pr_cyl_max_mv_iso  \\\n",
      "0              0.0                  NaN                NaN   \n",
      "1              0.0                  NaN                NaN   \n",
      "2              0.0                  NaN                NaN   \n",
      "3              0.0                  NaN                NaN   \n",
      "4              0.0                  NaN                NaN   \n",
      "5              0.0                  NaN                NaN   \n",
      "6              0.0                  NaN                NaN   \n",
      "7              0.0                  NaN                NaN   \n",
      "8              0.0                  NaN                NaN   \n",
      "9              0.0                  NaN                NaN   \n",
      "\n",
      "   pr_cyl_comp_mv_iso  fr_eng_ecs  pr_air_scav_iso  \n",
      "0                 NaN         0.0              NaN  \n",
      "1                 NaN         0.0              NaN  \n",
      "2                 NaN         0.0              NaN  \n",
      "3                 NaN         0.0              NaN  \n",
      "4                 NaN         0.0              NaN  \n",
      "5                 NaN         0.0              NaN  \n",
      "6                 NaN         0.0              NaN  \n",
      "7                 NaN         0.0              NaN  \n",
      "8                 NaN         0.0              NaN  \n",
      "9                 NaN         0.0              NaN  \n",
      ">>> con.sql(\"SHOW TABLES;\")\n",
      "┌────────────┐\n",
      "│    name    │\n",
      "│  varchar   │\n",
      "├────────────┤\n",
      "│ shipinfo   │\n",
      "│ site_infos │\n",
      "│ timeseries │\n",
      "└────────────┘\n",
      "\n",
      "\n",
      ">>> con.sql(\"DESCRIBE shipinfo;\")\n",
      "┌──────────────────────┬───────────────────────────────────────────────────────┬─────────┬─────────┬─────────┬─────────┐\n",
      "│     column_name      │                      column_type                      │  null   │   key   │ default │  extra  │\n",
      "│       varchar        │                        varchar                        │ varchar │ varchar │ varchar │ varchar │\n",
      "├──────────────────────┼───────────────────────────────────────────────────────┼─────────┼─────────┼─────────┼─────────┤\n",
      "│ information_validity │ VARCHAR                                               │ YES     │ NULL    │ NULL    │ NULL    │\n",
      "│ imo_no               │ VARCHAR                                               │ YES     │ NULL    │ NULL    │ NULL    │\n",
      "│ ship_name            │ VARCHAR                                               │ YES     │ NULL    │ NULL    │ NULL    │\n",
      "│ dsO_Sea_trial_date   │ VARCHAR                                               │ YES     │ NULL    │ NULL    │ NULL    │\n",
      "│ hull_no              │ VARCHAR                                               │ YES     │ NULL    │ NULL    │ NULL    │\n",
      "│ engine_no            │ VARCHAR                                               │ YES     │ NULL    │ NULL    │ NULL    │\n",
      "│ designSpecId         │ VARCHAR                                               │ YES     │ NULL    │ NULL    │ NULL    │\n",
      "│ cylinders            │ VARCHAR                                               │ YES     │ NULL    │ NULL    │ NULL    │\n",
      "│ engine_type          │ VARCHAR                                               │ YES     │ NULL    │ NULL    │ NULL    │\n",
      "│ licensee             │ VARCHAR                                               │ YES     │ NULL    │ NULL    │ NULL    │\n",
      "│    ·                 │    ·                                                  │  ·      │  ·      │  ·      │  ·      │\n",
      "│    ·                 │    ·                                                  │  ·      │  ·      │  ·      │  ·      │\n",
      "│    ·                 │    ·                                                  │  ·      │  ·      │  ·      │  ·      │\n",
      "│ min_Speed_for_PTO_…  │ VARCHAR                                               │ YES     │ NULL    │ NULL    │ NULL    │\n",
      "│ minimum_Light_Runn…  │ VARCHAR                                               │ YES     │ NULL    │ NULL    │ NULL    │\n",
      "│ recommendation_on_…  │ VARCHAR                                               │ YES     │ NULL    │ NULL    │ NULL    │\n",
      "│ maker_of_power_man…  │ VARCHAR                                               │ YES     │ NULL    │ NULL    │ NULL    │\n",
      "│ application_of_ECS…  │ VARCHAR                                               │ YES     │ NULL    │ NULL    │ NULL    │\n",
      "│ shorT_CRANKSHAFT_F…  │ VARCHAR                                               │ YES     │ NULL    │ NULL    │ NULL    │\n",
      "│ ptO_TEST_WITH_DISC…  │ VARCHAR                                               │ YES     │ NULL    │ NULL    │ NULL    │\n",
      "│ opportunitY_ID       │ VARCHAR                                               │ YES     │ NULL    │ NULL    │ NULL    │\n",
      "│ active_NOx_Engine_…  │ VARCHAR                                               │ YES     │ NULL    │ NULL    │ NULL    │\n",
      "│ mmsi                 │ STRUCT(seqno VARCHAR, callsign VARCHAR, mmsi VARCHA…  │ YES     │ NULL    │ NULL    │ NULL    │\n",
      "├──────────────────────┴───────────────────────────────────────────────────────┴─────────┴─────────┴─────────┴─────────┤\n",
      "│ 286 rows (20 shown)                                                                                        6 columns │\n",
      "└──────────────────────────────────────────────────────────────────────────────────────────────────────────────────────┘\n",
      "\n",
      "\n",
      ">>> con.sql(\"FROM shipinfo SELECT * LIMIT 1;\")\n",
      "┌──────────────────────┬──────────────────────┬──────────────────────┬───┬──────────────────────┬──────────────────────┐\n",
      "│ information_validity │        imo_no        │      ship_name       │ … │ active_NOx_Engine_…  │         mmsi         │\n",
      "│       varchar        │       varchar        │       varchar        │   │       varchar        │ struct(seqno varch…  │\n",
      "├──────────────────────┼──────────────────────┼──────────────────────┼───┼──────────────────────┼──────────────────────┤\n",
      "│ High                 │ 647f3b22f283a6cb19…  │ 300f821c06fdbbe0d0…  │ … │ Yes                  │ {'seqno': 00, 'cal…  │\n",
      "├──────────────────────┴──────────────────────┴──────────────────────┴───┴──────────────────────┴──────────────────────┤\n",
      "│ 1 rows                                                                                         286 columns (5 shown) │\n",
      "└──────────────────────────────────────────────────────────────────────────────────────────────────────────────────────┘\n",
      "\n",
      "\n",
      "Column time has 0 NaN values\n",
      "Column fr_eng has 0 NaN values\n",
      "Column te_exh_cyl_out__0 has 46436 NaN values\n",
      "Column pd_air_ic__0 has 46436 NaN values\n",
      "Column pr_exh_turb_out__0 has 300971 NaN values\n",
      "Column te_air_ic_out__0 has 46436 NaN values\n",
      "Column te_seawater has 46436 NaN values\n",
      "Column te_air_comp_in_a__0 has 300971 NaN values\n",
      "Column te_air_comp_in_b__0 has 300971 NaN values\n",
      "Column fr_tc__0 has 300971 NaN values\n",
      "Column pr_baro has 1 NaN values\n",
      "Column pd_air_ic__0_1 has 46436 NaN values\n",
      "Column pr_exh_rec has 46436 NaN values\n",
      "Column te_exh_turb_in__0 has 300971 NaN values\n",
      "Column te_exh_turb_out__0 has 300971 NaN values\n",
      "Column bo_aux_blower_running has 1 NaN values\n",
      "Column re_eng_load has 251 NaN values\n",
      "Column pr_air_scav_ecs has 1 NaN values\n",
      "Column pr_air_scav has 1 NaN values\n",
      "Column te_air_scav_rec has 46436 NaN values\n",
      "Column te_air_ic_out__0_1 has 46436 NaN values\n",
      "Column pr_cyl_comp__0 has 251 NaN values\n",
      "Column pr_cyl_max__0 has 251 NaN values\n",
      "Column se_mip__0 has 250 NaN values\n",
      "Column te_exh_cyl_out__0_1 has 46436 NaN values\n",
      "Column fr_eng_setpoint has 1 NaN values\n",
      "Column te_air_scav_rec_iso has 114445 NaN values\n",
      "Column pr_cyl_max_mv_iso has 116211 NaN values\n",
      "Column pr_cyl_comp_mv_iso has 121289 NaN values\n",
      "Column fr_eng_ecs has 1 NaN values\n",
      "Column pr_air_scav_iso has 119578 NaN values\n",
      "Column engine_type_G95ME-C10.5-GI-LPSCR has 0 NaN values\n",
      "shape of original df:\n",
      "Datasize: 439186\n",
      "Colnumber: 32\n",
      "shape of filtered df:\n",
      "Datasize: 176450\n",
      "Colnumber: 26\n",
      "          fr_eng  te_exh_cyl_out__0  pd_air_ic__0  te_air_ic_out__0  \\\n",
      "155674  0.914165             551.15         370.0            302.95   \n",
      "155675  0.914865             550.15         370.0            302.95   \n",
      "155676  0.916016             550.15         330.0            302.95   \n",
      "155677  0.914566             550.15         320.0            302.95   \n",
      "155678  0.913920             550.15         350.0            302.95   \n",
      "...          ...                ...           ...               ...   \n",
      "439181  1.026240             555.15         210.0            310.65   \n",
      "439182  1.035701             555.15          70.0            310.75   \n",
      "439183  1.028137             555.15         180.0            310.75   \n",
      "439184  1.027765             555.15         230.0            310.75   \n",
      "439185  1.021612             555.15         280.0            310.75   \n",
      "\n",
      "        te_seawater       pr_baro  pd_air_ic__0_1  pr_exh_rec  \\\n",
      "155674       294.05  3.178145e+06           370.0     59000.0   \n",
      "155675       294.05  3.183289e+06           370.0     57000.0   \n",
      "155676       294.05  3.180803e+06           330.0     56000.0   \n",
      "155677       294.15  3.182941e+06           320.0     58000.0   \n",
      "155678       294.15  3.182941e+06           350.0     60000.0   \n",
      "...             ...           ...             ...         ...   \n",
      "439181       291.55  2.576810e+06           210.0    127000.0   \n",
      "439182       291.45  2.589659e+06            70.0    124000.0   \n",
      "439183       291.45  2.583247e+06           180.0    123000.0   \n",
      "439184       291.45  2.582651e+06           230.0    119000.0   \n",
      "439185       291.45  2.591920e+06           280.0    118000.0   \n",
      "\n",
      "        bo_aux_blower_running  re_eng_load  pr_air_scav_ecs    pr_air_scav  \\\n",
      "155674                    0.0         0.33     67402.648926   67402.648926   \n",
      "155675                    0.0         0.33     66069.030762   66069.030762   \n",
      "155676                    0.0         0.33     64521.789551   64521.789551   \n",
      "155677                    0.0         0.33     66302.490234   66302.490234   \n",
      "155678                    0.0         0.34     67651.367188   67651.367188   \n",
      "...                       ...          ...              ...            ...   \n",
      "439181                    0.0         0.55    141625.976562  141625.976562   \n",
      "439182                    0.0         0.54    140539.550781  140539.550781   \n",
      "439183                    0.0         0.54    136929.321289  136929.321289   \n",
      "439184                    0.0         0.53    133502.197266  133502.197266   \n",
      "439185                    0.0         0.52    132366.943359  132366.943359   \n",
      "\n",
      "        te_air_scav_rec  te_air_ic_out__0_1  pr_cyl_comp__0  pr_cyl_max__0  \\\n",
      "155674           310.45              302.95    8.298032e+06   1.224769e+07   \n",
      "155675           310.45              302.95    8.129535e+06   1.210600e+07   \n",
      "155676           310.35              302.95    8.093028e+06   1.212506e+07   \n",
      "155677           310.45              302.95    8.160707e+06   1.212672e+07   \n",
      "155678           310.45              302.95    8.245092e+06   1.232116e+07   \n",
      "...                 ...                 ...             ...            ...   \n",
      "439181           318.25              310.65    1.462128e+07   1.856252e+07   \n",
      "439182           318.25              310.75    1.446443e+07   1.843547e+07   \n",
      "439183           318.25              310.75    1.439970e+07   1.834930e+07   \n",
      "439184           318.25              310.75    1.423135e+07   1.819353e+07   \n",
      "439185           318.25              310.75    1.419189e+07   1.820430e+07   \n",
      "\n",
      "           se_mip__0  te_exh_cyl_out__0_1  fr_eng_setpoint  \\\n",
      "155674  8.884035e+05               551.15         0.914972   \n",
      "155675  8.832464e+05               550.15         0.914972   \n",
      "155676  8.747619e+05               550.15         0.914972   \n",
      "155677  8.879406e+05               550.15         0.914972   \n",
      "155678  9.040318e+05               550.15         0.914972   \n",
      "...              ...                  ...              ...   \n",
      "439181  1.262804e+06               555.15         1.019965   \n",
      "439182  1.236266e+06               555.15         1.019965   \n",
      "439183  1.227601e+06               555.15         1.019965   \n",
      "439184  1.213029e+06               555.15         1.019965   \n",
      "439185  1.219686e+06               555.15         1.019965   \n",
      "\n",
      "        te_air_scav_rec_iso  pr_cyl_max_mv_iso  pr_cyl_comp_mv_iso  \\\n",
      "155674           299.728408      -6.603020e+07       -7.155594e+07   \n",
      "155675           299.728408      -6.565175e+07       -7.075990e+07   \n",
      "155676           299.728408      -6.539791e+07       -7.027582e+07   \n",
      "155677           299.728408      -6.580781e+07       -7.076238e+07   \n",
      "155678           299.829286      -6.622560e+07       -7.131539e+07   \n",
      "...                     ...                ...                 ...   \n",
      "439181           303.059782      -6.792722e+07       -8.174774e+07   \n",
      "439182           302.872662      -6.809147e+07       -8.168589e+07   \n",
      "439183           302.872662      -6.770504e+07       -8.117882e+07   \n",
      "439184           302.687664      -6.721556e+07       -8.040727e+07   \n",
      "439185           302.504936      -6.738855e+07       -8.050945e+07   \n",
      "\n",
      "        fr_eng_ecs  pr_air_scav_iso  engine_type_G95ME-C10.5-GI-LPSCR  \n",
      "155674    0.914165    -2.192475e+07                               1.0  \n",
      "155675    0.914865    -2.198966e+07                               1.0  \n",
      "155676    0.916016    -2.194526e+07                               1.0  \n",
      "155677    0.914566    -2.198616e+07                               1.0  \n",
      "155678    0.913920    -2.199390e+07                               1.0  \n",
      "...            ...              ...                               ...  \n",
      "439181    1.026240    -1.474372e+07                               1.0  \n",
      "439182    1.035701    -1.488898e+07                               1.0  \n",
      "439183    1.028137    -1.479966e+07                               1.0  \n",
      "439184    1.027765    -1.477784e+07                               1.0  \n",
      "439185    1.021612    -1.488213e+07                               1.0  \n",
      "\n",
      "[176450 rows x 25 columns]\n"
     ]
    },
    {
     "name": "stderr",
     "output_type": "stream",
     "text": [
      "[I 2025-05-15 12:11:52,550] A new study created in memory with name: no-name-f094c2c7-82d3-4524-94fb-8807702b5bd8\n"
     ]
    },
    {
     "name": "stdout",
     "output_type": "stream",
     "text": [
      "scaled_data [[ 0.71903323  0.59863946  0.42168675 ...  0.71903323 -0.13097382\n",
      "  -1.        ]\n",
      " [ 0.71990419  0.59183673  0.42168675 ...  0.71990419 -0.13497727\n",
      "  -1.        ]\n",
      " [ 0.72133765  0.59183673  0.3253012  ...  0.72133765 -0.13223911\n",
      "  -1.        ]\n",
      " ...\n",
      " [ 0.90798351  0.74829932  0.39759036 ...  0.90798351  0.2963395\n",
      "  -1.        ]\n",
      " [ 0.91036656  0.75510204  0.25301205 ...  0.91036656  0.29711637\n",
      "  -1.        ]\n",
      " [ 0.89747451  0.75510204  0.30120482 ...  0.89747451  0.2937173\n",
      "  -1.        ]]\n",
      "unscaled_data           fr_eng  te_exh_cyl_out__0  pd_air_ic__0  te_air_ic_out__0  \\\n",
      "155674  0.914165             551.15         370.0            302.95   \n",
      "155675  0.914865             550.15         370.0            302.95   \n",
      "155676  0.916016             550.15         330.0            302.95   \n",
      "155677  0.914566             550.15         320.0            302.95   \n",
      "155678  0.913920             550.15         350.0            302.95   \n",
      "...          ...                ...           ...               ...   \n",
      "439181  1.026240             555.15         210.0            310.65   \n",
      "439182  1.035701             555.15          70.0            310.75   \n",
      "439183  1.028137             555.15         180.0            310.75   \n",
      "439184  1.027765             555.15         230.0            310.75   \n",
      "439185  1.021612             555.15         280.0            310.75   \n",
      "\n",
      "        te_seawater       pr_baro  pd_air_ic__0_1  pr_exh_rec  \\\n",
      "155674       294.05  3.178145e+06           370.0     59000.0   \n",
      "155675       294.05  3.183289e+06           370.0     57000.0   \n",
      "155676       294.05  3.180803e+06           330.0     56000.0   \n",
      "155677       294.15  3.182941e+06           320.0     58000.0   \n",
      "155678       294.15  3.182941e+06           350.0     60000.0   \n",
      "...             ...           ...             ...         ...   \n",
      "439181       291.55  2.576810e+06           210.0    127000.0   \n",
      "439182       291.45  2.589659e+06            70.0    124000.0   \n",
      "439183       291.45  2.583247e+06           180.0    123000.0   \n",
      "439184       291.45  2.582651e+06           230.0    119000.0   \n",
      "439185       291.45  2.591920e+06           280.0    118000.0   \n",
      "\n",
      "        bo_aux_blower_running  re_eng_load  pr_air_scav_ecs    pr_air_scav  \\\n",
      "155674                    0.0         0.33     67402.648926   67402.648926   \n",
      "155675                    0.0         0.33     66069.030762   66069.030762   \n",
      "155676                    0.0         0.33     64521.789551   64521.789551   \n",
      "155677                    0.0         0.33     66302.490234   66302.490234   \n",
      "155678                    0.0         0.34     67651.367188   67651.367188   \n",
      "...                       ...          ...              ...            ...   \n",
      "439181                    0.0         0.55    141625.976562  141625.976562   \n",
      "439182                    0.0         0.54    140539.550781  140539.550781   \n",
      "439183                    0.0         0.54    136929.321289  136929.321289   \n",
      "439184                    0.0         0.53    133502.197266  133502.197266   \n",
      "439185                    0.0         0.52    132366.943359  132366.943359   \n",
      "\n",
      "        te_air_scav_rec  te_air_ic_out__0_1  pr_cyl_comp__0  pr_cyl_max__0  \\\n",
      "155674           310.45              302.95    8.298032e+06   1.224769e+07   \n",
      "155675           310.45              302.95    8.129535e+06   1.210600e+07   \n",
      "155676           310.35              302.95    8.093028e+06   1.212506e+07   \n",
      "155677           310.45              302.95    8.160707e+06   1.212672e+07   \n",
      "155678           310.45              302.95    8.245092e+06   1.232116e+07   \n",
      "...                 ...                 ...             ...            ...   \n",
      "439181           318.25              310.65    1.462128e+07   1.856252e+07   \n",
      "439182           318.25              310.75    1.446443e+07   1.843547e+07   \n",
      "439183           318.25              310.75    1.439970e+07   1.834930e+07   \n",
      "439184           318.25              310.75    1.423135e+07   1.819353e+07   \n",
      "439185           318.25              310.75    1.419189e+07   1.820430e+07   \n",
      "\n",
      "           se_mip__0  te_exh_cyl_out__0_1  fr_eng_setpoint  \\\n",
      "155674  8.884035e+05               551.15         0.914972   \n",
      "155675  8.832464e+05               550.15         0.914972   \n",
      "155676  8.747619e+05               550.15         0.914972   \n",
      "155677  8.879406e+05               550.15         0.914972   \n",
      "155678  9.040318e+05               550.15         0.914972   \n",
      "...              ...                  ...              ...   \n",
      "439181  1.262804e+06               555.15         1.019965   \n",
      "439182  1.236266e+06               555.15         1.019965   \n",
      "439183  1.227601e+06               555.15         1.019965   \n",
      "439184  1.213029e+06               555.15         1.019965   \n",
      "439185  1.219686e+06               555.15         1.019965   \n",
      "\n",
      "        te_air_scav_rec_iso  pr_cyl_max_mv_iso  pr_cyl_comp_mv_iso  \\\n",
      "155674           299.728408      -6.603020e+07       -7.155594e+07   \n",
      "155675           299.728408      -6.565175e+07       -7.075990e+07   \n",
      "155676           299.728408      -6.539791e+07       -7.027582e+07   \n",
      "155677           299.728408      -6.580781e+07       -7.076238e+07   \n",
      "155678           299.829286      -6.622560e+07       -7.131539e+07   \n",
      "...                     ...                ...                 ...   \n",
      "439181           303.059782      -6.792722e+07       -8.174774e+07   \n",
      "439182           302.872662      -6.809147e+07       -8.168589e+07   \n",
      "439183           302.872662      -6.770504e+07       -8.117882e+07   \n",
      "439184           302.687664      -6.721556e+07       -8.040727e+07   \n",
      "439185           302.504936      -6.738855e+07       -8.050945e+07   \n",
      "\n",
      "        fr_eng_ecs  pr_air_scav_iso  engine_type_G95ME-C10.5-GI-LPSCR  \n",
      "155674    0.914165    -2.192475e+07                               1.0  \n",
      "155675    0.914865    -2.198966e+07                               1.0  \n",
      "155676    0.916016    -2.194526e+07                               1.0  \n",
      "155677    0.914566    -2.198616e+07                               1.0  \n",
      "155678    0.913920    -2.199390e+07                               1.0  \n",
      "...            ...              ...                               ...  \n",
      "439181    1.026240    -1.474372e+07                               1.0  \n",
      "439182    1.035701    -1.488898e+07                               1.0  \n",
      "439183    1.028137    -1.479966e+07                               1.0  \n",
      "439184    1.027765    -1.477784e+07                               1.0  \n",
      "439185    1.021612    -1.488213e+07                               1.0  \n",
      "\n",
      "[176450 rows x 25 columns]\n"
     ]
    },
    {
     "name": "stderr",
     "output_type": "stream",
     "text": [
      "Train Epoch: 0 [104960/105870 (99%)]\tLoss: 0.333621: 100%|██████████| 828/828 [00:03<00:00, 236.98it/s]\n"
     ]
    },
    {
     "name": "stdout",
     "output_type": "stream",
     "text": [
      "====> Epoch: 0 Average train loss: 0.3688\n",
      "===> Epoch: 0 Average mae test loss for targetcol :3.2836\n",
      "===> Epoch: 0 Average mae test loss for targetcol: 3.1209\n",
      "====> Test set loss: 894.6353\n",
      "====> Epoch: 0 Average test loss: 0.0254\n"
     ]
    },
    {
     "name": "stderr",
     "output_type": "stream",
     "text": [
      "Train Epoch: 1 [92160/105870 (87%)]\tLoss: 0.308448:  87%|████████▋ | 720/828 [00:02<00:00, 257.14it/s][W 2025-05-15 12:12:00,868] Trial 0 failed with parameters: {'batch_size': 128, 'learning_rate': 0.0036747434420128823, 'lambda': 0.9181311526350548} because of the following error: KeyboardInterrupt().\n",
      "Traceback (most recent call last):\n",
      "  File \"/home/ec2-user/SageMaker/sensor-imputation-thesis/.venv/lib/python3.10/site-packages/optuna/study/_optimize.py\", line 197, in _run_trial\n",
      "    value_or_values = func(trial)\n",
      "  File \"<ipython-input-2-f5166c0fadb1>\", line 531, in <lambda>\n",
      "    study.optimize(lambda trial:objective (trial,device,data_min,scale),n_trials=100, timeout=3600)\n",
      "  File \"<ipython-input-2-f5166c0fadb1>\", line 482, in objective\n",
      "    average_train_loss, mae_loss_target_train = train(\n",
      "  File \"<ipython-input-2-f5166c0fadb1>\", line 272, in train\n",
      "    if torch.isnan(loss) or torch.isinf(loss):\n",
      "KeyboardInterrupt\n",
      "[W 2025-05-15 12:12:00,869] Trial 0 failed with value None.\n"
     ]
    },
    {
     "name": "stdout",
     "output_type": "stream",
     "text": [
      "🏃 View run enchanting-hog-660 at: http://localhost:5000/#/experiments/4/runs/18de8b479dfd4dfbb070396f8adc6312\n",
      "🧪 View experiment at: http://localhost:5000/#/experiments/4\n",
      "🏃 View run optuna_vae_adjusted_for_te_air_scav_rec at: http://localhost:5000/#/experiments/4/runs/5aa2249157424f5498b3230436fef16e\n",
      "🧪 View experiment at: http://localhost:5000/#/experiments/4\n"
     ]
    },
    {
     "ename": "KeyboardInterrupt",
     "evalue": "",
     "output_type": "error",
     "traceback": [
      "\u001b[0;31m---------------------------------------------------------------------------\u001b[0m",
      "\u001b[0;31mKeyboardInterrupt\u001b[0m                         Traceback (most recent call last)",
      "Cell \u001b[0;32mIn[2], line 604\u001b[0m\n\u001b[1;32m    585\u001b[0m             \u001b[39m##Registration may not needed yet.. \u001b[39;00m\n\u001b[1;32m    586\u001b[0m              \u001b[39m#log the model with scaling params\u001b[39;00m\n\u001b[1;32m    587\u001b[0m             \u001b[39m#input_dim = scaled_train.shape[1]\u001b[39;00m\n\u001b[0;32m   (...)\u001b[0m\n\u001b[1;32m    599\u001b[0m                  \u001b[39m#   }\u001b[39;00m\n\u001b[1;32m    600\u001b[0m                 \u001b[39m#)\u001b[39;00m\n\u001b[1;32m    603\u001b[0m \u001b[39mif\u001b[39;00m \u001b[39m__name__\u001b[39m \u001b[39m==\u001b[39m \u001b[39m'\u001b[39m\u001b[39m__main__\u001b[39m\u001b[39m'\u001b[39m:\n\u001b[0;32m--> 604\u001b[0m     main()\n\u001b[1;32m    612\u001b[0m     \u001b[39m# CSOM: This should be done ONCE after training, and not inside the training loop.\u001b[39;00m\n",
      "Cell \u001b[0;32mIn[2], line 531\u001b[0m, in \u001b[0;36mmain\u001b[0;34m()\u001b[0m\n\u001b[1;32m    529\u001b[0m \u001b[39mwith\u001b[39;00m mlflow\u001b[39m.\u001b[39mstart_run(run_name\u001b[39m=\u001b[39mvae_run_name) \u001b[39mas\u001b[39;00m parent_run:\n\u001b[1;32m    530\u001b[0m     study \u001b[39m=\u001b[39m optuna\u001b[39m.\u001b[39mcreate_study(direction\u001b[39m=\u001b[39m\u001b[39m\"\u001b[39m\u001b[39mminimize\u001b[39m\u001b[39m\"\u001b[39m)\n\u001b[0;32m--> 531\u001b[0m     study\u001b[39m.\u001b[39;49moptimize(\u001b[39mlambda\u001b[39;49;00m trial:objective (trial,device,data_min,scale),n_trials\u001b[39m=\u001b[39;49m\u001b[39m100\u001b[39;49m, timeout\u001b[39m=\u001b[39;49m\u001b[39m3600\u001b[39;49m)\n\u001b[1;32m    532\u001b[0m     \u001b[39m#plot_optimization_history(study)  #visualization \u001b[39;00m\n\u001b[1;32m    533\u001b[0m     best_trial \u001b[39m=\u001b[39m study\u001b[39m.\u001b[39mbest_trial\n",
      "File \u001b[0;32m~/SageMaker/sensor-imputation-thesis/.venv/lib/python3.10/site-packages/optuna/study/study.py:475\u001b[0m, in \u001b[0;36mStudy.optimize\u001b[0;34m(self, func, n_trials, timeout, n_jobs, catch, callbacks, gc_after_trial, show_progress_bar)\u001b[0m\n\u001b[1;32m    373\u001b[0m \u001b[39mdef\u001b[39;00m\u001b[39m \u001b[39m\u001b[39moptimize\u001b[39m(\n\u001b[1;32m    374\u001b[0m     \u001b[39mself\u001b[39m,\n\u001b[1;32m    375\u001b[0m     func: ObjectiveFuncType,\n\u001b[0;32m   (...)\u001b[0m\n\u001b[1;32m    382\u001b[0m     show_progress_bar: \u001b[39mbool\u001b[39m \u001b[39m=\u001b[39m \u001b[39mFalse\u001b[39;00m,\n\u001b[1;32m    383\u001b[0m ) \u001b[39m-\u001b[39m\u001b[39m>\u001b[39m \u001b[39mNone\u001b[39;00m:\n\u001b[1;32m    384\u001b[0m \u001b[39m    \u001b[39m\u001b[39m\"\"\"Optimize an objective function.\u001b[39;00m\n\u001b[1;32m    385\u001b[0m \n\u001b[1;32m    386\u001b[0m \u001b[39m    Optimization is done by choosing a suitable set of hyperparameter values from a given\u001b[39;00m\n\u001b[0;32m   (...)\u001b[0m\n\u001b[1;32m    473\u001b[0m \u001b[39m            If nested invocation of this method occurs.\u001b[39;00m\n\u001b[1;32m    474\u001b[0m \u001b[39m    \"\"\"\u001b[39;00m\n\u001b[0;32m--> 475\u001b[0m     _optimize(\n\u001b[1;32m    476\u001b[0m         study\u001b[39m=\u001b[39;49m\u001b[39mself\u001b[39;49m,\n\u001b[1;32m    477\u001b[0m         func\u001b[39m=\u001b[39;49mfunc,\n\u001b[1;32m    478\u001b[0m         n_trials\u001b[39m=\u001b[39;49mn_trials,\n\u001b[1;32m    479\u001b[0m         timeout\u001b[39m=\u001b[39;49mtimeout,\n\u001b[1;32m    480\u001b[0m         n_jobs\u001b[39m=\u001b[39;49mn_jobs,\n\u001b[1;32m    481\u001b[0m         catch\u001b[39m=\u001b[39;49m\u001b[39mtuple\u001b[39;49m(catch) \u001b[39mif\u001b[39;49;00m \u001b[39misinstance\u001b[39;49m(catch, Iterable) \u001b[39melse\u001b[39;49;00m (catch,),\n\u001b[1;32m    482\u001b[0m         callbacks\u001b[39m=\u001b[39;49mcallbacks,\n\u001b[1;32m    483\u001b[0m         gc_after_trial\u001b[39m=\u001b[39;49mgc_after_trial,\n\u001b[1;32m    484\u001b[0m         show_progress_bar\u001b[39m=\u001b[39;49mshow_progress_bar,\n\u001b[1;32m    485\u001b[0m     )\n",
      "File \u001b[0;32m~/SageMaker/sensor-imputation-thesis/.venv/lib/python3.10/site-packages/optuna/study/_optimize.py:63\u001b[0m, in \u001b[0;36m_optimize\u001b[0;34m(study, func, n_trials, timeout, n_jobs, catch, callbacks, gc_after_trial, show_progress_bar)\u001b[0m\n\u001b[1;32m     61\u001b[0m \u001b[39mtry\u001b[39;00m:\n\u001b[1;32m     62\u001b[0m     \u001b[39mif\u001b[39;00m n_jobs \u001b[39m==\u001b[39m \u001b[39m1\u001b[39m:\n\u001b[0;32m---> 63\u001b[0m         _optimize_sequential(\n\u001b[1;32m     64\u001b[0m             study,\n\u001b[1;32m     65\u001b[0m             func,\n\u001b[1;32m     66\u001b[0m             n_trials,\n\u001b[1;32m     67\u001b[0m             timeout,\n\u001b[1;32m     68\u001b[0m             catch,\n\u001b[1;32m     69\u001b[0m             callbacks,\n\u001b[1;32m     70\u001b[0m             gc_after_trial,\n\u001b[1;32m     71\u001b[0m             reseed_sampler_rng\u001b[39m=\u001b[39;49m\u001b[39mFalse\u001b[39;49;00m,\n\u001b[1;32m     72\u001b[0m             time_start\u001b[39m=\u001b[39;49m\u001b[39mNone\u001b[39;49;00m,\n\u001b[1;32m     73\u001b[0m             progress_bar\u001b[39m=\u001b[39;49mprogress_bar,\n\u001b[1;32m     74\u001b[0m         )\n\u001b[1;32m     75\u001b[0m     \u001b[39melse\u001b[39;00m:\n\u001b[1;32m     76\u001b[0m         \u001b[39mif\u001b[39;00m n_jobs \u001b[39m==\u001b[39m \u001b[39m-\u001b[39m\u001b[39m1\u001b[39m:\n",
      "File \u001b[0;32m~/SageMaker/sensor-imputation-thesis/.venv/lib/python3.10/site-packages/optuna/study/_optimize.py:160\u001b[0m, in \u001b[0;36m_optimize_sequential\u001b[0;34m(study, func, n_trials, timeout, catch, callbacks, gc_after_trial, reseed_sampler_rng, time_start, progress_bar)\u001b[0m\n\u001b[1;32m    157\u001b[0m         \u001b[39mbreak\u001b[39;00m\n\u001b[1;32m    159\u001b[0m \u001b[39mtry\u001b[39;00m:\n\u001b[0;32m--> 160\u001b[0m     frozen_trial \u001b[39m=\u001b[39m _run_trial(study, func, catch)\n\u001b[1;32m    161\u001b[0m \u001b[39mfinally\u001b[39;00m:\n\u001b[1;32m    162\u001b[0m     \u001b[39m# The following line mitigates memory problems that can be occurred in some\u001b[39;00m\n\u001b[1;32m    163\u001b[0m     \u001b[39m# environments (e.g., services that use computing containers such as GitHub Actions).\u001b[39;00m\n\u001b[1;32m    164\u001b[0m     \u001b[39m# Please refer to the following PR for further details:\u001b[39;00m\n\u001b[1;32m    165\u001b[0m     \u001b[39m# https://github.com/optuna/optuna/pull/325.\u001b[39;00m\n\u001b[1;32m    166\u001b[0m     \u001b[39mif\u001b[39;00m gc_after_trial:\n",
      "File \u001b[0;32m~/SageMaker/sensor-imputation-thesis/.venv/lib/python3.10/site-packages/optuna/study/_optimize.py:248\u001b[0m, in \u001b[0;36m_run_trial\u001b[0;34m(study, func, catch)\u001b[0m\n\u001b[1;32m    241\u001b[0m         \u001b[39massert\u001b[39;00m \u001b[39mFalse\u001b[39;00m, \u001b[39m\"\u001b[39m\u001b[39mShould not reach.\u001b[39m\u001b[39m\"\u001b[39m\n\u001b[1;32m    243\u001b[0m \u001b[39mif\u001b[39;00m (\n\u001b[1;32m    244\u001b[0m     frozen_trial\u001b[39m.\u001b[39mstate \u001b[39m==\u001b[39m TrialState\u001b[39m.\u001b[39mFAIL\n\u001b[1;32m    245\u001b[0m     \u001b[39mand\u001b[39;00m func_err \u001b[39mis\u001b[39;00m \u001b[39mnot\u001b[39;00m \u001b[39mNone\u001b[39;00m\n\u001b[1;32m    246\u001b[0m     \u001b[39mand\u001b[39;00m \u001b[39mnot\u001b[39;00m \u001b[39misinstance\u001b[39m(func_err, catch)\n\u001b[1;32m    247\u001b[0m ):\n\u001b[0;32m--> 248\u001b[0m     \u001b[39mraise\u001b[39;00m func_err\n\u001b[1;32m    249\u001b[0m \u001b[39mreturn\u001b[39;00m frozen_trial\n",
      "File \u001b[0;32m~/SageMaker/sensor-imputation-thesis/.venv/lib/python3.10/site-packages/optuna/study/_optimize.py:197\u001b[0m, in \u001b[0;36m_run_trial\u001b[0;34m(study, func, catch)\u001b[0m\n\u001b[1;32m    195\u001b[0m \u001b[39mwith\u001b[39;00m get_heartbeat_thread(trial\u001b[39m.\u001b[39m_trial_id, study\u001b[39m.\u001b[39m_storage):\n\u001b[1;32m    196\u001b[0m     \u001b[39mtry\u001b[39;00m:\n\u001b[0;32m--> 197\u001b[0m         value_or_values \u001b[39m=\u001b[39m func(trial)\n\u001b[1;32m    198\u001b[0m     \u001b[39mexcept\u001b[39;00m exceptions\u001b[39m.\u001b[39mTrialPruned \u001b[39mas\u001b[39;00m e:\n\u001b[1;32m    199\u001b[0m         \u001b[39m# TODO(mamu): Handle multi-objective cases.\u001b[39;00m\n\u001b[1;32m    200\u001b[0m         state \u001b[39m=\u001b[39m TrialState\u001b[39m.\u001b[39mPRUNED\n",
      "Cell \u001b[0;32mIn[2], line 531\u001b[0m, in \u001b[0;36mmain.<locals>.<lambda>\u001b[0;34m(trial)\u001b[0m\n\u001b[1;32m    529\u001b[0m \u001b[39mwith\u001b[39;00m mlflow\u001b[39m.\u001b[39mstart_run(run_name\u001b[39m=\u001b[39mvae_run_name) \u001b[39mas\u001b[39;00m parent_run:\n\u001b[1;32m    530\u001b[0m     study \u001b[39m=\u001b[39m optuna\u001b[39m.\u001b[39mcreate_study(direction\u001b[39m=\u001b[39m\u001b[39m\"\u001b[39m\u001b[39mminimize\u001b[39m\u001b[39m\"\u001b[39m)\n\u001b[0;32m--> 531\u001b[0m     study\u001b[39m.\u001b[39moptimize(\u001b[39mlambda\u001b[39;00m trial:objective (trial,device,data_min,scale),n_trials\u001b[39m=\u001b[39m\u001b[39m100\u001b[39m, timeout\u001b[39m=\u001b[39m\u001b[39m3600\u001b[39m)\n\u001b[1;32m    532\u001b[0m     \u001b[39m#plot_optimization_history(study)  #visualization \u001b[39;00m\n\u001b[1;32m    533\u001b[0m     best_trial \u001b[39m=\u001b[39m study\u001b[39m.\u001b[39mbest_trial\n",
      "Cell \u001b[0;32mIn[2], line 482\u001b[0m, in \u001b[0;36mmain.<locals>.objective\u001b[0;34m(trial, device, data_min, scale)\u001b[0m\n\u001b[1;32m    477\u001b[0m             optimizer \u001b[39m=\u001b[39m optim\u001b[39m.\u001b[39mAdam(model\u001b[39m.\u001b[39mparameters(), lr\u001b[39m=\u001b[39mlr)\n\u001b[1;32m    480\u001b[0m             \u001b[39mfor\u001b[39;00m epoch \u001b[39min\u001b[39;00m \u001b[39mrange\u001b[39m(args\u001b[39m.\u001b[39mepochs):\n\u001b[0;32m--> 482\u001b[0m                 average_train_loss, mae_loss_target_train \u001b[39m=\u001b[39m train(\n\u001b[1;32m    483\u001b[0m                     epoch,\n\u001b[1;32m    484\u001b[0m                     model,\n\u001b[1;32m    485\u001b[0m                     train_loader,\n\u001b[1;32m    486\u001b[0m                     lambda_val\u001b[39m=\u001b[39;49mlambda_val,\n\u001b[1;32m    487\u001b[0m                     targetcol_idx\u001b[39m=\u001b[39;49mtargetcol_idx,\n\u001b[1;32m    488\u001b[0m                     optimizer\u001b[39m=\u001b[39;49moptimizer,\n\u001b[1;32m    489\u001b[0m                     device\u001b[39m=\u001b[39;49mdevice,\n\u001b[1;32m    490\u001b[0m                     data_min\u001b[39m=\u001b[39;49mdata_min, \n\u001b[1;32m    491\u001b[0m                     scale\u001b[39m=\u001b[39;49mscale, \u001b[39m#this is used for inverse scaling\u001b[39;49;00m\n\u001b[1;32m    492\u001b[0m                     args\u001b[39m=\u001b[39;49margs\n\u001b[1;32m    493\u001b[0m                 )\n\u001b[1;32m    495\u001b[0m                 average_test_loss, mae_loss_target_test\u001b[39m=\u001b[39mtest(\n\u001b[1;32m    496\u001b[0m                     epoch,\n\u001b[1;32m    497\u001b[0m                     model,\n\u001b[0;32m   (...)\u001b[0m\n\u001b[1;32m    503\u001b[0m                 \n\u001b[1;32m    504\u001b[0m                 )\n\u001b[1;32m    508\u001b[0m                 mlflow\u001b[39m.\u001b[39mlog_metrics(\n\u001b[1;32m    509\u001b[0m                     {\n\u001b[1;32m    510\u001b[0m                         \u001b[39m\"\u001b[39m\u001b[39mepoch\u001b[39m\u001b[39m\"\u001b[39m: epoch,\n\u001b[0;32m   (...)\u001b[0m\n\u001b[1;32m    516\u001b[0m                     step\u001b[39m=\u001b[39mepoch,\n\u001b[1;32m    517\u001b[0m )\n",
      "Cell \u001b[0;32mIn[2], line 272\u001b[0m, in \u001b[0;36mtrain\u001b[0;34m(epoch, model, train_loader, data_min, scale, lambda_val, targetcol_idx, optimizer, device, args)\u001b[0m\n\u001b[1;32m    270\u001b[0m     \u001b[39mbreak\u001b[39;00m\n\u001b[1;32m    271\u001b[0m loss \u001b[39m=\u001b[39m loss_function(recon_batch, data_unmasked, mu, logvar, targetcol_idx, lambda_val)\n\u001b[0;32m--> 272\u001b[0m \u001b[39mif\u001b[39;00m torch\u001b[39m.\u001b[39;49misnan(loss) \u001b[39mor\u001b[39;00m torch\u001b[39m.\u001b[39misinf(loss):\n\u001b[1;32m    273\u001b[0m     \u001b[39mraise\u001b[39;00m \u001b[39mValueError\u001b[39;00m(\u001b[39mf\u001b[39m\u001b[39m\"\u001b[39m\u001b[39mNaN or Inf detected in loss at batch \u001b[39m\u001b[39m{\u001b[39;00mbatch_idx\u001b[39m}\u001b[39;00m\u001b[39m. Check scaling or model outputs!\u001b[39m\u001b[39m\"\u001b[39m)\n\u001b[1;32m    274\u001b[0m     \u001b[39mbreak\u001b[39;00m\n",
      "\u001b[0;31mKeyboardInterrupt\u001b[0m: "
     ]
    },
    {
     "name": "stderr",
     "output_type": "stream",
     "text": [
      "Train Epoch: 1 [92160/105870 (87%)]\tLoss: 0.308448:  88%|████████▊ | 726/828 [00:16<00:00, 257.14it/s]"
     ]
    }
   ],
   "source": [
    "import argparse\n",
    "import hashlib\n",
    "from pathlib import Path\n",
    "\n",
    "import matplotlib.pyplot as plt\n",
    "import mlflow\n",
    "import mlflow.pytorch\n",
    "import shap\n",
    "import numpy as np\n",
    "import pandas as pd\n",
    "import seaborn as sns\n",
    "import torch\n",
    "import torch.utils.data\n",
    "import data_insight\n",
    "from data_insight import setup_duckdb\n",
    "from duckdb import DuckDBPyConnection as DuckDB\n",
    "from duckdb import DuckDBPyRelation as Relation\n",
    "from pathlib import Path\n",
    "import hashlib\n",
    "from duckdb import DuckDBPyConnection as DuckDB\n",
    "from sklearn.model_selection import TimeSeriesSplit\n",
    "from sklearn.preprocessing import MinMaxScaler, OneHotEncoder\n",
    "from sklearn.metrics import mean_squared_error, mean_absolute_error\n",
    "import optuna \n",
    "from optuna.visualization import plot_optimization_history\n",
    "\n",
    "\n",
    "from torch import nn, optim\n",
    "from torch.nn import functional as F\n",
    "from torch.utils.data import TensorDataset,DataLoader, Dataset\n",
    "from tqdm.auto import tqdm\n",
    "\n",
    "import sensor_imputation_thesis.shared.load_data as load\n",
    "\n",
    "\n",
    "def setup_seed(seed):\n",
    "    torch.manual_seed(seed)\n",
    "    torch.cuda.manual_seed_all(seed)\n",
    "    np.random.seed(seed)\n",
    "    random.seed(seed)\n",
    "    torch.backends.cudnn.deterministic = True\n",
    "    torch.backends.cudnn.benchmark = False\n",
    "\n",
    "\n",
    "# set tracking_uri:\n",
    "mlflow.set_tracking_uri(\"http://localhost:5000\")\n",
    "# So I don't know if above commands are sufficient server setup, but it did work for me. And I might need your help if they aren't\n",
    "# mlflow relevant info:\n",
    "# I overall faced problem that says \"HTTPConnectionPool(host='0.0.0.0', port=5000): Max retries exceeded with url\". And the solutions were:\n",
    "# 1. Try running this line in terminal to see if mlflow logs exist\n",
    "# if logs exist, port can be directed\n",
    "# \" mlflow server --backend-store-uri sqlite:///mlflow.db --default-artifact-root ./mlruns \"\n",
    "# 2. Another possible solution for mlflow errors is to rename the experiment name and the run-name involved below\n",
    "\n",
    "# Load data\n",
    "\n",
    "pd.set_option(\"display.max_columns\", None)\n",
    "\n",
    "\n",
    "def load_engine_data(\n",
    "    con: DuckDB, product_id: str, start: pd.Timestamp, stop: pd.Timestamp, tags: list[str]\n",
    ") -> Relation:\n",
    "    return con.sql(f\"\"\"\n",
    "    SELECT {','.join(tags)}\n",
    "    FROM timeseries\n",
    "    WHERE\n",
    "        time BETWEEN '{start}' AND '{stop}'\n",
    "        AND pid = '{product_id}'\n",
    "    \"\"\")\n",
    "\n",
    "def get_tags_hash(tags):\n",
    "    return hashlib.md5(\",\".join(tags).encode()).hexdigest()\n",
    "\n",
    "\n",
    "# edit timestamp as needed\n",
    "start, stop = pd.Timestamp(\"2023-10-01\"), pd.Timestamp(\"2024-10-01\")\n",
    "\n",
    "# these are the tags that include 9 missing cols, feel free to edit\n",
    "tags = [\n",
    "    \"time\",\n",
    "    \"fr_eng\",\n",
    "    \"te_exh_cyl_out__0\",\n",
    "    \"pd_air_ic__0\",\n",
    "    \"pr_exh_turb_out__0\",\n",
    "    \"te_air_ic_out__0\",\n",
    "    \"te_seawater\",\n",
    "    \"te_air_comp_in_a__0\",\n",
    "    \"te_air_comp_in_b__0\",\n",
    "    \"fr_tc__0\",\n",
    "    \"pr_baro\",\n",
    "    #most common \"bad\"/ \"out of bound\" sensors\n",
    "    \"pd_air_ic__0\",  #overlapped with below\n",
    "    \"pr_exh_rec\",\n",
    "    \"te_exh_turb_in__0\",\n",
    "    \"te_exh_turb_out__0\",\n",
    "    #Feature Importance Result\n",
    "    #for te_exh_cyl_out__0\n",
    "    \"bo_aux_blower_running\",\n",
    "    \"re_eng_load\",\n",
    "    \"pr_air_scav_ecs\", #overlap\n",
    "    #pd_air_ic__0\n",
    "    \"pr_air_scav\",\n",
    "    #for te_air_ic_out__0\n",
    "    #for te_seawater\n",
    "    \"te_air_scav_rec\",\n",
    "    \"te_air_ic_out__0\",\n",
    "    \"pr_cyl_comp__0\",\n",
    "    \"pr_cyl_max__0\",\n",
    "    \"se_mip__0\",\n",
    "    \"te_exh_cyl_out__0\",\n",
    "    \"fr_eng_setpoint\",\n",
    "    \"te_air_scav_rec_iso\",\n",
    "    #for pr_baro\n",
    "    \"pr_cyl_max_mv_iso\",\n",
    "    \"pr_cyl_comp_mv_iso\",\n",
    "    \"fr_eng_ecs\",\n",
    "    \"pr_air_scav_iso\",\n",
    "\n",
    "\n",
    "]\n",
    "\n",
    "# edit point as needed\n",
    "product_id = \"89ccb7a888d53f8792f0580801cede9a\"\n",
    "\n",
    "#product_id \n",
    "#add more product id with same engine type (fine the most popular ones)\n",
    "\n",
    "\n",
    "# Construct the cache file path using the Path class\n",
    "DATA = Path.home() / \"SageMaker/data_cache\"\n",
    "DATA.mkdir(exist_ok=True)\n",
    "cache = DATA / f\"data_{get_tags_hash(tags)}_{product_id}_{start:%Y-%m-%d}_{stop:%Y-%m-%d}.parquet\"\n",
    "\n",
    "# Ensure the directory exists\n",
    "cache.parent.mkdir(parents=True, exist_ok=True)\n",
    "\n",
    "if cache.exists():\n",
    "    df = pd.read_parquet(cache)\n",
    "else:\n",
    "    con = setup_duckdb()\n",
    "    df = load_engine_data(con, product_id, start, stop, tags).df()\n",
    "    df.to_parquet(cache)\n",
    "\n",
    "print(df.head(10))\n",
    "\n",
    "\n",
    "## Adding engine types and assign onehot encoder, and merge df  \n",
    "con = data_insight.setup_duckdb()\n",
    "con.sql(\"SET enable_progress_bar=true\")\n",
    "engine_type = con.sql(f\"SELECT engine_type FROM shipinfo WHERE productId == '{product_id}'\").df().engine_type.item()\n",
    "df['engine_type']=engine_type\n",
    "\n",
    "#Apply onehotencoder \n",
    "encoder = OneHotEncoder(sparse_output=False)\n",
    "encoded_engine_type = encoder.fit_transform(df[['engine_type']])\n",
    "# Create a DataFrame with the encoded columns\n",
    "encoded_df = pd.DataFrame(encoded_engine_type, columns=encoder.get_feature_names_out(['engine_type']))\n",
    "# Concatenate the original DataFrame with the encoded DataFrame\n",
    "df = pd.concat([df, encoded_df], axis=1)\n",
    "#drop? not sure yet. \n",
    "df.drop('engine_type', axis=1,inplace=True)\n",
    "\n",
    "\n",
    "\n",
    "# Preprocessing steps not needed for this col\n",
    "# filter df with engine running (changed into 10/60 revolutions)\n",
    "df1 = df[df[\"fr_eng\"] > (10/60)]\n",
    "\n",
    "# Check nan values in each column\n",
    "for col in df1.columns:\n",
    "    print(f\"Column {col} has {df1[col].isna().sum()} NaN values\")\n",
    "\n",
    "\n",
    "## Newly Suggested Approach to drop nan columns (drop cols with all nan values, and then drop rows that have any nan value )\n",
    "df1=df.dropna(axis=1,how='all')\n",
    "# drop any null vals in rows \n",
    "df1=df1.dropna(axis=0,how='any')\n",
    "\n",
    "#check the length of the df1 and the length of df to check how many cols rows are dropped \n",
    "print(\"shape of original df:\")\n",
    "print(\"Datasize:\",len(df))\n",
    "print(\"Colnumber:\",len(df.columns))\n",
    "\n",
    "print(\"shape of filtered df:\")\n",
    "print(\"Datasize:\",len(df1))\n",
    "print(\"Colnumber:\",len(df1.columns))\n",
    "\n",
    "# Select numeric columns\n",
    "numeric_df = df1.select_dtypes(include=\"number\")\n",
    "print(numeric_df)\n",
    "\n",
    "data=numeric_df  #data here is before scaling \n",
    "\n",
    "\n",
    "#define inverse scale\n",
    "def inverse_scale(scaled_data, data_min, scale):\n",
    "    return scaled_data*scale + data_min\n",
    "\n",
    "\n",
    "# VAE Model\n",
    "class VAE(nn.Module):\n",
    "    def __init__(self, input_dim):\n",
    "        super(VAE, self).__init__()\n",
    "        self.fc1 = nn.Linear(input_dim, 400)\n",
    "        self.fc21 = nn.Linear(400, 20)\n",
    "        self.fc22 = nn.Linear(400, 20)\n",
    "        self.fc3 = nn.Linear(20, 400)\n",
    "        self.fc4 = nn.Linear(400, input_dim)\n",
    "\n",
    "    def encode(self, x):\n",
    "        h1 = F.relu(self.fc1(x))\n",
    "        return self.fc21(h1), self.fc22(h1)\n",
    "\n",
    "    def reparameterize(self, mu, logvar):\n",
    "        std = torch.exp(0.5 * logvar)\n",
    "        eps = torch.randn_like(std)\n",
    "        return mu + eps * std\n",
    "\n",
    "    def decode(self, z):\n",
    "        h3 = F.relu(self.fc3(z))\n",
    "        return torch.tanh(self.fc4(h3))\n",
    "\n",
    "    def forward(self, x):\n",
    "        mu, logvar = self.encode(x)\n",
    "        z = self.reparameterize(mu, logvar)\n",
    "        return self.decode(z), mu, logvar\n",
    "\n",
    "\n",
    "##XGBoost \n",
    "\n",
    "\n",
    "# Reconstruction + KL divergence losses summed over target column and batch\n",
    "def loss_function(recon_x, x, mu, logvar, targetcol_idx, lambda_val):\n",
    "    # Specify the target column\n",
    "    recon_x_col = recon_x[:, targetcol_idx]\n",
    "    x_col = x[:, targetcol_idx]\n",
    "\n",
    "    # MSE & KLD for target column\n",
    "    MSE_col = F.mse_loss(recon_x_col, x_col, reduction=\"sum\")\n",
    "    KLD_col = -0.5 * torch.sum(1 + logvar - mu.pow(2) - logvar.exp())\n",
    "\n",
    "    # MSE & KLD for entire dataset\n",
    "    MSE_all = F.mse_loss(recon_x, x, reduction=\"sum\")\n",
    "    KLD_all = -0.5 * torch.sum(1 + logvar - mu.pow(2) - logvar.exp())\n",
    "\n",
    "    # Combine losses using lambda\n",
    "    loss = lambda_val * (MSE_col + KLD_col) + (1 - lambda_val) * (MSE_all + KLD_all)\n",
    "    return loss\n",
    "\n",
    "\n",
    "###add mse(&mae) comparison within training loop for target column\n",
    "#test if this works \n",
    "\n",
    "\n",
    "def train(epoch, model, train_loader, data_min, scale, lambda_val, targetcol_idx, optimizer, device, args):\n",
    "    model.train()\n",
    "    train_loss = 0\n",
    "    mae_loss_target_train = 0\n",
    "    average_train_loss = 0  # Initialize average_train_loss\n",
    "    pbar = tqdm(total=len(train_loader), desc=\"Training\")\n",
    "    for batch_idx, (data,) in enumerate(train_loader): #trian loader is after scaling\n",
    "        data_unmasked = data.to(device).float() #this data is before scaling\n",
    "        # Mask the target column\n",
    "        data_masked = data_unmasked.clone() #before scaling\n",
    "        data_masked[:, targetcol_idx] = -2\n",
    "        optimizer.zero_grad()\n",
    "        recon_batch, mu, logvar = model(data_masked)  # Masked target col\n",
    "        if torch.isnan(recon_batch).any():\n",
    "            print(\"NaN or in recon_batch!\")\n",
    "            break\n",
    "        loss = loss_function(recon_batch, data_unmasked, mu, logvar, targetcol_idx, lambda_val)\n",
    "        if torch.isnan(loss) or torch.isinf(loss):\n",
    "            raise ValueError(f\"NaN or Inf detected in loss at batch {batch_idx}. Check scaling or model outputs!\")\n",
    "            break\n",
    "        loss.backward()\n",
    "        torch.nn.utils.clip_grad_norm_(model.parameters(), max_norm=1.0)\n",
    "        train_loss += loss.item()\n",
    "        optimizer.step()\n",
    "        if batch_idx % args.log_interval == 0:\n",
    "            pbar.set_description(\n",
    "                \"Train Epoch: {} [{}/{} ({:.0f}%)]\\tLoss: {:.6f}\".format(\n",
    "                    epoch,\n",
    "                    batch_idx * len(data),\n",
    "                    len(train_loader.dataset),\n",
    "                    100.0 * batch_idx / len(train_loader),\n",
    "                    loss.item() / len(data),\n",
    "                )\n",
    "            )\n",
    "\n",
    "        pbar.update(1)\n",
    "        #revised \n",
    "        data_unscaled=inverse_scale(data_unmasked,data_min.to(device),scale.to(device))\n",
    "        target_column=data_unscaled[:,targetcol_idx]\n",
    "        recon_unscaled=inverse_scale(recon_batch,data_min.to(device),scale.to(device))\n",
    "        recon_column=recon_unscaled[:,targetcol_idx]\n",
    "\n",
    "                                                                                                \n",
    "        #mae metric calculation\n",
    "        mae_loss_target_train+=torch.mean(torch.abs(target_column-recon_column)).item()\n",
    "        #mae_loss_target_train += mean_absolute_error(target_column, recon_column)  # Ground truth\n",
    "\n",
    "    average_train_loss = train_loss / len(train_loader.dataset)  # Update after loop\n",
    "    print(\"====> Epoch: {} Average train loss: {:.4f}\".format(epoch, average_train_loss))\n",
    "    print(\"===> Epoch: {} Average mae test loss for targetcol :{:.4f}\".format(epoch,mae_loss_target_train/len(train_loader)))\n",
    "    return average_train_loss, mae_loss_target_train / len(train_loader)\n",
    "\n",
    "\n",
    "#Added mse in the test\n",
    "#In the test loop, masked column should be the input. \n",
    "#Redefine data for the test loop(should I inlcude this in the test loop or leave it here?)\n",
    "#dataset changed into validation set for testing loop\n",
    "    \n",
    "def test(epoch, model, val_loader, scale, data_min, targetcol_idx, device):\n",
    "    model.eval()\n",
    "    test_loss = 0\n",
    "    mae_loss_target_test = 0\n",
    "    with torch.no_grad():\n",
    "        for batch_idx, (data,) in enumerate(val_loader):\n",
    "            data_unmasked = data.to(device).float()  #data used here is before scaling \n",
    "            # Mask the target column\n",
    "            data_masked = data_unmasked.clone()\n",
    "            data_masked[:, targetcol_idx] = -2\n",
    "            recon_batch, mu, logvar = model(data_masked)  # Masked target col\n",
    "            # Define new lambda val for testing\n",
    "            lambda_val = 1.0\n",
    "            test_loss += loss_function(recon_batch, data_unmasked, mu, logvar, targetcol_idx, lambda_val).item()\n",
    "            # Scale back target column and reconstructed column\n",
    "            data_unscaled=inverse_scale(data_unmasked,data_min.to(device),scale.to(device))\n",
    "            target_column=data_unscaled[:,targetcol_idx]\n",
    "            recon_unscaled=inverse_scale(recon_batch,data_min.to(device),scale.to(device))\n",
    "            recon_column=recon_unscaled[:,targetcol_idx]\n",
    "                                                           \n",
    "            #mae metric calculation\n",
    "            mae_loss_target_test+=torch.mean(torch.abs(target_column-recon_column)).item()\n",
    "           # mae_loss_target_test += mean_absolute_error(target_column, recon_column)\n",
    "        \n",
    "        print(\"===> Epoch: {} Average mae test loss for targetcol: {:.4f}\".format(epoch, mae_loss_target_test / len(val_loader)))\n",
    "        print(\"====> Test set loss: {:.4f}\".format(test_loss))\n",
    "        average_test_loss = test_loss / len(val_loader.dataset)\n",
    "        print(\"====> Epoch: {} Average test loss: {:.4f}\".format(epoch, average_test_loss))\n",
    "    \n",
    "    return average_test_loss, mae_loss_target_test / len(val_loader)\n",
    "\n",
    "\n",
    "\n",
    "\n",
    "def main():\n",
    "    # Configuration parameters\n",
    "    class Config:\n",
    "        batch_size = 64\n",
    "        epochs = 150\n",
    "        no_cuda = False\n",
    "        no_mps = False\n",
    "        seed = 1\n",
    "        log_interval = 10\n",
    "        lr = 1e-4\n",
    "\n",
    "    dl_kwargs = dict(\n",
    "        batch_size=Config.batch_size,\n",
    "        shuffle=True,\n",
    "        # num_workers=4, # This may or may not be faster, depending on system\n",
    "        pin_memory=torch.cuda.is_available(),\n",
    "    )\n",
    "\n",
    "    args = Config()\n",
    "    args.cuda = not args.no_cuda and torch.cuda.is_available()\n",
    "    use_mps = not args.no_mps and torch.backends.mps.is_available()\n",
    "\n",
    "    torch.manual_seed(args.seed)\n",
    "\n",
    "    if args.cuda:\n",
    "        device = torch.device(\"cuda\")\n",
    "    elif use_mps:\n",
    "        device = torch.device(\"mps\")\n",
    "    else:\n",
    "        device = torch.device(\"cpu\")\n",
    "    \n",
    "   # Specify the target column, here should be changed while training other target columns\n",
    "    # (edit point as needed)\n",
    "    targetcolumn = \"te_air_scav_rec\"\n",
    "    targetcol_idx = data.columns.get_loc(targetcolumn)\n",
    "\n",
    "    #split dataset\n",
    "    train_size = int(0.6 * len(data))\n",
    "    val_size=int(0.2 * len(data))\n",
    "\n",
    "    train_df = data.iloc[:train_size]\n",
    "    val_df = data.iloc[train_size:train_size + val_size]\n",
    "    test_df= data.iloc[train_size + val_size:]\n",
    "\n",
    "    # Standardize the numeric data\n",
    "    scaler = MinMaxScaler(feature_range=(-1, 1))\n",
    "    #only apply scaler to the train set \n",
    "    scaled_train=scaler.fit_transform(train_df.values)\n",
    "    print(\"scaled_data\", scaled_train)\n",
    "    print(\"unscaled_data\",data)\n",
    "\n",
    "    # Transform val and test using the same scaler\n",
    "    scaled_val=scaler.transform(val_df.values)\n",
    "    scaled_test=scaler.transform(test_df.values)\n",
    "\n",
    "        \n",
    "    data_min=torch.tensor(scaler.data_min_,dtype=torch.float32)\n",
    "    data_max=torch.tensor(scaler.data_max_,dtype=torch.float32)\n",
    "    scale=data_max-data_min\n",
    "    scale[scale==0]=1e-8\n",
    "\n",
    "\n",
    "    #Convert DataFrame to Tensor\n",
    "    scaled_train_tensor=torch.tensor(scaled_train,dtype=torch.float32)\n",
    "    scaled_val_tensor=torch.tensor(scaled_val,dtype=torch.float32)\n",
    "    scaled_test_tensor=torch.tensor(scaled_test,dtype=torch.float32)\n",
    "\n",
    "    #create datasets on CPU\n",
    "    train_dataset=TensorDataset(scaled_train_tensor)\n",
    "    val_dataset=TensorDataset(scaled_val_tensor)\n",
    "    test_dataset=TensorDataset(scaled_test_tensor)\n",
    "\n",
    "\n",
    "     # Initialize Mlflow\n",
    "    mlflow.set_experiment(\"VAE_adjustedtestwizcorrect_optuna\")\n",
    "\n",
    "\n",
    "    def plot_loss_trends(run_id):\n",
    "        client = mlflow.tracking.MlflowClient()\n",
    "        \n",
    "        # Retrieve metric history\n",
    "        history_train = client.get_metric_history(run_id, \"average_train_loss\")\n",
    "        history_test = client.get_metric_history(run_id, \"average_test_loss\")\n",
    "\n",
    "        if not history_train or not history_test:\n",
    "            print(\"No metric history found for the given run_id.\")\n",
    "            return\n",
    "\n",
    "        # Sort by step to ensure correct order\n",
    "        history_train.sort(key=lambda x: x.step)\n",
    "        history_test.sort(key=lambda x: x.step)\n",
    "\n",
    "        epochs = [point.step for point in history_train]\n",
    "        train_losses = [point.value for point in history_train]\n",
    "        test_losses = [point.value for point in history_test]\n",
    "\n",
    "        # Plotting\n",
    "        plt.figure(figsize=(10, 5))\n",
    "        plt.plot(epochs, train_losses, label=\"Train Loss\")\n",
    "        plt.plot(epochs, test_losses, label=\"Test Loss\")\n",
    "        plt.xlabel(\"Epoch\")\n",
    "        plt.ylabel(\"Loss\")\n",
    "        plt.title(\"Loss Trend from Best Trial\")\n",
    "        plt.legend()\n",
    "        plt.grid(True)\n",
    "        plt.tight_layout()\n",
    "        plt.show()\n",
    "\n",
    "\n",
    "\n",
    "    #Adding Optuna\n",
    "    def objective(trial,device, data_min, scale):\n",
    "        with mlflow.start_run(nested=True) as run:\n",
    "            input_dim = scaled_train.shape[1]\n",
    "            batch_size =trial.suggest_int(\"batch_size\", 32, 128, step=32)\n",
    "            lr = trial.suggest_float(\"learning_rate\", 1e-6, 1e-1, log=True)\n",
    "            lambda_val = trial.suggest_float(\"lambda\", 0.5, 1.0)\n",
    "            \n",
    "            train_loader = DataLoader(train_dataset, batch_size=batch_size, shuffle=True)\n",
    "            val_loader = DataLoader(val_dataset, batch_size=batch_size, shuffle=False)\n",
    "        \n",
    "            \n",
    "            mlflow.log_params({\n",
    "                    \"batch_size\":batch_size,\n",
    "                    \"learning_rate\":lr,\n",
    "                    \"lambda\":lambda_val\n",
    "                })\n",
    "\n",
    "            model = VAE(input_dim=input_dim).to(device)\n",
    "\n",
    "            optimizer = optim.Adam(model.parameters(), lr=lr)\n",
    "\n",
    "\n",
    "            for epoch in range(args.epochs):\n",
    "                \n",
    "                average_train_loss, mae_loss_target_train = train(\n",
    "                    epoch,\n",
    "                    model,\n",
    "                    train_loader,\n",
    "                    lambda_val=lambda_val,\n",
    "                    targetcol_idx=targetcol_idx,\n",
    "                    optimizer=optimizer,\n",
    "                    device=device,\n",
    "                    data_min=data_min, \n",
    "                    scale=scale, #this is used for inverse scaling\n",
    "                    args=args\n",
    "                )\n",
    "\n",
    "                average_test_loss, mae_loss_target_test=test(\n",
    "                    epoch,\n",
    "                    model,\n",
    "                    val_loader,\n",
    "                    targetcol_idx=targetcol_idx,\n",
    "                    device=device,\n",
    "                    data_min=data_min,\n",
    "                    scale=scale #same, used for inverse scaling \n",
    "                \n",
    "                )\n",
    "                \n",
    "\n",
    "                \n",
    "                mlflow.log_metrics(\n",
    "                    {\n",
    "                        \"epoch\": epoch,\n",
    "                        \"average_train_loss\": average_train_loss,\n",
    "                        \"average_test_loss\": average_test_loss,\n",
    "                        \"mae_loss_target_train\": mae_loss_target_train,\n",
    "                        \"mae_loss_target_test\": mae_loss_target_test,\n",
    "                    },\n",
    "                    step=epoch,\n",
    ")\n",
    "\n",
    "\n",
    "            trial.set_user_attr(\"model_state_dict\", model.state_dict())\n",
    "            trial.set_user_attr(\"mlflow_run_id\", run.info.run_id)\n",
    "            \n",
    "            return average_test_loss # Ensure only one value is returned\n",
    "\n",
    "   \n",
    "    # Define run name(edit)\n",
    "    vae_run_name = \"optuna_vae_adjusted_for_te_air_scav_rec\"\n",
    "    \n",
    "    with mlflow.start_run(run_name=vae_run_name) as parent_run:\n",
    "        study = optuna.create_study(direction=\"minimize\")\n",
    "        study.optimize(lambda trial:objective (trial,device,data_min,scale),n_trials=100, timeout=3600)\n",
    "        #plot_optimization_history(study)  #visualization \n",
    "        best_trial = study.best_trial\n",
    "        best_run_id = best_trial.user_attrs[\"mlflow_run_id\"] #log run id to see the loss trend later\n",
    "        best_batch_size=best_trial.params[\"batch_size\"]\n",
    "\n",
    "      \n",
    "        mlflow.log_params(best_trial.params)\n",
    "        mlflow.log_param(\"best_run_id\", best_run_id)\n",
    "        mlflow.log_metric(\"Best Validation Loss:\", best_trial.value)\n",
    "        print(\"Best Trial:\")\n",
    "        print(f\"Validation loss: {best_trial.value}\")\n",
    "        print(\"Params:\")\n",
    "\n",
    "        # Check the loss trend of the best trial using corresponding run_id \n",
    "        best_trial_run_id = best_run_id\n",
    "        plot_loss_trends(best_trial_run_id)\n",
    "\n",
    "\n",
    "        for key, value in best_trial.params.items():\n",
    "            print(f\"{key}: {value}\")\n",
    "       \n",
    "    #Test on the test set with best parameters\n",
    "    with mlflow.start_run(run_name=\"Final_test_val_for_te_air_scav_rec\", nested=True):\n",
    "            # Model Reloading\n",
    "            best_model=VAE(input_dim=scaled_train.shape[1]).to(device)\n",
    "            best_model.load_state_dict(study.best_trial.user_attrs[\"model_state_dict\"])\n",
    "              \n",
    "            \n",
    "            #Evaluate on the test data \n",
    "            test_loader=DataLoader(test_dataset, batch_size=best_batch_size, shuffle=False)\n",
    "            epoch=50\n",
    "            average_test_loss, mae_loss_target_test=test(\n",
    "                        val_loader=test_loader,\n",
    "                        epoch=epoch,\n",
    "                        model=best_model,\n",
    "                        targetcol_idx=targetcol_idx,\n",
    "                        device=device,\n",
    "                        data_min=data_min,\n",
    "                        scale=scale\n",
    "                        )\n",
    "                \n",
    "                \n",
    "            mlflow.log_metrics(\n",
    "                    {\n",
    "                    \"epoch\": epoch,\n",
    "                    \"Final_test_loss\": average_test_loss,\n",
    "                    \"Final_loss_target_test\": mae_loss_target_test,\n",
    "                    },\n",
    "                 step=epoch,\n",
    ")\n",
    "           \n",
    "            print(f\"Final Test Loss:{average_test_loss:.4f}, MAE:{mae_loss_target_test:.4f}\")\n",
    "            \n",
    "            ##Registration may not needed yet.. \n",
    "             #log the model with scaling params\n",
    "            #input_dim = scaled_train.shape[1]\n",
    "            #input_example = torch.randn(1, input_dim).float().cpu().numpy()  # Convert to NumPy\n",
    "            #mlflow.pytorch.log_model(\n",
    "              #  pytorch_model=best_model,\n",
    "               # artifact_path=\"model\",\n",
    "               # registered_model_name=\"VAE for te_air_scav_rec\",\n",
    "               # input_example=input_example,\n",
    "               # extra_pip_requirements=[\"torch\",\"optuna\",\"mlflow\"],\n",
    "                                                             \n",
    "               # metadata={\n",
    "                  #  \"train_min\": data_min.cpu().numpy().tolist(),\n",
    "                  #  \"scale\": scale.cpu().numpy().tolist()\n",
    "                 #   }\n",
    "                #)\n",
    "            \n",
    "\n",
    "if __name__ == '__main__':\n",
    "    main()\n",
    "\n",
    "\n",
    "\n",
    "\n",
    "\n",
    "\n",
    "\n",
    "    # CSOM: This should be done ONCE after training, and not inside the training loop."
   ]
  },
  {
   "cell_type": "code",
   "execution_count": null,
   "id": "228eb501-d958-43ad-9f97-a6433c9f3fac",
   "metadata": {},
   "outputs": [
    {
     "name": "stdout",
     "output_type": "stream",
     "text": [
      "                 time  fr_eng  te_exh_cyl_out__0  pd_air_ic__0  \\\n",
      "0 2023-10-01 00:00:00     0.0             400.15         -70.0   \n",
      "1 2023-10-01 00:01:00     0.0             399.15         -70.0   \n",
      "2 2023-10-01 00:02:00     0.0             399.15         -70.0   \n",
      "3 2023-10-01 00:03:00     0.0             399.15         -80.0   \n",
      "4 2023-10-01 00:04:00     0.0             399.15         -80.0   \n",
      "5 2023-10-01 00:05:00     0.0             399.15         -70.0   \n",
      "6 2023-10-01 00:06:00     0.0             399.15         -70.0   \n",
      "7 2023-10-01 00:07:00     0.0             399.15         -70.0   \n",
      "8 2023-10-01 00:08:00     0.0             399.15         -80.0   \n",
      "9 2023-10-01 00:09:00     0.0             399.15         -80.0   \n",
      "\n",
      "   pr_exh_turb_out__0  te_air_ic_out__0  te_seawater  te_air_comp_in_a__0  \\\n",
      "0                 NaN            308.95       291.25                  NaN   \n",
      "1                 NaN            308.85       291.25                  NaN   \n",
      "2                 NaN            308.85       291.25                  NaN   \n",
      "3                 NaN            308.85       291.25                  NaN   \n",
      "4                 NaN            308.85       291.25                  NaN   \n",
      "5                 NaN            308.85       291.25                  NaN   \n",
      "6                 NaN            308.75       291.25                  NaN   \n",
      "7                 NaN            308.75       291.25                  NaN   \n",
      "8                 NaN            308.75       291.25                  NaN   \n",
      "9                 NaN            308.75       291.25                  NaN   \n",
      "\n",
      "   te_air_comp_in_b__0  fr_tc__0       pr_baro  pd_air_ic__0_1  pr_exh_rec  \\\n",
      "0                  NaN       NaN  2.838493e+06           -70.0         0.0   \n",
      "1                  NaN       NaN  2.841377e+06           -70.0         0.0   \n",
      "2                  NaN       NaN  2.838867e+06           -70.0         0.0   \n",
      "3                  NaN       NaN  2.836357e+06           -80.0         0.0   \n",
      "4                  NaN       NaN  2.837350e+06           -80.0         0.0   \n",
      "5                  NaN       NaN  2.837599e+06           -70.0         0.0   \n",
      "6                  NaN       NaN  2.835387e+06           -70.0         0.0   \n",
      "7                  NaN       NaN  2.836256e+06           -70.0         0.0   \n",
      "8                  NaN       NaN  2.837375e+06           -80.0         0.0   \n",
      "9                  NaN       NaN  2.839513e+06           -80.0         0.0   \n",
      "\n",
      "   te_exh_turb_in__0  te_exh_turb_out__0  bo_aux_blower_running  re_eng_load  \\\n",
      "0                NaN                 NaN                    0.0          NaN   \n",
      "1                NaN                 NaN                    0.0          NaN   \n",
      "2                NaN                 NaN                    0.0          NaN   \n",
      "3                NaN                 NaN                    0.0          NaN   \n",
      "4                NaN                 NaN                    0.0          NaN   \n",
      "5                NaN                 NaN                    0.0          NaN   \n",
      "6                NaN                 NaN                    0.0          NaN   \n",
      "7                NaN                 NaN                    0.0          NaN   \n",
      "8                NaN                 NaN                    0.0          NaN   \n",
      "9                NaN                 NaN                    0.0          NaN   \n",
      "\n",
      "   pr_air_scav_ecs  pr_air_scav  te_air_scav_rec  te_air_ic_out__0_1  \\\n",
      "0        24.414062    24.414062           317.75              308.95   \n",
      "1        30.517578    30.517578           317.85              308.85   \n",
      "2        25.939941    25.939941           317.75              308.85   \n",
      "3        32.043457    32.043457           317.75              308.85   \n",
      "4        19.836426    19.836426           317.75              308.85   \n",
      "5        21.362305    21.362305           317.75              308.85   \n",
      "6        18.310547    18.310547           317.75              308.75   \n",
      "7        30.517578    30.517578           317.75              308.75   \n",
      "8        19.836426    19.836426           317.75              308.75   \n",
      "9        15.258789    15.258789           317.75              308.75   \n",
      "\n",
      "   pr_cyl_comp__0  pr_cyl_max__0  se_mip__0  te_exh_cyl_out__0_1  \\\n",
      "0             NaN            NaN        NaN               400.15   \n",
      "1             NaN            NaN        NaN               399.15   \n",
      "2             NaN            NaN        NaN               399.15   \n",
      "3             NaN            NaN        NaN               399.15   \n",
      "4             NaN            NaN        NaN               399.15   \n",
      "5             NaN            NaN        NaN               399.15   \n",
      "6             NaN            NaN        NaN               399.15   \n",
      "7             NaN            NaN        NaN               399.15   \n",
      "8             NaN            NaN        NaN               399.15   \n",
      "9             NaN            NaN        NaN               399.15   \n",
      "\n",
      "   fr_eng_setpoint  te_air_scav_rec_iso  pr_cyl_max_mv_iso  \\\n",
      "0              0.0                  NaN                NaN   \n",
      "1              0.0                  NaN                NaN   \n",
      "2              0.0                  NaN                NaN   \n",
      "3              0.0                  NaN                NaN   \n",
      "4              0.0                  NaN                NaN   \n",
      "5              0.0                  NaN                NaN   \n",
      "6              0.0                  NaN                NaN   \n",
      "7              0.0                  NaN                NaN   \n",
      "8              0.0                  NaN                NaN   \n",
      "9              0.0                  NaN                NaN   \n",
      "\n",
      "   pr_cyl_comp_mv_iso  fr_eng_ecs  pr_air_scav_iso  \n",
      "0                 NaN         0.0              NaN  \n",
      "1                 NaN         0.0              NaN  \n",
      "2                 NaN         0.0              NaN  \n",
      "3                 NaN         0.0              NaN  \n",
      "4                 NaN         0.0              NaN  \n",
      "5                 NaN         0.0              NaN  \n",
      "6                 NaN         0.0              NaN  \n",
      "7                 NaN         0.0              NaN  \n",
      "8                 NaN         0.0              NaN  \n",
      "9                 NaN         0.0              NaN  \n",
      ">>> con.sql(\"SHOW TABLES;\")\n",
      "┌────────────┐\n",
      "│    name    │\n",
      "│  varchar   │\n",
      "├────────────┤\n",
      "│ shipinfo   │\n",
      "│ site_infos │\n",
      "│ timeseries │\n",
      "└────────────┘\n",
      "\n",
      "\n",
      ">>> con.sql(\"DESCRIBE shipinfo;\")\n",
      "┌──────────────────────┬───────────────────────────────────────────────────────┬─────────┬─────────┬─────────┬─────────┐\n",
      "│     column_name      │                      column_type                      │  null   │   key   │ default │  extra  │\n",
      "│       varchar        │                        varchar                        │ varchar │ varchar │ varchar │ varchar │\n",
      "├──────────────────────┼───────────────────────────────────────────────────────┼─────────┼─────────┼─────────┼─────────┤\n",
      "│ information_validity │ VARCHAR                                               │ YES     │ NULL    │ NULL    │ NULL    │\n",
      "│ imo_no               │ VARCHAR                                               │ YES     │ NULL    │ NULL    │ NULL    │\n",
      "│ ship_name            │ VARCHAR                                               │ YES     │ NULL    │ NULL    │ NULL    │\n",
      "│ dsO_Sea_trial_date   │ VARCHAR                                               │ YES     │ NULL    │ NULL    │ NULL    │\n",
      "│ hull_no              │ VARCHAR                                               │ YES     │ NULL    │ NULL    │ NULL    │\n",
      "│ engine_no            │ VARCHAR                                               │ YES     │ NULL    │ NULL    │ NULL    │\n",
      "│ designSpecId         │ VARCHAR                                               │ YES     │ NULL    │ NULL    │ NULL    │\n",
      "│ cylinders            │ VARCHAR                                               │ YES     │ NULL    │ NULL    │ NULL    │\n",
      "│ engine_type          │ VARCHAR                                               │ YES     │ NULL    │ NULL    │ NULL    │\n",
      "│ licensee             │ VARCHAR                                               │ YES     │ NULL    │ NULL    │ NULL    │\n",
      "│    ·                 │    ·                                                  │  ·      │  ·      │  ·      │  ·      │\n",
      "│    ·                 │    ·                                                  │  ·      │  ·      │  ·      │  ·      │\n",
      "│    ·                 │    ·                                                  │  ·      │  ·      │  ·      │  ·      │\n",
      "│ min_Speed_for_PTO_…  │ VARCHAR                                               │ YES     │ NULL    │ NULL    │ NULL    │\n",
      "│ minimum_Light_Runn…  │ VARCHAR                                               │ YES     │ NULL    │ NULL    │ NULL    │\n",
      "│ recommendation_on_…  │ VARCHAR                                               │ YES     │ NULL    │ NULL    │ NULL    │\n",
      "│ maker_of_power_man…  │ VARCHAR                                               │ YES     │ NULL    │ NULL    │ NULL    │\n",
      "│ application_of_ECS…  │ VARCHAR                                               │ YES     │ NULL    │ NULL    │ NULL    │\n",
      "│ shorT_CRANKSHAFT_F…  │ VARCHAR                                               │ YES     │ NULL    │ NULL    │ NULL    │\n",
      "│ ptO_TEST_WITH_DISC…  │ VARCHAR                                               │ YES     │ NULL    │ NULL    │ NULL    │\n",
      "│ opportunitY_ID       │ VARCHAR                                               │ YES     │ NULL    │ NULL    │ NULL    │\n",
      "│ active_NOx_Engine_…  │ VARCHAR                                               │ YES     │ NULL    │ NULL    │ NULL    │\n",
      "│ mmsi                 │ STRUCT(seqno VARCHAR, callsign VARCHAR, mmsi VARCHA…  │ YES     │ NULL    │ NULL    │ NULL    │\n",
      "├──────────────────────┴───────────────────────────────────────────────────────┴─────────┴─────────┴─────────┴─────────┤\n",
      "│ 286 rows (20 shown)                                                                                        6 columns │\n",
      "└──────────────────────────────────────────────────────────────────────────────────────────────────────────────────────┘\n",
      "\n",
      "\n",
      ">>> con.sql(\"FROM shipinfo SELECT * LIMIT 1;\")\n",
      "┌──────────────────────┬──────────────────────┬──────────────────────┬───┬──────────────────────┬──────────────────────┐\n",
      "│ information_validity │        imo_no        │      ship_name       │ … │ active_NOx_Engine_…  │         mmsi         │\n",
      "│       varchar        │       varchar        │       varchar        │   │       varchar        │ struct(seqno varch…  │\n",
      "├──────────────────────┼──────────────────────┼──────────────────────┼───┼──────────────────────┼──────────────────────┤\n",
      "│ High                 │ 647f3b22f283a6cb19…  │ 300f821c06fdbbe0d0…  │ … │ Yes                  │ {'seqno': 00, 'cal…  │\n",
      "├──────────────────────┴──────────────────────┴──────────────────────┴───┴──────────────────────┴──────────────────────┤\n",
      "│ 1 rows                                                                                         286 columns (5 shown) │\n",
      "└──────────────────────────────────────────────────────────────────────────────────────────────────────────────────────┘\n",
      "\n",
      "\n",
      "Column time has 0 NaN values\n",
      "Column fr_eng has 0 NaN values\n",
      "Column te_exh_cyl_out__0 has 46436 NaN values\n",
      "Column pd_air_ic__0 has 46436 NaN values\n",
      "Column pr_exh_turb_out__0 has 300971 NaN values\n",
      "Column te_air_ic_out__0 has 46436 NaN values\n",
      "Column te_seawater has 46436 NaN values\n",
      "Column te_air_comp_in_a__0 has 300971 NaN values\n",
      "Column te_air_comp_in_b__0 has 300971 NaN values\n",
      "Column fr_tc__0 has 300971 NaN values\n",
      "Column pr_baro has 1 NaN values\n",
      "Column pd_air_ic__0_1 has 46436 NaN values\n",
      "Column pr_exh_rec has 46436 NaN values\n",
      "Column te_exh_turb_in__0 has 300971 NaN values\n",
      "Column te_exh_turb_out__0 has 300971 NaN values\n",
      "Column bo_aux_blower_running has 1 NaN values\n",
      "Column re_eng_load has 251 NaN values\n",
      "Column pr_air_scav_ecs has 1 NaN values\n",
      "Column pr_air_scav has 1 NaN values\n",
      "Column te_air_scav_rec has 46436 NaN values\n",
      "Column te_air_ic_out__0_1 has 46436 NaN values\n",
      "Column pr_cyl_comp__0 has 251 NaN values\n",
      "Column pr_cyl_max__0 has 251 NaN values\n",
      "Column se_mip__0 has 250 NaN values\n",
      "Column te_exh_cyl_out__0_1 has 46436 NaN values\n",
      "Column fr_eng_setpoint has 1 NaN values\n",
      "Column te_air_scav_rec_iso has 114445 NaN values\n",
      "Column pr_cyl_max_mv_iso has 116211 NaN values\n",
      "Column pr_cyl_comp_mv_iso has 121289 NaN values\n",
      "Column fr_eng_ecs has 1 NaN values\n",
      "Column pr_air_scav_iso has 119578 NaN values\n",
      "Column engine_type_G95ME-C10.5-GI-LPSCR has 0 NaN values\n",
      "shape of original df:\n",
      "Datasize: 439186\n",
      "Colnumber: 32\n",
      "shape of filtered df:\n",
      "Datasize: 176450\n",
      "Colnumber: 26\n"
     ]
    },
    {
     "name": "stderr",
     "output_type": "stream",
     "text": [
      "[I 2025-05-15 12:12:24,242] A new study created in memory with name: no-name-64942b21-545a-4503-b1d8-75c1893c2429\n"
     ]
    },
    {
     "name": "stdout",
     "output_type": "stream",
     "text": [
      "          fr_eng  te_exh_cyl_out__0  pd_air_ic__0  te_air_ic_out__0  \\\n",
      "155674  0.914165             551.15         370.0            302.95   \n",
      "155675  0.914865             550.15         370.0            302.95   \n",
      "155676  0.916016             550.15         330.0            302.95   \n",
      "155677  0.914566             550.15         320.0            302.95   \n",
      "155678  0.913920             550.15         350.0            302.95   \n",
      "...          ...                ...           ...               ...   \n",
      "439181  1.026240             555.15         210.0            310.65   \n",
      "439182  1.035701             555.15          70.0            310.75   \n",
      "439183  1.028137             555.15         180.0            310.75   \n",
      "439184  1.027765             555.15         230.0            310.75   \n",
      "439185  1.021612             555.15         280.0            310.75   \n",
      "\n",
      "        te_seawater       pr_baro  pd_air_ic__0_1  pr_exh_rec  \\\n",
      "155674       294.05  3.178145e+06           370.0     59000.0   \n",
      "155675       294.05  3.183289e+06           370.0     57000.0   \n",
      "155676       294.05  3.180803e+06           330.0     56000.0   \n",
      "155677       294.15  3.182941e+06           320.0     58000.0   \n",
      "155678       294.15  3.182941e+06           350.0     60000.0   \n",
      "...             ...           ...             ...         ...   \n",
      "439181       291.55  2.576810e+06           210.0    127000.0   \n",
      "439182       291.45  2.589659e+06            70.0    124000.0   \n",
      "439183       291.45  2.583247e+06           180.0    123000.0   \n",
      "439184       291.45  2.582651e+06           230.0    119000.0   \n",
      "439185       291.45  2.591920e+06           280.0    118000.0   \n",
      "\n",
      "        bo_aux_blower_running  re_eng_load  pr_air_scav_ecs    pr_air_scav  \\\n",
      "155674                    0.0         0.33     67402.648926   67402.648926   \n",
      "155675                    0.0         0.33     66069.030762   66069.030762   \n",
      "155676                    0.0         0.33     64521.789551   64521.789551   \n",
      "155677                    0.0         0.33     66302.490234   66302.490234   \n",
      "155678                    0.0         0.34     67651.367188   67651.367188   \n",
      "...                       ...          ...              ...            ...   \n",
      "439181                    0.0         0.55    141625.976562  141625.976562   \n",
      "439182                    0.0         0.54    140539.550781  140539.550781   \n",
      "439183                    0.0         0.54    136929.321289  136929.321289   \n",
      "439184                    0.0         0.53    133502.197266  133502.197266   \n",
      "439185                    0.0         0.52    132366.943359  132366.943359   \n",
      "\n",
      "        te_air_scav_rec  te_air_ic_out__0_1  pr_cyl_comp__0  pr_cyl_max__0  \\\n",
      "155674           310.45              302.95    8.298032e+06   1.224769e+07   \n",
      "155675           310.45              302.95    8.129535e+06   1.210600e+07   \n",
      "155676           310.35              302.95    8.093028e+06   1.212506e+07   \n",
      "155677           310.45              302.95    8.160707e+06   1.212672e+07   \n",
      "155678           310.45              302.95    8.245092e+06   1.232116e+07   \n",
      "...                 ...                 ...             ...            ...   \n",
      "439181           318.25              310.65    1.462128e+07   1.856252e+07   \n",
      "439182           318.25              310.75    1.446443e+07   1.843547e+07   \n",
      "439183           318.25              310.75    1.439970e+07   1.834930e+07   \n",
      "439184           318.25              310.75    1.423135e+07   1.819353e+07   \n",
      "439185           318.25              310.75    1.419189e+07   1.820430e+07   \n",
      "\n",
      "           se_mip__0  te_exh_cyl_out__0_1  fr_eng_setpoint  \\\n",
      "155674  8.884035e+05               551.15         0.914972   \n",
      "155675  8.832464e+05               550.15         0.914972   \n",
      "155676  8.747619e+05               550.15         0.914972   \n",
      "155677  8.879406e+05               550.15         0.914972   \n",
      "155678  9.040318e+05               550.15         0.914972   \n",
      "...              ...                  ...              ...   \n",
      "439181  1.262804e+06               555.15         1.019965   \n",
      "439182  1.236266e+06               555.15         1.019965   \n",
      "439183  1.227601e+06               555.15         1.019965   \n",
      "439184  1.213029e+06               555.15         1.019965   \n",
      "439185  1.219686e+06               555.15         1.019965   \n",
      "\n",
      "        te_air_scav_rec_iso  pr_cyl_max_mv_iso  pr_cyl_comp_mv_iso  \\\n",
      "155674           299.728408      -6.603020e+07       -7.155594e+07   \n",
      "155675           299.728408      -6.565175e+07       -7.075990e+07   \n",
      "155676           299.728408      -6.539791e+07       -7.027582e+07   \n",
      "155677           299.728408      -6.580781e+07       -7.076238e+07   \n",
      "155678           299.829286      -6.622560e+07       -7.131539e+07   \n",
      "...                     ...                ...                 ...   \n",
      "439181           303.059782      -6.792722e+07       -8.174774e+07   \n",
      "439182           302.872662      -6.809147e+07       -8.168589e+07   \n",
      "439183           302.872662      -6.770504e+07       -8.117882e+07   \n",
      "439184           302.687664      -6.721556e+07       -8.040727e+07   \n",
      "439185           302.504936      -6.738855e+07       -8.050945e+07   \n",
      "\n",
      "        fr_eng_ecs  pr_air_scav_iso  engine_type_G95ME-C10.5-GI-LPSCR  \n",
      "155674    0.914165    -2.192475e+07                               1.0  \n",
      "155675    0.914865    -2.198966e+07                               1.0  \n",
      "155676    0.916016    -2.194526e+07                               1.0  \n",
      "155677    0.914566    -2.198616e+07                               1.0  \n",
      "155678    0.913920    -2.199390e+07                               1.0  \n",
      "...            ...              ...                               ...  \n",
      "439181    1.026240    -1.474372e+07                               1.0  \n",
      "439182    1.035701    -1.488898e+07                               1.0  \n",
      "439183    1.028137    -1.479966e+07                               1.0  \n",
      "439184    1.027765    -1.477784e+07                               1.0  \n",
      "439185    1.021612    -1.488213e+07                               1.0  \n",
      "\n",
      "[176450 rows x 25 columns]\n",
      "scaled_data [[ 0.71903323  0.59863946  0.42168675 ...  0.71903323 -0.13097382\n",
      "  -1.        ]\n",
      " [ 0.71990419  0.59183673  0.42168675 ...  0.71990419 -0.13497727\n",
      "  -1.        ]\n",
      " [ 0.72133765  0.59183673  0.3253012  ...  0.72133765 -0.13223911\n",
      "  -1.        ]\n",
      " ...\n",
      " [ 0.90798351  0.74829932  0.39759036 ...  0.90798351  0.2963395\n",
      "  -1.        ]\n",
      " [ 0.91036656  0.75510204  0.25301205 ...  0.91036656  0.29711637\n",
      "  -1.        ]\n",
      " [ 0.89747451  0.75510204  0.30120482 ...  0.89747451  0.2937173\n",
      "  -1.        ]]\n",
      "unscaled_data           fr_eng  te_exh_cyl_out__0  pd_air_ic__0  te_air_ic_out__0  \\\n",
      "155674  0.914165             551.15         370.0            302.95   \n",
      "155675  0.914865             550.15         370.0            302.95   \n",
      "155676  0.916016             550.15         330.0            302.95   \n",
      "155677  0.914566             550.15         320.0            302.95   \n",
      "155678  0.913920             550.15         350.0            302.95   \n",
      "...          ...                ...           ...               ...   \n",
      "439181  1.026240             555.15         210.0            310.65   \n",
      "439182  1.035701             555.15          70.0            310.75   \n",
      "439183  1.028137             555.15         180.0            310.75   \n",
      "439184  1.027765             555.15         230.0            310.75   \n",
      "439185  1.021612             555.15         280.0            310.75   \n",
      "\n",
      "        te_seawater       pr_baro  pd_air_ic__0_1  pr_exh_rec  \\\n",
      "155674       294.05  3.178145e+06           370.0     59000.0   \n",
      "155675       294.05  3.183289e+06           370.0     57000.0   \n",
      "155676       294.05  3.180803e+06           330.0     56000.0   \n",
      "155677       294.15  3.182941e+06           320.0     58000.0   \n",
      "155678       294.15  3.182941e+06           350.0     60000.0   \n",
      "...             ...           ...             ...         ...   \n",
      "439181       291.55  2.576810e+06           210.0    127000.0   \n",
      "439182       291.45  2.589659e+06            70.0    124000.0   \n",
      "439183       291.45  2.583247e+06           180.0    123000.0   \n",
      "439184       291.45  2.582651e+06           230.0    119000.0   \n",
      "439185       291.45  2.591920e+06           280.0    118000.0   \n",
      "\n",
      "        bo_aux_blower_running  re_eng_load  pr_air_scav_ecs    pr_air_scav  \\\n",
      "155674                    0.0         0.33     67402.648926   67402.648926   \n",
      "155675                    0.0         0.33     66069.030762   66069.030762   \n",
      "155676                    0.0         0.33     64521.789551   64521.789551   \n",
      "155677                    0.0         0.33     66302.490234   66302.490234   \n",
      "155678                    0.0         0.34     67651.367188   67651.367188   \n",
      "...                       ...          ...              ...            ...   \n",
      "439181                    0.0         0.55    141625.976562  141625.976562   \n",
      "439182                    0.0         0.54    140539.550781  140539.550781   \n",
      "439183                    0.0         0.54    136929.321289  136929.321289   \n",
      "439184                    0.0         0.53    133502.197266  133502.197266   \n",
      "439185                    0.0         0.52    132366.943359  132366.943359   \n",
      "\n",
      "        te_air_scav_rec  te_air_ic_out__0_1  pr_cyl_comp__0  pr_cyl_max__0  \\\n",
      "155674           310.45              302.95    8.298032e+06   1.224769e+07   \n",
      "155675           310.45              302.95    8.129535e+06   1.210600e+07   \n",
      "155676           310.35              302.95    8.093028e+06   1.212506e+07   \n",
      "155677           310.45              302.95    8.160707e+06   1.212672e+07   \n",
      "155678           310.45              302.95    8.245092e+06   1.232116e+07   \n",
      "...                 ...                 ...             ...            ...   \n",
      "439181           318.25              310.65    1.462128e+07   1.856252e+07   \n",
      "439182           318.25              310.75    1.446443e+07   1.843547e+07   \n",
      "439183           318.25              310.75    1.439970e+07   1.834930e+07   \n",
      "439184           318.25              310.75    1.423135e+07   1.819353e+07   \n",
      "439185           318.25              310.75    1.419189e+07   1.820430e+07   \n",
      "\n",
      "           se_mip__0  te_exh_cyl_out__0_1  fr_eng_setpoint  \\\n",
      "155674  8.884035e+05               551.15         0.914972   \n",
      "155675  8.832464e+05               550.15         0.914972   \n",
      "155676  8.747619e+05               550.15         0.914972   \n",
      "155677  8.879406e+05               550.15         0.914972   \n",
      "155678  9.040318e+05               550.15         0.914972   \n",
      "...              ...                  ...              ...   \n",
      "439181  1.262804e+06               555.15         1.019965   \n",
      "439182  1.236266e+06               555.15         1.019965   \n",
      "439183  1.227601e+06               555.15         1.019965   \n",
      "439184  1.213029e+06               555.15         1.019965   \n",
      "439185  1.219686e+06               555.15         1.019965   \n",
      "\n",
      "        te_air_scav_rec_iso  pr_cyl_max_mv_iso  pr_cyl_comp_mv_iso  \\\n",
      "155674           299.728408      -6.603020e+07       -7.155594e+07   \n",
      "155675           299.728408      -6.565175e+07       -7.075990e+07   \n",
      "155676           299.728408      -6.539791e+07       -7.027582e+07   \n",
      "155677           299.728408      -6.580781e+07       -7.076238e+07   \n",
      "155678           299.829286      -6.622560e+07       -7.131539e+07   \n",
      "...                     ...                ...                 ...   \n",
      "439181           303.059782      -6.792722e+07       -8.174774e+07   \n",
      "439182           302.872662      -6.809147e+07       -8.168589e+07   \n",
      "439183           302.872662      -6.770504e+07       -8.117882e+07   \n",
      "439184           302.687664      -6.721556e+07       -8.040727e+07   \n",
      "439185           302.504936      -6.738855e+07       -8.050945e+07   \n",
      "\n",
      "        fr_eng_ecs  pr_air_scav_iso  engine_type_G95ME-C10.5-GI-LPSCR  \n",
      "155674    0.914165    -2.192475e+07                               1.0  \n",
      "155675    0.914865    -2.198966e+07                               1.0  \n",
      "155676    0.916016    -2.194526e+07                               1.0  \n",
      "155677    0.914566    -2.198616e+07                               1.0  \n",
      "155678    0.913920    -2.199390e+07                               1.0  \n",
      "...            ...              ...                               ...  \n",
      "439181    1.026240    -1.474372e+07                               1.0  \n",
      "439182    1.035701    -1.488898e+07                               1.0  \n",
      "439183    1.028137    -1.479966e+07                               1.0  \n",
      "439184    1.027765    -1.477784e+07                               1.0  \n",
      "439185    1.021612    -1.488213e+07                               1.0  \n",
      "\n",
      "[176450 rows x 25 columns]\n"
     ]
    },
    {
     "name": "stderr",
     "output_type": "stream",
     "text": [
      "Train Epoch: 0 [105600/105870 (100%)]\tLoss: 0.365162: 100%|██████████| 3309/3309 [00:12<00:00, 269.37it/s]\n"
     ]
    },
    {
     "name": "stdout",
     "output_type": "stream",
     "text": [
      "====> Epoch: 0 Average train loss: 0.3583\n",
      "===> Epoch: 0 Average mae test loss for targetcol :3.2644\n",
      "===> Epoch: 0 Average mae test loss for targetcol: 3.3568\n",
      "====> Test set loss: 936.9314\n",
      "====> Epoch: 0 Average test loss: 0.0265\n"
     ]
    },
    {
     "name": "stderr",
     "output_type": "stream",
     "text": [
      "Train Epoch: 1 [105600/105870 (100%)]\tLoss: 0.358478: 100%|██████████| 3309/3309 [00:12<00:00, 265.97it/s]\n"
     ]
    },
    {
     "name": "stdout",
     "output_type": "stream",
     "text": [
      "====> Epoch: 1 Average train loss: 0.3504\n",
      "===> Epoch: 1 Average mae test loss for targetcol :3.1860\n",
      "===> Epoch: 1 Average mae test loss for targetcol: 3.0041\n",
      "====> Test set loss: 906.2372\n",
      "====> Epoch: 1 Average test loss: 0.0257\n"
     ]
    },
    {
     "name": "stderr",
     "output_type": "stream",
     "text": [
      "Train Epoch: 2 [105600/105870 (100%)]\tLoss: 0.367550: 100%|██████████| 3309/3309 [00:12<00:00, 259.52it/s]\n"
     ]
    },
    {
     "name": "stdout",
     "output_type": "stream",
     "text": [
      "====> Epoch: 2 Average train loss: 0.3496\n",
      "===> Epoch: 2 Average mae test loss for targetcol :3.1766\n",
      "===> Epoch: 2 Average mae test loss for targetcol: 3.0436\n",
      "====> Test set loss: 885.9630\n",
      "====> Epoch: 2 Average test loss: 0.0251\n"
     ]
    },
    {
     "name": "stderr",
     "output_type": "stream",
     "text": [
      "Train Epoch: 3 [105600/105870 (100%)]\tLoss: 0.590674: 100%|██████████| 3309/3309 [00:12<00:00, 267.01it/s]\n"
     ]
    },
    {
     "name": "stdout",
     "output_type": "stream",
     "text": [
      "====> Epoch: 3 Average train loss: 0.3492\n",
      "===> Epoch: 3 Average mae test loss for targetcol :3.1741\n",
      "===> Epoch: 3 Average mae test loss for targetcol: 2.9743\n",
      "====> Test set loss: 893.2715\n",
      "====> Epoch: 3 Average test loss: 0.0253\n"
     ]
    },
    {
     "name": "stderr",
     "output_type": "stream",
     "text": [
      "Train Epoch: 4 [105600/105870 (100%)]\tLoss: 0.335427: 100%|██████████| 3309/3309 [00:12<00:00, 259.68it/s]\n"
     ]
    },
    {
     "name": "stdout",
     "output_type": "stream",
     "text": [
      "====> Epoch: 4 Average train loss: 0.3491\n",
      "===> Epoch: 4 Average mae test loss for targetcol :3.1743\n",
      "===> Epoch: 4 Average mae test loss for targetcol: 2.9484\n",
      "====> Test set loss: 895.1787\n",
      "====> Epoch: 4 Average test loss: 0.0254\n"
     ]
    },
    {
     "name": "stderr",
     "output_type": "stream",
     "text": [
      "Train Epoch: 5 [105600/105870 (100%)]\tLoss: 0.275264: 100%|██████████| 3309/3309 [00:12<00:00, 255.39it/s]\n"
     ]
    },
    {
     "name": "stdout",
     "output_type": "stream",
     "text": [
      "====> Epoch: 5 Average train loss: 0.3491\n",
      "===> Epoch: 5 Average mae test loss for targetcol :3.1732\n",
      "===> Epoch: 5 Average mae test loss for targetcol: 2.8729\n",
      "====> Test set loss: 939.2680\n",
      "====> Epoch: 5 Average test loss: 0.0266\n"
     ]
    },
    {
     "name": "stderr",
     "output_type": "stream",
     "text": [
      "Train Epoch: 6 [105600/105870 (100%)]\tLoss: 0.299464: 100%|██████████| 3309/3309 [00:13<00:00, 250.96it/s]\n"
     ]
    },
    {
     "name": "stdout",
     "output_type": "stream",
     "text": [
      "====> Epoch: 6 Average train loss: 0.3489\n",
      "===> Epoch: 6 Average mae test loss for targetcol :3.1696\n",
      "===> Epoch: 6 Average mae test loss for targetcol: 3.0337\n",
      "====> Test set loss: 903.0897\n",
      "====> Epoch: 6 Average test loss: 0.0256\n"
     ]
    },
    {
     "name": "stderr",
     "output_type": "stream",
     "text": [
      "Train Epoch: 7 [105600/105870 (100%)]\tLoss: 0.305833: 100%|██████████| 3309/3309 [00:18<00:00, 180.15it/s]\n"
     ]
    },
    {
     "name": "stdout",
     "output_type": "stream",
     "text": [
      "====> Epoch: 7 Average train loss: 0.3489\n",
      "===> Epoch: 7 Average mae test loss for targetcol :3.1708\n",
      "===> Epoch: 7 Average mae test loss for targetcol: 2.9730\n",
      "====> Test set loss: 890.8365\n",
      "====> Epoch: 7 Average test loss: 0.0252\n"
     ]
    },
    {
     "name": "stderr",
     "output_type": "stream",
     "text": [
      "Train Epoch: 8 [105600/105870 (100%)]\tLoss: 0.430836: 100%|██████████| 3309/3309 [00:21<00:00, 156.39it/s]\n"
     ]
    },
    {
     "name": "stdout",
     "output_type": "stream",
     "text": [
      "====> Epoch: 8 Average train loss: 0.3490\n",
      "===> Epoch: 8 Average mae test loss for targetcol :3.1723\n",
      "===> Epoch: 8 Average mae test loss for targetcol: 3.0853\n",
      "====> Test set loss: 883.6565\n",
      "====> Epoch: 8 Average test loss: 0.0250\n"
     ]
    },
    {
     "name": "stderr",
     "output_type": "stream",
     "text": [
      "Train Epoch: 9 [105600/105870 (100%)]\tLoss: 0.393881: 100%|██████████| 3309/3309 [00:21<00:00, 156.84it/s]\n"
     ]
    },
    {
     "name": "stdout",
     "output_type": "stream",
     "text": [
      "====> Epoch: 9 Average train loss: 0.3489\n",
      "===> Epoch: 9 Average mae test loss for targetcol :3.1706\n",
      "===> Epoch: 9 Average mae test loss for targetcol: 3.0449\n",
      "====> Test set loss: 886.7490\n",
      "====> Epoch: 9 Average test loss: 0.0251\n"
     ]
    },
    {
     "name": "stderr",
     "output_type": "stream",
     "text": [
      "Train Epoch: 10 [105600/105870 (100%)]\tLoss: 0.339360: 100%|██████████| 3309/3309 [00:21<00:00, 154.95it/s]\n"
     ]
    },
    {
     "name": "stdout",
     "output_type": "stream",
     "text": [
      "====> Epoch: 10 Average train loss: 0.3488\n",
      "===> Epoch: 10 Average mae test loss for targetcol :3.1690\n",
      "===> Epoch: 10 Average mae test loss for targetcol: 3.0629\n",
      "====> Test set loss: 883.1558\n",
      "====> Epoch: 10 Average test loss: 0.0250\n"
     ]
    },
    {
     "name": "stderr",
     "output_type": "stream",
     "text": [
      "Train Epoch: 11 [105600/105870 (100%)]\tLoss: 0.279688: 100%|██████████| 3309/3309 [00:21<00:00, 155.02it/s]\n"
     ]
    },
    {
     "name": "stdout",
     "output_type": "stream",
     "text": [
      "====> Epoch: 11 Average train loss: 0.3488\n",
      "===> Epoch: 11 Average mae test loss for targetcol :3.1687\n",
      "===> Epoch: 11 Average mae test loss for targetcol: 3.0160\n",
      "====> Test set loss: 885.9756\n",
      "====> Epoch: 11 Average test loss: 0.0251\n"
     ]
    },
    {
     "name": "stderr",
     "output_type": "stream",
     "text": [
      "Train Epoch: 12 [105600/105870 (100%)]\tLoss: 0.321998: 100%|██████████| 3309/3309 [00:21<00:00, 153.67it/s]\n"
     ]
    },
    {
     "name": "stdout",
     "output_type": "stream",
     "text": [
      "====> Epoch: 12 Average train loss: 0.3487\n",
      "===> Epoch: 12 Average mae test loss for targetcol :3.1690\n",
      "===> Epoch: 12 Average mae test loss for targetcol: 3.1381\n",
      "====> Test set loss: 883.7318\n",
      "====> Epoch: 12 Average test loss: 0.0250\n"
     ]
    },
    {
     "name": "stderr",
     "output_type": "stream",
     "text": [
      "Train Epoch: 13 [105600/105870 (100%)]\tLoss: 0.477144: 100%|██████████| 3309/3309 [00:22<00:00, 145.51it/s]\n"
     ]
    },
    {
     "name": "stdout",
     "output_type": "stream",
     "text": [
      "====> Epoch: 13 Average train loss: 0.3487\n",
      "===> Epoch: 13 Average mae test loss for targetcol :3.1697\n",
      "===> Epoch: 13 Average mae test loss for targetcol: 2.8932\n",
      "====> Test set loss: 913.1944\n",
      "====> Epoch: 13 Average test loss: 0.0259\n"
     ]
    },
    {
     "name": "stderr",
     "output_type": "stream",
     "text": [
      "Train Epoch: 14 [105600/105870 (100%)]\tLoss: 0.277772: 100%|██████████| 3309/3309 [00:22<00:00, 148.29it/s]\n"
     ]
    },
    {
     "name": "stdout",
     "output_type": "stream",
     "text": [
      "====> Epoch: 14 Average train loss: 0.3487\n",
      "===> Epoch: 14 Average mae test loss for targetcol :3.1698\n",
      "===> Epoch: 14 Average mae test loss for targetcol: 3.2185\n",
      "====> Test set loss: 886.3053\n",
      "====> Epoch: 14 Average test loss: 0.0251\n"
     ]
    },
    {
     "name": "stderr",
     "output_type": "stream",
     "text": [
      "Train Epoch: 15 [105600/105870 (100%)]\tLoss: 0.376379: 100%|██████████| 3309/3309 [00:22<00:00, 149.12it/s]\n"
     ]
    },
    {
     "name": "stdout",
     "output_type": "stream",
     "text": [
      "====> Epoch: 15 Average train loss: 0.3488\n",
      "===> Epoch: 15 Average mae test loss for targetcol :3.1700\n",
      "===> Epoch: 15 Average mae test loss for targetcol: 2.9708\n",
      "====> Test set loss: 892.0903\n",
      "====> Epoch: 15 Average test loss: 0.0253\n"
     ]
    },
    {
     "name": "stderr",
     "output_type": "stream",
     "text": [
      "Train Epoch: 16 [105600/105870 (100%)]\tLoss: 0.452483: 100%|██████████| 3309/3309 [00:21<00:00, 151.34it/s]\n"
     ]
    },
    {
     "name": "stdout",
     "output_type": "stream",
     "text": [
      "====> Epoch: 16 Average train loss: 0.3489\n",
      "===> Epoch: 16 Average mae test loss for targetcol :3.1706\n",
      "===> Epoch: 16 Average mae test loss for targetcol: 3.1006\n",
      "====> Test set loss: 883.5194\n",
      "====> Epoch: 16 Average test loss: 0.0250\n"
     ]
    },
    {
     "name": "stderr",
     "output_type": "stream",
     "text": [
      "Train Epoch: 17 [105600/105870 (100%)]\tLoss: 0.374480: 100%|██████████| 3309/3309 [00:22<00:00, 147.40it/s]\n"
     ]
    },
    {
     "name": "stdout",
     "output_type": "stream",
     "text": [
      "====> Epoch: 17 Average train loss: 0.3487\n",
      "===> Epoch: 17 Average mae test loss for targetcol :3.1680\n",
      "===> Epoch: 17 Average mae test loss for targetcol: 3.0267\n",
      "====> Test set loss: 884.8490\n",
      "====> Epoch: 17 Average test loss: 0.0251\n"
     ]
    },
    {
     "name": "stderr",
     "output_type": "stream",
     "text": [
      "Train Epoch: 18 [105600/105870 (100%)]\tLoss: 0.289296: 100%|██████████| 3309/3309 [00:21<00:00, 152.14it/s]\n"
     ]
    },
    {
     "name": "stdout",
     "output_type": "stream",
     "text": [
      "====> Epoch: 18 Average train loss: 0.3488\n",
      "===> Epoch: 18 Average mae test loss for targetcol :3.1685\n",
      "===> Epoch: 18 Average mae test loss for targetcol: 3.0197\n",
      "====> Test set loss: 888.8641\n",
      "====> Epoch: 18 Average test loss: 0.0252\n"
     ]
    },
    {
     "name": "stderr",
     "output_type": "stream",
     "text": [
      "Train Epoch: 19 [105600/105870 (100%)]\tLoss: 0.340998: 100%|██████████| 3309/3309 [00:21<00:00, 156.33it/s]\n"
     ]
    },
    {
     "name": "stdout",
     "output_type": "stream",
     "text": [
      "====> Epoch: 19 Average train loss: 0.3487\n",
      "===> Epoch: 19 Average mae test loss for targetcol :3.1693\n",
      "===> Epoch: 19 Average mae test loss for targetcol: 2.8957\n",
      "====> Test set loss: 905.8717\n",
      "====> Epoch: 19 Average test loss: 0.0257\n"
     ]
    },
    {
     "name": "stderr",
     "output_type": "stream",
     "text": [
      "Train Epoch: 20 [105600/105870 (100%)]\tLoss: 0.278556: 100%|██████████| 3309/3309 [00:21<00:00, 154.83it/s]\n"
     ]
    },
    {
     "name": "stdout",
     "output_type": "stream",
     "text": [
      "====> Epoch: 20 Average train loss: 0.3486\n",
      "===> Epoch: 20 Average mae test loss for targetcol :3.1687\n",
      "===> Epoch: 20 Average mae test loss for targetcol: 3.1392\n",
      "====> Test set loss: 889.0375\n",
      "====> Epoch: 20 Average test loss: 0.0252\n"
     ]
    },
    {
     "name": "stderr",
     "output_type": "stream",
     "text": [
      "Train Epoch: 21 [105600/105870 (100%)]\tLoss: 0.276006: 100%|██████████| 3309/3309 [00:21<00:00, 156.45it/s]\n"
     ]
    },
    {
     "name": "stdout",
     "output_type": "stream",
     "text": [
      "====> Epoch: 21 Average train loss: 0.3488\n",
      "===> Epoch: 21 Average mae test loss for targetcol :3.1701\n",
      "===> Epoch: 21 Average mae test loss for targetcol: 2.9636\n",
      "====> Test set loss: 897.2340\n",
      "====> Epoch: 21 Average test loss: 0.0254\n"
     ]
    },
    {
     "name": "stderr",
     "output_type": "stream",
     "text": [
      "Train Epoch: 22 [105600/105870 (100%)]\tLoss: 0.364181: 100%|██████████| 3309/3309 [00:21<00:00, 151.38it/s]\n"
     ]
    },
    {
     "name": "stdout",
     "output_type": "stream",
     "text": [
      "====> Epoch: 22 Average train loss: 0.3487\n",
      "===> Epoch: 22 Average mae test loss for targetcol :3.1671\n",
      "===> Epoch: 22 Average mae test loss for targetcol: 3.2157\n",
      "====> Test set loss: 885.6935\n",
      "====> Epoch: 22 Average test loss: 0.0251\n"
     ]
    },
    {
     "name": "stderr",
     "output_type": "stream",
     "text": [
      "Train Epoch: 23 [105600/105870 (100%)]\tLoss: 0.328785: 100%|██████████| 3309/3309 [00:21<00:00, 154.19it/s]\n"
     ]
    },
    {
     "name": "stdout",
     "output_type": "stream",
     "text": [
      "====> Epoch: 23 Average train loss: 0.3486\n",
      "===> Epoch: 23 Average mae test loss for targetcol :3.1684\n",
      "===> Epoch: 23 Average mae test loss for targetcol: 3.0085\n",
      "====> Test set loss: 886.0005\n",
      "====> Epoch: 23 Average test loss: 0.0251\n"
     ]
    },
    {
     "name": "stderr",
     "output_type": "stream",
     "text": [
      "Train Epoch: 24 [105600/105870 (100%)]\tLoss: 0.332468: 100%|██████████| 3309/3309 [00:21<00:00, 153.25it/s]\n"
     ]
    },
    {
     "name": "stdout",
     "output_type": "stream",
     "text": [
      "====> Epoch: 24 Average train loss: 0.3486\n",
      "===> Epoch: 24 Average mae test loss for targetcol :3.1668\n",
      "===> Epoch: 24 Average mae test loss for targetcol: 2.9605\n",
      "====> Test set loss: 891.6179\n",
      "====> Epoch: 24 Average test loss: 0.0253\n"
     ]
    },
    {
     "name": "stderr",
     "output_type": "stream",
     "text": [
      "Train Epoch: 25 [105600/105870 (100%)]\tLoss: 0.471184: 100%|██████████| 3309/3309 [00:20<00:00, 158.20it/s]\n"
     ]
    },
    {
     "name": "stdout",
     "output_type": "stream",
     "text": [
      "====> Epoch: 25 Average train loss: 0.3487\n",
      "===> Epoch: 25 Average mae test loss for targetcol :3.1691\n",
      "===> Epoch: 25 Average mae test loss for targetcol: 3.0421\n",
      "====> Test set loss: 883.8686\n",
      "====> Epoch: 25 Average test loss: 0.0250\n"
     ]
    },
    {
     "name": "stderr",
     "output_type": "stream",
     "text": [
      "Train Epoch: 26 [105600/105870 (100%)]\tLoss: 0.496853: 100%|██████████| 3309/3309 [00:21<00:00, 154.24it/s]\n"
     ]
    },
    {
     "name": "stdout",
     "output_type": "stream",
     "text": [
      "====> Epoch: 26 Average train loss: 0.3487\n",
      "===> Epoch: 26 Average mae test loss for targetcol :3.1670\n",
      "===> Epoch: 26 Average mae test loss for targetcol: 3.2347\n",
      "====> Test set loss: 888.4510\n",
      "====> Epoch: 26 Average test loss: 0.0252\n"
     ]
    },
    {
     "name": "stderr",
     "output_type": "stream",
     "text": [
      "Train Epoch: 27 [105600/105870 (100%)]\tLoss: 0.456475: 100%|██████████| 3309/3309 [00:22<00:00, 149.20it/s]\n"
     ]
    },
    {
     "name": "stdout",
     "output_type": "stream",
     "text": [
      "====> Epoch: 27 Average train loss: 0.3486\n",
      "===> Epoch: 27 Average mae test loss for targetcol :3.1679\n",
      "===> Epoch: 27 Average mae test loss for targetcol: 2.9384\n",
      "====> Test set loss: 895.7328\n",
      "====> Epoch: 27 Average test loss: 0.0254\n"
     ]
    },
    {
     "name": "stderr",
     "output_type": "stream",
     "text": [
      "Train Epoch: 28 [105600/105870 (100%)]\tLoss: 0.263181: 100%|██████████| 3309/3309 [00:22<00:00, 146.24it/s]\n"
     ]
    },
    {
     "name": "stdout",
     "output_type": "stream",
     "text": [
      "====> Epoch: 28 Average train loss: 0.3486\n",
      "===> Epoch: 28 Average mae test loss for targetcol :3.1668\n",
      "===> Epoch: 28 Average mae test loss for targetcol: 3.1393\n",
      "====> Test set loss: 882.9220\n",
      "====> Epoch: 28 Average test loss: 0.0250\n"
     ]
    },
    {
     "name": "stderr",
     "output_type": "stream",
     "text": [
      "Train Epoch: 29 [105600/105870 (100%)]\tLoss: 0.368607: 100%|██████████| 3309/3309 [00:21<00:00, 152.01it/s]\n"
     ]
    },
    {
     "name": "stdout",
     "output_type": "stream",
     "text": [
      "====> Epoch: 29 Average train loss: 0.3486\n",
      "===> Epoch: 29 Average mae test loss for targetcol :3.1685\n",
      "===> Epoch: 29 Average mae test loss for targetcol: 3.0408\n",
      "====> Test set loss: 883.8982\n",
      "====> Epoch: 29 Average test loss: 0.0250\n"
     ]
    },
    {
     "name": "stderr",
     "output_type": "stream",
     "text": [
      "Train Epoch: 30 [105600/105870 (100%)]\tLoss: 0.223202: 100%|██████████| 3309/3309 [00:22<00:00, 148.57it/s]\n"
     ]
    },
    {
     "name": "stdout",
     "output_type": "stream",
     "text": [
      "====> Epoch: 30 Average train loss: 0.3486\n",
      "===> Epoch: 30 Average mae test loss for targetcol :3.1685\n",
      "===> Epoch: 30 Average mae test loss for targetcol: 2.8825\n",
      "====> Test set loss: 909.6643\n",
      "====> Epoch: 30 Average test loss: 0.0258\n"
     ]
    },
    {
     "name": "stderr",
     "output_type": "stream",
     "text": [
      "Train Epoch: 31 [105600/105870 (100%)]\tLoss: 0.417398: 100%|██████████| 3309/3309 [00:22<00:00, 146.48it/s]\n"
     ]
    },
    {
     "name": "stdout",
     "output_type": "stream",
     "text": [
      "====> Epoch: 31 Average train loss: 0.3487\n",
      "===> Epoch: 31 Average mae test loss for targetcol :3.1686\n",
      "===> Epoch: 31 Average mae test loss for targetcol: 3.0499\n",
      "====> Test set loss: 883.5225\n",
      "====> Epoch: 31 Average test loss: 0.0250\n"
     ]
    },
    {
     "name": "stderr",
     "output_type": "stream",
     "text": [
      "Train Epoch: 32 [105600/105870 (100%)]\tLoss: 0.435005: 100%|██████████| 3309/3309 [00:21<00:00, 155.41it/s]\n"
     ]
    },
    {
     "name": "stdout",
     "output_type": "stream",
     "text": [
      "====> Epoch: 32 Average train loss: 0.3485\n",
      "===> Epoch: 32 Average mae test loss for targetcol :3.1667\n",
      "===> Epoch: 32 Average mae test loss for targetcol: 2.9546\n",
      "====> Test set loss: 894.9630\n",
      "====> Epoch: 32 Average test loss: 0.0254\n"
     ]
    },
    {
     "name": "stderr",
     "output_type": "stream",
     "text": [
      "Train Epoch: 33 [105600/105870 (100%)]\tLoss: 0.389946: 100%|██████████| 3309/3309 [00:21<00:00, 154.25it/s]\n"
     ]
    },
    {
     "name": "stdout",
     "output_type": "stream",
     "text": [
      "====> Epoch: 33 Average train loss: 0.3487\n",
      "===> Epoch: 33 Average mae test loss for targetcol :3.1693\n",
      "===> Epoch: 33 Average mae test loss for targetcol: 3.1476\n",
      "====> Test set loss: 883.3592\n",
      "====> Epoch: 33 Average test loss: 0.0250\n"
     ]
    },
    {
     "name": "stderr",
     "output_type": "stream",
     "text": [
      "Train Epoch: 34 [105600/105870 (100%)]\tLoss: 0.318013: 100%|██████████| 3309/3309 [00:21<00:00, 154.94it/s]\n"
     ]
    },
    {
     "name": "stdout",
     "output_type": "stream",
     "text": [
      "====> Epoch: 34 Average train loss: 0.3486\n",
      "===> Epoch: 34 Average mae test loss for targetcol :3.1675\n",
      "===> Epoch: 34 Average mae test loss for targetcol: 3.1127\n",
      "====> Test set loss: 883.2561\n",
      "====> Epoch: 34 Average test loss: 0.0250\n"
     ]
    },
    {
     "name": "stderr",
     "output_type": "stream",
     "text": [
      "Train Epoch: 35 [105600/105870 (100%)]\tLoss: 0.337883: 100%|██████████| 3309/3309 [00:22<00:00, 149.27it/s]\n"
     ]
    },
    {
     "name": "stdout",
     "output_type": "stream",
     "text": [
      "====> Epoch: 35 Average train loss: 0.3485\n",
      "===> Epoch: 35 Average mae test loss for targetcol :3.1667\n",
      "===> Epoch: 35 Average mae test loss for targetcol: 2.9188\n",
      "====> Test set loss: 899.8441\n",
      "====> Epoch: 35 Average test loss: 0.0255\n"
     ]
    },
    {
     "name": "stderr",
     "output_type": "stream",
     "text": [
      "Train Epoch: 36 [105600/105870 (100%)]\tLoss: 0.385987: 100%|██████████| 3309/3309 [00:21<00:00, 154.92it/s]\n"
     ]
    },
    {
     "name": "stdout",
     "output_type": "stream",
     "text": [
      "====> Epoch: 36 Average train loss: 0.3487\n",
      "===> Epoch: 36 Average mae test loss for targetcol :3.1668\n",
      "===> Epoch: 36 Average mae test loss for targetcol: 3.0091\n",
      "====> Test set loss: 885.9868\n",
      "====> Epoch: 36 Average test loss: 0.0251\n"
     ]
    },
    {
     "name": "stderr",
     "output_type": "stream",
     "text": [
      "Train Epoch: 37 [105600/105870 (100%)]\tLoss: 0.280571: 100%|██████████| 3309/3309 [00:21<00:00, 151.24it/s]\n"
     ]
    },
    {
     "name": "stdout",
     "output_type": "stream",
     "text": [
      "====> Epoch: 37 Average train loss: 0.3485\n",
      "===> Epoch: 37 Average mae test loss for targetcol :3.1665\n",
      "===> Epoch: 37 Average mae test loss for targetcol: 2.9912\n",
      "====> Test set loss: 887.4390\n",
      "====> Epoch: 37 Average test loss: 0.0251\n"
     ]
    },
    {
     "name": "stderr",
     "output_type": "stream",
     "text": [
      "Train Epoch: 38 [105600/105870 (100%)]\tLoss: 0.598981: 100%|██████████| 3309/3309 [00:22<00:00, 147.15it/s]\n"
     ]
    },
    {
     "name": "stdout",
     "output_type": "stream",
     "text": [
      "====> Epoch: 38 Average train loss: 0.3486\n",
      "===> Epoch: 38 Average mae test loss for targetcol :3.1680\n",
      "===> Epoch: 38 Average mae test loss for targetcol: 3.2360\n",
      "====> Test set loss: 887.0073\n",
      "====> Epoch: 38 Average test loss: 0.0251\n"
     ]
    },
    {
     "name": "stderr",
     "output_type": "stream",
     "text": [
      "Train Epoch: 39 [105600/105870 (100%)]\tLoss: 0.298458: 100%|██████████| 3309/3309 [00:22<00:00, 148.49it/s]\n"
     ]
    },
    {
     "name": "stdout",
     "output_type": "stream",
     "text": [
      "====> Epoch: 39 Average train loss: 0.3486\n",
      "===> Epoch: 39 Average mae test loss for targetcol :3.1672\n",
      "===> Epoch: 39 Average mae test loss for targetcol: 3.0105\n",
      "====> Test set loss: 885.8167\n",
      "====> Epoch: 39 Average test loss: 0.0251\n"
     ]
    },
    {
     "name": "stderr",
     "output_type": "stream",
     "text": [
      "Train Epoch: 40 [105600/105870 (100%)]\tLoss: 0.316534: 100%|██████████| 3309/3309 [00:21<00:00, 150.81it/s]\n"
     ]
    },
    {
     "name": "stdout",
     "output_type": "stream",
     "text": [
      "====> Epoch: 40 Average train loss: 0.3486\n",
      "===> Epoch: 40 Average mae test loss for targetcol :3.1674\n",
      "===> Epoch: 40 Average mae test loss for targetcol: 2.9993\n",
      "====> Test set loss: 886.6801\n",
      "====> Epoch: 40 Average test loss: 0.0251\n"
     ]
    },
    {
     "name": "stderr",
     "output_type": "stream",
     "text": [
      "Train Epoch: 41 [105600/105870 (100%)]\tLoss: 0.292824: 100%|██████████| 3309/3309 [00:22<00:00, 149.30it/s]\n"
     ]
    },
    {
     "name": "stdout",
     "output_type": "stream",
     "text": [
      "====> Epoch: 41 Average train loss: 0.3485\n",
      "===> Epoch: 41 Average mae test loss for targetcol :3.1687\n",
      "===> Epoch: 41 Average mae test loss for targetcol: 3.0810\n",
      "====> Test set loss: 907.0969\n",
      "====> Epoch: 41 Average test loss: 0.0257\n"
     ]
    },
    {
     "name": "stderr",
     "output_type": "stream",
     "text": [
      "Train Epoch: 42 [105600/105870 (100%)]\tLoss: 0.308123: 100%|██████████| 3309/3309 [00:23<00:00, 142.98it/s]\n"
     ]
    },
    {
     "name": "stdout",
     "output_type": "stream",
     "text": [
      "====> Epoch: 42 Average train loss: 0.3487\n",
      "===> Epoch: 42 Average mae test loss for targetcol :3.1686\n",
      "===> Epoch: 42 Average mae test loss for targetcol: 3.1789\n",
      "====> Test set loss: 884.3717\n",
      "====> Epoch: 42 Average test loss: 0.0251\n"
     ]
    },
    {
     "name": "stderr",
     "output_type": "stream",
     "text": [
      "Train Epoch: 43 [105600/105870 (100%)]\tLoss: 0.357286: 100%|██████████| 3309/3309 [00:22<00:00, 149.54it/s]\n"
     ]
    },
    {
     "name": "stdout",
     "output_type": "stream",
     "text": [
      "====> Epoch: 43 Average train loss: 0.3486\n",
      "===> Epoch: 43 Average mae test loss for targetcol :3.1678\n",
      "===> Epoch: 43 Average mae test loss for targetcol: 2.9631\n",
      "====> Test set loss: 891.1508\n",
      "====> Epoch: 43 Average test loss: 0.0253\n"
     ]
    },
    {
     "name": "stderr",
     "output_type": "stream",
     "text": [
      "Train Epoch: 44 [105600/105870 (100%)]\tLoss: 0.360818: 100%|██████████| 3309/3309 [00:22<00:00, 149.26it/s]\n"
     ]
    },
    {
     "name": "stdout",
     "output_type": "stream",
     "text": [
      "====> Epoch: 44 Average train loss: 0.3487\n",
      "===> Epoch: 44 Average mae test loss for targetcol :3.1670\n",
      "===> Epoch: 44 Average mae test loss for targetcol: 2.9661\n",
      "====> Test set loss: 895.6210\n",
      "====> Epoch: 44 Average test loss: 0.0254\n"
     ]
    },
    {
     "name": "stderr",
     "output_type": "stream",
     "text": [
      "Train Epoch: 45 [105600/105870 (100%)]\tLoss: 0.362415: 100%|██████████| 3309/3309 [00:22<00:00, 146.65it/s]\n"
     ]
    },
    {
     "name": "stdout",
     "output_type": "stream",
     "text": [
      "====> Epoch: 45 Average train loss: 0.3486\n",
      "===> Epoch: 45 Average mae test loss for targetcol :3.1668\n",
      "===> Epoch: 45 Average mae test loss for targetcol: 2.9810\n",
      "====> Test set loss: 891.8952\n",
      "====> Epoch: 45 Average test loss: 0.0253\n"
     ]
    },
    {
     "name": "stderr",
     "output_type": "stream",
     "text": [
      "Train Epoch: 46 [105600/105870 (100%)]\tLoss: 0.373386: 100%|██████████| 3309/3309 [00:22<00:00, 147.71it/s]\n"
     ]
    },
    {
     "name": "stdout",
     "output_type": "stream",
     "text": [
      "====> Epoch: 46 Average train loss: 0.3486\n",
      "===> Epoch: 46 Average mae test loss for targetcol :3.1686\n",
      "===> Epoch: 46 Average mae test loss for targetcol: 3.0776\n",
      "====> Test set loss: 884.2016\n",
      "====> Epoch: 46 Average test loss: 0.0251\n"
     ]
    },
    {
     "name": "stderr",
     "output_type": "stream",
     "text": [
      "Train Epoch: 47 [105600/105870 (100%)]\tLoss: 0.303887: 100%|██████████| 3309/3309 [00:21<00:00, 151.10it/s]\n"
     ]
    },
    {
     "name": "stdout",
     "output_type": "stream",
     "text": [
      "====> Epoch: 47 Average train loss: 0.3485\n",
      "===> Epoch: 47 Average mae test loss for targetcol :3.1664\n",
      "===> Epoch: 47 Average mae test loss for targetcol: 3.0240\n",
      "====> Test set loss: 884.9048\n",
      "====> Epoch: 47 Average test loss: 0.0251\n"
     ]
    },
    {
     "name": "stderr",
     "output_type": "stream",
     "text": [
      "Train Epoch: 48 [105600/105870 (100%)]\tLoss: 0.241507: 100%|██████████| 3309/3309 [00:22<00:00, 149.02it/s]\n"
     ]
    },
    {
     "name": "stdout",
     "output_type": "stream",
     "text": [
      "====> Epoch: 48 Average train loss: 0.3485\n",
      "===> Epoch: 48 Average mae test loss for targetcol :3.1675\n",
      "===> Epoch: 48 Average mae test loss for targetcol: 3.0229\n",
      "====> Test set loss: 893.3939\n",
      "====> Epoch: 48 Average test loss: 0.0253\n"
     ]
    },
    {
     "name": "stderr",
     "output_type": "stream",
     "text": [
      "Train Epoch: 49 [105600/105870 (100%)]\tLoss: 0.227151: 100%|██████████| 3309/3309 [00:22<00:00, 145.67it/s]\n"
     ]
    },
    {
     "name": "stdout",
     "output_type": "stream",
     "text": [
      "====> Epoch: 49 Average train loss: 0.3486\n",
      "===> Epoch: 49 Average mae test loss for targetcol :3.1689\n"
     ]
    },
    {
     "name": "stderr",
     "output_type": "stream",
     "text": [
      "[I 2025-05-15 12:31:49,427] Trial 0 finished with value: 0.025190040321385825 and parameters: {'batch_size': 32, 'learning_rate': 0.007047646842180442, 'lambda': 0.9200533387376801}. Best is trial 0 with value: 0.025190040321385825.\n"
     ]
    },
    {
     "name": "stdout",
     "output_type": "stream",
     "text": [
      "===> Epoch: 49 Average mae test loss for targetcol: 2.9774\n",
      "====> Test set loss: 888.9565\n",
      "====> Epoch: 49 Average test loss: 0.0252\n",
      "🏃 View run nosy-boar-322 at: http://localhost:5000/#/experiments/4/runs/1b8a724fd8e947d3a6a3d64d5e00ef18\n",
      "🧪 View experiment at: http://localhost:5000/#/experiments/4\n"
     ]
    },
    {
     "name": "stderr",
     "output_type": "stream",
     "text": [
      "Train Epoch: 0 [104960/105870 (99%)]\tLoss: 0.977306: 100%|██████████| 828/828 [00:06<00:00, 136.38it/s]\n"
     ]
    },
    {
     "name": "stdout",
     "output_type": "stream",
     "text": [
      "====> Epoch: 0 Average train loss: 0.7995\n",
      "===> Epoch: 0 Average mae test loss for targetcol :3.2976\n",
      "===> Epoch: 0 Average mae test loss for targetcol: 3.1860\n",
      "====> Test set loss: 1599.1424\n",
      "====> Epoch: 0 Average test loss: 0.0453\n"
     ]
    },
    {
     "name": "stderr",
     "output_type": "stream",
     "text": [
      "Train Epoch: 1 [104960/105870 (99%)]\tLoss: 0.889128: 100%|██████████| 828/828 [00:05<00:00, 138.15it/s]\n"
     ]
    },
    {
     "name": "stdout",
     "output_type": "stream",
     "text": [
      "====> Epoch: 1 Average train loss: 0.7780\n",
      "===> Epoch: 1 Average mae test loss for targetcol :3.2172\n",
      "===> Epoch: 1 Average mae test loss for targetcol: 3.2428\n",
      "====> Test set loss: 1619.3741\n",
      "====> Epoch: 1 Average test loss: 0.0459\n"
     ]
    },
    {
     "name": "stderr",
     "output_type": "stream",
     "text": [
      "Train Epoch: 2 [104960/105870 (99%)]\tLoss: 0.660513: 100%|██████████| 828/828 [00:05<00:00, 144.00it/s]\n"
     ]
    },
    {
     "name": "stdout",
     "output_type": "stream",
     "text": [
      "====> Epoch: 2 Average train loss: 0.7761\n",
      "===> Epoch: 2 Average mae test loss for targetcol :3.2054\n",
      "===> Epoch: 2 Average mae test loss for targetcol: 2.9454\n",
      "====> Test set loss: 1569.1646\n",
      "====> Epoch: 2 Average test loss: 0.0445\n"
     ]
    },
    {
     "name": "stderr",
     "output_type": "stream",
     "text": [
      "Train Epoch: 3 [104960/105870 (99%)]\tLoss: 0.695890: 100%|██████████| 828/828 [00:05<00:00, 138.05it/s]\n"
     ]
    },
    {
     "name": "stdout",
     "output_type": "stream",
     "text": [
      "====> Epoch: 3 Average train loss: 0.7762\n",
      "===> Epoch: 3 Average mae test loss for targetcol :3.2003\n",
      "===> Epoch: 3 Average mae test loss for targetcol: 3.0340\n",
      "====> Test set loss: 2170.0962\n",
      "====> Epoch: 3 Average test loss: 0.0615\n"
     ]
    },
    {
     "name": "stderr",
     "output_type": "stream",
     "text": [
      "Train Epoch: 4 [104960/105870 (99%)]\tLoss: 0.798080: 100%|██████████| 828/828 [00:05<00:00, 138.06it/s]\n"
     ]
    },
    {
     "name": "stdout",
     "output_type": "stream",
     "text": [
      "====> Epoch: 4 Average train loss: 0.7742\n",
      "===> Epoch: 4 Average mae test loss for targetcol :3.1942\n",
      "===> Epoch: 4 Average mae test loss for targetcol: 3.0987\n",
      "====> Test set loss: 1879.5891\n",
      "====> Epoch: 4 Average test loss: 0.0533\n"
     ]
    },
    {
     "name": "stderr",
     "output_type": "stream",
     "text": [
      "Train Epoch: 5 [104960/105870 (99%)]\tLoss: 0.721900: 100%|██████████| 828/828 [00:05<00:00, 138.72it/s]\n"
     ]
    },
    {
     "name": "stdout",
     "output_type": "stream",
     "text": [
      "====> Epoch: 5 Average train loss: 0.7708\n",
      "===> Epoch: 5 Average mae test loss for targetcol :3.1925\n",
      "===> Epoch: 5 Average mae test loss for targetcol: 3.1608\n",
      "====> Test set loss: 1881.6250\n",
      "====> Epoch: 5 Average test loss: 0.0533\n"
     ]
    },
    {
     "name": "stderr",
     "output_type": "stream",
     "text": [
      "Train Epoch: 6 [104960/105870 (99%)]\tLoss: 0.772837: 100%|██████████| 828/828 [00:05<00:00, 140.94it/s]\n"
     ]
    },
    {
     "name": "stdout",
     "output_type": "stream",
     "text": [
      "====> Epoch: 6 Average train loss: 0.7710\n",
      "===> Epoch: 6 Average mae test loss for targetcol :3.1884\n",
      "===> Epoch: 6 Average mae test loss for targetcol: 2.9794\n",
      "====> Test set loss: 2164.8225\n",
      "====> Epoch: 6 Average test loss: 0.0613\n"
     ]
    },
    {
     "name": "stderr",
     "output_type": "stream",
     "text": [
      "Train Epoch: 7 [104960/105870 (99%)]\tLoss: 0.899436: 100%|██████████| 828/828 [00:05<00:00, 147.18it/s]\n"
     ]
    },
    {
     "name": "stdout",
     "output_type": "stream",
     "text": [
      "====> Epoch: 7 Average train loss: 0.7715\n",
      "===> Epoch: 7 Average mae test loss for targetcol :3.1885\n",
      "===> Epoch: 7 Average mae test loss for targetcol: 3.1863\n",
      "====> Test set loss: 2670.2208\n",
      "====> Epoch: 7 Average test loss: 0.0757\n"
     ]
    },
    {
     "name": "stderr",
     "output_type": "stream",
     "text": [
      "Train Epoch: 8 [104960/105870 (99%)]\tLoss: 0.777212: 100%|██████████| 828/828 [00:05<00:00, 144.43it/s]\n"
     ]
    },
    {
     "name": "stdout",
     "output_type": "stream",
     "text": [
      "====> Epoch: 8 Average train loss: 0.7667\n",
      "===> Epoch: 8 Average mae test loss for targetcol :3.1882\n",
      "===> Epoch: 8 Average mae test loss for targetcol: 2.9931\n",
      "====> Test set loss: 2778.6424\n",
      "====> Epoch: 8 Average test loss: 0.0787\n"
     ]
    },
    {
     "name": "stderr",
     "output_type": "stream",
     "text": [
      "Train Epoch: 9 [104960/105870 (99%)]\tLoss: 0.847269: 100%|██████████| 828/828 [00:05<00:00, 143.30it/s]\n"
     ]
    },
    {
     "name": "stdout",
     "output_type": "stream",
     "text": [
      "====> Epoch: 9 Average train loss: 0.7643\n",
      "===> Epoch: 9 Average mae test loss for targetcol :3.1839\n",
      "===> Epoch: 9 Average mae test loss for targetcol: 2.9934\n",
      "====> Test set loss: 3027.3867\n",
      "====> Epoch: 9 Average test loss: 0.0858\n"
     ]
    },
    {
     "name": "stderr",
     "output_type": "stream",
     "text": [
      "Train Epoch: 10 [104960/105870 (99%)]\tLoss: 0.820129: 100%|██████████| 828/828 [00:05<00:00, 145.17it/s]\n"
     ]
    },
    {
     "name": "stdout",
     "output_type": "stream",
     "text": [
      "====> Epoch: 10 Average train loss: 0.7612\n",
      "===> Epoch: 10 Average mae test loss for targetcol :3.1836\n",
      "===> Epoch: 10 Average mae test loss for targetcol: 3.1041\n",
      "====> Test set loss: 2808.1591\n",
      "====> Epoch: 10 Average test loss: 0.0796\n"
     ]
    },
    {
     "name": "stderr",
     "output_type": "stream",
     "text": [
      "Train Epoch: 11 [104960/105870 (99%)]\tLoss: 0.797577: 100%|██████████| 828/828 [00:05<00:00, 145.84it/s]\n"
     ]
    },
    {
     "name": "stdout",
     "output_type": "stream",
     "text": [
      "====> Epoch: 11 Average train loss: 0.7604\n",
      "===> Epoch: 11 Average mae test loss for targetcol :3.1811\n",
      "===> Epoch: 11 Average mae test loss for targetcol: 3.0516\n",
      "====> Test set loss: 3378.5559\n",
      "====> Epoch: 11 Average test loss: 0.0957\n"
     ]
    },
    {
     "name": "stderr",
     "output_type": "stream",
     "text": [
      "Train Epoch: 12 [104960/105870 (99%)]\tLoss: 0.898553: 100%|██████████| 828/828 [00:05<00:00, 141.06it/s]\n"
     ]
    },
    {
     "name": "stdout",
     "output_type": "stream",
     "text": [
      "====> Epoch: 12 Average train loss: 0.7644\n",
      "===> Epoch: 12 Average mae test loss for targetcol :3.1798\n",
      "===> Epoch: 12 Average mae test loss for targetcol: 3.0905\n",
      "====> Test set loss: 2909.4995\n",
      "====> Epoch: 12 Average test loss: 0.0824\n"
     ]
    },
    {
     "name": "stderr",
     "output_type": "stream",
     "text": [
      "Train Epoch: 13 [104960/105870 (99%)]\tLoss: 0.656726: 100%|██████████| 828/828 [00:05<00:00, 144.13it/s]\n"
     ]
    },
    {
     "name": "stdout",
     "output_type": "stream",
     "text": [
      "====> Epoch: 13 Average train loss: 0.7621\n",
      "===> Epoch: 13 Average mae test loss for targetcol :3.1780\n",
      "===> Epoch: 13 Average mae test loss for targetcol: 2.9500\n",
      "====> Test set loss: 2698.8625\n",
      "====> Epoch: 13 Average test loss: 0.0765\n"
     ]
    },
    {
     "name": "stderr",
     "output_type": "stream",
     "text": [
      "Train Epoch: 14 [104960/105870 (99%)]\tLoss: 0.812204: 100%|██████████| 828/828 [00:05<00:00, 143.85it/s]\n"
     ]
    },
    {
     "name": "stdout",
     "output_type": "stream",
     "text": [
      "====> Epoch: 14 Average train loss: 0.7610\n",
      "===> Epoch: 14 Average mae test loss for targetcol :3.1762\n",
      "===> Epoch: 14 Average mae test loss for targetcol: 2.9904\n",
      "====> Test set loss: 3220.0324\n",
      "====> Epoch: 14 Average test loss: 0.0912\n"
     ]
    },
    {
     "name": "stderr",
     "output_type": "stream",
     "text": [
      "Train Epoch: 15 [104960/105870 (99%)]\tLoss: 0.749074: 100%|██████████| 828/828 [00:05<00:00, 144.85it/s]\n"
     ]
    },
    {
     "name": "stdout",
     "output_type": "stream",
     "text": [
      "====> Epoch: 15 Average train loss: 0.7594\n",
      "===> Epoch: 15 Average mae test loss for targetcol :3.1758\n",
      "===> Epoch: 15 Average mae test loss for targetcol: 3.1399\n",
      "====> Test set loss: 3054.8452\n",
      "====> Epoch: 15 Average test loss: 0.0866\n"
     ]
    },
    {
     "name": "stderr",
     "output_type": "stream",
     "text": [
      "Train Epoch: 16 [104960/105870 (99%)]\tLoss: 0.796980: 100%|██████████| 828/828 [00:05<00:00, 145.22it/s]\n"
     ]
    },
    {
     "name": "stdout",
     "output_type": "stream",
     "text": [
      "====> Epoch: 16 Average train loss: 0.7619\n",
      "===> Epoch: 16 Average mae test loss for targetcol :3.1753\n",
      "===> Epoch: 16 Average mae test loss for targetcol: 2.9784\n",
      "====> Test set loss: 3465.0569\n",
      "====> Epoch: 16 Average test loss: 0.0982\n"
     ]
    },
    {
     "name": "stderr",
     "output_type": "stream",
     "text": [
      "Train Epoch: 17 [104960/105870 (99%)]\tLoss: 0.728084: 100%|██████████| 828/828 [00:05<00:00, 143.75it/s]\n"
     ]
    },
    {
     "name": "stdout",
     "output_type": "stream",
     "text": [
      "====> Epoch: 17 Average train loss: 0.7586\n",
      "===> Epoch: 17 Average mae test loss for targetcol :3.1721\n",
      "===> Epoch: 17 Average mae test loss for targetcol: 3.0120\n",
      "====> Test set loss: 3190.5237\n",
      "====> Epoch: 17 Average test loss: 0.0904\n"
     ]
    },
    {
     "name": "stderr",
     "output_type": "stream",
     "text": [
      "Train Epoch: 18 [104960/105870 (99%)]\tLoss: 0.756667: 100%|██████████| 828/828 [00:05<00:00, 143.38it/s]\n"
     ]
    },
    {
     "name": "stdout",
     "output_type": "stream",
     "text": [
      "====> Epoch: 18 Average train loss: 0.7607\n",
      "===> Epoch: 18 Average mae test loss for targetcol :3.1759\n",
      "===> Epoch: 18 Average mae test loss for targetcol: 3.1230\n",
      "====> Test set loss: 3046.6304\n",
      "====> Epoch: 18 Average test loss: 0.0863\n"
     ]
    },
    {
     "name": "stderr",
     "output_type": "stream",
     "text": [
      "Train Epoch: 19 [104960/105870 (99%)]\tLoss: 0.786241: 100%|██████████| 828/828 [00:05<00:00, 143.85it/s]\n"
     ]
    },
    {
     "name": "stdout",
     "output_type": "stream",
     "text": [
      "====> Epoch: 19 Average train loss: 0.7621\n",
      "===> Epoch: 19 Average mae test loss for targetcol :3.1727\n",
      "===> Epoch: 19 Average mae test loss for targetcol: 2.9765\n",
      "====> Test set loss: 3046.2363\n",
      "====> Epoch: 19 Average test loss: 0.0863\n"
     ]
    },
    {
     "name": "stderr",
     "output_type": "stream",
     "text": [
      "Train Epoch: 20 [104960/105870 (99%)]\tLoss: 0.633949: 100%|██████████| 828/828 [00:05<00:00, 150.55it/s]\n"
     ]
    },
    {
     "name": "stdout",
     "output_type": "stream",
     "text": [
      "====> Epoch: 20 Average train loss: 0.7635\n",
      "===> Epoch: 20 Average mae test loss for targetcol :3.1730\n",
      "===> Epoch: 20 Average mae test loss for targetcol: 3.1139\n",
      "====> Test set loss: 3083.4292\n",
      "====> Epoch: 20 Average test loss: 0.0874\n"
     ]
    },
    {
     "name": "stderr",
     "output_type": "stream",
     "text": [
      "Train Epoch: 21 [104960/105870 (99%)]\tLoss: 0.696950: 100%|██████████| 828/828 [00:05<00:00, 141.68it/s]\n"
     ]
    },
    {
     "name": "stdout",
     "output_type": "stream",
     "text": [
      "====> Epoch: 21 Average train loss: 0.7594\n",
      "===> Epoch: 21 Average mae test loss for targetcol :3.1720\n",
      "===> Epoch: 21 Average mae test loss for targetcol: 2.9652\n",
      "====> Test set loss: 3325.3480\n",
      "====> Epoch: 21 Average test loss: 0.0942\n"
     ]
    },
    {
     "name": "stderr",
     "output_type": "stream",
     "text": [
      "Train Epoch: 22 [104960/105870 (99%)]\tLoss: 0.752495: 100%|██████████| 828/828 [00:05<00:00, 141.26it/s]\n"
     ]
    },
    {
     "name": "stdout",
     "output_type": "stream",
     "text": [
      "====> Epoch: 22 Average train loss: 0.7610\n",
      "===> Epoch: 22 Average mae test loss for targetcol :3.1707\n",
      "===> Epoch: 22 Average mae test loss for targetcol: 3.0425\n",
      "====> Test set loss: 3062.9249\n",
      "====> Epoch: 22 Average test loss: 0.0868\n"
     ]
    },
    {
     "name": "stderr",
     "output_type": "stream",
     "text": [
      "Train Epoch: 23 [104960/105870 (99%)]\tLoss: 0.606492: 100%|██████████| 828/828 [00:05<00:00, 141.50it/s]\n"
     ]
    },
    {
     "name": "stdout",
     "output_type": "stream",
     "text": [
      "====> Epoch: 23 Average train loss: 0.7566\n",
      "===> Epoch: 23 Average mae test loss for targetcol :3.1717\n",
      "===> Epoch: 23 Average mae test loss for targetcol: 3.0349\n",
      "====> Test set loss: 2861.8939\n",
      "====> Epoch: 23 Average test loss: 0.0811\n"
     ]
    },
    {
     "name": "stderr",
     "output_type": "stream",
     "text": [
      "Train Epoch: 24 [104960/105870 (99%)]\tLoss: 0.774122: 100%|██████████| 828/828 [00:05<00:00, 140.33it/s]\n"
     ]
    },
    {
     "name": "stdout",
     "output_type": "stream",
     "text": [
      "====> Epoch: 24 Average train loss: 0.7594\n",
      "===> Epoch: 24 Average mae test loss for targetcol :3.1700\n",
      "===> Epoch: 24 Average mae test loss for targetcol: 3.0181\n",
      "====> Test set loss: 2824.8782\n",
      "====> Epoch: 24 Average test loss: 0.0800\n"
     ]
    },
    {
     "name": "stderr",
     "output_type": "stream",
     "text": [
      "Train Epoch: 25 [104960/105870 (99%)]\tLoss: 0.659934: 100%|██████████| 828/828 [00:06<00:00, 126.07it/s]\n"
     ]
    },
    {
     "name": "stdout",
     "output_type": "stream",
     "text": [
      "====> Epoch: 25 Average train loss: 0.7600\n",
      "===> Epoch: 25 Average mae test loss for targetcol :3.1732\n",
      "===> Epoch: 25 Average mae test loss for targetcol: 3.0452\n",
      "====> Test set loss: 3067.1414\n",
      "====> Epoch: 25 Average test loss: 0.0869\n"
     ]
    },
    {
     "name": "stderr",
     "output_type": "stream",
     "text": [
      "Train Epoch: 26 [104960/105870 (99%)]\tLoss: 0.794270: 100%|██████████| 828/828 [00:06<00:00, 136.51it/s]\n"
     ]
    },
    {
     "name": "stdout",
     "output_type": "stream",
     "text": [
      "====> Epoch: 26 Average train loss: 0.7603\n",
      "===> Epoch: 26 Average mae test loss for targetcol :3.1704\n",
      "===> Epoch: 26 Average mae test loss for targetcol: 2.9723\n",
      "====> Test set loss: 3043.5248\n",
      "====> Epoch: 26 Average test loss: 0.0862\n"
     ]
    },
    {
     "name": "stderr",
     "output_type": "stream",
     "text": [
      "Train Epoch: 27 [104960/105870 (99%)]\tLoss: 0.774712: 100%|██████████| 828/828 [00:05<00:00, 140.96it/s]\n"
     ]
    },
    {
     "name": "stdout",
     "output_type": "stream",
     "text": [
      "====> Epoch: 27 Average train loss: 0.7608\n",
      "===> Epoch: 27 Average mae test loss for targetcol :3.1709\n",
      "===> Epoch: 27 Average mae test loss for targetcol: 3.0078\n",
      "====> Test set loss: 2805.4828\n",
      "====> Epoch: 27 Average test loss: 0.0795\n"
     ]
    },
    {
     "name": "stderr",
     "output_type": "stream",
     "text": [
      "Train Epoch: 28 [104960/105870 (99%)]\tLoss: 0.815786: 100%|██████████| 828/828 [00:05<00:00, 139.04it/s]\n"
     ]
    },
    {
     "name": "stdout",
     "output_type": "stream",
     "text": [
      "====> Epoch: 28 Average train loss: 0.7624\n",
      "===> Epoch: 28 Average mae test loss for targetcol :3.1706\n",
      "===> Epoch: 28 Average mae test loss for targetcol: 3.0702\n",
      "====> Test set loss: 2806.8725\n",
      "====> Epoch: 28 Average test loss: 0.0795\n"
     ]
    },
    {
     "name": "stderr",
     "output_type": "stream",
     "text": [
      "Train Epoch: 29 [104960/105870 (99%)]\tLoss: 0.693353: 100%|██████████| 828/828 [00:05<00:00, 139.64it/s]\n"
     ]
    },
    {
     "name": "stdout",
     "output_type": "stream",
     "text": [
      "====> Epoch: 29 Average train loss: 0.7611\n",
      "===> Epoch: 29 Average mae test loss for targetcol :3.1706\n",
      "===> Epoch: 29 Average mae test loss for targetcol: 3.0417\n",
      "====> Test set loss: 2905.7514\n",
      "====> Epoch: 29 Average test loss: 0.0823\n"
     ]
    },
    {
     "name": "stderr",
     "output_type": "stream",
     "text": [
      "Train Epoch: 30 [104960/105870 (99%)]\tLoss: 0.880425: 100%|██████████| 828/828 [00:05<00:00, 142.14it/s]\n"
     ]
    },
    {
     "name": "stdout",
     "output_type": "stream",
     "text": [
      "====> Epoch: 30 Average train loss: 0.7618\n",
      "===> Epoch: 30 Average mae test loss for targetcol :3.1720\n",
      "===> Epoch: 30 Average mae test loss for targetcol: 3.1202\n",
      "====> Test set loss: 2979.9355\n",
      "====> Epoch: 30 Average test loss: 0.0844\n"
     ]
    },
    {
     "name": "stderr",
     "output_type": "stream",
     "text": [
      "Train Epoch: 31 [104960/105870 (99%)]\tLoss: 0.926898: 100%|██████████| 828/828 [00:05<00:00, 141.00it/s]\n"
     ]
    },
    {
     "name": "stdout",
     "output_type": "stream",
     "text": [
      "====> Epoch: 31 Average train loss: 0.7601\n",
      "===> Epoch: 31 Average mae test loss for targetcol :3.1689\n",
      "===> Epoch: 31 Average mae test loss for targetcol: 3.0054\n",
      "====> Test set loss: 3216.0027\n",
      "====> Epoch: 31 Average test loss: 0.0911\n"
     ]
    },
    {
     "name": "stderr",
     "output_type": "stream",
     "text": [
      "Train Epoch: 32 [104960/105870 (99%)]\tLoss: 0.694067: 100%|██████████| 828/828 [00:05<00:00, 142.32it/s]\n"
     ]
    },
    {
     "name": "stdout",
     "output_type": "stream",
     "text": [
      "====> Epoch: 32 Average train loss: 0.7624\n",
      "===> Epoch: 32 Average mae test loss for targetcol :3.1704\n",
      "===> Epoch: 32 Average mae test loss for targetcol: 3.0953\n",
      "====> Test set loss: 2902.1420\n",
      "====> Epoch: 32 Average test loss: 0.0822\n"
     ]
    },
    {
     "name": "stderr",
     "output_type": "stream",
     "text": [
      "Train Epoch: 33 [104960/105870 (99%)]\tLoss: 0.825184: 100%|██████████| 828/828 [00:05<00:00, 140.06it/s]\n"
     ]
    },
    {
     "name": "stdout",
     "output_type": "stream",
     "text": [
      "====> Epoch: 33 Average train loss: 0.7609\n",
      "===> Epoch: 33 Average mae test loss for targetcol :3.1685\n",
      "===> Epoch: 33 Average mae test loss for targetcol: 2.9430\n",
      "====> Test set loss: 2910.6218\n",
      "====> Epoch: 33 Average test loss: 0.0825\n"
     ]
    },
    {
     "name": "stderr",
     "output_type": "stream",
     "text": [
      "Train Epoch: 34 [104960/105870 (99%)]\tLoss: 0.668053: 100%|██████████| 828/828 [00:06<00:00, 130.29it/s]\n"
     ]
    },
    {
     "name": "stdout",
     "output_type": "stream",
     "text": [
      "====> Epoch: 34 Average train loss: 0.7600\n",
      "===> Epoch: 34 Average mae test loss for targetcol :3.1702\n",
      "===> Epoch: 34 Average mae test loss for targetcol: 2.9652\n",
      "====> Test set loss: 2720.6731\n",
      "====> Epoch: 34 Average test loss: 0.0771\n"
     ]
    },
    {
     "name": "stderr",
     "output_type": "stream",
     "text": [
      "Train Epoch: 35 [104960/105870 (99%)]\tLoss: 0.842546: 100%|██████████| 828/828 [00:06<00:00, 134.11it/s]\n"
     ]
    },
    {
     "name": "stdout",
     "output_type": "stream",
     "text": [
      "====> Epoch: 35 Average train loss: 0.7615\n",
      "===> Epoch: 35 Average mae test loss for targetcol :3.1696\n",
      "===> Epoch: 35 Average mae test loss for targetcol: 2.9855\n",
      "====> Test set loss: 2925.5885\n",
      "====> Epoch: 35 Average test loss: 0.0829\n"
     ]
    },
    {
     "name": "stderr",
     "output_type": "stream",
     "text": [
      "Train Epoch: 36 [104960/105870 (99%)]\tLoss: 0.730052: 100%|██████████| 828/828 [00:05<00:00, 141.54it/s]\n"
     ]
    },
    {
     "name": "stdout",
     "output_type": "stream",
     "text": [
      "====> Epoch: 36 Average train loss: 0.7579\n",
      "===> Epoch: 36 Average mae test loss for targetcol :3.1677\n",
      "===> Epoch: 36 Average mae test loss for targetcol: 2.9847\n",
      "====> Test set loss: 3019.7095\n",
      "====> Epoch: 36 Average test loss: 0.0856\n"
     ]
    },
    {
     "name": "stderr",
     "output_type": "stream",
     "text": [
      "Train Epoch: 37 [104960/105870 (99%)]\tLoss: 0.704175: 100%|██████████| 828/828 [00:05<00:00, 145.30it/s]\n"
     ]
    },
    {
     "name": "stdout",
     "output_type": "stream",
     "text": [
      "====> Epoch: 37 Average train loss: 0.7600\n",
      "===> Epoch: 37 Average mae test loss for targetcol :3.1686\n",
      "===> Epoch: 37 Average mae test loss for targetcol: 3.0369\n",
      "====> Test set loss: 3115.4590\n",
      "====> Epoch: 37 Average test loss: 0.0883\n"
     ]
    },
    {
     "name": "stderr",
     "output_type": "stream",
     "text": [
      "Train Epoch: 38 [104960/105870 (99%)]\tLoss: 0.774093: 100%|██████████| 828/828 [00:05<00:00, 139.77it/s]\n"
     ]
    },
    {
     "name": "stdout",
     "output_type": "stream",
     "text": [
      "====> Epoch: 38 Average train loss: 0.7606\n",
      "===> Epoch: 38 Average mae test loss for targetcol :3.1692\n",
      "===> Epoch: 38 Average mae test loss for targetcol: 3.0014\n",
      "====> Test set loss: 2880.5910\n",
      "====> Epoch: 38 Average test loss: 0.0816\n"
     ]
    },
    {
     "name": "stderr",
     "output_type": "stream",
     "text": [
      "Train Epoch: 39 [104960/105870 (99%)]\tLoss: 0.672040: 100%|██████████| 828/828 [00:05<00:00, 139.21it/s]\n"
     ]
    },
    {
     "name": "stdout",
     "output_type": "stream",
     "text": [
      "====> Epoch: 39 Average train loss: 0.7602\n",
      "===> Epoch: 39 Average mae test loss for targetcol :3.1700\n",
      "===> Epoch: 39 Average mae test loss for targetcol: 3.0798\n",
      "====> Test set loss: 3166.3663\n",
      "====> Epoch: 39 Average test loss: 0.0897\n"
     ]
    },
    {
     "name": "stderr",
     "output_type": "stream",
     "text": [
      "Train Epoch: 40 [104960/105870 (99%)]\tLoss: 0.667888: 100%|██████████| 828/828 [00:05<00:00, 138.01it/s]\n"
     ]
    },
    {
     "name": "stdout",
     "output_type": "stream",
     "text": [
      "====> Epoch: 40 Average train loss: 0.7601\n",
      "===> Epoch: 40 Average mae test loss for targetcol :3.1693\n",
      "===> Epoch: 40 Average mae test loss for targetcol: 2.9561\n",
      "====> Test set loss: 3068.9972\n",
      "====> Epoch: 40 Average test loss: 0.0870\n"
     ]
    },
    {
     "name": "stderr",
     "output_type": "stream",
     "text": [
      "Train Epoch: 41 [104960/105870 (99%)]\tLoss: 0.801737: 100%|██████████| 828/828 [00:06<00:00, 137.58it/s]\n"
     ]
    },
    {
     "name": "stdout",
     "output_type": "stream",
     "text": [
      "====> Epoch: 41 Average train loss: 0.7595\n",
      "===> Epoch: 41 Average mae test loss for targetcol :3.1696\n",
      "===> Epoch: 41 Average mae test loss for targetcol: 3.0390\n",
      "====> Test set loss: 3032.0908\n",
      "====> Epoch: 41 Average test loss: 0.0859\n"
     ]
    },
    {
     "name": "stderr",
     "output_type": "stream",
     "text": [
      "Train Epoch: 42 [104960/105870 (99%)]\tLoss: 0.833722: 100%|██████████| 828/828 [00:05<00:00, 138.76it/s]\n"
     ]
    },
    {
     "name": "stdout",
     "output_type": "stream",
     "text": [
      "====> Epoch: 42 Average train loss: 0.7594\n",
      "===> Epoch: 42 Average mae test loss for targetcol :3.1695\n",
      "===> Epoch: 42 Average mae test loss for targetcol: 3.1049\n",
      "====> Test set loss: 2954.7444\n",
      "====> Epoch: 42 Average test loss: 0.0837\n"
     ]
    },
    {
     "name": "stderr",
     "output_type": "stream",
     "text": [
      "Train Epoch: 43 [104960/105870 (99%)]\tLoss: 0.765788: 100%|██████████| 828/828 [00:06<00:00, 136.36it/s]\n"
     ]
    },
    {
     "name": "stdout",
     "output_type": "stream",
     "text": [
      "====> Epoch: 43 Average train loss: 0.7618\n",
      "===> Epoch: 43 Average mae test loss for targetcol :3.1685\n",
      "===> Epoch: 43 Average mae test loss for targetcol: 3.0039\n",
      "====> Test set loss: 3229.6305\n",
      "====> Epoch: 43 Average test loss: 0.0915\n"
     ]
    },
    {
     "name": "stderr",
     "output_type": "stream",
     "text": [
      "Train Epoch: 44 [104960/105870 (99%)]\tLoss: 0.634457: 100%|██████████| 828/828 [00:05<00:00, 139.08it/s]\n"
     ]
    },
    {
     "name": "stdout",
     "output_type": "stream",
     "text": [
      "====> Epoch: 44 Average train loss: 0.7598\n",
      "===> Epoch: 44 Average mae test loss for targetcol :3.1693\n",
      "===> Epoch: 44 Average mae test loss for targetcol: 3.0015\n",
      "====> Test set loss: 3250.9566\n",
      "====> Epoch: 44 Average test loss: 0.0921\n"
     ]
    },
    {
     "name": "stderr",
     "output_type": "stream",
     "text": [
      "Train Epoch: 45 [104960/105870 (99%)]\tLoss: 0.886799: 100%|██████████| 828/828 [00:05<00:00, 138.07it/s]\n"
     ]
    },
    {
     "name": "stdout",
     "output_type": "stream",
     "text": [
      "====> Epoch: 45 Average train loss: 0.7603\n",
      "===> Epoch: 45 Average mae test loss for targetcol :3.1684\n",
      "===> Epoch: 45 Average mae test loss for targetcol: 3.0507\n",
      "====> Test set loss: 3157.2165\n",
      "====> Epoch: 45 Average test loss: 0.0895\n"
     ]
    },
    {
     "name": "stderr",
     "output_type": "stream",
     "text": [
      "Train Epoch: 46 [104960/105870 (99%)]\tLoss: 0.818399: 100%|██████████| 828/828 [00:05<00:00, 140.61it/s]\n"
     ]
    },
    {
     "name": "stdout",
     "output_type": "stream",
     "text": [
      "====> Epoch: 46 Average train loss: 0.7620\n",
      "===> Epoch: 46 Average mae test loss for targetcol :3.1686\n",
      "===> Epoch: 46 Average mae test loss for targetcol: 3.0202\n",
      "====> Test set loss: 3017.2717\n",
      "====> Epoch: 46 Average test loss: 0.0855\n"
     ]
    },
    {
     "name": "stderr",
     "output_type": "stream",
     "text": [
      "Train Epoch: 47 [104960/105870 (99%)]\tLoss: 0.744574: 100%|██████████| 828/828 [00:06<00:00, 137.99it/s]\n"
     ]
    },
    {
     "name": "stdout",
     "output_type": "stream",
     "text": [
      "====> Epoch: 47 Average train loss: 0.7600\n",
      "===> Epoch: 47 Average mae test loss for targetcol :3.1693\n",
      "===> Epoch: 47 Average mae test loss for targetcol: 2.9651\n",
      "====> Test set loss: 2940.4233\n",
      "====> Epoch: 47 Average test loss: 0.0833\n"
     ]
    },
    {
     "name": "stderr",
     "output_type": "stream",
     "text": [
      "Train Epoch: 48 [104960/105870 (99%)]\tLoss: 0.803571: 100%|██████████| 828/828 [00:05<00:00, 138.41it/s]\n"
     ]
    },
    {
     "name": "stdout",
     "output_type": "stream",
     "text": [
      "====> Epoch: 48 Average train loss: 0.7595\n",
      "===> Epoch: 48 Average mae test loss for targetcol :3.1679\n",
      "===> Epoch: 48 Average mae test loss for targetcol: 3.0053\n",
      "====> Test set loss: 3119.4954\n",
      "====> Epoch: 48 Average test loss: 0.0884\n"
     ]
    },
    {
     "name": "stderr",
     "output_type": "stream",
     "text": [
      "Train Epoch: 49 [104960/105870 (99%)]\tLoss: 0.724257: 100%|██████████| 828/828 [00:06<00:00, 135.12it/s]\n"
     ]
    },
    {
     "name": "stdout",
     "output_type": "stream",
     "text": [
      "====> Epoch: 49 Average train loss: 0.7592\n",
      "===> Epoch: 49 Average mae test loss for targetcol :3.1694\n"
     ]
    },
    {
     "name": "stderr",
     "output_type": "stream",
     "text": [
      "[I 2025-05-15 12:37:29,667] Trial 1 finished with value: 0.08613426192822217 and parameters: {'batch_size': 128, 'learning_rate': 0.0005938423605228238, 'lambda': 0.814896555372868}. Best is trial 0 with value: 0.025190040321385825.\n"
     ]
    },
    {
     "name": "stdout",
     "output_type": "stream",
     "text": [
      "===> Epoch: 49 Average mae test loss for targetcol: 3.0521\n",
      "====> Test set loss: 3039.6781\n",
      "====> Epoch: 49 Average test loss: 0.0861\n",
      "🏃 View run treasured-bass-930 at: http://localhost:5000/#/experiments/4/runs/dbceb5cb325a493a9698e6bcdd05233b\n",
      "🧪 View experiment at: http://localhost:5000/#/experiments/4\n"
     ]
    },
    {
     "name": "stderr",
     "output_type": "stream",
     "text": [
      "Train Epoch: 0 [105600/105870 (100%)]\tLoss: 1.306000: 100%|██████████| 1103/1103 [00:08<00:00, 136.67it/s]\n"
     ]
    },
    {
     "name": "stdout",
     "output_type": "stream",
     "text": [
      "====> Epoch: 0 Average train loss: 1.9348\n",
      "===> Epoch: 0 Average mae test loss for targetcol :4.3785\n",
      "===> Epoch: 0 Average mae test loss for targetcol: 3.9387\n",
      "====> Test set loss: 2256.5760\n",
      "====> Epoch: 0 Average test loss: 0.0639\n"
     ]
    },
    {
     "name": "stderr",
     "output_type": "stream",
     "text": [
      "Train Epoch: 1 [105600/105870 (100%)]\tLoss: 1.175817: 100%|██████████| 1103/1103 [00:07<00:00, 138.06it/s]\n"
     ]
    },
    {
     "name": "stdout",
     "output_type": "stream",
     "text": [
      "====> Epoch: 1 Average train loss: 1.2448\n",
      "===> Epoch: 1 Average mae test loss for targetcol :3.7500\n",
      "===> Epoch: 1 Average mae test loss for targetcol: 3.5884\n",
      "====> Test set loss: 1577.4419\n",
      "====> Epoch: 1 Average test loss: 0.0447\n"
     ]
    },
    {
     "name": "stderr",
     "output_type": "stream",
     "text": [
      "Train Epoch: 2 [105600/105870 (100%)]\tLoss: 1.141222: 100%|██████████| 1103/1103 [00:07<00:00, 141.70it/s]\n"
     ]
    },
    {
     "name": "stdout",
     "output_type": "stream",
     "text": [
      "====> Epoch: 2 Average train loss: 1.1124\n",
      "===> Epoch: 2 Average mae test loss for targetcol :3.5816\n",
      "===> Epoch: 2 Average mae test loss for targetcol: 3.5223\n",
      "====> Test set loss: 1474.2800\n",
      "====> Epoch: 2 Average test loss: 0.0418\n"
     ]
    },
    {
     "name": "stderr",
     "output_type": "stream",
     "text": [
      "Train Epoch: 3 [105600/105870 (100%)]\tLoss: 1.129156: 100%|██████████| 1103/1103 [00:07<00:00, 147.81it/s]\n"
     ]
    },
    {
     "name": "stdout",
     "output_type": "stream",
     "text": [
      "====> Epoch: 3 Average train loss: 1.0809\n",
      "===> Epoch: 3 Average mae test loss for targetcol :3.5373\n",
      "===> Epoch: 3 Average mae test loss for targetcol: 3.4956\n",
      "====> Test set loss: 1436.4932\n",
      "====> Epoch: 3 Average test loss: 0.0407\n"
     ]
    },
    {
     "name": "stderr",
     "output_type": "stream",
     "text": [
      "Train Epoch: 4 [105600/105870 (100%)]\tLoss: 1.194601: 100%|██████████| 1103/1103 [00:07<00:00, 148.55it/s]\n"
     ]
    },
    {
     "name": "stdout",
     "output_type": "stream",
     "text": [
      "====> Epoch: 4 Average train loss: 1.0680\n",
      "===> Epoch: 4 Average mae test loss for targetcol :3.5025\n",
      "===> Epoch: 4 Average mae test loss for targetcol: 3.4503\n",
      "====> Test set loss: 1409.0720\n",
      "====> Epoch: 4 Average test loss: 0.0399\n"
     ]
    },
    {
     "name": "stderr",
     "output_type": "stream",
     "text": [
      "Train Epoch: 5 [105600/105870 (100%)]\tLoss: 1.009305: 100%|██████████| 1103/1103 [00:07<00:00, 147.25it/s]\n"
     ]
    },
    {
     "name": "stdout",
     "output_type": "stream",
     "text": [
      "====> Epoch: 5 Average train loss: 1.0597\n",
      "===> Epoch: 5 Average mae test loss for targetcol :3.4811\n",
      "===> Epoch: 5 Average mae test loss for targetcol: 3.4396\n",
      "====> Test set loss: 1429.5263\n",
      "====> Epoch: 5 Average test loss: 0.0405\n"
     ]
    },
    {
     "name": "stderr",
     "output_type": "stream",
     "text": [
      "Train Epoch: 6 [105600/105870 (100%)]\tLoss: 0.922369: 100%|██████████| 1103/1103 [00:07<00:00, 148.04it/s]\n"
     ]
    },
    {
     "name": "stdout",
     "output_type": "stream",
     "text": [
      "====> Epoch: 6 Average train loss: 1.0549\n",
      "===> Epoch: 6 Average mae test loss for targetcol :3.4564\n",
      "===> Epoch: 6 Average mae test loss for targetcol: 3.4002\n",
      "====> Test set loss: 1437.5665\n",
      "====> Epoch: 6 Average test loss: 0.0407\n"
     ]
    },
    {
     "name": "stderr",
     "output_type": "stream",
     "text": [
      "Train Epoch: 7 [105600/105870 (100%)]\tLoss: 1.264520: 100%|██████████| 1103/1103 [00:07<00:00, 144.12it/s]\n"
     ]
    },
    {
     "name": "stdout",
     "output_type": "stream",
     "text": [
      "====> Epoch: 7 Average train loss: 1.0509\n",
      "===> Epoch: 7 Average mae test loss for targetcol :3.4286\n",
      "===> Epoch: 7 Average mae test loss for targetcol: 3.3846\n",
      "====> Test set loss: 1462.5055\n",
      "====> Epoch: 7 Average test loss: 0.0414\n"
     ]
    },
    {
     "name": "stderr",
     "output_type": "stream",
     "text": [
      "Train Epoch: 8 [105600/105870 (100%)]\tLoss: 1.097687: 100%|██████████| 1103/1103 [00:07<00:00, 146.90it/s]\n"
     ]
    },
    {
     "name": "stdout",
     "output_type": "stream",
     "text": [
      "====> Epoch: 8 Average train loss: 1.0490\n",
      "===> Epoch: 8 Average mae test loss for targetcol :3.4187\n",
      "===> Epoch: 8 Average mae test loss for targetcol: 3.3480\n",
      "====> Test set loss: 1507.1495\n",
      "====> Epoch: 8 Average test loss: 0.0427\n"
     ]
    },
    {
     "name": "stderr",
     "output_type": "stream",
     "text": [
      "Train Epoch: 9 [105600/105870 (100%)]\tLoss: 1.004166: 100%|██████████| 1103/1103 [00:07<00:00, 145.15it/s]\n"
     ]
    },
    {
     "name": "stdout",
     "output_type": "stream",
     "text": [
      "====> Epoch: 9 Average train loss: 1.0444\n",
      "===> Epoch: 9 Average mae test loss for targetcol :3.3942\n",
      "===> Epoch: 9 Average mae test loss for targetcol: 3.3422\n",
      "====> Test set loss: 1568.2833\n",
      "====> Epoch: 9 Average test loss: 0.0444\n"
     ]
    },
    {
     "name": "stderr",
     "output_type": "stream",
     "text": [
      "Train Epoch: 10 [105600/105870 (100%)]\tLoss: 1.033378: 100%|██████████| 1103/1103 [00:07<00:00, 148.04it/s]\n"
     ]
    },
    {
     "name": "stdout",
     "output_type": "stream",
     "text": [
      "====> Epoch: 10 Average train loss: 1.0412\n",
      "===> Epoch: 10 Average mae test loss for targetcol :3.3729\n",
      "===> Epoch: 10 Average mae test loss for targetcol: 3.3270\n",
      "====> Test set loss: 1623.4235\n",
      "====> Epoch: 10 Average test loss: 0.0460\n"
     ]
    },
    {
     "name": "stderr",
     "output_type": "stream",
     "text": [
      "Train Epoch: 11 [105600/105870 (100%)]\tLoss: 1.000277: 100%|██████████| 1103/1103 [00:07<00:00, 147.63it/s]\n"
     ]
    },
    {
     "name": "stdout",
     "output_type": "stream",
     "text": [
      "====> Epoch: 11 Average train loss: 1.0398\n",
      "===> Epoch: 11 Average mae test loss for targetcol :3.3629\n",
      "===> Epoch: 11 Average mae test loss for targetcol: 3.2869\n",
      "====> Test set loss: 1694.7768\n",
      "====> Epoch: 11 Average test loss: 0.0480\n"
     ]
    },
    {
     "name": "stderr",
     "output_type": "stream",
     "text": [
      "Train Epoch: 12 [105600/105870 (100%)]\tLoss: 1.009823: 100%|██████████| 1103/1103 [00:07<00:00, 149.44it/s]\n"
     ]
    },
    {
     "name": "stdout",
     "output_type": "stream",
     "text": [
      "====> Epoch: 12 Average train loss: 1.0351\n",
      "===> Epoch: 12 Average mae test loss for targetcol :3.3605\n",
      "===> Epoch: 12 Average mae test loss for targetcol: 3.2970\n",
      "====> Test set loss: 1782.5908\n",
      "====> Epoch: 12 Average test loss: 0.0505\n"
     ]
    },
    {
     "name": "stderr",
     "output_type": "stream",
     "text": [
      "Train Epoch: 13 [105600/105870 (100%)]\tLoss: 1.044193: 100%|██████████| 1103/1103 [00:07<00:00, 145.93it/s]\n"
     ]
    },
    {
     "name": "stdout",
     "output_type": "stream",
     "text": [
      "====> Epoch: 13 Average train loss: 1.0327\n",
      "===> Epoch: 13 Average mae test loss for targetcol :3.3471\n",
      "===> Epoch: 13 Average mae test loss for targetcol: 3.2780\n",
      "====> Test set loss: 1862.2180\n",
      "====> Epoch: 13 Average test loss: 0.0528\n"
     ]
    },
    {
     "name": "stderr",
     "output_type": "stream",
     "text": [
      "Train Epoch: 14 [105600/105870 (100%)]\tLoss: 0.877352: 100%|██████████| 1103/1103 [00:07<00:00, 144.70it/s]\n"
     ]
    },
    {
     "name": "stdout",
     "output_type": "stream",
     "text": [
      "====> Epoch: 14 Average train loss: 1.0306\n",
      "===> Epoch: 14 Average mae test loss for targetcol :3.3292\n",
      "===> Epoch: 14 Average mae test loss for targetcol: 3.2539\n",
      "====> Test set loss: 1965.1952\n",
      "====> Epoch: 14 Average test loss: 0.0557\n"
     ]
    },
    {
     "name": "stderr",
     "output_type": "stream",
     "text": [
      "Train Epoch: 15 [105600/105870 (100%)]\tLoss: 1.058259: 100%|██████████| 1103/1103 [00:07<00:00, 143.95it/s]\n"
     ]
    },
    {
     "name": "stdout",
     "output_type": "stream",
     "text": [
      "====> Epoch: 15 Average train loss: 1.0278\n",
      "===> Epoch: 15 Average mae test loss for targetcol :3.3249\n",
      "===> Epoch: 15 Average mae test loss for targetcol: 3.2347\n",
      "====> Test set loss: 2073.0399\n",
      "====> Epoch: 15 Average test loss: 0.0587\n"
     ]
    },
    {
     "name": "stderr",
     "output_type": "stream",
     "text": [
      "Train Epoch: 16 [105600/105870 (100%)]\tLoss: 1.114054: 100%|██████████| 1103/1103 [00:07<00:00, 143.51it/s]\n"
     ]
    },
    {
     "name": "stdout",
     "output_type": "stream",
     "text": [
      "====> Epoch: 16 Average train loss: 1.0250\n",
      "===> Epoch: 16 Average mae test loss for targetcol :3.3155\n",
      "===> Epoch: 16 Average mae test loss for targetcol: 3.2293\n",
      "====> Test set loss: 2196.1095\n",
      "====> Epoch: 16 Average test loss: 0.0622\n"
     ]
    },
    {
     "name": "stderr",
     "output_type": "stream",
     "text": [
      "Train Epoch: 17 [105600/105870 (100%)]\tLoss: 1.167271: 100%|██████████| 1103/1103 [00:07<00:00, 141.99it/s]\n"
     ]
    },
    {
     "name": "stdout",
     "output_type": "stream",
     "text": [
      "====> Epoch: 17 Average train loss: 1.0240\n",
      "===> Epoch: 17 Average mae test loss for targetcol :3.3079\n",
      "===> Epoch: 17 Average mae test loss for targetcol: 3.2227\n",
      "====> Test set loss: 2312.1705\n",
      "====> Epoch: 17 Average test loss: 0.0655\n"
     ]
    },
    {
     "name": "stderr",
     "output_type": "stream",
     "text": [
      "Train Epoch: 18 [105600/105870 (100%)]\tLoss: 1.174595: 100%|██████████| 1103/1103 [00:07<00:00, 142.79it/s]\n"
     ]
    },
    {
     "name": "stdout",
     "output_type": "stream",
     "text": [
      "====> Epoch: 18 Average train loss: 1.0219\n",
      "===> Epoch: 18 Average mae test loss for targetcol :3.2933\n",
      "===> Epoch: 18 Average mae test loss for targetcol: 3.2045\n",
      "====> Test set loss: 2355.7008\n",
      "====> Epoch: 18 Average test loss: 0.0668\n"
     ]
    },
    {
     "name": "stderr",
     "output_type": "stream",
     "text": [
      "Train Epoch: 19 [105600/105870 (100%)]\tLoss: 1.160854: 100%|██████████| 1103/1103 [00:07<00:00, 140.90it/s]\n"
     ]
    },
    {
     "name": "stdout",
     "output_type": "stream",
     "text": [
      "====> Epoch: 19 Average train loss: 1.0198\n",
      "===> Epoch: 19 Average mae test loss for targetcol :3.2984\n",
      "===> Epoch: 19 Average mae test loss for targetcol: 3.1906\n",
      "====> Test set loss: 2426.3418\n",
      "====> Epoch: 19 Average test loss: 0.0688\n"
     ]
    },
    {
     "name": "stderr",
     "output_type": "stream",
     "text": [
      "Train Epoch: 20 [105600/105870 (100%)]\tLoss: 0.963459: 100%|██████████| 1103/1103 [00:07<00:00, 140.65it/s]\n"
     ]
    },
    {
     "name": "stdout",
     "output_type": "stream",
     "text": [
      "====> Epoch: 20 Average train loss: 1.0162\n",
      "===> Epoch: 20 Average mae test loss for targetcol :3.2895\n",
      "===> Epoch: 20 Average mae test loss for targetcol: 3.2008\n",
      "====> Test set loss: 2527.6530\n",
      "====> Epoch: 20 Average test loss: 0.0716\n"
     ]
    },
    {
     "name": "stderr",
     "output_type": "stream",
     "text": [
      "Train Epoch: 21 [105600/105870 (100%)]\tLoss: 0.978871: 100%|██████████| 1103/1103 [00:08<00:00, 133.93it/s]\n"
     ]
    },
    {
     "name": "stdout",
     "output_type": "stream",
     "text": [
      "====> Epoch: 21 Average train loss: 1.0143\n",
      "===> Epoch: 21 Average mae test loss for targetcol :3.2757\n",
      "===> Epoch: 21 Average mae test loss for targetcol: 3.1998\n",
      "====> Test set loss: 2598.9621\n",
      "====> Epoch: 21 Average test loss: 0.0736\n"
     ]
    },
    {
     "name": "stderr",
     "output_type": "stream",
     "text": [
      "Train Epoch: 22 [105600/105870 (100%)]\tLoss: 0.945673: 100%|██████████| 1103/1103 [00:07<00:00, 150.29it/s]\n"
     ]
    },
    {
     "name": "stdout",
     "output_type": "stream",
     "text": [
      "====> Epoch: 22 Average train loss: 1.0137\n",
      "===> Epoch: 22 Average mae test loss for targetcol :3.2764\n",
      "===> Epoch: 22 Average mae test loss for targetcol: 3.1777\n",
      "====> Test set loss: 2691.2175\n",
      "====> Epoch: 22 Average test loss: 0.0763\n"
     ]
    },
    {
     "name": "stderr",
     "output_type": "stream",
     "text": [
      "Train Epoch: 23 [105600/105870 (100%)]\tLoss: 0.996361: 100%|██████████| 1103/1103 [00:07<00:00, 148.94it/s]\n"
     ]
    },
    {
     "name": "stdout",
     "output_type": "stream",
     "text": [
      "====> Epoch: 23 Average train loss: 1.0113\n",
      "===> Epoch: 23 Average mae test loss for targetcol :3.2718\n",
      "===> Epoch: 23 Average mae test loss for targetcol: 3.1805\n",
      "====> Test set loss: 2737.0468\n",
      "====> Epoch: 23 Average test loss: 0.0776\n"
     ]
    },
    {
     "name": "stderr",
     "output_type": "stream",
     "text": [
      "Train Epoch: 24 [105600/105870 (100%)]\tLoss: 1.058693: 100%|██████████| 1103/1103 [00:07<00:00, 150.25it/s]\n"
     ]
    },
    {
     "name": "stdout",
     "output_type": "stream",
     "text": [
      "====> Epoch: 24 Average train loss: 1.0118\n",
      "===> Epoch: 24 Average mae test loss for targetcol :3.2658\n",
      "===> Epoch: 24 Average mae test loss for targetcol: 3.1598\n",
      "====> Test set loss: 2763.9767\n",
      "====> Epoch: 24 Average test loss: 0.0783\n"
     ]
    },
    {
     "name": "stderr",
     "output_type": "stream",
     "text": [
      "Train Epoch: 25 [105600/105870 (100%)]\tLoss: 1.016077: 100%|██████████| 1103/1103 [00:07<00:00, 148.23it/s]\n"
     ]
    },
    {
     "name": "stdout",
     "output_type": "stream",
     "text": [
      "====> Epoch: 25 Average train loss: 1.0094\n",
      "===> Epoch: 25 Average mae test loss for targetcol :3.2635\n",
      "===> Epoch: 25 Average mae test loss for targetcol: 3.1655\n",
      "====> Test set loss: 2761.6879\n",
      "====> Epoch: 25 Average test loss: 0.0783\n"
     ]
    },
    {
     "name": "stderr",
     "output_type": "stream",
     "text": [
      "Train Epoch: 26 [105600/105870 (100%)]\tLoss: 1.057662: 100%|██████████| 1103/1103 [00:07<00:00, 145.39it/s]\n"
     ]
    },
    {
     "name": "stdout",
     "output_type": "stream",
     "text": [
      "====> Epoch: 26 Average train loss: 1.0074\n",
      "===> Epoch: 26 Average mae test loss for targetcol :3.2587\n",
      "===> Epoch: 26 Average mae test loss for targetcol: 3.1579\n",
      "====> Test set loss: 2875.7939\n",
      "====> Epoch: 26 Average test loss: 0.0815\n"
     ]
    },
    {
     "name": "stderr",
     "output_type": "stream",
     "text": [
      "Train Epoch: 27 [105600/105870 (100%)]\tLoss: 1.054925: 100%|██████████| 1103/1103 [00:07<00:00, 147.94it/s]\n"
     ]
    },
    {
     "name": "stdout",
     "output_type": "stream",
     "text": [
      "====> Epoch: 27 Average train loss: 1.0082\n",
      "===> Epoch: 27 Average mae test loss for targetcol :3.2542\n",
      "===> Epoch: 27 Average mae test loss for targetcol: 3.1595\n",
      "====> Test set loss: 2882.7358\n",
      "====> Epoch: 27 Average test loss: 0.0817\n"
     ]
    },
    {
     "name": "stderr",
     "output_type": "stream",
     "text": [
      "Train Epoch: 28 [105600/105870 (100%)]\tLoss: 0.946975: 100%|██████████| 1103/1103 [00:07<00:00, 144.49it/s]\n"
     ]
    },
    {
     "name": "stdout",
     "output_type": "stream",
     "text": [
      "====> Epoch: 28 Average train loss: 1.0057\n",
      "===> Epoch: 28 Average mae test loss for targetcol :3.2570\n",
      "===> Epoch: 28 Average mae test loss for targetcol: 3.1540\n",
      "====> Test set loss: 2934.1298\n",
      "====> Epoch: 28 Average test loss: 0.0831\n"
     ]
    },
    {
     "name": "stderr",
     "output_type": "stream",
     "text": [
      "Train Epoch: 29 [105600/105870 (100%)]\tLoss: 1.164050: 100%|██████████| 1103/1103 [00:07<00:00, 147.29it/s]\n"
     ]
    },
    {
     "name": "stdout",
     "output_type": "stream",
     "text": [
      "====> Epoch: 29 Average train loss: 1.0023\n",
      "===> Epoch: 29 Average mae test loss for targetcol :3.2497\n",
      "===> Epoch: 29 Average mae test loss for targetcol: 3.1398\n",
      "====> Test set loss: 2910.8020\n",
      "====> Epoch: 29 Average test loss: 0.0825\n"
     ]
    },
    {
     "name": "stderr",
     "output_type": "stream",
     "text": [
      "Train Epoch: 30 [105600/105870 (100%)]\tLoss: 0.992330: 100%|██████████| 1103/1103 [00:07<00:00, 139.95it/s]\n"
     ]
    },
    {
     "name": "stdout",
     "output_type": "stream",
     "text": [
      "====> Epoch: 30 Average train loss: 1.0015\n",
      "===> Epoch: 30 Average mae test loss for targetcol :3.2484\n",
      "===> Epoch: 30 Average mae test loss for targetcol: 3.1637\n",
      "====> Test set loss: 2930.3786\n",
      "====> Epoch: 30 Average test loss: 0.0830\n"
     ]
    },
    {
     "name": "stderr",
     "output_type": "stream",
     "text": [
      "Train Epoch: 31 [105600/105870 (100%)]\tLoss: 0.893069: 100%|██████████| 1103/1103 [00:07<00:00, 142.74it/s]\n"
     ]
    },
    {
     "name": "stdout",
     "output_type": "stream",
     "text": [
      "====> Epoch: 31 Average train loss: 1.0004\n",
      "===> Epoch: 31 Average mae test loss for targetcol :3.2452\n",
      "===> Epoch: 31 Average mae test loss for targetcol: 3.1323\n",
      "====> Test set loss: 2974.7425\n",
      "====> Epoch: 31 Average test loss: 0.0843\n"
     ]
    },
    {
     "name": "stderr",
     "output_type": "stream",
     "text": [
      "Train Epoch: 32 [105600/105870 (100%)]\tLoss: 1.114181: 100%|██████████| 1103/1103 [00:07<00:00, 145.99it/s]\n"
     ]
    },
    {
     "name": "stdout",
     "output_type": "stream",
     "text": [
      "====> Epoch: 32 Average train loss: 0.9992\n",
      "===> Epoch: 32 Average mae test loss for targetcol :3.2474\n",
      "===> Epoch: 32 Average mae test loss for targetcol: 3.1363\n",
      "====> Test set loss: 3022.3178\n",
      "====> Epoch: 32 Average test loss: 0.0856\n"
     ]
    },
    {
     "name": "stderr",
     "output_type": "stream",
     "text": [
      "Train Epoch: 33 [105600/105870 (100%)]\tLoss: 1.376237: 100%|██████████| 1103/1103 [00:07<00:00, 144.29it/s]\n"
     ]
    },
    {
     "name": "stdout",
     "output_type": "stream",
     "text": [
      "====> Epoch: 33 Average train loss: 0.9991\n",
      "===> Epoch: 33 Average mae test loss for targetcol :3.2420\n",
      "===> Epoch: 33 Average mae test loss for targetcol: 3.1345\n",
      "====> Test set loss: 3024.6110\n",
      "====> Epoch: 33 Average test loss: 0.0857\n"
     ]
    },
    {
     "name": "stderr",
     "output_type": "stream",
     "text": [
      "Train Epoch: 34 [105600/105870 (100%)]\tLoss: 1.029085: 100%|██████████| 1103/1103 [00:07<00:00, 145.22it/s]\n"
     ]
    },
    {
     "name": "stdout",
     "output_type": "stream",
     "text": [
      "====> Epoch: 34 Average train loss: 0.9971\n",
      "===> Epoch: 34 Average mae test loss for targetcol :3.2383\n",
      "===> Epoch: 34 Average mae test loss for targetcol: 3.1248\n",
      "====> Test set loss: 3100.9451\n",
      "====> Epoch: 34 Average test loss: 0.0879\n"
     ]
    },
    {
     "name": "stderr",
     "output_type": "stream",
     "text": [
      "Train Epoch: 35 [105600/105870 (100%)]\tLoss: 1.091323: 100%|██████████| 1103/1103 [00:07<00:00, 147.67it/s]\n"
     ]
    },
    {
     "name": "stdout",
     "output_type": "stream",
     "text": [
      "====> Epoch: 35 Average train loss: 0.9988\n",
      "===> Epoch: 35 Average mae test loss for targetcol :3.2330\n",
      "===> Epoch: 35 Average mae test loss for targetcol: 3.1279\n",
      "====> Test set loss: 3078.6855\n",
      "====> Epoch: 35 Average test loss: 0.0872\n"
     ]
    },
    {
     "name": "stderr",
     "output_type": "stream",
     "text": [
      "Train Epoch: 36 [105600/105870 (100%)]\tLoss: 1.134129: 100%|██████████| 1103/1103 [00:07<00:00, 141.28it/s]\n"
     ]
    },
    {
     "name": "stdout",
     "output_type": "stream",
     "text": [
      "====> Epoch: 36 Average train loss: 0.9967\n",
      "===> Epoch: 36 Average mae test loss for targetcol :3.2322\n",
      "===> Epoch: 36 Average mae test loss for targetcol: 3.1288\n",
      "====> Test set loss: 3072.1882\n",
      "====> Epoch: 36 Average test loss: 0.0871\n"
     ]
    },
    {
     "name": "stderr",
     "output_type": "stream",
     "text": [
      "Train Epoch: 37 [105600/105870 (100%)]\tLoss: 1.000938: 100%|██████████| 1103/1103 [00:07<00:00, 140.97it/s]\n"
     ]
    },
    {
     "name": "stdout",
     "output_type": "stream",
     "text": [
      "====> Epoch: 37 Average train loss: 0.9970\n",
      "===> Epoch: 37 Average mae test loss for targetcol :3.2312\n",
      "===> Epoch: 37 Average mae test loss for targetcol: 3.1249\n",
      "====> Test set loss: 3112.8645\n",
      "====> Epoch: 37 Average test loss: 0.0882\n"
     ]
    },
    {
     "name": "stderr",
     "output_type": "stream",
     "text": [
      "Train Epoch: 38 [105600/105870 (100%)]\tLoss: 1.019388: 100%|██████████| 1103/1103 [00:07<00:00, 149.13it/s]\n"
     ]
    },
    {
     "name": "stdout",
     "output_type": "stream",
     "text": [
      "====> Epoch: 38 Average train loss: 0.9973\n",
      "===> Epoch: 38 Average mae test loss for targetcol :3.2313\n",
      "===> Epoch: 38 Average mae test loss for targetcol: 3.1175\n",
      "====> Test set loss: 3125.1273\n",
      "====> Epoch: 38 Average test loss: 0.0886\n"
     ]
    },
    {
     "name": "stderr",
     "output_type": "stream",
     "text": [
      "Train Epoch: 39 [105600/105870 (100%)]\tLoss: 0.893131: 100%|██████████| 1103/1103 [00:07<00:00, 142.04it/s]\n"
     ]
    },
    {
     "name": "stdout",
     "output_type": "stream",
     "text": [
      "====> Epoch: 39 Average train loss: 0.9931\n",
      "===> Epoch: 39 Average mae test loss for targetcol :3.2295\n",
      "===> Epoch: 39 Average mae test loss for targetcol: 3.1057\n",
      "====> Test set loss: 3097.3163\n",
      "====> Epoch: 39 Average test loss: 0.0878\n"
     ]
    },
    {
     "name": "stderr",
     "output_type": "stream",
     "text": [
      "Train Epoch: 40 [105600/105870 (100%)]\tLoss: 0.802680: 100%|██████████| 1103/1103 [00:07<00:00, 142.00it/s]\n"
     ]
    },
    {
     "name": "stdout",
     "output_type": "stream",
     "text": [
      "====> Epoch: 40 Average train loss: 0.9951\n",
      "===> Epoch: 40 Average mae test loss for targetcol :3.2261\n",
      "===> Epoch: 40 Average mae test loss for targetcol: 3.1193\n",
      "====> Test set loss: 3152.8035\n",
      "====> Epoch: 40 Average test loss: 0.0893\n"
     ]
    },
    {
     "name": "stderr",
     "output_type": "stream",
     "text": [
      "Train Epoch: 41 [105600/105870 (100%)]\tLoss: 0.938937: 100%|██████████| 1103/1103 [00:07<00:00, 145.58it/s]\n"
     ]
    },
    {
     "name": "stdout",
     "output_type": "stream",
     "text": [
      "====> Epoch: 41 Average train loss: 0.9944\n",
      "===> Epoch: 41 Average mae test loss for targetcol :3.2217\n",
      "===> Epoch: 41 Average mae test loss for targetcol: 3.1120\n",
      "====> Test set loss: 3129.6896\n",
      "====> Epoch: 41 Average test loss: 0.0887\n"
     ]
    },
    {
     "name": "stderr",
     "output_type": "stream",
     "text": [
      "Train Epoch: 42 [105600/105870 (100%)]\tLoss: 1.145426: 100%|██████████| 1103/1103 [00:08<00:00, 136.77it/s]\n"
     ]
    },
    {
     "name": "stdout",
     "output_type": "stream",
     "text": [
      "====> Epoch: 42 Average train loss: 0.9931\n",
      "===> Epoch: 42 Average mae test loss for targetcol :3.2237\n",
      "===> Epoch: 42 Average mae test loss for targetcol: 3.1170\n",
      "====> Test set loss: 3142.6827\n",
      "====> Epoch: 42 Average test loss: 0.0891\n"
     ]
    },
    {
     "name": "stderr",
     "output_type": "stream",
     "text": [
      "Train Epoch: 43 [105600/105870 (100%)]\tLoss: 0.977945: 100%|██████████| 1103/1103 [00:07<00:00, 143.71it/s]\n"
     ]
    },
    {
     "name": "stdout",
     "output_type": "stream",
     "text": [
      "====> Epoch: 43 Average train loss: 0.9953\n",
      "===> Epoch: 43 Average mae test loss for targetcol :3.2201\n",
      "===> Epoch: 43 Average mae test loss for targetcol: 3.1157\n",
      "====> Test set loss: 3182.0118\n",
      "====> Epoch: 43 Average test loss: 0.0902\n"
     ]
    },
    {
     "name": "stderr",
     "output_type": "stream",
     "text": [
      "Train Epoch: 44 [105600/105870 (100%)]\tLoss: 0.987938: 100%|██████████| 1103/1103 [00:07<00:00, 146.26it/s]\n"
     ]
    },
    {
     "name": "stdout",
     "output_type": "stream",
     "text": [
      "====> Epoch: 44 Average train loss: 0.9916\n",
      "===> Epoch: 44 Average mae test loss for targetcol :3.2217\n",
      "===> Epoch: 44 Average mae test loss for targetcol: 3.1112\n",
      "====> Test set loss: 3172.7887\n",
      "====> Epoch: 44 Average test loss: 0.0899\n"
     ]
    },
    {
     "name": "stderr",
     "output_type": "stream",
     "text": [
      "Train Epoch: 45 [105600/105870 (100%)]\tLoss: 0.957179: 100%|██████████| 1103/1103 [00:07<00:00, 145.24it/s]\n"
     ]
    },
    {
     "name": "stdout",
     "output_type": "stream",
     "text": [
      "====> Epoch: 45 Average train loss: 0.9925\n",
      "===> Epoch: 45 Average mae test loss for targetcol :3.2214\n",
      "===> Epoch: 45 Average mae test loss for targetcol: 3.1142\n",
      "====> Test set loss: 3256.2827\n",
      "====> Epoch: 45 Average test loss: 0.0923\n"
     ]
    },
    {
     "name": "stderr",
     "output_type": "stream",
     "text": [
      "Train Epoch: 46 [105600/105870 (100%)]\tLoss: 0.876939: 100%|██████████| 1103/1103 [00:07<00:00, 146.36it/s]\n"
     ]
    },
    {
     "name": "stdout",
     "output_type": "stream",
     "text": [
      "====> Epoch: 46 Average train loss: 0.9936\n",
      "===> Epoch: 46 Average mae test loss for targetcol :3.2194\n",
      "===> Epoch: 46 Average mae test loss for targetcol: 3.1151\n",
      "====> Test set loss: 3204.3033\n",
      "====> Epoch: 46 Average test loss: 0.0908\n"
     ]
    },
    {
     "name": "stderr",
     "output_type": "stream",
     "text": [
      "Train Epoch: 47 [105600/105870 (100%)]\tLoss: 1.122074: 100%|██████████| 1103/1103 [00:07<00:00, 144.71it/s]\n"
     ]
    },
    {
     "name": "stdout",
     "output_type": "stream",
     "text": [
      "====> Epoch: 47 Average train loss: 0.9922\n",
      "===> Epoch: 47 Average mae test loss for targetcol :3.2167\n",
      "===> Epoch: 47 Average mae test loss for targetcol: 3.1026\n",
      "====> Test set loss: 3182.0564\n",
      "====> Epoch: 47 Average test loss: 0.0902\n"
     ]
    },
    {
     "name": "stderr",
     "output_type": "stream",
     "text": [
      "Train Epoch: 48 [105600/105870 (100%)]\tLoss: 0.990218: 100%|██████████| 1103/1103 [00:07<00:00, 146.05it/s]\n"
     ]
    },
    {
     "name": "stdout",
     "output_type": "stream",
     "text": [
      "====> Epoch: 48 Average train loss: 0.9903\n",
      "===> Epoch: 48 Average mae test loss for targetcol :3.2195\n",
      "===> Epoch: 48 Average mae test loss for targetcol: 3.0976\n",
      "====> Test set loss: 3198.0449\n",
      "====> Epoch: 48 Average test loss: 0.0906\n"
     ]
    },
    {
     "name": "stderr",
     "output_type": "stream",
     "text": [
      "Train Epoch: 49 [105600/105870 (100%)]\tLoss: 0.912322: 100%|██████████| 1103/1103 [00:07<00:00, 144.95it/s]\n"
     ]
    },
    {
     "name": "stdout",
     "output_type": "stream",
     "text": [
      "====> Epoch: 49 Average train loss: 0.9889\n",
      "===> Epoch: 49 Average mae test loss for targetcol :3.2148\n"
     ]
    },
    {
     "name": "stderr",
     "output_type": "stream",
     "text": [
      "[I 2025-05-15 12:44:47,283] Trial 2 finished with value: 0.09225130598684923 and parameters: {'batch_size': 96, 'learning_rate': 3.5745634921043826e-06, 'lambda': 0.7543570481857617}. Best is trial 0 with value: 0.025190040321385825.\n"
     ]
    },
    {
     "name": "stdout",
     "output_type": "stream",
     "text": [
      "===> Epoch: 49 Average mae test loss for targetcol: 3.1321\n",
      "====> Test set loss: 3255.5486\n",
      "====> Epoch: 49 Average test loss: 0.0923\n",
      "🏃 View run amazing-shark-745 at: http://localhost:5000/#/experiments/4/runs/a8df042a4b734f85966cdd4472820ef6\n",
      "🧪 View experiment at: http://localhost:5000/#/experiments/4\n"
     ]
    },
    {
     "name": "stderr",
     "output_type": "stream",
     "text": [
      "Train Epoch: 0 [105600/105870 (100%)]\tLoss: 1.065083: 100%|██████████| 1103/1103 [00:07<00:00, 145.45it/s]\n"
     ]
    },
    {
     "name": "stdout",
     "output_type": "stream",
     "text": [
      "====> Epoch: 0 Average train loss: 1.1250\n",
      "===> Epoch: 0 Average mae test loss for targetcol :3.3060\n",
      "===> Epoch: 0 Average mae test loss for targetcol: 3.0168\n",
      "====> Test set loss: 6348.2775\n",
      "====> Epoch: 0 Average test loss: 0.1799\n"
     ]
    },
    {
     "name": "stderr",
     "output_type": "stream",
     "text": [
      "Train Epoch: 1 [105600/105870 (100%)]\tLoss: 1.117111: 100%|██████████| 1103/1103 [00:07<00:00, 144.32it/s]\n"
     ]
    },
    {
     "name": "stdout",
     "output_type": "stream",
     "text": [
      "====> Epoch: 1 Average train loss: 1.0366\n",
      "===> Epoch: 1 Average mae test loss for targetcol :3.2056\n",
      "===> Epoch: 1 Average mae test loss for targetcol: 2.9805\n",
      "====> Test set loss: 6796.8392\n",
      "====> Epoch: 1 Average test loss: 0.1926\n"
     ]
    },
    {
     "name": "stderr",
     "output_type": "stream",
     "text": [
      "Train Epoch: 2 [105600/105870 (100%)]\tLoss: 1.142038: 100%|██████████| 1103/1103 [00:07<00:00, 144.63it/s]\n"
     ]
    },
    {
     "name": "stdout",
     "output_type": "stream",
     "text": [
      "====> Epoch: 2 Average train loss: 1.0305\n",
      "===> Epoch: 2 Average mae test loss for targetcol :3.1937\n",
      "===> Epoch: 2 Average mae test loss for targetcol: 3.2154\n",
      "====> Test set loss: 7229.7033\n",
      "====> Epoch: 2 Average test loss: 0.2049\n"
     ]
    },
    {
     "name": "stderr",
     "output_type": "stream",
     "text": [
      "Train Epoch: 3 [105600/105870 (100%)]\tLoss: 0.985604: 100%|██████████| 1103/1103 [00:07<00:00, 143.80it/s]\n"
     ]
    },
    {
     "name": "stdout",
     "output_type": "stream",
     "text": [
      "====> Epoch: 3 Average train loss: 1.0242\n",
      "===> Epoch: 3 Average mae test loss for targetcol :3.1865\n",
      "===> Epoch: 3 Average mae test loss for targetcol: 3.0880\n",
      "====> Test set loss: 7036.9537\n",
      "====> Epoch: 3 Average test loss: 0.1994\n"
     ]
    },
    {
     "name": "stderr",
     "output_type": "stream",
     "text": [
      "Train Epoch: 4 [105600/105870 (100%)]\tLoss: 1.099821: 100%|██████████| 1103/1103 [00:07<00:00, 141.69it/s]\n"
     ]
    },
    {
     "name": "stdout",
     "output_type": "stream",
     "text": [
      "====> Epoch: 4 Average train loss: 1.0252\n",
      "===> Epoch: 4 Average mae test loss for targetcol :3.1793\n",
      "===> Epoch: 4 Average mae test loss for targetcol: 2.9741\n",
      "====> Test set loss: 7288.4972\n",
      "====> Epoch: 4 Average test loss: 0.2065\n"
     ]
    },
    {
     "name": "stderr",
     "output_type": "stream",
     "text": [
      "Train Epoch: 5 [105600/105870 (100%)]\tLoss: 0.832917: 100%|██████████| 1103/1103 [00:07<00:00, 141.79it/s]\n"
     ]
    },
    {
     "name": "stdout",
     "output_type": "stream",
     "text": [
      "====> Epoch: 5 Average train loss: 1.0188\n",
      "===> Epoch: 5 Average mae test loss for targetcol :3.1756\n",
      "===> Epoch: 5 Average mae test loss for targetcol: 2.9878\n",
      "====> Test set loss: 8072.3170\n",
      "====> Epoch: 5 Average test loss: 0.2287\n"
     ]
    },
    {
     "name": "stderr",
     "output_type": "stream",
     "text": [
      "Train Epoch: 6 [105600/105870 (100%)]\tLoss: 0.934936: 100%|██████████| 1103/1103 [00:07<00:00, 153.72it/s]\n"
     ]
    },
    {
     "name": "stdout",
     "output_type": "stream",
     "text": [
      "====> Epoch: 6 Average train loss: 1.0202\n",
      "===> Epoch: 6 Average mae test loss for targetcol :3.1676\n",
      "===> Epoch: 6 Average mae test loss for targetcol: 2.9462\n",
      "====> Test set loss: 6934.0844\n",
      "====> Epoch: 6 Average test loss: 0.1965\n"
     ]
    },
    {
     "name": "stderr",
     "output_type": "stream",
     "text": [
      "Train Epoch: 7 [105600/105870 (100%)]\tLoss: 0.840492: 100%|██████████| 1103/1103 [00:07<00:00, 144.58it/s]\n"
     ]
    },
    {
     "name": "stdout",
     "output_type": "stream",
     "text": [
      "====> Epoch: 7 Average train loss: 1.0193\n",
      "===> Epoch: 7 Average mae test loss for targetcol :3.1568\n",
      "===> Epoch: 7 Average mae test loss for targetcol: 3.0338\n",
      "====> Test set loss: 7199.5009\n",
      "====> Epoch: 7 Average test loss: 0.2040\n"
     ]
    },
    {
     "name": "stderr",
     "output_type": "stream",
     "text": [
      "Train Epoch: 8 [105600/105870 (100%)]\tLoss: 0.994816: 100%|██████████| 1103/1103 [00:07<00:00, 142.17it/s]\n"
     ]
    },
    {
     "name": "stdout",
     "output_type": "stream",
     "text": [
      "====> Epoch: 8 Average train loss: 1.0191\n",
      "===> Epoch: 8 Average mae test loss for targetcol :3.1562\n",
      "===> Epoch: 8 Average mae test loss for targetcol: 3.1136\n",
      "====> Test set loss: 6860.8063\n",
      "====> Epoch: 8 Average test loss: 0.1944\n"
     ]
    },
    {
     "name": "stderr",
     "output_type": "stream",
     "text": [
      "Train Epoch: 9 [105600/105870 (100%)]\tLoss: 1.049059: 100%|██████████| 1103/1103 [00:07<00:00, 140.87it/s]\n"
     ]
    },
    {
     "name": "stdout",
     "output_type": "stream",
     "text": [
      "====> Epoch: 9 Average train loss: 1.0141\n",
      "===> Epoch: 9 Average mae test loss for targetcol :3.1482\n",
      "===> Epoch: 9 Average mae test loss for targetcol: 2.9979\n",
      "====> Test set loss: 7243.7013\n",
      "====> Epoch: 9 Average test loss: 0.2053\n"
     ]
    },
    {
     "name": "stderr",
     "output_type": "stream",
     "text": [
      "Train Epoch: 10 [105600/105870 (100%)]\tLoss: 0.945125: 100%|██████████| 1103/1103 [00:07<00:00, 142.10it/s]\n"
     ]
    },
    {
     "name": "stdout",
     "output_type": "stream",
     "text": [
      "====> Epoch: 10 Average train loss: 1.0132\n",
      "===> Epoch: 10 Average mae test loss for targetcol :3.1417\n",
      "===> Epoch: 10 Average mae test loss for targetcol: 3.1211\n",
      "====> Test set loss: 7561.8059\n",
      "====> Epoch: 10 Average test loss: 0.2143\n"
     ]
    },
    {
     "name": "stderr",
     "output_type": "stream",
     "text": [
      "Train Epoch: 11 [105600/105870 (100%)]\tLoss: 0.958936: 100%|██████████| 1103/1103 [00:08<00:00, 136.20it/s]\n"
     ]
    },
    {
     "name": "stdout",
     "output_type": "stream",
     "text": [
      "====> Epoch: 11 Average train loss: 1.0162\n",
      "===> Epoch: 11 Average mae test loss for targetcol :3.1406\n",
      "===> Epoch: 11 Average mae test loss for targetcol: 3.1122\n",
      "====> Test set loss: 7354.9842\n",
      "====> Epoch: 11 Average test loss: 0.2084\n"
     ]
    },
    {
     "name": "stderr",
     "output_type": "stream",
     "text": [
      "Train Epoch: 12 [105600/105870 (100%)]\tLoss: 0.840782: 100%|██████████| 1103/1103 [00:08<00:00, 133.06it/s]\n"
     ]
    },
    {
     "name": "stdout",
     "output_type": "stream",
     "text": [
      "====> Epoch: 12 Average train loss: 1.0140\n",
      "===> Epoch: 12 Average mae test loss for targetcol :3.1362\n",
      "===> Epoch: 12 Average mae test loss for targetcol: 3.0085\n",
      "====> Test set loss: 7281.2399\n",
      "====> Epoch: 12 Average test loss: 0.2063\n"
     ]
    },
    {
     "name": "stderr",
     "output_type": "stream",
     "text": [
      "Train Epoch: 13 [105600/105870 (100%)]\tLoss: 1.006638: 100%|██████████| 1103/1103 [00:07<00:00, 144.96it/s]\n"
     ]
    },
    {
     "name": "stdout",
     "output_type": "stream",
     "text": [
      "====> Epoch: 13 Average train loss: 1.0121\n",
      "===> Epoch: 13 Average mae test loss for targetcol :3.1336\n",
      "===> Epoch: 13 Average mae test loss for targetcol: 3.0286\n",
      "====> Test set loss: 7562.1871\n",
      "====> Epoch: 13 Average test loss: 0.2143\n"
     ]
    },
    {
     "name": "stderr",
     "output_type": "stream",
     "text": [
      "Train Epoch: 14 [105600/105870 (100%)]\tLoss: 0.880773: 100%|██████████| 1103/1103 [00:07<00:00, 139.90it/s]\n"
     ]
    },
    {
     "name": "stdout",
     "output_type": "stream",
     "text": [
      "====> Epoch: 14 Average train loss: 1.0138\n",
      "===> Epoch: 14 Average mae test loss for targetcol :3.1313\n",
      "===> Epoch: 14 Average mae test loss for targetcol: 2.9776\n",
      "====> Test set loss: 7976.4322\n",
      "====> Epoch: 14 Average test loss: 0.2260\n"
     ]
    },
    {
     "name": "stderr",
     "output_type": "stream",
     "text": [
      "Train Epoch: 15 [105600/105870 (100%)]\tLoss: 1.031224: 100%|██████████| 1103/1103 [00:07<00:00, 146.00it/s]\n"
     ]
    },
    {
     "name": "stdout",
     "output_type": "stream",
     "text": [
      "====> Epoch: 15 Average train loss: 1.0132\n",
      "===> Epoch: 15 Average mae test loss for targetcol :3.1313\n",
      "===> Epoch: 15 Average mae test loss for targetcol: 3.0198\n",
      "====> Test set loss: 7102.7928\n",
      "====> Epoch: 15 Average test loss: 0.2013\n"
     ]
    },
    {
     "name": "stderr",
     "output_type": "stream",
     "text": [
      "Train Epoch: 16 [105600/105870 (100%)]\tLoss: 0.982699: 100%|██████████| 1103/1103 [00:07<00:00, 138.75it/s]\n"
     ]
    },
    {
     "name": "stdout",
     "output_type": "stream",
     "text": [
      "====> Epoch: 16 Average train loss: 1.0096\n",
      "===> Epoch: 16 Average mae test loss for targetcol :3.1363\n",
      "===> Epoch: 16 Average mae test loss for targetcol: 2.9484\n",
      "====> Test set loss: 7166.2346\n",
      "====> Epoch: 16 Average test loss: 0.2031\n"
     ]
    },
    {
     "name": "stderr",
     "output_type": "stream",
     "text": [
      "Train Epoch: 17 [105600/105870 (100%)]\tLoss: 1.061615: 100%|██████████| 1103/1103 [00:10<00:00, 102.97it/s]\n"
     ]
    },
    {
     "name": "stdout",
     "output_type": "stream",
     "text": [
      "====> Epoch: 17 Average train loss: 1.0125\n",
      "===> Epoch: 17 Average mae test loss for targetcol :3.1286\n",
      "===> Epoch: 17 Average mae test loss for targetcol: 2.9570\n",
      "====> Test set loss: 7138.7839\n",
      "====> Epoch: 17 Average test loss: 0.2023\n"
     ]
    },
    {
     "name": "stderr",
     "output_type": "stream",
     "text": [
      "Train Epoch: 18 [105600/105870 (100%)]\tLoss: 0.934460: 100%|██████████| 1103/1103 [00:10<00:00, 109.96it/s]\n"
     ]
    },
    {
     "name": "stdout",
     "output_type": "stream",
     "text": [
      "====> Epoch: 18 Average train loss: 1.0132\n",
      "===> Epoch: 18 Average mae test loss for targetcol :3.1285\n",
      "===> Epoch: 18 Average mae test loss for targetcol: 2.9709\n",
      "====> Test set loss: 6950.5541\n",
      "====> Epoch: 18 Average test loss: 0.1970\n"
     ]
    },
    {
     "name": "stderr",
     "output_type": "stream",
     "text": [
      "Train Epoch: 19 [105600/105870 (100%)]\tLoss: 1.015880: 100%|██████████| 1103/1103 [00:07<00:00, 141.65it/s]\n"
     ]
    },
    {
     "name": "stdout",
     "output_type": "stream",
     "text": [
      "====> Epoch: 19 Average train loss: 1.0146\n",
      "===> Epoch: 19 Average mae test loss for targetcol :3.1286\n",
      "===> Epoch: 19 Average mae test loss for targetcol: 2.9579\n",
      "====> Test set loss: 7526.3315\n",
      "====> Epoch: 19 Average test loss: 0.2133\n"
     ]
    },
    {
     "name": "stderr",
     "output_type": "stream",
     "text": [
      "Train Epoch: 20 [105600/105870 (100%)]\tLoss: 0.852625: 100%|██████████| 1103/1103 [00:07<00:00, 146.33it/s]\n"
     ]
    },
    {
     "name": "stdout",
     "output_type": "stream",
     "text": [
      "====> Epoch: 20 Average train loss: 1.0094\n",
      "===> Epoch: 20 Average mae test loss for targetcol :3.1276\n",
      "===> Epoch: 20 Average mae test loss for targetcol: 3.0786\n",
      "====> Test set loss: 7334.1259\n",
      "====> Epoch: 20 Average test loss: 0.2078\n"
     ]
    },
    {
     "name": "stderr",
     "output_type": "stream",
     "text": [
      "Train Epoch: 21 [105600/105870 (100%)]\tLoss: 0.869681: 100%|██████████| 1103/1103 [00:07<00:00, 141.02it/s]\n"
     ]
    },
    {
     "name": "stdout",
     "output_type": "stream",
     "text": [
      "====> Epoch: 21 Average train loss: 1.0109\n",
      "===> Epoch: 21 Average mae test loss for targetcol :3.1324\n",
      "===> Epoch: 21 Average mae test loss for targetcol: 2.9650\n",
      "====> Test set loss: 7591.9594\n",
      "====> Epoch: 21 Average test loss: 0.2151\n"
     ]
    },
    {
     "name": "stderr",
     "output_type": "stream",
     "text": [
      "Train Epoch: 22 [105600/105870 (100%)]\tLoss: 1.089955: 100%|██████████| 1103/1103 [00:08<00:00, 133.69it/s]\n"
     ]
    },
    {
     "name": "stdout",
     "output_type": "stream",
     "text": [
      "====> Epoch: 22 Average train loss: 1.0079\n",
      "===> Epoch: 22 Average mae test loss for targetcol :3.1271\n",
      "===> Epoch: 22 Average mae test loss for targetcol: 3.0379\n",
      "====> Test set loss: 7217.5098\n",
      "====> Epoch: 22 Average test loss: 0.2045\n"
     ]
    },
    {
     "name": "stderr",
     "output_type": "stream",
     "text": [
      "Train Epoch: 23 [105600/105870 (100%)]\tLoss: 0.977811: 100%|██████████| 1103/1103 [00:07<00:00, 144.74it/s]\n"
     ]
    },
    {
     "name": "stdout",
     "output_type": "stream",
     "text": [
      "====> Epoch: 23 Average train loss: 1.0106\n",
      "===> Epoch: 23 Average mae test loss for targetcol :3.1281\n",
      "===> Epoch: 23 Average mae test loss for targetcol: 2.9394\n",
      "====> Test set loss: 6397.4041\n",
      "====> Epoch: 23 Average test loss: 0.1813\n"
     ]
    },
    {
     "name": "stderr",
     "output_type": "stream",
     "text": [
      "Train Epoch: 24 [105600/105870 (100%)]\tLoss: 0.814480: 100%|██████████| 1103/1103 [00:08<00:00, 132.14it/s]\n"
     ]
    },
    {
     "name": "stdout",
     "output_type": "stream",
     "text": [
      "====> Epoch: 24 Average train loss: 1.0132\n",
      "===> Epoch: 24 Average mae test loss for targetcol :3.1293\n",
      "===> Epoch: 24 Average mae test loss for targetcol: 3.0608\n",
      "====> Test set loss: 7439.0026\n",
      "====> Epoch: 24 Average test loss: 0.2108\n"
     ]
    },
    {
     "name": "stderr",
     "output_type": "stream",
     "text": [
      "Train Epoch: 25 [105600/105870 (100%)]\tLoss: 0.847421: 100%|██████████| 1103/1103 [00:07<00:00, 140.31it/s]\n"
     ]
    },
    {
     "name": "stdout",
     "output_type": "stream",
     "text": [
      "====> Epoch: 25 Average train loss: 1.0084\n",
      "===> Epoch: 25 Average mae test loss for targetcol :3.1292\n",
      "===> Epoch: 25 Average mae test loss for targetcol: 2.9336\n",
      "====> Test set loss: 7460.0050\n",
      "====> Epoch: 25 Average test loss: 0.2114\n"
     ]
    },
    {
     "name": "stderr",
     "output_type": "stream",
     "text": [
      "Train Epoch: 26 [105600/105870 (100%)]\tLoss: 1.065951: 100%|██████████| 1103/1103 [00:07<00:00, 144.69it/s]\n"
     ]
    },
    {
     "name": "stdout",
     "output_type": "stream",
     "text": [
      "====> Epoch: 26 Average train loss: 1.0115\n",
      "===> Epoch: 26 Average mae test loss for targetcol :3.1282\n",
      "===> Epoch: 26 Average mae test loss for targetcol: 2.9896\n",
      "====> Test set loss: 7152.9442\n",
      "====> Epoch: 26 Average test loss: 0.2027\n"
     ]
    },
    {
     "name": "stderr",
     "output_type": "stream",
     "text": [
      "Train Epoch: 27 [105600/105870 (100%)]\tLoss: 1.023457: 100%|██████████| 1103/1103 [00:07<00:00, 145.57it/s]\n"
     ]
    },
    {
     "name": "stdout",
     "output_type": "stream",
     "text": [
      "====> Epoch: 27 Average train loss: 1.0086\n",
      "===> Epoch: 27 Average mae test loss for targetcol :3.1271\n",
      "===> Epoch: 27 Average mae test loss for targetcol: 2.9712\n",
      "====> Test set loss: 7691.1415\n",
      "====> Epoch: 27 Average test loss: 0.2179\n"
     ]
    },
    {
     "name": "stderr",
     "output_type": "stream",
     "text": [
      "Train Epoch: 28 [105600/105870 (100%)]\tLoss: 0.900880: 100%|██████████| 1103/1103 [00:07<00:00, 145.29it/s]\n"
     ]
    },
    {
     "name": "stdout",
     "output_type": "stream",
     "text": [
      "====> Epoch: 28 Average train loss: 1.0105\n",
      "===> Epoch: 28 Average mae test loss for targetcol :3.1278\n",
      "===> Epoch: 28 Average mae test loss for targetcol: 2.9430\n",
      "====> Test set loss: 7200.8306\n",
      "====> Epoch: 28 Average test loss: 0.2040\n"
     ]
    },
    {
     "name": "stderr",
     "output_type": "stream",
     "text": [
      "Train Epoch: 29 [105600/105870 (100%)]\tLoss: 0.894024: 100%|██████████| 1103/1103 [00:07<00:00, 144.84it/s]\n"
     ]
    },
    {
     "name": "stdout",
     "output_type": "stream",
     "text": [
      "====> Epoch: 29 Average train loss: 1.0124\n",
      "===> Epoch: 29 Average mae test loss for targetcol :3.1287\n",
      "===> Epoch: 29 Average mae test loss for targetcol: 3.0277\n",
      "====> Test set loss: 7068.3482\n",
      "====> Epoch: 29 Average test loss: 0.2003\n"
     ]
    },
    {
     "name": "stderr",
     "output_type": "stream",
     "text": [
      "Train Epoch: 30 [105600/105870 (100%)]\tLoss: 1.157344: 100%|██████████| 1103/1103 [00:07<00:00, 142.84it/s]\n"
     ]
    },
    {
     "name": "stdout",
     "output_type": "stream",
     "text": [
      "====> Epoch: 30 Average train loss: 1.0127\n",
      "===> Epoch: 30 Average mae test loss for targetcol :3.1269\n",
      "===> Epoch: 30 Average mae test loss for targetcol: 2.9456\n",
      "====> Test set loss: 7470.3781\n",
      "====> Epoch: 30 Average test loss: 0.2117\n"
     ]
    },
    {
     "name": "stderr",
     "output_type": "stream",
     "text": [
      "Train Epoch: 31 [105600/105870 (100%)]\tLoss: 1.105187: 100%|██████████| 1103/1103 [00:07<00:00, 147.78it/s]\n"
     ]
    },
    {
     "name": "stdout",
     "output_type": "stream",
     "text": [
      "====> Epoch: 31 Average train loss: 1.0136\n",
      "===> Epoch: 31 Average mae test loss for targetcol :3.1249\n",
      "===> Epoch: 31 Average mae test loss for targetcol: 2.9780\n",
      "====> Test set loss: 6806.2475\n",
      "====> Epoch: 31 Average test loss: 0.1929\n"
     ]
    },
    {
     "name": "stderr",
     "output_type": "stream",
     "text": [
      "Train Epoch: 32 [105600/105870 (100%)]\tLoss: 0.941862: 100%|██████████| 1103/1103 [00:07<00:00, 138.57it/s]\n"
     ]
    },
    {
     "name": "stdout",
     "output_type": "stream",
     "text": [
      "====> Epoch: 32 Average train loss: 1.0105\n",
      "===> Epoch: 32 Average mae test loss for targetcol :3.1243\n",
      "===> Epoch: 32 Average mae test loss for targetcol: 3.0166\n",
      "====> Test set loss: 6478.8633\n",
      "====> Epoch: 32 Average test loss: 0.1836\n"
     ]
    },
    {
     "name": "stderr",
     "output_type": "stream",
     "text": [
      "Train Epoch: 33 [105600/105870 (100%)]\tLoss: 0.926597: 100%|██████████| 1103/1103 [00:07<00:00, 143.55it/s]\n"
     ]
    },
    {
     "name": "stdout",
     "output_type": "stream",
     "text": [
      "====> Epoch: 33 Average train loss: 1.0103\n",
      "===> Epoch: 33 Average mae test loss for targetcol :3.1248\n",
      "===> Epoch: 33 Average mae test loss for targetcol: 2.9904\n",
      "====> Test set loss: 6902.9395\n",
      "====> Epoch: 33 Average test loss: 0.1956\n"
     ]
    },
    {
     "name": "stderr",
     "output_type": "stream",
     "text": [
      "Train Epoch: 34 [105600/105870 (100%)]\tLoss: 0.980400: 100%|██████████| 1103/1103 [00:07<00:00, 143.28it/s]\n"
     ]
    },
    {
     "name": "stdout",
     "output_type": "stream",
     "text": [
      "====> Epoch: 34 Average train loss: 1.0112\n",
      "===> Epoch: 34 Average mae test loss for targetcol :3.1297\n",
      "===> Epoch: 34 Average mae test loss for targetcol: 3.0109\n",
      "====> Test set loss: 7403.5066\n",
      "====> Epoch: 34 Average test loss: 0.2098\n"
     ]
    },
    {
     "name": "stderr",
     "output_type": "stream",
     "text": [
      "Train Epoch: 35 [105600/105870 (100%)]\tLoss: 0.902390: 100%|██████████| 1103/1103 [00:07<00:00, 143.51it/s]\n"
     ]
    },
    {
     "name": "stdout",
     "output_type": "stream",
     "text": [
      "====> Epoch: 35 Average train loss: 1.0120\n",
      "===> Epoch: 35 Average mae test loss for targetcol :3.1265\n",
      "===> Epoch: 35 Average mae test loss for targetcol: 2.9915\n",
      "====> Test set loss: 6970.0462\n",
      "====> Epoch: 35 Average test loss: 0.1975\n"
     ]
    },
    {
     "name": "stderr",
     "output_type": "stream",
     "text": [
      "Train Epoch: 36 [105600/105870 (100%)]\tLoss: 1.044469: 100%|██████████| 1103/1103 [00:07<00:00, 140.16it/s]\n"
     ]
    },
    {
     "name": "stdout",
     "output_type": "stream",
     "text": [
      "====> Epoch: 36 Average train loss: 1.0109\n",
      "===> Epoch: 36 Average mae test loss for targetcol :3.1267\n",
      "===> Epoch: 36 Average mae test loss for targetcol: 2.9628\n",
      "====> Test set loss: 7246.1983\n",
      "====> Epoch: 36 Average test loss: 0.2053\n"
     ]
    },
    {
     "name": "stderr",
     "output_type": "stream",
     "text": [
      "Train Epoch: 37 [105600/105870 (100%)]\tLoss: 1.008880: 100%|██████████| 1103/1103 [00:07<00:00, 151.77it/s]\n"
     ]
    },
    {
     "name": "stdout",
     "output_type": "stream",
     "text": [
      "====> Epoch: 37 Average train loss: 1.0066\n",
      "===> Epoch: 37 Average mae test loss for targetcol :3.1258\n",
      "===> Epoch: 37 Average mae test loss for targetcol: 2.9631\n",
      "====> Test set loss: 7430.6224\n",
      "====> Epoch: 37 Average test loss: 0.2106\n"
     ]
    },
    {
     "name": "stderr",
     "output_type": "stream",
     "text": [
      "Train Epoch: 38 [105600/105870 (100%)]\tLoss: 0.952229: 100%|██████████| 1103/1103 [00:07<00:00, 143.95it/s]\n"
     ]
    },
    {
     "name": "stdout",
     "output_type": "stream",
     "text": [
      "====> Epoch: 38 Average train loss: 1.0114\n",
      "===> Epoch: 38 Average mae test loss for targetcol :3.1276\n",
      "===> Epoch: 38 Average mae test loss for targetcol: 2.9193\n",
      "====> Test set loss: 7646.9671\n",
      "====> Epoch: 38 Average test loss: 0.2167\n"
     ]
    },
    {
     "name": "stderr",
     "output_type": "stream",
     "text": [
      "Train Epoch: 39 [105600/105870 (100%)]\tLoss: 0.864446: 100%|██████████| 1103/1103 [00:07<00:00, 145.11it/s]\n"
     ]
    },
    {
     "name": "stdout",
     "output_type": "stream",
     "text": [
      "====> Epoch: 39 Average train loss: 1.0123\n",
      "===> Epoch: 39 Average mae test loss for targetcol :3.1281\n",
      "===> Epoch: 39 Average mae test loss for targetcol: 2.8974\n",
      "====> Test set loss: 6889.8229\n",
      "====> Epoch: 39 Average test loss: 0.1952\n"
     ]
    },
    {
     "name": "stderr",
     "output_type": "stream",
     "text": [
      "Train Epoch: 40 [105600/105870 (100%)]\tLoss: 0.885570: 100%|██████████| 1103/1103 [00:07<00:00, 145.41it/s]\n"
     ]
    },
    {
     "name": "stdout",
     "output_type": "stream",
     "text": [
      "====> Epoch: 40 Average train loss: 1.0091\n",
      "===> Epoch: 40 Average mae test loss for targetcol :3.1276\n",
      "===> Epoch: 40 Average mae test loss for targetcol: 3.0872\n",
      "====> Test set loss: 6999.5171\n",
      "====> Epoch: 40 Average test loss: 0.1983\n"
     ]
    },
    {
     "name": "stderr",
     "output_type": "stream",
     "text": [
      "Train Epoch: 41 [105600/105870 (100%)]\tLoss: 1.090331: 100%|██████████| 1103/1103 [00:07<00:00, 145.21it/s]\n"
     ]
    },
    {
     "name": "stdout",
     "output_type": "stream",
     "text": [
      "====> Epoch: 41 Average train loss: 1.0093\n",
      "===> Epoch: 41 Average mae test loss for targetcol :3.1292\n",
      "===> Epoch: 41 Average mae test loss for targetcol: 3.0570\n",
      "====> Test set loss: 6916.9015\n",
      "====> Epoch: 41 Average test loss: 0.1960\n"
     ]
    },
    {
     "name": "stderr",
     "output_type": "stream",
     "text": [
      "Train Epoch: 42 [105600/105870 (100%)]\tLoss: 1.176450: 100%|██████████| 1103/1103 [00:07<00:00, 143.21it/s]\n"
     ]
    },
    {
     "name": "stdout",
     "output_type": "stream",
     "text": [
      "====> Epoch: 42 Average train loss: 1.0108\n",
      "===> Epoch: 42 Average mae test loss for targetcol :3.1253\n",
      "===> Epoch: 42 Average mae test loss for targetcol: 3.0385\n",
      "====> Test set loss: 7333.8483\n",
      "====> Epoch: 42 Average test loss: 0.2078\n"
     ]
    },
    {
     "name": "stderr",
     "output_type": "stream",
     "text": [
      "Train Epoch: 43 [105600/105870 (100%)]\tLoss: 1.031606: 100%|██████████| 1103/1103 [00:07<00:00, 142.43it/s]\n"
     ]
    },
    {
     "name": "stdout",
     "output_type": "stream",
     "text": [
      "====> Epoch: 43 Average train loss: 1.0070\n",
      "===> Epoch: 43 Average mae test loss for targetcol :3.1269\n",
      "===> Epoch: 43 Average mae test loss for targetcol: 2.9890\n",
      "====> Test set loss: 6584.1267\n",
      "====> Epoch: 43 Average test loss: 0.1866\n"
     ]
    },
    {
     "name": "stderr",
     "output_type": "stream",
     "text": [
      "Train Epoch: 44 [105600/105870 (100%)]\tLoss: 1.058828: 100%|██████████| 1103/1103 [00:07<00:00, 143.96it/s]\n"
     ]
    },
    {
     "name": "stdout",
     "output_type": "stream",
     "text": [
      "====> Epoch: 44 Average train loss: 1.0116\n",
      "===> Epoch: 44 Average mae test loss for targetcol :3.1245\n",
      "===> Epoch: 44 Average mae test loss for targetcol: 2.9339\n",
      "====> Test set loss: 7018.0880\n",
      "====> Epoch: 44 Average test loss: 0.1989\n"
     ]
    },
    {
     "name": "stderr",
     "output_type": "stream",
     "text": [
      "Train Epoch: 45 [105600/105870 (100%)]\tLoss: 1.036793: 100%|██████████| 1103/1103 [00:07<00:00, 144.06it/s]\n"
     ]
    },
    {
     "name": "stdout",
     "output_type": "stream",
     "text": [
      "====> Epoch: 45 Average train loss: 1.0101\n",
      "===> Epoch: 45 Average mae test loss for targetcol :3.1264\n",
      "===> Epoch: 45 Average mae test loss for targetcol: 3.0293\n",
      "====> Test set loss: 7306.2360\n",
      "====> Epoch: 45 Average test loss: 0.2070\n"
     ]
    },
    {
     "name": "stderr",
     "output_type": "stream",
     "text": [
      "Train Epoch: 46 [105600/105870 (100%)]\tLoss: 0.955148: 100%|██████████| 1103/1103 [00:07<00:00, 140.81it/s]\n"
     ]
    },
    {
     "name": "stdout",
     "output_type": "stream",
     "text": [
      "====> Epoch: 46 Average train loss: 1.0104\n",
      "===> Epoch: 46 Average mae test loss for targetcol :3.1295\n",
      "===> Epoch: 46 Average mae test loss for targetcol: 3.0280\n",
      "====> Test set loss: 6934.6827\n",
      "====> Epoch: 46 Average test loss: 0.1965\n"
     ]
    },
    {
     "name": "stderr",
     "output_type": "stream",
     "text": [
      "Train Epoch: 47 [105600/105870 (100%)]\tLoss: 1.004030: 100%|██████████| 1103/1103 [00:08<00:00, 136.10it/s]\n"
     ]
    },
    {
     "name": "stdout",
     "output_type": "stream",
     "text": [
      "====> Epoch: 47 Average train loss: 1.0108\n",
      "===> Epoch: 47 Average mae test loss for targetcol :3.1266\n",
      "===> Epoch: 47 Average mae test loss for targetcol: 3.0104\n",
      "====> Test set loss: 7107.2515\n",
      "====> Epoch: 47 Average test loss: 0.2014\n"
     ]
    },
    {
     "name": "stderr",
     "output_type": "stream",
     "text": [
      "Train Epoch: 48 [105600/105870 (100%)]\tLoss: 1.002884: 100%|██████████| 1103/1103 [00:08<00:00, 128.60it/s]\n"
     ]
    },
    {
     "name": "stdout",
     "output_type": "stream",
     "text": [
      "====> Epoch: 48 Average train loss: 1.0097\n",
      "===> Epoch: 48 Average mae test loss for targetcol :3.1273\n",
      "===> Epoch: 48 Average mae test loss for targetcol: 3.0229\n",
      "====> Test set loss: 7375.4791\n",
      "====> Epoch: 48 Average test loss: 0.2090\n"
     ]
    },
    {
     "name": "stderr",
     "output_type": "stream",
     "text": [
      "Train Epoch: 49 [105600/105870 (100%)]\tLoss: 1.050829: 100%|██████████| 1103/1103 [00:07<00:00, 142.40it/s]\n"
     ]
    },
    {
     "name": "stdout",
     "output_type": "stream",
     "text": [
      "====> Epoch: 49 Average train loss: 1.0130\n",
      "===> Epoch: 49 Average mae test loss for targetcol :3.1257\n"
     ]
    },
    {
     "name": "stderr",
     "output_type": "stream",
     "text": [
      "[I 2025-05-15 12:52:19,727] Trial 3 finished with value: 0.20265147856930965 and parameters: {'batch_size': 96, 'learning_rate': 0.0004786441890205342, 'lambda': 0.7150719515087613}. Best is trial 0 with value: 0.025190040321385825.\n"
     ]
    },
    {
     "name": "stdout",
     "output_type": "stream",
     "text": [
      "===> Epoch: 49 Average mae test loss for targetcol: 3.0320\n",
      "====> Test set loss: 7151.5707\n",
      "====> Epoch: 49 Average test loss: 0.2027\n",
      "🏃 View run mysterious-ox-729 at: http://localhost:5000/#/experiments/4/runs/6d606f8a14e14c6dbacd088489073df0\n",
      "🧪 View experiment at: http://localhost:5000/#/experiments/4\n"
     ]
    },
    {
     "name": "stderr",
     "output_type": "stream",
     "text": [
      "Train Epoch: 0 [105600/105870 (100%)]\tLoss: 0.188781: 100%|██████████| 1655/1655 [00:11<00:00, 142.19it/s]\n"
     ]
    },
    {
     "name": "stdout",
     "output_type": "stream",
     "text": [
      "====> Epoch: 0 Average train loss: 0.1826\n",
      "===> Epoch: 0 Average mae test loss for targetcol :3.2906\n",
      "===> Epoch: 0 Average mae test loss for targetcol: 3.2555\n",
      "====> Test set loss: 893.7579\n",
      "====> Epoch: 0 Average test loss: 0.0253\n"
     ]
    },
    {
     "name": "stderr",
     "output_type": "stream",
     "text": [
      "Train Epoch: 1 [105600/105870 (100%)]\tLoss: 0.131759: 100%|██████████| 1655/1655 [00:11<00:00, 138.72it/s]\n"
     ]
    },
    {
     "name": "stdout",
     "output_type": "stream",
     "text": [
      "====> Epoch: 1 Average train loss: 0.1747\n",
      "===> Epoch: 1 Average mae test loss for targetcol :3.1786\n",
      "===> Epoch: 1 Average mae test loss for targetcol: 3.0628\n",
      "====> Test set loss: 904.0673\n",
      "====> Epoch: 1 Average test loss: 0.0256\n"
     ]
    },
    {
     "name": "stderr",
     "output_type": "stream",
     "text": [
      "Train Epoch: 2 [105600/105870 (100%)]\tLoss: 0.161567: 100%|██████████| 1655/1655 [00:11<00:00, 146.15it/s]\n"
     ]
    },
    {
     "name": "stdout",
     "output_type": "stream",
     "text": [
      "====> Epoch: 2 Average train loss: 0.1744\n",
      "===> Epoch: 2 Average mae test loss for targetcol :3.1751\n",
      "===> Epoch: 2 Average mae test loss for targetcol: 2.9533\n",
      "====> Test set loss: 896.1562\n",
      "====> Epoch: 2 Average test loss: 0.0254\n"
     ]
    },
    {
     "name": "stderr",
     "output_type": "stream",
     "text": [
      "Train Epoch: 3 [105600/105870 (100%)]\tLoss: 0.180033: 100%|██████████| 1655/1655 [00:11<00:00, 144.42it/s]\n"
     ]
    },
    {
     "name": "stdout",
     "output_type": "stream",
     "text": [
      "====> Epoch: 3 Average train loss: 0.1743\n",
      "===> Epoch: 3 Average mae test loss for targetcol :3.1719\n",
      "===> Epoch: 3 Average mae test loss for targetcol: 3.2429\n",
      "====> Test set loss: 888.5167\n",
      "====> Epoch: 3 Average test loss: 0.0252\n"
     ]
    },
    {
     "name": "stderr",
     "output_type": "stream",
     "text": [
      "Train Epoch: 4 [105600/105870 (100%)]\tLoss: 0.194647: 100%|██████████| 1655/1655 [00:11<00:00, 142.97it/s]\n"
     ]
    },
    {
     "name": "stdout",
     "output_type": "stream",
     "text": [
      "====> Epoch: 4 Average train loss: 0.1743\n",
      "===> Epoch: 4 Average mae test loss for targetcol :3.1714\n",
      "===> Epoch: 4 Average mae test loss for targetcol: 3.0337\n",
      "====> Test set loss: 885.9270\n",
      "====> Epoch: 4 Average test loss: 0.0251\n"
     ]
    },
    {
     "name": "stderr",
     "output_type": "stream",
     "text": [
      "Train Epoch: 5 [105600/105870 (100%)]\tLoss: 0.150869: 100%|██████████| 1655/1655 [00:10<00:00, 151.44it/s]\n"
     ]
    },
    {
     "name": "stdout",
     "output_type": "stream",
     "text": [
      "====> Epoch: 5 Average train loss: 0.1742\n",
      "===> Epoch: 5 Average mae test loss for targetcol :3.1704\n",
      "===> Epoch: 5 Average mae test loss for targetcol: 2.9773\n",
      "====> Test set loss: 897.8199\n",
      "====> Epoch: 5 Average test loss: 0.0254\n"
     ]
    },
    {
     "name": "stderr",
     "output_type": "stream",
     "text": [
      "Train Epoch: 6 [105600/105870 (100%)]\tLoss: 0.185494: 100%|██████████| 1655/1655 [00:11<00:00, 148.75it/s]\n"
     ]
    },
    {
     "name": "stdout",
     "output_type": "stream",
     "text": [
      "====> Epoch: 6 Average train loss: 0.1742\n",
      "===> Epoch: 6 Average mae test loss for targetcol :3.1704\n",
      "===> Epoch: 6 Average mae test loss for targetcol: 2.9846\n",
      "====> Test set loss: 889.2050\n",
      "====> Epoch: 6 Average test loss: 0.0252\n"
     ]
    },
    {
     "name": "stderr",
     "output_type": "stream",
     "text": [
      "Train Epoch: 7 [105600/105870 (100%)]\tLoss: 0.149474: 100%|██████████| 1655/1655 [00:11<00:00, 146.54it/s]\n"
     ]
    },
    {
     "name": "stdout",
     "output_type": "stream",
     "text": [
      "====> Epoch: 7 Average train loss: 0.1742\n",
      "===> Epoch: 7 Average mae test loss for targetcol :3.1692\n",
      "===> Epoch: 7 Average mae test loss for targetcol: 3.1667\n",
      "====> Test set loss: 887.2146\n",
      "====> Epoch: 7 Average test loss: 0.0251\n"
     ]
    },
    {
     "name": "stderr",
     "output_type": "stream",
     "text": [
      "Train Epoch: 8 [105600/105870 (100%)]\tLoss: 0.196344: 100%|██████████| 1655/1655 [00:11<00:00, 149.74it/s]\n"
     ]
    },
    {
     "name": "stdout",
     "output_type": "stream",
     "text": [
      "====> Epoch: 8 Average train loss: 0.1741\n",
      "===> Epoch: 8 Average mae test loss for targetcol :3.1678\n",
      "===> Epoch: 8 Average mae test loss for targetcol: 2.9924\n",
      "====> Test set loss: 888.9858\n",
      "====> Epoch: 8 Average test loss: 0.0252\n"
     ]
    },
    {
     "name": "stderr",
     "output_type": "stream",
     "text": [
      "Train Epoch: 9 [105600/105870 (100%)]\tLoss: 0.161002: 100%|██████████| 1655/1655 [00:10<00:00, 150.87it/s]\n"
     ]
    },
    {
     "name": "stdout",
     "output_type": "stream",
     "text": [
      "====> Epoch: 9 Average train loss: 0.1741\n",
      "===> Epoch: 9 Average mae test loss for targetcol :3.1673\n",
      "===> Epoch: 9 Average mae test loss for targetcol: 3.2247\n",
      "====> Test set loss: 887.0423\n",
      "====> Epoch: 9 Average test loss: 0.0251\n"
     ]
    },
    {
     "name": "stderr",
     "output_type": "stream",
     "text": [
      "Train Epoch: 10 [105600/105870 (100%)]\tLoss: 0.136386: 100%|██████████| 1655/1655 [00:11<00:00, 150.00it/s]\n"
     ]
    },
    {
     "name": "stdout",
     "output_type": "stream",
     "text": [
      "====> Epoch: 10 Average train loss: 0.1741\n",
      "===> Epoch: 10 Average mae test loss for targetcol :3.1679\n",
      "===> Epoch: 10 Average mae test loss for targetcol: 2.9607\n",
      "====> Test set loss: 893.0050\n",
      "====> Epoch: 10 Average test loss: 0.0253\n"
     ]
    },
    {
     "name": "stderr",
     "output_type": "stream",
     "text": [
      "Train Epoch: 11 [105600/105870 (100%)]\tLoss: 0.136077: 100%|██████████| 1655/1655 [00:11<00:00, 146.70it/s]\n"
     ]
    },
    {
     "name": "stdout",
     "output_type": "stream",
     "text": [
      "====> Epoch: 11 Average train loss: 0.1741\n",
      "===> Epoch: 11 Average mae test loss for targetcol :3.1692\n",
      "===> Epoch: 11 Average mae test loss for targetcol: 3.0218\n",
      "====> Test set loss: 893.6392\n",
      "====> Epoch: 11 Average test loss: 0.0253\n"
     ]
    },
    {
     "name": "stderr",
     "output_type": "stream",
     "text": [
      "Train Epoch: 12 [105600/105870 (100%)]\tLoss: 0.186101: 100%|██████████| 1655/1655 [00:11<00:00, 143.89it/s]\n"
     ]
    },
    {
     "name": "stdout",
     "output_type": "stream",
     "text": [
      "====> Epoch: 12 Average train loss: 0.1741\n",
      "===> Epoch: 12 Average mae test loss for targetcol :3.1660\n",
      "===> Epoch: 12 Average mae test loss for targetcol: 2.9257\n",
      "====> Test set loss: 899.1714\n",
      "====> Epoch: 12 Average test loss: 0.0255\n"
     ]
    },
    {
     "name": "stderr",
     "output_type": "stream",
     "text": [
      "Train Epoch: 13 [105600/105870 (100%)]\tLoss: 0.155602: 100%|██████████| 1655/1655 [00:10<00:00, 150.47it/s]\n"
     ]
    },
    {
     "name": "stdout",
     "output_type": "stream",
     "text": [
      "====> Epoch: 13 Average train loss: 0.1741\n",
      "===> Epoch: 13 Average mae test loss for targetcol :3.1676\n",
      "===> Epoch: 13 Average mae test loss for targetcol: 2.9517\n",
      "====> Test set loss: 902.4899\n",
      "====> Epoch: 13 Average test loss: 0.0256\n"
     ]
    },
    {
     "name": "stderr",
     "output_type": "stream",
     "text": [
      "Train Epoch: 14 [105600/105870 (100%)]\tLoss: 0.160044: 100%|██████████| 1655/1655 [00:11<00:00, 149.67it/s]\n"
     ]
    },
    {
     "name": "stdout",
     "output_type": "stream",
     "text": [
      "====> Epoch: 14 Average train loss: 0.1741\n",
      "===> Epoch: 14 Average mae test loss for targetcol :3.1678\n",
      "===> Epoch: 14 Average mae test loss for targetcol: 3.0591\n",
      "====> Test set loss: 884.0215\n",
      "====> Epoch: 14 Average test loss: 0.0251\n"
     ]
    },
    {
     "name": "stderr",
     "output_type": "stream",
     "text": [
      "Train Epoch: 15 [105600/105870 (100%)]\tLoss: 0.140213: 100%|██████████| 1655/1655 [00:11<00:00, 143.26it/s]\n"
     ]
    },
    {
     "name": "stdout",
     "output_type": "stream",
     "text": [
      "====> Epoch: 15 Average train loss: 0.1741\n",
      "===> Epoch: 15 Average mae test loss for targetcol :3.1685\n",
      "===> Epoch: 15 Average mae test loss for targetcol: 3.0726\n",
      "====> Test set loss: 887.2385\n",
      "====> Epoch: 15 Average test loss: 0.0251\n"
     ]
    },
    {
     "name": "stderr",
     "output_type": "stream",
     "text": [
      "Train Epoch: 16 [105600/105870 (100%)]\tLoss: 0.161748: 100%|██████████| 1655/1655 [00:11<00:00, 147.56it/s]\n"
     ]
    },
    {
     "name": "stdout",
     "output_type": "stream",
     "text": [
      "====> Epoch: 16 Average train loss: 0.1740\n",
      "===> Epoch: 16 Average mae test loss for targetcol :3.1681\n",
      "===> Epoch: 16 Average mae test loss for targetcol: 2.9599\n",
      "====> Test set loss: 892.2521\n",
      "====> Epoch: 16 Average test loss: 0.0253\n"
     ]
    },
    {
     "name": "stderr",
     "output_type": "stream",
     "text": [
      "Train Epoch: 17 [105600/105870 (100%)]\tLoss: 0.216090: 100%|██████████| 1655/1655 [00:10<00:00, 152.63it/s]\n"
     ]
    },
    {
     "name": "stdout",
     "output_type": "stream",
     "text": [
      "====> Epoch: 17 Average train loss: 0.1741\n",
      "===> Epoch: 17 Average mae test loss for targetcol :3.1672\n",
      "===> Epoch: 17 Average mae test loss for targetcol: 3.0871\n",
      "====> Test set loss: 893.3480\n",
      "====> Epoch: 17 Average test loss: 0.0253\n"
     ]
    },
    {
     "name": "stderr",
     "output_type": "stream",
     "text": [
      "Train Epoch: 18 [105600/105870 (100%)]\tLoss: 0.199037: 100%|██████████| 1655/1655 [00:11<00:00, 148.19it/s]\n"
     ]
    },
    {
     "name": "stdout",
     "output_type": "stream",
     "text": [
      "====> Epoch: 18 Average train loss: 0.1741\n",
      "===> Epoch: 18 Average mae test loss for targetcol :3.1675\n",
      "===> Epoch: 18 Average mae test loss for targetcol: 3.2601\n",
      "====> Test set loss: 889.4174\n",
      "====> Epoch: 18 Average test loss: 0.0252\n"
     ]
    },
    {
     "name": "stderr",
     "output_type": "stream",
     "text": [
      "Train Epoch: 19 [105600/105870 (100%)]\tLoss: 0.203531: 100%|██████████| 1655/1655 [00:11<00:00, 143.38it/s]\n"
     ]
    },
    {
     "name": "stdout",
     "output_type": "stream",
     "text": [
      "====> Epoch: 19 Average train loss: 0.1741\n",
      "===> Epoch: 19 Average mae test loss for targetcol :3.1675\n",
      "===> Epoch: 19 Average mae test loss for targetcol: 2.9851\n",
      "====> Test set loss: 888.4419\n",
      "====> Epoch: 19 Average test loss: 0.0252\n"
     ]
    },
    {
     "name": "stderr",
     "output_type": "stream",
     "text": [
      "Train Epoch: 20 [105600/105870 (100%)]\tLoss: 0.164526: 100%|██████████| 1655/1655 [00:11<00:00, 142.28it/s]\n"
     ]
    },
    {
     "name": "stdout",
     "output_type": "stream",
     "text": [
      "====> Epoch: 20 Average train loss: 0.1740\n",
      "===> Epoch: 20 Average mae test loss for targetcol :3.1687\n",
      "===> Epoch: 20 Average mae test loss for targetcol: 3.1006\n",
      "====> Test set loss: 884.3506\n",
      "====> Epoch: 20 Average test loss: 0.0251\n"
     ]
    },
    {
     "name": "stderr",
     "output_type": "stream",
     "text": [
      "Train Epoch: 21 [105600/105870 (100%)]\tLoss: 0.182910: 100%|██████████| 1655/1655 [00:11<00:00, 139.81it/s]\n"
     ]
    },
    {
     "name": "stdout",
     "output_type": "stream",
     "text": [
      "====> Epoch: 21 Average train loss: 0.1740\n",
      "===> Epoch: 21 Average mae test loss for targetcol :3.1674\n",
      "===> Epoch: 21 Average mae test loss for targetcol: 2.9814\n",
      "====> Test set loss: 890.0480\n",
      "====> Epoch: 21 Average test loss: 0.0252\n"
     ]
    },
    {
     "name": "stderr",
     "output_type": "stream",
     "text": [
      "Train Epoch: 22 [105600/105870 (100%)]\tLoss: 0.157310: 100%|██████████| 1655/1655 [00:10<00:00, 151.02it/s]\n"
     ]
    },
    {
     "name": "stdout",
     "output_type": "stream",
     "text": [
      "====> Epoch: 22 Average train loss: 0.1740\n",
      "===> Epoch: 22 Average mae test loss for targetcol :3.1684\n",
      "===> Epoch: 22 Average mae test loss for targetcol: 3.0770\n",
      "====> Test set loss: 883.7888\n",
      "====> Epoch: 22 Average test loss: 0.0250\n"
     ]
    },
    {
     "name": "stderr",
     "output_type": "stream",
     "text": [
      "Train Epoch: 23 [105600/105870 (100%)]\tLoss: 0.157500: 100%|██████████| 1655/1655 [00:11<00:00, 148.42it/s]\n"
     ]
    },
    {
     "name": "stdout",
     "output_type": "stream",
     "text": [
      "====> Epoch: 23 Average train loss: 0.1741\n",
      "===> Epoch: 23 Average mae test loss for targetcol :3.1661\n",
      "===> Epoch: 23 Average mae test loss for targetcol: 3.0534\n",
      "====> Test set loss: 885.9978\n",
      "====> Epoch: 23 Average test loss: 0.0251\n"
     ]
    },
    {
     "name": "stderr",
     "output_type": "stream",
     "text": [
      "Train Epoch: 24 [105600/105870 (100%)]\tLoss: 0.156215: 100%|██████████| 1655/1655 [00:11<00:00, 145.98it/s]\n"
     ]
    },
    {
     "name": "stdout",
     "output_type": "stream",
     "text": [
      "====> Epoch: 24 Average train loss: 0.1741\n",
      "===> Epoch: 24 Average mae test loss for targetcol :3.1685\n",
      "===> Epoch: 24 Average mae test loss for targetcol: 2.9814\n",
      "====> Test set loss: 891.2532\n",
      "====> Epoch: 24 Average test loss: 0.0253\n"
     ]
    },
    {
     "name": "stderr",
     "output_type": "stream",
     "text": [
      "Train Epoch: 25 [105600/105870 (100%)]\tLoss: 0.161859: 100%|██████████| 1655/1655 [00:11<00:00, 142.69it/s]\n"
     ]
    },
    {
     "name": "stdout",
     "output_type": "stream",
     "text": [
      "====> Epoch: 25 Average train loss: 0.1741\n",
      "===> Epoch: 25 Average mae test loss for targetcol :3.1670\n",
      "===> Epoch: 25 Average mae test loss for targetcol: 3.0271\n",
      "====> Test set loss: 886.0621\n",
      "====> Epoch: 25 Average test loss: 0.0251\n"
     ]
    },
    {
     "name": "stderr",
     "output_type": "stream",
     "text": [
      "Train Epoch: 26 [105600/105870 (100%)]\tLoss: 0.161874: 100%|██████████| 1655/1655 [00:11<00:00, 147.71it/s]\n"
     ]
    },
    {
     "name": "stdout",
     "output_type": "stream",
     "text": [
      "====> Epoch: 26 Average train loss: 0.1741\n",
      "===> Epoch: 26 Average mae test loss for targetcol :3.1658\n",
      "===> Epoch: 26 Average mae test loss for targetcol: 2.9927\n",
      "====> Test set loss: 887.8419\n",
      "====> Epoch: 26 Average test loss: 0.0252\n"
     ]
    },
    {
     "name": "stderr",
     "output_type": "stream",
     "text": [
      "Train Epoch: 27 [105600/105870 (100%)]\tLoss: 0.148368: 100%|██████████| 1655/1655 [00:11<00:00, 149.21it/s]\n"
     ]
    },
    {
     "name": "stdout",
     "output_type": "stream",
     "text": [
      "====> Epoch: 27 Average train loss: 0.1741\n",
      "===> Epoch: 27 Average mae test loss for targetcol :3.1671\n",
      "===> Epoch: 27 Average mae test loss for targetcol: 3.0517\n",
      "====> Test set loss: 883.9753\n",
      "====> Epoch: 27 Average test loss: 0.0250\n"
     ]
    },
    {
     "name": "stderr",
     "output_type": "stream",
     "text": [
      "Train Epoch: 28 [105600/105870 (100%)]\tLoss: 0.176057: 100%|██████████| 1655/1655 [00:11<00:00, 148.75it/s]\n"
     ]
    },
    {
     "name": "stdout",
     "output_type": "stream",
     "text": [
      "====> Epoch: 28 Average train loss: 0.1741\n",
      "===> Epoch: 28 Average mae test loss for targetcol :3.1696\n",
      "===> Epoch: 28 Average mae test loss for targetcol: 3.0148\n",
      "====> Test set loss: 887.2004\n",
      "====> Epoch: 28 Average test loss: 0.0251\n"
     ]
    },
    {
     "name": "stderr",
     "output_type": "stream",
     "text": [
      "Train Epoch: 29 [105600/105870 (100%)]\tLoss: 0.174399: 100%|██████████| 1655/1655 [00:11<00:00, 140.20it/s]\n"
     ]
    },
    {
     "name": "stdout",
     "output_type": "stream",
     "text": [
      "====> Epoch: 29 Average train loss: 0.1740\n",
      "===> Epoch: 29 Average mae test loss for targetcol :3.1675\n",
      "===> Epoch: 29 Average mae test loss for targetcol: 3.0128\n",
      "====> Test set loss: 886.2248\n",
      "====> Epoch: 29 Average test loss: 0.0251\n"
     ]
    },
    {
     "name": "stderr",
     "output_type": "stream",
     "text": [
      "Train Epoch: 30 [105600/105870 (100%)]\tLoss: 0.159333: 100%|██████████| 1655/1655 [00:11<00:00, 149.19it/s]\n"
     ]
    },
    {
     "name": "stdout",
     "output_type": "stream",
     "text": [
      "====> Epoch: 30 Average train loss: 0.1740\n",
      "===> Epoch: 30 Average mae test loss for targetcol :3.1665\n",
      "===> Epoch: 30 Average mae test loss for targetcol: 3.1127\n",
      "====> Test set loss: 882.8339\n",
      "====> Epoch: 30 Average test loss: 0.0250\n"
     ]
    },
    {
     "name": "stderr",
     "output_type": "stream",
     "text": [
      "Train Epoch: 31 [105600/105870 (100%)]\tLoss: 0.163633: 100%|██████████| 1655/1655 [00:11<00:00, 143.56it/s]\n"
     ]
    },
    {
     "name": "stdout",
     "output_type": "stream",
     "text": [
      "====> Epoch: 31 Average train loss: 0.1741\n",
      "===> Epoch: 31 Average mae test loss for targetcol :3.1679\n",
      "===> Epoch: 31 Average mae test loss for targetcol: 3.0236\n",
      "====> Test set loss: 887.3856\n",
      "====> Epoch: 31 Average test loss: 0.0251\n"
     ]
    },
    {
     "name": "stderr",
     "output_type": "stream",
     "text": [
      "Train Epoch: 32 [105600/105870 (100%)]\tLoss: 0.131616: 100%|██████████| 1655/1655 [00:11<00:00, 143.69it/s]\n"
     ]
    },
    {
     "name": "stdout",
     "output_type": "stream",
     "text": [
      "====> Epoch: 32 Average train loss: 0.1741\n",
      "===> Epoch: 32 Average mae test loss for targetcol :3.1665\n",
      "===> Epoch: 32 Average mae test loss for targetcol: 2.9829\n",
      "====> Test set loss: 889.0263\n",
      "====> Epoch: 32 Average test loss: 0.0252\n"
     ]
    },
    {
     "name": "stderr",
     "output_type": "stream",
     "text": [
      "Train Epoch: 33 [105600/105870 (100%)]\tLoss: 0.150387: 100%|██████████| 1655/1655 [00:11<00:00, 148.85it/s]\n"
     ]
    },
    {
     "name": "stdout",
     "output_type": "stream",
     "text": [
      "====> Epoch: 33 Average train loss: 0.1741\n",
      "===> Epoch: 33 Average mae test loss for targetcol :3.1693\n",
      "===> Epoch: 33 Average mae test loss for targetcol: 3.0372\n",
      "====> Test set loss: 885.4627\n",
      "====> Epoch: 33 Average test loss: 0.0251\n"
     ]
    },
    {
     "name": "stderr",
     "output_type": "stream",
     "text": [
      "Train Epoch: 34 [105600/105870 (100%)]\tLoss: 0.147707: 100%|██████████| 1655/1655 [00:11<00:00, 144.08it/s]\n"
     ]
    },
    {
     "name": "stdout",
     "output_type": "stream",
     "text": [
      "====> Epoch: 34 Average train loss: 0.1740\n",
      "===> Epoch: 34 Average mae test loss for targetcol :3.1666\n",
      "===> Epoch: 34 Average mae test loss for targetcol: 2.9268\n",
      "====> Test set loss: 898.9216\n",
      "====> Epoch: 34 Average test loss: 0.0255\n"
     ]
    },
    {
     "name": "stderr",
     "output_type": "stream",
     "text": [
      "Train Epoch: 35 [105600/105870 (100%)]\tLoss: 0.145996: 100%|██████████| 1655/1655 [00:11<00:00, 147.04it/s]\n"
     ]
    },
    {
     "name": "stdout",
     "output_type": "stream",
     "text": [
      "====> Epoch: 35 Average train loss: 0.1741\n",
      "===> Epoch: 35 Average mae test loss for targetcol :3.1671\n",
      "===> Epoch: 35 Average mae test loss for targetcol: 2.9169\n",
      "====> Test set loss: 905.1186\n",
      "====> Epoch: 35 Average test loss: 0.0256\n"
     ]
    },
    {
     "name": "stderr",
     "output_type": "stream",
     "text": [
      "Train Epoch: 36 [105600/105870 (100%)]\tLoss: 0.190360: 100%|██████████| 1655/1655 [00:11<00:00, 143.85it/s]\n"
     ]
    },
    {
     "name": "stdout",
     "output_type": "stream",
     "text": [
      "====> Epoch: 36 Average train loss: 0.1740\n",
      "===> Epoch: 36 Average mae test loss for targetcol :3.1665\n",
      "===> Epoch: 36 Average mae test loss for targetcol: 2.9997\n",
      "====> Test set loss: 887.3646\n",
      "====> Epoch: 36 Average test loss: 0.0251\n"
     ]
    },
    {
     "name": "stderr",
     "output_type": "stream",
     "text": [
      "Train Epoch: 37 [105600/105870 (100%)]\tLoss: 0.168034: 100%|██████████| 1655/1655 [00:11<00:00, 148.89it/s]\n"
     ]
    },
    {
     "name": "stdout",
     "output_type": "stream",
     "text": [
      "====> Epoch: 37 Average train loss: 0.1740\n",
      "===> Epoch: 37 Average mae test loss for targetcol :3.1661\n",
      "===> Epoch: 37 Average mae test loss for targetcol: 2.9494\n",
      "====> Test set loss: 897.3794\n",
      "====> Epoch: 37 Average test loss: 0.0254\n"
     ]
    },
    {
     "name": "stderr",
     "output_type": "stream",
     "text": [
      "Train Epoch: 38 [105600/105870 (100%)]\tLoss: 0.195126: 100%|██████████| 1655/1655 [00:11<00:00, 140.03it/s]\n"
     ]
    },
    {
     "name": "stdout",
     "output_type": "stream",
     "text": [
      "====> Epoch: 38 Average train loss: 0.1740\n",
      "===> Epoch: 38 Average mae test loss for targetcol :3.1672\n",
      "===> Epoch: 38 Average mae test loss for targetcol: 3.1902\n",
      "====> Test set loss: 884.6687\n",
      "====> Epoch: 38 Average test loss: 0.0251\n"
     ]
    },
    {
     "name": "stderr",
     "output_type": "stream",
     "text": [
      "Train Epoch: 39 [105600/105870 (100%)]\tLoss: 0.170988: 100%|██████████| 1655/1655 [00:11<00:00, 141.29it/s]\n"
     ]
    },
    {
     "name": "stdout",
     "output_type": "stream",
     "text": [
      "====> Epoch: 39 Average train loss: 0.1741\n",
      "===> Epoch: 39 Average mae test loss for targetcol :3.1672\n",
      "===> Epoch: 39 Average mae test loss for targetcol: 3.0259\n",
      "====> Test set loss: 885.8737\n",
      "====> Epoch: 39 Average test loss: 0.0251\n"
     ]
    },
    {
     "name": "stderr",
     "output_type": "stream",
     "text": [
      "Train Epoch: 40 [105600/105870 (100%)]\tLoss: 0.146464: 100%|██████████| 1655/1655 [00:11<00:00, 146.19it/s]\n"
     ]
    },
    {
     "name": "stdout",
     "output_type": "stream",
     "text": [
      "====> Epoch: 40 Average train loss: 0.1740\n",
      "===> Epoch: 40 Average mae test loss for targetcol :3.1660\n",
      "===> Epoch: 40 Average mae test loss for targetcol: 3.0706\n",
      "====> Test set loss: 888.1134\n",
      "====> Epoch: 40 Average test loss: 0.0252\n"
     ]
    },
    {
     "name": "stderr",
     "output_type": "stream",
     "text": [
      "Train Epoch: 41 [105600/105870 (100%)]\tLoss: 0.165174: 100%|██████████| 1655/1655 [00:11<00:00, 143.15it/s]\n"
     ]
    },
    {
     "name": "stdout",
     "output_type": "stream",
     "text": [
      "====> Epoch: 41 Average train loss: 0.1740\n",
      "===> Epoch: 41 Average mae test loss for targetcol :3.1665\n",
      "===> Epoch: 41 Average mae test loss for targetcol: 3.0043\n",
      "====> Test set loss: 886.9058\n",
      "====> Epoch: 41 Average test loss: 0.0251\n"
     ]
    },
    {
     "name": "stderr",
     "output_type": "stream",
     "text": [
      "Train Epoch: 42 [105600/105870 (100%)]\tLoss: 0.160388: 100%|██████████| 1655/1655 [00:11<00:00, 143.96it/s]\n"
     ]
    },
    {
     "name": "stdout",
     "output_type": "stream",
     "text": [
      "====> Epoch: 42 Average train loss: 0.1740\n",
      "===> Epoch: 42 Average mae test loss for targetcol :3.1684\n",
      "===> Epoch: 42 Average mae test loss for targetcol: 2.9994\n",
      "====> Test set loss: 887.0847\n",
      "====> Epoch: 42 Average test loss: 0.0251\n"
     ]
    },
    {
     "name": "stderr",
     "output_type": "stream",
     "text": [
      "Train Epoch: 43 [105600/105870 (100%)]\tLoss: 0.176117: 100%|██████████| 1655/1655 [00:12<00:00, 137.85it/s]\n"
     ]
    },
    {
     "name": "stdout",
     "output_type": "stream",
     "text": [
      "====> Epoch: 43 Average train loss: 0.1741\n",
      "===> Epoch: 43 Average mae test loss for targetcol :3.1666\n",
      "===> Epoch: 43 Average mae test loss for targetcol: 2.9801\n",
      "====> Test set loss: 891.2007\n",
      "====> Epoch: 43 Average test loss: 0.0253\n"
     ]
    },
    {
     "name": "stderr",
     "output_type": "stream",
     "text": [
      "Train Epoch: 44 [105600/105870 (100%)]\tLoss: 0.197220: 100%|██████████| 1655/1655 [00:11<00:00, 145.25it/s]\n"
     ]
    },
    {
     "name": "stdout",
     "output_type": "stream",
     "text": [
      "====> Epoch: 44 Average train loss: 0.1740\n",
      "===> Epoch: 44 Average mae test loss for targetcol :3.1661\n",
      "===> Epoch: 44 Average mae test loss for targetcol: 3.1308\n",
      "====> Test set loss: 886.4497\n",
      "====> Epoch: 44 Average test loss: 0.0251\n"
     ]
    },
    {
     "name": "stderr",
     "output_type": "stream",
     "text": [
      "Train Epoch: 45 [105600/105870 (100%)]\tLoss: 0.198704: 100%|██████████| 1655/1655 [00:11<00:00, 146.66it/s]\n"
     ]
    },
    {
     "name": "stdout",
     "output_type": "stream",
     "text": [
      "====> Epoch: 45 Average train loss: 0.1741\n",
      "===> Epoch: 45 Average mae test loss for targetcol :3.1673\n",
      "===> Epoch: 45 Average mae test loss for targetcol: 2.9835\n",
      "====> Test set loss: 889.9677\n",
      "====> Epoch: 45 Average test loss: 0.0252\n"
     ]
    },
    {
     "name": "stderr",
     "output_type": "stream",
     "text": [
      "Train Epoch: 46 [105600/105870 (100%)]\tLoss: 0.227260: 100%|██████████| 1655/1655 [00:11<00:00, 143.56it/s]\n"
     ]
    },
    {
     "name": "stdout",
     "output_type": "stream",
     "text": [
      "====> Epoch: 46 Average train loss: 0.1740\n",
      "===> Epoch: 46 Average mae test loss for targetcol :3.1659\n",
      "===> Epoch: 46 Average mae test loss for targetcol: 2.9476\n",
      "====> Test set loss: 895.4756\n",
      "====> Epoch: 46 Average test loss: 0.0254\n"
     ]
    },
    {
     "name": "stderr",
     "output_type": "stream",
     "text": [
      "Train Epoch: 47 [105600/105870 (100%)]\tLoss: 0.177378: 100%|██████████| 1655/1655 [00:12<00:00, 137.85it/s]\n"
     ]
    },
    {
     "name": "stdout",
     "output_type": "stream",
     "text": [
      "====> Epoch: 47 Average train loss: 0.1740\n",
      "===> Epoch: 47 Average mae test loss for targetcol :3.1676\n",
      "===> Epoch: 47 Average mae test loss for targetcol: 3.0864\n",
      "====> Test set loss: 883.4535\n",
      "====> Epoch: 47 Average test loss: 0.0250\n"
     ]
    },
    {
     "name": "stderr",
     "output_type": "stream",
     "text": [
      "Train Epoch: 48 [105600/105870 (100%)]\tLoss: 0.142233: 100%|██████████| 1655/1655 [00:11<00:00, 139.73it/s]\n"
     ]
    },
    {
     "name": "stdout",
     "output_type": "stream",
     "text": [
      "====> Epoch: 48 Average train loss: 0.1740\n",
      "===> Epoch: 48 Average mae test loss for targetcol :3.1679\n",
      "===> Epoch: 48 Average mae test loss for targetcol: 2.9966\n",
      "====> Test set loss: 898.7526\n",
      "====> Epoch: 48 Average test loss: 0.0255\n"
     ]
    },
    {
     "name": "stderr",
     "output_type": "stream",
     "text": [
      "Train Epoch: 49 [105600/105870 (100%)]\tLoss: 0.197853: 100%|██████████| 1655/1655 [00:12<00:00, 137.64it/s]\n"
     ]
    },
    {
     "name": "stdout",
     "output_type": "stream",
     "text": [
      "====> Epoch: 49 Average train loss: 0.1741\n",
      "===> Epoch: 49 Average mae test loss for targetcol :3.1661\n"
     ]
    },
    {
     "name": "stderr",
     "output_type": "stream",
     "text": [
      "[I 2025-05-15 13:03:11,891] Trial 4 finished with value: 0.02505394658210519 and parameters: {'batch_size': 64, 'learning_rate': 0.008363264443483771, 'lambda': 0.9632408065194331}. Best is trial 4 with value: 0.02505394658210519.\n"
     ]
    },
    {
     "name": "stdout",
     "output_type": "stream",
     "text": [
      "===> Epoch: 49 Average mae test loss for targetcol: 3.0418\n",
      "====> Test set loss: 884.1538\n",
      "====> Epoch: 49 Average test loss: 0.0251\n",
      "🏃 View run nebulous-croc-787 at: http://localhost:5000/#/experiments/4/runs/bd28a5c3aed54ddfbaa65eb386c75fb7\n",
      "🧪 View experiment at: http://localhost:5000/#/experiments/4\n"
     ]
    },
    {
     "name": "stderr",
     "output_type": "stream",
     "text": [
      "Train Epoch: 0 [105600/105870 (100%)]\tLoss: 2.417527: 100%|██████████| 1655/1655 [00:11<00:00, 140.17it/s]\n"
     ]
    },
    {
     "name": "stdout",
     "output_type": "stream",
     "text": [
      "====> Epoch: 0 Average train loss: 3.0086\n",
      "===> Epoch: 0 Average mae test loss for targetcol :4.3575\n",
      "===> Epoch: 0 Average mae test loss for targetcol: 4.1111\n",
      "====> Test set loss: 4257.7711\n",
      "====> Epoch: 0 Average test loss: 0.1207\n"
     ]
    },
    {
     "name": "stderr",
     "output_type": "stream",
     "text": [
      "Train Epoch: 1 [105600/105870 (100%)]\tLoss: 1.866972: 100%|██████████| 1655/1655 [00:11<00:00, 140.43it/s]\n"
     ]
    },
    {
     "name": "stdout",
     "output_type": "stream",
     "text": [
      "====> Epoch: 1 Average train loss: 2.1346\n",
      "===> Epoch: 1 Average mae test loss for targetcol :4.0003\n",
      "===> Epoch: 1 Average mae test loss for targetcol: 3.9175\n",
      "====> Test set loss: 2220.2608\n",
      "====> Epoch: 1 Average test loss: 0.0629\n"
     ]
    },
    {
     "name": "stderr",
     "output_type": "stream",
     "text": [
      "Train Epoch: 2 [105600/105870 (100%)]\tLoss: 1.207935: 100%|██████████| 1655/1655 [00:11<00:00, 147.42it/s]\n"
     ]
    },
    {
     "name": "stdout",
     "output_type": "stream",
     "text": [
      "====> Epoch: 2 Average train loss: 1.7563\n",
      "===> Epoch: 2 Average mae test loss for targetcol :3.8312\n",
      "===> Epoch: 2 Average mae test loss for targetcol: 3.7711\n",
      "====> Test set loss: 1935.8207\n",
      "====> Epoch: 2 Average test loss: 0.0549\n"
     ]
    },
    {
     "name": "stderr",
     "output_type": "stream",
     "text": [
      "Train Epoch: 3 [105600/105870 (100%)]\tLoss: 1.301482: 100%|██████████| 1655/1655 [00:11<00:00, 138.71it/s]\n"
     ]
    },
    {
     "name": "stdout",
     "output_type": "stream",
     "text": [
      "====> Epoch: 3 Average train loss: 1.5810\n",
      "===> Epoch: 3 Average mae test loss for targetcol :3.7274\n",
      "===> Epoch: 3 Average mae test loss for targetcol: 3.6963\n",
      "====> Test set loss: 1855.7388\n",
      "====> Epoch: 3 Average test loss: 0.0526\n"
     ]
    },
    {
     "name": "stderr",
     "output_type": "stream",
     "text": [
      "Train Epoch: 4 [105600/105870 (100%)]\tLoss: 1.387245: 100%|██████████| 1655/1655 [00:12<00:00, 137.20it/s]\n"
     ]
    },
    {
     "name": "stdout",
     "output_type": "stream",
     "text": [
      "====> Epoch: 4 Average train loss: 1.4971\n",
      "===> Epoch: 4 Average mae test loss for targetcol :3.6710\n",
      "===> Epoch: 4 Average mae test loss for targetcol: 3.6393\n",
      "====> Test set loss: 1850.0171\n",
      "====> Epoch: 4 Average test loss: 0.0524\n"
     ]
    },
    {
     "name": "stderr",
     "output_type": "stream",
     "text": [
      "Train Epoch: 5 [105600/105870 (100%)]\tLoss: 1.709230: 100%|██████████| 1655/1655 [00:11<00:00, 147.97it/s]\n"
     ]
    },
    {
     "name": "stdout",
     "output_type": "stream",
     "text": [
      "====> Epoch: 5 Average train loss: 1.4578\n",
      "===> Epoch: 5 Average mae test loss for targetcol :3.6376\n",
      "===> Epoch: 5 Average mae test loss for targetcol: 3.6160\n",
      "====> Test set loss: 1895.0397\n",
      "====> Epoch: 5 Average test loss: 0.0537\n"
     ]
    },
    {
     "name": "stderr",
     "output_type": "stream",
     "text": [
      "Train Epoch: 6 [105600/105870 (100%)]\tLoss: 1.713568: 100%|██████████| 1655/1655 [00:12<00:00, 134.54it/s]\n"
     ]
    },
    {
     "name": "stdout",
     "output_type": "stream",
     "text": [
      "====> Epoch: 6 Average train loss: 1.4349\n",
      "===> Epoch: 6 Average mae test loss for targetcol :3.6098\n",
      "===> Epoch: 6 Average mae test loss for targetcol: 3.5878\n",
      "====> Test set loss: 1965.8591\n",
      "====> Epoch: 6 Average test loss: 0.0557\n"
     ]
    },
    {
     "name": "stderr",
     "output_type": "stream",
     "text": [
      "Train Epoch: 7 [105600/105870 (100%)]\tLoss: 1.429213: 100%|██████████| 1655/1655 [00:11<00:00, 146.39it/s]\n"
     ]
    },
    {
     "name": "stdout",
     "output_type": "stream",
     "text": [
      "====> Epoch: 7 Average train loss: 1.4204\n",
      "===> Epoch: 7 Average mae test loss for targetcol :3.5890\n",
      "===> Epoch: 7 Average mae test loss for targetcol: 3.5534\n",
      "====> Test set loss: 2063.7836\n",
      "====> Epoch: 7 Average test loss: 0.0585\n"
     ]
    },
    {
     "name": "stderr",
     "output_type": "stream",
     "text": [
      "Train Epoch: 8 [105600/105870 (100%)]\tLoss: 1.443530: 100%|██████████| 1655/1655 [00:06<00:00, 237.41it/s]\n"
     ]
    },
    {
     "name": "stdout",
     "output_type": "stream",
     "text": [
      "====> Epoch: 8 Average train loss: 1.4078\n",
      "===> Epoch: 8 Average mae test loss for targetcol :3.5810\n",
      "===> Epoch: 8 Average mae test loss for targetcol: 3.5386\n",
      "====> Test set loss: 2183.7506\n",
      "====> Epoch: 8 Average test loss: 0.0619\n"
     ]
    },
    {
     "name": "stderr",
     "output_type": "stream",
     "text": [
      "Train Epoch: 9 [105600/105870 (100%)]\tLoss: 1.696944: 100%|██████████| 1655/1655 [00:06<00:00, 243.16it/s]\n"
     ]
    },
    {
     "name": "stdout",
     "output_type": "stream",
     "text": [
      "====> Epoch: 9 Average train loss: 1.3980\n",
      "===> Epoch: 9 Average mae test loss for targetcol :3.5471\n",
      "===> Epoch: 9 Average mae test loss for targetcol: 3.5248\n",
      "====> Test set loss: 2329.6488\n",
      "====> Epoch: 9 Average test loss: 0.0660\n"
     ]
    },
    {
     "name": "stderr",
     "output_type": "stream",
     "text": [
      "Train Epoch: 10 [105600/105870 (100%)]\tLoss: 1.559185: 100%|██████████| 1655/1655 [00:06<00:00, 241.63it/s]\n"
     ]
    },
    {
     "name": "stdout",
     "output_type": "stream",
     "text": [
      "====> Epoch: 10 Average train loss: 1.3903\n",
      "===> Epoch: 10 Average mae test loss for targetcol :3.5490\n",
      "===> Epoch: 10 Average mae test loss for targetcol: 3.4926\n",
      "====> Test set loss: 2490.8940\n",
      "====> Epoch: 10 Average test loss: 0.0706\n"
     ]
    },
    {
     "name": "stderr",
     "output_type": "stream",
     "text": [
      "Train Epoch: 11 [105600/105870 (100%)]\tLoss: 1.583125: 100%|██████████| 1655/1655 [00:06<00:00, 237.58it/s]\n"
     ]
    },
    {
     "name": "stdout",
     "output_type": "stream",
     "text": [
      "====> Epoch: 11 Average train loss: 1.3774\n",
      "===> Epoch: 11 Average mae test loss for targetcol :3.5264\n",
      "===> Epoch: 11 Average mae test loss for targetcol: 3.4847\n",
      "====> Test set loss: 2678.0681\n",
      "====> Epoch: 11 Average test loss: 0.0759\n"
     ]
    },
    {
     "name": "stderr",
     "output_type": "stream",
     "text": [
      "Train Epoch: 12 [105600/105870 (100%)]\tLoss: 1.525725: 100%|██████████| 1655/1655 [00:06<00:00, 242.37it/s]\n"
     ]
    },
    {
     "name": "stdout",
     "output_type": "stream",
     "text": [
      "====> Epoch: 12 Average train loss: 1.3738\n",
      "===> Epoch: 12 Average mae test loss for targetcol :3.5167\n",
      "===> Epoch: 12 Average mae test loss for targetcol: 3.4637\n",
      "====> Test set loss: 2863.3391\n",
      "====> Epoch: 12 Average test loss: 0.0811\n"
     ]
    },
    {
     "name": "stderr",
     "output_type": "stream",
     "text": [
      "Train Epoch: 13 [105600/105870 (100%)]\tLoss: 1.572181: 100%|██████████| 1655/1655 [00:06<00:00, 236.61it/s]\n"
     ]
    },
    {
     "name": "stdout",
     "output_type": "stream",
     "text": [
      "====> Epoch: 13 Average train loss: 1.3645\n",
      "===> Epoch: 13 Average mae test loss for targetcol :3.5040\n",
      "===> Epoch: 13 Average mae test loss for targetcol: 3.4384\n",
      "====> Test set loss: 3035.9701\n",
      "====> Epoch: 13 Average test loss: 0.0860\n"
     ]
    },
    {
     "name": "stderr",
     "output_type": "stream",
     "text": [
      "Train Epoch: 14 [105600/105870 (100%)]\tLoss: 1.635149: 100%|██████████| 1655/1655 [00:06<00:00, 242.89it/s]\n"
     ]
    },
    {
     "name": "stdout",
     "output_type": "stream",
     "text": [
      "====> Epoch: 14 Average train loss: 1.3547\n",
      "===> Epoch: 14 Average mae test loss for targetcol :3.4924\n",
      "===> Epoch: 14 Average mae test loss for targetcol: 3.4400\n",
      "====> Test set loss: 3238.0716\n",
      "====> Epoch: 14 Average test loss: 0.0918\n"
     ]
    },
    {
     "name": "stderr",
     "output_type": "stream",
     "text": [
      "Train Epoch: 15 [105600/105870 (100%)]\tLoss: 1.593830: 100%|██████████| 1655/1655 [00:07<00:00, 228.75it/s]\n"
     ]
    },
    {
     "name": "stdout",
     "output_type": "stream",
     "text": [
      "====> Epoch: 15 Average train loss: 1.3510\n",
      "===> Epoch: 15 Average mae test loss for targetcol :3.4825\n",
      "===> Epoch: 15 Average mae test loss for targetcol: 3.4288\n",
      "====> Test set loss: 3437.2545\n",
      "====> Epoch: 15 Average test loss: 0.0974\n"
     ]
    },
    {
     "name": "stderr",
     "output_type": "stream",
     "text": [
      "Train Epoch: 16 [105600/105870 (100%)]\tLoss: 1.553305: 100%|██████████| 1655/1655 [00:07<00:00, 235.38it/s]\n"
     ]
    },
    {
     "name": "stdout",
     "output_type": "stream",
     "text": [
      "====> Epoch: 16 Average train loss: 1.3433\n",
      "===> Epoch: 16 Average mae test loss for targetcol :3.4681\n",
      "===> Epoch: 16 Average mae test loss for targetcol: 3.3989\n",
      "====> Test set loss: 3597.2278\n",
      "====> Epoch: 16 Average test loss: 0.1019\n"
     ]
    },
    {
     "name": "stderr",
     "output_type": "stream",
     "text": [
      "Train Epoch: 17 [105600/105870 (100%)]\tLoss: 1.036077: 100%|██████████| 1655/1655 [00:07<00:00, 235.41it/s]\n"
     ]
    },
    {
     "name": "stdout",
     "output_type": "stream",
     "text": [
      "====> Epoch: 17 Average train loss: 1.3363\n",
      "===> Epoch: 17 Average mae test loss for targetcol :3.4464\n",
      "===> Epoch: 17 Average mae test loss for targetcol: 3.3918\n",
      "====> Test set loss: 3747.4150\n",
      "====> Epoch: 17 Average test loss: 0.1062\n"
     ]
    },
    {
     "name": "stderr",
     "output_type": "stream",
     "text": [
      "Train Epoch: 18 [105600/105870 (100%)]\tLoss: 1.223894: 100%|██████████| 1655/1655 [00:06<00:00, 252.61it/s]\n"
     ]
    },
    {
     "name": "stdout",
     "output_type": "stream",
     "text": [
      "====> Epoch: 18 Average train loss: 1.3310\n",
      "===> Epoch: 18 Average mae test loss for targetcol :3.4466\n",
      "===> Epoch: 18 Average mae test loss for targetcol: 3.3792\n",
      "====> Test set loss: 3878.6048\n",
      "====> Epoch: 18 Average test loss: 0.1099\n"
     ]
    },
    {
     "name": "stderr",
     "output_type": "stream",
     "text": [
      "Train Epoch: 19 [105600/105870 (100%)]\tLoss: 1.150526: 100%|██████████| 1655/1655 [00:06<00:00, 257.02it/s]\n"
     ]
    },
    {
     "name": "stdout",
     "output_type": "stream",
     "text": [
      "====> Epoch: 19 Average train loss: 1.3271\n",
      "===> Epoch: 19 Average mae test loss for targetcol :3.4349\n",
      "===> Epoch: 19 Average mae test loss for targetcol: 3.3848\n",
      "====> Test set loss: 4037.5332\n",
      "====> Epoch: 19 Average test loss: 0.1144\n"
     ]
    },
    {
     "name": "stderr",
     "output_type": "stream",
     "text": [
      "Train Epoch: 20 [105600/105870 (100%)]\tLoss: 1.631339: 100%|██████████| 1655/1655 [00:06<00:00, 248.96it/s]\n"
     ]
    },
    {
     "name": "stdout",
     "output_type": "stream",
     "text": [
      "====> Epoch: 20 Average train loss: 1.3216\n",
      "===> Epoch: 20 Average mae test loss for targetcol :3.4240\n",
      "===> Epoch: 20 Average mae test loss for targetcol: 3.3740\n",
      "====> Test set loss: 4130.6977\n",
      "====> Epoch: 20 Average test loss: 0.1171\n"
     ]
    },
    {
     "name": "stderr",
     "output_type": "stream",
     "text": [
      "Train Epoch: 21 [105600/105870 (100%)]\tLoss: 1.268110: 100%|██████████| 1655/1655 [00:06<00:00, 253.25it/s]\n"
     ]
    },
    {
     "name": "stdout",
     "output_type": "stream",
     "text": [
      "====> Epoch: 21 Average train loss: 1.3188\n",
      "===> Epoch: 21 Average mae test loss for targetcol :3.4112\n",
      "===> Epoch: 21 Average mae test loss for targetcol: 3.3632\n",
      "====> Test set loss: 4255.6307\n",
      "====> Epoch: 21 Average test loss: 0.1206\n"
     ]
    },
    {
     "name": "stderr",
     "output_type": "stream",
     "text": [
      "Train Epoch: 22 [105600/105870 (100%)]\tLoss: 1.279901: 100%|██████████| 1655/1655 [00:06<00:00, 243.50it/s]\n"
     ]
    },
    {
     "name": "stdout",
     "output_type": "stream",
     "text": [
      "====> Epoch: 22 Average train loss: 1.3173\n",
      "===> Epoch: 22 Average mae test loss for targetcol :3.4104\n",
      "===> Epoch: 22 Average mae test loss for targetcol: 3.3681\n",
      "====> Test set loss: 4309.6186\n",
      "====> Epoch: 22 Average test loss: 0.1221\n"
     ]
    },
    {
     "name": "stderr",
     "output_type": "stream",
     "text": [
      "Train Epoch: 23 [105600/105870 (100%)]\tLoss: 1.123993: 100%|██████████| 1655/1655 [00:06<00:00, 248.74it/s]\n"
     ]
    },
    {
     "name": "stdout",
     "output_type": "stream",
     "text": [
      "====> Epoch: 23 Average train loss: 1.3160\n",
      "===> Epoch: 23 Average mae test loss for targetcol :3.3965\n",
      "===> Epoch: 23 Average mae test loss for targetcol: 3.3467\n",
      "====> Test set loss: 4388.2714\n",
      "====> Epoch: 23 Average test loss: 0.1243\n"
     ]
    },
    {
     "name": "stderr",
     "output_type": "stream",
     "text": [
      "Train Epoch: 24 [105600/105870 (100%)]\tLoss: 1.315194: 100%|██████████| 1655/1655 [00:06<00:00, 257.98it/s]\n"
     ]
    },
    {
     "name": "stdout",
     "output_type": "stream",
     "text": [
      "====> Epoch: 24 Average train loss: 1.3102\n",
      "===> Epoch: 24 Average mae test loss for targetcol :3.3968\n",
      "===> Epoch: 24 Average mae test loss for targetcol: 3.3340\n",
      "====> Test set loss: 4449.1228\n",
      "====> Epoch: 24 Average test loss: 0.1261\n"
     ]
    },
    {
     "name": "stderr",
     "output_type": "stream",
     "text": [
      "Train Epoch: 25 [105600/105870 (100%)]\tLoss: 1.229811: 100%|██████████| 1655/1655 [00:06<00:00, 261.76it/s]\n"
     ]
    },
    {
     "name": "stdout",
     "output_type": "stream",
     "text": [
      "====> Epoch: 25 Average train loss: 1.3037\n",
      "===> Epoch: 25 Average mae test loss for targetcol :3.3841\n",
      "===> Epoch: 25 Average mae test loss for targetcol: 3.3286\n",
      "====> Test set loss: 4490.1531\n",
      "====> Epoch: 25 Average test loss: 0.1272\n"
     ]
    },
    {
     "name": "stderr",
     "output_type": "stream",
     "text": [
      "Train Epoch: 26 [105600/105870 (100%)]\tLoss: 1.298412: 100%|██████████| 1655/1655 [00:06<00:00, 260.14it/s]\n"
     ]
    },
    {
     "name": "stdout",
     "output_type": "stream",
     "text": [
      "====> Epoch: 26 Average train loss: 1.3040\n",
      "===> Epoch: 26 Average mae test loss for targetcol :3.3780\n",
      "===> Epoch: 26 Average mae test loss for targetcol: 3.3142\n",
      "====> Test set loss: 4510.2731\n",
      "====> Epoch: 26 Average test loss: 0.1278\n"
     ]
    },
    {
     "name": "stderr",
     "output_type": "stream",
     "text": [
      "Train Epoch: 27 [105600/105870 (100%)]\tLoss: 1.302728: 100%|██████████| 1655/1655 [00:06<00:00, 252.54it/s]\n"
     ]
    },
    {
     "name": "stdout",
     "output_type": "stream",
     "text": [
      "====> Epoch: 27 Average train loss: 1.3001\n",
      "===> Epoch: 27 Average mae test loss for targetcol :3.3726\n",
      "===> Epoch: 27 Average mae test loss for targetcol: 3.3023\n",
      "====> Test set loss: 4552.5986\n",
      "====> Epoch: 27 Average test loss: 0.1290\n"
     ]
    },
    {
     "name": "stderr",
     "output_type": "stream",
     "text": [
      "Train Epoch: 28 [105600/105870 (100%)]\tLoss: 1.066099: 100%|██████████| 1655/1655 [00:06<00:00, 262.84it/s]\n"
     ]
    },
    {
     "name": "stdout",
     "output_type": "stream",
     "text": [
      "====> Epoch: 28 Average train loss: 1.2973\n",
      "===> Epoch: 28 Average mae test loss for targetcol :3.3670\n",
      "===> Epoch: 28 Average mae test loss for targetcol: 3.3025\n",
      "====> Test set loss: 4606.1182\n",
      "====> Epoch: 28 Average test loss: 0.1305\n"
     ]
    },
    {
     "name": "stderr",
     "output_type": "stream",
     "text": [
      "Train Epoch: 29 [105600/105870 (100%)]\tLoss: 1.331268: 100%|██████████| 1655/1655 [00:06<00:00, 239.57it/s]\n"
     ]
    },
    {
     "name": "stdout",
     "output_type": "stream",
     "text": [
      "====> Epoch: 29 Average train loss: 1.2986\n",
      "===> Epoch: 29 Average mae test loss for targetcol :3.3637\n",
      "===> Epoch: 29 Average mae test loss for targetcol: 3.2856\n",
      "====> Test set loss: 4629.0670\n",
      "====> Epoch: 29 Average test loss: 0.1312\n"
     ]
    },
    {
     "name": "stderr",
     "output_type": "stream",
     "text": [
      "Train Epoch: 30 [105600/105870 (100%)]\tLoss: 1.371487: 100%|██████████| 1655/1655 [00:06<00:00, 261.18it/s]\n"
     ]
    },
    {
     "name": "stdout",
     "output_type": "stream",
     "text": [
      "====> Epoch: 30 Average train loss: 1.2962\n",
      "===> Epoch: 30 Average mae test loss for targetcol :3.3541\n",
      "===> Epoch: 30 Average mae test loss for targetcol: 3.2895\n",
      "====> Test set loss: 4724.9265\n",
      "====> Epoch: 30 Average test loss: 0.1339\n"
     ]
    },
    {
     "name": "stderr",
     "output_type": "stream",
     "text": [
      "Train Epoch: 31 [105600/105870 (100%)]\tLoss: 1.270897: 100%|██████████| 1655/1655 [00:06<00:00, 247.52it/s]\n"
     ]
    },
    {
     "name": "stdout",
     "output_type": "stream",
     "text": [
      "====> Epoch: 31 Average train loss: 1.2984\n",
      "===> Epoch: 31 Average mae test loss for targetcol :3.3520\n",
      "===> Epoch: 31 Average mae test loss for targetcol: 3.2640\n",
      "====> Test set loss: 4739.9169\n",
      "====> Epoch: 31 Average test loss: 0.1343\n"
     ]
    },
    {
     "name": "stderr",
     "output_type": "stream",
     "text": [
      "Train Epoch: 32 [105600/105870 (100%)]\tLoss: 1.588830: 100%|██████████| 1655/1655 [00:06<00:00, 261.63it/s]\n"
     ]
    },
    {
     "name": "stdout",
     "output_type": "stream",
     "text": [
      "====> Epoch: 32 Average train loss: 1.2906\n",
      "===> Epoch: 32 Average mae test loss for targetcol :3.3434\n",
      "===> Epoch: 32 Average mae test loss for targetcol: 3.2807\n",
      "====> Test set loss: 4716.6416\n",
      "====> Epoch: 32 Average test loss: 0.1337\n"
     ]
    },
    {
     "name": "stderr",
     "output_type": "stream",
     "text": [
      "Train Epoch: 33 [105600/105870 (100%)]\tLoss: 1.496055: 100%|██████████| 1655/1655 [00:06<00:00, 248.37it/s]\n"
     ]
    },
    {
     "name": "stdout",
     "output_type": "stream",
     "text": [
      "====> Epoch: 33 Average train loss: 1.2891\n",
      "===> Epoch: 33 Average mae test loss for targetcol :3.3419\n",
      "===> Epoch: 33 Average mae test loss for targetcol: 3.2646\n",
      "====> Test set loss: 4744.6359\n",
      "====> Epoch: 33 Average test loss: 0.1344\n"
     ]
    },
    {
     "name": "stderr",
     "output_type": "stream",
     "text": [
      "Train Epoch: 34 [105600/105870 (100%)]\tLoss: 1.353475: 100%|██████████| 1655/1655 [00:06<00:00, 258.34it/s]\n"
     ]
    },
    {
     "name": "stdout",
     "output_type": "stream",
     "text": [
      "====> Epoch: 34 Average train loss: 1.2883\n",
      "===> Epoch: 34 Average mae test loss for targetcol :3.3305\n",
      "===> Epoch: 34 Average mae test loss for targetcol: 3.2581\n",
      "====> Test set loss: 4751.3241\n",
      "====> Epoch: 34 Average test loss: 0.1346\n"
     ]
    },
    {
     "name": "stderr",
     "output_type": "stream",
     "text": [
      "Train Epoch: 35 [105600/105870 (100%)]\tLoss: 1.372034: 100%|██████████| 1655/1655 [00:06<00:00, 262.77it/s]\n"
     ]
    },
    {
     "name": "stdout",
     "output_type": "stream",
     "text": [
      "====> Epoch: 35 Average train loss: 1.2906\n",
      "===> Epoch: 35 Average mae test loss for targetcol :3.3307\n",
      "===> Epoch: 35 Average mae test loss for targetcol: 3.2613\n",
      "====> Test set loss: 4775.4102\n",
      "====> Epoch: 35 Average test loss: 0.1353\n"
     ]
    },
    {
     "name": "stderr",
     "output_type": "stream",
     "text": [
      "Train Epoch: 36 [105600/105870 (100%)]\tLoss: 1.266624: 100%|██████████| 1655/1655 [00:06<00:00, 262.29it/s]\n"
     ]
    },
    {
     "name": "stdout",
     "output_type": "stream",
     "text": [
      "====> Epoch: 36 Average train loss: 1.2922\n",
      "===> Epoch: 36 Average mae test loss for targetcol :3.3259\n",
      "===> Epoch: 36 Average mae test loss for targetcol: 3.2441\n",
      "====> Test set loss: 4821.3642\n",
      "====> Epoch: 36 Average test loss: 0.1366\n"
     ]
    },
    {
     "name": "stderr",
     "output_type": "stream",
     "text": [
      "Train Epoch: 37 [105600/105870 (100%)]\tLoss: 1.389605: 100%|██████████| 1655/1655 [00:06<00:00, 261.70it/s]\n"
     ]
    },
    {
     "name": "stdout",
     "output_type": "stream",
     "text": [
      "====> Epoch: 37 Average train loss: 1.2839\n",
      "===> Epoch: 37 Average mae test loss for targetcol :3.3306\n",
      "===> Epoch: 37 Average mae test loss for targetcol: 3.2397\n",
      "====> Test set loss: 4798.8553\n",
      "====> Epoch: 37 Average test loss: 0.1360\n"
     ]
    },
    {
     "name": "stderr",
     "output_type": "stream",
     "text": [
      "Train Epoch: 38 [105600/105870 (100%)]\tLoss: 1.234574: 100%|██████████| 1655/1655 [00:06<00:00, 261.94it/s]\n"
     ]
    },
    {
     "name": "stdout",
     "output_type": "stream",
     "text": [
      "====> Epoch: 38 Average train loss: 1.2862\n",
      "===> Epoch: 38 Average mae test loss for targetcol :3.3187\n",
      "===> Epoch: 38 Average mae test loss for targetcol: 3.2353\n",
      "====> Test set loss: 4868.5217\n",
      "====> Epoch: 38 Average test loss: 0.1380\n"
     ]
    },
    {
     "name": "stderr",
     "output_type": "stream",
     "text": [
      "Train Epoch: 39 [105600/105870 (100%)]\tLoss: 1.219430: 100%|██████████| 1655/1655 [00:06<00:00, 260.53it/s]\n"
     ]
    },
    {
     "name": "stdout",
     "output_type": "stream",
     "text": [
      "====> Epoch: 39 Average train loss: 1.2842\n",
      "===> Epoch: 39 Average mae test loss for targetcol :3.3177\n",
      "===> Epoch: 39 Average mae test loss for targetcol: 3.2359\n",
      "====> Test set loss: 4848.2345\n",
      "====> Epoch: 39 Average test loss: 0.1374\n"
     ]
    },
    {
     "name": "stderr",
     "output_type": "stream",
     "text": [
      "Train Epoch: 40 [105600/105870 (100%)]\tLoss: 1.239372: 100%|██████████| 1655/1655 [00:06<00:00, 261.81it/s]\n"
     ]
    },
    {
     "name": "stdout",
     "output_type": "stream",
     "text": [
      "====> Epoch: 40 Average train loss: 1.2787\n",
      "===> Epoch: 40 Average mae test loss for targetcol :3.3045\n",
      "===> Epoch: 40 Average mae test loss for targetcol: 3.2170\n",
      "====> Test set loss: 4882.6385\n",
      "====> Epoch: 40 Average test loss: 0.1384\n"
     ]
    },
    {
     "name": "stderr",
     "output_type": "stream",
     "text": [
      "Train Epoch: 41 [105600/105870 (100%)]\tLoss: 1.275406: 100%|██████████| 1655/1655 [00:06<00:00, 261.80it/s]\n"
     ]
    },
    {
     "name": "stdout",
     "output_type": "stream",
     "text": [
      "====> Epoch: 41 Average train loss: 1.2771\n",
      "===> Epoch: 41 Average mae test loss for targetcol :3.3068\n",
      "===> Epoch: 41 Average mae test loss for targetcol: 3.2169\n",
      "====> Test set loss: 4860.9180\n",
      "====> Epoch: 41 Average test loss: 0.1377\n"
     ]
    },
    {
     "name": "stderr",
     "output_type": "stream",
     "text": [
      "Train Epoch: 42 [105600/105870 (100%)]\tLoss: 1.429563: 100%|██████████| 1655/1655 [00:06<00:00, 256.17it/s]\n"
     ]
    },
    {
     "name": "stdout",
     "output_type": "stream",
     "text": [
      "====> Epoch: 42 Average train loss: 1.2789\n",
      "===> Epoch: 42 Average mae test loss for targetcol :3.3062\n",
      "===> Epoch: 42 Average mae test loss for targetcol: 3.2086\n",
      "====> Test set loss: 4909.8525\n",
      "====> Epoch: 42 Average test loss: 0.1391\n"
     ]
    },
    {
     "name": "stderr",
     "output_type": "stream",
     "text": [
      "Train Epoch: 43 [105600/105870 (100%)]\tLoss: 1.366779: 100%|██████████| 1655/1655 [00:06<00:00, 263.00it/s]\n"
     ]
    },
    {
     "name": "stdout",
     "output_type": "stream",
     "text": [
      "====> Epoch: 43 Average train loss: 1.2757\n",
      "===> Epoch: 43 Average mae test loss for targetcol :3.2964\n",
      "===> Epoch: 43 Average mae test loss for targetcol: 3.2259\n",
      "====> Test set loss: 4881.4654\n",
      "====> Epoch: 43 Average test loss: 0.1383\n"
     ]
    },
    {
     "name": "stderr",
     "output_type": "stream",
     "text": [
      "Train Epoch: 44 [105600/105870 (100%)]\tLoss: 1.172691: 100%|██████████| 1655/1655 [00:06<00:00, 261.44it/s]\n"
     ]
    },
    {
     "name": "stdout",
     "output_type": "stream",
     "text": [
      "====> Epoch: 44 Average train loss: 1.2766\n",
      "===> Epoch: 44 Average mae test loss for targetcol :3.2946\n",
      "===> Epoch: 44 Average mae test loss for targetcol: 3.2245\n",
      "====> Test set loss: 4927.4674\n",
      "====> Epoch: 44 Average test loss: 0.1396\n"
     ]
    },
    {
     "name": "stderr",
     "output_type": "stream",
     "text": [
      "Train Epoch: 45 [105600/105870 (100%)]\tLoss: 1.433033: 100%|██████████| 1655/1655 [00:06<00:00, 262.55it/s]\n"
     ]
    },
    {
     "name": "stdout",
     "output_type": "stream",
     "text": [
      "====> Epoch: 45 Average train loss: 1.2790\n",
      "===> Epoch: 45 Average mae test loss for targetcol :3.2909\n",
      "===> Epoch: 45 Average mae test loss for targetcol: 3.2085\n",
      "====> Test set loss: 4980.4240\n",
      "====> Epoch: 45 Average test loss: 0.1411\n"
     ]
    },
    {
     "name": "stderr",
     "output_type": "stream",
     "text": [
      "Train Epoch: 46 [105600/105870 (100%)]\tLoss: 1.133104: 100%|██████████| 1655/1655 [00:06<00:00, 262.08it/s]\n"
     ]
    },
    {
     "name": "stdout",
     "output_type": "stream",
     "text": [
      "====> Epoch: 46 Average train loss: 1.2776\n",
      "===> Epoch: 46 Average mae test loss for targetcol :3.2930\n",
      "===> Epoch: 46 Average mae test loss for targetcol: 3.2103\n",
      "====> Test set loss: 4953.2874\n",
      "====> Epoch: 46 Average test loss: 0.1404\n"
     ]
    },
    {
     "name": "stderr",
     "output_type": "stream",
     "text": [
      "Train Epoch: 47 [105600/105870 (100%)]\tLoss: 1.275536: 100%|██████████| 1655/1655 [00:06<00:00, 263.45it/s]\n"
     ]
    },
    {
     "name": "stdout",
     "output_type": "stream",
     "text": [
      "====> Epoch: 47 Average train loss: 1.2721\n",
      "===> Epoch: 47 Average mae test loss for targetcol :3.2877\n",
      "===> Epoch: 47 Average mae test loss for targetcol: 3.1902\n",
      "====> Test set loss: 4982.1691\n",
      "====> Epoch: 47 Average test loss: 0.1412\n"
     ]
    },
    {
     "name": "stderr",
     "output_type": "stream",
     "text": [
      "Train Epoch: 48 [105600/105870 (100%)]\tLoss: 1.391682: 100%|██████████| 1655/1655 [00:06<00:00, 260.61it/s]\n"
     ]
    },
    {
     "name": "stdout",
     "output_type": "stream",
     "text": [
      "====> Epoch: 48 Average train loss: 1.2716\n",
      "===> Epoch: 48 Average mae test loss for targetcol :3.2934\n",
      "===> Epoch: 48 Average mae test loss for targetcol: 3.2080\n",
      "====> Test set loss: 5010.8445\n",
      "====> Epoch: 48 Average test loss: 0.1420\n"
     ]
    },
    {
     "name": "stderr",
     "output_type": "stream",
     "text": [
      "Train Epoch: 49 [105600/105870 (100%)]\tLoss: 1.216901: 100%|██████████| 1655/1655 [00:06<00:00, 263.21it/s]\n"
     ]
    },
    {
     "name": "stdout",
     "output_type": "stream",
     "text": [
      "====> Epoch: 49 Average train loss: 1.2728\n",
      "===> Epoch: 49 Average mae test loss for targetcol :3.2795\n"
     ]
    },
    {
     "name": "stderr",
     "output_type": "stream",
     "text": [
      "[I 2025-05-15 13:10:03,985] Trial 5 finished with value: 0.1425248709066828 and parameters: {'batch_size': 64, 'learning_rate': 1.370514263572191e-06, 'lambda': 0.6686436176333024}. Best is trial 4 with value: 0.02505394658210519.\n"
     ]
    },
    {
     "name": "stdout",
     "output_type": "stream",
     "text": [
      "===> Epoch: 49 Average mae test loss for targetcol: 3.1935\n",
      "====> Test set loss: 5029.7027\n",
      "====> Epoch: 49 Average test loss: 0.1425\n",
      "🏃 View run able-ape-115 at: http://localhost:5000/#/experiments/4/runs/48b88e2847154b9898ff4917e8c4db0b\n",
      "🧪 View experiment at: http://localhost:5000/#/experiments/4\n"
     ]
    },
    {
     "name": "stderr",
     "output_type": "stream",
     "text": [
      "Train Epoch: 0 [105600/105870 (100%)]\tLoss: 1.354724: 100%|██████████| 1103/1103 [00:04<00:00, 251.76it/s]\n"
     ]
    },
    {
     "name": "stdout",
     "output_type": "stream",
     "text": [
      "====> Epoch: 0 Average train loss: 1.3049\n",
      "===> Epoch: 0 Average mae test loss for targetcol :3.8138\n",
      "===> Epoch: 0 Average mae test loss for targetcol: 3.3556\n",
      "====> Test set loss: 2229.9478\n",
      "====> Epoch: 0 Average test loss: 0.0632\n"
     ]
    },
    {
     "name": "stderr",
     "output_type": "stream",
     "text": [
      "Train Epoch: 1 [105600/105870 (100%)]\tLoss: 1.024813: 100%|██████████| 1103/1103 [00:04<00:00, 251.06it/s]\n"
     ]
    },
    {
     "name": "stdout",
     "output_type": "stream",
     "text": [
      "====> Epoch: 1 Average train loss: 1.1051\n",
      "===> Epoch: 1 Average mae test loss for targetcol :3.3436\n",
      "===> Epoch: 1 Average mae test loss for targetcol: 3.2549\n",
      "====> Test set loss: 3318.2065\n",
      "====> Epoch: 1 Average test loss: 0.0940\n"
     ]
    },
    {
     "name": "stderr",
     "output_type": "stream",
     "text": [
      "Train Epoch: 2 [105600/105870 (100%)]\tLoss: 1.138951: 100%|██████████| 1103/1103 [00:04<00:00, 250.84it/s]\n"
     ]
    },
    {
     "name": "stdout",
     "output_type": "stream",
     "text": [
      "====> Epoch: 2 Average train loss: 1.0868\n",
      "===> Epoch: 2 Average mae test loss for targetcol :3.2857\n",
      "===> Epoch: 2 Average mae test loss for targetcol: 3.1069\n",
      "====> Test set loss: 3737.0007\n",
      "====> Epoch: 2 Average test loss: 0.1059\n"
     ]
    },
    {
     "name": "stderr",
     "output_type": "stream",
     "text": [
      "Train Epoch: 3 [105600/105870 (100%)]\tLoss: 1.154618: 100%|██████████| 1103/1103 [00:04<00:00, 249.75it/s]\n"
     ]
    },
    {
     "name": "stdout",
     "output_type": "stream",
     "text": [
      "====> Epoch: 3 Average train loss: 1.0739\n",
      "===> Epoch: 3 Average mae test loss for targetcol :3.2495\n",
      "===> Epoch: 3 Average mae test loss for targetcol: 3.1137\n",
      "====> Test set loss: 3758.3719\n",
      "====> Epoch: 3 Average test loss: 0.1065\n"
     ]
    },
    {
     "name": "stderr",
     "output_type": "stream",
     "text": [
      "Train Epoch: 4 [105600/105870 (100%)]\tLoss: 1.101691: 100%|██████████| 1103/1103 [00:04<00:00, 250.47it/s]\n"
     ]
    },
    {
     "name": "stdout",
     "output_type": "stream",
     "text": [
      "====> Epoch: 4 Average train loss: 1.0669\n",
      "===> Epoch: 4 Average mae test loss for targetcol :3.2287\n",
      "===> Epoch: 4 Average mae test loss for targetcol: 3.1399\n",
      "====> Test set loss: 3747.7007\n",
      "====> Epoch: 4 Average test loss: 0.1062\n"
     ]
    },
    {
     "name": "stderr",
     "output_type": "stream",
     "text": [
      "Train Epoch: 5 [105600/105870 (100%)]\tLoss: 1.112038: 100%|██████████| 1103/1103 [00:04<00:00, 249.17it/s]\n"
     ]
    },
    {
     "name": "stdout",
     "output_type": "stream",
     "text": [
      "====> Epoch: 5 Average train loss: 1.0594\n",
      "===> Epoch: 5 Average mae test loss for targetcol :3.2192\n",
      "===> Epoch: 5 Average mae test loss for targetcol: 3.0666\n",
      "====> Test set loss: 3694.9375\n",
      "====> Epoch: 5 Average test loss: 0.1047\n"
     ]
    },
    {
     "name": "stderr",
     "output_type": "stream",
     "text": [
      "Train Epoch: 6 [105600/105870 (100%)]\tLoss: 1.064128: 100%|██████████| 1103/1103 [00:04<00:00, 245.90it/s]\n"
     ]
    },
    {
     "name": "stdout",
     "output_type": "stream",
     "text": [
      "====> Epoch: 6 Average train loss: 1.0557\n",
      "===> Epoch: 6 Average mae test loss for targetcol :3.2161\n",
      "===> Epoch: 6 Average mae test loss for targetcol: 3.0924\n",
      "====> Test set loss: 4070.1122\n",
      "====> Epoch: 6 Average test loss: 0.1153\n"
     ]
    },
    {
     "name": "stderr",
     "output_type": "stream",
     "text": [
      "Train Epoch: 7 [105600/105870 (100%)]\tLoss: 0.956732: 100%|██████████| 1103/1103 [00:04<00:00, 231.90it/s]\n"
     ]
    },
    {
     "name": "stdout",
     "output_type": "stream",
     "text": [
      "====> Epoch: 7 Average train loss: 1.0462\n",
      "===> Epoch: 7 Average mae test loss for targetcol :3.2089\n",
      "===> Epoch: 7 Average mae test loss for targetcol: 3.1136\n",
      "====> Test set loss: 4409.4263\n",
      "====> Epoch: 7 Average test loss: 0.1249\n"
     ]
    },
    {
     "name": "stderr",
     "output_type": "stream",
     "text": [
      "Train Epoch: 8 [105600/105870 (100%)]\tLoss: 0.938660: 100%|██████████| 1103/1103 [00:04<00:00, 253.48it/s]\n"
     ]
    },
    {
     "name": "stdout",
     "output_type": "stream",
     "text": [
      "====> Epoch: 8 Average train loss: 1.0357\n",
      "===> Epoch: 8 Average mae test loss for targetcol :3.2035\n",
      "===> Epoch: 8 Average mae test loss for targetcol: 3.1005\n",
      "====> Test set loss: 5111.6735\n",
      "====> Epoch: 8 Average test loss: 0.1448\n"
     ]
    },
    {
     "name": "stderr",
     "output_type": "stream",
     "text": [
      "Train Epoch: 9 [105600/105870 (100%)]\tLoss: 0.936665: 100%|██████████| 1103/1103 [00:04<00:00, 249.72it/s]\n"
     ]
    },
    {
     "name": "stdout",
     "output_type": "stream",
     "text": [
      "====> Epoch: 9 Average train loss: 1.0269\n",
      "===> Epoch: 9 Average mae test loss for targetcol :3.2009\n",
      "===> Epoch: 9 Average mae test loss for targetcol: 3.0653\n",
      "====> Test set loss: 5216.5290\n",
      "====> Epoch: 9 Average test loss: 0.1478\n"
     ]
    },
    {
     "name": "stderr",
     "output_type": "stream",
     "text": [
      "Train Epoch: 10 [105600/105870 (100%)]\tLoss: 0.987125: 100%|██████████| 1103/1103 [00:04<00:00, 250.28it/s]\n"
     ]
    },
    {
     "name": "stdout",
     "output_type": "stream",
     "text": [
      "====> Epoch: 10 Average train loss: 1.0209\n",
      "===> Epoch: 10 Average mae test loss for targetcol :3.1966\n",
      "===> Epoch: 10 Average mae test loss for targetcol: 3.0709\n",
      "====> Test set loss: 5439.9580\n",
      "====> Epoch: 10 Average test loss: 0.1542\n"
     ]
    },
    {
     "name": "stderr",
     "output_type": "stream",
     "text": [
      "Train Epoch: 11 [105600/105870 (100%)]\tLoss: 1.219888: 100%|██████████| 1103/1103 [00:04<00:00, 252.87it/s]\n"
     ]
    },
    {
     "name": "stdout",
     "output_type": "stream",
     "text": [
      "====> Epoch: 11 Average train loss: 1.0170\n",
      "===> Epoch: 11 Average mae test loss for targetcol :3.1914\n",
      "===> Epoch: 11 Average mae test loss for targetcol: 3.1071\n",
      "====> Test set loss: 5618.1874\n",
      "====> Epoch: 11 Average test loss: 0.1592\n"
     ]
    },
    {
     "name": "stderr",
     "output_type": "stream",
     "text": [
      "Train Epoch: 12 [105600/105870 (100%)]\tLoss: 0.950756: 100%|██████████| 1103/1103 [00:04<00:00, 247.43it/s]\n"
     ]
    },
    {
     "name": "stdout",
     "output_type": "stream",
     "text": [
      "====> Epoch: 12 Average train loss: 1.0151\n",
      "===> Epoch: 12 Average mae test loss for targetcol :3.1915\n",
      "===> Epoch: 12 Average mae test loss for targetcol: 3.0455\n",
      "====> Test set loss: 5691.4333\n",
      "====> Epoch: 12 Average test loss: 0.1613\n"
     ]
    },
    {
     "name": "stderr",
     "output_type": "stream",
     "text": [
      "Train Epoch: 13 [105600/105870 (100%)]\tLoss: 0.874698: 100%|██████████| 1103/1103 [00:04<00:00, 248.72it/s]\n"
     ]
    },
    {
     "name": "stdout",
     "output_type": "stream",
     "text": [
      "====> Epoch: 13 Average train loss: 1.0061\n",
      "===> Epoch: 13 Average mae test loss for targetcol :3.1890\n",
      "===> Epoch: 13 Average mae test loss for targetcol: 3.0552\n",
      "====> Test set loss: 6149.0520\n",
      "====> Epoch: 13 Average test loss: 0.1742\n"
     ]
    },
    {
     "name": "stderr",
     "output_type": "stream",
     "text": [
      "Train Epoch: 14 [105600/105870 (100%)]\tLoss: 1.059992: 100%|██████████| 1103/1103 [00:04<00:00, 249.89it/s]\n"
     ]
    },
    {
     "name": "stdout",
     "output_type": "stream",
     "text": [
      "====> Epoch: 14 Average train loss: 1.0049\n",
      "===> Epoch: 14 Average mae test loss for targetcol :3.1905\n",
      "===> Epoch: 14 Average mae test loss for targetcol: 3.0647\n",
      "====> Test set loss: 5984.8710\n",
      "====> Epoch: 14 Average test loss: 0.1696\n"
     ]
    },
    {
     "name": "stderr",
     "output_type": "stream",
     "text": [
      "Train Epoch: 15 [105600/105870 (100%)]\tLoss: 0.855143: 100%|██████████| 1103/1103 [00:04<00:00, 248.52it/s]\n"
     ]
    },
    {
     "name": "stdout",
     "output_type": "stream",
     "text": [
      "====> Epoch: 15 Average train loss: 0.9978\n",
      "===> Epoch: 15 Average mae test loss for targetcol :3.1846\n",
      "===> Epoch: 15 Average mae test loss for targetcol: 3.0254\n",
      "====> Test set loss: 6390.7427\n",
      "====> Epoch: 15 Average test loss: 0.1811\n"
     ]
    },
    {
     "name": "stderr",
     "output_type": "stream",
     "text": [
      "Train Epoch: 16 [105600/105870 (100%)]\tLoss: 0.939337: 100%|██████████| 1103/1103 [00:04<00:00, 246.01it/s]\n"
     ]
    },
    {
     "name": "stdout",
     "output_type": "stream",
     "text": [
      "====> Epoch: 16 Average train loss: 0.9937\n",
      "===> Epoch: 16 Average mae test loss for targetcol :3.1863\n",
      "===> Epoch: 16 Average mae test loss for targetcol: 3.0816\n",
      "====> Test set loss: 6251.6870\n",
      "====> Epoch: 16 Average test loss: 0.1772\n"
     ]
    },
    {
     "name": "stderr",
     "output_type": "stream",
     "text": [
      "Train Epoch: 17 [105600/105870 (100%)]\tLoss: 1.024931: 100%|██████████| 1103/1103 [00:04<00:00, 249.46it/s]\n"
     ]
    },
    {
     "name": "stdout",
     "output_type": "stream",
     "text": [
      "====> Epoch: 17 Average train loss: 0.9938\n",
      "===> Epoch: 17 Average mae test loss for targetcol :3.1844\n",
      "===> Epoch: 17 Average mae test loss for targetcol: 3.0809\n",
      "====> Test set loss: 6153.1956\n",
      "====> Epoch: 17 Average test loss: 0.1744\n"
     ]
    },
    {
     "name": "stderr",
     "output_type": "stream",
     "text": [
      "Train Epoch: 18 [105600/105870 (100%)]\tLoss: 1.037911: 100%|██████████| 1103/1103 [00:04<00:00, 245.70it/s]\n"
     ]
    },
    {
     "name": "stdout",
     "output_type": "stream",
     "text": [
      "====> Epoch: 18 Average train loss: 0.9930\n",
      "===> Epoch: 18 Average mae test loss for targetcol :3.1856\n",
      "===> Epoch: 18 Average mae test loss for targetcol: 3.0137\n",
      "====> Test set loss: 6640.4429\n",
      "====> Epoch: 18 Average test loss: 0.1882\n"
     ]
    },
    {
     "name": "stderr",
     "output_type": "stream",
     "text": [
      "Train Epoch: 19 [105600/105870 (100%)]\tLoss: 1.097466: 100%|██████████| 1103/1103 [00:04<00:00, 247.13it/s]\n"
     ]
    },
    {
     "name": "stdout",
     "output_type": "stream",
     "text": [
      "====> Epoch: 19 Average train loss: 0.9923\n",
      "===> Epoch: 19 Average mae test loss for targetcol :3.1846\n",
      "===> Epoch: 19 Average mae test loss for targetcol: 3.0423\n",
      "====> Test set loss: 6416.9150\n",
      "====> Epoch: 19 Average test loss: 0.1818\n"
     ]
    },
    {
     "name": "stderr",
     "output_type": "stream",
     "text": [
      "Train Epoch: 20 [105600/105870 (100%)]\tLoss: 0.849225: 100%|██████████| 1103/1103 [00:04<00:00, 249.39it/s]\n"
     ]
    },
    {
     "name": "stdout",
     "output_type": "stream",
     "text": [
      "====> Epoch: 20 Average train loss: 0.9911\n",
      "===> Epoch: 20 Average mae test loss for targetcol :3.1838\n",
      "===> Epoch: 20 Average mae test loss for targetcol: 3.0446\n",
      "====> Test set loss: 6506.1214\n",
      "====> Epoch: 20 Average test loss: 0.1844\n"
     ]
    },
    {
     "name": "stderr",
     "output_type": "stream",
     "text": [
      "Train Epoch: 21 [105600/105870 (100%)]\tLoss: 0.871624: 100%|██████████| 1103/1103 [00:04<00:00, 253.26it/s]\n"
     ]
    },
    {
     "name": "stdout",
     "output_type": "stream",
     "text": [
      "====> Epoch: 21 Average train loss: 0.9891\n",
      "===> Epoch: 21 Average mae test loss for targetcol :3.1850\n",
      "===> Epoch: 21 Average mae test loss for targetcol: 3.0963\n",
      "====> Test set loss: 6413.1789\n",
      "====> Epoch: 21 Average test loss: 0.1817\n"
     ]
    },
    {
     "name": "stderr",
     "output_type": "stream",
     "text": [
      "Train Epoch: 22 [105600/105870 (100%)]\tLoss: 0.847567: 100%|██████████| 1103/1103 [00:04<00:00, 252.69it/s]\n"
     ]
    },
    {
     "name": "stdout",
     "output_type": "stream",
     "text": [
      "====> Epoch: 22 Average train loss: 0.9889\n",
      "===> Epoch: 22 Average mae test loss for targetcol :3.1831\n",
      "===> Epoch: 22 Average mae test loss for targetcol: 3.0889\n",
      "====> Test set loss: 6636.2471\n",
      "====> Epoch: 22 Average test loss: 0.1880\n"
     ]
    },
    {
     "name": "stderr",
     "output_type": "stream",
     "text": [
      "Train Epoch: 23 [105600/105870 (100%)]\tLoss: 1.028799: 100%|██████████| 1103/1103 [00:04<00:00, 251.23it/s]\n"
     ]
    },
    {
     "name": "stdout",
     "output_type": "stream",
     "text": [
      "====> Epoch: 23 Average train loss: 0.9880\n",
      "===> Epoch: 23 Average mae test loss for targetcol :3.1829\n",
      "===> Epoch: 23 Average mae test loss for targetcol: 3.0506\n",
      "====> Test set loss: 6491.2435\n",
      "====> Epoch: 23 Average test loss: 0.1839\n"
     ]
    },
    {
     "name": "stderr",
     "output_type": "stream",
     "text": [
      "Train Epoch: 24 [105600/105870 (100%)]\tLoss: 1.008229: 100%|██████████| 1103/1103 [00:04<00:00, 254.36it/s]\n"
     ]
    },
    {
     "name": "stdout",
     "output_type": "stream",
     "text": [
      "====> Epoch: 24 Average train loss: 0.9903\n",
      "===> Epoch: 24 Average mae test loss for targetcol :3.1795\n",
      "===> Epoch: 24 Average mae test loss for targetcol: 3.1220\n",
      "====> Test set loss: 6716.2294\n",
      "====> Epoch: 24 Average test loss: 0.1903\n"
     ]
    },
    {
     "name": "stderr",
     "output_type": "stream",
     "text": [
      "Train Epoch: 25 [105600/105870 (100%)]\tLoss: 1.056906: 100%|██████████| 1103/1103 [00:04<00:00, 253.46it/s]\n"
     ]
    },
    {
     "name": "stdout",
     "output_type": "stream",
     "text": [
      "====> Epoch: 25 Average train loss: 0.9891\n",
      "===> Epoch: 25 Average mae test loss for targetcol :3.1858\n",
      "===> Epoch: 25 Average mae test loss for targetcol: 3.0361\n",
      "====> Test set loss: 6529.5567\n",
      "====> Epoch: 25 Average test loss: 0.1850\n"
     ]
    },
    {
     "name": "stderr",
     "output_type": "stream",
     "text": [
      "Train Epoch: 26 [105600/105870 (100%)]\tLoss: 1.054193: 100%|██████████| 1103/1103 [00:04<00:00, 253.15it/s]\n"
     ]
    },
    {
     "name": "stdout",
     "output_type": "stream",
     "text": [
      "====> Epoch: 26 Average train loss: 0.9870\n",
      "===> Epoch: 26 Average mae test loss for targetcol :3.1786\n",
      "===> Epoch: 26 Average mae test loss for targetcol: 3.0385\n",
      "====> Test set loss: 6331.0189\n",
      "====> Epoch: 26 Average test loss: 0.1794\n"
     ]
    },
    {
     "name": "stderr",
     "output_type": "stream",
     "text": [
      "Train Epoch: 27 [105600/105870 (100%)]\tLoss: 0.962115: 100%|██████████| 1103/1103 [00:04<00:00, 252.99it/s]\n"
     ]
    },
    {
     "name": "stdout",
     "output_type": "stream",
     "text": [
      "====> Epoch: 27 Average train loss: 0.9870\n",
      "===> Epoch: 27 Average mae test loss for targetcol :3.1789\n",
      "===> Epoch: 27 Average mae test loss for targetcol: 3.0059\n",
      "====> Test set loss: 6421.2955\n",
      "====> Epoch: 27 Average test loss: 0.1820\n"
     ]
    },
    {
     "name": "stderr",
     "output_type": "stream",
     "text": [
      "Train Epoch: 28 [105600/105870 (100%)]\tLoss: 0.866415: 100%|██████████| 1103/1103 [00:04<00:00, 251.85it/s]\n"
     ]
    },
    {
     "name": "stdout",
     "output_type": "stream",
     "text": [
      "====> Epoch: 28 Average train loss: 0.9851\n",
      "===> Epoch: 28 Average mae test loss for targetcol :3.1788\n",
      "===> Epoch: 28 Average mae test loss for targetcol: 3.0289\n",
      "====> Test set loss: 6537.8438\n",
      "====> Epoch: 28 Average test loss: 0.1853\n"
     ]
    },
    {
     "name": "stderr",
     "output_type": "stream",
     "text": [
      "Train Epoch: 29 [105600/105870 (100%)]\tLoss: 1.105706: 100%|██████████| 1103/1103 [00:04<00:00, 253.70it/s]\n"
     ]
    },
    {
     "name": "stdout",
     "output_type": "stream",
     "text": [
      "====> Epoch: 29 Average train loss: 0.9864\n",
      "===> Epoch: 29 Average mae test loss for targetcol :3.1813\n",
      "===> Epoch: 29 Average mae test loss for targetcol: 3.0619\n",
      "====> Test set loss: 6803.2877\n",
      "====> Epoch: 29 Average test loss: 0.1928\n"
     ]
    },
    {
     "name": "stderr",
     "output_type": "stream",
     "text": [
      "Train Epoch: 30 [105600/105870 (100%)]\tLoss: 1.124543: 100%|██████████| 1103/1103 [00:04<00:00, 244.30it/s]\n"
     ]
    },
    {
     "name": "stdout",
     "output_type": "stream",
     "text": [
      "====> Epoch: 30 Average train loss: 0.9851\n",
      "===> Epoch: 30 Average mae test loss for targetcol :3.1783\n",
      "===> Epoch: 30 Average mae test loss for targetcol: 3.0406\n",
      "====> Test set loss: 6574.1073\n",
      "====> Epoch: 30 Average test loss: 0.1863\n"
     ]
    },
    {
     "name": "stderr",
     "output_type": "stream",
     "text": [
      "Train Epoch: 31 [105600/105870 (100%)]\tLoss: 1.201961: 100%|██████████| 1103/1103 [00:04<00:00, 250.45it/s]\n"
     ]
    },
    {
     "name": "stdout",
     "output_type": "stream",
     "text": [
      "====> Epoch: 31 Average train loss: 0.9846\n",
      "===> Epoch: 31 Average mae test loss for targetcol :3.1771\n",
      "===> Epoch: 31 Average mae test loss for targetcol: 3.0750\n",
      "====> Test set loss: 6431.4761\n",
      "====> Epoch: 31 Average test loss: 0.1822\n"
     ]
    },
    {
     "name": "stderr",
     "output_type": "stream",
     "text": [
      "Train Epoch: 32 [105600/105870 (100%)]\tLoss: 0.913640: 100%|██████████| 1103/1103 [00:04<00:00, 249.87it/s]\n"
     ]
    },
    {
     "name": "stdout",
     "output_type": "stream",
     "text": [
      "====> Epoch: 32 Average train loss: 0.9833\n",
      "===> Epoch: 32 Average mae test loss for targetcol :3.1773\n",
      "===> Epoch: 32 Average mae test loss for targetcol: 3.0033\n",
      "====> Test set loss: 6616.2415\n",
      "====> Epoch: 32 Average test loss: 0.1875\n"
     ]
    },
    {
     "name": "stderr",
     "output_type": "stream",
     "text": [
      "Train Epoch: 33 [105600/105870 (100%)]\tLoss: 0.857322: 100%|██████████| 1103/1103 [00:04<00:00, 253.59it/s]\n"
     ]
    },
    {
     "name": "stdout",
     "output_type": "stream",
     "text": [
      "====> Epoch: 33 Average train loss: 0.9862\n",
      "===> Epoch: 33 Average mae test loss for targetcol :3.1772\n",
      "===> Epoch: 33 Average mae test loss for targetcol: 3.0707\n",
      "====> Test set loss: 6494.2083\n",
      "====> Epoch: 33 Average test loss: 0.1840\n"
     ]
    },
    {
     "name": "stderr",
     "output_type": "stream",
     "text": [
      "Train Epoch: 34 [105600/105870 (100%)]\tLoss: 0.898620: 100%|██████████| 1103/1103 [00:04<00:00, 249.21it/s]\n"
     ]
    },
    {
     "name": "stdout",
     "output_type": "stream",
     "text": [
      "====> Epoch: 34 Average train loss: 0.9859\n",
      "===> Epoch: 34 Average mae test loss for targetcol :3.1758\n",
      "===> Epoch: 34 Average mae test loss for targetcol: 3.0008\n",
      "====> Test set loss: 6681.8750\n",
      "====> Epoch: 34 Average test loss: 0.1893\n"
     ]
    },
    {
     "name": "stderr",
     "output_type": "stream",
     "text": [
      "Train Epoch: 35 [105600/105870 (100%)]\tLoss: 1.007947: 100%|██████████| 1103/1103 [00:04<00:00, 248.06it/s]\n"
     ]
    },
    {
     "name": "stdout",
     "output_type": "stream",
     "text": [
      "====> Epoch: 35 Average train loss: 0.9846\n",
      "===> Epoch: 35 Average mae test loss for targetcol :3.1747\n",
      "===> Epoch: 35 Average mae test loss for targetcol: 2.9877\n",
      "====> Test set loss: 6602.3073\n",
      "====> Epoch: 35 Average test loss: 0.1871\n"
     ]
    },
    {
     "name": "stderr",
     "output_type": "stream",
     "text": [
      "Train Epoch: 36 [105600/105870 (100%)]\tLoss: 0.942332: 100%|██████████| 1103/1103 [00:04<00:00, 248.76it/s]\n"
     ]
    },
    {
     "name": "stdout",
     "output_type": "stream",
     "text": [
      "====> Epoch: 36 Average train loss: 0.9829\n",
      "===> Epoch: 36 Average mae test loss for targetcol :3.1769\n",
      "===> Epoch: 36 Average mae test loss for targetcol: 3.0898\n",
      "====> Test set loss: 6605.7553\n",
      "====> Epoch: 36 Average test loss: 0.1872\n"
     ]
    },
    {
     "name": "stderr",
     "output_type": "stream",
     "text": [
      "Train Epoch: 37 [105600/105870 (100%)]\tLoss: 0.922195: 100%|██████████| 1103/1103 [00:04<00:00, 247.23it/s]\n"
     ]
    },
    {
     "name": "stdout",
     "output_type": "stream",
     "text": [
      "====> Epoch: 37 Average train loss: 0.9798\n",
      "===> Epoch: 37 Average mae test loss for targetcol :3.1765\n",
      "===> Epoch: 37 Average mae test loss for targetcol: 3.1059\n",
      "====> Test set loss: 6416.4309\n",
      "====> Epoch: 37 Average test loss: 0.1818\n"
     ]
    },
    {
     "name": "stderr",
     "output_type": "stream",
     "text": [
      "Train Epoch: 38 [105600/105870 (100%)]\tLoss: 0.977588: 100%|██████████| 1103/1103 [00:04<00:00, 248.47it/s]\n"
     ]
    },
    {
     "name": "stdout",
     "output_type": "stream",
     "text": [
      "====> Epoch: 38 Average train loss: 0.9829\n",
      "===> Epoch: 38 Average mae test loss for targetcol :3.1750\n",
      "===> Epoch: 38 Average mae test loss for targetcol: 3.0799\n",
      "====> Test set loss: 6539.1323\n",
      "====> Epoch: 38 Average test loss: 0.1853\n"
     ]
    },
    {
     "name": "stderr",
     "output_type": "stream",
     "text": [
      "Train Epoch: 39 [105600/105870 (100%)]\tLoss: 1.177164: 100%|██████████| 1103/1103 [00:04<00:00, 249.55it/s]\n"
     ]
    },
    {
     "name": "stdout",
     "output_type": "stream",
     "text": [
      "====> Epoch: 39 Average train loss: 0.9825\n",
      "===> Epoch: 39 Average mae test loss for targetcol :3.1747\n",
      "===> Epoch: 39 Average mae test loss for targetcol: 3.0361\n",
      "====> Test set loss: 6383.2895\n",
      "====> Epoch: 39 Average test loss: 0.1809\n"
     ]
    },
    {
     "name": "stderr",
     "output_type": "stream",
     "text": [
      "Train Epoch: 40 [105600/105870 (100%)]\tLoss: 1.093956: 100%|██████████| 1103/1103 [00:04<00:00, 247.83it/s]\n"
     ]
    },
    {
     "name": "stdout",
     "output_type": "stream",
     "text": [
      "====> Epoch: 40 Average train loss: 0.9823\n",
      "===> Epoch: 40 Average mae test loss for targetcol :3.1746\n",
      "===> Epoch: 40 Average mae test loss for targetcol: 3.0173\n",
      "====> Test set loss: 6329.8379\n",
      "====> Epoch: 40 Average test loss: 0.1794\n"
     ]
    },
    {
     "name": "stderr",
     "output_type": "stream",
     "text": [
      "Train Epoch: 41 [105600/105870 (100%)]\tLoss: 1.037851: 100%|██████████| 1103/1103 [00:04<00:00, 247.95it/s]\n"
     ]
    },
    {
     "name": "stdout",
     "output_type": "stream",
     "text": [
      "====> Epoch: 41 Average train loss: 0.9842\n",
      "===> Epoch: 41 Average mae test loss for targetcol :3.1709\n",
      "===> Epoch: 41 Average mae test loss for targetcol: 3.0162\n",
      "====> Test set loss: 6556.5361\n",
      "====> Epoch: 41 Average test loss: 0.1858\n"
     ]
    },
    {
     "name": "stderr",
     "output_type": "stream",
     "text": [
      "Train Epoch: 42 [105600/105870 (100%)]\tLoss: 1.107471: 100%|██████████| 1103/1103 [00:04<00:00, 250.43it/s]\n"
     ]
    },
    {
     "name": "stdout",
     "output_type": "stream",
     "text": [
      "====> Epoch: 42 Average train loss: 0.9831\n",
      "===> Epoch: 42 Average mae test loss for targetcol :3.1695\n",
      "===> Epoch: 42 Average mae test loss for targetcol: 3.0694\n",
      "====> Test set loss: 6533.0257\n",
      "====> Epoch: 42 Average test loss: 0.1851\n"
     ]
    },
    {
     "name": "stderr",
     "output_type": "stream",
     "text": [
      "Train Epoch: 43 [105600/105870 (100%)]\tLoss: 0.928844: 100%|██████████| 1103/1103 [00:04<00:00, 220.86it/s]\n"
     ]
    },
    {
     "name": "stdout",
     "output_type": "stream",
     "text": [
      "====> Epoch: 43 Average train loss: 0.9824\n",
      "===> Epoch: 43 Average mae test loss for targetcol :3.1722\n",
      "===> Epoch: 43 Average mae test loss for targetcol: 3.0250\n",
      "====> Test set loss: 6500.9798\n",
      "====> Epoch: 43 Average test loss: 0.1842\n"
     ]
    },
    {
     "name": "stderr",
     "output_type": "stream",
     "text": [
      "Train Epoch: 44 [105600/105870 (100%)]\tLoss: 0.988845: 100%|██████████| 1103/1103 [00:04<00:00, 249.24it/s]\n"
     ]
    },
    {
     "name": "stdout",
     "output_type": "stream",
     "text": [
      "====> Epoch: 44 Average train loss: 0.9781\n",
      "===> Epoch: 44 Average mae test loss for targetcol :3.1709\n",
      "===> Epoch: 44 Average mae test loss for targetcol: 3.0408\n",
      "====> Test set loss: 6453.0897\n",
      "====> Epoch: 44 Average test loss: 0.1829\n"
     ]
    },
    {
     "name": "stderr",
     "output_type": "stream",
     "text": [
      "Train Epoch: 45 [105600/105870 (100%)]\tLoss: 0.825752: 100%|██████████| 1103/1103 [00:04<00:00, 244.45it/s]\n"
     ]
    },
    {
     "name": "stdout",
     "output_type": "stream",
     "text": [
      "====> Epoch: 45 Average train loss: 0.9820\n",
      "===> Epoch: 45 Average mae test loss for targetcol :3.1695\n",
      "===> Epoch: 45 Average mae test loss for targetcol: 3.0300\n",
      "====> Test set loss: 6465.0508\n",
      "====> Epoch: 45 Average test loss: 0.1832\n"
     ]
    },
    {
     "name": "stderr",
     "output_type": "stream",
     "text": [
      "Train Epoch: 46 [105600/105870 (100%)]\tLoss: 0.908099: 100%|██████████| 1103/1103 [00:04<00:00, 242.87it/s]\n"
     ]
    },
    {
     "name": "stdout",
     "output_type": "stream",
     "text": [
      "====> Epoch: 46 Average train loss: 0.9794\n",
      "===> Epoch: 46 Average mae test loss for targetcol :3.1700\n",
      "===> Epoch: 46 Average mae test loss for targetcol: 3.0287\n",
      "====> Test set loss: 6300.4488\n",
      "====> Epoch: 46 Average test loss: 0.1785\n"
     ]
    },
    {
     "name": "stderr",
     "output_type": "stream",
     "text": [
      "Train Epoch: 47 [105600/105870 (100%)]\tLoss: 0.962798: 100%|██████████| 1103/1103 [00:04<00:00, 242.40it/s]\n"
     ]
    },
    {
     "name": "stdout",
     "output_type": "stream",
     "text": [
      "====> Epoch: 47 Average train loss: 0.9809\n",
      "===> Epoch: 47 Average mae test loss for targetcol :3.1677\n",
      "===> Epoch: 47 Average mae test loss for targetcol: 3.0554\n",
      "====> Test set loss: 6700.7141\n",
      "====> Epoch: 47 Average test loss: 0.1899\n"
     ]
    },
    {
     "name": "stderr",
     "output_type": "stream",
     "text": [
      "Train Epoch: 48 [105600/105870 (100%)]\tLoss: 1.010088: 100%|██████████| 1103/1103 [00:04<00:00, 230.26it/s]\n"
     ]
    },
    {
     "name": "stdout",
     "output_type": "stream",
     "text": [
      "====> Epoch: 48 Average train loss: 0.9807\n",
      "===> Epoch: 48 Average mae test loss for targetcol :3.1687\n",
      "===> Epoch: 48 Average mae test loss for targetcol: 3.0055\n",
      "====> Test set loss: 6464.7421\n",
      "====> Epoch: 48 Average test loss: 0.1832\n"
     ]
    },
    {
     "name": "stderr",
     "output_type": "stream",
     "text": [
      "Train Epoch: 49 [105600/105870 (100%)]\tLoss: 0.907226: 100%|██████████| 1103/1103 [00:04<00:00, 225.64it/s]\n"
     ]
    },
    {
     "name": "stdout",
     "output_type": "stream",
     "text": [
      "====> Epoch: 49 Average train loss: 0.9817\n",
      "===> Epoch: 49 Average mae test loss for targetcol :3.1678\n"
     ]
    },
    {
     "name": "stderr",
     "output_type": "stream",
     "text": [
      "[I 2025-05-15 13:14:13,530] Trial 6 finished with value: 0.1865509971879163 and parameters: {'batch_size': 96, 'learning_rate': 3.0540408865175605e-05, 'lambda': 0.7327555563261579}. Best is trial 4 with value: 0.02505394658210519.\n"
     ]
    },
    {
     "name": "stdout",
     "output_type": "stream",
     "text": [
      "===> Epoch: 49 Average mae test loss for targetcol: 3.0345\n",
      "====> Test set loss: 6583.3847\n",
      "====> Epoch: 49 Average test loss: 0.1866\n",
      "🏃 View run vaunted-wasp-302 at: http://localhost:5000/#/experiments/4/runs/4abc27ef1fc6488cbee6e601549f4c83\n",
      "🧪 View experiment at: http://localhost:5000/#/experiments/4\n",
      "Best Trial:\n",
      "Validation loss: 0.02505394658210519\n",
      "Params:\n"
     ]
    },
    {
     "data": {
      "image/png": "[encoded data removed]",
      "text/plain": [
       "<Figure size 1000x500 with 1 Axes>"
      ]
     },
     "metadata": {},
     "output_type": "display_data"
    },
    {
     "name": "stdout",
     "output_type": "stream",
     "text": [
      "batch_size: 64\n",
      "learning_rate: 0.008363264443483771\n",
      "lambda: 0.9632408065194331\n",
      "🏃 View run optuna_vae_adjusted_for_te_air_scav_rec at: http://localhost:5000/#/experiments/4/runs/c177e584747f42458ab1743186fceee8\n",
      "🧪 View experiment at: http://localhost:5000/#/experiments/4\n",
      "===> Epoch: 50 Average mae test loss for targetcol: 4.7369\n",
      "====> Test set loss: 1607.0558\n",
      "====> Epoch: 50 Average test loss: 0.0455\n",
      "Final Test Loss:0.0455, MAE:4.7369\n",
      "🏃 View run Final_test_val_for_te_air_scav_rec at: http://localhost:5000/#/experiments/4/runs/a377c0990fa34944b6010438b574a77b\n",
      "🧪 View experiment at: http://localhost:5000/#/experiments/4\n"
     ]
    }
   ],
   "source": [
    "import argparse\n",
    "import hashlib\n",
    "from pathlib import Path\n",
    "\n",
    "import matplotlib.pyplot as plt\n",
    "import mlflow\n",
    "import mlflow.pytorch\n",
    "import shap\n",
    "import numpy as np\n",
    "import pandas as pd\n",
    "import seaborn as sns\n",
    "import torch\n",
    "import torch.utils.data\n",
    "import data_insight\n",
    "from data_insight import setup_duckdb\n",
    "from duckdb import DuckDBPyConnection as DuckDB\n",
    "from duckdb import DuckDBPyRelation as Relation\n",
    "from pathlib import Path\n",
    "import hashlib\n",
    "from duckdb import DuckDBPyConnection as DuckDB\n",
    "from sklearn.model_selection import TimeSeriesSplit\n",
    "from sklearn.preprocessing import MinMaxScaler, OneHotEncoder\n",
    "from sklearn.metrics import mean_squared_error, mean_absolute_error\n",
    "import optuna \n",
    "from optuna.visualization import plot_optimization_history\n",
    "\n",
    "\n",
    "from torch import nn, optim\n",
    "from torch.nn import functional as F\n",
    "from torch.utils.data import TensorDataset,DataLoader, Dataset\n",
    "from tqdm.auto import tqdm\n",
    "\n",
    "import sensor_imputation_thesis.shared.load_data as load\n",
    "\n",
    "\n",
    "def setup_seed(seed):\n",
    "    torch.manual_seed(seed)\n",
    "    torch.cuda.manual_seed_all(seed)\n",
    "    np.random.seed(seed)\n",
    "    random.seed(seed)\n",
    "    torch.backends.cudnn.deterministic = True\n",
    "    torch.backends.cudnn.benchmark = False\n",
    "\n",
    "\n",
    "# set tracking_uri:\n",
    "mlflow.set_tracking_uri(\"http://localhost:5000\")\n",
    "# So I don't know if above commands are sufficient server setup, but it did work for me. And I might need your help if they aren't\n",
    "# mlflow relevant info:\n",
    "# I overall faced problem that says \"HTTPConnectionPool(host='0.0.0.0', port=5000): Max retries exceeded with url\". And the solutions were:\n",
    "# 1. Try running this line in terminal to see if mlflow logs exist\n",
    "# if logs exist, port can be directed\n",
    "# \" mlflow server --backend-store-uri sqlite:///mlflow.db --default-artifact-root ./mlruns \"\n",
    "# 2. Another possible solution for mlflow errors is to rename the experiment name and the run-name involved below\n",
    "\n",
    "# Load data\n",
    "\n",
    "pd.set_option(\"display.max_columns\", None)\n",
    "\n",
    "\n",
    "def load_engine_data(\n",
    "    con: DuckDB, product_id: str, start: pd.Timestamp, stop: pd.Timestamp, tags: list[str]\n",
    ") -> Relation:\n",
    "    return con.sql(f\"\"\"\n",
    "    SELECT {','.join(tags)}\n",
    "    FROM timeseries\n",
    "    WHERE\n",
    "        time BETWEEN '{start}' AND '{stop}'\n",
    "        AND pid = '{product_id}'\n",
    "    \"\"\")\n",
    "\n",
    "def get_tags_hash(tags):\n",
    "    return hashlib.md5(\",\".join(tags).encode()).hexdigest()\n",
    "\n",
    "\n",
    "# edit timestamp as needed\n",
    "start, stop = pd.Timestamp(\"2023-10-01\"), pd.Timestamp(\"2024-10-01\")\n",
    "\n",
    "# these are the tags that include 9 missing cols, feel free to edit\n",
    "tags = [\n",
    "    \"time\",\n",
    "    \"fr_eng\",\n",
    "    \"te_exh_cyl_out__0\",\n",
    "    \"pd_air_ic__0\",\n",
    "    \"pr_exh_turb_out__0\",\n",
    "    \"te_air_ic_out__0\",\n",
    "    \"te_seawater\",\n",
    "    \"te_air_comp_in_a__0\",\n",
    "    \"te_air_comp_in_b__0\",\n",
    "    \"fr_tc__0\",\n",
    "    \"pr_baro\",\n",
    "    #most common \"bad\"/ \"out of bound\" sensors\n",
    "    \"pd_air_ic__0\",  #overlapped with below\n",
    "    \"pr_exh_rec\",\n",
    "    \"te_exh_turb_in__0\",\n",
    "    \"te_exh_turb_out__0\",\n",
    "    #Feature Importance Result\n",
    "    #for te_exh_cyl_out__0\n",
    "    \"bo_aux_blower_running\",\n",
    "    \"re_eng_load\",\n",
    "    \"pr_air_scav_ecs\", #overlap\n",
    "    #pd_air_ic__0\n",
    "    \"pr_air_scav\",\n",
    "    #for te_air_ic_out__0\n",
    "    #for te_seawater\n",
    "    \"te_air_scav_rec\",\n",
    "    \"te_air_ic_out__0\",\n",
    "    \"pr_cyl_comp__0\",\n",
    "    \"pr_cyl_max__0\",\n",
    "    \"se_mip__0\",\n",
    "    \"te_exh_cyl_out__0\",\n",
    "    \"fr_eng_setpoint\",\n",
    "    \"te_air_scav_rec_iso\",\n",
    "    #for pr_baro\n",
    "    \"pr_cyl_max_mv_iso\",\n",
    "    \"pr_cyl_comp_mv_iso\",\n",
    "    \"fr_eng_ecs\",\n",
    "    \"pr_air_scav_iso\",\n",
    "\n",
    "\n",
    "]\n",
    "\n",
    "# edit point as needed\n",
    "product_id = \"89ccb7a888d53f8792f0580801cede9a\"\n",
    "\n",
    "#product_id \n",
    "#add more product id with same engine type (fine the most popular ones)\n",
    "\n",
    "\n",
    "# Construct the cache file path using the Path class\n",
    "DATA = Path.home() / \"SageMaker/data_cache\"\n",
    "DATA.mkdir(exist_ok=True)\n",
    "cache = DATA / f\"data_{get_tags_hash(tags)}_{product_id}_{start:%Y-%m-%d}_{stop:%Y-%m-%d}.parquet\"\n",
    "\n",
    "# Ensure the directory exists\n",
    "cache.parent.mkdir(parents=True, exist_ok=True)\n",
    "\n",
    "if cache.exists():\n",
    "    df = pd.read_parquet(cache)\n",
    "else:\n",
    "    con = setup_duckdb()\n",
    "    df = load_engine_data(con, product_id, start, stop, tags).df()\n",
    "    df.to_parquet(cache)\n",
    "\n",
    "print(df.head(10))\n",
    "\n",
    "\n",
    "## Adding engine types and assign onehot encoder, and merge df  \n",
    "con = data_insight.setup_duckdb()\n",
    "con.sql(\"SET enable_progress_bar=true\")\n",
    "engine_type = con.sql(f\"SELECT engine_type FROM shipinfo WHERE productId == '{product_id}'\").df().engine_type.item()\n",
    "df['engine_type']=engine_type\n",
    "\n",
    "#Apply onehotencoder \n",
    "encoder = OneHotEncoder(sparse_output=False)\n",
    "encoded_engine_type = encoder.fit_transform(df[['engine_type']])\n",
    "# Create a DataFrame with the encoded columns\n",
    "encoded_df = pd.DataFrame(encoded_engine_type, columns=encoder.get_feature_names_out(['engine_type']))\n",
    "# Concatenate the original DataFrame with the encoded DataFrame\n",
    "df = pd.concat([df, encoded_df], axis=1)\n",
    "#drop? not sure yet. \n",
    "df.drop('engine_type', axis=1,inplace=True)\n",
    "\n",
    "\n",
    "\n",
    "# Preprocessing steps not needed for this col\n",
    "# filter df with engine running (changed into 10/60 revolutions)\n",
    "df1 = df[df[\"fr_eng\"] > (10/60)]\n",
    "\n",
    "# Check nan values in each column\n",
    "for col in df1.columns:\n",
    "    print(f\"Column {col} has {df1[col].isna().sum()} NaN values\")\n",
    "\n",
    "\n",
    "## Newly Suggested Approach to drop nan columns (drop cols with all nan values, and then drop rows that have any nan value )\n",
    "df1=df.dropna(axis=1,how='all')\n",
    "# drop any null vals in rows \n",
    "df1=df1.dropna(axis=0,how='any')\n",
    "\n",
    "#check the length of the df1 and the length of df to check how many cols rows are dropped \n",
    "print(\"shape of original df:\")\n",
    "print(\"Datasize:\",len(df))\n",
    "print(\"Colnumber:\",len(df.columns))\n",
    "\n",
    "print(\"shape of filtered df:\")\n",
    "print(\"Datasize:\",len(df1))\n",
    "print(\"Colnumber:\",len(df1.columns))\n",
    "\n",
    "# Select numeric columns\n",
    "numeric_df = df1.select_dtypes(include=\"number\")\n",
    "print(numeric_df)\n",
    "\n",
    "data=numeric_df  #data here is before scaling \n",
    "\n",
    "\n",
    "#define inverse scale\n",
    "def inverse_scale(scaled_data, data_min, scale):\n",
    "    return scaled_data*scale + data_min\n",
    "\n",
    "\n",
    "# VAE Model\n",
    "class VAE(nn.Module):\n",
    "    def __init__(self, input_dim):\n",
    "        super(VAE, self).__init__()\n",
    "        self.fc1 = nn.Linear(input_dim, 400)\n",
    "        self.fc21 = nn.Linear(400, 20)\n",
    "        self.fc22 = nn.Linear(400, 20)\n",
    "        self.fc3 = nn.Linear(20, 400)\n",
    "        self.fc4 = nn.Linear(400, input_dim)\n",
    "\n",
    "    def encode(self, x):\n",
    "        h1 = F.relu(self.fc1(x))\n",
    "        return self.fc21(h1), self.fc22(h1)\n",
    "\n",
    "    def reparameterize(self, mu, logvar):\n",
    "        std = torch.exp(0.5 * logvar)\n",
    "        eps = torch.randn_like(std)\n",
    "        return mu + eps * std\n",
    "\n",
    "    def decode(self, z):\n",
    "        h3 = F.relu(self.fc3(z))\n",
    "        return torch.tanh(self.fc4(h3))\n",
    "\n",
    "    def forward(self, x):\n",
    "        mu, logvar = self.encode(x)\n",
    "        z = self.reparameterize(mu, logvar)\n",
    "        return self.decode(z), mu, logvar\n",
    "\n",
    "\n",
    "##XGBoost \n",
    "\n",
    "\n",
    "# Reconstruction + KL divergence losses summed over target column and batch\n",
    "def loss_function(recon_x, x, mu, logvar, targetcol_idx, lambda_val):\n",
    "    # Specify the target column\n",
    "    recon_x_col = recon_x[:, targetcol_idx]\n",
    "    x_col = x[:, targetcol_idx]\n",
    "\n",
    "    # MSE & KLD for target column\n",
    "    MSE_col = F.mse_loss(recon_x_col, x_col, reduction=\"sum\")\n",
    "    KLD_col = -0.5 * torch.sum(1 + logvar - mu.pow(2) - logvar.exp())\n",
    "\n",
    "    # MSE & KLD for entire dataset\n",
    "    MSE_all = F.mse_loss(recon_x, x, reduction=\"sum\")\n",
    "    KLD_all = -0.5 * torch.sum(1 + logvar - mu.pow(2) - logvar.exp())\n",
    "\n",
    "    # Combine losses using lambda\n",
    "    loss = lambda_val * (MSE_col + KLD_col) + (1 - lambda_val) * (MSE_all + KLD_all)\n",
    "    return loss\n",
    "\n",
    "\n",
    "###add mse(&mae) comparison within training loop for target column\n",
    "#test if this works \n",
    "\n",
    "\n",
    "def train(epoch, model, train_loader, data_min, scale, lambda_val, targetcol_idx, optimizer, device, args):\n",
    "    model.train()\n",
    "    train_loss = 0\n",
    "    mae_loss_target_train = 0\n",
    "    average_train_loss = 0  # Initialize average_train_loss\n",
    "    pbar = tqdm(total=len(train_loader), desc=\"Training\")\n",
    "    for batch_idx, (data,) in enumerate(train_loader): #trian loader is after scaling\n",
    "        data_unmasked = data.to(device).float() #this data is before scaling\n",
    "        # Mask the target column\n",
    "        data_masked = data_unmasked.clone() #before scaling\n",
    "        data_masked[:, targetcol_idx] = -2\n",
    "        optimizer.zero_grad()\n",
    "        recon_batch, mu, logvar = model(data_masked)  # Masked target col\n",
    "        if torch.isnan(recon_batch).any():\n",
    "            print(\"NaN or in recon_batch!\")\n",
    "            break\n",
    "        loss = loss_function(recon_batch, data_unmasked, mu, logvar, targetcol_idx, lambda_val)\n",
    "        if torch.isnan(loss) or torch.isinf(loss):\n",
    "            raise ValueError(f\"NaN or Inf detected in loss at batch {batch_idx}. Check scaling or model outputs!\")\n",
    "            break\n",
    "        loss.backward()\n",
    "        torch.nn.utils.clip_grad_norm_(model.parameters(), max_norm=1.0)\n",
    "        train_loss += loss.item()\n",
    "        optimizer.step()\n",
    "        if batch_idx % args.log_interval == 0:\n",
    "            pbar.set_description(\n",
    "                \"Train Epoch: {} [{}/{} ({:.0f}%)]\\tLoss: {:.6f}\".format(\n",
    "                    epoch,\n",
    "                    batch_idx * len(data),\n",
    "                    len(train_loader.dataset),\n",
    "                    100.0 * batch_idx / len(train_loader),\n",
    "                    loss.item() / len(data),\n",
    "                )\n",
    "            )\n",
    "\n",
    "        pbar.update(1)\n",
    "        #revised \n",
    "        data_unscaled=inverse_scale(data_unmasked,data_min.to(device),scale.to(device))\n",
    "        target_column=data_unscaled[:,targetcol_idx]\n",
    "        recon_unscaled=inverse_scale(recon_batch,data_min.to(device),scale.to(device))\n",
    "        recon_column=recon_unscaled[:,targetcol_idx]\n",
    "\n",
    "                                                                                                \n",
    "        #mae metric calculation\n",
    "        mae_loss_target_train+=torch.mean(torch.abs(target_column-recon_column)).item()\n",
    "        #mae_loss_target_train += mean_absolute_error(target_column, recon_column)  # Ground truth\n",
    "\n",
    "    average_train_loss = train_loss / len(train_loader.dataset)  # Update after loop\n",
    "    print(\"====> Epoch: {} Average train loss: {:.4f}\".format(epoch, average_train_loss))\n",
    "    print(\"===> Epoch: {} Average mae test loss for targetcol :{:.4f}\".format(epoch,mae_loss_target_train/len(train_loader)))\n",
    "    return average_train_loss, mae_loss_target_train / len(train_loader)\n",
    "\n",
    "\n",
    "#Added mse in the test\n",
    "#In the test loop, masked column should be the input. \n",
    "#Redefine data for the test loop(should I inlcude this in the test loop or leave it here?)\n",
    "#dataset changed into validation set for testing loop\n",
    "    \n",
    "def test(epoch, model, val_loader, scale, data_min, targetcol_idx, device):\n",
    "    model.eval()\n",
    "    test_loss = 0\n",
    "    mae_loss_target_test = 0\n",
    "    with torch.no_grad():\n",
    "        for batch_idx, (data,) in enumerate(val_loader):\n",
    "            data_unmasked = data.to(device).float()  #data used here is before scaling \n",
    "            # Mask the target column\n",
    "            data_masked = data_unmasked.clone()\n",
    "            data_masked[:, targetcol_idx] = -2\n",
    "            recon_batch, mu, logvar = model(data_masked)  # Masked target col\n",
    "            # Define new lambda val for testing\n",
    "            lambda_val = 1.0\n",
    "            test_loss += loss_function(recon_batch, data_unmasked, mu, logvar, targetcol_idx, lambda_val).item()\n",
    "            # Scale back target column and reconstructed column\n",
    "            data_unscaled=inverse_scale(data_unmasked,data_min.to(device),scale.to(device))\n",
    "            target_column=data_unscaled[:,targetcol_idx]\n",
    "            recon_unscaled=inverse_scale(recon_batch,data_min.to(device),scale.to(device))\n",
    "            recon_column=recon_unscaled[:,targetcol_idx]\n",
    "                                                           \n",
    "            #mae metric calculation\n",
    "            mae_loss_target_test+=torch.mean(torch.abs(target_column-recon_column)).item()\n",
    "           # mae_loss_target_test += mean_absolute_error(target_column, recon_column)\n",
    "        \n",
    "        print(\"===> Epoch: {} Average mae test loss for targetcol: {:.4f}\".format(epoch, mae_loss_target_test / len(val_loader)))\n",
    "        print(\"====> Test set loss: {:.4f}\".format(test_loss))\n",
    "        average_test_loss = test_loss / len(val_loader.dataset)\n",
    "        print(\"====> Epoch: {} Average test loss: {:.4f}\".format(epoch, average_test_loss))\n",
    "    \n",
    "    return average_test_loss, mae_loss_target_test / len(val_loader)\n",
    "\n",
    "\n",
    "\n",
    "\n",
    "def main():\n",
    "    # Configuration parameters\n",
    "    class Config:\n",
    "        batch_size = 64\n",
    "        epochs = 50\n",
    "        no_cuda = False\n",
    "        no_mps = False\n",
    "        seed = 1\n",
    "        log_interval = 10\n",
    "        lr = 1e-4\n",
    "\n",
    "    dl_kwargs = dict(\n",
    "        batch_size=Config.batch_size,\n",
    "        shuffle=True,\n",
    "        # num_workers=4, # This may or may not be faster, depending on system\n",
    "        pin_memory=torch.cuda.is_available(),\n",
    "    )\n",
    "\n",
    "    args = Config()\n",
    "    args.cuda = not args.no_cuda and torch.cuda.is_available()\n",
    "    use_mps = not args.no_mps and torch.backends.mps.is_available()\n",
    "\n",
    "    torch.manual_seed(args.seed)\n",
    "\n",
    "    if args.cuda:\n",
    "        device = torch.device(\"cuda\")\n",
    "    elif use_mps:\n",
    "        device = torch.device(\"mps\")\n",
    "    else:\n",
    "        device = torch.device(\"cpu\")\n",
    "    \n",
    "   # Specify the target column, here should be changed while training other target columns\n",
    "    # (edit point as needed)\n",
    "    targetcolumn = \"te_air_scav_rec\"\n",
    "    targetcol_idx = data.columns.get_loc(targetcolumn)\n",
    "\n",
    "    #split dataset\n",
    "    train_size = int(0.6 * len(data))\n",
    "    val_size=int(0.2 * len(data))\n",
    "\n",
    "    train_df = data.iloc[:train_size]\n",
    "    val_df = data.iloc[train_size:train_size + val_size]\n",
    "    test_df= data.iloc[train_size + val_size:]\n",
    "\n",
    "    # Standardize the numeric data\n",
    "    scaler = MinMaxScaler(feature_range=(-1, 1))\n",
    "    #only apply scaler to the train set \n",
    "    scaled_train=scaler.fit_transform(train_df.values)\n",
    "    print(\"scaled_data\", scaled_train)\n",
    "    print(\"unscaled_data\",data)\n",
    "\n",
    "    # Transform val and test using the same scaler\n",
    "    scaled_val=scaler.transform(val_df.values)\n",
    "    scaled_test=scaler.transform(test_df.values)\n",
    "\n",
    "        \n",
    "    data_min=torch.tensor(scaler.data_min_,dtype=torch.float32)\n",
    "    data_max=torch.tensor(scaler.data_max_,dtype=torch.float32)\n",
    "    scale=data_max-data_min\n",
    "    scale[scale==0]=1e-8\n",
    "\n",
    "\n",
    "    #Convert DataFrame to Tensor\n",
    "    scaled_train_tensor=torch.tensor(scaled_train,dtype=torch.float32)\n",
    "    scaled_val_tensor=torch.tensor(scaled_val,dtype=torch.float32)\n",
    "    scaled_test_tensor=torch.tensor(scaled_test,dtype=torch.float32)\n",
    "\n",
    "    #create datasets on CPU\n",
    "    train_dataset=TensorDataset(scaled_train_tensor)\n",
    "    val_dataset=TensorDataset(scaled_val_tensor)\n",
    "    test_dataset=TensorDataset(scaled_test_tensor)\n",
    "\n",
    "\n",
    "     # Initialize Mlflow\n",
    "    mlflow.set_experiment(\"VAE_adjustedtestwizcorrect_optuna\")\n",
    "\n",
    "\n",
    "    def plot_loss_trends(run_id):\n",
    "        client = mlflow.tracking.MlflowClient()\n",
    "        \n",
    "        # Retrieve metric history\n",
    "        history_train = client.get_metric_history(run_id, \"average_train_loss\")\n",
    "        history_test = client.get_metric_history(run_id, \"average_test_loss\")\n",
    "\n",
    "        if not history_train or not history_test:\n",
    "            print(\"No metric history found for the given run_id.\")\n",
    "            return\n",
    "\n",
    "        # Sort by step to ensure correct order\n",
    "        history_train.sort(key=lambda x: x.step)\n",
    "        history_test.sort(key=lambda x: x.step)\n",
    "\n",
    "        epochs = [point.step for point in history_train]\n",
    "        train_losses = [point.value for point in history_train]\n",
    "        test_losses = [point.value for point in history_test]\n",
    "\n",
    "        # Plotting\n",
    "        plt.figure(figsize=(10, 5))\n",
    "        plt.plot(epochs, train_losses, label=\"Train Loss\")\n",
    "        plt.plot(epochs, test_losses, label=\"Test Loss\")\n",
    "        plt.xlabel(\"Epoch\")\n",
    "        plt.ylabel(\"Loss\")\n",
    "        plt.title(\"Loss Trend from Best Trial\")\n",
    "        plt.legend()\n",
    "        plt.grid(True)\n",
    "        plt.tight_layout()\n",
    "        plt.show()\n",
    "\n",
    "\n",
    "\n",
    "    #Adding Optuna\n",
    "    def objective(trial,device, data_min, scale):\n",
    "        with mlflow.start_run(nested=True) as run:\n",
    "            input_dim = scaled_train.shape[1]\n",
    "            batch_size =trial.suggest_int(\"batch_size\", 32, 128, step=32)\n",
    "            lr = trial.suggest_float(\"learning_rate\", 1e-6, 1e-1, log=True)\n",
    "            lambda_val = trial.suggest_float(\"lambda\", 0.5, 1.0)\n",
    "            \n",
    "            train_loader = DataLoader(train_dataset, batch_size=batch_size, shuffle=True)\n",
    "            val_loader = DataLoader(val_dataset, batch_size=batch_size, shuffle=False)\n",
    "        \n",
    "            \n",
    "            mlflow.log_params({\n",
    "                    \"batch_size\":batch_size,\n",
    "                    \"learning_rate\":lr,\n",
    "                    \"lambda\":lambda_val\n",
    "                })\n",
    "\n",
    "            model = VAE(input_dim=input_dim).to(device)\n",
    "\n",
    "            optimizer = optim.Adam(model.parameters(), lr=lr)\n",
    "\n",
    "\n",
    "            for epoch in range(args.epochs):\n",
    "                \n",
    "                average_train_loss, mae_loss_target_train = train(\n",
    "                    epoch,\n",
    "                    model,\n",
    "                    train_loader,\n",
    "                    lambda_val=lambda_val,\n",
    "                    targetcol_idx=targetcol_idx,\n",
    "                    optimizer=optimizer,\n",
    "                    device=device,\n",
    "                    data_min=data_min, \n",
    "                    scale=scale, #this is used for inverse scaling\n",
    "                    args=args\n",
    "                )\n",
    "\n",
    "                average_test_loss, mae_loss_target_test=test(\n",
    "                    epoch,\n",
    "                    model,\n",
    "                    val_loader,\n",
    "                    targetcol_idx=targetcol_idx,\n",
    "                    device=device,\n",
    "                    data_min=data_min,\n",
    "                    scale=scale #same, used for inverse scaling \n",
    "                \n",
    "                )\n",
    "                \n",
    "\n",
    "                \n",
    "                mlflow.log_metrics(\n",
    "                    {\n",
    "                        \"epoch\": epoch,\n",
    "                        \"average_train_loss\": average_train_loss,\n",
    "                        \"average_test_loss\": average_test_loss,\n",
    "                        \"mae_loss_target_train\": mae_loss_target_train,\n",
    "                        \"mae_loss_target_test\": mae_loss_target_test,\n",
    "                    },\n",
    "                    step=epoch,\n",
    ")\n",
    "\n",
    "\n",
    "            trial.set_user_attr(\"model_state_dict\", model.state_dict())\n",
    "            trial.set_user_attr(\"mlflow_run_id\", run.info.run_id)\n",
    "            \n",
    "            return average_test_loss # Ensure only one value is returned\n",
    "\n",
    "   \n",
    "    # Define run name(edit)\n",
    "    vae_run_name = \"optuna_vae_adjusted_for_te_air_scav_rec\"\n",
    "    \n",
    "    with mlflow.start_run(run_name=vae_run_name) as parent_run:\n",
    "        study = optuna.create_study(direction=\"minimize\")\n",
    "        study.optimize(lambda trial:objective (trial,device,data_min,scale),n_trials=100, timeout=3600)\n",
    "        #plot_optimization_history(study)  #visualization \n",
    "        best_trial = study.best_trial\n",
    "        best_run_id = best_trial.user_attrs[\"mlflow_run_id\"] #log run id to see the loss trend later\n",
    "        best_batch_size=best_trial.params[\"batch_size\"]\n",
    "\n",
    "      \n",
    "        mlflow.log_params(best_trial.params)\n",
    "        mlflow.log_param(\"best_run_id\", best_run_id)\n",
    "        mlflow.log_metric(\"Best Validation Loss:\", best_trial.value)\n",
    "        print(\"Best Trial:\")\n",
    "        print(f\"Validation loss: {best_trial.value}\")\n",
    "        print(\"Params:\")\n",
    "\n",
    "        # Check the loss trend of the best trial using corresponding run_id \n",
    "        best_trial_run_id = best_run_id\n",
    "        plot_loss_trends(best_trial_run_id)\n",
    "\n",
    "\n",
    "        for key, value in best_trial.params.items():\n",
    "            print(f\"{key}: {value}\")\n",
    "       \n",
    "    #Test on the test set with best parameters\n",
    "    with mlflow.start_run(run_name=\"Final_test_val_for_te_air_scav_rec\", nested=True):\n",
    "            # Model Reloading\n",
    "            best_model=VAE(input_dim=scaled_train.shape[1]).to(device)\n",
    "            best_model.load_state_dict(study.best_trial.user_attrs[\"model_state_dict\"])\n",
    "              \n",
    "            \n",
    "            #Evaluate on the test data \n",
    "            test_loader=DataLoader(test_dataset, batch_size=best_batch_size, shuffle=False)\n",
    "            epoch=50\n",
    "            average_test_loss, mae_loss_target_test=test(\n",
    "                        val_loader=test_loader,\n",
    "                        epoch=epoch,\n",
    "                        model=best_model,\n",
    "                        targetcol_idx=targetcol_idx,\n",
    "                        device=device,\n",
    "                        data_min=data_min,\n",
    "                        scale=scale\n",
    "                        )\n",
    "                \n",
    "                \n",
    "            mlflow.log_metrics(\n",
    "                    {\n",
    "                    \"epoch\": epoch,\n",
    "                    \"Final_test_loss\": average_test_loss,\n",
    "                    \"Final_loss_target_test\": mae_loss_target_test,\n",
    "                    },\n",
    "                 step=epoch,\n",
    ")\n",
    "           \n",
    "            print(f\"Final Test Loss:{average_test_loss:.4f}, MAE:{mae_loss_target_test:.4f}\")\n",
    "            \n",
    "            ##Registration may not needed yet.. \n",
    "             #log the model with scaling params\n",
    "            #input_dim = scaled_train.shape[1]\n",
    "            #input_example = torch.randn(1, input_dim).float().cpu().numpy()  # Convert to NumPy\n",
    "            #mlflow.pytorch.log_model(\n",
    "              #  pytorch_model=best_model,\n",
    "               # artifact_path=\"model\",\n",
    "               # registered_model_name=\"VAE for te_air_scav_rec\",\n",
    "               # input_example=input_example,\n",
    "               # extra_pip_requirements=[\"torch\",\"optuna\",\"mlflow\"],\n",
    "                                                             \n",
    "               # metadata={\n",
    "                  #  \"train_min\": data_min.cpu().numpy().tolist(),\n",
    "                  #  \"scale\": scale.cpu().numpy().tolist()\n",
    "                 #   }\n",
    "                #)\n",
    "            \n",
    "\n",
    "if __name__ == '__main__':\n",
    "    main()\n",
    "\n",
    "\n",
    "\n",
    "\n",
    "\n",
    "\n",
    "\n",
    "    # CSOM: This should be done ONCE after training, and not inside the training loop."
   ]
  },
  {
   "cell_type": "code",
   "execution_count": null,
   "metadata": {},
   "outputs": [
    {
     "ename": "NameError",
     "evalue": "name 'device' is not defined",
     "output_type": "error",
     "traceback": [
      "\u001b[0;31m---------------------------------------------------------------------------\u001b[0m",
      "\u001b[0;31mNameError\u001b[0m                                 Traceback (most recent call last)",
      "Cell \u001b[0;32mIn[4], line 3\u001b[0m\n\u001b[1;32m      1\u001b[0m \u001b[39mwith\u001b[39;00m torch\u001b[39m.\u001b[39mno_grad():\n\u001b[1;32m      2\u001b[0m                 \u001b[39m# Generate a latent sample\u001b[39;00m\n\u001b[0;32m----> 3\u001b[0m                 sample \u001b[39m=\u001b[39m torch\u001b[39m.\u001b[39mrandn(\u001b[39m64\u001b[39m, \u001b[39m20\u001b[39m)\u001b[39m.\u001b[39mto(device)  \u001b[39m# Adjust latent dimensions\u001b[39;00m\n\u001b[1;32m      4\u001b[0m                 \u001b[39m# Decode the sample\u001b[39;00m\n\u001b[1;32m      5\u001b[0m                 sample \u001b[39m=\u001b[39m model\u001b[39m.\u001b[39mdecode(sample)\u001b[39m.\u001b[39mcpu()\u001b[39m.\u001b[39mnumpy()  \n",
      "\u001b[0;31mNameError\u001b[0m: name 'device' is not defined"
     ]
    }
   ],
   "source": [
    "with torch.no_grad():\n",
    "                # Generate a latent sample\n",
    "                sample = torch.randn(64, 20).to(device)  # Adjust latent dimensions\n",
    "                # Decode the sample\n",
    "                sample = model.decode(sample).cpu().numpy()  \n",
    "                # Validate the shape of the decoded sample\n",
    "                if sample.shape[1] != len(numeric_df.columns):\n",
    "                    raise ValueError(\n",
    "                        f\"Shape mismatch: Generated data has {sample.shape[1]} columns, \"\n",
    "                        f\"but expected {len(numeric_df.columns)}.\"\n",
    "                    )\n",
    "\n",
    "                # Reverse the scaling to map back to the original distribution\n",
    "                generated_df = pd.DataFrame(scaler.inverse_transform(sample), columns=numeric_df.columns)\n",
    "                print(generated_df.head())\n"
   ]
  },
  {
   "cell_type": "code",
   "execution_count": null,
   "metadata": {},
   "outputs": [],
   "source": [
    "\n",
    "class Config:\n",
    "    batch_size = 64\n",
    "    epochs = 10\n",
    "    no_cuda = False\n",
    "    no_mps = False\n",
    "    seed = 1\n",
    "    log_interval = 10\n",
    "\n",
    "args = Config()\n",
    "args.cuda = not args.no_cuda and torch.cuda.is_available()\n",
    "use_mps = not args.no_mps and torch.backends.mps.is_available()\n",
    "\n",
    "torch.manual_seed(args.seed)\n",
    "\n",
    "if args.cuda:\n",
    "    device = torch.device(\"cuda\")\n",
    "elif use_mps:\n",
    "    device = torch.device(\"mps\")\n",
    "else:\n",
    "    device = torch.device(\"cpu\")\n",
    "\n"
   ]
  },
  {
   "cell_type": "code",
   "execution_count": null,
   "metadata": {},
   "outputs": [
    {
     "ename": "NameError",
     "evalue": "name 'model' is not defined",
     "output_type": "error",
     "traceback": [
      "\u001b[0;31m---------------------------------------------------------------------------\u001b[0m",
      "\u001b[0;31mNameError\u001b[0m                                 Traceback (most recent call last)",
      "Cell \u001b[0;32mIn[6], line 6\u001b[0m\n\u001b[1;32m      4\u001b[0m sample \u001b[39m=\u001b[39m torch\u001b[39m.\u001b[39mrandn(\u001b[39m64\u001b[39m, \u001b[39m20\u001b[39m)\u001b[39m.\u001b[39mto(device)  \u001b[39m# Adjust latent dimensions\u001b[39;00m\n\u001b[1;32m      5\u001b[0m \u001b[39m# Decode the sample\u001b[39;00m\n\u001b[0;32m----> 6\u001b[0m sample \u001b[39m=\u001b[39m model\u001b[39m.\u001b[39mdecode(sample)\u001b[39m.\u001b[39mcpu()\u001b[39m.\u001b[39mnumpy()  \n\u001b[1;32m      7\u001b[0m \u001b[39m# Validate the shape of the decoded sample\u001b[39;00m\n\u001b[1;32m      8\u001b[0m \u001b[39mif\u001b[39;00m sample\u001b[39m.\u001b[39mshape[\u001b[39m1\u001b[39m] \u001b[39m!=\u001b[39m \u001b[39mlen\u001b[39m(numeric_df\u001b[39m.\u001b[39mcolumns):\n",
      "\u001b[0;31mNameError\u001b[0m: name 'model' is not defined"
     ]
    }
   ],
   "source": [
    "\n",
    "# %%\n",
    "with torch.no_grad():\n",
    "                # Generate a latent sample\n",
    "                sample = torch.randn(64, 20).to(device)  # Adjust latent dimensions\n",
    "                # Decode the sample\n",
    "                sample = model.decode(sample).cpu().numpy()  \n",
    "                # Validate the shape of the decoded sample\n",
    "                if sample.shape[1] != len(numeric_df.columns):\n",
    "                    raise ValueError(\n",
    "                        f\"Shape mismatch: Generated data has {sample.shape[1]} columns, \"\n",
    "                        f\"but expected {len(numeric_df.columns)}.\"\n",
    "                    )\n",
    "\n",
    "                # Reverse the scaling to map back to the original distribution\n",
    "                generated_df = pd.DataFrame(scaler.inverse_transform(sample), columns=numeric_df.columns)\n",
    "                print(generated_df.head())\n",
    "\n"
   ]
  },
  {
   "cell_type": "code",
   "execution_count": null,
   "metadata": {},
   "outputs": [
    {
     "ename": "NameError",
     "evalue": "name 'best_model' is not defined",
     "output_type": "error",
     "traceback": [
      "\u001b[0;31m---------------------------------------------------------------------------\u001b[0m",
      "\u001b[0;31mNameError\u001b[0m                                 Traceback (most recent call last)",
      "Cell \u001b[0;32mIn[7], line 1\u001b[0m\n\u001b[0;32m----> 1\u001b[0m best_model\n",
      "\u001b[0;31mNameError\u001b[0m: name 'best_model' is not defined"
     ]
    }
   ],
   "source": [
    "best_model"
   ]
  },
  {
   "cell_type": "code",
   "execution_count": null,
   "metadata": {},
   "outputs": [
    {
     "data": {
      "text/plain": [
       "__main__.VAE"
      ]
     },
     "execution_count": 8,
     "metadata": {},
     "output_type": "execute_result"
    }
   ],
   "source": [
    "VAE"
   ]
  },
  {
   "cell_type": "code",
   "execution_count": null,
   "metadata": {},
   "outputs": [
    {
     "data": {
      "text/plain": [
       "2.190397477015881"
      ]
     },
     "execution_count": 9,
     "metadata": {},
     "output_type": "execute_result"
    }
   ],
   "source": [
    "df1[\"te_air_scav_rec\"].std()"
   ]
  }
 ],
 "metadata": {
  "kernelspec": {
   "display_name": ".venv",
   "language": "python",
   "name": "python3"
  },
  "language_info": {
   "codemirror_mode": {
    "name": "ipython",
    "version": 3
   },
   "file_extension": ".py",
   "mimetype": "text/x-python",
   "name": "python",
   "nbconvert_exporter": "python",
   "pygments_lexer": "ipython3",
   "version": "3.10.16"
  }
 },
 "nbformat": 4,
 "nbformat_minor": 2
}
